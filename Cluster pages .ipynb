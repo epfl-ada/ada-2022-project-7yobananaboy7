{
 "cells": [
  {
   "cell_type": "code",
   "execution_count": 146,
   "id": "533c09b4",
   "metadata": {},
   "outputs": [
    {
     "name": "stdout",
     "output_type": "stream",
     "text": [
      "The autoreload extension is already loaded. To reload it, use:\n",
      "  %reload_ext autoreload\n"
     ]
    }
   ],
   "source": [
    "from helpers import *\n",
    "import matplotlib.pyplot as plt\n",
    "\n",
    "%load_ext autoreload\n",
    "%autoreload 2"
   ]
  },
  {
   "cell_type": "code",
   "execution_count": 39,
   "id": "5c380363",
   "metadata": {},
   "outputs": [],
   "source": [
    "articles, categories, links, paths_finished, paths_unfinished, paths_all, shortest_path_distance = load_data()\n",
    "G_paths, G_links = get_graphs(paths_all,links)\n",
    "G_paths_finished, _ = get_graphs(paths_finished,links)\n",
    "G_paths_unfinished, _ = get_graphs(paths_unfinished,links)"
   ]
  },
  {
   "cell_type": "code",
   "execution_count": 73,
   "id": "3504aef6",
   "metadata": {},
   "outputs": [
    {
     "data": {
      "text/plain": [
       "[0, 0]"
      ]
     },
     "execution_count": 73,
     "metadata": {},
     "output_type": "execute_result"
    }
   ],
   "source": [
    "def get_in_out_degree(G, page) :\n",
    "    in_deg = G.in_degree(page, 'weight')\n",
    "    in_deg = in_deg if in_deg else 0\n",
    "    out_deg = G.out_degree(page, 'weight')\n",
    "    out_deg = out_deg if out_deg else 0\n",
    "    \n",
    "    return [in_deg, out_deg]\n",
    "get_in_out_degree(G_paths, 'Áedán_mac_Gabráin') "
   ]
  },
  {
   "cell_type": "code",
   "execution_count": 108,
   "id": "b4d3950e",
   "metadata": {},
   "outputs": [],
   "source": [
    "def add_in_out_deg(cat, G):\n",
    "    cat['in_deg'] = cat.article.apply(\n",
    "        lambda art: get_in_out_degree(G, art)[0])\n",
    "    cat['out_deg'] = cat.article.apply(\n",
    "        lambda art: get_in_out_degree(G, art)[1])\n",
    "    return cat\n",
    "\n",
    "def split_cat(cat):\n",
    "    cat['splitted_cat'] = cat.category.apply(lambda x : x.split('.')[1:])\n",
    "    return cat\n",
    "\n",
    "def get_sum_in_out_by_cat(cat):\n",
    "    cat = cat.explode('splitted_cat')\n",
    "    cat = cat.groupby('splitted_cat').apply(lambda x : pd.Series({\n",
    "        'sum_in_deg' : x.in_deg.sum(),\n",
    "        'sum_out_deg' : x.out_deg.sum() \n",
    "    }))\n",
    "    return cat\n",
    "\n",
    "def get_cat_summary(cat, G):\n",
    "    cat=add_in_out_deg(cat, G)\n",
    "    cat = split_cat(cat)\n",
    "    cat = get_sum_in_out_by_cat(cat)\n",
    "    return cat\n",
    "categories_finished = categories.copy()\n",
    "categories_unfinished = categories.copy()\n",
    "\n",
    "categories_finished= get_cat_summary(categories_finished, G_paths_finished)\n",
    "categories_unfinished= get_cat_summary(categories_unfinished, G_paths_unfinished)\n",
    "\n",
    "categories_finished = categories_finished/len(paths_finished)*1000\n",
    "categories_unfinished = categories_unfinished/len(paths_unfinished)*1000\n",
    "\n",
    "categories_finished = categories_finished.rename(columns = {'sum_in_deg'  : 'frac_in_deg_finished',\n",
    "                                                  'sum_out_deg' : 'frac_out_deg_finished'})\n",
    "categories_unfinished = categories_unfinished.rename(columns ={'sum_in_deg'  : 'frac_in_deg_unfinished',\n",
    "                                                  'sum_out_deg' : 'frac_out_deg_unfinished'})"
   ]
  },
  {
   "cell_type": "code",
   "execution_count": 125,
   "id": "6fc910f7",
   "metadata": {},
   "outputs": [],
   "source": [
    "categories_all = categories_finished.join(categories_unfinished)"
   ]
  },
  {
   "cell_type": "code",
   "execution_count": 149,
   "id": "7867f2ea",
   "metadata": {},
   "outputs": [],
   "source": [
    "categories_all['diff_in'] = categories_all.apply(lambda x: \n",
    "            (x.frac_in_deg_finished - x.frac_in_deg_unfinished) , axis = 1)\n",
    "categories_all['diff_out'] = categories_all.apply(lambda x: \n",
    "            (x.frac_out_deg_finished - x.frac_out_deg_unfinished), axis = 1)\n",
    "categories_all['weighted_diff_in'] = categories_all.apply(lambda x: \n",
    "            (x.frac_in_deg_finished - x.frac_in_deg_unfinished) /(x.frac_in_deg_finished + x.frac_in_deg_unfinished), axis = 1)\n",
    "categories_all['weighted_diff_out'] = categories_all.apply(lambda x: \n",
    "            (x.frac_out_deg_finished - x.frac_out_deg_unfinished) /(x.frac_out_deg_finished + x.frac_out_deg_unfinished), axis = 1)"
   ]
  },
  {
   "cell_type": "code",
   "execution_count": 159,
   "id": "f119ad39",
   "metadata": {},
   "outputs": [
    {
     "data": {
      "text/html": [
       "<div>\n",
       "<style scoped>\n",
       "    .dataframe tbody tr th:only-of-type {\n",
       "        vertical-align: middle;\n",
       "    }\n",
       "\n",
       "    .dataframe tbody tr th {\n",
       "        vertical-align: top;\n",
       "    }\n",
       "\n",
       "    .dataframe thead th {\n",
       "        text-align: right;\n",
       "    }\n",
       "</style>\n",
       "<table border=\"1\" class=\"dataframe\">\n",
       "  <thead>\n",
       "    <tr style=\"text-align: right;\">\n",
       "      <th></th>\n",
       "      <th>frac_in_deg_finished</th>\n",
       "      <th>frac_out_deg_finished</th>\n",
       "      <th>frac_in_deg_unfinished</th>\n",
       "      <th>frac_out_deg_unfinished</th>\n",
       "      <th>weighted_diff_in</th>\n",
       "      <th>weighted_diff_out</th>\n",
       "      <th>diff_in</th>\n",
       "      <th>diff_out</th>\n",
       "    </tr>\n",
       "    <tr>\n",
       "      <th>splitted_cat</th>\n",
       "      <th></th>\n",
       "      <th></th>\n",
       "      <th></th>\n",
       "      <th></th>\n",
       "      <th></th>\n",
       "      <th></th>\n",
       "      <th></th>\n",
       "      <th></th>\n",
       "    </tr>\n",
       "  </thead>\n",
       "  <tbody>\n",
       "    <tr>\n",
       "      <th>Actors_models_and_celebrities</th>\n",
       "      <td>3.819323</td>\n",
       "      <td>6.742274</td>\n",
       "      <td>3.618090</td>\n",
       "      <td>5.708543</td>\n",
       "      <td>0.027057</td>\n",
       "      <td>0.083025</td>\n",
       "      <td>0.201232</td>\n",
       "      <td>1.033731</td>\n",
       "    </tr>\n",
       "    <tr>\n",
       "      <th>African_Countries</th>\n",
       "      <td>75.373163</td>\n",
       "      <td>69.137535</td>\n",
       "      <td>46.673367</td>\n",
       "      <td>41.688442</td>\n",
       "      <td>0.235155</td>\n",
       "      <td>0.247677</td>\n",
       "      <td>28.699797</td>\n",
       "      <td>27.449092</td>\n",
       "    </tr>\n",
       "    <tr>\n",
       "      <th>African_Geography</th>\n",
       "      <td>168.206088</td>\n",
       "      <td>163.821661</td>\n",
       "      <td>99.376884</td>\n",
       "      <td>93.829146</td>\n",
       "      <td>0.257226</td>\n",
       "      <td>0.271656</td>\n",
       "      <td>68.829203</td>\n",
       "      <td>69.992515</td>\n",
       "    </tr>\n",
       "    <tr>\n",
       "      <th>Air_and_Sea_transport</th>\n",
       "      <td>13.620952</td>\n",
       "      <td>14.186056</td>\n",
       "      <td>9.728643</td>\n",
       "      <td>12.341709</td>\n",
       "      <td>0.166697</td>\n",
       "      <td>0.069525</td>\n",
       "      <td>3.892308</td>\n",
       "      <td>1.844347</td>\n",
       "    </tr>\n",
       "    <tr>\n",
       "      <th>Ancient_History_Classical_History_and_Mythology</th>\n",
       "      <td>96.769165</td>\n",
       "      <td>96.515842</td>\n",
       "      <td>75.819095</td>\n",
       "      <td>70.231156</td>\n",
       "      <td>0.121388</td>\n",
       "      <td>0.157632</td>\n",
       "      <td>20.950069</td>\n",
       "      <td>26.284687</td>\n",
       "    </tr>\n",
       "  </tbody>\n",
       "</table>\n",
       "</div>"
      ],
      "text/plain": [
       "                                                 frac_in_deg_finished  \\\n",
       "splitted_cat                                                            \n",
       "Actors_models_and_celebrities                                3.819323   \n",
       "African_Countries                                           75.373163   \n",
       "African_Geography                                          168.206088   \n",
       "Air_and_Sea_transport                                       13.620952   \n",
       "Ancient_History_Classical_History_and_Mythology             96.769165   \n",
       "\n",
       "                                                 frac_out_deg_finished  \\\n",
       "splitted_cat                                                             \n",
       "Actors_models_and_celebrities                                 6.742274   \n",
       "African_Countries                                            69.137535   \n",
       "African_Geography                                           163.821661   \n",
       "Air_and_Sea_transport                                        14.186056   \n",
       "Ancient_History_Classical_History_and_Mythology              96.515842   \n",
       "\n",
       "                                                 frac_in_deg_unfinished  \\\n",
       "splitted_cat                                                              \n",
       "Actors_models_and_celebrities                                  3.618090   \n",
       "African_Countries                                             46.673367   \n",
       "African_Geography                                             99.376884   \n",
       "Air_and_Sea_transport                                          9.728643   \n",
       "Ancient_History_Classical_History_and_Mythology               75.819095   \n",
       "\n",
       "                                                 frac_out_deg_unfinished  \\\n",
       "splitted_cat                                                               \n",
       "Actors_models_and_celebrities                                   5.708543   \n",
       "African_Countries                                              41.688442   \n",
       "African_Geography                                              93.829146   \n",
       "Air_and_Sea_transport                                          12.341709   \n",
       "Ancient_History_Classical_History_and_Mythology                70.231156   \n",
       "\n",
       "                                                 weighted_diff_in  \\\n",
       "splitted_cat                                                        \n",
       "Actors_models_and_celebrities                            0.027057   \n",
       "African_Countries                                        0.235155   \n",
       "African_Geography                                        0.257226   \n",
       "Air_and_Sea_transport                                    0.166697   \n",
       "Ancient_History_Classical_History_and_Mythology          0.121388   \n",
       "\n",
       "                                                 weighted_diff_out    diff_in  \\\n",
       "splitted_cat                                                                    \n",
       "Actors_models_and_celebrities                             0.083025   0.201232   \n",
       "African_Countries                                         0.247677  28.699797   \n",
       "African_Geography                                         0.271656  68.829203   \n",
       "Air_and_Sea_transport                                     0.069525   3.892308   \n",
       "Ancient_History_Classical_History_and_Mythology           0.157632  20.950069   \n",
       "\n",
       "                                                  diff_out  \n",
       "splitted_cat                                                \n",
       "Actors_models_and_celebrities                     1.033731  \n",
       "African_Countries                                27.449092  \n",
       "African_Geography                                69.992515  \n",
       "Air_and_Sea_transport                             1.844347  \n",
       "Ancient_History_Classical_History_and_Mythology  26.284687  "
      ]
     },
     "execution_count": 159,
     "metadata": {},
     "output_type": "execute_result"
    }
   ],
   "source": [
    "categories_all.head(5)"
   ]
  },
  {
   "cell_type": "markdown",
   "id": "ceb0149f",
   "metadata": {},
   "source": [
    "## Plots \n",
    "### Histogram of the difference between of node in/out degree between finished and unfineshed graphs\n",
    "Now that we have all the features we needed we can start looking at results. \n",
    "\n",
    "First we plot the difference between of node in/out degree between finished and unfineshed graphs. We can see that there are no concepts where people get more stuck in unfinished paths than in finished. However, we can see that finished paths have concepts where we can go that may bu usefull and help the players find their way.\n",
    "\n",
    "### Histogram of the weighted difference between of node in/out degree between finished and unfineshed graphs\n",
    "However from this it is not really relevent because we have to ~normalize~ the values to see significant relevance \n",
    "\n",
    "From this we can see that there are some concepts that are more used in the unfinished paths that are all related to art/movies/theatre. On the other hand, some concepts like History/chemistry are more used in finished paths \n",
    "\n",
    "### Histogram of the weighted difference between of node in/out degree of big concepts between finished and unfineshed graphs\n",
    "Finally we want to see only the difference in big concepts - concepts that often appear. For this we reduced the concepts we look at to only concepts that have at least   "
   ]
  },
  {
   "cell_type": "code",
   "execution_count": 150,
   "id": "076d2da0",
   "metadata": {},
   "outputs": [
    {
     "data": {
      "text/plain": [
       "<matplotlib.legend.Legend at 0x28130d8ca30>"
      ]
     },
     "execution_count": 150,
     "metadata": {},
     "output_type": "execute_result"
    },
    {
     "data": {
      "image/png": "[encoded data removed]",
      "text/plain": [
       "<Figure size 432x288 with 1 Axes>"
      ]
     },
     "metadata": {
      "needs_background": "light"
     },
     "output_type": "display_data"
    }
   ],
   "source": [
    "categories_all.diff_in.hist(alpha = 0.6, label = 'in_degree').set_title('Histogram of the difference between of node in/out degree between finished and unfineshed graphs')\n",
    "categories_all.diff_out.hist(alpha = 0.6, label = 'out_degree')\n",
    "plt.legend()"
   ]
  },
  {
   "cell_type": "code",
   "execution_count": 148,
   "id": "fe5fdc9f",
   "metadata": {},
   "outputs": [
    {
     "data": {
      "text/plain": [
       "<matplotlib.legend.Legend at 0x28130d1a820>"
      ]
     },
     "execution_count": 148,
     "metadata": {},
     "output_type": "execute_result"
    },
    {
     "data": {
      "image/png": "[encoded data removed]",
      "text/plain": [
       "<Figure size 432x288 with 1 Axes>"
      ]
     },
     "metadata": {
      "needs_background": "light"
     },
     "output_type": "display_data"
    }
   ],
   "source": [
    "categories_all.weighted_diff_in.hist(alpha = 0.6, label = 'in_degree').set_title('Histogram of the weighted difference between of node in/out degree between finished and unfineshed graphs')\n",
    "categories_all.weighted_diff_out.hist(alpha = 0.6, label = 'out_degree')\n",
    "plt.legend()"
   ]
  },
  {
   "cell_type": "code",
   "execution_count": 141,
   "id": "a2db553d",
   "metadata": {},
   "outputs": [
    {
     "data": {
      "text/plain": [
       "splitted_cat\n",
       "Theatre                                 -0.147774\n",
       "Community_organisations                 -0.123478\n",
       "Railway_transport                       -0.105650\n",
       "Cartoons                                -0.096721\n",
       "Producers_directors_and_media_figures   -0.082096\n",
       "Literature_types                        -0.080334\n",
       "Sports                                  -0.080277\n",
       "Television                              -0.072007\n",
       "General_Literature                      -0.067757\n",
       "Films                                   -0.057470\n",
       "Culture_and_Diversity                   -0.048396\n",
       "Sports_events                           -0.034184\n",
       "Name: weighted_diff_in, dtype: float64"
      ]
     },
     "execution_count": 141,
     "metadata": {},
     "output_type": "execute_result"
    }
   ],
   "source": [
    "categories_all[categories_all['weighted_diff_in'] < 0].weighted_diff_in.sort_values()"
   ]
  },
  {
   "cell_type": "code",
   "execution_count": 143,
   "id": "7e7aec20",
   "metadata": {},
   "outputs": [
    {
     "data": {
      "text/plain": [
       "splitted_cat\n",
       "Chemical_compounds                                         0.308955\n",
       "Plants                                                     0.312825\n",
       "Space_Astronomy                                            0.318612\n",
       "Space_transport                                            0.326906\n",
       "Performers_and_composers                                   0.328264\n",
       "Antarctica                                                 0.348450\n",
       "World_War_II                                               0.380511\n",
       "Geography_of_the_Middle_East                               0.383165\n",
       "Political_People                                           0.391383\n",
       "Monarchs_of_Great_Britain                                  0.394168\n",
       "Games                                                      0.395442\n",
       "Middle_Eastern_Countries                                   0.408645\n",
       "Religious_disputes                                         0.413198\n",
       "British_History_1500_and_before_including_Roman_Britain    0.434188\n",
       "Musical_Instruments                                        0.440709\n",
       "Software                                                   0.458326\n",
       "Sports_teams                                               0.459107\n",
       "Chemistry                                                  0.473940\n",
       "Sports_and_games_people                                    0.476161\n",
       "Dinosaurs                                                  0.483003\n",
       "General_Chemistry                                          0.513839\n",
       "Chemical_elements                                          0.527773\n",
       "Musical_Recordings_and_compositions                        0.642136\n",
       "Name: weighted_diff_in, dtype: float64"
      ]
     },
     "execution_count": 143,
     "metadata": {},
     "output_type": "execute_result"
    }
   ],
   "source": [
    "categories_all[categories_all['weighted_diff_in'] > 0.3].weighted_diff_in.sort_values()"
   ]
  },
  {
   "cell_type": "code",
   "execution_count": 158,
   "id": "588f44e0",
   "metadata": {},
   "outputs": [
    {
     "data": {
      "text/plain": [
       "<matplotlib.legend.Legend at 0x28130e85820>"
      ]
     },
     "execution_count": 158,
     "metadata": {},
     "output_type": "execute_result"
    },
    {
     "data": {
      "image/png": "[encoded data removed]",
      "text/plain": [
       "<Figure size 432x288 with 1 Axes>"
      ]
     },
     "metadata": {
      "needs_background": "light"
     },
     "output_type": "display_data"
    }
   ],
   "source": [
    "categories_all[categories_all.frac_in_deg_finished > 100].weighted_diff_in.hist(alpha = 0.6, label = 'in_degree').set_title('Histogram of the weighted difference between of node in/out degree of big concepts between finished and unfineshed graphs')\n",
    "categories_all[categories_all.frac_in_deg_finished > 100].weighted_diff_out.hist(alpha = 0.6, label = 'out_degree')\n",
    "plt.legend()"
   ]
  },
  {
   "cell_type": "code",
   "execution_count": 160,
   "id": "7c42e88a",
   "metadata": {},
   "outputs": [
    {
     "name": "stderr",
     "output_type": "stream",
     "text": [
      "C:\\Users\\mathi\\AppData\\Local\\Temp/ipykernel_17936/3406451549.py:1: UserWarning: Boolean Series key will be reindexed to match DataFrame index.\n",
      "  categories_all[categories_all.frac_in_deg_finished > 100][categories_all['weighted_diff_in'] >0.25].weighted_diff_in.sort_values()\n"
     ]
    },
    {
     "data": {
      "text/plain": [
       "splitted_cat\n",
       "People               0.254341\n",
       "Geography_of_Asia    0.255236\n",
       "African_Geography    0.257226\n",
       "Physics              0.262703\n",
       "British_History      0.272200\n",
       "Engineering          0.273548\n",
       "Space_Astronomy      0.318612\n",
       "Chemistry            0.473940\n",
       "Chemical_elements    0.527773\n",
       "Name: weighted_diff_in, dtype: float64"
      ]
     },
     "execution_count": 160,
     "metadata": {},
     "output_type": "execute_result"
    }
   ],
   "source": [
    "categories_all[categories_all.frac_in_deg_finished > 100][categories_all['weighted_diff_in'] >0.25].weighted_diff_in.sort_values()"
   ]
  },
  {
   "cell_type": "code",
   "execution_count": null,
   "id": "c00e073b",
   "metadata": {},
   "outputs": [],
   "source": []
  }
 ],
 "metadata": {
  "kernelspec": {
   "display_name": "Python 3 (ipykernel)",
   "language": "python",
   "name": "python3"
  },
  "language_info": {
   "codemirror_mode": {
    "name": "ipython",
    "version": 3
   },
   "file_extension": ".py",
   "mimetype": "text/x-python",
   "name": "python",
   "nbconvert_exporter": "python",
   "pygments_lexer": "ipython3",
   "version": "3.9.7"
  }
 },
 "nbformat": 4,
 "nbformat_minor": 5
}
