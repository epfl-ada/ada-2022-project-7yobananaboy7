{
 "cells": [
  {
   "cell_type": "code",
   "execution_count": 146,
   "id": "d51b9ac7",
   "metadata": {},
   "outputs": [
    {
     "name": "stdout",
     "output_type": "stream",
     "text": [
      "The autoreload extension is already loaded. To reload it, use:\n",
      "  %reload_ext autoreload\n"
     ]
    }
   ],
   "source": [
    "from helpers import *\n",
    "import matplotlib.pyplot as plt\n",
    "\n",
    "%load_ext autoreload\n",
    "%autoreload 2"
   ]
  },
  {
   "cell_type": "code",
   "execution_count": 39,
   "id": "09c1931f",
   "metadata": {},
   "outputs": [],
   "source": [
    "articles, categories, links, paths_finished, paths_unfinished, paths_all, shortest_path_distance = load_data()\n",
    "G_paths, G_links = get_graphs(paths_all,links)\n",
    "G_paths_finished, _ = get_graphs(paths_finished,links)\n",
    "G_paths_unfinished, _ = get_graphs(paths_unfinished,links)"
   ]
  },
  {
   "cell_type": "code",
   "execution_count": 192,
   "id": "44061c43",
   "metadata": {},
   "outputs": [
    {
     "data": {
      "text/plain": [
       "(346778, 129295)"
      ]
     },
     "execution_count": 192,
     "metadata": {},
     "output_type": "execute_result"
    }
   ],
   "source": [
    "nb_finished_node_visited = paths_finished.pathLength.sum()\n",
    "nb_unfinished_node_visited = paths_unfinished.pathLength.sum()\n",
    "nb_finished_node_visited, nb_unfinished_node_visited"
   ]
  },
  {
   "cell_type": "code",
   "execution_count": 73,
   "id": "08417910",
   "metadata": {},
   "outputs": [
    {
     "data": {
      "text/plain": [
       "[0, 0]"
      ]
     },
     "execution_count": 73,
     "metadata": {},
     "output_type": "execute_result"
    }
   ],
   "source": [
    "def get_in_out_degree(G, page) :\n",
    "    in_deg = G.in_degree(page, 'weight')\n",
    "    in_deg = in_deg if in_deg else 0\n",
    "    out_deg = G.out_degree(page, 'weight')\n",
    "    out_deg = out_deg if out_deg else 0\n",
    "    \n",
    "    return [in_deg, out_deg]\n",
    "get_in_out_degree(G_paths, 'Áedán_mac_Gabráin') "
   ]
  },
  {
   "cell_type": "code",
   "execution_count": 193,
   "id": "65d355ee",
   "metadata": {},
   "outputs": [],
   "source": [
    "def add_in_out_deg(cat, G):\n",
    "    cat['in_deg'] = cat.article.apply(\n",
    "        lambda art: get_in_out_degree(G, art)[0])\n",
    "    cat['out_deg'] = cat.article.apply(\n",
    "        lambda art: get_in_out_degree(G, art)[1])\n",
    "    return cat\n",
    "\n",
    "def split_cat(cat):\n",
    "    cat['splitted_cat'] = cat.category.apply(lambda x : x.split('.')[1:])\n",
    "    return cat\n",
    "\n",
    "def get_sum_in_out_by_cat(cat):\n",
    "    cat = cat.explode('splitted_cat')\n",
    "    cat = cat.groupby('splitted_cat').apply(lambda x : pd.Series({\n",
    "        'sum_in_deg' : x.in_deg.sum(),\n",
    "        'sum_out_deg' : x.out_deg.sum() \n",
    "    }))\n",
    "    return cat\n",
    "\n",
    "def get_cat_summary(cat, G):\n",
    "    cat=add_in_out_deg(cat, G)\n",
    "    cat = split_cat(cat)\n",
    "    cat = get_sum_in_out_by_cat(cat)\n",
    "    return cat\n",
    "categories_finished = categories.copy()\n",
    "categories_unfinished = categories.copy()\n",
    "\n",
    "categories_finished= get_cat_summary(categories_finished, G_paths_finished)\n",
    "categories_unfinished= get_cat_summary(categories_unfinished, G_paths_unfinished)\n",
    "\n",
    "categories_finished = categories_finished/nb_finished_node_visited*1000\n",
    "categories_unfinished = categories_unfinished/nb_unfinished_node_visited*1000\n",
    "\n",
    "categories_finished = categories_finished.rename(columns = {'sum_in_deg'  : 'frac_in_deg_finished',\n",
    "                                                  'sum_out_deg' : 'frac_out_deg_finished'})\n",
    "categories_unfinished = categories_unfinished.rename(columns ={'sum_in_deg'  : 'frac_in_deg_unfinished',\n",
    "                                                  'sum_out_deg' : 'frac_out_deg_unfinished'})"
   ]
  },
  {
   "cell_type": "code",
   "execution_count": 194,
   "id": "522db3eb",
   "metadata": {},
   "outputs": [],
   "source": [
    "categories_all = categories_finished.join(categories_unfinished)"
   ]
  },
  {
   "cell_type": "code",
   "execution_count": 195,
   "id": "dfb64c0a",
   "metadata": {},
   "outputs": [],
   "source": [
    "categories_all['diff_in'] = categories_all.apply(lambda x: \n",
    "            (x.frac_in_deg_finished - x.frac_in_deg_unfinished) , axis = 1)\n",
    "categories_all['diff_out'] = categories_all.apply(lambda x: \n",
    "            (x.frac_out_deg_finished - x.frac_out_deg_unfinished), axis = 1)\n",
    "categories_all['weighted_diff_in'] = categories_all.apply(lambda x: \n",
    "            (x.frac_in_deg_finished - x.frac_in_deg_unfinished) /(x.frac_in_deg_finished + x.frac_in_deg_unfinished), axis = 1)\n",
    "categories_all['weighted_diff_out'] = categories_all.apply(lambda x: \n",
    "            (x.frac_out_deg_finished - x.frac_out_deg_unfinished) /(x.frac_out_deg_finished + x.frac_out_deg_unfinished), axis = 1)\n",
    "\n",
    "categories_all['diff_finished'] = categories_all.apply(lambda x: \n",
    "            (x.frac_in_deg_finished - x.frac_out_deg_finished) , axis = 1)\n",
    "categories_all['diff_unfinished'] = categories_all.apply(lambda x: \n",
    "            (x.frac_in_deg_finished - x.frac_out_deg_unfinished), axis = 1)\n",
    "categories_all['weighted_diff_finished'] = categories_all.apply(lambda x: \n",
    "            (x.frac_in_deg_finished - x.frac_out_deg_finished)/(x.frac_in_deg_finished + x.frac_out_deg_finished) , axis = 1)\n",
    "categories_all['weighted_diff_unfinished'] = categories_all.apply(lambda x: \n",
    "            (x.frac_in_deg_finished - x.frac_out_deg_unfinished)/(x.frac_in_deg_finished + x.frac_out_deg_finished), axis = 1)"
   ]
  },
  {
   "cell_type": "code",
   "execution_count": 196,
   "id": "44459865",
   "metadata": {},
   "outputs": [
    {
     "data": {
      "text/html": [
       "<div>\n",
       "<style scoped>\n",
       "    .dataframe tbody tr th:only-of-type {\n",
       "        vertical-align: middle;\n",
       "    }\n",
       "\n",
       "    .dataframe tbody tr th {\n",
       "        vertical-align: top;\n",
       "    }\n",
       "\n",
       "    .dataframe thead th {\n",
       "        text-align: right;\n",
       "    }\n",
       "</style>\n",
       "<table border=\"1\" class=\"dataframe\">\n",
       "  <thead>\n",
       "    <tr style=\"text-align: right;\">\n",
       "      <th></th>\n",
       "      <th>frac_in_deg_finished</th>\n",
       "      <th>frac_out_deg_finished</th>\n",
       "      <th>frac_in_deg_unfinished</th>\n",
       "      <th>frac_out_deg_unfinished</th>\n",
       "      <th>diff_in</th>\n",
       "      <th>diff_out</th>\n",
       "      <th>weighted_diff_in</th>\n",
       "      <th>weighted_diff_out</th>\n",
       "      <th>diff_finished</th>\n",
       "      <th>diff_unfinished</th>\n",
       "      <th>weighted_diff_finished</th>\n",
       "      <th>weighted_diff_unfinished</th>\n",
       "    </tr>\n",
       "    <tr>\n",
       "      <th>splitted_cat</th>\n",
       "      <th></th>\n",
       "      <th></th>\n",
       "      <th></th>\n",
       "      <th></th>\n",
       "      <th></th>\n",
       "      <th></th>\n",
       "      <th></th>\n",
       "      <th></th>\n",
       "      <th></th>\n",
       "      <th></th>\n",
       "      <th></th>\n",
       "      <th></th>\n",
       "    </tr>\n",
       "  </thead>\n",
       "  <tbody>\n",
       "    <tr>\n",
       "      <th>Actors_models_and_celebrities</th>\n",
       "      <td>0.565203</td>\n",
       "      <td>0.997756</td>\n",
       "      <td>0.696083</td>\n",
       "      <td>1.098264</td>\n",
       "      <td>-0.130880</td>\n",
       "      <td>-0.100507</td>\n",
       "      <td>-0.103767</td>\n",
       "      <td>-0.047951</td>\n",
       "      <td>-0.432553</td>\n",
       "      <td>-0.533061</td>\n",
       "      <td>-0.276753</td>\n",
       "      <td>-0.341058</td>\n",
       "    </tr>\n",
       "    <tr>\n",
       "      <th>African_Countries</th>\n",
       "      <td>11.154110</td>\n",
       "      <td>10.231330</td>\n",
       "      <td>8.979466</td>\n",
       "      <td>8.020418</td>\n",
       "      <td>2.174645</td>\n",
       "      <td>2.210911</td>\n",
       "      <td>0.108011</td>\n",
       "      <td>0.121134</td>\n",
       "      <td>0.922781</td>\n",
       "      <td>3.133692</td>\n",
       "      <td>0.043150</td>\n",
       "      <td>0.146534</td>\n",
       "    </tr>\n",
       "    <tr>\n",
       "      <th>African_Geography</th>\n",
       "      <td>24.892006</td>\n",
       "      <td>24.243176</td>\n",
       "      <td>19.119069</td>\n",
       "      <td>18.051742</td>\n",
       "      <td>5.772937</td>\n",
       "      <td>6.191434</td>\n",
       "      <td>0.131170</td>\n",
       "      <td>0.146387</td>\n",
       "      <td>0.648830</td>\n",
       "      <td>6.840264</td>\n",
       "      <td>0.013205</td>\n",
       "      <td>0.139213</td>\n",
       "    </tr>\n",
       "    <tr>\n",
       "      <th>Air_and_Sea_transport</th>\n",
       "      <td>2.015699</td>\n",
       "      <td>2.099326</td>\n",
       "      <td>1.871689</td>\n",
       "      <td>2.374415</td>\n",
       "      <td>0.144010</td>\n",
       "      <td>-0.275089</td>\n",
       "      <td>0.037045</td>\n",
       "      <td>-0.061490</td>\n",
       "      <td>-0.083627</td>\n",
       "      <td>-0.358716</td>\n",
       "      <td>-0.020322</td>\n",
       "      <td>-0.087172</td>\n",
       "    </tr>\n",
       "    <tr>\n",
       "      <th>Ancient_History_Classical_History_and_Mythology</th>\n",
       "      <td>14.320401</td>\n",
       "      <td>14.282913</td>\n",
       "      <td>14.586798</td>\n",
       "      <td>13.511737</td>\n",
       "      <td>-0.266397</td>\n",
       "      <td>0.771176</td>\n",
       "      <td>-0.009216</td>\n",
       "      <td>0.027745</td>\n",
       "      <td>0.037488</td>\n",
       "      <td>0.808664</td>\n",
       "      <td>0.001311</td>\n",
       "      <td>0.028272</td>\n",
       "    </tr>\n",
       "  </tbody>\n",
       "</table>\n",
       "</div>"
      ],
      "text/plain": [
       "                                                 frac_in_deg_finished  \\\n",
       "splitted_cat                                                            \n",
       "Actors_models_and_celebrities                                0.565203   \n",
       "African_Countries                                           11.154110   \n",
       "African_Geography                                           24.892006   \n",
       "Air_and_Sea_transport                                        2.015699   \n",
       "Ancient_History_Classical_History_and_Mythology             14.320401   \n",
       "\n",
       "                                                 frac_out_deg_finished  \\\n",
       "splitted_cat                                                             \n",
       "Actors_models_and_celebrities                                 0.997756   \n",
       "African_Countries                                            10.231330   \n",
       "African_Geography                                            24.243176   \n",
       "Air_and_Sea_transport                                         2.099326   \n",
       "Ancient_History_Classical_History_and_Mythology              14.282913   \n",
       "\n",
       "                                                 frac_in_deg_unfinished  \\\n",
       "splitted_cat                                                              \n",
       "Actors_models_and_celebrities                                  0.696083   \n",
       "African_Countries                                              8.979466   \n",
       "African_Geography                                             19.119069   \n",
       "Air_and_Sea_transport                                          1.871689   \n",
       "Ancient_History_Classical_History_and_Mythology               14.586798   \n",
       "\n",
       "                                                 frac_out_deg_unfinished  \\\n",
       "splitted_cat                                                               \n",
       "Actors_models_and_celebrities                                   1.098264   \n",
       "African_Countries                                               8.020418   \n",
       "African_Geography                                              18.051742   \n",
       "Air_and_Sea_transport                                           2.374415   \n",
       "Ancient_History_Classical_History_and_Mythology                13.511737   \n",
       "\n",
       "                                                  diff_in  diff_out  \\\n",
       "splitted_cat                                                          \n",
       "Actors_models_and_celebrities                   -0.130880 -0.100507   \n",
       "African_Countries                                2.174645  2.210911   \n",
       "African_Geography                                5.772937  6.191434   \n",
       "Air_and_Sea_transport                            0.144010 -0.275089   \n",
       "Ancient_History_Classical_History_and_Mythology -0.266397  0.771176   \n",
       "\n",
       "                                                 weighted_diff_in  \\\n",
       "splitted_cat                                                        \n",
       "Actors_models_and_celebrities                           -0.103767   \n",
       "African_Countries                                        0.108011   \n",
       "African_Geography                                        0.131170   \n",
       "Air_and_Sea_transport                                    0.037045   \n",
       "Ancient_History_Classical_History_and_Mythology         -0.009216   \n",
       "\n",
       "                                                 weighted_diff_out  \\\n",
       "splitted_cat                                                         \n",
       "Actors_models_and_celebrities                            -0.047951   \n",
       "African_Countries                                         0.121134   \n",
       "African_Geography                                         0.146387   \n",
       "Air_and_Sea_transport                                    -0.061490   \n",
       "Ancient_History_Classical_History_and_Mythology           0.027745   \n",
       "\n",
       "                                                 diff_finished  \\\n",
       "splitted_cat                                                     \n",
       "Actors_models_and_celebrities                        -0.432553   \n",
       "African_Countries                                     0.922781   \n",
       "African_Geography                                     0.648830   \n",
       "Air_and_Sea_transport                                -0.083627   \n",
       "Ancient_History_Classical_History_and_Mythology       0.037488   \n",
       "\n",
       "                                                 diff_unfinished  \\\n",
       "splitted_cat                                                       \n",
       "Actors_models_and_celebrities                          -0.533061   \n",
       "African_Countries                                       3.133692   \n",
       "African_Geography                                       6.840264   \n",
       "Air_and_Sea_transport                                  -0.358716   \n",
       "Ancient_History_Classical_History_and_Mythology         0.808664   \n",
       "\n",
       "                                                 weighted_diff_finished  \\\n",
       "splitted_cat                                                              \n",
       "Actors_models_and_celebrities                                 -0.276753   \n",
       "African_Countries                                              0.043150   \n",
       "African_Geography                                              0.013205   \n",
       "Air_and_Sea_transport                                         -0.020322   \n",
       "Ancient_History_Classical_History_and_Mythology                0.001311   \n",
       "\n",
       "                                                 weighted_diff_unfinished  \n",
       "splitted_cat                                                               \n",
       "Actors_models_and_celebrities                                   -0.341058  \n",
       "African_Countries                                                0.146534  \n",
       "African_Geography                                                0.139213  \n",
       "Air_and_Sea_transport                                           -0.087172  \n",
       "Ancient_History_Classical_History_and_Mythology                  0.028272  "
      ]
     },
     "execution_count": 196,
     "metadata": {},
     "output_type": "execute_result"
    }
   ],
   "source": [
    "categories_all.head(5)"
   ]
  },
  {
   "cell_type": "markdown",
   "id": "70d318a1",
   "metadata": {},
   "source": [
    "## Difference between of node in/out degree between finished and unfineshed graphs \n",
    "### Histogram of the difference between of node in/out degree between finished and unfineshed graphs\n",
    "Now that we have all the features we needed we can start looking at results. \n",
    "\n",
    "First we plot the difference between of node in/out degree between finished and unfineshed graphs. We can see that there are no concepts where people get more stuck in unfinished paths than in finished. However, we can see that finished paths have concepts where we can go that may bu usefull and help the players find their way.\n"
   ]
  },
  {
   "cell_type": "code",
   "execution_count": 197,
   "id": "a9152ed3",
   "metadata": {},
   "outputs": [
    {
     "data": {
      "text/plain": [
       "<matplotlib.legend.Legend at 0x28130f25bb0>"
      ]
     },
     "execution_count": 197,
     "metadata": {},
     "output_type": "execute_result"
    },
    {
     "data": {
      "image/png": "[encoded data removed]",
      "text/plain": [
       "<Figure size 432x288 with 1 Axes>"
      ]
     },
     "metadata": {
      "needs_background": "light"
     },
     "output_type": "display_data"
    }
   ],
   "source": [
    "categories_all.diff_in.hist(alpha = 0.6, label = 'in_degree').set_title('Histogram of the difference between of node in/out degree between finished and unfineshed graphs')\n",
    "categories_all.diff_out.hist(alpha = 0.6, label = 'out_degree')\n",
    "plt.legend()"
   ]
  },
  {
   "cell_type": "markdown",
   "id": "f0130272",
   "metadata": {},
   "source": [
    "### Histogram of the weighted difference between of node in/out degree between finished and unfineshed graphs\n",
    "However from this it is not really relevent because we have to ~normalize~ the values to see significant relevance \n",
    "\n",
    "From this we can see that there are some concepts that are more used in the unfinished paths that are all related to art/movies/theatre. On the other hand, some concepts like History/chemistry are more used in finished paths.\n"
   ]
  },
  {
   "cell_type": "code",
   "execution_count": 198,
   "id": "de6a9830",
   "metadata": {},
   "outputs": [
    {
     "data": {
      "text/plain": [
       "<matplotlib.legend.Legend at 0x28130cfe5e0>"
      ]
     },
     "execution_count": 198,
     "metadata": {},
     "output_type": "execute_result"
    },
    {
     "data": {
      "image/png": "[encoded data removed]",
      "text/plain": [
       "<Figure size 432x288 with 1 Axes>"
      ]
     },
     "metadata": {
      "needs_background": "light"
     },
     "output_type": "display_data"
    }
   ],
   "source": [
    "categories_all.weighted_diff_in.hist(alpha = 0.6, label = 'in_degree').set_title('Histogram of the weighted difference between of node in/out degree between finished and unfineshed graphs')\n",
    "categories_all.weighted_diff_out.hist(alpha = 0.6, label = 'out_degree')\n",
    "plt.legend()"
   ]
  },
  {
   "cell_type": "code",
   "execution_count": 202,
   "id": "823656cc",
   "metadata": {},
   "outputs": [
    {
     "data": {
      "text/plain": [
       "Index(['Theatre', 'Community_organisations', 'Railway_transport', 'Cartoons',\n",
       "       'Producers_directors_and_media_figures', 'Literature_types', 'Sports',\n",
       "       'Television', 'General_Literature', 'Films', 'Culture_and_Diversity',\n",
       "       'Sports_events'],\n",
       "      dtype='object', name='splitted_cat')"
      ]
     },
     "execution_count": 202,
     "metadata": {},
     "output_type": "execute_result"
    }
   ],
   "source": [
    "categories_all[categories_all['weighted_diff_in'] < -0.15].weighted_diff_in.sort_values().index"
   ]
  },
  {
   "cell_type": "code",
   "execution_count": 203,
   "id": "ae89b4bc",
   "metadata": {},
   "outputs": [
    {
     "data": {
      "text/plain": [
       "Index(['Theatre', 'Community_organisations', 'Railway_transport',\n",
       "       'Producers_directors_and_media_figures', 'Literature_types', 'Sports',\n",
       "       'Television', 'Films', 'Religious_texts', 'Architecture'],\n",
       "      dtype='object', name='splitted_cat')"
      ]
     },
     "execution_count": 203,
     "metadata": {},
     "output_type": "execute_result"
    }
   ],
   "source": [
    "categories_all[categories_all['weighted_diff_out'] < -0.15].weighted_diff_in.sort_values().index"
   ]
  },
  {
   "cell_type": "code",
   "execution_count": 205,
   "id": "a660a729",
   "metadata": {},
   "outputs": [
    {
     "data": {
      "text/plain": [
       "Index(['Musical_Recordings_and_compositions', 'Chemical_elements',\n",
       "       'General_Chemistry', 'Dinosaurs', 'Sports_and_games_people',\n",
       "       'Chemistry', 'Sports_teams', 'Software', 'Musical_Instruments',\n",
       "       'British_History_1500_and_before_including_Roman_Britain'],\n",
       "      dtype='object', name='splitted_cat')"
      ]
     },
     "execution_count": 205,
     "metadata": {},
     "output_type": "execute_result"
    }
   ],
   "source": [
    "categories_all[categories_all['weighted_diff_in'] > 0.3].weighted_diff_in.sort_values(ascending = False).index"
   ]
  },
  {
   "cell_type": "code",
   "execution_count": 207,
   "id": "2fc9ca92",
   "metadata": {},
   "outputs": [
    {
     "data": {
      "text/plain": [
       "Index(['Chemical_elements', 'General_Chemistry', 'Chemistry',\n",
       "       'Middle_Eastern_Countries', 'Monarchs_of_Great_Britain'],\n",
       "      dtype='object', name='splitted_cat')"
      ]
     },
     "execution_count": 207,
     "metadata": {},
     "output_type": "execute_result"
    }
   ],
   "source": [
    "categories_all[categories_all['weighted_diff_out'] > 0.25].weighted_diff_in.sort_values(ascending = False).index"
   ]
  },
  {
   "cell_type": "markdown",
   "id": "922153f2",
   "metadata": {},
   "source": [
    "### Histogram of the weighted difference between of node in/out degree of big concepts between finished and unfineshed graphs\n",
    "Finally we want to see only the difference in big concepts - concepts that often appear. For this we reduced the concepts we look at to only concepts that have at least 100 of in_degree."
   ]
  },
  {
   "cell_type": "code",
   "execution_count": 158,
   "id": "8c987c13",
   "metadata": {},
   "outputs": [
    {
     "data": {
      "text/plain": [
       "<matplotlib.legend.Legend at 0x28130e85820>"
      ]
     },
     "execution_count": 158,
     "metadata": {},
     "output_type": "execute_result"
    },
    {
     "data": {
      "image/png": "[encoded data removed]",
      "text/plain": [
       "<Figure size 432x288 with 1 Axes>"
      ]
     },
     "metadata": {
      "needs_background": "light"
     },
     "output_type": "display_data"
    }
   ],
   "source": [
    "categories_all[categories_all.frac_in_deg_finished > 100].weighted_diff_in.hist(alpha = 0.6, label = 'in_degree').set_title('Histogram of the weighted difference between of node in/out degree of big concepts between finished and unfineshed graphs')\n",
    "categories_all[categories_all.frac_in_deg_finished > 100].weighted_diff_out.hist(alpha = 0.6, label = 'out_degree')\n",
    "plt.legend()"
   ]
  },
  {
   "cell_type": "code",
   "execution_count": 188,
   "id": "092208cf",
   "metadata": {},
   "outputs": [
    {
     "name": "stderr",
     "output_type": "stream",
     "text": [
      "C:\\Users\\mathi\\AppData\\Local\\Temp/ipykernel_17936/2132830584.py:1: UserWarning: Boolean Series key will be reindexed to match DataFrame index.\n",
      "  categories_all[categories_all.frac_in_deg_finished > 100][categories_all['weighted_diff_in'] >0.22].weighted_diff_in.sort_values(ascending = False).index\n"
     ]
    },
    {
     "data": {
      "text/plain": [
       "Index(['Chemical_elements', 'Chemistry', 'Space_Astronomy', 'Engineering',\n",
       "       'British_History', 'Physics', 'African_Geography', 'Geography_of_Asia',\n",
       "       'People', 'Science', 'Asian_Countries'],\n",
       "      dtype='object', name='splitted_cat')"
      ]
     },
     "execution_count": 188,
     "metadata": {},
     "output_type": "execute_result"
    }
   ],
   "source": [
    "categories_all[categories_all.frac_in_deg_finished > 100][categories_all['weighted_diff_in'] >0.22].weighted_diff_in.sort_values(ascending = False).index"
   ]
  },
  {
   "cell_type": "code",
   "execution_count": 189,
   "id": "3ee60f05",
   "metadata": {},
   "outputs": [
    {
     "name": "stderr",
     "output_type": "stream",
     "text": [
      "C:\\Users\\mathi\\AppData\\Local\\Temp/ipykernel_17936/806610313.py:1: UserWarning: Boolean Series key will be reindexed to match DataFrame index.\n",
      "  categories_all[categories_all.frac_in_deg_finished > 100][categories_all['weighted_diff_out'] >0.25].weighted_diff_in.sort_values(ascending = False).index\n"
     ]
    },
    {
     "data": {
      "text/plain": [
       "Index(['Chemical_elements', 'Chemistry', 'British_History',\n",
       "       'African_Geography', 'Geography_of_Asia', 'Asian_Countries',\n",
       "       'European_Geography', 'General_Physics', 'European_Countries'],\n",
       "      dtype='object', name='splitted_cat')"
      ]
     },
     "execution_count": 189,
     "metadata": {},
     "output_type": "execute_result"
    }
   ],
   "source": [
    "categories_all[categories_all.frac_in_deg_finished > 100][categories_all['weighted_diff_out'] >0.25].weighted_diff_in.sort_values(ascending = False).index"
   ]
  },
  {
   "cell_type": "markdown",
   "id": "270c567b",
   "metadata": {},
   "source": [
    "## Look at the difference between in and out degree in finished and unfinished paths \n",
    "diff = in_deg- out_deg. It implies that \n",
    "- if diff is big, it means that we came to this node but then came back to the previous one \n",
    "- if diff is small, it means that we get back and forth from this node not knowing how to escape\n",
    "\n",
    "First, we see that nodes for finished paths are more balanced, which means the go back button was not used much in these concepts, whereas for unfinished paths it is skewed right but also to the left.\n",
    "\n",
    "From this we see that we have both cases with unfinished paths and what is interesting is that the \n",
    "- the node they go to and then come back are the node used more in finished paths like politics/history/chemistry, which means that maybe they don't adopt the good strategy and should have continued in this direction.\n",
    "- The node they cannot escape are the ones related to litterature which are the node used less in finished than in unfinished. So we might conclude that the players should escapte these node as soon as possible."
   ]
  },
  {
   "cell_type": "code",
   "execution_count": 166,
   "id": "db0fd8ef",
   "metadata": {},
   "outputs": [
    {
     "data": {
      "text/plain": [
       "<matplotlib.legend.Legend at 0x28130f988e0>"
      ]
     },
     "execution_count": 166,
     "metadata": {},
     "output_type": "execute_result"
    },
    {
     "data": {
      "image/png": "[encoded data removed]",
      "text/plain": [
       "<Figure size 432x288 with 1 Axes>"
      ]
     },
     "metadata": {
      "needs_background": "light"
     },
     "output_type": "display_data"
    }
   ],
   "source": [
    "categories_all.weighted_diff_finished.hist(alpha = 0.6, label = 'finished').set_title('Histogram of the weighted difference between of node in and node out degree for finished and unfineshed graphs')\n",
    "categories_all.weighted_diff_unfinished.hist(alpha = 0.6, label = 'unfinished')\n",
    "plt.legend()"
   ]
  },
  {
   "cell_type": "code",
   "execution_count": 175,
   "id": "ac0ae619",
   "metadata": {},
   "outputs": [
    {
     "data": {
      "text/plain": [
       "Index(['Antarctica', 'British_History_1500_and_before_including_Roman_Britain',\n",
       "       'Chemical_elements', 'Chemistry', 'Climate_and_the_Weather',\n",
       "       'General_Chemistry', 'Geography_of_the_Middle_East',\n",
       "       'Middle_Eastern_Countries', 'Monarchs_of_Great_Britain',\n",
       "       'Musical_Instruments', 'Political_People', 'Software', 'World_War_II'],\n",
       "      dtype='object', name='splitted_cat')"
      ]
     },
     "execution_count": 175,
     "metadata": {},
     "output_type": "execute_result"
    }
   ],
   "source": [
    "categories_all[categories_all.weighted_diff_unfinished > 0.25].index"
   ]
  },
  {
   "cell_type": "code",
   "execution_count": 174,
   "id": "7af8cef0",
   "metadata": {},
   "outputs": [
    {
     "data": {
      "text/plain": [
       "Index(['Actors_models_and_celebrities', 'Architecture', 'Cartoons',\n",
       "       'General_Literature', 'Literature_types',\n",
       "       'Producers_directors_and_media_figures', 'Railway_transport',\n",
       "       'Theatre'],\n",
       "      dtype='object', name='splitted_cat')"
      ]
     },
     "execution_count": 174,
     "metadata": {},
     "output_type": "execute_result"
    }
   ],
   "source": [
    "categories_all[categories_all.weighted_diff_unfinished < -0.10].index"
   ]
  },
  {
   "cell_type": "code",
   "execution_count": null,
   "id": "b9be06c3",
   "metadata": {},
   "outputs": [],
   "source": []
  }
 ],
 "metadata": {
  "kernelspec": {
   "display_name": "Python 3 (ipykernel)",
   "language": "python",
   "name": "python3"
  },
  "language_info": {
   "codemirror_mode": {
    "name": "ipython",
    "version": 3
   },
   "file_extension": ".py",
   "mimetype": "text/x-python",
   "name": "python",
   "nbconvert_exporter": "python",
   "pygments_lexer": "ipython3",
   "version": "3.9.7"
  }
 },
 "nbformat": 4,
 "nbformat_minor": 5
}
