{
 "cells": [
  {
   "cell_type": "markdown",
   "id": "fadbe764-5593-49c5-8277-450d62087775",
   "metadata": {},
   "source": [
    "## Basic explanation of logistic regression:"
   ]
  },
  {
   "cell_type": "markdown",
   "id": "1a0e1de4-4408-4bbb-a1be-2a34b9b748dd",
   "metadata": {},
   "source": [
    "The logistic regression was fit to a dataset with 18'948 observations to predict the dependent variable \"last_game\". If a value obtained by the logistic regression above 0.5 is obtained it will count as finished path (binary: 1). Below 0.5 it will be predicted as unfinished path (binary: 0). The model consist of 6 parameters from the \"in-game\" as well as the \"between game\".  \n",
    "The p-value for every coefficient tests the null hypothesis that the coefficient is equal to 0. That would mean that the predictor has no effect on the dependent variable. If the p-value is less than 0.05 the null hypothesis can be rejected. In the logistic regression this is the case. That means that every predictor is significantly related to the dependent variable. "
   ]
  },
  {
   "cell_type": "markdown",
   "id": "51fd3131-0db9-447a-9afe-fda2450ce29a",
   "metadata": {},
   "source": [
    "There is no single most important feature in a logistic regression model. All features can contribute to the prediction of the dependent variable. However, the relative importance of each feature can be seen by the magnitude of the coefficient. Larger coefficients generally indicate that a predictor has a stronger effect on the dependend variable. "
   ]
  },
  {
   "cell_type": "markdown",
   "id": "3992ec06-b993-4728-8f67-871ad81abc2f",
   "metadata": {},
   "source": [
    "The predictors \"starting\", \"target\", as well as max_finished_streak have a positive effect on the logistic regression and influence in the direction of finishing a path.\n",
    "- \"max_finished_streak\" is showing the biggest coefficient in the logistic model and is therefore an important factor in predicting the dependend variable. Max_finished_streak contains information about the longest path of finished games in a player's history before the final game. This can lead to the conclusion, that the motivation of the player has an influence on the number of finished games.\n",
    "- \"target\" contains information about the target article of the last game. \n",
    "- \"starting\" contains information about the starting article of the last game."
   ]
  },
  {
   "cell_type": "markdown",
   "id": "eb0f9f84-3630-459f-9241-34e8dfc5548d",
   "metadata": {
    "tags": []
   },
   "source": [
    "The predictors \"history_unfinished_games\", \"chained_unfinished\", as well as \"first_last_time\" have a negative effect on the logistic regression and influence in the direction of an unfinished path:\n",
    "- \"history_unfinished_games\" is showing the biggest negative tendency. A player with a lot of unfinished games in the history is therefore more likely to not finish a game.\n",
    "- \"chained_unfinished\" contains information about how long the chain of unfinished games was before the last game. \n",
    "- \"first_last_time\" has the smallest coefficient of the logistic regression. It indicates wether how many time has past between the first and the last played game. "
   ]
  },
  {
   "cell_type": "markdown",
   "id": "8afbdca5-b88c-4aee-98a1-50e3d174dc48",
   "metadata": {},
   "source": [
    "Conclusion:"
   ]
  },
  {
   "cell_type": "code",
   "execution_count": null,
   "id": "1505722c-4ede-4b7a-b951-ed7c8de4f3a9",
   "metadata": {},
   "outputs": [],
   "source": []
  }
 ],
 "metadata": {
  "kernelspec": {
   "display_name": "Python 3 (ipykernel)",
   "language": "python",
   "name": "python3"
  },
  "language_info": {
   "codemirror_mode": {
    "name": "ipython",
    "version": 3
   },
   "file_extension": ".py",
   "mimetype": "text/x-python",
   "name": "python",
   "nbconvert_exporter": "python",
   "pygments_lexer": "ipython3",
   "version": "3.9.13"
  }
 },
 "nbformat": 4,
 "nbformat_minor": 5
}
