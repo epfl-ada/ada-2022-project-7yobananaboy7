{
 "cells": [
  {
   "cell_type": "code",
   "execution_count": 2,
   "id": "a3196512-1223-48c4-ace6-67e9140e5393",
   "metadata": {},
   "outputs": [],
   "source": [
    "import pandas as pd\n",
    "import os\n",
    "import numpy as np\n",
    "import matplotlib.pyplot as plt\n",
    "\n",
    "from sklearn.linear_model import LogisticRegression\n",
    "from sklearn.model_selection import cross_val_score, cross_val_predict\n",
    "from sklearn.metrics import auc, roc_curve\n",
    "\n",
    "import statsmodels.formula.api as smf"
   ]
  },
  {
   "cell_type": "markdown",
   "id": "d1d4820f-f3fd-4365-8d83-32c7e2245e13",
   "metadata": {},
   "source": [
    "</div>\n",
    "<div class=\"4. Header\" style='background-color:#08135c; border-left: solid #darkblue 4px; border-radius: 4px; padding:0.7em;'>\n",
    "    <span style=\"color:white;\">\n",
    "       <h2>1. Logistic regression</h2>\n",
    "        <h4>Here we perform the logistic regression predicting the labels (<code class='python'>finished</code> or <code class='python'>unfinished</code> based on the features extracted in the \"Between game\" and \"In Game\" analysis.</h4>\n",
    "    </span>\n",
    "</div>\n",
    "</div>"
   ]
  },
  {
   "cell_type": "markdown",
   "id": "cdbe0115-eaa0-459f-95f2-d959a57a8756",
   "metadata": {},
   "source": [
    "</div>\n",
    "<div class=\"1.2 explanation\" style='background-color:#08135c; border-left: solid #darkblue 4px; border-radius: 4px; padding:0.7em;'>\n",
    "    <span style=\"color:white\">\n",
    "       <h3>2.1 Combine features.</h3>\n",
    "    </span>\n",
    "</div>\n",
    "</div>\n",
    "<div class=\"1.1 explanation\" style='background-color:#faefe1; border-left: solid #darkblue 4px; border-radius: 4px; padding:0.7em;'>\n",
    "    <span style=\"color:black\">\n",
    "        First combine all features we have seen so far.\n",
    "    </span>\n",
    "</div>"
   ]
  },
  {
   "cell_type": "code",
   "execution_count": 3,
   "id": "75accce5-d202-4c98-95b8-f974d7240083",
   "metadata": {},
   "outputs": [],
   "source": [
    "#Load features\n",
    "in_game = pd.read_csv(\"data/in_game_features.csv\", encoding = 'utf-8', index_col = 'hashedIpAddress')\n",
    "between_game = pd.read_csv(\"data/between_game_features.csv\", encoding = 'utf-8', index_col = 'hashedIpAddress')\n",
    "\n",
    "#Load labels\n",
    "labels = pd.read_csv(\"data/labels.csv\", encoding = 'utf-8', index_col = 'hashedIpAddress')"
   ]
  },
  {
   "cell_type": "code",
   "execution_count": 4,
   "id": "4c5963a0-5ff4-49de-8057-3564877002c1",
   "metadata": {},
   "outputs": [],
   "source": [
    "#merge all DataFrame's\n",
    "data = in_game.join([between_game, labels])\n",
    "\n",
    "#extract feature matrix\n",
    "features = ['starting', 'target', 'history_unfinished_games', 'chained_unfinished', 'first_last_time', 'max_finished_streak']\n",
    "X = data[features].to_numpy()\n",
    "y = data[['last_game']].to_numpy().flatten()"
   ]
  },
  {
   "cell_type": "code",
   "execution_count": 5,
   "id": "ac8d20b3-bae4-4ebd-8deb-f6e5768fa584",
   "metadata": {},
   "outputs": [
    {
     "data": {
      "text/html": [
       "<div>\n",
       "<style scoped>\n",
       "    .dataframe tbody tr th:only-of-type {\n",
       "        vertical-align: middle;\n",
       "    }\n",
       "\n",
       "    .dataframe tbody tr th {\n",
       "        vertical-align: top;\n",
       "    }\n",
       "\n",
       "    .dataframe thead th {\n",
       "        text-align: right;\n",
       "    }\n",
       "</style>\n",
       "<table border=\"1\" class=\"dataframe\">\n",
       "  <thead>\n",
       "    <tr style=\"text-align: right;\">\n",
       "      <th></th>\n",
       "      <th>starting</th>\n",
       "      <th>target</th>\n",
       "      <th>history_unfinished_games</th>\n",
       "      <th>chained_unfinished</th>\n",
       "      <th>first_last_time</th>\n",
       "      <th>max_finished_streak</th>\n",
       "      <th>last_game</th>\n",
       "    </tr>\n",
       "    <tr>\n",
       "      <th>hashedIpAddress</th>\n",
       "      <th></th>\n",
       "      <th></th>\n",
       "      <th></th>\n",
       "      <th></th>\n",
       "      <th></th>\n",
       "      <th></th>\n",
       "      <th></th>\n",
       "    </tr>\n",
       "  </thead>\n",
       "  <tbody>\n",
       "    <tr>\n",
       "      <th>000386124f307de8</th>\n",
       "      <td>-3.471042</td>\n",
       "      <td>0.733099</td>\n",
       "      <td>-0.232938</td>\n",
       "      <td>-0.336306</td>\n",
       "      <td>-0.110171</td>\n",
       "      <td>-0.019725</td>\n",
       "      <td>0</td>\n",
       "    </tr>\n",
       "    <tr>\n",
       "      <th>0007183207b6008f</th>\n",
       "      <td>-0.227442</td>\n",
       "      <td>1.769132</td>\n",
       "      <td>-0.232938</td>\n",
       "      <td>-0.336306</td>\n",
       "      <td>-0.110488</td>\n",
       "      <td>0.008317</td>\n",
       "      <td>1</td>\n",
       "    </tr>\n",
       "    <tr>\n",
       "      <th>000a09e202e88d10</th>\n",
       "      <td>0.804576</td>\n",
       "      <td>1.116216</td>\n",
       "      <td>-0.232938</td>\n",
       "      <td>-0.336306</td>\n",
       "      <td>-0.110523</td>\n",
       "      <td>-0.047768</td>\n",
       "      <td>1</td>\n",
       "    </tr>\n",
       "    <tr>\n",
       "      <th>000a5bac5b7781ea</th>\n",
       "      <td>-0.978341</td>\n",
       "      <td>-0.375861</td>\n",
       "      <td>-0.232938</td>\n",
       "      <td>-0.336306</td>\n",
       "      <td>-0.110523</td>\n",
       "      <td>-0.047768</td>\n",
       "      <td>1</td>\n",
       "    </tr>\n",
       "  </tbody>\n",
       "</table>\n",
       "</div>"
      ],
      "text/plain": [
       "                  starting    target  history_unfinished_games  \\\n",
       "hashedIpAddress                                                  \n",
       "000386124f307de8 -3.471042  0.733099                 -0.232938   \n",
       "0007183207b6008f -0.227442  1.769132                 -0.232938   \n",
       "000a09e202e88d10  0.804576  1.116216                 -0.232938   \n",
       "000a5bac5b7781ea -0.978341 -0.375861                 -0.232938   \n",
       "\n",
       "                  chained_unfinished  first_last_time  max_finished_streak  \\\n",
       "hashedIpAddress                                                              \n",
       "000386124f307de8           -0.336306        -0.110171            -0.019725   \n",
       "0007183207b6008f           -0.336306        -0.110488             0.008317   \n",
       "000a09e202e88d10           -0.336306        -0.110523            -0.047768   \n",
       "000a5bac5b7781ea           -0.336306        -0.110523            -0.047768   \n",
       "\n",
       "                  last_game  \n",
       "hashedIpAddress              \n",
       "000386124f307de8          0  \n",
       "0007183207b6008f          1  \n",
       "000a09e202e88d10          1  \n",
       "000a5bac5b7781ea          1  "
      ]
     },
     "execution_count": 5,
     "metadata": {},
     "output_type": "execute_result"
    }
   ],
   "source": [
    "#display snippet of data\n",
    "data.head(4)"
   ]
  },
  {
   "cell_type": "markdown",
   "id": "f446aefe-d8cd-43b7-b645-06df53c05b3d",
   "metadata": {},
   "source": [
    "</div>\n",
    "<div class=\"1.2 explanation\" style='background-color:#08135c; border-left: solid #darkblue 4px; border-radius: 4px; padding:0.7em;'>\n",
    "    <span style=\"color:white\">\n",
    "       <h3>2.2 Set up logistic regression model</h3>\n",
    "    </span>\n",
    "</div>\n",
    "</div>\n",
    "<div class=\"1.1 explanation\" style='background-color:#faefe1; border-left: solid #darkblue 4px; border-radius: 4px; padding:0.7em;'>\n",
    "    <span style=\"color:black\">\n",
    "        Now let's initialized the model.\n",
    "    </span>\n",
    "</div>"
   ]
  },
  {
   "cell_type": "code",
   "execution_count": 6,
   "id": "a1c9b1dd-94f0-404c-bd51-9909b00d31f0",
   "metadata": {},
   "outputs": [],
   "source": [
    "logistic = LogisticRegression(solver='lbfgs', random_state=10)"
   ]
  },
  {
   "cell_type": "markdown",
   "id": "6a55ec29-9728-4f25-8686-bfe7db168ede",
   "metadata": {},
   "source": [
    "</div>\n",
    "<div class=\"1.2 explanation\" style='background-color:#08135c; border-left: solid #darkblue 4px; border-radius: 4px; padding:0.7em;'>\n",
    "    <span style=\"color:white\">\n",
    "       <h3>2.3 Assess performance</h3>\n",
    "    </span>\n",
    "</div>\n",
    "</div>\n",
    "<div class=\"1.1 explanation\" style='background-color:#faefe1; border-left: solid #darkblue 4px; border-radius: 4px; padding:0.7em;'>\n",
    "    <span style=\"color:black\">\n",
    "        We will assess the <b>precision</b>, <b>recall</b>, <b>accuracy</b> and <b>f-score</b>.\n",
    "    </span>\n",
    "</div>"
   ]
  },
  {
   "cell_type": "code",
   "execution_count": 9,
   "id": "71313ef5-b079-45c8-854d-3e652cda903f",
   "metadata": {},
   "outputs": [],
   "source": [
    "precision = cross_val_score(logistic, X, y, cv=10, scoring=\"precision\")\n",
    "recall = cross_val_score(logistic, X, y, cv=10, scoring=\"recall\")\n",
    "accuracy = cross_val_score(logistic, X, y, cv=10, scoring=\"accuracy\")\n",
    "f1 = cross_val_score(logistic, X, y, cv=10, scoring=\"f1\")"
   ]
  },
  {
   "cell_type": "code",
   "execution_count": 11,
   "id": "dd87a8bb-61de-4351-84e9-3e5119b62586",
   "metadata": {},
   "outputs": [
    {
     "data": {
      "image/png": "[encoded data removed]",
      "text/plain": [
       "<Figure size 432x288 with 1 Axes>"
      ]
     },
     "metadata": {
      "needs_background": "light"
     },
     "output_type": "display_data"
    }
   ],
   "source": [
    "metrics = ['precision', 'recall', 'accuracy', 'f1']\n",
    "x_pos = np.arange(len(metrics))\n",
    "means = [precision.mean(), recall.mean(), accuracy.mean(), f1.mean()]\n",
    "stds = [precision.std(), recall.std(), accuracy.std(), f1.std()]\n",
    "\n",
    "# Create bar plot\n",
    "fig, ax = plt.subplots()\n",
    "ax.bar(x_pos, means, yerr=stds, align='center', alpha=0.5, ecolor='black', capsize=10)\n",
    "ax.set_ylabel('performance')\n",
    "ax.set_xticks(x_pos)\n",
    "ax.set_xticklabels(metrics)\n",
    "ax.set_title('Logistic regression performance')\n",
    "\n",
    "#Remove spines\n",
    "ax.spines['right'].set_visible(False)\n",
    "ax.spines['top'].set_visible(False)\n",
    "\n",
    "ax.yaxis.grid(True, linewidth=0.2)\n",
    "# Save the figure and show\n",
    "plt.tight_layout()"
   ]
  },
  {
   "cell_type": "code",
   "execution_count": 14,
   "id": "b3d99a2f",
   "metadata": {},
   "outputs": [
    {
     "name": "stdout",
     "output_type": "stream",
     "text": [
      "We have \n",
      " precision : 0.698\n",
      " recall : 0.813\n",
      " accuracy : 0.678 \n",
      " f1 : 0.751\n"
     ]
    }
   ],
   "source": [
    "print(\"We have \\n precision : %.3f\\n recall : %.3f\\n accuracy : %.3f \\n f1 : %.3f\"%(means[0],means[1],means[2],means[3]))"
   ]
  },
  {
   "cell_type": "code",
   "execution_count": 10,
   "id": "48e84e24-4a5b-4775-9b67-3872bfcd1604",
   "metadata": {},
   "outputs": [],
   "source": [
    "# Predict the probabilities with a cross validationn\n",
    "y_pred = cross_val_predict(logistic, X, y, cv=10, method=\"predict_proba\")\n",
    "# Compute the False Positive Rate and True Positive Rate\n",
    "fpr, tpr, _ = roc_curve(y, y_pred[:, 1])\n",
    "# Compute the area under the fpt-tpf curve\n",
    "auc_score = auc(fpr, tpr)"
   ]
  },
  {
   "cell_type": "code",
   "execution_count": 11,
   "id": "36a0e2bd-56e7-4a7e-8092-bfd6c8de9c84",
   "metadata": {},
   "outputs": [
    {
     "data": {
      "image/png": "[encoded data removed]",
      "text/plain": [
       "<Figure size 640x480 with 1 Axes>"
      ]
     },
     "metadata": {},
     "output_type": "display_data"
    }
   ],
   "source": [
    "fig, ax = plt.subplots()\n",
    "\n",
    "ax.plot(fpr, tpr)\n",
    "ax.plot([0, 1], [0, 1],'r--')\n",
    "ax.set_xlabel(\"False Positive Rate\")\n",
    "ax.set_ylabel(\"True Positive Rate\")\n",
    "ax.set_title(\"ROC Curve - Area = {:.5f}\".format(auc_score));\n",
    "ax.spines['right'].set_visible(False)\n",
    "ax.spines['top'].set_visible(False)"
   ]
  },
  {
   "cell_type": "markdown",
   "id": "54d4f728-d63a-4ea8-9609-b85b626e7ed0",
   "metadata": {},
   "source": [
    "</div>\n",
    "<div class=\"1.2 explanation\" style='background-color:#08135c; border-left: solid #darkblue 4px; border-radius: 4px; padding:0.7em;'>\n",
    "    <span style=\"color:white\">\n",
    "       <h3>2.4 Interpretation of the model</h3>\n",
    "    </span>\n",
    "</div>\n",
    "</div>\n",
    "<div class=\"1.1 explanation\" style='background-color:#faefe1; border-left: solid #darkblue 4px; border-radius: 4px; padding:0.7em;'>\n",
    "    <span style=\"color:black\">\n",
    "        Here we interpret the model.\n",
    "    </span>\n",
    "</div>"
   ]
  },
  {
   "cell_type": "code",
   "execution_count": 12,
   "id": "d7abc090-71fd-4fb4-ab66-5e4146b92b9e",
   "metadata": {},
   "outputs": [
    {
     "name": "stdout",
     "output_type": "stream",
     "text": [
      "Optimization terminated successfully.\n",
      "         Current function value: 0.595365\n",
      "         Iterations 8\n",
      "                           Logit Regression Results                           \n",
      "==============================================================================\n",
      "Dep. Variable:              last_game   No. Observations:                18948\n",
      "Model:                          Logit   Df Residuals:                    18941\n",
      "Method:                           MLE   Df Model:                            6\n",
      "Date:                Wed, 21 Dec 2022   Pseudo R-squ.:                  0.1164\n",
      "Time:                        22:09:52   Log-Likelihood:                -11281.\n",
      "converged:                       True   LL-Null:                       -12767.\n",
      "Covariance Type:            nonrobust   LLR p-value:                     0.000\n",
      "============================================================================================\n",
      "                               coef    std err          z      P>|z|      [0.025      0.975]\n",
      "--------------------------------------------------------------------------------------------\n",
      "Intercept                    0.5448      0.018     30.567      0.000       0.510       0.580\n",
      "starting                     0.0837      0.016      5.131      0.000       0.052       0.116\n",
      "target                       0.6519      0.018     36.225      0.000       0.617       0.687\n",
      "history_unfinished_games    -0.4118      0.034    -12.113      0.000      -0.478      -0.345\n",
      "chained_unfinished          -0.2470      0.021    -11.735      0.000      -0.288      -0.206\n",
      "first_last_time             -0.0928      0.020     -4.660      0.000      -0.132      -0.054\n",
      "max_finished_streak          6.6115      0.366     18.054      0.000       5.894       7.329\n",
      "============================================================================================\n"
     ]
    }
   ],
   "source": [
    "mod = smf.logit(formula='last_game ~ starting + target + history_unfinished_games + chained_unfinished + first_last_time + max_finished_streak', data=data)\n",
    "res = mod.fit()\n",
    "print(res.summary())"
   ]
  },
  {
   "cell_type": "markdown",
   "id": "59f7201e-f552-4701-a20c-c5a7f361648a",
   "metadata": {},
   "source": [
    "</div>\n",
    "<div class=\"1.1 explanation\" style='background-color:#faefe1; border-left: solid #darkblue 4px; border-radius: 4px; padding:0.7em;'>\n",
    "    <span style=\"color:black\">\n",
    "        A basic logistic regression with features from an in-game analysis as well as a between-game analysis were analyzed further to predict the dependent variable \"last game\". The logistic predicts if a player is more likeli to finish (binary = 1) or not finish (binary = 0) the last game. The value obtained by the logistic regression is between 0 and 1. If the value is closer to 1, the player is more likely to finish the game. The model was trained on 18'948 observations with 6 predictor variables. The p-value for every coefficient tests the null hypothesis that the coefficient is equal to 0. That would mean that the predictor has no effect on the dependent variable. If the p-value is less than 0.05 the null hypothesis can be rejected. In this logistic regression this is the case. That means that every predictor is significantly related to the dependent variable. There is no single most important feature in a logistic regression model. All features can contribute to the prediction of the dependent variable. However, the relative importance of each feature can be seen by the magnitude of the coefficient. Larger coefficients generally indicate that a predictor has a stronger effect on the dependend variable. \n",
    "        \n",
    "        \n",
    "        \n",
    "The predictors \"starting\", \"target\", as well as \"max_finished_streak\" have a positive effect on the logistic regression and influence in the direction of finishing a path.\n",
    "- \"max_finished_streak\" is showing the biggest coefficient in the logistic model and is therefore an important factor in predicting the dependend variable. Max_finished_streak contains information about the longest path of finished games in a player's history before the final game. This can lead to the conclusion, that the motivation of the player has an influence on the number of finished games.\n",
    "- \"target\" contains information about the target article of the last game. \n",
    "- \"starting\" contains information about the starting article of the last game.\n",
    "\n",
    "        \n",
    "        \n",
    "The predictors \"history_unfinished_games\", \"chained_unfinished\", as well as \"first_last_time\" have a negative effect on the logistic regression and influence in the direction of an unfinished path:\n",
    "- \"history_unfinished_games\" is showing the biggest negative tendency. A player with a lot of unfinished games in the history is therefore more likely to not finish a game.\n",
    "- \"chained_unfinished\" contains information about how long the chain of unfinished games was before the last game. The longer the chain, the more it will contribute that the player will not finish the game. \n",
    "- \"first_last_time\" has the smallest coefficient of the logistic regression. It indicates wether how many time has passed between the first and the last played game. It seems like there is not a big influence if a player played the first time a long time ago. This makes also sense, a player can therefore also have made some breaks in between. But still it seems like the longer away the first time was, the more likeli a player will not finish the game. \n",
    "    </span>\n",
    "</div>"
   ]
  },
  {
   "cell_type": "code",
   "execution_count": null,
   "id": "9f32f2c2-ce3c-41cc-a0fd-1b62b1ecd083",
   "metadata": {},
   "outputs": [],
   "source": []
  }
 ],
 "metadata": {
  "kernelspec": {
   "display_name": "Python 3 (ipykernel)",
   "language": "python",
   "name": "python3"
  },
  "language_info": {
   "codemirror_mode": {
    "name": "ipython",
    "version": 3
   },
   "file_extension": ".py",
   "mimetype": "text/x-python",
   "name": "python",
   "nbconvert_exporter": "python",
   "pygments_lexer": "ipython3",
   "version": "3.9.7"
  }
 },
 "nbformat": 4,
 "nbformat_minor": 5
}
