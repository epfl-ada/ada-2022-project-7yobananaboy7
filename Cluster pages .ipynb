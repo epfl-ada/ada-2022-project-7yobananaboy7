{
 "cells": [
  {
   "cell_type": "code",
   "execution_count": 1,
   "id": "0e4f3e56",
   "metadata": {},
   "outputs": [],
   "source": [
    "from helpers import *\n",
    "import matplotlib.pyplot as plt\n",
    "\n",
    "%load_ext autoreload\n",
    "%autoreload 2"
   ]
  },
  {
   "cell_type": "code",
   "execution_count": 2,
   "id": "983b0374",
   "metadata": {},
   "outputs": [],
   "source": [
    "articles, categories, links, paths_finished, paths_unfinished, paths_all, shortest_path_distance = load_data()\n",
    "G_paths, G_links = get_graphs(paths_all,links)\n",
    "G_paths_finished, _ = get_graphs(paths_finished,links)\n",
    "G_paths_unfinished, _ = get_graphs(paths_unfinished,links)"
   ]
  },
  {
   "cell_type": "code",
   "execution_count": 3,
   "id": "8d451a74",
   "metadata": {},
   "outputs": [
    {
     "data": {
      "text/plain": [
       "(346778, 129295)"
      ]
     },
     "execution_count": 3,
     "metadata": {},
     "output_type": "execute_result"
    }
   ],
   "source": [
    "nb_finished_node_visited = paths_finished.pathLength.sum()\n",
    "nb_unfinished_node_visited = paths_unfinished.pathLength.sum()\n",
    "nb_finished_node_visited, nb_unfinished_node_visited"
   ]
  },
  {
   "cell_type": "code",
   "execution_count": 4,
   "id": "0ff7e956",
   "metadata": {},
   "outputs": [
    {
     "data": {
      "text/plain": [
       "[0, 0]"
      ]
     },
     "execution_count": 4,
     "metadata": {},
     "output_type": "execute_result"
    }
   ],
   "source": [
    "def get_in_out_degree(G, page) :\n",
    "    in_deg = G.in_degree(page, 'weight')\n",
    "    in_deg = in_deg if in_deg else 0\n",
    "    out_deg = G.out_degree(page, 'weight')\n",
    "    out_deg = out_deg if out_deg else 0\n",
    "    \n",
    "    return [in_deg, out_deg]\n",
    "get_in_out_degree(G_paths, 'Áedán_mac_Gabráin') "
   ]
  },
  {
   "cell_type": "code",
   "execution_count": 5,
   "id": "734ceb84",
   "metadata": {},
   "outputs": [],
   "source": [
    "def add_in_out_deg(cat, G):\n",
    "    cat['in_deg'] = cat.article.apply(\n",
    "        lambda art: get_in_out_degree(G, art)[0])\n",
    "    cat['out_deg'] = cat.article.apply(\n",
    "        lambda art: get_in_out_degree(G, art)[1])\n",
    "    cat['mean_in_out_deg'] = (cat['in_deg']+cat['out_deg'])/2\n",
    "    return cat\n",
    "\n",
    "def split_cat(cat):\n",
    "    cat['splitted_cat'] = cat.category.apply(lambda x : x.split('.')[1:])\n",
    "    return cat\n",
    "\n",
    "def get_sum_in_out_by_cat(cat):\n",
    "    cat = cat.explode('splitted_cat')\n",
    "    cat = cat.groupby('splitted_cat').apply(lambda x : pd.Series({\n",
    "        'sum_in_deg' : x.in_deg.sum(),\n",
    "        'sum_out_deg' : x.out_deg.sum(),\n",
    "        'sum_mean_in_out_deg' : x.mean_in_out_deg.sum() \n",
    "    }))\n",
    "    return cat\n",
    "\n",
    "def get_cat_summary(cat, G):\n",
    "    cat = add_in_out_deg(cat, G)\n",
    "    cat = split_cat(cat)\n",
    "    cat = get_sum_in_out_by_cat(cat)\n",
    "    return cat\n",
    "categories_finished = categories.copy()\n",
    "categories_unfinished = categories.copy()\n",
    "\n",
    "categories_finished= get_cat_summary(categories_finished, G_paths_finished)\n",
    "categories_unfinished= get_cat_summary(categories_unfinished, G_paths_unfinished)\n",
    "\n",
    "categories_finished = categories_finished/nb_finished_node_visited*1000\n",
    "categories_unfinished = categories_unfinished/nb_unfinished_node_visited*1000\n",
    "\n",
    "categories_finished = categories_finished.rename(columns = {'sum_in_deg'  : 'frac_in_deg_finished',\n",
    "                                                  'sum_out_deg' : 'frac_out_deg_finished',\n",
    "                                                  'sum_mean_in_out_deg' : 'frac_mean_in_out_deg_finished'})\n",
    "categories_unfinished = categories_unfinished.rename(columns ={'sum_in_deg'  : 'frac_in_deg_unfinished',\n",
    "                                                  'sum_out_deg' : 'frac_out_deg_unfinished',\n",
    "                                                  'sum_mean_in_out_deg' : 'frac_mean_in_out_deg_unfinished'})"
   ]
  },
  {
   "cell_type": "code",
   "execution_count": 6,
   "id": "c3c42c77",
   "metadata": {},
   "outputs": [
    {
     "data": {
      "text/html": [
       "<div>\n",
       "<style scoped>\n",
       "    .dataframe tbody tr th:only-of-type {\n",
       "        vertical-align: middle;\n",
       "    }\n",
       "\n",
       "    .dataframe tbody tr th {\n",
       "        vertical-align: top;\n",
       "    }\n",
       "\n",
       "    .dataframe thead th {\n",
       "        text-align: right;\n",
       "    }\n",
       "</style>\n",
       "<table border=\"1\" class=\"dataframe\">\n",
       "  <thead>\n",
       "    <tr style=\"text-align: right;\">\n",
       "      <th></th>\n",
       "      <th>frac_in_deg_finished</th>\n",
       "      <th>frac_out_deg_finished</th>\n",
       "      <th>frac_mean_in_out_deg_finished</th>\n",
       "    </tr>\n",
       "    <tr>\n",
       "      <th>splitted_cat</th>\n",
       "      <th></th>\n",
       "      <th></th>\n",
       "      <th></th>\n",
       "    </tr>\n",
       "  </thead>\n",
       "  <tbody>\n",
       "    <tr>\n",
       "      <th>Actors_models_and_celebrities</th>\n",
       "      <td>0.565203</td>\n",
       "      <td>0.997756</td>\n",
       "      <td>0.781480</td>\n",
       "    </tr>\n",
       "    <tr>\n",
       "      <th>African_Countries</th>\n",
       "      <td>11.154110</td>\n",
       "      <td>10.231330</td>\n",
       "      <td>10.692720</td>\n",
       "    </tr>\n",
       "    <tr>\n",
       "      <th>African_Geography</th>\n",
       "      <td>24.892006</td>\n",
       "      <td>24.243176</td>\n",
       "      <td>24.567591</td>\n",
       "    </tr>\n",
       "    <tr>\n",
       "      <th>Air_and_Sea_transport</th>\n",
       "      <td>2.015699</td>\n",
       "      <td>2.099326</td>\n",
       "      <td>2.057512</td>\n",
       "    </tr>\n",
       "    <tr>\n",
       "      <th>Ancient_History_Classical_History_and_Mythology</th>\n",
       "      <td>14.320401</td>\n",
       "      <td>14.282913</td>\n",
       "      <td>14.301657</td>\n",
       "    </tr>\n",
       "    <tr>\n",
       "      <th>...</th>\n",
       "      <td>...</td>\n",
       "      <td>...</td>\n",
       "      <td>...</td>\n",
       "    </tr>\n",
       "    <tr>\n",
       "      <th>Theatre</th>\n",
       "      <td>2.707784</td>\n",
       "      <td>5.516498</td>\n",
       "      <td>4.112141</td>\n",
       "    </tr>\n",
       "    <tr>\n",
       "      <th>USA_Presidents</th>\n",
       "      <td>5.017619</td>\n",
       "      <td>3.901632</td>\n",
       "      <td>4.459625</td>\n",
       "    </tr>\n",
       "    <tr>\n",
       "      <th>Websites_and_the_Internet</th>\n",
       "      <td>5.813518</td>\n",
       "      <td>5.943284</td>\n",
       "      <td>5.878401</td>\n",
       "    </tr>\n",
       "    <tr>\n",
       "      <th>World_War_II</th>\n",
       "      <td>4.083304</td>\n",
       "      <td>3.446009</td>\n",
       "      <td>3.764656</td>\n",
       "    </tr>\n",
       "    <tr>\n",
       "      <th>Writers_and_critics</th>\n",
       "      <td>4.138094</td>\n",
       "      <td>4.677344</td>\n",
       "      <td>4.407719</td>\n",
       "    </tr>\n",
       "  </tbody>\n",
       "</table>\n",
       "<p>141 rows × 3 columns</p>\n",
       "</div>"
      ],
      "text/plain": [
       "                                                 frac_in_deg_finished  \\\n",
       "splitted_cat                                                            \n",
       "Actors_models_and_celebrities                                0.565203   \n",
       "African_Countries                                           11.154110   \n",
       "African_Geography                                           24.892006   \n",
       "Air_and_Sea_transport                                        2.015699   \n",
       "Ancient_History_Classical_History_and_Mythology             14.320401   \n",
       "...                                                               ...   \n",
       "Theatre                                                      2.707784   \n",
       "USA_Presidents                                               5.017619   \n",
       "Websites_and_the_Internet                                    5.813518   \n",
       "World_War_II                                                 4.083304   \n",
       "Writers_and_critics                                          4.138094   \n",
       "\n",
       "                                                 frac_out_deg_finished  \\\n",
       "splitted_cat                                                             \n",
       "Actors_models_and_celebrities                                 0.997756   \n",
       "African_Countries                                            10.231330   \n",
       "African_Geography                                            24.243176   \n",
       "Air_and_Sea_transport                                         2.099326   \n",
       "Ancient_History_Classical_History_and_Mythology              14.282913   \n",
       "...                                                                ...   \n",
       "Theatre                                                       5.516498   \n",
       "USA_Presidents                                                3.901632   \n",
       "Websites_and_the_Internet                                     5.943284   \n",
       "World_War_II                                                  3.446009   \n",
       "Writers_and_critics                                           4.677344   \n",
       "\n",
       "                                                 frac_mean_in_out_deg_finished  \n",
       "splitted_cat                                                                    \n",
       "Actors_models_and_celebrities                                         0.781480  \n",
       "African_Countries                                                    10.692720  \n",
       "African_Geography                                                    24.567591  \n",
       "Air_and_Sea_transport                                                 2.057512  \n",
       "Ancient_History_Classical_History_and_Mythology                      14.301657  \n",
       "...                                                                        ...  \n",
       "Theatre                                                               4.112141  \n",
       "USA_Presidents                                                        4.459625  \n",
       "Websites_and_the_Internet                                             5.878401  \n",
       "World_War_II                                                          3.764656  \n",
       "Writers_and_critics                                                   4.407719  \n",
       "\n",
       "[141 rows x 3 columns]"
      ]
     },
     "execution_count": 6,
     "metadata": {},
     "output_type": "execute_result"
    }
   ],
   "source": [
    "categories_finished"
   ]
  },
  {
   "cell_type": "code",
   "execution_count": 7,
   "id": "871e9333",
   "metadata": {},
   "outputs": [],
   "source": [
    "categories_all = categories_finished.join(categories_unfinished)"
   ]
  },
  {
   "cell_type": "code",
   "execution_count": 8,
   "id": "5713a9e1",
   "metadata": {},
   "outputs": [],
   "source": [
    "categories_all['diff_in'] = categories_all.apply(lambda x: \n",
    "            (x.frac_in_deg_finished - x.frac_in_deg_unfinished) , axis = 1)\n",
    "categories_all['diff_out'] = categories_all.apply(lambda x: \n",
    "            (x.frac_out_deg_finished - x.frac_out_deg_unfinished), axis = 1)\n",
    "categories_all['diff_mean_in_out'] = categories_all.apply(lambda x: \n",
    "            (x.frac_mean_in_out_deg_finished - x.frac_mean_in_out_deg_unfinished), axis = 1)\n",
    "categories_all['weighted_diff_in'] = categories_all.apply(lambda x: \n",
    "            (x.frac_in_deg_finished - x.frac_in_deg_unfinished) /(x.frac_in_deg_finished + x.frac_in_deg_unfinished), axis = 1)\n",
    "categories_all['weighted_diff_out'] = categories_all.apply(lambda x: \n",
    "            (x.frac_out_deg_finished - x.frac_out_deg_unfinished) /(x.frac_out_deg_finished + x.frac_out_deg_unfinished), axis = 1)\n",
    "categories_all['weighted_diff_mean_in_out'] = categories_all.apply(lambda x: \n",
    "            (x.frac_mean_in_out_deg_finished - x.frac_mean_in_out_deg_unfinished)/(x.frac_mean_in_out_deg_finished + x.frac_mean_in_out_deg_unfinished), axis = 1)\n",
    "\n",
    "categories_all['diff_finished'] = categories_all.apply(lambda x: \n",
    "            (x.frac_in_deg_finished - x.frac_out_deg_finished) , axis = 1)\n",
    "categories_all['diff_unfinished'] = categories_all.apply(lambda x: \n",
    "            (x.frac_in_deg_finished - x.frac_out_deg_unfinished), axis = 1)\n",
    "categories_all['weighted_diff_finished'] = categories_all.apply(lambda x: \n",
    "            (x.frac_in_deg_finished - x.frac_out_deg_finished)/(x.frac_in_deg_finished + x.frac_out_deg_finished) , axis = 1)\n",
    "categories_all['weighted_diff_unfinished'] = categories_all.apply(lambda x: \n",
    "            (x.frac_in_deg_finished - x.frac_out_deg_unfinished)/(x.frac_in_deg_finished + x.frac_out_deg_finished), axis = 1)"
   ]
  },
  {
   "cell_type": "code",
   "execution_count": 9,
   "id": "78b26d6e",
   "metadata": {},
   "outputs": [
    {
     "data": {
      "text/html": [
       "<div>\n",
       "<style scoped>\n",
       "    .dataframe tbody tr th:only-of-type {\n",
       "        vertical-align: middle;\n",
       "    }\n",
       "\n",
       "    .dataframe tbody tr th {\n",
       "        vertical-align: top;\n",
       "    }\n",
       "\n",
       "    .dataframe thead th {\n",
       "        text-align: right;\n",
       "    }\n",
       "</style>\n",
       "<table border=\"1\" class=\"dataframe\">\n",
       "  <thead>\n",
       "    <tr style=\"text-align: right;\">\n",
       "      <th></th>\n",
       "      <th>frac_in_deg_finished</th>\n",
       "      <th>frac_out_deg_finished</th>\n",
       "      <th>frac_mean_in_out_deg_finished</th>\n",
       "      <th>frac_in_deg_unfinished</th>\n",
       "      <th>frac_out_deg_unfinished</th>\n",
       "      <th>frac_mean_in_out_deg_unfinished</th>\n",
       "      <th>diff_in</th>\n",
       "      <th>diff_out</th>\n",
       "      <th>diff_mean_in_out</th>\n",
       "      <th>weighted_diff_in</th>\n",
       "      <th>weighted_diff_out</th>\n",
       "      <th>weighted_diff_mean_in_out</th>\n",
       "      <th>diff_finished</th>\n",
       "      <th>diff_unfinished</th>\n",
       "      <th>weighted_diff_finished</th>\n",
       "      <th>weighted_diff_unfinished</th>\n",
       "    </tr>\n",
       "    <tr>\n",
       "      <th>splitted_cat</th>\n",
       "      <th></th>\n",
       "      <th></th>\n",
       "      <th></th>\n",
       "      <th></th>\n",
       "      <th></th>\n",
       "      <th></th>\n",
       "      <th></th>\n",
       "      <th></th>\n",
       "      <th></th>\n",
       "      <th></th>\n",
       "      <th></th>\n",
       "      <th></th>\n",
       "      <th></th>\n",
       "      <th></th>\n",
       "      <th></th>\n",
       "      <th></th>\n",
       "    </tr>\n",
       "  </thead>\n",
       "  <tbody>\n",
       "    <tr>\n",
       "      <th>Actors_models_and_celebrities</th>\n",
       "      <td>0.565203</td>\n",
       "      <td>0.997756</td>\n",
       "      <td>0.781480</td>\n",
       "      <td>0.696083</td>\n",
       "      <td>1.098264</td>\n",
       "      <td>0.897173</td>\n",
       "      <td>-0.130880</td>\n",
       "      <td>-0.100507</td>\n",
       "      <td>-0.115693</td>\n",
       "      <td>-0.103767</td>\n",
       "      <td>-0.047951</td>\n",
       "      <td>-0.068920</td>\n",
       "      <td>-0.432553</td>\n",
       "      <td>-0.533061</td>\n",
       "      <td>-0.276753</td>\n",
       "      <td>-0.341058</td>\n",
       "    </tr>\n",
       "    <tr>\n",
       "      <th>African_Countries</th>\n",
       "      <td>11.154110</td>\n",
       "      <td>10.231330</td>\n",
       "      <td>10.692720</td>\n",
       "      <td>8.979466</td>\n",
       "      <td>8.020418</td>\n",
       "      <td>8.499942</td>\n",
       "      <td>2.174645</td>\n",
       "      <td>2.210911</td>\n",
       "      <td>2.192778</td>\n",
       "      <td>0.108011</td>\n",
       "      <td>0.121134</td>\n",
       "      <td>0.114251</td>\n",
       "      <td>0.922781</td>\n",
       "      <td>3.133692</td>\n",
       "      <td>0.043150</td>\n",
       "      <td>0.146534</td>\n",
       "    </tr>\n",
       "    <tr>\n",
       "      <th>African_Geography</th>\n",
       "      <td>24.892006</td>\n",
       "      <td>24.243176</td>\n",
       "      <td>24.567591</td>\n",
       "      <td>19.119069</td>\n",
       "      <td>18.051742</td>\n",
       "      <td>18.585405</td>\n",
       "      <td>5.772937</td>\n",
       "      <td>6.191434</td>\n",
       "      <td>5.982185</td>\n",
       "      <td>0.131170</td>\n",
       "      <td>0.146387</td>\n",
       "      <td>0.138627</td>\n",
       "      <td>0.648830</td>\n",
       "      <td>6.840264</td>\n",
       "      <td>0.013205</td>\n",
       "      <td>0.139213</td>\n",
       "    </tr>\n",
       "    <tr>\n",
       "      <th>Air_and_Sea_transport</th>\n",
       "      <td>2.015699</td>\n",
       "      <td>2.099326</td>\n",
       "      <td>2.057512</td>\n",
       "      <td>1.871689</td>\n",
       "      <td>2.374415</td>\n",
       "      <td>2.123052</td>\n",
       "      <td>0.144010</td>\n",
       "      <td>-0.275089</td>\n",
       "      <td>-0.065540</td>\n",
       "      <td>0.037045</td>\n",
       "      <td>-0.061490</td>\n",
       "      <td>-0.015677</td>\n",
       "      <td>-0.083627</td>\n",
       "      <td>-0.358716</td>\n",
       "      <td>-0.020322</td>\n",
       "      <td>-0.087172</td>\n",
       "    </tr>\n",
       "    <tr>\n",
       "      <th>Ancient_History_Classical_History_and_Mythology</th>\n",
       "      <td>14.320401</td>\n",
       "      <td>14.282913</td>\n",
       "      <td>14.301657</td>\n",
       "      <td>14.586798</td>\n",
       "      <td>13.511737</td>\n",
       "      <td>14.049267</td>\n",
       "      <td>-0.266397</td>\n",
       "      <td>0.771176</td>\n",
       "      <td>0.252390</td>\n",
       "      <td>-0.009216</td>\n",
       "      <td>0.027745</td>\n",
       "      <td>0.008902</td>\n",
       "      <td>0.037488</td>\n",
       "      <td>0.808664</td>\n",
       "      <td>0.001311</td>\n",
       "      <td>0.028272</td>\n",
       "    </tr>\n",
       "  </tbody>\n",
       "</table>\n",
       "</div>"
      ],
      "text/plain": [
       "                                                 frac_in_deg_finished  \\\n",
       "splitted_cat                                                            \n",
       "Actors_models_and_celebrities                                0.565203   \n",
       "African_Countries                                           11.154110   \n",
       "African_Geography                                           24.892006   \n",
       "Air_and_Sea_transport                                        2.015699   \n",
       "Ancient_History_Classical_History_and_Mythology             14.320401   \n",
       "\n",
       "                                                 frac_out_deg_finished  \\\n",
       "splitted_cat                                                             \n",
       "Actors_models_and_celebrities                                 0.997756   \n",
       "African_Countries                                            10.231330   \n",
       "African_Geography                                            24.243176   \n",
       "Air_and_Sea_transport                                         2.099326   \n",
       "Ancient_History_Classical_History_and_Mythology              14.282913   \n",
       "\n",
       "                                                 frac_mean_in_out_deg_finished  \\\n",
       "splitted_cat                                                                     \n",
       "Actors_models_and_celebrities                                         0.781480   \n",
       "African_Countries                                                    10.692720   \n",
       "African_Geography                                                    24.567591   \n",
       "Air_and_Sea_transport                                                 2.057512   \n",
       "Ancient_History_Classical_History_and_Mythology                      14.301657   \n",
       "\n",
       "                                                 frac_in_deg_unfinished  \\\n",
       "splitted_cat                                                              \n",
       "Actors_models_and_celebrities                                  0.696083   \n",
       "African_Countries                                              8.979466   \n",
       "African_Geography                                             19.119069   \n",
       "Air_and_Sea_transport                                          1.871689   \n",
       "Ancient_History_Classical_History_and_Mythology               14.586798   \n",
       "\n",
       "                                                 frac_out_deg_unfinished  \\\n",
       "splitted_cat                                                               \n",
       "Actors_models_and_celebrities                                   1.098264   \n",
       "African_Countries                                               8.020418   \n",
       "African_Geography                                              18.051742   \n",
       "Air_and_Sea_transport                                           2.374415   \n",
       "Ancient_History_Classical_History_and_Mythology                13.511737   \n",
       "\n",
       "                                                 frac_mean_in_out_deg_unfinished  \\\n",
       "splitted_cat                                                                       \n",
       "Actors_models_and_celebrities                                           0.897173   \n",
       "African_Countries                                                       8.499942   \n",
       "African_Geography                                                      18.585405   \n",
       "Air_and_Sea_transport                                                   2.123052   \n",
       "Ancient_History_Classical_History_and_Mythology                        14.049267   \n",
       "\n",
       "                                                  diff_in  diff_out  \\\n",
       "splitted_cat                                                          \n",
       "Actors_models_and_celebrities                   -0.130880 -0.100507   \n",
       "African_Countries                                2.174645  2.210911   \n",
       "African_Geography                                5.772937  6.191434   \n",
       "Air_and_Sea_transport                            0.144010 -0.275089   \n",
       "Ancient_History_Classical_History_and_Mythology -0.266397  0.771176   \n",
       "\n",
       "                                                 diff_mean_in_out  \\\n",
       "splitted_cat                                                        \n",
       "Actors_models_and_celebrities                           -0.115693   \n",
       "African_Countries                                        2.192778   \n",
       "African_Geography                                        5.982185   \n",
       "Air_and_Sea_transport                                   -0.065540   \n",
       "Ancient_History_Classical_History_and_Mythology          0.252390   \n",
       "\n",
       "                                                 weighted_diff_in  \\\n",
       "splitted_cat                                                        \n",
       "Actors_models_and_celebrities                           -0.103767   \n",
       "African_Countries                                        0.108011   \n",
       "African_Geography                                        0.131170   \n",
       "Air_and_Sea_transport                                    0.037045   \n",
       "Ancient_History_Classical_History_and_Mythology         -0.009216   \n",
       "\n",
       "                                                 weighted_diff_out  \\\n",
       "splitted_cat                                                         \n",
       "Actors_models_and_celebrities                            -0.047951   \n",
       "African_Countries                                         0.121134   \n",
       "African_Geography                                         0.146387   \n",
       "Air_and_Sea_transport                                    -0.061490   \n",
       "Ancient_History_Classical_History_and_Mythology           0.027745   \n",
       "\n",
       "                                                 weighted_diff_mean_in_out  \\\n",
       "splitted_cat                                                                 \n",
       "Actors_models_and_celebrities                                    -0.068920   \n",
       "African_Countries                                                 0.114251   \n",
       "African_Geography                                                 0.138627   \n",
       "Air_and_Sea_transport                                            -0.015677   \n",
       "Ancient_History_Classical_History_and_Mythology                   0.008902   \n",
       "\n",
       "                                                 diff_finished  \\\n",
       "splitted_cat                                                     \n",
       "Actors_models_and_celebrities                        -0.432553   \n",
       "African_Countries                                     0.922781   \n",
       "African_Geography                                     0.648830   \n",
       "Air_and_Sea_transport                                -0.083627   \n",
       "Ancient_History_Classical_History_and_Mythology       0.037488   \n",
       "\n",
       "                                                 diff_unfinished  \\\n",
       "splitted_cat                                                       \n",
       "Actors_models_and_celebrities                          -0.533061   \n",
       "African_Countries                                       3.133692   \n",
       "African_Geography                                       6.840264   \n",
       "Air_and_Sea_transport                                  -0.358716   \n",
       "Ancient_History_Classical_History_and_Mythology         0.808664   \n",
       "\n",
       "                                                 weighted_diff_finished  \\\n",
       "splitted_cat                                                              \n",
       "Actors_models_and_celebrities                                 -0.276753   \n",
       "African_Countries                                              0.043150   \n",
       "African_Geography                                              0.013205   \n",
       "Air_and_Sea_transport                                         -0.020322   \n",
       "Ancient_History_Classical_History_and_Mythology                0.001311   \n",
       "\n",
       "                                                 weighted_diff_unfinished  \n",
       "splitted_cat                                                               \n",
       "Actors_models_and_celebrities                                   -0.341058  \n",
       "African_Countries                                                0.146534  \n",
       "African_Geography                                                0.139213  \n",
       "Air_and_Sea_transport                                           -0.087172  \n",
       "Ancient_History_Classical_History_and_Mythology                  0.028272  "
      ]
     },
     "execution_count": 9,
     "metadata": {},
     "output_type": "execute_result"
    }
   ],
   "source": [
    "categories_all.head(5)"
   ]
  },
  {
   "cell_type": "markdown",
   "id": "0f623b53",
   "metadata": {},
   "source": [
    "## Difference between of node in/out degree between finished and unfineshed graphs \n",
    "### Histogram of the difference between of node in/out degree between finished and unfineshed graphs\n",
    "Now that we have all the features we needed we can start looking at results. \n",
    "\n",
    "First we plot the difference between of node in/out degree between finished and unfineshed graphs. We can see that there are no concepts where people get more stuck in unfinished paths than in finished. However, we can see that finished paths have concepts where we can go that may bu usefull and help the players find their way.\n"
   ]
  },
  {
   "cell_type": "code",
   "execution_count": 10,
   "id": "2b185403",
   "metadata": {},
   "outputs": [
    {
     "data": {
      "text/plain": [
       "<matplotlib.legend.Legend at 0x24156cb3ee0>"
      ]
     },
     "execution_count": 10,
     "metadata": {},
     "output_type": "execute_result"
    },
    {
     "data": {
      "image/png": "[encoded data removed]",
      "text/plain": [
       "<Figure size 640x480 with 1 Axes>"
      ]
     },
     "metadata": {},
     "output_type": "display_data"
    }
   ],
   "source": [
    "def get_first_last(n, df, cat):\n",
    "    df_sorted_cat = df[cat].sort_values().index\n",
    "    return df_sorted_cat[-n :][::-1], df_sorted_cat[:n]\n",
    "\n",
    "categories_all.diff_in.hist(alpha = 0.6, label = 'in_degree').set_title('Histogram of the difference between of node in/out degree between finished and unfineshed graphs')\n",
    "categories_all.diff_out.hist(alpha = 0.6, label = 'out_degree')\n",
    "categories_all.diff_mean_in_out.hist(alpha = 0.6, label = 'mean_degree')\n",
    "plt.legend()"
   ]
  },
  {
   "cell_type": "markdown",
   "id": "9b1e97fa",
   "metadata": {},
   "source": [
    "### Histogram of the weighted difference between of node in/out degree between finished and unfineshed graphs\n",
    "However from this it is not really relevent because we have to ~normalize~ the values to see significant relevance \n",
    "\n",
    "From this we can see that there are some concepts that are more used in the unfinished paths that are all related to art/movies/theatre. On the other hand, some concepts like History/chemistry are more used in finished paths.\n"
   ]
  },
  {
   "cell_type": "code",
   "execution_count": 11,
   "id": "86cc99f1",
   "metadata": {},
   "outputs": [
    {
     "data": {
      "text/plain": [
       "<matplotlib.legend.Legend at 0x24156ea3fa0>"
      ]
     },
     "execution_count": 11,
     "metadata": {},
     "output_type": "execute_result"
    },
    {
     "data": {
      "image/png": "[encoded data removed]",
      "text/plain": [
       "<Figure size 640x480 with 1 Axes>"
      ]
     },
     "metadata": {},
     "output_type": "display_data"
    }
   ],
   "source": [
    "categories_all.weighted_diff_in.hist(alpha = 0.2, label = 'in_degree').set_title('Histogram of the weighted difference between of node in/out degree between finished and unfineshed graphs')\n",
    "categories_all.weighted_diff_out.hist(alpha = 0.2, label = 'out_degree')\n",
    "categories_all.weighted_diff_mean_in_out.hist(alpha = 0.8, label = 'out_degree')\n",
    "plt.legend()"
   ]
  },
  {
   "cell_type": "code",
   "execution_count": 12,
   "id": "20a5f5c8",
   "metadata": {},
   "outputs": [
    {
     "data": {
      "text/plain": [
       "(Index(['General_Chemistry', 'Chemical_elements', 'Chemistry', 'Software',\n",
       "        'Middle_Eastern_Countries', 'Dinosaurs', 'Monarchs_of_Great_Britain',\n",
       "        'Musical_Instruments'],\n",
       "       dtype='object', name='splitted_cat'),\n",
       " Index(['Theatre', 'Literature_types', 'Community_organisations',\n",
       "        'Architecture', 'Railway_transport',\n",
       "        'Producers_directors_and_media_figures', 'Sports', 'Films'],\n",
       "       dtype='object', name='splitted_cat'))"
      ]
     },
     "execution_count": 12,
     "metadata": {},
     "output_type": "execute_result"
    }
   ],
   "source": [
    "get_first_last(8, categories_all, 'weighted_diff_mean_in_out')"
   ]
  },
  {
   "cell_type": "markdown",
   "id": "eeec399a",
   "metadata": {},
   "source": [
    "### Histogram of the weighted difference between of node in/out degree of big concepts between finished and unfineshed graphs\n",
    "Finally we want to see only the difference in big concepts - concepts that often appear. For this we reduced the concepts we look at to only concepts that have at least 100 of in_degree."
   ]
  },
  {
   "cell_type": "code",
   "execution_count": 13,
   "id": "10c9dde1",
   "metadata": {},
   "outputs": [
    {
     "data": {
      "text/plain": [
       "<matplotlib.legend.Legend at 0x24156e3b850>"
      ]
     },
     "execution_count": 13,
     "metadata": {},
     "output_type": "execute_result"
    },
    {
     "data": {
      "image/png": "[encoded data removed]",
      "text/plain": [
       "<Figure size 640x480 with 1 Axes>"
      ]
     },
     "metadata": {},
     "output_type": "display_data"
    }
   ],
   "source": [
    "min_deg = 50\n",
    "categories_all[categories_all.frac_mean_in_out_deg_finished > min_deg].weighted_diff_in.hist(alpha = 0.2, label = 'in_degree').set_title('Histogram of the weighted difference between of node in/out degree of big concepts between finished and unfineshed graphs')\n",
    "categories_all[categories_all.frac_mean_in_out_deg_finished > min_deg].weighted_diff_out.hist(alpha = 0.2, label = 'out_degree')\n",
    "categories_all[categories_all.frac_mean_in_out_deg_finished > min_deg].weighted_diff_mean_in_out.hist(alpha = 0.8, label = 'mean_in_out_degree')\n",
    "plt.legend()"
   ]
  },
  {
   "cell_type": "code",
   "execution_count": 14,
   "id": "835046bf",
   "metadata": {},
   "outputs": [
    {
     "name": "stderr",
     "output_type": "stream",
     "text": [
      "C:\\Users\\26553\\AppData\\Local\\Temp\\ipykernel_19892\\3536877378.py:1: UserWarning: Boolean Series key will be reindexed to match DataFrame index.\n",
      "  categories_all[categories_all.frac_mean_in_out_deg_finished > min_deg][categories_all['weighted_diff_mean_in_out'] >0.05].weighted_diff_in.sort_values(ascending = False).index\n"
     ]
    },
    {
     "data": {
      "text/plain": [
       "Index(['Physics', 'Science', 'European_Geography', 'History', 'Geography',\n",
       "       'Countries'],\n",
       "      dtype='object', name='splitted_cat')"
      ]
     },
     "execution_count": 14,
     "metadata": {},
     "output_type": "execute_result"
    }
   ],
   "source": [
    "categories_all[categories_all.frac_mean_in_out_deg_finished > min_deg][categories_all['weighted_diff_mean_in_out'] >0.05].weighted_diff_in.sort_values(ascending = False).index"
   ]
  },
  {
   "cell_type": "code",
   "execution_count": 15,
   "id": "0153cf33",
   "metadata": {},
   "outputs": [
    {
     "name": "stderr",
     "output_type": "stream",
     "text": [
      "C:\\Users\\26553\\AppData\\Local\\Temp\\ipykernel_19892\\4094025566.py:1: UserWarning: Boolean Series key will be reindexed to match DataFrame index.\n",
      "  categories_all[categories_all.frac_mean_in_out_deg_finished > min_deg][categories_all['weighted_diff_mean_in_out'] < -0.015].weighted_diff_in.sort_values(ascending = False).index\n"
     ]
    },
    {
     "data": {
      "text/plain": [
       "Index(['Everyday_life', 'North_American_Geography'], dtype='object', name='splitted_cat')"
      ]
     },
     "execution_count": 15,
     "metadata": {},
     "output_type": "execute_result"
    }
   ],
   "source": [
    "categories_all[categories_all.frac_mean_in_out_deg_finished > min_deg][categories_all['weighted_diff_mean_in_out'] < -0.015].weighted_diff_in.sort_values(ascending = False).index"
   ]
  },
  {
   "cell_type": "markdown",
   "id": "afe68fdf",
   "metadata": {},
   "source": [
    "## Look at the difference between in and out degree in finished and unfinished paths \n",
    "diff = in_deg- out_deg. It implies that \n",
    "- if diff is big, it means that we came to this node but then came back to the previous one \n",
    "- if diff is small, it means that we get back and forth from this node not knowing how to escape\n",
    "\n",
    "First, we see that nodes for finished paths are more balanced, which means the go back button was not used much in these concepts, whereas for unfinished paths it is skewed right but also to the left.\n",
    "\n",
    "From this we see that we have both cases with unfinished paths and what is interesting is that the \n",
    "- the node they go to and then come back are the node used more in finished paths like politics/history/chemistry, which means that maybe they don't adopt the good strategy and should have continued in this direction.\n",
    "- The node they cannot escape are the ones related to litterature which are the node used less in finished than in unfinished. So we might conclude that the players should escapte these node as soon as possible."
   ]
  },
  {
   "cell_type": "code",
   "execution_count": 16,
   "id": "1263318c",
   "metadata": {},
   "outputs": [
    {
     "data": {
      "text/plain": [
       "<matplotlib.legend.Legend at 0x24156d6b130>"
      ]
     },
     "execution_count": 16,
     "metadata": {},
     "output_type": "execute_result"
    },
    {
     "data": {
      "image/png": "[encoded data removed]",
      "text/plain": [
       "<Figure size 640x480 with 1 Axes>"
      ]
     },
     "metadata": {},
     "output_type": "display_data"
    }
   ],
   "source": [
    "categories_all.weighted_diff_finished.hist(alpha = 0.6, label = 'finished').set_title('Histogram of the weighted difference between of node in and node out degree for finished and unfineshed graphs')\n",
    "categories_all.weighted_diff_unfinished.hist(alpha = 0.6, label = 'unfinished')\n",
    "plt.legend()"
   ]
  },
  {
   "cell_type": "code",
   "execution_count": 17,
   "id": "1640f210",
   "metadata": {},
   "outputs": [
    {
     "data": {
      "text/plain": [
       "(Index(['General_Chemistry', 'Chemical_elements',\n",
       "        'British_History_1500_and_before_including_Roman_Britain', 'Chemistry',\n",
       "        'Software', 'Middle_Eastern_Countries', 'Musical_Instruments',\n",
       "        'Monarchs_of_Great_Britain', 'Geography_of_the_Middle_East',\n",
       "        'World_War_II'],\n",
       "       dtype='object', name='splitted_cat'),\n",
       " Index(['Theatre', 'Architecture', 'Literature_types', 'Cartoons',\n",
       "        'Producers_directors_and_media_figures', 'Railway_transport',\n",
       "        'Actors_models_and_celebrities', 'General_Literature', 'Films',\n",
       "        'Television'],\n",
       "       dtype='object', name='splitted_cat'))"
      ]
     },
     "execution_count": 17,
     "metadata": {},
     "output_type": "execute_result"
    }
   ],
   "source": [
    "get_first_last(10, categories_all, 'weighted_diff_unfinished')"
   ]
  },
  {
   "cell_type": "markdown",
   "id": "a26129f6",
   "metadata": {},
   "source": [
    "## Use Bokeh to plot results "
   ]
  },
  {
   "cell_type": "code",
   "execution_count": 18,
   "id": "6c7b5bdc",
   "metadata": {},
   "outputs": [
    {
     "data": {
      "text/html": [
       "<div class=\"bk-root\">\n",
       "        <a href=\"https://bokeh.org\" target=\"_blank\" class=\"bk-logo bk-logo-small bk-logo-notebook\"></a>\n",
       "        <span id=\"1002\">Loading BokehJS ...</span>\n",
       "    </div>\n"
      ]
     },
     "metadata": {},
     "output_type": "display_data"
    },
    {
     "data": {
      "application/javascript": [
       "(function(root) {\n",
       "  function now() {\n",
       "    return new Date();\n",
       "  }\n",
       "\n",
       "  const force = true;\n",
       "\n",
       "  if (typeof root._bokeh_onload_callbacks === \"undefined\" || force === true) {\n",
       "    root._bokeh_onload_callbacks = [];\n",
       "    root._bokeh_is_loading = undefined;\n",
       "  }\n",
       "\n",
       "const JS_MIME_TYPE = 'application/javascript';\n",
       "  const HTML_MIME_TYPE = 'text/html';\n",
       "  const EXEC_MIME_TYPE = 'application/vnd.bokehjs_exec.v0+json';\n",
       "  const CLASS_NAME = 'output_bokeh rendered_html';\n",
       "\n",
       "  /**\n",
       "   * Render data to the DOM node\n",
       "   */\n",
       "  function render(props, node) {\n",
       "    const script = document.createElement(\"script\");\n",
       "    node.appendChild(script);\n",
       "  }\n",
       "\n",
       "  /**\n",
       "   * Handle when an output is cleared or removed\n",
       "   */\n",
       "  function handleClearOutput(event, handle) {\n",
       "    const cell = handle.cell;\n",
       "\n",
       "    const id = cell.output_area._bokeh_element_id;\n",
       "    const server_id = cell.output_area._bokeh_server_id;\n",
       "    // Clean up Bokeh references\n",
       "    if (id != null && id in Bokeh.index) {\n",
       "      Bokeh.index[id].model.document.clear();\n",
       "      delete Bokeh.index[id];\n",
       "    }\n",
       "\n",
       "    if (server_id !== undefined) {\n",
       "      // Clean up Bokeh references\n",
       "      const cmd_clean = \"from bokeh.io.state import curstate; print(curstate().uuid_to_server['\" + server_id + \"'].get_sessions()[0].document.roots[0]._id)\";\n",
       "      cell.notebook.kernel.execute(cmd_clean, {\n",
       "        iopub: {\n",
       "          output: function(msg) {\n",
       "            const id = msg.content.text.trim();\n",
       "            if (id in Bokeh.index) {\n",
       "              Bokeh.index[id].model.document.clear();\n",
       "              delete Bokeh.index[id];\n",
       "            }\n",
       "          }\n",
       "        }\n",
       "      });\n",
       "      // Destroy server and session\n",
       "      const cmd_destroy = \"import bokeh.io.notebook as ion; ion.destroy_server('\" + server_id + \"')\";\n",
       "      cell.notebook.kernel.execute(cmd_destroy);\n",
       "    }\n",
       "  }\n",
       "\n",
       "  /**\n",
       "   * Handle when a new output is added\n",
       "   */\n",
       "  function handleAddOutput(event, handle) {\n",
       "    const output_area = handle.output_area;\n",
       "    const output = handle.output;\n",
       "\n",
       "    // limit handleAddOutput to display_data with EXEC_MIME_TYPE content only\n",
       "    if ((output.output_type != \"display_data\") || (!Object.prototype.hasOwnProperty.call(output.data, EXEC_MIME_TYPE))) {\n",
       "      return\n",
       "    }\n",
       "\n",
       "    const toinsert = output_area.element.find(\".\" + CLASS_NAME.split(' ')[0]);\n",
       "\n",
       "    if (output.metadata[EXEC_MIME_TYPE][\"id\"] !== undefined) {\n",
       "      toinsert[toinsert.length - 1].firstChild.textContent = output.data[JS_MIME_TYPE];\n",
       "      // store reference to embed id on output_area\n",
       "      output_area._bokeh_element_id = output.metadata[EXEC_MIME_TYPE][\"id\"];\n",
       "    }\n",
       "    if (output.metadata[EXEC_MIME_TYPE][\"server_id\"] !== undefined) {\n",
       "      const bk_div = document.createElement(\"div\");\n",
       "      bk_div.innerHTML = output.data[HTML_MIME_TYPE];\n",
       "      const script_attrs = bk_div.children[0].attributes;\n",
       "      for (let i = 0; i < script_attrs.length; i++) {\n",
       "        toinsert[toinsert.length - 1].firstChild.setAttribute(script_attrs[i].name, script_attrs[i].value);\n",
       "        toinsert[toinsert.length - 1].firstChild.textContent = bk_div.children[0].textContent\n",
       "      }\n",
       "      // store reference to server id on output_area\n",
       "      output_area._bokeh_server_id = output.metadata[EXEC_MIME_TYPE][\"server_id\"];\n",
       "    }\n",
       "  }\n",
       "\n",
       "  function register_renderer(events, OutputArea) {\n",
       "\n",
       "    function append_mime(data, metadata, element) {\n",
       "      // create a DOM node to render to\n",
       "      const toinsert = this.create_output_subarea(\n",
       "        metadata,\n",
       "        CLASS_NAME,\n",
       "        EXEC_MIME_TYPE\n",
       "      );\n",
       "      this.keyboard_manager.register_events(toinsert);\n",
       "      // Render to node\n",
       "      const props = {data: data, metadata: metadata[EXEC_MIME_TYPE]};\n",
       "      render(props, toinsert[toinsert.length - 1]);\n",
       "      element.append(toinsert);\n",
       "      return toinsert\n",
       "    }\n",
       "\n",
       "    /* Handle when an output is cleared or removed */\n",
       "    events.on('clear_output.CodeCell', handleClearOutput);\n",
       "    events.on('delete.Cell', handleClearOutput);\n",
       "\n",
       "    /* Handle when a new output is added */\n",
       "    events.on('output_added.OutputArea', handleAddOutput);\n",
       "\n",
       "    /**\n",
       "     * Register the mime type and append_mime function with output_area\n",
       "     */\n",
       "    OutputArea.prototype.register_mime_type(EXEC_MIME_TYPE, append_mime, {\n",
       "      /* Is output safe? */\n",
       "      safe: true,\n",
       "      /* Index of renderer in `output_area.display_order` */\n",
       "      index: 0\n",
       "    });\n",
       "  }\n",
       "\n",
       "  // register the mime type if in Jupyter Notebook environment and previously unregistered\n",
       "  if (root.Jupyter !== undefined) {\n",
       "    const events = require('base/js/events');\n",
       "    const OutputArea = require('notebook/js/outputarea').OutputArea;\n",
       "\n",
       "    if (OutputArea.prototype.mime_types().indexOf(EXEC_MIME_TYPE) == -1) {\n",
       "      register_renderer(events, OutputArea);\n",
       "    }\n",
       "  }\n",
       "  if (typeof (root._bokeh_timeout) === \"undefined\" || force === true) {\n",
       "    root._bokeh_timeout = Date.now() + 5000;\n",
       "    root._bokeh_failed_load = false;\n",
       "  }\n",
       "\n",
       "  const NB_LOAD_WARNING = {'data': {'text/html':\n",
       "     \"<div style='background-color: #fdd'>\\n\"+\n",
       "     \"<p>\\n\"+\n",
       "     \"BokehJS does not appear to have successfully loaded. If loading BokehJS from CDN, this \\n\"+\n",
       "     \"may be due to a slow or bad network connection. Possible fixes:\\n\"+\n",
       "     \"</p>\\n\"+\n",
       "     \"<ul>\\n\"+\n",
       "     \"<li>re-rerun `output_notebook()` to attempt to load from CDN again, or</li>\\n\"+\n",
       "     \"<li>use INLINE resources instead, as so:</li>\\n\"+\n",
       "     \"</ul>\\n\"+\n",
       "     \"<code>\\n\"+\n",
       "     \"from bokeh.resources import INLINE\\n\"+\n",
       "     \"output_notebook(resources=INLINE)\\n\"+\n",
       "     \"</code>\\n\"+\n",
       "     \"</div>\"}};\n",
       "\n",
       "  function display_loaded() {\n",
       "    const el = document.getElementById(\"1002\");\n",
       "    if (el != null) {\n",
       "      el.textContent = \"BokehJS is loading...\";\n",
       "    }\n",
       "    if (root.Bokeh !== undefined) {\n",
       "      if (el != null) {\n",
       "        el.textContent = \"BokehJS \" + root.Bokeh.version + \" successfully loaded.\";\n",
       "      }\n",
       "    } else if (Date.now() < root._bokeh_timeout) {\n",
       "      setTimeout(display_loaded, 100)\n",
       "    }\n",
       "  }\n",
       "\n",
       "  function run_callbacks() {\n",
       "    try {\n",
       "      root._bokeh_onload_callbacks.forEach(function(callback) {\n",
       "        if (callback != null)\n",
       "          callback();\n",
       "      });\n",
       "    } finally {\n",
       "      delete root._bokeh_onload_callbacks\n",
       "    }\n",
       "    console.debug(\"Bokeh: all callbacks have finished\");\n",
       "  }\n",
       "\n",
       "  function load_libs(css_urls, js_urls, callback) {\n",
       "    if (css_urls == null) css_urls = [];\n",
       "    if (js_urls == null) js_urls = [];\n",
       "\n",
       "    root._bokeh_onload_callbacks.push(callback);\n",
       "    if (root._bokeh_is_loading > 0) {\n",
       "      console.debug(\"Bokeh: BokehJS is being loaded, scheduling callback at\", now());\n",
       "      return null;\n",
       "    }\n",
       "    if (js_urls == null || js_urls.length === 0) {\n",
       "      run_callbacks();\n",
       "      return null;\n",
       "    }\n",
       "    console.debug(\"Bokeh: BokehJS not loaded, scheduling load and callback at\", now());\n",
       "    root._bokeh_is_loading = css_urls.length + js_urls.length;\n",
       "\n",
       "    function on_load() {\n",
       "      root._bokeh_is_loading--;\n",
       "      if (root._bokeh_is_loading === 0) {\n",
       "        console.debug(\"Bokeh: all BokehJS libraries/stylesheets loaded\");\n",
       "        run_callbacks()\n",
       "      }\n",
       "    }\n",
       "\n",
       "    function on_error(url) {\n",
       "      console.error(\"failed to load \" + url);\n",
       "    }\n",
       "\n",
       "    for (let i = 0; i < css_urls.length; i++) {\n",
       "      const url = css_urls[i];\n",
       "      const element = document.createElement(\"link\");\n",
       "      element.onload = on_load;\n",
       "      element.onerror = on_error.bind(null, url);\n",
       "      element.rel = \"stylesheet\";\n",
       "      element.type = \"text/css\";\n",
       "      element.href = url;\n",
       "      console.debug(\"Bokeh: injecting link tag for BokehJS stylesheet: \", url);\n",
       "      document.body.appendChild(element);\n",
       "    }\n",
       "\n",
       "    for (let i = 0; i < js_urls.length; i++) {\n",
       "      const url = js_urls[i];\n",
       "      const element = document.createElement('script');\n",
       "      element.onload = on_load;\n",
       "      element.onerror = on_error.bind(null, url);\n",
       "      element.async = false;\n",
       "      element.src = url;\n",
       "      console.debug(\"Bokeh: injecting script tag for BokehJS library: \", url);\n",
       "      document.head.appendChild(element);\n",
       "    }\n",
       "  };\n",
       "\n",
       "  function inject_raw_css(css) {\n",
       "    const element = document.createElement(\"style\");\n",
       "    element.appendChild(document.createTextNode(css));\n",
       "    document.body.appendChild(element);\n",
       "  }\n",
       "\n",
       "  const js_urls = [\"https://cdn.bokeh.org/bokeh/release/bokeh-2.4.3.min.js\", \"https://cdn.bokeh.org/bokeh/release/bokeh-gl-2.4.3.min.js\", \"https://cdn.bokeh.org/bokeh/release/bokeh-widgets-2.4.3.min.js\", \"https://cdn.bokeh.org/bokeh/release/bokeh-tables-2.4.3.min.js\", \"https://cdn.bokeh.org/bokeh/release/bokeh-mathjax-2.4.3.min.js\"];\n",
       "  const css_urls = [];\n",
       "\n",
       "  const inline_js = [    function(Bokeh) {\n",
       "      Bokeh.set_log_level(\"info\");\n",
       "    },\n",
       "function(Bokeh) {\n",
       "    }\n",
       "  ];\n",
       "\n",
       "  function run_inline_js() {\n",
       "    if (root.Bokeh !== undefined || force === true) {\n",
       "          for (let i = 0; i < inline_js.length; i++) {\n",
       "      inline_js[i].call(root, root.Bokeh);\n",
       "    }\n",
       "if (force === true) {\n",
       "        display_loaded();\n",
       "      }} else if (Date.now() < root._bokeh_timeout) {\n",
       "      setTimeout(run_inline_js, 100);\n",
       "    } else if (!root._bokeh_failed_load) {\n",
       "      console.log(\"Bokeh: BokehJS failed to load within specified timeout.\");\n",
       "      root._bokeh_failed_load = true;\n",
       "    } else if (force !== true) {\n",
       "      const cell = $(document.getElementById(\"1002\")).parents('.cell').data().cell;\n",
       "      cell.output_area.append_execute_result(NB_LOAD_WARNING)\n",
       "    }\n",
       "  }\n",
       "\n",
       "  if (root._bokeh_is_loading === 0) {\n",
       "    console.debug(\"Bokeh: BokehJS loaded, going straight to plotting\");\n",
       "    run_inline_js();\n",
       "  } else {\n",
       "    load_libs(css_urls, js_urls, function() {\n",
       "      console.debug(\"Bokeh: BokehJS plotting callback run at\", now());\n",
       "      run_inline_js();\n",
       "    });\n",
       "  }\n",
       "}(window));"
      ],
      "application/vnd.bokehjs_load.v0+json": "(function(root) {\n  function now() {\n    return new Date();\n  }\n\n  const force = true;\n\n  if (typeof root._bokeh_onload_callbacks === \"undefined\" || force === true) {\n    root._bokeh_onload_callbacks = [];\n    root._bokeh_is_loading = undefined;\n  }\n\n\n  if (typeof (root._bokeh_timeout) === \"undefined\" || force === true) {\n    root._bokeh_timeout = Date.now() + 5000;\n    root._bokeh_failed_load = false;\n  }\n\n  const NB_LOAD_WARNING = {'data': {'text/html':\n     \"<div style='background-color: #fdd'>\\n\"+\n     \"<p>\\n\"+\n     \"BokehJS does not appear to have successfully loaded. If loading BokehJS from CDN, this \\n\"+\n     \"may be due to a slow or bad network connection. Possible fixes:\\n\"+\n     \"</p>\\n\"+\n     \"<ul>\\n\"+\n     \"<li>re-rerun `output_notebook()` to attempt to load from CDN again, or</li>\\n\"+\n     \"<li>use INLINE resources instead, as so:</li>\\n\"+\n     \"</ul>\\n\"+\n     \"<code>\\n\"+\n     \"from bokeh.resources import INLINE\\n\"+\n     \"output_notebook(resources=INLINE)\\n\"+\n     \"</code>\\n\"+\n     \"</div>\"}};\n\n  function display_loaded() {\n    const el = document.getElementById(\"1002\");\n    if (el != null) {\n      el.textContent = \"BokehJS is loading...\";\n    }\n    if (root.Bokeh !== undefined) {\n      if (el != null) {\n        el.textContent = \"BokehJS \" + root.Bokeh.version + \" successfully loaded.\";\n      }\n    } else if (Date.now() < root._bokeh_timeout) {\n      setTimeout(display_loaded, 100)\n    }\n  }\n\n  function run_callbacks() {\n    try {\n      root._bokeh_onload_callbacks.forEach(function(callback) {\n        if (callback != null)\n          callback();\n      });\n    } finally {\n      delete root._bokeh_onload_callbacks\n    }\n    console.debug(\"Bokeh: all callbacks have finished\");\n  }\n\n  function load_libs(css_urls, js_urls, callback) {\n    if (css_urls == null) css_urls = [];\n    if (js_urls == null) js_urls = [];\n\n    root._bokeh_onload_callbacks.push(callback);\n    if (root._bokeh_is_loading > 0) {\n      console.debug(\"Bokeh: BokehJS is being loaded, scheduling callback at\", now());\n      return null;\n    }\n    if (js_urls == null || js_urls.length === 0) {\n      run_callbacks();\n      return null;\n    }\n    console.debug(\"Bokeh: BokehJS not loaded, scheduling load and callback at\", now());\n    root._bokeh_is_loading = css_urls.length + js_urls.length;\n\n    function on_load() {\n      root._bokeh_is_loading--;\n      if (root._bokeh_is_loading === 0) {\n        console.debug(\"Bokeh: all BokehJS libraries/stylesheets loaded\");\n        run_callbacks()\n      }\n    }\n\n    function on_error(url) {\n      console.error(\"failed to load \" + url);\n    }\n\n    for (let i = 0; i < css_urls.length; i++) {\n      const url = css_urls[i];\n      const element = document.createElement(\"link\");\n      element.onload = on_load;\n      element.onerror = on_error.bind(null, url);\n      element.rel = \"stylesheet\";\n      element.type = \"text/css\";\n      element.href = url;\n      console.debug(\"Bokeh: injecting link tag for BokehJS stylesheet: \", url);\n      document.body.appendChild(element);\n    }\n\n    for (let i = 0; i < js_urls.length; i++) {\n      const url = js_urls[i];\n      const element = document.createElement('script');\n      element.onload = on_load;\n      element.onerror = on_error.bind(null, url);\n      element.async = false;\n      element.src = url;\n      console.debug(\"Bokeh: injecting script tag for BokehJS library: \", url);\n      document.head.appendChild(element);\n    }\n  };\n\n  function inject_raw_css(css) {\n    const element = document.createElement(\"style\");\n    element.appendChild(document.createTextNode(css));\n    document.body.appendChild(element);\n  }\n\n  const js_urls = [\"https://cdn.bokeh.org/bokeh/release/bokeh-2.4.3.min.js\", \"https://cdn.bokeh.org/bokeh/release/bokeh-gl-2.4.3.min.js\", \"https://cdn.bokeh.org/bokeh/release/bokeh-widgets-2.4.3.min.js\", \"https://cdn.bokeh.org/bokeh/release/bokeh-tables-2.4.3.min.js\", \"https://cdn.bokeh.org/bokeh/release/bokeh-mathjax-2.4.3.min.js\"];\n  const css_urls = [];\n\n  const inline_js = [    function(Bokeh) {\n      Bokeh.set_log_level(\"info\");\n    },\nfunction(Bokeh) {\n    }\n  ];\n\n  function run_inline_js() {\n    if (root.Bokeh !== undefined || force === true) {\n          for (let i = 0; i < inline_js.length; i++) {\n      inline_js[i].call(root, root.Bokeh);\n    }\nif (force === true) {\n        display_loaded();\n      }} else if (Date.now() < root._bokeh_timeout) {\n      setTimeout(run_inline_js, 100);\n    } else if (!root._bokeh_failed_load) {\n      console.log(\"Bokeh: BokehJS failed to load within specified timeout.\");\n      root._bokeh_failed_load = true;\n    } else if (force !== true) {\n      const cell = $(document.getElementById(\"1002\")).parents('.cell').data().cell;\n      cell.output_area.append_execute_result(NB_LOAD_WARNING)\n    }\n  }\n\n  if (root._bokeh_is_loading === 0) {\n    console.debug(\"Bokeh: BokehJS loaded, going straight to plotting\");\n    run_inline_js();\n  } else {\n    load_libs(css_urls, js_urls, function() {\n      console.debug(\"Bokeh: BokehJS plotting callback run at\", now());\n      run_inline_js();\n    });\n  }\n}(window));"
     },
     "metadata": {},
     "output_type": "display_data"
    }
   ],
   "source": [
    "from bokeh.io import show, output_notebook\n",
    "from bokeh.plotting import figure, ColumnDataSource\n",
    "from bokeh.models import HoverTool, ResetTool, PanTool, WheelZoomTool, SaveTool, ColorBar, ColorMapper,Range1d\n",
    "output_notebook()\n",
    "def get_color(x):\n",
    "    if x.weighted_diff_mean_in_out < -0.3 or x.weighted_diff_unfinished < -0.3 :\n",
    "        return 'red'\n",
    "    elif x.weighted_diff_mean_in_out > 0.3 or x.weighted_diff_unfinished > 0.3 :\n",
    "        return 'green'\n",
    "    else :\n",
    "        return 'blue'"
   ]
  },
  {
   "cell_type": "code",
   "execution_count": 19,
   "id": "b5debd7d",
   "metadata": {},
   "outputs": [
    {
     "data": {
      "text/html": [
       "\n",
       "  <div class=\"bk-root\" id=\"d2325057-7764-4441-827e-514ebe211c88\" data-root-id=\"1008\"></div>\n"
      ]
     },
     "metadata": {},
     "output_type": "display_data"
    },
    {
     "data": {
      "application/javascript": [
       "(function(root) {\n",
       "  function embed_document(root) {\n",
       "  const docs_json = {\"f0bbd72b-a9c9-48bb-97bd-a484f26e4694\":{\"defs\":[],\"roots\":{\"references\":[{\"attributes\":{\"below\":[{\"id\":\"1019\"}],\"center\":[{\"id\":\"1022\"},{\"id\":\"1026\"}],\"height\":360,\"left\":[{\"id\":\"1023\"}],\"renderers\":[{\"id\":\"1040\"}],\"title\":{\"id\":\"1009\"},\"toolbar\":{\"id\":\"1027\"},\"width\":760,\"x_range\":{\"id\":\"1033\"},\"x_scale\":{\"id\":\"1015\"},\"y_range\":{\"id\":\"1034\"},\"y_scale\":{\"id\":\"1017\"}},\"id\":\"1008\",\"subtype\":\"Figure\",\"type\":\"Plot\"},{\"attributes\":{\"start\":-1},\"id\":\"1033\",\"type\":\"Range1d\"},{\"attributes\":{},\"id\":\"1045\",\"type\":\"AllLabels\"},{\"attributes\":{},\"id\":\"1049\",\"type\":\"UnionRenderers\"},{\"attributes\":{},\"id\":\"1050\",\"type\":\"Selection\"},{\"attributes\":{\"coordinates\":null,\"data_source\":{\"id\":\"1035\"},\"glyph\":{\"id\":\"1037\"},\"group\":null,\"hover_glyph\":null,\"muted_glyph\":{\"id\":\"1039\"},\"nonselection_glyph\":{\"id\":\"1038\"},\"view\":{\"id\":\"1041\"}},\"id\":\"1040\",\"type\":\"GlyphRenderer\"},{\"attributes\":{\"fill_alpha\":{\"value\":0.1},\"fill_color\":{\"field\":\"color\"},\"hatch_alpha\":{\"value\":0.1},\"hatch_color\":{\"field\":\"color\"},\"line_alpha\":{\"value\":0.1},\"line_color\":{\"field\":\"color\"},\"size\":{\"value\":15},\"x\":{\"field\":\"weighted_diff_mean_in_out\"},\"y\":{\"field\":\"weighted_diff_unfinished\"}},\"id\":\"1038\",\"type\":\"Circle\"},{\"attributes\":{},\"id\":\"1044\",\"type\":\"BasicTickFormatter\"},{\"attributes\":{\"callback\":null,\"tooltips\":[[\"Name\",\"@splitted_cat\"]]},\"id\":\"1003\",\"type\":\"HoverTool\"},{\"attributes\":{},\"id\":\"1007\",\"type\":\"SaveTool\"},{\"attributes\":{},\"id\":\"1006\",\"type\":\"WheelZoomTool\"},{\"attributes\":{\"fill_alpha\":{\"value\":0.2},\"fill_color\":{\"field\":\"color\"},\"hatch_alpha\":{\"value\":0.2},\"hatch_color\":{\"field\":\"color\"},\"line_alpha\":{\"value\":0.2},\"line_color\":{\"field\":\"color\"},\"size\":{\"value\":15},\"x\":{\"field\":\"weighted_diff_mean_in_out\"},\"y\":{\"field\":\"weighted_diff_unfinished\"}},\"id\":\"1039\",\"type\":\"Circle\"},{\"attributes\":{\"start\":-1},\"id\":\"1034\",\"type\":\"Range1d\"},{\"attributes\":{\"data\":{\"color\":[\"red\",\"blue\",\"blue\",\"blue\",\"blue\",\"blue\",\"blue\",\"blue\",\"red\",\"blue\",\"blue\",\"blue\",\"blue\",\"blue\",\"blue\",\"blue\",\"blue\",\"blue\",\"blue\",\"blue\",\"blue\",\"blue\",\"red\",\"blue\",\"blue\",\"blue\",\"green\",\"green\",\"blue\",\"blue\",\"blue\",\"blue\",\"blue\",\"blue\",\"blue\",\"blue\",\"blue\",\"blue\",\"blue\",\"blue\",\"blue\",\"blue\",\"blue\",\"blue\",\"blue\",\"blue\",\"blue\",\"blue\",\"blue\",\"blue\",\"blue\",\"blue\",\"blue\",\"blue\",\"blue\",\"blue\",\"blue\",\"blue\",\"blue\",\"blue\",\"green\",\"blue\",\"red\",\"blue\",\"blue\",\"blue\",\"blue\",\"blue\",\"blue\",\"blue\",\"blue\",\"blue\",\"blue\",\"blue\",\"blue\",\"blue\",\"blue\",\"blue\",\"blue\",\"blue\",\"blue\",\"blue\",\"blue\",\"red\",\"blue\",\"blue\",\"blue\",\"blue\",\"blue\",\"blue\",\"blue\",\"blue\",\"blue\",\"blue\",\"blue\",\"blue\",\"blue\",\"blue\",\"blue\",\"blue\",\"blue\",\"blue\",\"blue\",\"blue\",\"blue\",\"blue\",\"blue\",\"blue\",\"blue\",\"blue\",\"blue\",\"blue\",\"blue\",\"blue\",\"blue\",\"red\",\"red\",\"blue\",\"blue\",\"blue\",\"blue\",\"blue\",\"blue\",\"blue\",\"blue\",\"blue\",\"blue\",\"blue\",\"blue\",\"blue\",\"blue\",\"blue\",\"blue\",\"blue\",\"blue\",\"blue\",\"red\",\"blue\",\"blue\",\"blue\",\"blue\"],\"index\":[0,1,2,3,4,5,6,7,8,9,10,11,12,13,14,15,16,17,18,19,20,21,22,23,24,25,26,27,28,29,30,31,32,33,34,35,36,37,38,39,40,41,42,43,44,45,46,47,48,49,50,51,52,53,54,55,56,57,58,59,60,61,62,63,64,65,66,67,68,69,70,71,72,73,74,75,76,77,78,79,80,81,82,83,84,85,86,87,88,89,90,91,92,93,94,95,96,97,98,99,100,101,102,103,104,105,106,107,108,109,110,111,112,113,114,115,116,117,118,119,120,121,122,123,124,125,126,127,128,129,130,131,132,133,134,135,136,137,138,139,140],\"splitted_cat\":[\"Actors_models_and_celebrities\",\"African_Countries\",\"African_Geography\",\"Air_and_Sea_transport\",\"Ancient_History_Classical_History_and_Mythology\",\"Animal_and_Human_Rights\",\"Antarctica\",\"Archaeology\",\"Architecture\",\"Art\",\"Artists\",\"Asian_Countries\",\"Astronomers_and_physicists\",\"Biology\",\"Birds\",\"British_History\",\"British_History_15001750\",\"British_History_1500_and_before_including_Roman_Britain\",\"British_History_17501900\",\"British_History_Post_1900\",\"Business\",\"Business_Studies\",\"Cartoons\",\"Central_and_South_American_Countries\",\"Central_and_South_American_Geography\",\"Chemical_compounds\",\"Chemical_elements\",\"Chemistry\",\"Chemists\",\"Citizenship\",\"Climate_and_the_Weather\",\"Community_organisations\",\"Companies\",\"Computer_Programming\",\"Computer_and_Video_games\",\"Computing_People\",\"Computing_hardware_and_infrastructure\",\"Conflict_and_Peace\",\"Countries\",\"Cryptography\",\"Culture_and_Diversity\",\"Currency\",\"Design_and_Technology\",\"Dinosaurs\",\"Divinities\",\"Drink\",\"Economics\",\"Education\",\"Electricity_and_Electronics\",\"Engineering\",\"Engineers_and_inventors\",\"Environment\",\"European_Countries\",\"European_Geography\",\"Everyday_life\",\"Evolution_and_reproduction\",\"Films\",\"Food_and_agriculture\",\"Games\",\"General_Biology\",\"General_Chemistry\",\"General_Geography\",\"General_Literature\",\"General_Physics\",\"General_history\",\"Geographers_and_explorers\",\"Geography\",\"Geography_of_Asia\",\"Geography_of_Great_Britain\",\"Geography_of_Oceania_Australasia\",\"Geography_of_the_Middle_East\",\"Geology_and_geophysics\",\"Health_and_medicine\",\"Historians_chroniclers_and_history_books\",\"Historical_figures\",\"History\",\"Human_Scientists\",\"IT\",\"Insects_Reptiles_and_Fish\",\"Language_and_literature\",\"Languages\",\"Law\",\"Linguistics\",\"Literature_types\",\"Mammals\",\"Materials_science\",\"Mathematicians\",\"Mathematics\",\"Media\",\"Middle_Eastern_Countries\",\"Military_History_and_War\",\"Military_People\",\"Mineralogy\",\"Monarchs_of_Great_Britain\",\"Music\",\"Musical_Instruments\",\"Musical_Recordings_and_compositions\",\"Musical_genres_styles_eras_and_events\",\"Myths\",\"Natural_Disasters\",\"North_American_Geography\",\"North_American_History\",\"Novels\",\"Organisms\",\"People\",\"Peoples\",\"Performers_and_composers\",\"Philosophers\",\"Philosophy\",\"Physics\",\"Plants\",\"Poetry_and_Opera\",\"Political_People\",\"Politics_and_government\",\"Pre_1900_Military\",\"Producers_directors_and_media_figures\",\"Railway_transport\",\"Recent_History\",\"Recreation\",\"Religion\",\"Religious_disputes\",\"Religious_figures_and_leaders\",\"Religious_movements_traditions_and_organizations\",\"Religious_texts\",\"Road_transport\",\"Science\",\"Software\",\"Space_Astronomy\",\"Space_transport\",\"Sports\",\"Sports_and_games_people\",\"Sports_events\",\"Sports_teams\",\"Storms\",\"Television\",\"The_Planets\",\"Theatre\",\"USA_Presidents\",\"Websites_and_the_Internet\",\"World_War_II\",\"Writers_and_critics\"],\"weighted_diff_mean_in_out\":{\"__ndarray__\":\"rLPrf8Oksb9EMrUdiz+9P7gfxHWKvsE/ardYm7ANkL8ngWjmZDuCP0CJB1K5lbi/IiV/MgyHzj/+3Jdd3EWtP/D7ksl+08u/M/kO9+MKqr+Z6iUCAOeyP4t3BMLdGr8/csSG0KaTwT+Fv9hUw/OcPwY0hA87Nrc/W6Zuq+zkwT9jNUjjbJy5P5jw9sMRJ9A/VE2yrl48tT/Q5N/9ohXEP2tv0bQUaLi/rJ3/bdE0nr/7kUH1TIfCv6C5kiFlLbU/FpBWJJZlwD9u1gZBA67CP8PKgWv1Ytc/q/ETOMRl1T8rutOfux6+P05xIQGZF4e/YVWKrmcrxD+5eRKWXV7MvxyNFyzGirU/iJpXoIYlm78cBWwX8vzAP/+4qMuXnIk/BtEhtltOuj/oVu+7qpZnvxso6unfh7U/vag7AhiZvT8qwpL7OznDv6NGXpGGJ4I/zT5y1zE5j787l4q3LvPRPzrqnL9sna0/fqbyMBYNdT+8cE+r+wyrv07EmbjgxVs/typ0iInSvj8jWl9tkHC2P1TvmKiBTcQ/WRcL6Otpsz9003C3ii2+P754sBnylL4/7xXROV6jor9A8bp3tEqDP32w4UHmqca/pXdsgdVhsD9zI9JAz2bMP26zt1aUWre/qd8AkJX02j8fiLz4U3K2P2IvpF0Eb8W/arsC8ddvuj/bwkEbViGoP9+N/5+yPq6/2VuB0VDFsz+ewbi99vjAP9anajtJE6k/udLxvml1vj+83fqCp9LNP+Wx0y++BLY/47gANkfojz/iHAYnZyi5P0taFUvISrU/tF4jM2vetD8eB0AFTPyTP46WQ/NYjrk/A14f3++HtT8nmUg7zwi4v1EPJ7iZDYA/5BwjuLugp78W4GvfR+6Zv4Jud4Crkc+/2OxxDjK2rD+12trXhwGXPw6NnLNBA74/0tQrQU4jwz8BlHumuoaKv4F932hz/tE/MkTVRbkavz+bBSqKRbqTP5fY+VYZY6U/m1WsDxhu0T/vhK+MtBGaP0Mgeo+8xNA/8OM8Yuyqyj8xZZXr+w60v6j2ct3br6I/XTknE2L1tj9Fjcsq05Wov+FAeAN4ios/debILSIopz9cvAh/gEhwv8S3cQ/3lLY/w6ZHb0FKlz+f+YkXiNbCP/HFvDNQS6o/Jonx208wkr/UUvEn3Uy/Pw4TzgZtzcM/VP6h89OSQD+BEyhKfpTFPxkQHDmAgpE/8jAjz8+/gL9/G5d67ODHv9lz4clQs8m/x1bfaHJxsD+CvnYPp0q7v+TJVYrKXqk/gb5QvO0byT9H8diRR0aSP/frl/RA/rU/uLyqV3C9wb8Se/TPTyOuv17oj94N2bk/6POvChDk0j835MJn1lu+P61cNExoeMY/H9N/y9Xdx7/FKeWih9C9P3XLAAQJaMK/xbQLJ4FJxz8T5ycXBkOnP/kC7O2egsa/Y8Of3tzCwD8dBxn0hIfSvxZxRt2PTrU/UWOkuEX3rT9atXqZJLbLP+MFfOOecam/\",\"dtype\":\"float64\",\"order\":\"little\",\"shape\":[141]},\"weighted_diff_unfinished\":{\"__ndarray__\":\"x/XgyebT1b98VRdgn8HCP02e+pe80cE/uS+QDe1Qtr9deG92QfOcP9t3VqFaSr+/2asnl0ejyT+MhfcxTwuiP+9gq6ldL+u/MUdbIgC4rb+JLaHosfR4v3oCk5k9rMI/kYtFrhtWwD8wl7SscAJTPyDJv6B0y5q/tNR3L+iDxD8Z1r+R1462P+/WmCS7bdE/Y9jjeYn4cr8kIvfSIobEP14XoxXg4qq/GOMZE6tugb+kca0Q4g/mv2RxnbXALrQ/nNT43hvfwD8eJkyETyK1P7q1FMAY2dE/KGGdhIBG0D8wJ0a3JVeyP9wV667Q45E/fi/9Tz5Rxj/ghLWSyEnMv5DkKf7jX7E/6MU9ABB6gr+jjjED/W65P9wdmVgZzJA/jKJHE5pEuD+WrNTr3evEv7LLr9OsFLw/fT32Ez+vdz9ZhDtL7r7Ev9sasPLfH6Y/x7FZI5+zuL9XGc2BYje/Px75sQFFJ7A/hQZBa8bMor//EFrgysmyv+q7n4/AQZw/TpOaoVcUvj/SXyjXVebAP/ikX35ia8M/cmA0MT9Mtj9kcqyHV0bDP28O6Fq2gsI/haLfZDp5qL9dXy/U1UioPxmijwDQEdG/DnIR7Pkvsz+8zt9v8FugP1yBNe1DksC/treuMG3q0z/2gieFA2e9Pw0fkYvOmNO/7IX/RS/AwD/FLYZF9tS7PxpDpPApiqy/7WkXc/EUuT9s6hXTwOLBP/B+D9lx6rE/d6p2KaC/uD95Gxy2vJjLPyC9OZv2Lbc/dGLG+spNir/jFKLmv/OsP6VTbeQOvpW/LEooAjtsuz+OJWRWBHigP99eEv03QLs/1rlRjoz7sT+2OqUGSWHNv/86wnAzlqk/+1ev+z09mL9uOxMqFYVgPzOxU+d71+m/EFZXuLo1oz+yL40FJ+6Jv1+FKkCeX7Y/YuZzkpn1uj/h2ZyHOziMP+nmHcyTB88/+Dgomh5puj9MDLs0AeWYv4HcGze2y4U/0mo4sIQQzT9DqW353YCYP+YOaZPZss4/stnL2jyspD/CEpOICYuzv6VDWU7OLqU/RnxIdU/+pD/AfdXqDNCRv9woBBfiHr6/CmLM1Ovkx7+IqdcfmE+dP+21TB3Akq4/UPCHz7HBgb9BOAZWKnqwPw+UbWfQe7A/+Hvdm6EAhT/2JsDqB3G3P1dg6VoVs8E/yLjAwjOkkr/iI1l5zSPHPzcduHjJC60/SW4hjovJi7+3SaKZgqncv9KAmeI1DNy/h+/QRpaOtT8DRMi9cSXBv5Tb0Z1PirE/8ZR0wlmUwT98rZsCaOCRv2yRGbf/Ibw/K7g1iWUivb/ptWf5baLFvyD121IDz7I/Mlb/cxPxzz+wzvWFTOtqv/nXbpfkB8M/p1AtsAxdxr8k3zL0oUW/v2kqH1TqHsG/9xFG21RlnD+lnOMm8zmgP1eU2IlwBdC/ykjzYYQ9wj9v0qYA3xjtvzAudSV5gsE/lTvI7fzVtT9sFtl5Q3nLP6L7SXoeDsC/\",\"dtype\":\"float64\",\"order\":\"little\",\"shape\":[141]}},\"selected\":{\"id\":\"1050\"},\"selection_policy\":{\"id\":\"1049\"}},\"id\":\"1035\",\"type\":\"ColumnDataSource\"},{\"attributes\":{\"source\":{\"id\":\"1035\"}},\"id\":\"1041\",\"type\":\"CDSView\"},{\"attributes\":{},\"id\":\"1020\",\"type\":\"BasicTicker\"},{\"attributes\":{\"coordinates\":null,\"group\":null,\"text\":\"Comparing nodes used in un-finished paths and their percentage difference of in and out degree\",\"text_color\":\"black\",\"text_font_size\":\"15px\"},\"id\":\"1009\",\"type\":\"Title\"},{\"attributes\":{\"axis\":{\"id\":\"1023\"},\"coordinates\":null,\"dimension\":1,\"group\":null,\"ticker\":null},\"id\":\"1026\",\"type\":\"Grid\"},{\"attributes\":{},\"id\":\"1047\",\"type\":\"BasicTickFormatter\"},{\"attributes\":{},\"id\":\"1017\",\"type\":\"LinearScale\"},{\"attributes\":{\"axis\":{\"id\":\"1019\"},\"coordinates\":null,\"group\":null,\"ticker\":null},\"id\":\"1022\",\"type\":\"Grid\"},{\"attributes\":{},\"id\":\"1015\",\"type\":\"LinearScale\"},{\"attributes\":{\"axis_label\":\"Percentage difference of number of time node used in finished and unfinished paths\",\"coordinates\":null,\"formatter\":{\"id\":\"1047\"},\"group\":null,\"major_label_policy\":{\"id\":\"1048\"},\"ticker\":{\"id\":\"1020\"}},\"id\":\"1019\",\"type\":\"LinearAxis\"},{\"attributes\":{},\"id\":\"1048\",\"type\":\"AllLabels\"},{\"attributes\":{},\"id\":\"1024\",\"type\":\"BasicTicker\"},{\"attributes\":{\"axis_label\":\"Percentage difference of in and out degree for unfinished paths\",\"coordinates\":null,\"formatter\":{\"id\":\"1044\"},\"group\":null,\"major_label_policy\":{\"id\":\"1045\"},\"ticker\":{\"id\":\"1024\"}},\"id\":\"1023\",\"type\":\"LinearAxis\"},{\"attributes\":{\"tools\":[{\"id\":\"1003\"},{\"id\":\"1004\"},{\"id\":\"1005\"},{\"id\":\"1006\"},{\"id\":\"1007\"}]},\"id\":\"1027\",\"type\":\"Toolbar\"},{\"attributes\":{},\"id\":\"1004\",\"type\":\"ResetTool\"},{\"attributes\":{},\"id\":\"1005\",\"type\":\"PanTool\"},{\"attributes\":{\"fill_alpha\":{\"value\":0.5},\"fill_color\":{\"field\":\"color\"},\"hatch_alpha\":{\"value\":0.5},\"hatch_color\":{\"field\":\"color\"},\"line_alpha\":{\"value\":0.5},\"line_color\":{\"field\":\"color\"},\"size\":{\"value\":15},\"x\":{\"field\":\"weighted_diff_mean_in_out\"},\"y\":{\"field\":\"weighted_diff_unfinished\"}},\"id\":\"1037\",\"type\":\"Circle\"}],\"root_ids\":[\"1008\"]},\"title\":\"Bokeh Application\",\"version\":\"2.4.3\"}};\n",
       "  const render_items = [{\"docid\":\"f0bbd72b-a9c9-48bb-97bd-a484f26e4694\",\"notebook_comms_target\":\"1051\",\"root_ids\":[\"1008\"],\"roots\":{\"1008\":\"d2325057-7764-4441-827e-514ebe211c88\"}}];\n",
       "  root.Bokeh.embed.embed_items_notebook(docs_json, render_items);\n",
       "  }\n",
       "  if (root.Bokeh !== undefined) {\n",
       "    embed_document(root);\n",
       "  } else {\n",
       "    let attempts = 0;\n",
       "    const timer = setInterval(function(root) {\n",
       "      if (root.Bokeh !== undefined) {\n",
       "        clearInterval(timer);\n",
       "        embed_document(root);\n",
       "      } else {\n",
       "        attempts++;\n",
       "        if (attempts > 100) {\n",
       "          clearInterval(timer);\n",
       "          console.log(\"Bokeh: ERROR: Unable to run BokehJS code because BokehJS library is missing\");\n",
       "        }\n",
       "      }\n",
       "    }, 10, root)\n",
       "  }\n",
       "})(window);"
      ],
      "application/vnd.bokehjs_exec.v0+json": ""
     },
     "metadata": {
      "application/vnd.bokehjs_exec.v0+json": {
       "id": "1008"
      }
     },
     "output_type": "display_data"
    },
    {
     "data": {
      "text/html": [
       "<p><code>&lt;Bokeh Notebook handle for <strong>In[19]</strong>&gt;</code></p>"
      ],
      "text/plain": [
       "<bokeh.io.notebook.CommsHandle at 0x24159844a90>"
      ]
     },
     "execution_count": 19,
     "metadata": {},
     "output_type": "execute_result"
    }
   ],
   "source": [
    "data = categories_all[['weighted_diff_unfinished', 'weighted_diff_mean_in_out']].reset_index()\n",
    "data['color'] = data.apply(lambda x : get_color(x), axis = 1)\n",
    "hover = HoverTool(\n",
    "    tooltips=[\n",
    "        (\"Name\", \"@splitted_cat\"),\n",
    "    ])\n",
    "tools = [hover, ResetTool(), PanTool(), WheelZoomTool(), SaveTool()]\n",
    "\n",
    "p = figure(plot_width=760, plot_height=360, tools=tools, title=\"Comparing nodes used in un-finished paths and their percentage difference of in and out degree\")\n",
    "p.title.text_color = \"black\"\n",
    "p.title.text_font_size = \"15px\"\n",
    "p.xaxis.axis_label = 'Percentage difference of number of time node used in finished and unfinished paths'\n",
    "p.yaxis.axis_label = 'Percentage difference of in and out degree for unfinished paths'\n",
    "\n",
    "p.x_range = Range1d(-1,1)\n",
    "p.y_range = Range1d(-1,1)\n",
    "\n",
    "p.circle('weighted_diff_mean_in_out', 'weighted_diff_unfinished', color = 'color', source=data, size=15, alpha=0.5)\n",
    "\n",
    "show(p, notebook_handle=True)"
   ]
  },
  {
   "cell_type": "markdown",
   "id": "12c6da3e",
   "metadata": {},
   "source": [
    "## Comparing subject of starting and end points "
   ]
  },
  {
   "cell_type": "code",
   "execution_count": 20,
   "id": "caebd06d",
   "metadata": {},
   "outputs": [],
   "source": [
    "categories['categories'] = categories.category.apply(lambda x : x.split('.')[1:])\n",
    "categories_merged = pd.DataFrame(categories.groupby('article').categories.agg(sum))\n",
    "#categories_merged = categories_merged.reset_index()"
   ]
  },
  {
   "cell_type": "code",
   "execution_count": 21,
   "id": "695a8b3f",
   "metadata": {},
   "outputs": [],
   "source": [
    "def get_categories(article, df):\n",
    "    if article not in df.index :\n",
    "        return [] \n",
    "    else : \n",
    "        return df.loc[article].categories\n",
    "\n",
    "def get_start_target_cats(paths):\n",
    "    paths['start'] = paths.path.apply(lambda x:x.split(';')[0])\n",
    "    paths['start_cats'] = paths['start'].apply(lambda article : get_categories(article, categories_merged))\n",
    "    paths['target_cats'] = paths['target'].apply(lambda article : get_categories(article, categories_merged))\n",
    "    paths_start = paths.explode('start_cats').groupby('start_cats').start.agg(len)\n",
    "    paths_target = paths.explode('target_cats').groupby('target_cats').target.agg(len)\n",
    "    paths_out = pd.merge(paths_start, paths_target, right_index=True, left_index=True)\n",
    "    return paths_out\n",
    "    \n",
    "start_target_cats_unfinished = get_start_target_cats(paths_unfinished[['path', 'target']].copy())\n",
    "start_target_cats_finished = get_start_target_cats(paths_finished[['path', 'target']].copy())"
   ]
  },
  {
   "cell_type": "code",
   "execution_count": 22,
   "id": "5808c0a0",
   "metadata": {},
   "outputs": [],
   "source": [
    "start_target_cats_finished = start_target_cats_finished/nb_finished_node_visited*1000\n",
    "start_target_cats_unfinished = start_target_cats_unfinished/nb_unfinished_node_visited*1000\n",
    "\n",
    "start_target_cats_finished = start_target_cats_finished.add_suffix('_finished')\n",
    "start_target_cats_unfinished = start_target_cats_unfinished.add_suffix('_unfinished')"
   ]
  },
  {
   "cell_type": "code",
   "execution_count": 23,
   "id": "d28c2af7",
   "metadata": {},
   "outputs": [],
   "source": [
    "start_target_cats = start_target_cats_finished.join(start_target_cats_unfinished)"
   ]
  },
  {
   "cell_type": "code",
   "execution_count": 24,
   "id": "049ceaae",
   "metadata": {},
   "outputs": [],
   "source": [
    "start_target_cats['weighted_diff_start'] = start_target_cats.apply(lambda x: \n",
    "            (x.start_finished - x.start_unfinished) /(x.start_finished + x.start_unfinished), axis = 1)\n",
    "start_target_cats['weighted_diff_target'] = start_target_cats.apply(lambda x: \n",
    "            (x.target_finished - x.target_unfinished) /(x.target_finished + x.target_unfinished), axis = 1)\n"
   ]
  },
  {
   "cell_type": "markdown",
   "id": "b953ca78",
   "metadata": {},
   "source": [
    "### Plot the results\n",
    "We plot two histograms \n",
    "- the histogram of the weighted difference between **starting page** between finished and unfineshed graphs.  \n",
    "- the histogram of the weighted difference between **target page** between finished and unfineshed graphs.  \n",
    "\n",
    "#### Starting page \n",
    "First we see that the starting page histogram has a smaller variance then the target page histogram. It is not a surprise since we know that the starting pahse of going to a hub is the easiest part. Moreover we cannot say that a starting page is easier but there are still some pages that seems harder to start with `['Architecture', 'Theatre', 'Literature_types', 'General_Biology', 'Language_and_literature', 'Design_and_Technology', 'Air_and_Sea_transport', 'Conflict_and_Peace']`.\n",
    "\n",
    "#### Target page \n",
    "In the target page histogram, we can see a lot of variance and there are topics that seems to be easier or harder than others. We can see that topics with _Geography_ or _countries_ are quiet easy whereas topics more related to _movies_ or to _litterature_ are harder. This we can be quiet sure because we see that the topic `'General_Literature'` has a score of -0.8 where the minimum which means players always fail with this topics is -1.\n"
   ]
  },
  {
   "cell_type": "code",
   "execution_count": 25,
   "id": "7a0a7733",
   "metadata": {},
   "outputs": [
    {
     "data": {
      "text/plain": [
       "start_finished          0.268183\n",
       "target_finished         0.109580\n",
       "start_unfinished        0.317104\n",
       "target_unfinished       1.268417\n",
       "weighted_diff_start    -0.083585\n",
       "weighted_diff_target   -0.840957\n",
       "Name: General_Literature, dtype: float64"
      ]
     },
     "execution_count": 25,
     "metadata": {},
     "output_type": "execute_result"
    }
   ],
   "source": [
    "start_target_cats.loc['General_Literature']"
   ]
  },
  {
   "cell_type": "code",
   "execution_count": 26,
   "id": "262314f1",
   "metadata": {},
   "outputs": [
    {
     "data": {
      "text/plain": [
       "<matplotlib.legend.Legend at 0x2415986d8e0>"
      ]
     },
     "execution_count": 26,
     "metadata": {},
     "output_type": "execute_result"
    },
    {
     "data": {
      "image/png": "[encoded data removed]",
      "text/plain": [
       "<Figure size 640x480 with 1 Axes>"
      ]
     },
     "metadata": {},
     "output_type": "display_data"
    }
   ],
   "source": [
    "start_target_cats['weighted_diff_start'].hist(label = 'start page').set_title('Histogram of the weighted difference between starting page between finished and unfineshed graphs')\n",
    "plt.xlabel('Weighted difference between finished and unfinished start page')\n",
    "plt.ylabel('Count')\n",
    "plt.legend()"
   ]
  },
  {
   "cell_type": "code",
   "execution_count": 27,
   "id": "4f5107b2",
   "metadata": {},
   "outputs": [
    {
     "data": {
      "text/plain": [
       "Index(['Architecture', 'Theatre', 'Literature_types', 'General_Biology',\n",
       "       'Language_and_literature', 'Design_and_Technology',\n",
       "       'Air_and_Sea_transport', 'Conflict_and_Peace',\n",
       "       'Geographers_and_explorers', 'Computer_Programming'],\n",
       "      dtype='object', name='start_cats')"
      ]
     },
     "execution_count": 27,
     "metadata": {},
     "output_type": "execute_result"
    }
   ],
   "source": [
    "# Get element that seems to be harder as a start page\n",
    "get_first_last(10, start_target_cats, 'weighted_diff_start')[1]"
   ]
  },
  {
   "cell_type": "code",
   "execution_count": 28,
   "id": "8f4d0d23",
   "metadata": {},
   "outputs": [
    {
     "data": {
      "text/plain": [
       "<matplotlib.legend.Legend at 0x24156cef820>"
      ]
     },
     "execution_count": 28,
     "metadata": {},
     "output_type": "execute_result"
    },
    {
     "data": {
      "image/png": "[encoded data removed]",
      "text/plain": [
       "<Figure size 640x480 with 1 Axes>"
      ]
     },
     "metadata": {},
     "output_type": "display_data"
    }
   ],
   "source": [
    "# Look at the target page now\n",
    "start_target_cats['weighted_diff_target'].hist(label = 'target page').set_title('Histogram of the weighted difference between target page between finished and unfineshed graphs')\n",
    "plt.xlabel('Weighted difference between finished and unfinished target')\n",
    "plt.ylabel('Count')\n",
    "plt.legend()"
   ]
  },
  {
   "cell_type": "code",
   "execution_count": 29,
   "id": "ef548f2e",
   "metadata": {},
   "outputs": [
    {
     "data": {
      "text/plain": [
       "(Index(['European_Countries', 'USA_Presidents', 'European_Geography',\n",
       "        'Middle_Eastern_Countries', 'Asian_Countries', 'African_Countries',\n",
       "        'Countries', 'Languages', 'Geography_of_the_Middle_East',\n",
       "        'African_Geography'],\n",
       "       dtype='object', name='start_cats'),\n",
       " Index(['General_Literature', 'Cartoons', 'Actors_models_and_celebrities',\n",
       "        'Games', 'Conflict_and_Peace', 'Novels', 'Community_organisations',\n",
       "        'Television', 'Sports_and_games_people', 'Cryptography'],\n",
       "       dtype='object', name='start_cats'))"
      ]
     },
     "execution_count": 29,
     "metadata": {},
     "output_type": "execute_result"
    }
   ],
   "source": [
    "# Get the easiest and hardest finishing pages\n",
    "get_first_last(10, start_target_cats, 'weighted_diff_target')"
   ]
  },
  {
   "cell_type": "code",
   "execution_count": 30,
   "id": "b98380b7",
   "metadata": {},
   "outputs": [
    {
     "data": {
      "text/html": [
       "\n",
       "  <div class=\"bk-root\" id=\"809e5fef-6b5c-4ba8-b711-233ad8c51b41\" data-root-id=\"1102\"></div>\n"
      ]
     },
     "metadata": {},
     "output_type": "display_data"
    },
    {
     "data": {
      "application/javascript": [
       "(function(root) {\n",
       "  function embed_document(root) {\n",
       "  const docs_json = {\"3980ac79-cce0-4c93-a45c-dd73827c95ef\":{\"defs\":[],\"roots\":{\"references\":[{\"attributes\":{\"below\":[{\"id\":\"1113\"}],\"center\":[{\"id\":\"1116\"},{\"id\":\"1120\"}],\"height\":460,\"left\":[{\"id\":\"1117\"}],\"renderers\":[{\"id\":\"1134\"}],\"title\":{\"id\":\"1103\"},\"toolbar\":{\"id\":\"1121\"},\"width\":660,\"x_range\":{\"id\":\"1127\"},\"x_scale\":{\"id\":\"1109\"},\"y_range\":{\"id\":\"1128\"},\"y_scale\":{\"id\":\"1111\"}},\"id\":\"1102\",\"subtype\":\"Figure\",\"type\":\"Plot\"},{\"attributes\":{\"fill_alpha\":{\"value\":0.1},\"fill_color\":{\"field\":\"color\"},\"hatch_alpha\":{\"value\":0.1},\"hatch_color\":{\"field\":\"color\"},\"line_alpha\":{\"value\":0.1},\"line_color\":{\"field\":\"color\"},\"size\":{\"value\":15},\"x\":{\"field\":\"weighted_diff_start\"},\"y\":{\"field\":\"weighted_diff_target\"}},\"id\":\"1132\",\"type\":\"Circle\"},{\"attributes\":{},\"id\":\"1153\",\"type\":\"Selection\"},{\"attributes\":{},\"id\":\"1152\",\"type\":\"UnionRenderers\"},{\"attributes\":{\"coordinates\":null,\"data_source\":{\"id\":\"1129\"},\"glyph\":{\"id\":\"1131\"},\"group\":null,\"hover_glyph\":null,\"muted_glyph\":{\"id\":\"1133\"},\"nonselection_glyph\":{\"id\":\"1132\"},\"view\":{\"id\":\"1135\"}},\"id\":\"1134\",\"type\":\"GlyphRenderer\"},{\"attributes\":{\"source\":{\"id\":\"1129\"}},\"id\":\"1135\",\"type\":\"CDSView\"},{\"attributes\":{},\"id\":\"1098\",\"type\":\"ResetTool\"},{\"attributes\":{},\"id\":\"1109\",\"type\":\"LinearScale\"},{\"attributes\":{\"coordinates\":null,\"group\":null,\"text\":\"Comparing sucess of game with start and target topics\",\"text_color\":\"black\",\"text_font_size\":\"15px\"},\"id\":\"1103\",\"type\":\"Title\"},{\"attributes\":{\"callback\":null,\"tooltips\":[[\"Name\",\"@start_cats\"]]},\"id\":\"1097\",\"type\":\"HoverTool\"},{\"attributes\":{\"axis_label\":\"Sucess rate with this concept as starting edges\",\"coordinates\":null,\"formatter\":{\"id\":\"1150\"},\"group\":null,\"major_label_policy\":{\"id\":\"1151\"},\"ticker\":{\"id\":\"1114\"}},\"id\":\"1113\",\"type\":\"LinearAxis\"},{\"attributes\":{\"start\":-1},\"id\":\"1128\",\"type\":\"Range1d\"},{\"attributes\":{\"start\":-1},\"id\":\"1127\",\"type\":\"Range1d\"},{\"attributes\":{},\"id\":\"1151\",\"type\":\"AllLabels\"},{\"attributes\":{\"axis\":{\"id\":\"1117\"},\"coordinates\":null,\"dimension\":1,\"group\":null,\"ticker\":null},\"id\":\"1120\",\"type\":\"Grid\"},{\"attributes\":{\"axis\":{\"id\":\"1113\"},\"coordinates\":null,\"group\":null,\"ticker\":null},\"id\":\"1116\",\"type\":\"Grid\"},{\"attributes\":{},\"id\":\"1150\",\"type\":\"BasicTickFormatter\"},{\"attributes\":{\"data\":{\"color\":[\"red\",\"green\",\"green\",\"red\",\"blue\",\"red\",\"blue\",\"blue\",\"red\",\"blue\",\"blue\",\"green\",\"blue\",\"blue\",\"blue\",\"blue\",\"blue\",\"blue\",\"blue\",\"green\",\"blue\",\"blue\",\"red\",\"blue\",\"blue\",\"blue\",\"green\",\"blue\",\"blue\",\"blue\",\"blue\",\"red\",\"blue\",\"blue\",\"blue\",\"blue\",\"blue\",\"red\",\"green\",\"red\",\"blue\",\"blue\",\"red\",\"blue\",\"blue\",\"blue\",\"red\",\"blue\",\"blue\",\"blue\",\"blue\",\"blue\",\"green\",\"green\",\"blue\",\"blue\",\"blue\",\"blue\",\"red\",\"red\",\"blue\",\"blue\",\"red\",\"blue\",\"blue\",\"blue\",\"blue\",\"blue\",\"blue\",\"blue\",\"green\",\"blue\",\"blue\",\"blue\",\"blue\",\"blue\",\"blue\",\"blue\",\"blue\",\"red\",\"green\",\"blue\",\"blue\",\"red\",\"blue\",\"blue\",\"blue\",\"blue\",\"blue\",\"green\",\"blue\",\"blue\",\"blue\",\"blue\",\"blue\",\"blue\",\"blue\",\"blue\",\"blue\",\"blue\",\"blue\",\"blue\",\"red\",\"blue\",\"blue\",\"blue\",\"blue\",\"blue\",\"blue\",\"blue\",\"blue\",\"blue\",\"blue\",\"blue\",\"blue\",\"red\",\"red\",\"blue\",\"blue\",\"blue\",\"blue\",\"blue\",\"blue\",\"blue\",\"blue\",\"blue\",\"blue\",\"blue\",\"blue\",\"blue\",\"red\",\"blue\",\"blue\",\"blue\",\"red\",\"blue\",\"red\",\"green\",\"blue\",\"blue\",\"blue\"],\"index\":[0,1,2,3,4,5,6,7,8,9,10,11,12,13,14,15,16,17,18,19,20,21,22,23,24,25,26,27,28,29,30,31,32,33,34,35,36,37,38,39,40,41,42,43,44,45,46,47,48,49,50,51,52,53,54,55,56,57,58,59,60,61,62,63,64,65,66,67,68,69,70,71,72,73,74,75,76,77,78,79,80,81,82,83,84,85,86,87,88,89,90,91,92,93,94,95,96,97,98,99,100,101,102,103,104,105,106,107,108,109,110,111,112,113,114,115,116,117,118,119,120,121,122,123,124,125,126,127,128,129,130,131,132,133,134,135,136,137,138,139,140],\"start_cats\":[\"Actors_models_and_celebrities\",\"African_Countries\",\"African_Geography\",\"Air_and_Sea_transport\",\"Ancient_History_Classical_History_and_Mythology\",\"Animal_and_Human_Rights\",\"Antarctica\",\"Archaeology\",\"Architecture\",\"Art\",\"Artists\",\"Asian_Countries\",\"Astronomers_and_physicists\",\"Biology\",\"Birds\",\"British_History\",\"British_History_15001750\",\"British_History_1500_and_before_including_Roman_Britain\",\"British_History_17501900\",\"British_History_Post_1900\",\"Business\",\"Business_Studies\",\"Cartoons\",\"Central_and_South_American_Countries\",\"Central_and_South_American_Geography\",\"Chemical_compounds\",\"Chemical_elements\",\"Chemistry\",\"Chemists\",\"Citizenship\",\"Climate_and_the_Weather\",\"Community_organisations\",\"Companies\",\"Computer_Programming\",\"Computer_and_Video_games\",\"Computing_People\",\"Computing_hardware_and_infrastructure\",\"Conflict_and_Peace\",\"Countries\",\"Cryptography\",\"Culture_and_Diversity\",\"Currency\",\"Design_and_Technology\",\"Dinosaurs\",\"Divinities\",\"Drink\",\"Economics\",\"Education\",\"Electricity_and_Electronics\",\"Engineering\",\"Engineers_and_inventors\",\"Environment\",\"European_Countries\",\"European_Geography\",\"Everyday_life\",\"Evolution_and_reproduction\",\"Films\",\"Food_and_agriculture\",\"Games\",\"General_Biology\",\"General_Chemistry\",\"General_Geography\",\"General_Literature\",\"General_Physics\",\"General_history\",\"Geographers_and_explorers\",\"Geography\",\"Geography_of_Asia\",\"Geography_of_Great_Britain\",\"Geography_of_Oceania_Australasia\",\"Geography_of_the_Middle_East\",\"Geology_and_geophysics\",\"Health_and_medicine\",\"Historians_chroniclers_and_history_books\",\"Historical_figures\",\"History\",\"Human_Scientists\",\"IT\",\"Insects_Reptiles_and_Fish\",\"Language_and_literature\",\"Languages\",\"Law\",\"Linguistics\",\"Literature_types\",\"Mammals\",\"Materials_science\",\"Mathematicians\",\"Mathematics\",\"Media\",\"Middle_Eastern_Countries\",\"Military_History_and_War\",\"Military_People\",\"Mineralogy\",\"Monarchs_of_Great_Britain\",\"Music\",\"Musical_Instruments\",\"Musical_Recordings_and_compositions\",\"Musical_genres_styles_eras_and_events\",\"Myths\",\"Natural_Disasters\",\"North_American_Geography\",\"North_American_History\",\"Novels\",\"Organisms\",\"People\",\"Peoples\",\"Performers_and_composers\",\"Philosophers\",\"Philosophy\",\"Physics\",\"Plants\",\"Poetry_and_Opera\",\"Political_People\",\"Politics_and_government\",\"Pre_1900_Military\",\"Producers_directors_and_media_figures\",\"Railway_transport\",\"Recent_History\",\"Recreation\",\"Religion\",\"Religious_disputes\",\"Religious_figures_and_leaders\",\"Religious_movements_traditions_and_organizations\",\"Religious_texts\",\"Road_transport\",\"Science\",\"Software\",\"Space_Astronomy\",\"Space_transport\",\"Sports\",\"Sports_and_games_people\",\"Sports_events\",\"Sports_teams\",\"Storms\",\"Television\",\"The_Planets\",\"Theatre\",\"USA_Presidents\",\"Websites_and_the_Internet\",\"World_War_II\",\"Writers_and_critics\"],\"weighted_diff_start\":{\"__ndarray__\":\"YZ3N5PrVsL/0khvFlFq1vzcgt9OSA6W/IwECy0lz0r+PxppUUcK2v6OGvX5Igsm/o1DL7FoVsD9yf6Sg5PSwvxsHOrTrzt+/+cSGRG0Hwr+ftBswODa7vxRJ3pyVlre/eTpf/8rlw78tn3cFyjbAvx4cJYPccpi/q+Z9D5A9qb/KqDahspDBv/cvhW24f56/CasSkW3HsL8tq1J9MlSrv5iutUimfaq/P+jM9VQMsb9TOve/5MDHv0fRfMvEs8C/QKnEAujKwL8u+0IzShy2v5OhqC2jMbC/8qr1cvKZsr+ZZo1F1aqvP9Lbu8Uc9bi/YHShXgBEpL/y0Oqw3tDDvzTw/Or0Pqm/O+OwK5BWyr8jbN+ZBEajP6v2BV4NSLG/Gd7tmVw1yr/+UcTfAPnQv0eKnfOH8L2/SnbP39dmjL9lvshM1Eqwv/p3i7NDKqm/OwXbvMm71L+namnW2FmLv4OlRhIlOLi/NemVF0vvu7/cYfZn2QC8v6dWJ+b+ZLi/gwVo56ansb+o8/ICLQ/AvwqxM5B+VMQ/Cm7KDgiPr78d+K6VV0vDv0F/+fGCwsG/yK3wYKG8tL/m+Du3UMGsv6WZXIyn1cC/BLZgGC8bjL8zsGtmiRC4v12H248CXta//eY+ZF8rvL/ppkxyLXWyvwsWBBDSZbW/B87E1KvipL+b1DwsuqHFvzS8M+k038u/WgqzfSGwt7+sHAuAY+K2v6Nzz8nuX7K/FX/+POWvwb8HI6IkLGuyv1/I2TF1z6u/u9dNego6sr+CtJl25syxv9GUymH9v7m/n6HB3n1Our/R96hLc+OpPxQn+BtaBr+/BQUhfACYj7/cbmVHVOjUv3vZfpaBsLG/f47ouVvJtb8MfLjr14GxvwY7G7saP9m/zbckoSdsuL/xIajogWqSvx7WtXNbzaC/8Rjio3FUwr9vXQICVr/Dv3DVUfoKhIS/fclXU6WEur/9K4mBOge7v1fqQD775K6/iDzevjFOj7/IDlXGDPK1vw8qjfytT8q/jJS1267vw7+napbk6dizv3eIMK5yocS/90DOv4LPuD+ddkkh+hXFvy2agwy4BJ2/jTYpfcvhwb+Heh/zewrCv7L0umXJ0be/Eu14fTXmx7/4R3dg+Sanv5wt17fvs5G/EILRzdz2ub/Z9NvuJ3fAv8LshyrXaqy/PsYoQRg0yL9dlScO1UO0v1DUKyO2f7G/4Nsp6O7lxb/dJREda7SUv3dBbH7kU8O/ei3pE2pxwL8AqVbK9letv7VAA6FxkL+/m53WIuaPwb8X934cnvTAv+gbdUV4QsW/eXGYK/jprb+ppJVIcF7HvzoPvz9upr6/yuFf9Xh1qL9DgHkrK83Hv3UQNXzHM8C/w9luIvenxL8IwA6spx6/v+MmUA+u44S/Ple0QK8Ixb+mp9RcTNLJvxZ1HlPyOLy/UrVmB3COvD9k1gWYod/Zv3WzjVILzMa/mtS5mY8trb9PsRf17IXHv0/0vVZTrsW/\",\"dtype\":\"float64\",\"order\":\"little\",\"shape\":[141]},\"weighted_diff_target\":{\"__ndarray__\":\"7afHmOHr5r9ePNxQKeXcP9Q3zLpqqtg/uMebWxeauL96GSpGKVuav03ITtXee+C/Tr6SPt6hs7/sy+YeVCKzP/WIBBXVD6e/YDeQyKm3vL8FVNJ6UkrNvz6Hn0feGd0/2TsLSRxpqD+zBirx1afVvzDwBVJj+NO/k2XVNHbOyL81uod6yc6nP3nkKyz7PdG/HrrBm9AM0L8+YdrWaFnXP8XR4r+k57W/d5aBU5pa0L/bSWEl3O7mvwKExTfJj9A/m4FTQOl+0j/FAARzQ769v0sMPr5CJtU/wdUBUFXfxj8801XE6L6lP0lwib+DDsa/WqcRHZxpwj8JLLbVqdHiv+oOi98hY9S/3zeNe9gxtL85DowvBn/Cv+VGcJ+fO7G/StMIog+20L9E++Kiz/rkv7qGldpbstw/b8MSqfsv4b+q8FguUS3MvzLAyfvG9cM/70/IHHC/1L+DfA/FTQusP+ESP5+eJsU/s9Y8OxX7z79xYDkIIiXgv/zWJqJF0dO/yM5tt7cqyD98xgLo9VvWv/u/vnyFg8O/c0yvo7A4qT82CcIU9EriP9yf2k3shd4/OfuE3PC8179NmogC/0i2P5yVwbX2Jdq/vZU34eUV2r88eBVcKZ7lv1nwr7cREaa/40qXO4rPrT8jxxek/oXPP9/coFcf6eq/3CiTxqo8tT+QykNOlD3Jv5Wl2Irc+NO/uaxtCS4Zxz9EsJZiLADTP/I6HtfusZ8/f42rV7EIvL9+HWi32G3aPwaXgzsj77a/aPaatqLO1b+FJ9frnRjFvy97wQIAL9C/Hf6N2zrVxL+XN2v+uXLMv6ipJ8QJ1cK/KcHU4vnmyr/QDx4liRDTv9WRMdJG+ds/i3ofcVDzkT+hCBtNUDjIvxIa2WG4PcW/z1p/AFo72b+1WjKeUCurv5APZKsT9tO/fbpR6WWqnT/739DjtGvDP/M9ZRJRON0/QcRCM9MPxb8Apfd2KNXZvxlrLuBe/sW/BiV4+e3ttj+wbdMgAdLPv/6E+2JqO8I/qVg/ZgGhx79kehE1zQzcv06HI685otW/EDhW8L3Dx79czLLB3gOxP72Aa4Ac9ce/g2zsrFPg478QrALsTBPHvwdFS0uqAbm/bNZ2N1T1zr+s8f6Sw4jDvxbgxN4jFp4/5HGL/NiCvj/CbP5SUkSwP4fo9YHnMt+/zCRExvyjzb/vL9YPr3fSPwSEU/Lj4Lu/OX4VklRa0b+kjoJ23Djgvx+oQTOPveC/r0uAoMYl179j00waznfRv1kYhGZms6o/Y7ThvfGqpj/SUE9odHaoP2w8n1BkQMo/FcR3BajGxb/w3r9pxhnUvyJmFYfhksi/FT7Q6/eemz/Z3YsqWe6Hv9EdHq6mF42/mopBeY1toL+fGABYxt/hvxPXUqtj0L6/Hj0k1mZlqb+gh3Xh62PIv+NfCTFEhOK/sdnlf6fW0j8ys5rjLsHZv64ulCkhYd8/efT7zV00z7+ZmXONBMbJPwCYkXIMstG/\",\"dtype\":\"float64\",\"order\":\"little\",\"shape\":[141]}},\"selected\":{\"id\":\"1153\"},\"selection_policy\":{\"id\":\"1152\"}},\"id\":\"1129\",\"type\":\"ColumnDataSource\"},{\"attributes\":{},\"id\":\"1118\",\"type\":\"BasicTicker\"},{\"attributes\":{},\"id\":\"1148\",\"type\":\"AllLabels\"},{\"attributes\":{},\"id\":\"1114\",\"type\":\"BasicTicker\"},{\"attributes\":{},\"id\":\"1100\",\"type\":\"WheelZoomTool\"},{\"attributes\":{\"tools\":[{\"id\":\"1097\"},{\"id\":\"1098\"},{\"id\":\"1099\"},{\"id\":\"1100\"},{\"id\":\"1101\"}]},\"id\":\"1121\",\"type\":\"Toolbar\"},{\"attributes\":{},\"id\":\"1099\",\"type\":\"PanTool\"},{\"attributes\":{},\"id\":\"1111\",\"type\":\"LinearScale\"},{\"attributes\":{\"fill_alpha\":{\"value\":0.5},\"fill_color\":{\"field\":\"color\"},\"hatch_alpha\":{\"value\":0.5},\"hatch_color\":{\"field\":\"color\"},\"line_alpha\":{\"value\":0.5},\"line_color\":{\"field\":\"color\"},\"size\":{\"value\":15},\"x\":{\"field\":\"weighted_diff_start\"},\"y\":{\"field\":\"weighted_diff_target\"}},\"id\":\"1131\",\"type\":\"Circle\"},{\"attributes\":{},\"id\":\"1147\",\"type\":\"BasicTickFormatter\"},{\"attributes\":{\"fill_alpha\":{\"value\":0.2},\"fill_color\":{\"field\":\"color\"},\"hatch_alpha\":{\"value\":0.2},\"hatch_color\":{\"field\":\"color\"},\"line_alpha\":{\"value\":0.2},\"line_color\":{\"field\":\"color\"},\"size\":{\"value\":15},\"x\":{\"field\":\"weighted_diff_start\"},\"y\":{\"field\":\"weighted_diff_target\"}},\"id\":\"1133\",\"type\":\"Circle\"},{\"attributes\":{},\"id\":\"1101\",\"type\":\"SaveTool\"},{\"attributes\":{\"axis_label\":\"Sucess rate with this concept as target edges\",\"coordinates\":null,\"formatter\":{\"id\":\"1147\"},\"group\":null,\"major_label_policy\":{\"id\":\"1148\"},\"ticker\":{\"id\":\"1118\"}},\"id\":\"1117\",\"type\":\"LinearAxis\"}],\"root_ids\":[\"1102\"]},\"title\":\"Bokeh Application\",\"version\":\"2.4.3\"}};\n",
       "  const render_items = [{\"docid\":\"3980ac79-cce0-4c93-a45c-dd73827c95ef\",\"notebook_comms_target\":\"1154\",\"root_ids\":[\"1102\"],\"roots\":{\"1102\":\"809e5fef-6b5c-4ba8-b711-233ad8c51b41\"}}];\n",
       "  root.Bokeh.embed.embed_items_notebook(docs_json, render_items);\n",
       "  }\n",
       "  if (root.Bokeh !== undefined) {\n",
       "    embed_document(root);\n",
       "  } else {\n",
       "    let attempts = 0;\n",
       "    const timer = setInterval(function(root) {\n",
       "      if (root.Bokeh !== undefined) {\n",
       "        clearInterval(timer);\n",
       "        embed_document(root);\n",
       "      } else {\n",
       "        attempts++;\n",
       "        if (attempts > 100) {\n",
       "          clearInterval(timer);\n",
       "          console.log(\"Bokeh: ERROR: Unable to run BokehJS code because BokehJS library is missing\");\n",
       "        }\n",
       "      }\n",
       "    }, 10, root)\n",
       "  }\n",
       "})(window);"
      ],
      "application/vnd.bokehjs_exec.v0+json": ""
     },
     "metadata": {
      "application/vnd.bokehjs_exec.v0+json": {
       "id": "1102"
      }
     },
     "output_type": "display_data"
    },
    {
     "data": {
      "text/html": [
       "<p><code>&lt;Bokeh Notebook handle for <strong>In[30]</strong>&gt;</code></p>"
      ],
      "text/plain": [
       "<bokeh.io.notebook.CommsHandle at 0x2415c2624c0>"
      ]
     },
     "execution_count": 30,
     "metadata": {},
     "output_type": "execute_result"
    }
   ],
   "source": [
    "def get_color_2(x):\n",
    "    if x.weighted_diff_target < -0.5 or x.weighted_diff_start < -0.25 :\n",
    "        return 'red'\n",
    "    elif x.weighted_diff_target > 0.3 or x.weighted_diff_start > 0.25 :\n",
    "        return 'green'\n",
    "    else :\n",
    "        return 'blue'\n",
    "data = start_target_cats[['weighted_diff_start', 'weighted_diff_target']].reset_index()\n",
    "data['color'] = data.apply(lambda x : get_color_2(x), axis = 1)\n",
    "hover = HoverTool(\n",
    "    tooltips=[\n",
    "        (\"Name\", \"@start_cats\"),\n",
    "    ])\n",
    "tools = [hover, ResetTool(), PanTool(), WheelZoomTool(), SaveTool()]\n",
    "\n",
    "p = figure(plot_width=660, plot_height=460, tools=tools, title=\"Comparing sucess of game with start and target topics\")\n",
    "p.title.text_color = \"black\"\n",
    "p.title.text_font_size = \"15px\"\n",
    "p.xaxis.axis_label = 'Sucess rate with this concept as starting edges'\n",
    "p.yaxis.axis_label = 'Sucess rate with this concept as target edges'\n",
    "p.x_range = Range1d(-1,1)\n",
    "p.y_range = Range1d(-1,1)\n",
    "\n",
    "p.circle('weighted_diff_start', 'weighted_diff_target', color = 'color', source=data, size=15, alpha=0.5)\n",
    "\n",
    "show(p, notebook_handle=True)"
   ]
  }
 ],
 "metadata": {
  "kernelspec": {
   "display_name": "Python 3 (ipykernel)",
   "language": "python",
   "name": "python3"
  },
  "language_info": {
   "codemirror_mode": {
    "name": "ipython",
    "version": 3
   },
   "file_extension": ".py",
   "mimetype": "text/x-python",
   "name": "python",
   "nbconvert_exporter": "python",
   "pygments_lexer": "ipython3",
   "version": "3.9.13"
  }
 },
 "nbformat": 4,
 "nbformat_minor": 5
}
