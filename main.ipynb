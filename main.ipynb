{
 "cells": [
  {
   "cell_type": "code",
   "execution_count": 1,
   "id": "6b36102d-49b1-4a0d-acce-52b7da668944",
   "metadata": {},
   "outputs": [],
   "source": [
    "#Import libraries\n",
    "import pandas as pd\n",
    "import numpy as np\n",
    "import matplotlib.pyplot as plt\n",
    "import seaborn as sns\n",
    "\n",
    "import re\n",
    "\n",
    "import urllib"
   ]
  },
  {
   "cell_type": "markdown",
   "id": "d8c1b485-13ae-4bce-8cf4-e69b0422fada",
   "metadata": {},
   "source": [
    "</div>\n",
    "<div class=\"1.1 explanation\" style='background-color:#08135c; border-left: solid #darkblue 4px; border-radius: 4px; padding:0.7em;'>\n",
    "    <span style=\"color:white\">\n",
    "       <h2>1. Data acquisition</h2>\n",
    "    </span>\n",
    "</div>\n",
    "</div>\n",
    "<div class=\"1.1 explanation\" style='background-color:#faefe1; border-left: solid #darkblue 4px; border-radius: 4px; padding:0.7em;'>\n",
    "    <span style=\"color:black\">\n",
    "        Here we load the relevant data using the <span style=\"font-family: monospace\">pandas</span> library. The data we are dealing with follows a relational model. The specific navigation paths can be represented as graphs where the nodes concern the wikipedia pages that are connected through (directional) edges representing the hyperlinks.\n",
    "    </span>\n",
    "</div>"
   ]
  },
  {
   "cell_type": "code",
   "execution_count": 2,
   "id": "2cf61ee5-d38f-4f91-a2f4-e9fcd9ba9302",
   "metadata": {},
   "outputs": [],
   "source": [
    "#Import relevant DataFrames\n",
    "\n",
    "#Articles data\n",
    "articles = pd.read_csv(\"data/articles.tsv\", skiprows=11, names=[\"article\"])\n",
    "articles['article'] = articles['article'].apply(urllib.parse.unquote) #Parsing URL encoding\n",
    "\n",
    "#Category data\n",
    "categories = pd.read_csv(\"data/categories.tsv\", sep=\"\\t\", skiprows=12, names=[\"article\", \"category\"])\n",
    "categories[\"article\"] = categories[\"article\"].apply(urllib.parse.unquote) #Parsing URL encoding\n",
    "\n",
    "#Links data\n",
    "links = pd.read_csv(\"data/links.tsv\", sep=\"\\t\", skiprows=11, names=[\"article\", \"link\"])\n",
    "links[\"article\"] = links[\"article\"].apply(urllib.parse.unquote) #Parsing URL encoding\n",
    "links[\"link\"] = links[\"link\"].apply(urllib.parse.unquote) #Parsing URL encoding\n",
    "\n",
    "#Finished paths\n",
    "paths_finished = pd.read_csv(\"data/paths_finished.tsv\", sep=\"\\t\", skiprows=15, names=[\"hashedIpAddress\",\n",
    "                                                                                      \"timestamp\",\n",
    "                                                                                      \"durationInSec\",\n",
    "                                                                                      \"path\",\n",
    "                                                                                      \"rating\"])\n",
    "paths_finished[\"path\"] = paths_finished[\"path\"].apply(urllib.parse.unquote) #Parsing URL encoding\n",
    "\n",
    "#Unfinished paths\n",
    "paths_unfinished = pd.read_csv(\"data/paths_unfinished.tsv\", sep=\"\\t\", skiprows=16, names=[\"hashedIpAddress\",\n",
    "                                                                                          \"timestamp\",\n",
    "                                                                                          \"durationInSec\",\n",
    "                                                                                          \"path\",\n",
    "                                                                                          \"target\",\n",
    "                                                                                          \"type\"])\n",
    "paths_unfinished[\"path\"] = paths_unfinished[\"path\"].apply(urllib.parse.unquote) #Parsing URL encoding\n",
    "paths_unfinished[\"target\"] = paths_unfinished[\"target\"].apply(urllib.parse.unquote) #Parsing URL encoding\n",
    "\n",
    "#shortest path matrix\n",
    "with open('data/shortest-path-distance-matrix.txt', 'r') as file:\n",
    "    \n",
    "    #Initialize shortest_path_distance list\n",
    "    shortest_path_distance = []\n",
    "    \n",
    "    for line in file:\n",
    "        \n",
    "        #Check if the first character of the line is either a digit or underscore\n",
    "        if re.search(\"([0-9]|_)\", line[0]): \n",
    "            \n",
    "            #Append list to shortest_path_distance\n",
    "            shortest_path_distance.append([np.nan if x=='_' else int(x) for x in line.strip()])\n",
    "    \n",
    "#Convert to numpy ndarray\n",
    "shortest_path_distance = np.array(shortest_path_distance)    \n",
    "    \n"
   ]
  },
  {
   "cell_type": "code",
   "execution_count": 3,
   "id": "9f40e712-7261-4188-9bc4-4ca078c3b3c0",
   "metadata": {},
   "outputs": [
    {
     "data": {
      "text/html": [
       "<div>\n",
       "<style scoped>\n",
       "    .dataframe tbody tr th:only-of-type {\n",
       "        vertical-align: middle;\n",
       "    }\n",
       "\n",
       "    .dataframe tbody tr th {\n",
       "        vertical-align: top;\n",
       "    }\n",
       "\n",
       "    .dataframe thead th {\n",
       "        text-align: right;\n",
       "    }\n",
       "</style>\n",
       "<table border=\"1\" class=\"dataframe\">\n",
       "  <thead>\n",
       "    <tr style=\"text-align: right;\">\n",
       "      <th></th>\n",
       "      <th>hashedIpAddress</th>\n",
       "      <th>timestamp</th>\n",
       "      <th>durationInSec</th>\n",
       "      <th>path</th>\n",
       "      <th>rating</th>\n",
       "    </tr>\n",
       "  </thead>\n",
       "  <tbody>\n",
       "    <tr>\n",
       "      <th>0</th>\n",
       "      <td>6a3701d319fc3754</td>\n",
       "      <td>1297740409</td>\n",
       "      <td>166</td>\n",
       "      <td>14th_century;15th_century;16th_century;Pacific...</td>\n",
       "      <td>NaN</td>\n",
       "    </tr>\n",
       "    <tr>\n",
       "      <th>1</th>\n",
       "      <td>3824310e536af032</td>\n",
       "      <td>1344753412</td>\n",
       "      <td>88</td>\n",
       "      <td>14th_century;Europe;Africa;Atlantic_slave_trad...</td>\n",
       "      <td>3.0</td>\n",
       "    </tr>\n",
       "    <tr>\n",
       "      <th>2</th>\n",
       "      <td>415612e93584d30e</td>\n",
       "      <td>1349298640</td>\n",
       "      <td>138</td>\n",
       "      <td>14th_century;Niger;Nigeria;British_Empire;Slav...</td>\n",
       "      <td>NaN</td>\n",
       "    </tr>\n",
       "    <tr>\n",
       "      <th>3</th>\n",
       "      <td>64dd5cd342e3780c</td>\n",
       "      <td>1265613925</td>\n",
       "      <td>37</td>\n",
       "      <td>14th_century;Renaissance;Ancient_Greece;Greece</td>\n",
       "      <td>NaN</td>\n",
       "    </tr>\n",
       "    <tr>\n",
       "      <th>4</th>\n",
       "      <td>015245d773376aab</td>\n",
       "      <td>1366730828</td>\n",
       "      <td>175</td>\n",
       "      <td>14th_century;Italy;Roman_Catholic_Church;HIV;R...</td>\n",
       "      <td>3.0</td>\n",
       "    </tr>\n",
       "    <tr>\n",
       "      <th>...</th>\n",
       "      <td>...</td>\n",
       "      <td>...</td>\n",
       "      <td>...</td>\n",
       "      <td>...</td>\n",
       "      <td>...</td>\n",
       "    </tr>\n",
       "    <tr>\n",
       "      <th>51313</th>\n",
       "      <td>15a13a1d66ef5456</td>\n",
       "      <td>1349231015</td>\n",
       "      <td>66</td>\n",
       "      <td>Yagan;Ancient_Egypt;Civilization</td>\n",
       "      <td>NaN</td>\n",
       "    </tr>\n",
       "    <tr>\n",
       "      <th>51314</th>\n",
       "      <td>2ef7ac844cefda58</td>\n",
       "      <td>1300254138</td>\n",
       "      <td>165</td>\n",
       "      <td>Yagan;Folklore;Brothers_Grimm;&lt;;19th_century;C...</td>\n",
       "      <td>3.0</td>\n",
       "    </tr>\n",
       "    <tr>\n",
       "      <th>51315</th>\n",
       "      <td>12863abb7887f890</td>\n",
       "      <td>1385095372</td>\n",
       "      <td>228</td>\n",
       "      <td>Yagan;Australia;England;France;United_States;T...</td>\n",
       "      <td>NaN</td>\n",
       "    </tr>\n",
       "    <tr>\n",
       "      <th>51316</th>\n",
       "      <td>19f8284371753362</td>\n",
       "      <td>1298792567</td>\n",
       "      <td>56</td>\n",
       "      <td>Yarralumla,_Australian_Capital_Territory;Austr...</td>\n",
       "      <td>1.0</td>\n",
       "    </tr>\n",
       "    <tr>\n",
       "      <th>51317</th>\n",
       "      <td>24b84602179de377</td>\n",
       "      <td>1318122701</td>\n",
       "      <td>30</td>\n",
       "      <td>Ziad_Jarrah;Germany;Jew</td>\n",
       "      <td>NaN</td>\n",
       "    </tr>\n",
       "  </tbody>\n",
       "</table>\n",
       "<p>51318 rows × 5 columns</p>\n",
       "</div>"
      ],
      "text/plain": [
       "        hashedIpAddress   timestamp  durationInSec  \\\n",
       "0      6a3701d319fc3754  1297740409            166   \n",
       "1      3824310e536af032  1344753412             88   \n",
       "2      415612e93584d30e  1349298640            138   \n",
       "3      64dd5cd342e3780c  1265613925             37   \n",
       "4      015245d773376aab  1366730828            175   \n",
       "...                 ...         ...            ...   \n",
       "51313  15a13a1d66ef5456  1349231015             66   \n",
       "51314  2ef7ac844cefda58  1300254138            165   \n",
       "51315  12863abb7887f890  1385095372            228   \n",
       "51316  19f8284371753362  1298792567             56   \n",
       "51317  24b84602179de377  1318122701             30   \n",
       "\n",
       "                                                    path  rating  \n",
       "0      14th_century;15th_century;16th_century;Pacific...     NaN  \n",
       "1      14th_century;Europe;Africa;Atlantic_slave_trad...     3.0  \n",
       "2      14th_century;Niger;Nigeria;British_Empire;Slav...     NaN  \n",
       "3         14th_century;Renaissance;Ancient_Greece;Greece     NaN  \n",
       "4      14th_century;Italy;Roman_Catholic_Church;HIV;R...     3.0  \n",
       "...                                                  ...     ...  \n",
       "51313                   Yagan;Ancient_Egypt;Civilization     NaN  \n",
       "51314  Yagan;Folklore;Brothers_Grimm;<;19th_century;C...     3.0  \n",
       "51315  Yagan;Australia;England;France;United_States;T...     NaN  \n",
       "51316  Yarralumla,_Australian_Capital_Territory;Austr...     1.0  \n",
       "51317                            Ziad_Jarrah;Germany;Jew     NaN  \n",
       "\n",
       "[51318 rows x 5 columns]"
      ]
     },
     "execution_count": 3,
     "metadata": {},
     "output_type": "execute_result"
    }
   ],
   "source": [
    "paths_finished"
   ]
  },
  {
   "cell_type": "code",
   "execution_count": null,
   "id": "d0f921ff-46b4-4155-9633-38dceec81bad",
   "metadata": {},
   "outputs": [],
   "source": []
  },
  {
   "cell_type": "markdown",
   "id": "92c29746-22ef-4be5-9e34-468d0b93f6fc",
   "metadata": {},
   "source": [
    "</div>\n",
    "<div class=\"1.1 explanation\" style='background-color:#08135c; border-left: solid #darkblue 4px; border-radius: 4px; padding:0.7em;'>\n",
    "    <span style=\"color:white\">\n",
    "       <h2>2. Data exploration</h2>\n",
    "    </span>\n",
    "</div>\n",
    "</div>\n",
    "<div class=\"1.1 explanation\" style='background-color:#faefe1; border-left: solid #darkblue 4px; border-radius: 4px; padding:0.7em;'>\n",
    "    <span style=\"color:black\">\n",
    "        We will now explore the data. We start by investigation the category distribution among the wikipedia articles.\n",
    "    </span>\n",
    "</div>"
   ]
  },
  {
   "cell_type": "code",
   "execution_count": 4,
   "id": "6b9f1e68-6522-4272-ac26-efb6f2d8eaee",
   "metadata": {},
   "outputs": [
    {
     "name": "stdout",
     "output_type": "stream",
     "text": [
      "Number of articles\t: 4604\n",
      "Number of categories\t: 129\n",
      "\n",
      "TOP 3:\n",
      "CATEGORY                                      COUNT\n",
      "subject.Countries                            : 229\n",
      "subject.Science.Biology.Birds                : 161\n",
      "subject.Geography.Geography_of_Great_Britain : 124\n",
      "\n",
      "\n"
     ]
    },
    {
     "data": {
      "image/png": "[encoded data removed]",
      "text/plain": [
       "<Figure size 432x288 with 1 Axes>"
      ]
     },
     "metadata": {
      "needs_background": "light"
     },
     "output_type": "display_data"
    }
   ],
   "source": [
    "#Get number of articles and number of unique categories\n",
    "nb_articles = len(articles)\n",
    "nb_categories = len(categories['category'].unique())\n",
    "\n",
    "#Find number of articles per category\n",
    "categories_grouped = categories.groupby('category').count().add_suffix('_count')\n",
    "categories_grouped = categories_grouped.sort_values('article_count', ascending=False) #Sort by count in descending order\n",
    "\n",
    "#Print statistics\n",
    "print('Number of articles\\t: {}'.format(nb_articles))\n",
    "print('Number of categories\\t: {}\\n'.format(nb_categories))\n",
    "print('TOP 3:')\n",
    "print(\"{:<45} {}\".format('CATEGORY', 'COUNT'))\n",
    "for index, row in categories_grouped.head(3).iterrows():\n",
    "    print(\"{:<45}: {}\".format(index, row['article_count']))\n",
    "print(\"\\n\")\n",
    "\n",
    "#Plot category distrubution (sorted)\n",
    "g = categories_grouped.plot(y='article_count', kind='bar', legend=False, width=1, edgecolor=(1,1,1))\n",
    "g.set(ylabel='count')\n",
    "g.set(xlabel='categories (sorted)')\n",
    "g.set(xticklabels=[]);\n",
    "g.tick_params(bottom=False);\n",
    "g.spines['right'].set_visible(False)\n",
    "g.spines['top'].set_visible(False)\n"
   ]
  },
  {
   "cell_type": "markdown",
   "id": "f1f3b8f4-63fc-4440-89ba-31b407a53452",
   "metadata": {},
   "source": [
    "</div>\n",
    "<div class=\"1.1 explanation\" style='background-color:#faefe1; border-left: solid #darkblue 4px; border-radius: 4px; padding:0.7em;'>\n",
    "    <span style=\"color:black\">\n",
    "        Now look at the distribution of the number of links per article\n",
    "    </span>\n",
    "</div>"
   ]
  },
  {
   "cell_type": "code",
   "execution_count": 5,
   "id": "f8eac2c1-5b9d-469a-b166-fd6245d51adb",
   "metadata": {},
   "outputs": [
    {
     "name": "stdout",
     "output_type": "stream",
     "text": [
      "Number of links\t: 119882\n",
      "\n",
      "TOP 3:\n",
      "ARTICLE                                       COUNT\n",
      "United_States                                : 294\n",
      "Driving_on_the_left_or_right                 : 255\n",
      "List_of_countries                            : 244\n",
      "\n",
      "\n"
     ]
    },
    {
     "data": {
      "image/png": "[encoded data removed]",
      "text/plain": [
       "<Figure size 432x288 with 1 Axes>"
      ]
     },
     "metadata": {
      "needs_background": "light"
     },
     "output_type": "display_data"
    }
   ],
   "source": [
    "nb_links = len(links)\n",
    "\n",
    "links_grouped = links.groupby('article').count().add_suffix('_count')\n",
    "links_grouped = links_grouped.sort_values('link_count', ascending=False) #Sort by count in descending order\n",
    "\n",
    "#Print statistics\n",
    "print('Number of links\\t: {}\\n'.format(nb_links))\n",
    "\n",
    "print('TOP 3:')\n",
    "print(\"{:<45} {}\".format('ARTICLE', 'COUNT'))\n",
    "for index, row in links_grouped.head(3).iterrows():\n",
    "    print(\"{:<45}: {}\".format(index, row['link_count']))\n",
    "print(\"\\n\")\n",
    "\n",
    "    \n",
    "#Plot category distrubution (sorted)\n",
    "g = links_grouped.plot(y='link_count', kind='hist', legend=False, edgecolor=(1,1,1))\n",
    "g.set(ylabel='count')\n",
    "g.set(xlabel='number of links')\n",
    "g.tick_params(bottom=False);\n",
    "g.spines['right'].set_visible(False)\n",
    "g.spines['top'].set_visible(False)\n"
   ]
  },
  {
   "cell_type": "markdown",
   "id": "c2280c11",
   "metadata": {},
   "source": [
    "</div>\n",
    "<div class=\"1.1 explanation\" style='background-color:#faefe1; border-left: solid #darkblue 4px; border-radius: 4px; padding:0.7em;'>\n",
    "    <span style=\"color:black\">\n",
    "        Check if the distribution of the number of links per article or the number of article by categories follows a power law. We can see form the histograms that they don't.\n",
    "    </span>\n",
    "</div>"
   ]
  },
  {
   "cell_type": "code",
   "execution_count": 6,
   "id": "75681e66",
   "metadata": {},
   "outputs": [
    {
     "data": {
      "text/plain": [
       "<AxesSubplot:>"
      ]
     },
     "execution_count": 6,
     "metadata": {},
     "output_type": "execute_result"
    },
    {
     "data": {
      "image/png": "[encoded data removed]",
      "text/plain": [
       "<Figure size 432x288 with 1 Axes>"
      ]
     },
     "metadata": {
      "needs_background": "light"
     },
     "output_type": "display_data"
    }
   ],
   "source": [
    "np.log(categories_grouped['article_count']).hist()"
   ]
  },
  {
   "cell_type": "code",
   "execution_count": 7,
   "id": "8d9569dd",
   "metadata": {},
   "outputs": [
    {
     "data": {
      "image/png": "[encoded data removed]",
      "text/plain": [
       "<Figure size 432x288 with 1 Axes>"
      ]
     },
     "metadata": {
      "needs_background": "light"
     },
     "output_type": "display_data"
    }
   ],
   "source": [
    "g = np.log(links_grouped['link_count']).hist()"
   ]
  },
  {
   "cell_type": "markdown",
   "id": "56e2428b-894d-43b5-b445-e6d966a2e078",
   "metadata": {},
   "source": [
    "</div>\n",
    "<div class=\"1.1 explanation\" style='background-color:#faefe1; border-left: solid #darkblue 4px; border-radius: 4px; padding:0.7em;'>\n",
    "    <span style=\"color:black\">\n",
    "        Data exploration to the paths <b>(will continue this later)</b>\n",
    "    </span>\n",
    "</div>"
   ]
  },
  {
   "cell_type": "code",
   "execution_count": 8,
   "id": "0d6551a7-b418-4ea9-9f96-2b591dea3259",
   "metadata": {},
   "outputs": [],
   "source": [
    "#CODE HERE"
   ]
  },
  {
   "cell_type": "markdown",
   "id": "5f5eee70-f4d5-4d94-b7fe-417c9836a28c",
   "metadata": {},
   "source": [
    "</div>\n",
    "<div class=\"1.1 explanation\" style='background-color:#faefe1; border-left: solid #darkblue 4px; border-radius: 4px; padding:0.7em;'>\n",
    "    <span style=\"color:black\">\n",
    "        Quick visualization of the short distance matrix. The orange stripes represent the articles that cannot be reached. Strikingly, these orange lines seems to be isolated from almost all articles. This would imply no article has a hyperlink to this wikipedia page?\n",
    "    </span>\n",
    "</div>"
   ]
  },
  {
   "cell_type": "code",
   "execution_count": 9,
   "id": "c4966903-8c49-4ecb-9af6-6dda0e340370",
   "metadata": {},
   "outputs": [
    {
     "data": {
      "image/png": "[encoded data removed]",
      "text/plain": [
       "<Figure size 432x288 with 2 Axes>"
      ]
     },
     "metadata": {
      "needs_background": "light"
     },
     "output_type": "display_data"
    }
   ],
   "source": [
    "g = sns.heatmap(shortest_path_distance, xticklabels=False, yticklabels=False, linewidths=0, cmap='Blues');\n",
    "g.set_facecolor('#f79d6f');\n",
    "g.set(ylabel='source article');\n",
    "g.set(xlabel='target article');"
   ]
  },
  {
   "cell_type": "markdown",
   "id": "70be3e78-b0ee-4ce9-8d7a-280484e2be48",
   "metadata": {},
   "source": [
    "</div>\n",
    "<div class=\"1.1 explanation\" style='background-color:#faefe1; border-left: solid #darkblue 4px; border-radius: 4px; padding:0.7em;'>\n",
    "    <span style=\"color:black\">\n",
    "        With the bootstrap algorithm the differences of the time between unfinished path (differentiation between timeout and restart) and finished paths\n",
    "    </span>\n",
    "</div>"
   ]
  },
  {
   "cell_type": "code",
   "execution_count": 10,
   "id": "dcdb72b0-1670-41d8-9ef7-689dac68c96c",
   "metadata": {},
   "outputs": [],
   "source": [
    "def bootstrap_CI(data, nbr_draws, with_means = False):\n",
    "    means = np.zeros(nbr_draws)\n",
    "    data = np.array(data)\n",
    "\n",
    "    for n in range(nbr_draws):\n",
    "        indices = np.random.randint(0, len(data), len(data))\n",
    "        data_tmp = data[indices] \n",
    "        means[n] = np.nanmean(data_tmp)\n",
    "    if with_means :\n",
    "        return [np.nanpercentile(means, 2.5),np.nanpercentile(means, 97.5)], means\n",
    "    else : \n",
    "        return [np.nanpercentile(means, 2.5),np.nanpercentile(means, 97.5)]\n",
    "    "
   ]
  },
  {
   "cell_type": "code",
   "execution_count": 11,
   "id": "bb37b586-925f-4718-afd7-5ac165ab2f3a",
   "metadata": {},
   "outputs": [
    {
     "data": {
      "text/html": [
       "<div>\n",
       "<style scoped>\n",
       "    .dataframe tbody tr th:only-of-type {\n",
       "        vertical-align: middle;\n",
       "    }\n",
       "\n",
       "    .dataframe tbody tr th {\n",
       "        vertical-align: top;\n",
       "    }\n",
       "\n",
       "    .dataframe thead th {\n",
       "        text-align: right;\n",
       "    }\n",
       "</style>\n",
       "<table border=\"1\" class=\"dataframe\">\n",
       "  <thead>\n",
       "    <tr style=\"text-align: right;\">\n",
       "      <th></th>\n",
       "      <th>hashedIpAddress</th>\n",
       "      <th>timestamp</th>\n",
       "      <th>durationInSec</th>\n",
       "      <th>path</th>\n",
       "      <th>target</th>\n",
       "      <th>type</th>\n",
       "      <th>pathLength</th>\n",
       "    </tr>\n",
       "  </thead>\n",
       "  <tbody>\n",
       "    <tr>\n",
       "      <th>0</th>\n",
       "      <td>2426091a53125110</td>\n",
       "      <td>1297054935</td>\n",
       "      <td>1804</td>\n",
       "      <td>Obi-Wan_Kenobi</td>\n",
       "      <td>Microsoft</td>\n",
       "      <td>timeout</td>\n",
       "      <td>1</td>\n",
       "    </tr>\n",
       "    <tr>\n",
       "      <th>1</th>\n",
       "      <td>26141fd878806294</td>\n",
       "      <td>1297055651</td>\n",
       "      <td>1805</td>\n",
       "      <td>Julius_Caesar</td>\n",
       "      <td>Caracas</td>\n",
       "      <td>timeout</td>\n",
       "      <td>1</td>\n",
       "    </tr>\n",
       "    <tr>\n",
       "      <th>2</th>\n",
       "      <td>2b015fb8181c48f2</td>\n",
       "      <td>1297090819</td>\n",
       "      <td>1818</td>\n",
       "      <td>Malawi;Democracy;Alexander_the_Great</td>\n",
       "      <td>First_Crusade</td>\n",
       "      <td>timeout</td>\n",
       "      <td>3</td>\n",
       "    </tr>\n",
       "    <tr>\n",
       "      <th>3</th>\n",
       "      <td>53a53bc244e08a6a</td>\n",
       "      <td>1297094761</td>\n",
       "      <td>49</td>\n",
       "      <td>Paraguay</td>\n",
       "      <td>Mount_St._Helens</td>\n",
       "      <td>restart</td>\n",
       "      <td>1</td>\n",
       "    </tr>\n",
       "    <tr>\n",
       "      <th>4</th>\n",
       "      <td>53a53bc244e08a6a</td>\n",
       "      <td>1297099105</td>\n",
       "      <td>1808</td>\n",
       "      <td>Paraguay;Bolivia</td>\n",
       "      <td>Mount_St._Helens</td>\n",
       "      <td>timeout</td>\n",
       "      <td>2</td>\n",
       "    </tr>\n",
       "  </tbody>\n",
       "</table>\n",
       "</div>"
      ],
      "text/plain": [
       "    hashedIpAddress   timestamp  durationInSec  \\\n",
       "0  2426091a53125110  1297054935           1804   \n",
       "1  26141fd878806294  1297055651           1805   \n",
       "2  2b015fb8181c48f2  1297090819           1818   \n",
       "3  53a53bc244e08a6a  1297094761             49   \n",
       "4  53a53bc244e08a6a  1297099105           1808   \n",
       "\n",
       "                                   path            target     type  pathLength  \n",
       "0                        Obi-Wan_Kenobi         Microsoft  timeout           1  \n",
       "1                         Julius_Caesar           Caracas  timeout           1  \n",
       "2  Malawi;Democracy;Alexander_the_Great     First_Crusade  timeout           3  \n",
       "3                              Paraguay  Mount_St._Helens  restart           1  \n",
       "4                      Paraguay;Bolivia  Mount_St._Helens  timeout           2  "
      ]
     },
     "execution_count": 11,
     "metadata": {},
     "output_type": "execute_result"
    }
   ],
   "source": [
    "# Add the length of the paths\n",
    "paths_unfinished['pathLength'] = paths_unfinished['path'].apply(lambda x : len(str(x).split(';')))\n",
    "paths_finished['pathLength'] = paths_unfinished['path'].apply(lambda x : len(str(x).split(';')))\n",
    "paths_unfinished.head()"
   ]
  },
  {
   "cell_type": "code",
   "execution_count": 12,
   "id": "0f06a875-05b3-455f-a251-00a21835644e",
   "metadata": {},
   "outputs": [
    {
     "name": "stdout",
     "output_type": "stream",
     "text": [
      "size of unfinished paths with timeout:  9323\n",
      "size of unfinished paths with restart:  15552\n",
      "size of finished paths with restart:  24875\n"
     ]
    }
   ],
   "source": [
    "#split the unfinished paths in timeout and restart\n",
    "unfinished_timeout = paths_unfinished[paths_unfinished['type'] == 'timeout']\n",
    "unfinished_restart = paths_unfinished[paths_unfinished['type'] == 'restart']\n",
    "print('size of unfinished paths with timeout: ', len(unfinished_timeout))\n",
    "print('size of unfinished paths with restart: ', len(unfinished_restart))\n",
    "print('size of finished paths with restart: ', len(paths_unfinished))"
   ]
  },
  {
   "cell_type": "markdown",
   "id": "61b02447-23c0-4646-b02b-fbf4cdec2213",
   "metadata": {},
   "source": [
    "Cut outliers and change range for timeout"
   ]
  },
  {
   "cell_type": "code",
   "execution_count": 13,
   "id": "eef4b4e7-6182-47d7-90d1-684c6da5057f",
   "metadata": {},
   "outputs": [],
   "source": [
    "# Cutting outliers\n",
    "range_outlier = 1.5\n",
    "Q1 = unfinished_timeout['durationInSec'].quantile(0.25)\n",
    "Q3 = unfinished_timeout['durationInSec'].quantile(0.75)\n",
    "IQR = Q3 - Q1\n",
    "lower_value = unfinished_timeout['durationInSec'].median() - IQR*range_outlier\n",
    "upper_value = unfinished_timeout['durationInSec'].median() + IQR*range_outlier\n",
    "\n",
    "\n",
    "unfinished_timeout_cut = unfinished_timeout[unfinished_timeout['durationInSec']>=lower_value]\n",
    "unfinished_timeout_cut = unfinished_timeout_cut[unfinished_timeout_cut['durationInSec']<=upper_value]\n"
   ]
  },
  {
   "cell_type": "code",
   "execution_count": 14,
   "id": "d4a12ecd-c911-4599-b4a5-0af5a9a72e9d",
   "metadata": {
    "tags": []
   },
   "outputs": [
    {
     "data": {
      "image/png": "[encoded data removed]",
      "text/plain": [
       "<Figure size 432x288 with 1 Axes>"
      ]
     },
     "metadata": {
      "needs_background": "light"
     },
     "output_type": "display_data"
    }
   ],
   "source": [
    "#change values of timeout by the minimum timestamp\n",
    "unfinished_timeout_cut['durationInSec'].hist()\n",
    "unfinished_timeout_cut['durationInSec'] = unfinished_timeout_cut['durationInSec']-unfinished_timeout_cut['durationInSec'].min()"
   ]
  },
  {
   "cell_type": "code",
   "execution_count": 15,
   "id": "d82d9019-9d78-4b4b-a103-6375102028b1",
   "metadata": {},
   "outputs": [],
   "source": [
    "colors = [('black', 'gray'), ('blue', 'cornflowerblue'), ('red', 'lightcoral'), ('darkorange', 'bisque'), ('lawngreen','palegreen'), ('cyan','paleturquoise'), ('violet', 'thistle')]\n",
    "ci_finished, stats_finished = bootstrap_CI(paths_finished['durationInSec'], 10000, True)\n",
    "ci_notfiniti, stats_notfiniti = bootstrap_CI(unfinished_timeout_cut['durationInSec'], 10000, True)\n",
    "ci_notfinires, stats_notfinires = bootstrap_CI(unfinished_restart['durationInSec'], 10000, True)\n"
   ]
  },
  {
   "cell_type": "code",
   "execution_count": 16,
   "id": "80c1e824-11e2-487d-af2c-164c5c3eb1b2",
   "metadata": {},
   "outputs": [
    {
     "data": {
      "text/plain": [
       "<matplotlib.legend.Legend at 0x169141d2250>"
      ]
     },
     "execution_count": 16,
     "metadata": {},
     "output_type": "execute_result"
    },
    {
     "data": {
      "image/png": "[encoded data removed]",
      "text/plain": [
       "<Figure size 720x360 with 1 Axes>"
      ]
     },
     "metadata": {
      "needs_background": "light"
     },
     "output_type": "display_data"
    }
   ],
   "source": [
    "plt.figure(figsize=(10,5))\n",
    "plt.hist(stats_finished, bins=40, edgecolor = 'k', color=colors[0][1],alpha = 0.6, label = 'finished paths timestamp')\n",
    "plt.vlines(ci_finished, 0,900, ls='--', color=colors[0][0], linewidth=2, label = '95% CI for finished paths timestamp')\n",
    "plt.hist(stats_notfinires, bins=40, edgecolor = 'k', color=colors[1][1],alpha = 0.6, label = 'unfinished paths restart timestamp')\n",
    "plt.vlines(ci_notfinires, 0,900, ls='--', color=colors[1][0], linewidth=2, label = '95% CI for unfinished paths restart timestamp')\n",
    "plt.hist(stats_notfiniti, bins=40, edgecolor = 'k', color=colors[2][1],alpha = 0.6, label = 'unfinished paths restart timestamp')\n",
    "plt.vlines(ci_notfiniti, 0,900, ls='--', color=colors[2][0], linewidth=2, label = '95% CI for unfinished paths restart timestamp')\n",
    "plt.title('Mean time of finished and unfinished paths with restart/timeout')\n",
    "plt.xlabel('timestamp in seconds')\n",
    "plt.ylabel('Number of apparence')\n",
    "plt.legend()"
   ]
  },
  {
   "cell_type": "code",
   "execution_count": 17,
   "id": "68699634-df1f-4b31-a1f9-89f03e425abb",
   "metadata": {},
   "outputs": [
    {
     "name": "stdout",
     "output_type": "stream",
     "text": [
      "time median of finished paths:  107.0\n",
      "time mean of finished paths:  158.27619938423166\n"
     ]
    }
   ],
   "source": [
    "print('time median of finished paths: ',paths_finished['durationInSec'].median())\n",
    "print('time mean of finished paths: ',paths_finished['durationInSec'].mean())"
   ]
  },
  {
   "cell_type": "markdown",
   "id": "f4367960-ee00-4928-bdd1-b0da7d5ee117",
   "metadata": {},
   "source": [
    "</div>\n",
    "<div class=\"1.1 explanation\" style='background-color:#faefe1; border-left: solid #darkblue 4px; border-radius: 4px; padding:0.7em;'>\n",
    "    <span style=\"color:black\">\n",
    "        With the bootstrap algorithm the differences of the pathlength between unfinished path (differentiation between timeout and restart) and finished paths\n",
    "    </span>\n",
    "</div>"
   ]
  },
  {
   "cell_type": "code",
   "execution_count": 18,
   "id": "9e710700-94ef-4e11-b744-70db2d49792b",
   "metadata": {},
   "outputs": [],
   "source": [
    "ci_finished, stats_finished = bootstrap_CI(paths_finished['pathLength'], 10000, True)\n",
    "ci_notfiniti, stats_notfiniti = bootstrap_CI(unfinished_timeout['pathLength'], 10000, True)\n",
    "ci_notfinires, stats_notfinires = bootstrap_CI(unfinished_restart['pathLength'], 10000, True)"
   ]
  },
  {
   "cell_type": "code",
   "execution_count": 19,
   "id": "acb0acbd-5e21-4ec2-9081-c0c9c6aa1ab6",
   "metadata": {},
   "outputs": [
    {
     "data": {
      "text/plain": [
       "<matplotlib.legend.Legend at 0x16914044f10>"
      ]
     },
     "execution_count": 19,
     "metadata": {},
     "output_type": "execute_result"
    },
    {
     "data": {
      "image/png": "[encoded data removed]",
      "text/plain": [
       "<Figure size 720x360 with 1 Axes>"
      ]
     },
     "metadata": {
      "needs_background": "light"
     },
     "output_type": "display_data"
    }
   ],
   "source": [
    "colors = [('black', 'gray'), ('blue', 'cornflowerblue'), ('red', 'lightcoral'), ('darkorange', 'bisque'), ('lawngreen','palegreen'), ('cyan','paleturquoise'), ('violet', 'thistle')]\n",
    "\n",
    "plt.figure(figsize=(10,5))\n",
    "plt.hist(stats_finished, bins=40, edgecolor = 'k', color=colors[0][1],alpha = 0.6, label = 'finished paths timestamp')\n",
    "plt.vlines(ci_finished, 0,900, ls='--', color=colors[0][0], linewidth=2, label = '95% CI for finished paths timestamp')\n",
    "plt.hist(stats_notfinires, bins=40, edgecolor = 'k', color=colors[1][1],alpha = 0.6, label = 'unfinished paths restart')\n",
    "plt.vlines(ci_notfinires, 0,900, ls='--', color=colors[1][0], linewidth=2, label = '95% CI for unfinished paths restart')\n",
    "plt.hist(stats_notfiniti, bins=40, edgecolor = 'k', color=colors[2][1],alpha = 0.6, label = 'unfinished paths timeout')\n",
    "plt.vlines(ci_notfiniti, 0,900, ls='--', color=colors[2][0], linewidth=2, label = '95% CI for unfinished paths timeout')\n",
    "plt.title('Mean path length in finished and unfinished paths with restart/timeout')\n",
    "plt.xlabel('path length')\n",
    "plt.ylabel('Number of apparence')\n",
    "plt.legend()"
   ]
  },
  {
   "cell_type": "markdown",
   "id": "2910521d-389d-413e-ad2f-2c3bc4dd508a",
   "metadata": {},
   "source": [
    "regression-analysis between restart and timeout"
   ]
  },
  {
   "cell_type": "markdown",
   "id": "cd3ab542-eb99-4b66-a2e8-eb2a9f8c9124",
   "metadata": {},
   "source": [
    "</div>\n",
    "<div class=\"1.1 explanation\" style='background-color:#faefe1; border-left: solid #darkblue 4px; border-radius: 4px; padding:0.7em;'>\n",
    "    <span style=\"color:black\">\n",
    "        Logistic regression to predict if the player give up or will restart by taking time and pathlength into account\n",
    "    </span>\n",
    "</div>"
   ]
  },
  {
   "cell_type": "code",
   "execution_count": 20,
   "id": "3a4079b4-186c-4f45-9400-ad87f4578bb3",
   "metadata": {},
   "outputs": [],
   "source": [
    "#prepare the data\n",
    "unfinished_timeout = paths_unfinished[paths_unfinished['type'] == 'timeout']\n",
    "unfinished_restart = paths_unfinished[paths_unfinished['type'] == 'restart']\n",
    "reg_unfinished_tim = unfinished_timeout.copy()\n",
    "reg_unfinished_res = unfinished_restart.copy()\n",
    "reg_unfinished_tim['y'] = 1\n",
    "reg_unfinished_res['y'] = 0\n",
    "regression_data = pd.concat([reg_unfinished_tim,reg_unfinished_res])\n",
    "regression_data_X = regression_data[['pathLength','durationInSec']]\n",
    "regression_data_y = regression_data[['y']]"
   ]
  },
  {
   "cell_type": "code",
   "execution_count": 21,
   "id": "e4f72f8b-8b69-40d0-ab23-8d4b9adaa2d4",
   "metadata": {},
   "outputs": [],
   "source": [
    "#import of lybraries\n",
    "import statsmodels.api as sm\n",
    "import statsmodels.formula.api as smf"
   ]
  },
  {
   "cell_type": "code",
   "execution_count": 22,
   "id": "76007f8d-f659-4135-ba2a-3ea38a5c7482",
   "metadata": {},
   "outputs": [],
   "source": [
    "#standardization of the values\n",
    "means = np.mean(regression_data_X,axis = 0)\n",
    "stds = np.std(regression_data_X,axis = 0)\n",
    "regression_data_X = (regression_data_X - means)/stds\n",
    "regression_data_X['y']= regression_data_y\n",
    "df_all = regression_data_X "
   ]
  },
  {
   "cell_type": "code",
   "execution_count": 23,
   "id": "76d1a130-6c6f-48c9-98aa-bddda5a6acc7",
   "metadata": {},
   "outputs": [
    {
     "name": "stdout",
     "output_type": "stream",
     "text": [
      "Optimization terminated successfully.\n",
      "         Current function value: 0.012944\n",
      "         Iterations 13\n",
      "                           Logit Regression Results                           \n",
      "==============================================================================\n",
      "Dep. Variable:                      y   No. Observations:                24875\n",
      "Model:                          Logit   Df Residuals:                    24872\n",
      "Method:                           MLE   Df Model:                            2\n",
      "Date:                Wed, 16 Nov 2022   Pseudo R-squ.:                  0.9804\n",
      "Time:                        16:42:14   Log-Likelihood:                -321.99\n",
      "converged:                       True   LL-Null:                       -16454.\n",
      "Covariance Type:            nonrobust   LLR p-value:                     0.000\n",
      "=================================================================================\n",
      "                    coef    std err          z      P>|z|      [0.025      0.975]\n",
      "---------------------------------------------------------------------------------\n",
      "Intercept        -8.9115      0.770    -11.577      0.000     -10.420      -7.403\n",
      "pathLength       -1.4168      0.080    -17.621      0.000      -1.574      -1.259\n",
      "durationInSec    11.8721      0.696     17.054      0.000      10.508      13.236\n",
      "=================================================================================\n",
      "\n",
      "Possibly complete quasi-separation: A fraction 0.63 of observations can be\n",
      "perfectly predicted. This might indicate that there is complete\n",
      "quasi-separation. In this case some parameters will not be identified.\n"
     ]
    }
   ],
   "source": [
    "formula2 = 'y ~ pathLength + durationInSec'\n",
    "mod = smf.logit(formula=formula2, data=df_all)\n",
    "np.random.seed(2)\n",
    "res = mod.fit()\n",
    "print(res.summary())"
   ]
  },
  {
   "cell_type": "code",
   "execution_count": null,
   "id": "c51c69d9-b9a5-446e-9cdd-63718541dcf1",
   "metadata": {},
   "outputs": [],
   "source": []
  },
  {
   "cell_type": "code",
   "execution_count": null,
   "id": "733c00c9-9047-496a-bb43-5050ed580f1a",
   "metadata": {},
   "outputs": [],
   "source": []
  },
  {
   "cell_type": "code",
   "execution_count": null,
   "id": "1ed9a7d6-88c4-4efb-baa3-04d2b80a724f",
   "metadata": {},
   "outputs": [],
   "source": []
  },
  {
   "cell_type": "code",
   "execution_count": null,
   "id": "9019f82e-4b35-47a2-87d9-e9e67be70292",
   "metadata": {},
   "outputs": [],
   "source": []
  }
 ],
 "metadata": {
  "kernelspec": {
   "display_name": "Python 3 (ipykernel)",
   "language": "python",
   "name": "python3"
  },
  "language_info": {
   "codemirror_mode": {
    "name": "ipython",
    "version": 3
   },
   "file_extension": ".py",
   "mimetype": "text/x-python",
   "name": "python",
   "nbconvert_exporter": "python",
   "pygments_lexer": "ipython3",
   "version": "3.9.7"
  }
 },
 "nbformat": 4,
 "nbformat_minor": 5
}
