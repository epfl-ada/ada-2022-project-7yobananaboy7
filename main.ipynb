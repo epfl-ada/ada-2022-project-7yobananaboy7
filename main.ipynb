{
 "cells": [
  {
   "cell_type": "code",
   "execution_count": 73,
   "id": "6b36102d-49b1-4a0d-acce-52b7da668944",
   "metadata": {},
   "outputs": [],
   "source": [
    "#Import libraries\n",
    "import pandas as pd\n",
    "import numpy as np\n",
    "\n",
    "import urllib"
   ]
  },
  {
   "cell_type": "markdown",
   "id": "d8c1b485-13ae-4bce-8cf4-e69b0422fada",
   "metadata": {},
   "source": [
    "</div>\n",
    "<div class=\"1.1 explanation\" style='background-color:#08135c; border-left: solid #darkblue 4px; border-radius: 4px; padding:0.7em;'>\n",
    "    <span style=\"color:white\">\n",
    "       <h2>1. Data acquisition</h2>\n",
    "    </span>\n",
    "</div>\n",
    "</div>\n",
    "<div class=\"1.1 explanation\" style='background-color:#faefe1; border-left: solid #darkblue 4px; border-radius: 4px; padding:0.7em;'>\n",
    "    <span style=\"color:black\">\n",
    "        Here we load the relevant data using the <span style=\"font-family: monospace\">pandas</span> library. The data we are dealing with follows a relational model. The specific navigation paths can be represented as graphs where the nodes concern the wikipedia pages that are connected through (directional) edges representing the hyperlinks.\n",
    "    </span>\n",
    "</div>"
   ]
  },
  {
   "cell_type": "code",
   "execution_count": 133,
   "id": "2cf61ee5-d38f-4f91-a2f4-e9fcd9ba9302",
   "metadata": {},
   "outputs": [],
   "source": [
    "#Import relevant DataFrames\n",
    "\n",
    "#Articles data\n",
    "articles = pd.read_csv(\"data/articles.tsv\", skiprows=11, names=[\"article\"])\n",
    "articles['article'] = articles['article'].apply(urllib.parse.unquote) #Parsing URL encoding\n",
    "\n",
    "#Category data\n",
    "categories = pd.read_csv(\"data/categories.tsv\", sep=\"\\t\", skiprows=12, names=[\"article\", \"category\"])\n",
    "categories[\"article\"] = categories[\"article\"].apply(urllib.parse.unquote) #Parsing URL encoding\n",
    "\n",
    "#Links data\n",
    "links = pd.read_csv(\"data/links.tsv\", sep=\"\\t\", skiprows=11, names=[\"article\", \"link\"])\n",
    "links[\"article\"] = links[\"article\"].apply(urllib.parse.unquote) #Parsing URL encoding\n",
    "links[\"link\"] = links[\"link\"].apply(urllib.parse.unquote) #Parsing URL encoding\n",
    "\n",
    "#Finished paths\n",
    "paths_finished = pd.read_csv(\"data/paths_finished.tsv\", sep=\"\\t\", skiprows=15, names=[\"hashedIpAddress\",\n",
    "                                                                                      \"timestamp\",\n",
    "                                                                                      \"durationInSec\",\n",
    "                                                                                      \"path\",\n",
    "                                                                                      \"rating\"])\n",
    "paths_finished[\"path\"] = paths_finished[\"path\"].apply(urllib.parse.unquote) #Parsing URL encoding\n",
    "\n",
    "#Unfinished paths\n",
    "paths_unfinished = pd.read_csv(\"data/paths_unfinished.tsv\", sep=\"\\t\", skiprows=16, names=[\"hashedIpAddress\",\n",
    "                                                                                          \"timestamp\",\n",
    "                                                                                          \"durationInSec\",\n",
    "                                                                                          \"path\",\n",
    "                                                                                          \"target\",\n",
    "                                                                                          \"type\"])\n",
    "paths_unfinished[\"path\"] = paths_unfinished[\"path\"].apply(urllib.parse.unquote) #Parsing URL encoding\n",
    "paths_unfinished[\"target\"] = paths_unfinished[\"target\"].apply(urllib.parse.unquote) #Parsing URL encoding\n"
   ]
  },
  {
   "cell_type": "code",
   "execution_count": 135,
   "id": "c4966903-8c49-4ecb-9af6-6dda0e340370",
   "metadata": {},
   "outputs": [
    {
     "data": {
      "text/plain": [
       "24875"
      ]
     },
     "execution_count": 135,
     "metadata": {},
     "output_type": "execute_result"
    }
   ],
   "source": [
    "len(paths_unfinished)"
   ]
  },
  {
   "cell_type": "code",
   "execution_count": null,
   "id": "b66c264a-0269-4140-a4a2-39916808e11e",
   "metadata": {},
   "outputs": [],
   "source": []
  }
 ],
 "metadata": {
  "kernelspec": {
   "display_name": "Python 3 (ipykernel)",
   "language": "python",
   "name": "python3"
  },
  "language_info": {
   "codemirror_mode": {
    "name": "ipython",
    "version": 3
   },
   "file_extension": ".py",
   "mimetype": "text/x-python",
   "name": "python",
   "nbconvert_exporter": "python",
   "pygments_lexer": "ipython3",
   "version": "3.10.4"
  }
 },
 "nbformat": 4,
 "nbformat_minor": 5
}
