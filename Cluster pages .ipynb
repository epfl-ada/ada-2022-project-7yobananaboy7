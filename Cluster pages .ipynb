{
 "cells": [
  {
   "cell_type": "code",
   "execution_count": 1,
   "id": "0e4f3e56",
   "metadata": {},
   "outputs": [],
   "source": [
    "from helpers import *\n",
    "import matplotlib.pyplot as plt\n",
    "\n",
    "%load_ext autoreload\n",
    "%autoreload 2"
   ]
  },
  {
   "cell_type": "code",
   "execution_count": 64,
   "id": "e285b692",
   "metadata": {},
   "outputs": [],
   "source": [
    "articles, categories, links, paths_finished, paths_unfinished, paths_all, shortest_path_distance = load_data()"
   ]
  },
  {
   "cell_type": "code",
   "execution_count": 62,
   "id": "983b0374",
   "metadata": {},
   "outputs": [],
   "source": [
    "# get the data\n",
    "articles, categories, links, paths_finished, paths_unfinished, paths_all, shortest_path_distance = load_data()\n",
    "\n",
    "#remove the paths that has only a starting point and are not of our interest\n",
    "paths_unfinished = paths_unfinished[paths_unfinished.pathLength > 1]\n",
    "\n",
    "# Create the graphs of interest\n",
    "G_paths, G_links = get_graphs(paths_all,links)\n",
    "G_paths_finished, _ = get_graphs(paths_finished,links)\n",
    "G_paths_unfinished, _ = get_graphs(paths_unfinished,links)"
   ]
  },
  {
   "cell_type": "code",
   "execution_count": 3,
   "id": "8d451a74",
   "metadata": {},
   "outputs": [
    {
     "data": {
      "text/plain": [
       "(346767, 124081)"
      ]
     },
     "execution_count": 3,
     "metadata": {},
     "output_type": "execute_result"
    }
   ],
   "source": [
    "# Get the number of finished and unfinished node_visited \n",
    "nb_finished_node_visited = paths_finished.pathLength.sum()\n",
    "nb_unfinished_node_visited = paths_unfinished.pathLength.sum()\n",
    "nb_finished_node_visited, nb_unfinished_node_visited"
   ]
  },
  {
   "cell_type": "code",
   "execution_count": 4,
   "id": "0ff7e956",
   "metadata": {},
   "outputs": [
    {
     "data": {
      "text/plain": [
       "[0, 0]"
      ]
     },
     "execution_count": 4,
     "metadata": {},
     "output_type": "execute_result"
    }
   ],
   "source": [
    "def get_in_out_degree(G, page) :\n",
    "    in_deg = G.in_degree(page, 'weight')\n",
    "    in_deg = in_deg if in_deg else 0\n",
    "    out_deg = G.out_degree(page, 'weight')\n",
    "    out_deg = out_deg if out_deg else 0\n",
    "    \n",
    "    return [in_deg, out_deg]\n",
    "get_in_out_degree(G_paths, 'Áedán_mac_Gabráin') "
   ]
  },
  {
   "cell_type": "markdown",
   "id": "17ecffc7",
   "metadata": {},
   "source": [
    "## Construct the df for the categories with the variables of interest"
   ]
  },
  {
   "cell_type": "code",
   "execution_count": 5,
   "id": "734ceb84",
   "metadata": {},
   "outputs": [],
   "source": [
    "def add_in_out_deg(cat, G):\n",
    "    cat['in_deg'] = cat.article.apply(\n",
    "        lambda art: get_in_out_degree(G, art)[0])\n",
    "    cat['out_deg'] = cat.article.apply(\n",
    "        lambda art: get_in_out_degree(G, art)[1])\n",
    "    cat['mean_in_out_deg'] = (cat['in_deg']+cat['out_deg'])/2\n",
    "    return cat\n",
    "\n",
    "def split_cat(cat):\n",
    "    cat['splitted_cat'] = cat.category.apply(lambda x : x.split('.')[1:])\n",
    "    return cat\n",
    "\n",
    "def get_sum_in_out_by_cat(cat):\n",
    "    cat = cat.explode('splitted_cat')\n",
    "    cat = cat.groupby('splitted_cat').apply(lambda x : pd.Series({\n",
    "        'sum_in_deg' : x.in_deg.sum(),\n",
    "        'sum_out_deg' : x.out_deg.sum(),\n",
    "        'sum_mean_in_out_deg' : x.mean_in_out_deg.sum() \n",
    "    }))\n",
    "    return cat\n",
    "\n",
    "def get_cat_summary(cat, G):\n",
    "    cat = add_in_out_deg(cat, G)\n",
    "    cat = split_cat(cat)\n",
    "    cat = get_sum_in_out_by_cat(cat)\n",
    "    return cat\n",
    "categories_finished = categories.copy()\n",
    "categories_unfinished = categories.copy()\n",
    "\n",
    "categories_finished= get_cat_summary(categories_finished, G_paths_finished)\n",
    "categories_unfinished= get_cat_summary(categories_unfinished, G_paths_unfinished)\n",
    "\n",
    "# Divide the sums by the number of node and multiply by 1000 so that it is easier to read\n",
    "categories_finished = categories_finished/nb_finished_node_visited*1000\n",
    "categories_unfinished = categories_unfinished/nb_unfinished_node_visited*1000\n",
    "\n",
    "categories_finished = categories_finished.rename(columns = {'sum_in_deg'  : 'frac_in_deg_finished',\n",
    "                                                  'sum_out_deg' : 'frac_out_deg_finished',\n",
    "                                                  'sum_mean_in_out_deg' : 'frac_mean_in_out_deg_finished'})\n",
    "categories_unfinished = categories_unfinished.rename(columns ={'sum_in_deg'  : 'frac_in_deg_unfinished',\n",
    "                                                  'sum_out_deg' : 'frac_out_deg_unfinished',\n",
    "                                                  'sum_mean_in_out_deg' : 'frac_mean_in_out_deg_unfinished'})"
   ]
  },
  {
   "cell_type": "code",
   "execution_count": 6,
   "id": "c3c42c77",
   "metadata": {},
   "outputs": [
    {
     "data": {
      "text/html": [
       "<div>\n",
       "<style scoped>\n",
       "    .dataframe tbody tr th:only-of-type {\n",
       "        vertical-align: middle;\n",
       "    }\n",
       "\n",
       "    .dataframe tbody tr th {\n",
       "        vertical-align: top;\n",
       "    }\n",
       "\n",
       "    .dataframe thead th {\n",
       "        text-align: right;\n",
       "    }\n",
       "</style>\n",
       "<table border=\"1\" class=\"dataframe\">\n",
       "  <thead>\n",
       "    <tr style=\"text-align: right;\">\n",
       "      <th></th>\n",
       "      <th>frac_in_deg_finished</th>\n",
       "      <th>frac_out_deg_finished</th>\n",
       "      <th>frac_mean_in_out_deg_finished</th>\n",
       "    </tr>\n",
       "    <tr>\n",
       "      <th>splitted_cat</th>\n",
       "      <th></th>\n",
       "      <th></th>\n",
       "      <th></th>\n",
       "    </tr>\n",
       "  </thead>\n",
       "  <tbody>\n",
       "    <tr>\n",
       "      <th>Actors_models_and_celebrities</th>\n",
       "      <td>0.565221</td>\n",
       "      <td>0.997788</td>\n",
       "      <td>0.781505</td>\n",
       "    </tr>\n",
       "    <tr>\n",
       "      <th>African_Countries</th>\n",
       "      <td>11.154464</td>\n",
       "      <td>10.231654</td>\n",
       "      <td>10.693059</td>\n",
       "    </tr>\n",
       "    <tr>\n",
       "      <th>African_Geography</th>\n",
       "      <td>24.892795</td>\n",
       "      <td>24.243945</td>\n",
       "      <td>24.568370</td>\n",
       "    </tr>\n",
       "    <tr>\n",
       "      <th>Air_and_Sea_transport</th>\n",
       "      <td>2.015763</td>\n",
       "      <td>2.099392</td>\n",
       "      <td>2.057578</td>\n",
       "    </tr>\n",
       "    <tr>\n",
       "      <th>Ancient_History_Classical_History_and_Mythology</th>\n",
       "      <td>14.320855</td>\n",
       "      <td>14.283366</td>\n",
       "      <td>14.302111</td>\n",
       "    </tr>\n",
       "    <tr>\n",
       "      <th>...</th>\n",
       "      <td>...</td>\n",
       "      <td>...</td>\n",
       "      <td>...</td>\n",
       "    </tr>\n",
       "    <tr>\n",
       "      <th>Theatre</th>\n",
       "      <td>2.707870</td>\n",
       "      <td>5.516673</td>\n",
       "      <td>4.112271</td>\n",
       "    </tr>\n",
       "    <tr>\n",
       "      <th>USA_Presidents</th>\n",
       "      <td>5.017779</td>\n",
       "      <td>3.901755</td>\n",
       "      <td>4.459767</td>\n",
       "    </tr>\n",
       "    <tr>\n",
       "      <th>Websites_and_the_Internet</th>\n",
       "      <td>5.813702</td>\n",
       "      <td>5.943472</td>\n",
       "      <td>5.878587</td>\n",
       "    </tr>\n",
       "    <tr>\n",
       "      <th>World_War_II</th>\n",
       "      <td>4.083434</td>\n",
       "      <td>3.446118</td>\n",
       "      <td>3.764776</td>\n",
       "    </tr>\n",
       "    <tr>\n",
       "      <th>Writers_and_critics</th>\n",
       "      <td>4.138225</td>\n",
       "      <td>4.677492</td>\n",
       "      <td>4.407859</td>\n",
       "    </tr>\n",
       "  </tbody>\n",
       "</table>\n",
       "<p>141 rows × 3 columns</p>\n",
       "</div>"
      ],
      "text/plain": [
       "                                                 frac_in_deg_finished  \\\n",
       "splitted_cat                                                            \n",
       "Actors_models_and_celebrities                                0.565221   \n",
       "African_Countries                                           11.154464   \n",
       "African_Geography                                           24.892795   \n",
       "Air_and_Sea_transport                                        2.015763   \n",
       "Ancient_History_Classical_History_and_Mythology             14.320855   \n",
       "...                                                               ...   \n",
       "Theatre                                                      2.707870   \n",
       "USA_Presidents                                               5.017779   \n",
       "Websites_and_the_Internet                                    5.813702   \n",
       "World_War_II                                                 4.083434   \n",
       "Writers_and_critics                                          4.138225   \n",
       "\n",
       "                                                 frac_out_deg_finished  \\\n",
       "splitted_cat                                                             \n",
       "Actors_models_and_celebrities                                 0.997788   \n",
       "African_Countries                                            10.231654   \n",
       "African_Geography                                            24.243945   \n",
       "Air_and_Sea_transport                                         2.099392   \n",
       "Ancient_History_Classical_History_and_Mythology              14.283366   \n",
       "...                                                                ...   \n",
       "Theatre                                                       5.516673   \n",
       "USA_Presidents                                                3.901755   \n",
       "Websites_and_the_Internet                                     5.943472   \n",
       "World_War_II                                                  3.446118   \n",
       "Writers_and_critics                                           4.677492   \n",
       "\n",
       "                                                 frac_mean_in_out_deg_finished  \n",
       "splitted_cat                                                                    \n",
       "Actors_models_and_celebrities                                         0.781505  \n",
       "African_Countries                                                    10.693059  \n",
       "African_Geography                                                    24.568370  \n",
       "Air_and_Sea_transport                                                 2.057578  \n",
       "Ancient_History_Classical_History_and_Mythology                      14.302111  \n",
       "...                                                                        ...  \n",
       "Theatre                                                               4.112271  \n",
       "USA_Presidents                                                        4.459767  \n",
       "Websites_and_the_Internet                                             5.878587  \n",
       "World_War_II                                                          3.764776  \n",
       "Writers_and_critics                                                   4.407859  \n",
       "\n",
       "[141 rows x 3 columns]"
      ]
     },
     "execution_count": 6,
     "metadata": {},
     "output_type": "execute_result"
    }
   ],
   "source": [
    "categories_finished"
   ]
  },
  {
   "cell_type": "code",
   "execution_count": 7,
   "id": "871e9333",
   "metadata": {},
   "outputs": [],
   "source": [
    "#We join all the categories\n",
    "categories_all = categories_finished.join(categories_unfinished)"
   ]
  },
  {
   "cell_type": "code",
   "execution_count": 8,
   "id": "5713a9e1",
   "metadata": {},
   "outputs": [],
   "source": [
    "categories_all['diff_in'] = categories_all.apply(lambda x: \n",
    "            (x.frac_in_deg_finished - x.frac_in_deg_unfinished) , axis = 1)\n",
    "categories_all['diff_out'] = categories_all.apply(lambda x: \n",
    "            (x.frac_out_deg_finished - x.frac_out_deg_unfinished), axis = 1)\n",
    "categories_all['diff_mean_in_out'] = categories_all.apply(lambda x: \n",
    "            (x.frac_mean_in_out_deg_finished - x.frac_mean_in_out_deg_unfinished), axis = 1)\n",
    "categories_all['weighted_diff_in'] = categories_all.apply(lambda x: \n",
    "            (x.frac_in_deg_finished - x.frac_in_deg_unfinished) /(x.frac_in_deg_finished + x.frac_in_deg_unfinished), axis = 1)\n",
    "categories_all['weighted_diff_out'] = categories_all.apply(lambda x: \n",
    "            (x.frac_out_deg_finished - x.frac_out_deg_unfinished) /(x.frac_out_deg_finished + x.frac_out_deg_unfinished), axis = 1)\n",
    "categories_all['weighted_diff_mean_in_out'] = categories_all.apply(lambda x: \n",
    "            (x.frac_mean_in_out_deg_finished - x.frac_mean_in_out_deg_unfinished)/(x.frac_mean_in_out_deg_finished + x.frac_mean_in_out_deg_unfinished), axis = 1)\n",
    "categories_all['frac_finished_for_degree'] = categories_all.apply(lambda x: \n",
    "            (x.frac_mean_in_out_deg_finished)/(x.frac_mean_in_out_deg_finished + x.frac_mean_in_out_deg_unfinished), axis = 1)\n",
    "\n",
    "categories_all['diff_finished'] = categories_all.apply(lambda x: \n",
    "            (x.frac_in_deg_finished - x.frac_out_deg_finished) , axis = 1)\n",
    "categories_all['diff_unfinished'] = categories_all.apply(lambda x: \n",
    "            (x.frac_in_deg_finished - x.frac_out_deg_unfinished), axis = 1)\n",
    "categories_all['weighted_diff_finished'] = categories_all.apply(lambda x: \n",
    "            (x.frac_in_deg_finished - x.frac_out_deg_finished)/(x.frac_in_deg_finished + x.frac_out_deg_finished) , axis = 1)\n",
    "categories_all['weighted_diff_unfinished'] = categories_all.apply(lambda x: \n",
    "            (x.frac_in_deg_finished - x.frac_out_deg_unfinished)/(x.frac_in_deg_finished + x.frac_out_deg_finished), axis = 1)"
   ]
  },
  {
   "cell_type": "code",
   "execution_count": 9,
   "id": "78b26d6e",
   "metadata": {},
   "outputs": [
    {
     "data": {
      "text/html": [
       "<div>\n",
       "<style scoped>\n",
       "    .dataframe tbody tr th:only-of-type {\n",
       "        vertical-align: middle;\n",
       "    }\n",
       "\n",
       "    .dataframe tbody tr th {\n",
       "        vertical-align: top;\n",
       "    }\n",
       "\n",
       "    .dataframe thead th {\n",
       "        text-align: right;\n",
       "    }\n",
       "</style>\n",
       "<table border=\"1\" class=\"dataframe\">\n",
       "  <thead>\n",
       "    <tr style=\"text-align: right;\">\n",
       "      <th></th>\n",
       "      <th>weighted_diff_mean_in_out</th>\n",
       "      <th>weighted_diff_finished</th>\n",
       "      <th>weighted_diff_unfinished</th>\n",
       "    </tr>\n",
       "    <tr>\n",
       "      <th>splitted_cat</th>\n",
       "      <th></th>\n",
       "      <th></th>\n",
       "      <th></th>\n",
       "    </tr>\n",
       "  </thead>\n",
       "  <tbody>\n",
       "    <tr>\n",
       "      <th>Actors_models_and_celebrities</th>\n",
       "      <td>-0.089356</td>\n",
       "      <td>-0.276753</td>\n",
       "      <td>-0.370563</td>\n",
       "    </tr>\n",
       "    <tr>\n",
       "      <th>African_Countries</th>\n",
       "      <td>0.093909</td>\n",
       "      <td>0.043150</td>\n",
       "      <td>0.130787</td>\n",
       "    </tr>\n",
       "    <tr>\n",
       "      <th>African_Geography</th>\n",
       "      <td>0.118403</td>\n",
       "      <td>0.013205</td>\n",
       "      <td>0.123787</td>\n",
       "    </tr>\n",
       "    <tr>\n",
       "      <th>Air_and_Sea_transport</th>\n",
       "      <td>-0.036228</td>\n",
       "      <td>-0.020322</td>\n",
       "      <td>-0.111400</td>\n",
       "    </tr>\n",
       "    <tr>\n",
       "      <th>Ancient_History_Classical_History_and_Mythology</th>\n",
       "      <td>-0.011662</td>\n",
       "      <td>0.001311</td>\n",
       "      <td>0.008437</td>\n",
       "    </tr>\n",
       "  </tbody>\n",
       "</table>\n",
       "</div>"
      ],
      "text/plain": [
       "                                                 weighted_diff_mean_in_out  \\\n",
       "splitted_cat                                                                 \n",
       "Actors_models_and_celebrities                                    -0.089356   \n",
       "African_Countries                                                 0.093909   \n",
       "African_Geography                                                 0.118403   \n",
       "Air_and_Sea_transport                                            -0.036228   \n",
       "Ancient_History_Classical_History_and_Mythology                  -0.011662   \n",
       "\n",
       "                                                 weighted_diff_finished  \\\n",
       "splitted_cat                                                              \n",
       "Actors_models_and_celebrities                                 -0.276753   \n",
       "African_Countries                                              0.043150   \n",
       "African_Geography                                              0.013205   \n",
       "Air_and_Sea_transport                                         -0.020322   \n",
       "Ancient_History_Classical_History_and_Mythology                0.001311   \n",
       "\n",
       "                                                 weighted_diff_unfinished  \n",
       "splitted_cat                                                               \n",
       "Actors_models_and_celebrities                                   -0.370563  \n",
       "African_Countries                                                0.130787  \n",
       "African_Geography                                                0.123787  \n",
       "Air_and_Sea_transport                                           -0.111400  \n",
       "Ancient_History_Classical_History_and_Mythology                  0.008437  "
      ]
     },
     "execution_count": 9,
     "metadata": {},
     "output_type": "execute_result"
    }
   ],
   "source": [
    "categories_all[['weighted_diff_mean_in_out', 'weighted_diff_finished', 'weighted_diff_unfinished']].head(5)"
   ]
  },
  {
   "cell_type": "markdown",
   "id": "0f623b53",
   "metadata": {},
   "source": [
    "## Difference between of node in/out degree between finished and unfineshed graphs \n",
    "\n",
    "Now that we have all the features we needed we can start looking at results. \n",
    "\n",
    "First we plot the difference between finished and unfineshed graphs of node degree (that we set to $\\frac{deg_{in}+deg_{out}}{2}$). The node degree can be seen as how many time we use the concept during a game. If the difference between finished and unfinished of a concept degree is high it means that the concept is more used in finished paths than in unfinished and that maybe players should go more to this concept page to improve the finished game rate. On the other hand, a big negative difference would mean that this concept should be avoided.\n",
    "\n",
    "_Note_ : We have to be carefull with the results because maybe it is not the choice of the player to go to these concepts but he might have been forced by the starting or target page. We analyse this deeper in a later section. However, this would already tell us that concepts might be harder than others \n",
    "\n",
    "### Histogram of the absolute difference  between finished and unfineshed graphs of node degree\n",
    "\n",
    "We can see that there are no concepts where people get more stuck in unfinished paths than in finished. However, we can see that finished paths have concepts where we can go that may be more useful and help the players find their way.\n",
    "\n",
    "However, we have to be carefull because maybe the difference of 10 is between 610 and 600 which does not mean the same thing as the difference between 5 and 15. Therefore we divide the node degree by the sum of degrees."
   ]
  },
  {
   "cell_type": "code",
   "execution_count": 10,
   "id": "2b185403",
   "metadata": {},
   "outputs": [
    {
     "data": {
      "text/plain": [
       "<matplotlib.legend.Legend at 0x188935413d0>"
      ]
     },
     "execution_count": 10,
     "metadata": {},
     "output_type": "execute_result"
    },
    {
     "data": {
      "image/png": "[encoded data removed]",
      "text/plain": [
       "<Figure size 432x288 with 1 Axes>"
      ]
     },
     "metadata": {
      "needs_background": "light"
     },
     "output_type": "display_data"
    }
   ],
   "source": [
    "def get_first_last(n, df, cat):\n",
    "    df_sorted_cat = df[cat].sort_values()\n",
    "    return df_sorted_cat[-n :][::-1], df_sorted_cat[:n]\n",
    "\n",
    "categories_all.diff_in.hist(alpha = 0.6, label = 'in_degree').set_title('Histogram of the absolute difference  between finished and unfineshed graphs of node degree')\n",
    "categories_all.diff_out.hist(alpha = 0.6, label = 'out_degree')\n",
    "categories_all.diff_mean_in_out.hist(alpha = 0.6, label = 'mean_degree')\n",
    "plt.xlabel('Difference of degree')\n",
    "plt.ylabel('Count')\n",
    "plt.legend()"
   ]
  },
  {
   "cell_type": "markdown",
   "id": "9b1e97fa",
   "metadata": {},
   "source": [
    "### Histogram of the weighted difference between of node in/out degree between finished and unfineshed graphs\n",
    "\n",
    "From this we can see that there are some concepts that are more used in the unfinished paths that are all related to art/movies/theatre. On the other hand, some concepts like History/chemistry are more used in finished paths.\n"
   ]
  },
  {
   "cell_type": "code",
   "execution_count": 11,
   "id": "86cc99f1",
   "metadata": {},
   "outputs": [
    {
     "data": {
      "text/plain": [
       "<matplotlib.legend.Legend at 0x188901f6ac0>"
      ]
     },
     "execution_count": 11,
     "metadata": {},
     "output_type": "execute_result"
    },
    {
     "data": {
      "image/png": "[encoded data removed]",
      "text/plain": [
       "<Figure size 432x288 with 1 Axes>"
      ]
     },
     "metadata": {
      "needs_background": "light"
     },
     "output_type": "display_data"
    }
   ],
   "source": [
    "categories_all.weighted_diff_in.hist(alpha = 0.2, label = 'in_degree').set_title('Histogram of the weighted difference between of node in/out degree between finished and unfineshed graphs')\n",
    "categories_all.weighted_diff_out.hist(alpha = 0.2, label = 'out_degree')\n",
    "categories_all.weighted_diff_mean_in_out.hist(alpha = 0.8, label = 'out_degree')\n",
    "\n",
    "plt.xlabel('Weighted difference of degree')\n",
    "plt.ylabel('Count')\n",
    "plt.legend()"
   ]
  },
  {
   "cell_type": "code",
   "execution_count": 12,
   "id": "20a5f5c8",
   "metadata": {},
   "outputs": [
    {
     "data": {
      "text/plain": [
       "(splitted_cat\n",
       " General_Chemistry            0.404116\n",
       " Chemical_elements            0.347463\n",
       " Chemistry                    0.315946\n",
       " Software                     0.276284\n",
       " Middle_Eastern_Countries     0.262108\n",
       " Dinosaurs                    0.261413\n",
       " Monarchs_of_Great_Britain    0.253200\n",
       " Musical_Instruments          0.242753\n",
       " Name: weighted_diff_mean_in_out, dtype: float64,\n",
       " splitted_cat\n",
       " Theatre                                 -0.308249\n",
       " Literature_types                        -0.265847\n",
       " Community_organisations                 -0.241093\n",
       " Architecture                            -0.236895\n",
       " Railway_transport                       -0.220437\n",
       " Producers_directors_and_media_figures   -0.206322\n",
       " Sports                                  -0.206229\n",
       " Films                                   -0.196905\n",
       " Name: weighted_diff_mean_in_out, dtype: float64)"
      ]
     },
     "execution_count": 12,
     "metadata": {},
     "output_type": "execute_result"
    }
   ],
   "source": [
    "get_first_last(8, categories_all, 'weighted_diff_mean_in_out')"
   ]
  },
  {
   "cell_type": "markdown",
   "id": "49c43aa1",
   "metadata": {},
   "source": [
    "### Histogram of the fraction of use of the concept in finished path over all the time it was used"
   ]
  },
  {
   "cell_type": "code",
   "execution_count": 13,
   "id": "e8afa0bd",
   "metadata": {},
   "outputs": [
    {
     "data": {
      "text/plain": [
       "<matplotlib.legend.Legend at 0x1888ed37e80>"
      ]
     },
     "execution_count": 13,
     "metadata": {},
     "output_type": "execute_result"
    },
    {
     "data": {
      "image/png": "[encoded data removed]",
      "text/plain": [
       "<Figure size 432x288 with 1 Axes>"
      ]
     },
     "metadata": {
      "needs_background": "light"
     },
     "output_type": "display_data"
    }
   ],
   "source": [
    "categories_all.frac_finished_for_degree.hist(label = 'frac_finished_for_degree').set_title('Histogram of the fraction of use of the concept in finished path over all the time it was used')\n",
    "plt.xlabel('Fraction use in the finished paths')\n",
    "plt.ylabel('Count')\n",
    "plt.legend()"
   ]
  },
  {
   "cell_type": "code",
   "execution_count": 14,
   "id": "997ab220",
   "metadata": {},
   "outputs": [
    {
     "data": {
      "text/plain": [
       "(splitted_cat\n",
       " General_Chemistry                                          0.702058\n",
       " Chemical_elements                                          0.673732\n",
       " Chemistry                                                  0.657973\n",
       " Software                                                   0.638142\n",
       " Middle_Eastern_Countries                                   0.631054\n",
       " Dinosaurs                                                  0.630707\n",
       " Monarchs_of_Great_Britain                                  0.626600\n",
       " Musical_Instruments                                        0.621377\n",
       " British_History_1500_and_before_including_Roman_Britain    0.616516\n",
       " Antarctica                                                 0.609504\n",
       " Name: frac_finished_for_degree, dtype: float64,\n",
       " splitted_cat\n",
       " Theatre                                  0.345876\n",
       " Literature_types                         0.367076\n",
       " Community_organisations                  0.379453\n",
       " Architecture                             0.381552\n",
       " Railway_transport                        0.389782\n",
       " Producers_directors_and_media_figures    0.396839\n",
       " Sports                                   0.396886\n",
       " Films                                    0.401547\n",
       " Television                               0.402142\n",
       " General_Literature                       0.406316\n",
       " Name: frac_finished_for_degree, dtype: float64)"
      ]
     },
     "execution_count": 14,
     "metadata": {},
     "output_type": "execute_result"
    }
   ],
   "source": [
    "get_first_last(10, categories_all, 'frac_finished_for_degree')"
   ]
  },
  {
   "cell_type": "markdown",
   "id": "eeec399a",
   "metadata": {},
   "source": [
    "### Histogram of the weighted difference between of node in/out degree of big concepts between finished and unfineshed graphs\n",
    "Finally we want to see only the difference in big concepts - concepts that often appear. For this we reduced the concepts we look at to only concepts that have at least 100 of in_degree."
   ]
  },
  {
   "cell_type": "code",
   "execution_count": 15,
   "id": "10c9dde1",
   "metadata": {},
   "outputs": [
    {
     "data": {
      "text/plain": [
       "<matplotlib.legend.Legend at 0x1889026cee0>"
      ]
     },
     "execution_count": 15,
     "metadata": {},
     "output_type": "execute_result"
    },
    {
     "data": {
      "image/png": "[encoded data removed]",
      "text/plain": [
       "<Figure size 432x288 with 1 Axes>"
      ]
     },
     "metadata": {
      "needs_background": "light"
     },
     "output_type": "display_data"
    }
   ],
   "source": [
    "min_deg = 1000* 1/40 \n",
    "categories_all[categories_all.frac_mean_in_out_deg_finished > min_deg].weighted_diff_in.hist(alpha = 0.2, label = 'in_degree').set_title('Histogram of the weighted difference between of node in/out degree of big concepts between finished and unfineshed graphs')\n",
    "categories_all[categories_all.frac_mean_in_out_deg_finished > min_deg].weighted_diff_out.hist(alpha = 0.2, label = 'out_degree')\n",
    "categories_all[categories_all.frac_mean_in_out_deg_finished > min_deg].weighted_diff_mean_in_out.hist(alpha = 0.8, label = 'mean_in_out_degree')\n",
    "plt.legend()"
   ]
  },
  {
   "cell_type": "code",
   "execution_count": 16,
   "id": "835046bf",
   "metadata": {},
   "outputs": [
    {
     "name": "stderr",
     "output_type": "stream",
     "text": [
      "C:\\Users\\mathi\\AppData\\Local\\Temp/ipykernel_36136/3536877378.py:1: UserWarning: Boolean Series key will be reindexed to match DataFrame index.\n",
      "  categories_all[categories_all.frac_mean_in_out_deg_finished > min_deg][categories_all['weighted_diff_mean_in_out'] >0.05].weighted_diff_in.sort_values(ascending = False).index\n"
     ]
    },
    {
     "data": {
      "text/plain": [
       "Index(['Chemistry', 'British_History', 'Physics', 'People', 'Science',\n",
       "       'European_Geography', 'History', 'European_Countries',\n",
       "       'General_Geography', 'Geography', 'Countries'],\n",
       "      dtype='object', name='splitted_cat')"
      ]
     },
     "execution_count": 16,
     "metadata": {},
     "output_type": "execute_result"
    }
   ],
   "source": [
    "categories_all[categories_all.frac_mean_in_out_deg_finished > min_deg][categories_all['weighted_diff_mean_in_out'] >0.05].weighted_diff_in.sort_values(ascending = False).index"
   ]
  },
  {
   "cell_type": "code",
   "execution_count": 17,
   "id": "0153cf33",
   "metadata": {},
   "outputs": [
    {
     "name": "stderr",
     "output_type": "stream",
     "text": [
      "C:\\Users\\mathi\\AppData\\Local\\Temp/ipykernel_36136/4094025566.py:1: UserWarning: Boolean Series key will be reindexed to match DataFrame index.\n",
      "  categories_all[categories_all.frac_mean_in_out_deg_finished > min_deg][categories_all['weighted_diff_mean_in_out'] < -0.015].weighted_diff_in.sort_values(ascending = False).index\n"
     ]
    },
    {
     "data": {
      "text/plain": [
       "Index(['Citizenship', 'Everyday_life', 'North_American_Geography',\n",
       "       'Language_and_literature', 'General_Biology'],\n",
       "      dtype='object', name='splitted_cat')"
      ]
     },
     "execution_count": 17,
     "metadata": {},
     "output_type": "execute_result"
    }
   ],
   "source": [
    "categories_all[categories_all.frac_mean_in_out_deg_finished > min_deg][categories_all['weighted_diff_mean_in_out'] < -0.015].weighted_diff_in.sort_values(ascending = False).index"
   ]
  },
  {
   "cell_type": "markdown",
   "id": "afe68fdf",
   "metadata": {},
   "source": [
    "## Look at the difference between in and out degree in finished and unfinished paths \n",
    "diff = in_deg- out_deg. It implies that \n",
    "- if diff is big, it means that we came to this node but then came back to the previous one \n",
    "- if diff is small, it means that we get back and forth from this node not knowing how to escape\n",
    "\n",
    "First, we see that nodes for finished paths are more balanced, which means the go back button was not used much in these concepts, whereas for unfinished paths it is skewed right but also to the left.\n",
    "\n",
    "From this we see that we have both cases with unfinished paths and what is interesting is that the \n",
    "- the node they go to and then come back are the node used more in finished paths like politics/history/chemistry, which means that maybe they don't adopt the good strategy and should have continued in this direction.\n",
    "- The node they cannot escape are the ones related to litterature which are the node used less in finished than in unfinished. So we might conclude that the players should escapte these node as soon as possible."
   ]
  },
  {
   "cell_type": "code",
   "execution_count": 18,
   "id": "1263318c",
   "metadata": {},
   "outputs": [
    {
     "data": {
      "text/plain": [
       "<matplotlib.legend.Legend at 0x188902bdfd0>"
      ]
     },
     "execution_count": 18,
     "metadata": {},
     "output_type": "execute_result"
    },
    {
     "data": {
      "image/png": "[encoded data removed]",
      "text/plain": [
       "<Figure size 432x288 with 1 Axes>"
      ]
     },
     "metadata": {
      "needs_background": "light"
     },
     "output_type": "display_data"
    }
   ],
   "source": [
    "categories_all.weighted_diff_finished.hist(alpha = 0.6, label = 'finished').set_title('Histogram of the weighted difference between of node in and node out degree for finished and unfineshed graphs')\n",
    "categories_all.weighted_diff_unfinished.hist(alpha = 0.6, label = 'unfinished')\n",
    "plt.legend()"
   ]
  },
  {
   "cell_type": "code",
   "execution_count": 19,
   "id": "1640f210",
   "metadata": {},
   "outputs": [
    {
     "data": {
      "text/plain": [
       "(splitted_cat\n",
       " General_Chemistry                                          0.302968\n",
       " Chemical_elements                                          0.268312\n",
       " British_History_1500_and_before_including_Roman_Britain    0.259631\n",
       " Chemistry                                                  0.243379\n",
       " Software                                                   0.237548\n",
       " Middle_Eastern_Countries                                   0.230772\n",
       " Musical_Instruments                                        0.226893\n",
       " Monarchs_of_Great_Britain                                  0.215164\n",
       " Geography_of_the_Middle_East                               0.202387\n",
       " World_War_II                                               0.200879\n",
       " Name: weighted_diff_unfinished, dtype: float64,\n",
       " splitted_cat\n",
       " Theatre                                 -0.961289\n",
       " Architecture                            -0.901713\n",
       " Literature_types                        -0.855537\n",
       " Cartoons                                -0.728956\n",
       " Producers_directors_and_media_figures   -0.483409\n",
       " Railway_transport                       -0.473785\n",
       " Actors_models_and_celebrities           -0.370563\n",
       " General_Literature                      -0.337548\n",
       " Films                                   -0.297783\n",
       " Television                              -0.280587\n",
       " Name: weighted_diff_unfinished, dtype: float64)"
      ]
     },
     "execution_count": 19,
     "metadata": {},
     "output_type": "execute_result"
    }
   ],
   "source": [
    "get_first_last(10, categories_all, 'weighted_diff_unfinished')"
   ]
  },
  {
   "cell_type": "markdown",
   "id": "a26129f6",
   "metadata": {},
   "source": [
    "## Use Bokeh to plot results "
   ]
  },
  {
   "cell_type": "code",
   "execution_count": 20,
   "id": "6c7b5bdc",
   "metadata": {},
   "outputs": [
    {
     "data": {
      "text/html": [
       "\n",
       "    <div class=\"bk-root\">\n",
       "        <a href=\"https://bokeh.org\" target=\"_blank\" class=\"bk-logo bk-logo-small bk-logo-notebook\"></a>\n",
       "        <span id=\"1002\">Loading BokehJS ...</span>\n",
       "    </div>"
      ]
     },
     "metadata": {},
     "output_type": "display_data"
    },
    {
     "data": {
      "application/javascript": [
       "\n",
       "(function(root) {\n",
       "  function now() {\n",
       "    return new Date();\n",
       "  }\n",
       "\n",
       "  const force = true;\n",
       "\n",
       "  if (typeof root._bokeh_onload_callbacks === \"undefined\" || force === true) {\n",
       "    root._bokeh_onload_callbacks = [];\n",
       "    root._bokeh_is_loading = undefined;\n",
       "  }\n",
       "\n",
       "  const JS_MIME_TYPE = 'application/javascript';\n",
       "  const HTML_MIME_TYPE = 'text/html';\n",
       "  const EXEC_MIME_TYPE = 'application/vnd.bokehjs_exec.v0+json';\n",
       "  const CLASS_NAME = 'output_bokeh rendered_html';\n",
       "\n",
       "  /**\n",
       "   * Render data to the DOM node\n",
       "   */\n",
       "  function render(props, node) {\n",
       "    const script = document.createElement(\"script\");\n",
       "    node.appendChild(script);\n",
       "  }\n",
       "\n",
       "  /**\n",
       "   * Handle when an output is cleared or removed\n",
       "   */\n",
       "  function handleClearOutput(event, handle) {\n",
       "    const cell = handle.cell;\n",
       "\n",
       "    const id = cell.output_area._bokeh_element_id;\n",
       "    const server_id = cell.output_area._bokeh_server_id;\n",
       "    // Clean up Bokeh references\n",
       "    if (id != null && id in Bokeh.index) {\n",
       "      Bokeh.index[id].model.document.clear();\n",
       "      delete Bokeh.index[id];\n",
       "    }\n",
       "\n",
       "    if (server_id !== undefined) {\n",
       "      // Clean up Bokeh references\n",
       "      const cmd_clean = \"from bokeh.io.state import curstate; print(curstate().uuid_to_server['\" + server_id + \"'].get_sessions()[0].document.roots[0]._id)\";\n",
       "      cell.notebook.kernel.execute(cmd_clean, {\n",
       "        iopub: {\n",
       "          output: function(msg) {\n",
       "            const id = msg.content.text.trim();\n",
       "            if (id in Bokeh.index) {\n",
       "              Bokeh.index[id].model.document.clear();\n",
       "              delete Bokeh.index[id];\n",
       "            }\n",
       "          }\n",
       "        }\n",
       "      });\n",
       "      // Destroy server and session\n",
       "      const cmd_destroy = \"import bokeh.io.notebook as ion; ion.destroy_server('\" + server_id + \"')\";\n",
       "      cell.notebook.kernel.execute(cmd_destroy);\n",
       "    }\n",
       "  }\n",
       "\n",
       "  /**\n",
       "   * Handle when a new output is added\n",
       "   */\n",
       "  function handleAddOutput(event, handle) {\n",
       "    const output_area = handle.output_area;\n",
       "    const output = handle.output;\n",
       "\n",
       "    // limit handleAddOutput to display_data with EXEC_MIME_TYPE content only\n",
       "    if ((output.output_type != \"display_data\") || (!Object.prototype.hasOwnProperty.call(output.data, EXEC_MIME_TYPE))) {\n",
       "      return\n",
       "    }\n",
       "\n",
       "    const toinsert = output_area.element.find(\".\" + CLASS_NAME.split(' ')[0]);\n",
       "\n",
       "    if (output.metadata[EXEC_MIME_TYPE][\"id\"] !== undefined) {\n",
       "      toinsert[toinsert.length - 1].firstChild.textContent = output.data[JS_MIME_TYPE];\n",
       "      // store reference to embed id on output_area\n",
       "      output_area._bokeh_element_id = output.metadata[EXEC_MIME_TYPE][\"id\"];\n",
       "    }\n",
       "    if (output.metadata[EXEC_MIME_TYPE][\"server_id\"] !== undefined) {\n",
       "      const bk_div = document.createElement(\"div\");\n",
       "      bk_div.innerHTML = output.data[HTML_MIME_TYPE];\n",
       "      const script_attrs = bk_div.children[0].attributes;\n",
       "      for (let i = 0; i < script_attrs.length; i++) {\n",
       "        toinsert[toinsert.length - 1].firstChild.setAttribute(script_attrs[i].name, script_attrs[i].value);\n",
       "        toinsert[toinsert.length - 1].firstChild.textContent = bk_div.children[0].textContent\n",
       "      }\n",
       "      // store reference to server id on output_area\n",
       "      output_area._bokeh_server_id = output.metadata[EXEC_MIME_TYPE][\"server_id\"];\n",
       "    }\n",
       "  }\n",
       "\n",
       "  function register_renderer(events, OutputArea) {\n",
       "\n",
       "    function append_mime(data, metadata, element) {\n",
       "      // create a DOM node to render to\n",
       "      const toinsert = this.create_output_subarea(\n",
       "        metadata,\n",
       "        CLASS_NAME,\n",
       "        EXEC_MIME_TYPE\n",
       "      );\n",
       "      this.keyboard_manager.register_events(toinsert);\n",
       "      // Render to node\n",
       "      const props = {data: data, metadata: metadata[EXEC_MIME_TYPE]};\n",
       "      render(props, toinsert[toinsert.length - 1]);\n",
       "      element.append(toinsert);\n",
       "      return toinsert\n",
       "    }\n",
       "\n",
       "    /* Handle when an output is cleared or removed */\n",
       "    events.on('clear_output.CodeCell', handleClearOutput);\n",
       "    events.on('delete.Cell', handleClearOutput);\n",
       "\n",
       "    /* Handle when a new output is added */\n",
       "    events.on('output_added.OutputArea', handleAddOutput);\n",
       "\n",
       "    /**\n",
       "     * Register the mime type and append_mime function with output_area\n",
       "     */\n",
       "    OutputArea.prototype.register_mime_type(EXEC_MIME_TYPE, append_mime, {\n",
       "      /* Is output safe? */\n",
       "      safe: true,\n",
       "      /* Index of renderer in `output_area.display_order` */\n",
       "      index: 0\n",
       "    });\n",
       "  }\n",
       "\n",
       "  // register the mime type if in Jupyter Notebook environment and previously unregistered\n",
       "  if (root.Jupyter !== undefined) {\n",
       "    const events = require('base/js/events');\n",
       "    const OutputArea = require('notebook/js/outputarea').OutputArea;\n",
       "\n",
       "    if (OutputArea.prototype.mime_types().indexOf(EXEC_MIME_TYPE) == -1) {\n",
       "      register_renderer(events, OutputArea);\n",
       "    }\n",
       "  }\n",
       "\n",
       "  \n",
       "  if (typeof (root._bokeh_timeout) === \"undefined\" || force === true) {\n",
       "    root._bokeh_timeout = Date.now() + 5000;\n",
       "    root._bokeh_failed_load = false;\n",
       "  }\n",
       "\n",
       "  const NB_LOAD_WARNING = {'data': {'text/html':\n",
       "     \"<div style='background-color: #fdd'>\\n\"+\n",
       "     \"<p>\\n\"+\n",
       "     \"BokehJS does not appear to have successfully loaded. If loading BokehJS from CDN, this \\n\"+\n",
       "     \"may be due to a slow or bad network connection. Possible fixes:\\n\"+\n",
       "     \"</p>\\n\"+\n",
       "     \"<ul>\\n\"+\n",
       "     \"<li>re-rerun `output_notebook()` to attempt to load from CDN again, or</li>\\n\"+\n",
       "     \"<li>use INLINE resources instead, as so:</li>\\n\"+\n",
       "     \"</ul>\\n\"+\n",
       "     \"<code>\\n\"+\n",
       "     \"from bokeh.resources import INLINE\\n\"+\n",
       "     \"output_notebook(resources=INLINE)\\n\"+\n",
       "     \"</code>\\n\"+\n",
       "     \"</div>\"}};\n",
       "\n",
       "  function display_loaded() {\n",
       "    const el = document.getElementById(\"1002\");\n",
       "    if (el != null) {\n",
       "      el.textContent = \"BokehJS is loading...\";\n",
       "    }\n",
       "    if (root.Bokeh !== undefined) {\n",
       "      if (el != null) {\n",
       "        el.textContent = \"BokehJS \" + root.Bokeh.version + \" successfully loaded.\";\n",
       "      }\n",
       "    } else if (Date.now() < root._bokeh_timeout) {\n",
       "      setTimeout(display_loaded, 100)\n",
       "    }\n",
       "  }\n",
       "\n",
       "\n",
       "  function run_callbacks() {\n",
       "    try {\n",
       "      root._bokeh_onload_callbacks.forEach(function(callback) {\n",
       "        if (callback != null)\n",
       "          callback();\n",
       "      });\n",
       "    } finally {\n",
       "      delete root._bokeh_onload_callbacks\n",
       "    }\n",
       "    console.debug(\"Bokeh: all callbacks have finished\");\n",
       "  }\n",
       "\n",
       "  function load_libs(css_urls, js_urls, callback) {\n",
       "    if (css_urls == null) css_urls = [];\n",
       "    if (js_urls == null) js_urls = [];\n",
       "\n",
       "    root._bokeh_onload_callbacks.push(callback);\n",
       "    if (root._bokeh_is_loading > 0) {\n",
       "      console.debug(\"Bokeh: BokehJS is being loaded, scheduling callback at\", now());\n",
       "      return null;\n",
       "    }\n",
       "    if (js_urls == null || js_urls.length === 0) {\n",
       "      run_callbacks();\n",
       "      return null;\n",
       "    }\n",
       "    console.debug(\"Bokeh: BokehJS not loaded, scheduling load and callback at\", now());\n",
       "    root._bokeh_is_loading = css_urls.length + js_urls.length;\n",
       "\n",
       "    function on_load() {\n",
       "      root._bokeh_is_loading--;\n",
       "      if (root._bokeh_is_loading === 0) {\n",
       "        console.debug(\"Bokeh: all BokehJS libraries/stylesheets loaded\");\n",
       "        run_callbacks()\n",
       "      }\n",
       "    }\n",
       "\n",
       "    function on_error(url) {\n",
       "      console.error(\"failed to load \" + url);\n",
       "    }\n",
       "\n",
       "    for (let i = 0; i < css_urls.length; i++) {\n",
       "      const url = css_urls[i];\n",
       "      const element = document.createElement(\"link\");\n",
       "      element.onload = on_load;\n",
       "      element.onerror = on_error.bind(null, url);\n",
       "      element.rel = \"stylesheet\";\n",
       "      element.type = \"text/css\";\n",
       "      element.href = url;\n",
       "      console.debug(\"Bokeh: injecting link tag for BokehJS stylesheet: \", url);\n",
       "      document.body.appendChild(element);\n",
       "    }\n",
       "\n",
       "    for (let i = 0; i < js_urls.length; i++) {\n",
       "      const url = js_urls[i];\n",
       "      const element = document.createElement('script');\n",
       "      element.onload = on_load;\n",
       "      element.onerror = on_error.bind(null, url);\n",
       "      element.async = false;\n",
       "      element.src = url;\n",
       "      console.debug(\"Bokeh: injecting script tag for BokehJS library: \", url);\n",
       "      document.head.appendChild(element);\n",
       "    }\n",
       "  };\n",
       "\n",
       "  function inject_raw_css(css) {\n",
       "    const element = document.createElement(\"style\");\n",
       "    element.appendChild(document.createTextNode(css));\n",
       "    document.body.appendChild(element);\n",
       "  }\n",
       "\n",
       "  \n",
       "  const js_urls = [\"https://cdn.bokeh.org/bokeh/release/bokeh-2.4.1.min.js\", \"https://cdn.bokeh.org/bokeh/release/bokeh-gl-2.4.1.min.js\", \"https://cdn.bokeh.org/bokeh/release/bokeh-widgets-2.4.1.min.js\", \"https://cdn.bokeh.org/bokeh/release/bokeh-tables-2.4.1.min.js\", \"https://cdn.bokeh.org/bokeh/release/bokeh-mathjax-2.4.1.min.js\"];\n",
       "  const css_urls = [];\n",
       "  \n",
       "\n",
       "  const inline_js = [\n",
       "    function(Bokeh) {\n",
       "      Bokeh.set_log_level(\"info\");\n",
       "    },\n",
       "    function(Bokeh) {\n",
       "    \n",
       "    \n",
       "    }\n",
       "  ];\n",
       "\n",
       "  function run_inline_js() {\n",
       "    \n",
       "    if (root.Bokeh !== undefined || force === true) {\n",
       "      \n",
       "    for (let i = 0; i < inline_js.length; i++) {\n",
       "      inline_js[i].call(root, root.Bokeh);\n",
       "    }\n",
       "    if (force === true) {\n",
       "        display_loaded();\n",
       "      }} else if (Date.now() < root._bokeh_timeout) {\n",
       "      setTimeout(run_inline_js, 100);\n",
       "    } else if (!root._bokeh_failed_load) {\n",
       "      console.log(\"Bokeh: BokehJS failed to load within specified timeout.\");\n",
       "      root._bokeh_failed_load = true;\n",
       "    } else if (force !== true) {\n",
       "      const cell = $(document.getElementById(\"1002\")).parents('.cell').data().cell;\n",
       "      cell.output_area.append_execute_result(NB_LOAD_WARNING)\n",
       "    }\n",
       "\n",
       "  }\n",
       "\n",
       "  if (root._bokeh_is_loading === 0) {\n",
       "    console.debug(\"Bokeh: BokehJS loaded, going straight to plotting\");\n",
       "    run_inline_js();\n",
       "  } else {\n",
       "    load_libs(css_urls, js_urls, function() {\n",
       "      console.debug(\"Bokeh: BokehJS plotting callback run at\", now());\n",
       "      run_inline_js();\n",
       "    });\n",
       "  }\n",
       "}(window));"
      ],
      "application/vnd.bokehjs_load.v0+json": "\n(function(root) {\n  function now() {\n    return new Date();\n  }\n\n  const force = true;\n\n  if (typeof root._bokeh_onload_callbacks === \"undefined\" || force === true) {\n    root._bokeh_onload_callbacks = [];\n    root._bokeh_is_loading = undefined;\n  }\n\n  \n\n  \n  if (typeof (root._bokeh_timeout) === \"undefined\" || force === true) {\n    root._bokeh_timeout = Date.now() + 5000;\n    root._bokeh_failed_load = false;\n  }\n\n  const NB_LOAD_WARNING = {'data': {'text/html':\n     \"<div style='background-color: #fdd'>\\n\"+\n     \"<p>\\n\"+\n     \"BokehJS does not appear to have successfully loaded. If loading BokehJS from CDN, this \\n\"+\n     \"may be due to a slow or bad network connection. Possible fixes:\\n\"+\n     \"</p>\\n\"+\n     \"<ul>\\n\"+\n     \"<li>re-rerun `output_notebook()` to attempt to load from CDN again, or</li>\\n\"+\n     \"<li>use INLINE resources instead, as so:</li>\\n\"+\n     \"</ul>\\n\"+\n     \"<code>\\n\"+\n     \"from bokeh.resources import INLINE\\n\"+\n     \"output_notebook(resources=INLINE)\\n\"+\n     \"</code>\\n\"+\n     \"</div>\"}};\n\n  function display_loaded() {\n    const el = document.getElementById(\"1002\");\n    if (el != null) {\n      el.textContent = \"BokehJS is loading...\";\n    }\n    if (root.Bokeh !== undefined) {\n      if (el != null) {\n        el.textContent = \"BokehJS \" + root.Bokeh.version + \" successfully loaded.\";\n      }\n    } else if (Date.now() < root._bokeh_timeout) {\n      setTimeout(display_loaded, 100)\n    }\n  }\n\n\n  function run_callbacks() {\n    try {\n      root._bokeh_onload_callbacks.forEach(function(callback) {\n        if (callback != null)\n          callback();\n      });\n    } finally {\n      delete root._bokeh_onload_callbacks\n    }\n    console.debug(\"Bokeh: all callbacks have finished\");\n  }\n\n  function load_libs(css_urls, js_urls, callback) {\n    if (css_urls == null) css_urls = [];\n    if (js_urls == null) js_urls = [];\n\n    root._bokeh_onload_callbacks.push(callback);\n    if (root._bokeh_is_loading > 0) {\n      console.debug(\"Bokeh: BokehJS is being loaded, scheduling callback at\", now());\n      return null;\n    }\n    if (js_urls == null || js_urls.length === 0) {\n      run_callbacks();\n      return null;\n    }\n    console.debug(\"Bokeh: BokehJS not loaded, scheduling load and callback at\", now());\n    root._bokeh_is_loading = css_urls.length + js_urls.length;\n\n    function on_load() {\n      root._bokeh_is_loading--;\n      if (root._bokeh_is_loading === 0) {\n        console.debug(\"Bokeh: all BokehJS libraries/stylesheets loaded\");\n        run_callbacks()\n      }\n    }\n\n    function on_error(url) {\n      console.error(\"failed to load \" + url);\n    }\n\n    for (let i = 0; i < css_urls.length; i++) {\n      const url = css_urls[i];\n      const element = document.createElement(\"link\");\n      element.onload = on_load;\n      element.onerror = on_error.bind(null, url);\n      element.rel = \"stylesheet\";\n      element.type = \"text/css\";\n      element.href = url;\n      console.debug(\"Bokeh: injecting link tag for BokehJS stylesheet: \", url);\n      document.body.appendChild(element);\n    }\n\n    for (let i = 0; i < js_urls.length; i++) {\n      const url = js_urls[i];\n      const element = document.createElement('script');\n      element.onload = on_load;\n      element.onerror = on_error.bind(null, url);\n      element.async = false;\n      element.src = url;\n      console.debug(\"Bokeh: injecting script tag for BokehJS library: \", url);\n      document.head.appendChild(element);\n    }\n  };\n\n  function inject_raw_css(css) {\n    const element = document.createElement(\"style\");\n    element.appendChild(document.createTextNode(css));\n    document.body.appendChild(element);\n  }\n\n  \n  const js_urls = [\"https://cdn.bokeh.org/bokeh/release/bokeh-2.4.1.min.js\", \"https://cdn.bokeh.org/bokeh/release/bokeh-gl-2.4.1.min.js\", \"https://cdn.bokeh.org/bokeh/release/bokeh-widgets-2.4.1.min.js\", \"https://cdn.bokeh.org/bokeh/release/bokeh-tables-2.4.1.min.js\", \"https://cdn.bokeh.org/bokeh/release/bokeh-mathjax-2.4.1.min.js\"];\n  const css_urls = [];\n  \n\n  const inline_js = [\n    function(Bokeh) {\n      Bokeh.set_log_level(\"info\");\n    },\n    function(Bokeh) {\n    \n    \n    }\n  ];\n\n  function run_inline_js() {\n    \n    if (root.Bokeh !== undefined || force === true) {\n      \n    for (let i = 0; i < inline_js.length; i++) {\n      inline_js[i].call(root, root.Bokeh);\n    }\n    if (force === true) {\n        display_loaded();\n      }} else if (Date.now() < root._bokeh_timeout) {\n      setTimeout(run_inline_js, 100);\n    } else if (!root._bokeh_failed_load) {\n      console.log(\"Bokeh: BokehJS failed to load within specified timeout.\");\n      root._bokeh_failed_load = true;\n    } else if (force !== true) {\n      const cell = $(document.getElementById(\"1002\")).parents('.cell').data().cell;\n      cell.output_area.append_execute_result(NB_LOAD_WARNING)\n    }\n\n  }\n\n  if (root._bokeh_is_loading === 0) {\n    console.debug(\"Bokeh: BokehJS loaded, going straight to plotting\");\n    run_inline_js();\n  } else {\n    load_libs(css_urls, js_urls, function() {\n      console.debug(\"Bokeh: BokehJS plotting callback run at\", now());\n      run_inline_js();\n    });\n  }\n}(window));"
     },
     "metadata": {},
     "output_type": "display_data"
    }
   ],
   "source": [
    "from bokeh.io import show, output_notebook\n",
    "from bokeh.plotting import figure, ColumnDataSource\n",
    "from bokeh.models import HoverTool, ResetTool, PanTool, WheelZoomTool, SaveTool, ColorBar, ColorMapper,Range1d\n",
    "output_notebook()\n",
    "def get_color(x):\n",
    "    if x.weighted_diff_mean_in_out < -0.3 or x.weighted_diff_unfinished < -0.3 :\n",
    "        return 'red'\n",
    "    elif x.weighted_diff_mean_in_out > 0.3 or x.weighted_diff_unfinished > 0.3 :\n",
    "        return 'green'\n",
    "    else :\n",
    "        return 'blue'"
   ]
  },
  {
   "cell_type": "code",
   "execution_count": 21,
   "id": "b5debd7d",
   "metadata": {},
   "outputs": [
    {
     "data": {
      "text/html": [
       "\n",
       "\n",
       "\n",
       "\n",
       "\n",
       "\n",
       "  <div class=\"bk-root\" id=\"15c20e4c-29e4-418e-8bfc-ade540038e5f\" data-root-id=\"1008\"></div>\n"
      ]
     },
     "metadata": {},
     "output_type": "display_data"
    },
    {
     "data": {
      "application/javascript": [
       "(function(root) {\n",
       "  function embed_document(root) {\n",
       "    \n",
       "  const docs_json = {\"228194e5-51a8-4fa9-b799-e57317b3df19\":{\"defs\":[],\"roots\":{\"references\":[{\"attributes\":{\"below\":[{\"id\":\"1019\"}],\"center\":[{\"id\":\"1022\"},{\"id\":\"1026\"}],\"height\":360,\"left\":[{\"id\":\"1023\"}],\"renderers\":[{\"id\":\"1040\"}],\"title\":{\"id\":\"1009\"},\"toolbar\":{\"id\":\"1027\"},\"width\":760,\"x_range\":{\"id\":\"1033\"},\"x_scale\":{\"id\":\"1015\"},\"y_range\":{\"id\":\"1034\"},\"y_scale\":{\"id\":\"1017\"}},\"id\":\"1008\",\"subtype\":\"Figure\",\"type\":\"Plot\"},{\"attributes\":{},\"id\":\"1006\",\"type\":\"WheelZoomTool\"},{\"attributes\":{},\"id\":\"1007\",\"type\":\"SaveTool\"},{\"attributes\":{\"source\":{\"id\":\"1035\"}},\"id\":\"1041\",\"type\":\"CDSView\"},{\"attributes\":{},\"id\":\"1049\",\"type\":\"UnionRenderers\"},{\"attributes\":{\"data\":{\"color\":[\"red\",\"blue\",\"blue\",\"blue\",\"blue\",\"blue\",\"blue\",\"blue\",\"red\",\"blue\",\"blue\",\"blue\",\"blue\",\"blue\",\"blue\",\"blue\",\"blue\",\"blue\",\"blue\",\"blue\",\"blue\",\"blue\",\"red\",\"blue\",\"blue\",\"blue\",\"green\",\"green\",\"blue\",\"blue\",\"blue\",\"blue\",\"blue\",\"blue\",\"blue\",\"blue\",\"blue\",\"blue\",\"blue\",\"blue\",\"blue\",\"blue\",\"blue\",\"blue\",\"blue\",\"blue\",\"blue\",\"blue\",\"blue\",\"blue\",\"blue\",\"blue\",\"blue\",\"blue\",\"blue\",\"blue\",\"blue\",\"blue\",\"blue\",\"blue\",\"green\",\"blue\",\"red\",\"blue\",\"blue\",\"blue\",\"blue\",\"blue\",\"blue\",\"blue\",\"blue\",\"blue\",\"blue\",\"blue\",\"blue\",\"blue\",\"blue\",\"blue\",\"blue\",\"blue\",\"blue\",\"blue\",\"blue\",\"red\",\"blue\",\"blue\",\"blue\",\"blue\",\"blue\",\"blue\",\"blue\",\"blue\",\"blue\",\"blue\",\"blue\",\"blue\",\"blue\",\"blue\",\"blue\",\"blue\",\"blue\",\"blue\",\"blue\",\"blue\",\"blue\",\"blue\",\"blue\",\"blue\",\"blue\",\"blue\",\"blue\",\"blue\",\"blue\",\"blue\",\"blue\",\"red\",\"red\",\"blue\",\"blue\",\"blue\",\"blue\",\"blue\",\"blue\",\"blue\",\"blue\",\"blue\",\"blue\",\"blue\",\"blue\",\"blue\",\"blue\",\"blue\",\"blue\",\"blue\",\"blue\",\"blue\",\"red\",\"blue\",\"blue\",\"blue\",\"blue\"],\"index\":[0,1,2,3,4,5,6,7,8,9,10,11,12,13,14,15,16,17,18,19,20,21,22,23,24,25,26,27,28,29,30,31,32,33,34,35,36,37,38,39,40,41,42,43,44,45,46,47,48,49,50,51,52,53,54,55,56,57,58,59,60,61,62,63,64,65,66,67,68,69,70,71,72,73,74,75,76,77,78,79,80,81,82,83,84,85,86,87,88,89,90,91,92,93,94,95,96,97,98,99,100,101,102,103,104,105,106,107,108,109,110,111,112,113,114,115,116,117,118,119,120,121,122,123,124,125,126,127,128,129,130,131,132,133,134,135,136,137,138,139,140],\"splitted_cat\":[\"Actors_models_and_celebrities\",\"African_Countries\",\"African_Geography\",\"Air_and_Sea_transport\",\"Ancient_History_Classical_History_and_Mythology\",\"Animal_and_Human_Rights\",\"Antarctica\",\"Archaeology\",\"Architecture\",\"Art\",\"Artists\",\"Asian_Countries\",\"Astronomers_and_physicists\",\"Biology\",\"Birds\",\"British_History\",\"British_History_15001750\",\"British_History_1500_and_before_including_Roman_Britain\",\"British_History_17501900\",\"British_History_Post_1900\",\"Business\",\"Business_Studies\",\"Cartoons\",\"Central_and_South_American_Countries\",\"Central_and_South_American_Geography\",\"Chemical_compounds\",\"Chemical_elements\",\"Chemistry\",\"Chemists\",\"Citizenship\",\"Climate_and_the_Weather\",\"Community_organisations\",\"Companies\",\"Computer_Programming\",\"Computer_and_Video_games\",\"Computing_People\",\"Computing_hardware_and_infrastructure\",\"Conflict_and_Peace\",\"Countries\",\"Cryptography\",\"Culture_and_Diversity\",\"Currency\",\"Design_and_Technology\",\"Dinosaurs\",\"Divinities\",\"Drink\",\"Economics\",\"Education\",\"Electricity_and_Electronics\",\"Engineering\",\"Engineers_and_inventors\",\"Environment\",\"European_Countries\",\"European_Geography\",\"Everyday_life\",\"Evolution_and_reproduction\",\"Films\",\"Food_and_agriculture\",\"Games\",\"General_Biology\",\"General_Chemistry\",\"General_Geography\",\"General_Literature\",\"General_Physics\",\"General_history\",\"Geographers_and_explorers\",\"Geography\",\"Geography_of_Asia\",\"Geography_of_Great_Britain\",\"Geography_of_Oceania_Australasia\",\"Geography_of_the_Middle_East\",\"Geology_and_geophysics\",\"Health_and_medicine\",\"Historians_chroniclers_and_history_books\",\"Historical_figures\",\"History\",\"Human_Scientists\",\"IT\",\"Insects_Reptiles_and_Fish\",\"Language_and_literature\",\"Languages\",\"Law\",\"Linguistics\",\"Literature_types\",\"Mammals\",\"Materials_science\",\"Mathematicians\",\"Mathematics\",\"Media\",\"Middle_Eastern_Countries\",\"Military_History_and_War\",\"Military_People\",\"Mineralogy\",\"Monarchs_of_Great_Britain\",\"Music\",\"Musical_Instruments\",\"Musical_Recordings_and_compositions\",\"Musical_genres_styles_eras_and_events\",\"Myths\",\"Natural_Disasters\",\"North_American_Geography\",\"North_American_History\",\"Novels\",\"Organisms\",\"People\",\"Peoples\",\"Performers_and_composers\",\"Philosophers\",\"Philosophy\",\"Physics\",\"Plants\",\"Poetry_and_Opera\",\"Political_People\",\"Politics_and_government\",\"Pre_1900_Military\",\"Producers_directors_and_media_figures\",\"Railway_transport\",\"Recent_History\",\"Recreation\",\"Religion\",\"Religious_disputes\",\"Religious_figures_and_leaders\",\"Religious_movements_traditions_and_organizations\",\"Religious_texts\",\"Road_transport\",\"Science\",\"Software\",\"Space_Astronomy\",\"Space_transport\",\"Sports\",\"Sports_and_games_people\",\"Sports_events\",\"Sports_teams\",\"Storms\",\"Television\",\"The_Planets\",\"Theatre\",\"USA_Presidents\",\"Websites_and_the_Internet\",\"World_War_II\",\"Writers_and_critics\"],\"weighted_diff_mean_in_out\":{\"__ndarray__\":\"Zqn9cAjgtr+a6u37bgq4P6Z0lduhT74/eLX+X3OMor/u8VlaReKHvwPhU5I7yr2/Cc7fAHUIzD+8YXpZX8SiP5Pj9oKUUs6/DWCebh9Esr9KvmxGe1GrP/BRPPTd57k/pVcBxmb5vT/1wl8Bqpp/P1/6zao++7E/XHqe6s6cvj+qqyArmGO0P7t5rXv7080/1gYpVpP/rz/l5KN/UILBP/74ArnJnL2/a692Z5Gdqb8Qcv4/AhnFvyRj8UyJ4a8/h1QWpjeauz/l5+nwlxjAPxP6llvXPNY/jAdNCnY41D+j6n6nmOq4P71glY4RTKC/hARWBzeYwT+bhaWlJdzOv857LcltTrA/iwF0tokWqL9EOp/lb8q8P3liuxAKgYC/QKeKMjIWtT9DbZ8RvgCYvy6ogkSFS7A/N+Rc4V5kuD8cqHoiy8nFvzF2eWQj9oe/wpM92fZTor8MFS2b/brQP8lpLFcbHKM/2gjBaduWj7+Oe4AE18Syv3+kLPQTUpO/VcynJjWfuT9eaVpy7zSxP/nsq1OGusE/sHaeagVYrD9oWVWQePm4Px39+1xWYbk/f5uvfOskrb9vsvb8+NKGv193S1YxNMm/YmO0KAhEpj/JpDstQ+PJP9jRQFJukLy/5h/8ZQjd2T/xAI5utDaxP/1v/kyp+8e/pbr2N883tT/wsS3LJzubP38sWuqVXLS/z6evBE8PrT811CDlbsK8P3lmMbrOH50/RwkMt6lBuT86y+MKYVLLP4kCehbGyLA/wLGupDVqdL99pn2NJe+zP99ze1k+DrA/JHN5rx1Drz9CDHsMYCFRv4lVV+d2VbQ/YcwmRpVLsD/JALAj7T29v967Ek4FEIq/sD0aTMoPsb+VJvOWJXunv8H241yjA9G/cW7O1G40oj/qX8TL0DdfP8hBgJ//zrg/PU3Fa42OwD/52REspiehv4iEO6tixtA/3JksTbnnuT8i30wZLUJVv+Wp6ma0vJU/3x4D6W400D9E9k0SaxB0P7s3ij2LEs8/DqkbzZwjyD9ng3/3H0i5vwviDw2VVJA/UJqd/S66sT8eSGwgDIqxv+bjp6o3Jn2/1LzXVQNImT97OuBk3x+Zv5aTRepzWbE/n9P5pwDiYT/188QqV0HAP3c88xPjkJ8/9E+rWnWdo7/oWNZPGBq6P7Jj32CrOcE/63NXPb2JlL/hMSZjlQPDP/l1bAi7YGy/HdiVeelsnb8ECTMoxmjKvzBTuRpHN8y/2fNJslNjpj+1hRXk/j3Av7U5hWcPt50/YMH3ynKRxj/Wl3GkCUJmvzQZUKxDwrA/IoTGIGdQxL9T5gx57k60v2Hlc+lyoLQ/F1W5+aSu0T+g4i8O+Se5P5axd6EF6cM/FHSo1bVlyr/VHyRyDJy4P3wZgPPw+cS/ct3VVZO7xD8/WkkH332ZP/Z1As42Dcm/yJJRNbBVvD84Shl6WLrTv7PaStQIErA/rgJpsyF2oz+KiJZdETHJPwkSr6yt97G/\",\"dtype\":\"float64\",\"order\":\"little\",\"shape\":[141]},\"weighted_diff_unfinished\":{\"__ndarray__\":\"zo+GF0y317+WbCRxnr3AP+BQQ4KFsL8/N0XzrbKEvL9y+XZelEeBP5EkveqE6sK/RYHaogUGyD9UIXMjATaQP+DYE2zU2uy/jN3nTAbCtL9qxZt0zbKav4f5mVVJscA/Rl8lntSSvD9q5DIn3NWTv9edYSm7sKe/IogkN3yOwj8GcJdxRRmyP2vKEQrNndA/WweoBjrGmL+3zqqP67DCP1/Wn1KcbLO/xnR9e022nr99uwdXnFPnv+ObvACONq8/o+O61wehvT/RYnx6nr6wP6ECvNoELNE/9aIVOA8nzz8dGHXVrJOrP7iZIfps7Ga/KQ6Vgjd5xD9LPgsz1hjQv9ADpYaRRak/heMGc70Mn7/pwGMlviO1P4+lk87+e3G/pp2hsTDusz9TzQl+mjvIv0xyoa4H1bc/BjNmC4yDiL952/951z/Iv2SCrOH7I5g/GuNyTjY2v79rkkcBAHi7PyUDVuEcTKY/ibT8rQvgrb/ehod33Mm4vx409/L96H8/5DCvAPD5uT/S6u7FBTq9P1qGxqIcgsE/LO29MgXusT9ZxVkLiFzBPwtKVMkCj8A/645qSjUGsr/BVZQd4FSdPy0ewnnfDtO/DcZs8OfprD8OpC2ye2WPP1s7hRIc1cO/WWrj9tFj0z8xmXdDlCS5P905l1FimtW/EpmH33lqvT/G2TT4dS23P6Rw76+YVbS/BmI1nOKztD8X2LPcOse/P7pzvpDQt6o/emQH3zF3tD8FpFEt0+fJP3puCWaWvrI/4xNZ8EUrob8ZRKn9RO6jP4WNu1mKiaW/QEOWPtL8tj/MrDhsNv+KPxJiZQ4q+LY/XylBvyqqqj+n0/JruITQv1Hm0OYSgZ8/YFsfMIBwp7/9ZeVp2D2Tv/YrPfmPYOu/iR5J3ctnkj8J+UB0ihWhv5zZEs+zDbI/u2IZHxPGtj/UyYdEytJ6v/wrC2Psic0/gGdbX9Igtj8BU2bOenCnv+yfHpYkIIO/PuTGq36Kyz9uHegzstRvPz7UburRCs0/1avwrVbHkz97bnfbr5i5v+HlqiUwQpc/Z38oTChPlz/x4e5E9wikv13vE65eDsK/sFBCIQwey7+UeTFo6JB+PwWbJIr4+KQ/6YzHLAdsnr87m0GAadynP0F1F+kCSac/9SDMnQGhhb/AdZezVhazP2alVg2RUb8/39FsaOA2pL8a4s3t9Q3FPx+Oi7oTZqM/j88JkKvaob9OF+g/KvDev+bz1599Ut6/STXVn74IsT+5G7fb4XvEv2iB17xIoqk/IFVey0j8vj+BcAFbHSikv8UOZBuD6Lc/4XbvOaoVwr9oVo9BVeTIvwLRuxEChqw/5YCLyvVnzj/T9SgBzK+Xv/Rq4EK3E8E/8jeNZVcIyr9DSdPO88DCv+sB6k9iisS/e7Fb+YZngT/c+ZuSmAiIPxRdLcYj9dG/c4uYZfZDwD9bCB6d4cLuv35VIX9bcb4/0VEv4AZwsT8alEgUa7bJPyIaVNiKQMO/\",\"dtype\":\"float64\",\"order\":\"little\",\"shape\":[141]}},\"selected\":{\"id\":\"1050\"},\"selection_policy\":{\"id\":\"1049\"}},\"id\":\"1035\",\"type\":\"ColumnDataSource\"},{\"attributes\":{\"start\":-1},\"id\":\"1034\",\"type\":\"Range1d\"},{\"attributes\":{\"axis\":{\"id\":\"1019\"},\"coordinates\":null,\"group\":null,\"ticker\":null},\"id\":\"1022\",\"type\":\"Grid\"},{\"attributes\":{},\"id\":\"1050\",\"type\":\"Selection\"},{\"attributes\":{\"fill_alpha\":{\"value\":0.5},\"fill_color\":{\"field\":\"color\"},\"hatch_alpha\":{\"value\":0.5},\"hatch_color\":{\"field\":\"color\"},\"line_alpha\":{\"value\":0.5},\"line_color\":{\"field\":\"color\"},\"size\":{\"value\":15},\"x\":{\"field\":\"weighted_diff_mean_in_out\"},\"y\":{\"field\":\"weighted_diff_unfinished\"}},\"id\":\"1037\",\"type\":\"Circle\"},{\"attributes\":{\"callback\":null,\"tooltips\":[[\"Name\",\"@splitted_cat\"]]},\"id\":\"1003\",\"type\":\"HoverTool\"},{\"attributes\":{},\"id\":\"1017\",\"type\":\"LinearScale\"},{\"attributes\":{\"coordinates\":null,\"group\":null,\"text\":\"Comparing nodes used in un-finished paths and their percentage difference of in and out degree\",\"text_color\":\"black\",\"text_font_size\":\"15px\"},\"id\":\"1009\",\"type\":\"Title\"},{\"attributes\":{},\"id\":\"1020\",\"type\":\"BasicTicker\"},{\"attributes\":{\"axis_label\":\"Percentage difference of number of time node used in finished and unfinished paths\",\"coordinates\":null,\"formatter\":{\"id\":\"1047\"},\"group\":null,\"major_label_policy\":{\"id\":\"1048\"},\"ticker\":{\"id\":\"1020\"}},\"id\":\"1019\",\"type\":\"LinearAxis\"},{\"attributes\":{},\"id\":\"1015\",\"type\":\"LinearScale\"},{\"attributes\":{\"tools\":[{\"id\":\"1003\"},{\"id\":\"1004\"},{\"id\":\"1005\"},{\"id\":\"1006\"},{\"id\":\"1007\"}]},\"id\":\"1027\",\"type\":\"Toolbar\"},{\"attributes\":{\"fill_alpha\":{\"value\":0.2},\"fill_color\":{\"field\":\"color\"},\"hatch_alpha\":{\"value\":0.2},\"hatch_color\":{\"field\":\"color\"},\"line_alpha\":{\"value\":0.2},\"line_color\":{\"field\":\"color\"},\"size\":{\"value\":15},\"x\":{\"field\":\"weighted_diff_mean_in_out\"},\"y\":{\"field\":\"weighted_diff_unfinished\"}},\"id\":\"1039\",\"type\":\"Circle\"},{\"attributes\":{\"fill_alpha\":{\"value\":0.1},\"fill_color\":{\"field\":\"color\"},\"hatch_alpha\":{\"value\":0.1},\"hatch_color\":{\"field\":\"color\"},\"line_alpha\":{\"value\":0.1},\"line_color\":{\"field\":\"color\"},\"size\":{\"value\":15},\"x\":{\"field\":\"weighted_diff_mean_in_out\"},\"y\":{\"field\":\"weighted_diff_unfinished\"}},\"id\":\"1038\",\"type\":\"Circle\"},{\"attributes\":{\"axis\":{\"id\":\"1023\"},\"coordinates\":null,\"dimension\":1,\"group\":null,\"ticker\":null},\"id\":\"1026\",\"type\":\"Grid\"},{\"attributes\":{},\"id\":\"1024\",\"type\":\"BasicTicker\"},{\"attributes\":{\"axis_label\":\"Percentage difference of in and out degree for unfinished paths\",\"coordinates\":null,\"formatter\":{\"id\":\"1044\"},\"group\":null,\"major_label_policy\":{\"id\":\"1045\"},\"ticker\":{\"id\":\"1024\"}},\"id\":\"1023\",\"type\":\"LinearAxis\"},{\"attributes\":{},\"id\":\"1044\",\"type\":\"BasicTickFormatter\"},{\"attributes\":{},\"id\":\"1004\",\"type\":\"ResetTool\"},{\"attributes\":{},\"id\":\"1005\",\"type\":\"PanTool\"},{\"attributes\":{},\"id\":\"1045\",\"type\":\"AllLabels\"},{\"attributes\":{\"coordinates\":null,\"data_source\":{\"id\":\"1035\"},\"glyph\":{\"id\":\"1037\"},\"group\":null,\"hover_glyph\":null,\"muted_glyph\":{\"id\":\"1039\"},\"nonselection_glyph\":{\"id\":\"1038\"},\"view\":{\"id\":\"1041\"}},\"id\":\"1040\",\"type\":\"GlyphRenderer\"},{\"attributes\":{},\"id\":\"1047\",\"type\":\"BasicTickFormatter\"},{\"attributes\":{\"start\":-1},\"id\":\"1033\",\"type\":\"Range1d\"},{\"attributes\":{},\"id\":\"1048\",\"type\":\"AllLabels\"}],\"root_ids\":[\"1008\"]},\"title\":\"Bokeh Application\",\"version\":\"2.4.1\"}};\n",
       "  const render_items = [{\"docid\":\"228194e5-51a8-4fa9-b799-e57317b3df19\",\"notebook_comms_target\":\"1051\",\"root_ids\":[\"1008\"],\"roots\":{\"1008\":\"15c20e4c-29e4-418e-8bfc-ade540038e5f\"}}];\n",
       "  root.Bokeh.embed.embed_items_notebook(docs_json, render_items);\n",
       "\n",
       "  }\n",
       "  if (root.Bokeh !== undefined) {\n",
       "    embed_document(root);\n",
       "  } else {\n",
       "    let attempts = 0;\n",
       "    const timer = setInterval(function(root) {\n",
       "      if (root.Bokeh !== undefined) {\n",
       "        clearInterval(timer);\n",
       "        embed_document(root);\n",
       "      } else {\n",
       "        attempts++;\n",
       "        if (attempts > 100) {\n",
       "          clearInterval(timer);\n",
       "          console.log(\"Bokeh: ERROR: Unable to run BokehJS code because BokehJS library is missing\");\n",
       "        }\n",
       "      }\n",
       "    }, 10, root)\n",
       "  }\n",
       "})(window);"
      ],
      "application/vnd.bokehjs_exec.v0+json": ""
     },
     "metadata": {
      "application/vnd.bokehjs_exec.v0+json": {
       "id": "1008"
      }
     },
     "output_type": "display_data"
    },
    {
     "data": {
      "text/html": [
       "<p><code>&lt;Bokeh Notebook handle for <strong>In[21]</strong>&gt;</code></p>"
      ],
      "text/plain": [
       "<bokeh.io.notebook.CommsHandle at 0x18891c54790>"
      ]
     },
     "execution_count": 21,
     "metadata": {},
     "output_type": "execute_result"
    }
   ],
   "source": [
    "data = categories_all[['weighted_diff_unfinished', 'weighted_diff_mean_in_out']].reset_index()\n",
    "data['color'] = data.apply(lambda x : get_color(x), axis = 1)\n",
    "hover = HoverTool(\n",
    "    tooltips=[\n",
    "        (\"Name\", \"@splitted_cat\"),\n",
    "    ])\n",
    "tools = [hover, ResetTool(), PanTool(), WheelZoomTool(), SaveTool()]\n",
    "\n",
    "p = figure(plot_width=760, plot_height=360, tools=tools, title=\"Comparing nodes used in un-finished paths and their percentage difference of in and out degree\")\n",
    "p.title.text_color = \"black\"\n",
    "p.title.text_font_size = \"15px\"\n",
    "p.xaxis.axis_label = 'Percentage difference of number of time node used in finished and unfinished paths'\n",
    "p.yaxis.axis_label = 'Percentage difference of in and out degree for unfinished paths'\n",
    "\n",
    "p.x_range = Range1d(-1,1)\n",
    "p.y_range = Range1d(-1,1)\n",
    "\n",
    "p.circle('weighted_diff_mean_in_out', 'weighted_diff_unfinished', color = 'color', source=data, size=15, alpha=0.5)\n",
    "\n",
    "show(p, notebook_handle=True)"
   ]
  },
  {
   "cell_type": "markdown",
   "id": "12c6da3e",
   "metadata": {},
   "source": [
    "## Comparing subject of starting and end points "
   ]
  },
  {
   "cell_type": "code",
   "execution_count": 22,
   "id": "caebd06d",
   "metadata": {},
   "outputs": [],
   "source": [
    "categories['categories'] = categories.category.apply(lambda x : x.split('.')[1:])\n",
    "categories_merged = pd.DataFrame(categories.groupby('article').categories.agg(sum))\n",
    "#categories_merged = categories_merged.reset_index()"
   ]
  },
  {
   "cell_type": "code",
   "execution_count": 24,
   "id": "695a8b3f",
   "metadata": {},
   "outputs": [],
   "source": [
    "def get_categories(article, df):\n",
    "    if article not in df.index :\n",
    "        return [] \n",
    "    else : \n",
    "        return df.loc[article].categories\n",
    "\n",
    "def get_start_target_cats(paths):\n",
    "    paths['start'] = paths.path.apply(lambda x:x.split(';')[0])\n",
    "    paths['start_cats'] = paths['start'].apply(lambda article : get_categories(article, categories_merged))\n",
    "    paths['target_cats'] = paths['target'].apply(lambda article : get_categories(article, categories_merged))\n",
    "    paths_start = paths.explode('start_cats').groupby('start_cats').start.agg(len)\n",
    "    paths_target = paths.explode('target_cats').groupby('target_cats').target.agg(len)\n",
    "    paths_out = pd.merge(paths_start, paths_target, right_index=True, left_index=True)\n",
    "    return paths_out\n",
    "    \n",
    "start_target_cats_unfinished = get_start_target_cats(paths_unfinished[['path', 'target']].copy())\n",
    "start_target_cats_finished = get_start_target_cats(paths_finished[['path', 'target']].copy())"
   ]
  },
  {
   "cell_type": "code",
   "execution_count": 25,
   "id": "5808c0a0",
   "metadata": {},
   "outputs": [],
   "source": [
    "start_target_cats_finished = start_target_cats_finished/nb_finished_node_visited*1000\n",
    "start_target_cats_unfinished = start_target_cats_unfinished/nb_unfinished_node_visited*1000\n",
    "\n",
    "start_target_cats_finished = start_target_cats_finished.add_suffix('_finished')\n",
    "start_target_cats_unfinished = start_target_cats_unfinished.add_suffix('_unfinished')"
   ]
  },
  {
   "cell_type": "code",
   "execution_count": 26,
   "id": "d28c2af7",
   "metadata": {},
   "outputs": [],
   "source": [
    "start_target_cats = start_target_cats_finished.join(start_target_cats_unfinished)"
   ]
  },
  {
   "cell_type": "code",
   "execution_count": 27,
   "id": "049ceaae",
   "metadata": {},
   "outputs": [],
   "source": [
    "start_target_cats['weighted_diff_start'] = start_target_cats.apply(lambda x: \n",
    "            (x.start_finished - x.start_unfinished) /(x.start_finished + x.start_unfinished), axis = 1)\n",
    "start_target_cats['weighted_diff_target'] = start_target_cats.apply(lambda x: \n",
    "            (x.target_finished - x.target_unfinished) /(x.target_finished + x.target_unfinished), axis = 1)\n",
    "start_target_cats['frac_start'] = start_target_cats.apply(lambda x: \n",
    "            (x.start_finished) /(x.start_finished + x.start_unfinished), axis = 1)\n",
    "start_target_cats['frac_target'] = start_target_cats.apply(lambda x: \n",
    "            (x.target_finished) /(x.target_finished + x.target_unfinished), axis = 1)"
   ]
  },
  {
   "cell_type": "markdown",
   "id": "b953ca78",
   "metadata": {},
   "source": [
    "### Plot the results\n",
    "We plot two histograms \n",
    "- the histogram of the sucess rate of a concept as **starting page**.  \n",
    "- the histogram of the sucess rate of a concept as **target page**.  \n",
    "\n",
    "#### Starting page \n",
    "First we see that the starting page histogram has a smaller variance then the target page histogram. It is not a surprise since we know that the starting phase of going to a hub is the easiest part. Moreover we cannot say that a starting page is easier but there are still some pages that seems harder to start with `['Architecture', 'Theatre', 'Literature_types', 'General_Biology', 'Language_and_literature', 'Design_and_Technology', 'Air_and_Sea_transport', 'Conflict_and_Peace']`. In particular, starting with the topic `Architecture` lead to a probability of sucess of $0.26$ which means that the game is finished once over 4 attempts.\n",
    "\n",
    "#### Target page \n",
    "In the target page histogram, we can see a lot of variance and there are topics that seems to be easier or harder than others. We can see that topics with _Geography_ or _countries_ are quiet easy. Topics as `European_Countries, USA_Presidents, European_Geography` are finished more than 4 times over 5 attemps.\n",
    "\n",
    "On the other side, topics more related to _movies_ or to _litterature_ are harder. For example, the topic `'General_Literature'` has a score of $0.08$ which mean that a game is finished less than 1 times over 10 with this concept as target.\n",
    "\n",
    "#### Conclusion\n",
    "Some starting and target concepts has a big impact on the result of a game. We will use these two score for our regression."
   ]
  },
  {
   "cell_type": "code",
   "execution_count": 28,
   "id": "a4f00c9b",
   "metadata": {},
   "outputs": [
    {
     "data": {
      "text/plain": [
       "(start_cats\n",
       " Engineers_and_inventors                     0.614189\n",
       " The_Planets                                 0.610307\n",
       " Natural_Disasters                           0.588696\n",
       " Human_Scientists                            0.577024\n",
       " Cryptography                                0.572984\n",
       " Computer_and_Video_games                    0.566904\n",
       " Middle_Eastern_Countries                    0.562389\n",
       " Philosophers                                0.560390\n",
       " Historians_chroniclers_and_history_books    0.556025\n",
       " Antarctica                                  0.554339\n",
       " Name: frac_start, dtype: float64,\n",
       " start_cats\n",
       " Architecture               0.269728\n",
       " Theatre                    0.332606\n",
       " Literature_types           0.339720\n",
       " Design_and_Technology      0.369822\n",
       " General_Biology            0.370208\n",
       " Language_and_literature    0.375752\n",
       " Air_and_Sea_transport      0.406406\n",
       " Conflict_and_Peace         0.414149\n",
       " Animal_and_Human_Rights    0.423541\n",
       " Storms                     0.438569\n",
       " Name: frac_start, dtype: float64)"
      ]
     },
     "execution_count": 28,
     "metadata": {},
     "output_type": "execute_result"
    },
    {
     "data": {
      "image/png": "[encoded data removed]",
      "text/plain": [
       "<Figure size 432x288 with 1 Axes>"
      ]
     },
     "metadata": {
      "needs_background": "light"
     },
     "output_type": "display_data"
    }
   ],
   "source": [
    "start_target_cats['frac_start'].hist(label = 'start page')\\\n",
    "            .set_title(\"\"\"Histogram of the fraction of time the concept in use as starting page in finished paths\"\"\")\n",
    "plt.xlabel('Fraction of time the concept in use as starting page in finished paths')\n",
    "plt.ylabel('Count')\n",
    "mean_frac_start, std_frac_start = start_target_cats['frac_start'].mean(), start_target_cats['frac_start'].std()\n",
    "\n",
    "val_frac_start = 1.5\n",
    "y_limit = 30\n",
    "plt.vlines(mean_frac_start, 0, y_limit, ls='--', color='red', linewidth=2, label = 'mean')\n",
    "plt.vlines(mean_frac_start+ val_frac_start *std_frac_start,  0, y_limit, ls='--', color='green', linewidth=2,label ='mean +'+str(val_frac_start)+'*std')\n",
    "plt.vlines(mean_frac_start- val_frac_start * std_frac_start,  0, y_limit, ls='--', color='green', linewidth=2, label ='mean -'+str(val_frac_start)+'*std')\n",
    "\n",
    "plt.legend()\n",
    "\n",
    "get_first_last(10, start_target_cats, 'frac_start')"
   ]
  },
  {
   "cell_type": "code",
   "execution_count": 29,
   "id": "859ce4df",
   "metadata": {},
   "outputs": [
    {
     "data": {
      "text/plain": [
       "(start_cats\n",
       " European_Countries              0.850395\n",
       " USA_Presidents                  0.828968\n",
       " European_Geography              0.804207\n",
       " Asian_Countries                 0.795314\n",
       " Middle_Eastern_Countries        0.786535\n",
       " African_Countries               0.786076\n",
       " Countries                       0.785872\n",
       " Languages                       0.779158\n",
       " African_Geography               0.768114\n",
       " Geography_of_the_Middle_East    0.766678\n",
       " Name: frac_target, dtype: float64,\n",
       " start_cats\n",
       " General_Literature                       0.088525\n",
       " Cartoons                                 0.157733\n",
       " Actors_models_and_celebrities            0.158481\n",
       " Games                                    0.186206\n",
       " Conflict_and_Peace                       0.189713\n",
       " Novels                                   0.203694\n",
       " Sports_and_games_people                  0.245845\n",
       " Television                               0.248437\n",
       " Community_organisations                  0.251930\n",
       " Producers_directors_and_media_figures    0.254799\n",
       " Name: frac_target, dtype: float64)"
      ]
     },
     "execution_count": 29,
     "metadata": {},
     "output_type": "execute_result"
    },
    {
     "data": {
      "image/png": "[encoded data removed]",
      "text/plain": [
       "<Figure size 432x288 with 1 Axes>"
      ]
     },
     "metadata": {
      "needs_background": "light"
     },
     "output_type": "display_data"
    }
   ],
   "source": [
    "# Look at the target page now\n",
    "start_target_cats['frac_target'].hist(label = 'target page')\\\n",
    "            .set_title(\"\"\"Histogram of the fraction of time the concept in use as target page in finished paths\"\"\")\n",
    "plt.xlabel('Fraction of time the concept in use as target page in finished paths')\n",
    "plt.ylabel('Count')\n",
    "mean_frac_target, std_frac_target = start_target_cats['frac_target'].mean(), start_target_cats['frac_target'].std()\n",
    "\n",
    "val_frac_target = 1.5\n",
    "y_limit = 30\n",
    "plt.vlines(mean_frac_target, 0, y_limit, ls='--', color='red', linewidth=2, label = 'mean')\n",
    "plt.vlines(mean_frac_target+ val_frac_target *std_frac_target,  0, y_limit, ls='--', color='green', linewidth=2,label ='mean +'+str(val_frac_target)+'*std')\n",
    "plt.vlines(mean_frac_target- val_frac_target * std_frac_target,  0, y_limit, ls='--', color='green', linewidth=2, label ='mean -'+str(val_frac_target)+'*std')\n",
    "\n",
    "plt.legend()\n",
    "plt.legend()\n",
    "# Get the easiest and hardest finishing pages\n",
    "get_first_last(10, start_target_cats, 'frac_target')"
   ]
  },
  {
   "cell_type": "markdown",
   "id": "3d3c755f",
   "metadata": {},
   "source": [
    "## Plots\n",
    "\n",
    "We plot the impact on the starting and the target paths on the fact of finishing the game \n",
    "\n",
    "In red are concepts that have bad impact on finishing a game and in green good impact. This is determined if the score of the starting or target concept is out of 1.5 of its mean "
   ]
  },
  {
   "cell_type": "code",
   "execution_count": 30,
   "id": "b98380b7",
   "metadata": {},
   "outputs": [
    {
     "data": {
      "text/html": [
       "\n",
       "\n",
       "\n",
       "\n",
       "\n",
       "\n",
       "  <div class=\"bk-root\" id=\"8dc51909-ca93-4aa1-abfd-8e2f47f3b3a3\" data-root-id=\"1102\"></div>\n"
      ]
     },
     "metadata": {},
     "output_type": "display_data"
    },
    {
     "data": {
      "application/javascript": [
       "(function(root) {\n",
       "  function embed_document(root) {\n",
       "    \n",
       "  const docs_json = {\"4730ca60-5e08-4124-b434-30095024e746\":{\"defs\":[],\"roots\":{\"references\":[{\"attributes\":{\"below\":[{\"id\":\"1113\"}],\"center\":[{\"id\":\"1116\"},{\"id\":\"1120\"}],\"height\":460,\"left\":[{\"id\":\"1117\"}],\"renderers\":[{\"id\":\"1134\"}],\"title\":{\"id\":\"1103\"},\"toolbar\":{\"id\":\"1121\"},\"width\":660,\"x_range\":{\"id\":\"1127\"},\"x_scale\":{\"id\":\"1109\"},\"y_range\":{\"id\":\"1128\"},\"y_scale\":{\"id\":\"1111\"}},\"id\":\"1102\",\"subtype\":\"Figure\",\"type\":\"Plot\"},{\"attributes\":{},\"id\":\"1148\",\"type\":\"AllLabels\"},{\"attributes\":{},\"id\":\"1152\",\"type\":\"UnionRenderers\"},{\"attributes\":{\"callback\":null,\"tooltips\":[[\"Name\",\"@start_cats\"]]},\"id\":\"1097\",\"type\":\"HoverTool\"},{\"attributes\":{},\"id\":\"1111\",\"type\":\"LinearScale\"},{\"attributes\":{\"fill_alpha\":{\"value\":0.5},\"fill_color\":{\"field\":\"color\"},\"hatch_alpha\":{\"value\":0.5},\"hatch_color\":{\"field\":\"color\"},\"line_alpha\":{\"value\":0.5},\"line_color\":{\"field\":\"color\"},\"size\":{\"value\":15},\"x\":{\"field\":\"frac_start\"},\"y\":{\"field\":\"frac_target\"}},\"id\":\"1131\",\"type\":\"Circle\"},{\"attributes\":{},\"id\":\"1150\",\"type\":\"BasicTickFormatter\"},{\"attributes\":{\"axis_label\":\"Sucess rate with this concept as target edges\",\"coordinates\":null,\"formatter\":{\"id\":\"1147\"},\"group\":null,\"major_label_policy\":{\"id\":\"1148\"},\"ticker\":{\"id\":\"1118\"}},\"id\":\"1117\",\"type\":\"LinearAxis\"},{\"attributes\":{\"tools\":[{\"id\":\"1097\"},{\"id\":\"1098\"},{\"id\":\"1099\"},{\"id\":\"1100\"},{\"id\":\"1101\"}]},\"id\":\"1121\",\"type\":\"Toolbar\"},{\"attributes\":{\"data\":{\"color\":[\"red\",\"green\",\"green\",\"red\",\"blue\",\"red\",\"blue\",\"blue\",\"red\",\"blue\",\"blue\",\"green\",\"blue\",\"blue\",\"blue\",\"blue\",\"blue\",\"blue\",\"blue\",\"green\",\"blue\",\"blue\",\"red\",\"blue\",\"blue\",\"blue\",\"green\",\"blue\",\"blue\",\"blue\",\"blue\",\"red\",\"blue\",\"blue\",\"blue\",\"blue\",\"blue\",\"red\",\"green\",\"green\",\"blue\",\"blue\",\"red\",\"blue\",\"blue\",\"blue\",\"blue\",\"blue\",\"blue\",\"blue\",\"green\",\"blue\",\"green\",\"green\",\"blue\",\"blue\",\"blue\",\"blue\",\"red\",\"red\",\"blue\",\"blue\",\"red\",\"blue\",\"blue\",\"blue\",\"blue\",\"blue\",\"blue\",\"blue\",\"green\",\"blue\",\"blue\",\"blue\",\"blue\",\"blue\",\"green\",\"blue\",\"blue\",\"red\",\"green\",\"blue\",\"blue\",\"red\",\"blue\",\"blue\",\"blue\",\"blue\",\"blue\",\"green\",\"blue\",\"blue\",\"blue\",\"blue\",\"blue\",\"blue\",\"blue\",\"blue\",\"blue\",\"green\",\"blue\",\"blue\",\"red\",\"blue\",\"blue\",\"blue\",\"blue\",\"blue\",\"blue\",\"blue\",\"blue\",\"blue\",\"green\",\"blue\",\"blue\",\"red\",\"blue\",\"blue\",\"blue\",\"blue\",\"blue\",\"blue\",\"blue\",\"blue\",\"blue\",\"blue\",\"blue\",\"blue\",\"blue\",\"blue\",\"red\",\"blue\",\"blue\",\"blue\",\"red\",\"green\",\"red\",\"green\",\"blue\",\"blue\",\"blue\"],\"frac_start\":{\"__ndarray__\":\"QO5gwG1s4D/rhNMae3vgP/WhtPrACOE/yAdDEo0C2j8cu4KCIwDgP7C0KpZLG9s/YnGpeyW94T+K24xi+XzgP0EMNtU5Q9E/WdgKqaLy3T+vCz+0uKPgP4LyXaWSMeA/ivmONS2r3j/s+wKqQAjfP7YxOe7kEuE/QZrKPvf04D8gtLpI0rDfPyF/Yi5r+uA/HXt/2qB44D96os/PhVLhP5N/05yQGeA/1tZPaXYn4D+M26p2vDXePzw8Sk7Zkd8/EYuRpONn3z/kcSAPoaXfP75ptQ+8vuA/sRibwUtv4D/t9/NLPpDhP40/fokACOA/V24ICW4K4T+xjCdE/KDdP/7ONiY+xOA/kV0NvYUn3T98+Xj0EyTiP38Ns4RP9+A/k2bomjIX3T8lHl4JaYHaP2FtA7P9FeA/zpgZEeNV4j+PFZqtJ87gPxTMJyw5hOA/px6oWSur1z+ywqRqXLrgP7RyRJNhU+A//12C2P7A3j99iV5X8tTeP1GXQfMHFeA/WQ1aZctH4T8u5vNV8hrfPySNrEVwp+M/Nl/iNBaL4D/ixyeO4uvfP/MEWy3SnN8/PoYBrRJK4D/V+dgOuJ7gP1J1uUK4h94/13BJ+dsa4T8i+yQzIZHgP5GDYZ18sdc/t/R6gu8v4D+9v69DqEDgP6/taa0oUOA/3u81QBF34D89eVpH75PdP7K9MR+7Bt8/185Iggg34D9LzI8XKR7gP1PoqBuOx+A/+gCdY4kc3z8VVnciRY7hPzhx61cFrOA/sJqgBrJm4D/jhy2p9MrhP0uLe8HYLOA/jeZVG6b53z9dKEEf+nbiP0sS0wXoBOA/14W1A+k34T+ThqJgUAzYP0+ATQnOHuA/k+CSbQAj4D9Scio+T1zfP6QKPcr6vdU/BComB3ED4D+jS4ovt53gP7J0Pvq3yuA/wCZTgnnS3T86P9imzhffP+Iq9iAY/+E/qo/C1ZfD3z9tpmhX2m3gP0hCNhcueOA/p3WYNpGd4T9+jCZ1lifgPz5WeMDwrNw/2X16m8j43T8X09/WEnPgPzrDX5jzq90/HATMP5jW4j9ATFTQeX3dP9WYtnWln+E/5W+tKjv23j/0NJC81QvfP7ZXsdx/YOA/1x33fxok3D/hbPAUlRXhPxiAU4O27uE/B/PRXgoC4D/PZTuwaXjeP5IUG5WxBOE/na/yF9r13T/ZYMAFe7jgP6pjMbiZneA/gK7PkJIk3T8OX/DXnvPgPyw9XZIBsN0/cFDxNb5k3z/FcD6NG4vfPy4KDlpLV98/ydHwfe+M3T+6O07lWXXfP45cejg6nN4/+lzg/UJz4D9ZgmScr/rdPxzNKZ5RJN8/hxYW7NhJ4T+YdjSgvEjcP9NOEzRoSt8/NolCOveI3j8k+elBcrffP8bAlIRbROE/COVoogpg3j+2sxIfghHcP0+1JqYiW+A/tPm6HqKH4z8/1+iRaUnVP2F+2JVks90/cAO9et0O4T+rmjVdcBLeP81cY79OEN4/\",\"dtype\":\"float64\",\"order\":\"little\",\"shape\":[141]},\"frac_target\":{\"__ndarray__\":\"2iHspRxJxD9igGcwiSfpP8HSutJklOg/q4QKUUEI4D8yK+ty1WPhPwTEU833vtA/hFxBU/fr4D/hpBSZQS7hP5EOW/PiV+A/pDQYSmbv3T9DHhxSBIjdP3zSYjI2c+k/9d+2GgqN4j/9dIlN9ofXP8MDIbJcNNk/L1Zk4N0W3D9NaT+5z2biPyfdogNzXNk/ZMEJ8vGV3D+nz/5PP1vnP6jYekXhNuA/nJZW2wVE2j+jb/u5lTDEP9Mxd40p0uU/G3sA/a1h5j/9oY3U7yHgP/vXis2hf+c/QAC73hcI5T9hGRmXZGLjPw0aS/h4DN0/nd5gI1RI5D80izW2oB/QP9jhaYCA7tg/VXtQIy6r4D8ITBhkYWTeP6mykbBUO+E/Z0DWC5872j+lL09yhEjIP8/SB47dJek/lzm96p7d0D9MzpEE2AHaP+2X6EtUpOM/OfITdso72D94Vl6eDwbjPwW/iZdO8eQ/zR7HlJse2j/Lg019ewLRP4aQsamvR9g/zLoUHyFI5T8wS0Mh4VrXP+Oyd+K6Ud0/QDMF2S0b4j8gExhhbzbrP70GcXsPvOk/2O1GRuDS1T+5x0UydHTiP4RwGfGtftQ/3dHdgohO1D9X41nKldXHP3TdW90MxeE/uqaBWXky4z/Pkv6oPlDlPwNcYQCZqbY/HXPmNjJo4z+93kHyRxfcP3Xr5quhqNs/W5JTaKvV5D/udDbdPDfnP3MX8+qWU+I/NGuhfWYq4D/zLaPVn4joP15HpKeKd+A/gZVVaour1z/5OZtM3YbkP+FdRwX8Otw/w+qMMeqO3T+tM5JSBSjeP7kHiD66+94/fGjvB1fo2z8AivyRA+XYP3jTlDzd7ug/u45GaomI4j/BstUJbhTdP8b7Tp6dDt0/7u8ih7Vx1T8h+yQzIZHgP9oD8XaDdtg/3Cjs5N7b4T8MJgOLiLjjP7aVOfZKK+k/ZBF+3PMP3j94q/Qx2jTUP0COtAkAa90/UufUob+84j+hasrCBWvaP3qLyakKe+Q/lQRzD/o/3z/YzfHRb0fTP2neTomDhNc/DsKWyjFt3T/bAhjtq4PiP3xNhY6M3Nw/KdYDKKUSyj+eWj19FM7dP9MmITHAaOA/euNt1RPN2j+FofiYwgHeP3uCNjBlmeI/KBPnLU3Q4z/IRRcIoOviP57CcA+n09E/GTDDhDO93D+j5LdT757nP87CLgxsTt8/wnkoTp7t2j+i0dnznk7QP46jOeDhNNI/+ljnn6Qb1z831GTVjBLZP5jTANCbyeI/BlPLiOg74j+hUdoY+injP5OUZ2trQOU/03Vf5hzr3j/yJJCj2AjXP18cs5vHwNw/0srZKtur4j9GRLVTQPfhP/15yR35vuA/yqakXl+u4D8lAqHH2nfPPy0LaajCnN0/TvHxLCEc4D/vMOhKlEPdP/1hBUTFzM8/6kk7peQz5j+Y+XCV/vbVPw7hgGPohuo/E2byWLs+3D8KD5zCJ77lP2qJ4Zyhy9s/\",\"dtype\":\"float64\",\"order\":\"little\",\"shape\":[141]},\"index\":[0,1,2,3,4,5,6,7,8,9,10,11,12,13,14,15,16,17,18,19,20,21,22,23,24,25,26,27,28,29,30,31,32,33,34,35,36,37,38,39,40,41,42,43,44,45,46,47,48,49,50,51,52,53,54,55,56,57,58,59,60,61,62,63,64,65,66,67,68,69,70,71,72,73,74,75,76,77,78,79,80,81,82,83,84,85,86,87,88,89,90,91,92,93,94,95,96,97,98,99,100,101,102,103,104,105,106,107,108,109,110,111,112,113,114,115,116,117,118,119,120,121,122,123,124,125,126,127,128,129,130,131,132,133,134,135,136,137,138,139,140],\"start_cats\":[\"Actors_models_and_celebrities\",\"African_Countries\",\"African_Geography\",\"Air_and_Sea_transport\",\"Ancient_History_Classical_History_and_Mythology\",\"Animal_and_Human_Rights\",\"Antarctica\",\"Archaeology\",\"Architecture\",\"Art\",\"Artists\",\"Asian_Countries\",\"Astronomers_and_physicists\",\"Biology\",\"Birds\",\"British_History\",\"British_History_15001750\",\"British_History_1500_and_before_including_Roman_Britain\",\"British_History_17501900\",\"British_History_Post_1900\",\"Business\",\"Business_Studies\",\"Cartoons\",\"Central_and_South_American_Countries\",\"Central_and_South_American_Geography\",\"Chemical_compounds\",\"Chemical_elements\",\"Chemistry\",\"Chemists\",\"Citizenship\",\"Climate_and_the_Weather\",\"Community_organisations\",\"Companies\",\"Computer_Programming\",\"Computer_and_Video_games\",\"Computing_People\",\"Computing_hardware_and_infrastructure\",\"Conflict_and_Peace\",\"Countries\",\"Cryptography\",\"Culture_and_Diversity\",\"Currency\",\"Design_and_Technology\",\"Dinosaurs\",\"Divinities\",\"Drink\",\"Economics\",\"Education\",\"Electricity_and_Electronics\",\"Engineering\",\"Engineers_and_inventors\",\"Environment\",\"European_Countries\",\"European_Geography\",\"Everyday_life\",\"Evolution_and_reproduction\",\"Films\",\"Food_and_agriculture\",\"Games\",\"General_Biology\",\"General_Chemistry\",\"General_Geography\",\"General_Literature\",\"General_Physics\",\"General_history\",\"Geographers_and_explorers\",\"Geography\",\"Geography_of_Asia\",\"Geography_of_Great_Britain\",\"Geography_of_Oceania_Australasia\",\"Geography_of_the_Middle_East\",\"Geology_and_geophysics\",\"Health_and_medicine\",\"Historians_chroniclers_and_history_books\",\"Historical_figures\",\"History\",\"Human_Scientists\",\"IT\",\"Insects_Reptiles_and_Fish\",\"Language_and_literature\",\"Languages\",\"Law\",\"Linguistics\",\"Literature_types\",\"Mammals\",\"Materials_science\",\"Mathematicians\",\"Mathematics\",\"Media\",\"Middle_Eastern_Countries\",\"Military_History_and_War\",\"Military_People\",\"Mineralogy\",\"Monarchs_of_Great_Britain\",\"Music\",\"Musical_Instruments\",\"Musical_Recordings_and_compositions\",\"Musical_genres_styles_eras_and_events\",\"Myths\",\"Natural_Disasters\",\"North_American_Geography\",\"North_American_History\",\"Novels\",\"Organisms\",\"People\",\"Peoples\",\"Performers_and_composers\",\"Philosophers\",\"Philosophy\",\"Physics\",\"Plants\",\"Poetry_and_Opera\",\"Political_People\",\"Politics_and_government\",\"Pre_1900_Military\",\"Producers_directors_and_media_figures\",\"Railway_transport\",\"Recent_History\",\"Recreation\",\"Religion\",\"Religious_disputes\",\"Religious_figures_and_leaders\",\"Religious_movements_traditions_and_organizations\",\"Religious_texts\",\"Road_transport\",\"Science\",\"Software\",\"Space_Astronomy\",\"Space_transport\",\"Sports\",\"Sports_and_games_people\",\"Sports_events\",\"Sports_teams\",\"Storms\",\"Television\",\"The_Planets\",\"Theatre\",\"USA_Presidents\",\"Websites_and_the_Internet\",\"World_War_II\",\"Writers_and_critics\"]},\"selected\":{\"id\":\"1153\"},\"selection_policy\":{\"id\":\"1152\"}},\"id\":\"1129\",\"type\":\"ColumnDataSource\"},{\"attributes\":{},\"id\":\"1128\",\"type\":\"Range1d\"},{\"attributes\":{},\"id\":\"1151\",\"type\":\"AllLabels\"},{\"attributes\":{},\"id\":\"1114\",\"type\":\"BasicTicker\"},{\"attributes\":{},\"id\":\"1099\",\"type\":\"PanTool\"},{\"attributes\":{\"axis_label\":\"Sucess rate with this concept as starting edges\",\"coordinates\":null,\"formatter\":{\"id\":\"1150\"},\"group\":null,\"major_label_policy\":{\"id\":\"1151\"},\"ticker\":{\"id\":\"1114\"}},\"id\":\"1113\",\"type\":\"LinearAxis\"},{\"attributes\":{\"axis\":{\"id\":\"1113\"},\"coordinates\":null,\"group\":null,\"ticker\":null},\"id\":\"1116\",\"type\":\"Grid\"},{\"attributes\":{\"axis\":{\"id\":\"1117\"},\"coordinates\":null,\"dimension\":1,\"group\":null,\"ticker\":null},\"id\":\"1120\",\"type\":\"Grid\"},{\"attributes\":{\"source\":{\"id\":\"1129\"}},\"id\":\"1135\",\"type\":\"CDSView\"},{\"attributes\":{},\"id\":\"1101\",\"type\":\"SaveTool\"},{\"attributes\":{},\"id\":\"1153\",\"type\":\"Selection\"},{\"attributes\":{},\"id\":\"1100\",\"type\":\"WheelZoomTool\"},{\"attributes\":{\"fill_alpha\":{\"value\":0.1},\"fill_color\":{\"field\":\"color\"},\"hatch_alpha\":{\"value\":0.1},\"hatch_color\":{\"field\":\"color\"},\"line_alpha\":{\"value\":0.1},\"line_color\":{\"field\":\"color\"},\"size\":{\"value\":15},\"x\":{\"field\":\"frac_start\"},\"y\":{\"field\":\"frac_target\"}},\"id\":\"1132\",\"type\":\"Circle\"},{\"attributes\":{\"coordinates\":null,\"data_source\":{\"id\":\"1129\"},\"glyph\":{\"id\":\"1131\"},\"group\":null,\"hover_glyph\":null,\"muted_glyph\":{\"id\":\"1133\"},\"nonselection_glyph\":{\"id\":\"1132\"},\"view\":{\"id\":\"1135\"}},\"id\":\"1134\",\"type\":\"GlyphRenderer\"},{\"attributes\":{},\"id\":\"1098\",\"type\":\"ResetTool\"},{\"attributes\":{},\"id\":\"1118\",\"type\":\"BasicTicker\"},{\"attributes\":{\"coordinates\":null,\"group\":null,\"text\":\"Comparing sucess of game with start and target topics\",\"text_color\":\"black\",\"text_font_size\":\"15px\"},\"id\":\"1103\",\"type\":\"Title\"},{\"attributes\":{},\"id\":\"1127\",\"type\":\"Range1d\"},{\"attributes\":{},\"id\":\"1109\",\"type\":\"LinearScale\"},{\"attributes\":{},\"id\":\"1147\",\"type\":\"BasicTickFormatter\"},{\"attributes\":{\"fill_alpha\":{\"value\":0.2},\"fill_color\":{\"field\":\"color\"},\"hatch_alpha\":{\"value\":0.2},\"hatch_color\":{\"field\":\"color\"},\"line_alpha\":{\"value\":0.2},\"line_color\":{\"field\":\"color\"},\"size\":{\"value\":15},\"x\":{\"field\":\"frac_start\"},\"y\":{\"field\":\"frac_target\"}},\"id\":\"1133\",\"type\":\"Circle\"}],\"root_ids\":[\"1102\"]},\"title\":\"Bokeh Application\",\"version\":\"2.4.1\"}};\n",
       "  const render_items = [{\"docid\":\"4730ca60-5e08-4124-b434-30095024e746\",\"notebook_comms_target\":\"1154\",\"root_ids\":[\"1102\"],\"roots\":{\"1102\":\"8dc51909-ca93-4aa1-abfd-8e2f47f3b3a3\"}}];\n",
       "  root.Bokeh.embed.embed_items_notebook(docs_json, render_items);\n",
       "\n",
       "  }\n",
       "  if (root.Bokeh !== undefined) {\n",
       "    embed_document(root);\n",
       "  } else {\n",
       "    let attempts = 0;\n",
       "    const timer = setInterval(function(root) {\n",
       "      if (root.Bokeh !== undefined) {\n",
       "        clearInterval(timer);\n",
       "        embed_document(root);\n",
       "      } else {\n",
       "        attempts++;\n",
       "        if (attempts > 100) {\n",
       "          clearInterval(timer);\n",
       "          console.log(\"Bokeh: ERROR: Unable to run BokehJS code because BokehJS library is missing\");\n",
       "        }\n",
       "      }\n",
       "    }, 10, root)\n",
       "  }\n",
       "})(window);"
      ],
      "application/vnd.bokehjs_exec.v0+json": ""
     },
     "metadata": {
      "application/vnd.bokehjs_exec.v0+json": {
       "id": "1102"
      }
     },
     "output_type": "display_data"
    },
    {
     "data": {
      "text/html": [
       "<p><code>&lt;Bokeh Notebook handle for <strong>In[30]</strong>&gt;</code></p>"
      ],
      "text/plain": [
       "<bokeh.io.notebook.CommsHandle at 0x18892462700>"
      ]
     },
     "execution_count": 30,
     "metadata": {},
     "output_type": "execute_result"
    }
   ],
   "source": [
    "def get_color_2(x):\n",
    "    if x.frac_target < mean_frac_target-val_frac_target*std_frac_target \\\n",
    "            or x.frac_start < mean_frac_start-val_frac_start*std_frac_start :\n",
    "        return 'red'\n",
    "    elif x.frac_target > mean_frac_target+val_frac_target*std_frac_target \\\n",
    "            or x.frac_start > mean_frac_start+val_frac_start*std_frac_start :\n",
    "        return 'green'\n",
    "    else :\n",
    "        return 'blue'\n",
    "data = start_target_cats[['frac_start', 'frac_target']].reset_index()\n",
    "data['color'] = data.apply(lambda x : get_color_2(x), axis = 1)\n",
    "hover = HoverTool(\n",
    "    tooltips=[\n",
    "        (\"Name\", \"@start_cats\"),\n",
    "    ])\n",
    "tools = [hover, ResetTool(), PanTool(), WheelZoomTool(), SaveTool()]\n",
    "\n",
    "p = figure(plot_width=660, plot_height=460, tools=tools, title=\"Comparing sucess of game with start and target topics\")\n",
    "p.title.text_color = \"black\"\n",
    "p.title.text_font_size = \"15px\"\n",
    "p.xaxis.axis_label = 'Sucess rate with this concept as starting edges'\n",
    "p.yaxis.axis_label = 'Sucess rate with this concept as target edges'\n",
    "p.x_range = Range1d(0,1)\n",
    "p.y_range = Range1d(0,1)\n",
    "\n",
    "p.circle('frac_start', 'frac_target', color = 'color', source=data, size=15, alpha=0.5)\n",
    "\n",
    "show(p, notebook_handle=True)"
   ]
  },
  {
   "cell_type": "markdown",
   "id": "8bcdae12",
   "metadata": {},
   "source": [
    "## Add features "
   ]
  },
  {
   "cell_type": "code",
   "execution_count": 53,
   "id": "a17e4de7",
   "metadata": {},
   "outputs": [],
   "source": [
    "def get_score(article, attribute):\n",
    "    if article not in categories_merged_2.index :\n",
    "        return 0.5\n",
    "    arr = [start_target_cats.loc[cat][attribute] for cat in categories_merged_2.loc[article].categories ]\n",
    "    return sum(arr)/len(arr)"
   ]
  },
  {
   "cell_type": "code",
   "execution_count": null,
   "id": "3445eb79",
   "metadata": {},
   "outputs": [],
   "source": [
    "categories['categories'] = categories.category.apply(lambda x : [x.split('.')[-1]])\n",
    "categories_merged_2 = pd.DataFrame(categories.groupby('article').categories.agg(sum))\n",
    "features = paths_all[['path','target']].copy()\n",
    "features['starting'] = features.path.apply(lambda x : x.split(';')[0])\n",
    "features['target'] = features['target'].apply(lambda t : get_score(t, 'frac_target'))\n",
    "features['starting'] = features['starting'].apply(lambda t : get_score(t, 'frac_start'))\n",
    "features = features[['starting', 'target']]"
   ]
  },
  {
   "cell_type": "code",
   "execution_count": null,
   "id": "bec15c17",
   "metadata": {},
   "outputs": [],
   "source": [
    "features"
   ]
  },
  {
   "cell_type": "code",
   "execution_count": 65,
   "id": "2815296e",
   "metadata": {},
   "outputs": [
    {
     "data": {
      "text/html": [
       "<div>\n",
       "<style scoped>\n",
       "    .dataframe tbody tr th:only-of-type {\n",
       "        vertical-align: middle;\n",
       "    }\n",
       "\n",
       "    .dataframe tbody tr th {\n",
       "        vertical-align: top;\n",
       "    }\n",
       "\n",
       "    .dataframe thead th {\n",
       "        text-align: right;\n",
       "    }\n",
       "</style>\n",
       "<table border=\"1\" class=\"dataframe\">\n",
       "  <thead>\n",
       "    <tr style=\"text-align: right;\">\n",
       "      <th></th>\n",
       "      <th>hashedIpAddress</th>\n",
       "      <th>timestamp</th>\n",
       "      <th>durationInSec</th>\n",
       "      <th>path</th>\n",
       "      <th>pathLength</th>\n",
       "      <th>target</th>\n",
       "      <th>type</th>\n",
       "    </tr>\n",
       "  </thead>\n",
       "  <tbody>\n",
       "    <tr>\n",
       "      <th>0</th>\n",
       "      <td>6a3701d319fc3754</td>\n",
       "      <td>1297740409</td>\n",
       "      <td>166</td>\n",
       "      <td>14th_century;15th_century;16th_century;Pacific...</td>\n",
       "      <td>9</td>\n",
       "      <td>African_slave_trade</td>\n",
       "      <td>finished</td>\n",
       "    </tr>\n",
       "    <tr>\n",
       "      <th>1</th>\n",
       "      <td>3824310e536af032</td>\n",
       "      <td>1344753412</td>\n",
       "      <td>88</td>\n",
       "      <td>14th_century;Europe;Africa;Atlantic_slave_trad...</td>\n",
       "      <td>5</td>\n",
       "      <td>African_slave_trade</td>\n",
       "      <td>finished</td>\n",
       "    </tr>\n",
       "    <tr>\n",
       "      <th>2</th>\n",
       "      <td>415612e93584d30e</td>\n",
       "      <td>1349298640</td>\n",
       "      <td>138</td>\n",
       "      <td>14th_century;Niger;Nigeria;British_Empire;Slav...</td>\n",
       "      <td>8</td>\n",
       "      <td>African_slave_trade</td>\n",
       "      <td>finished</td>\n",
       "    </tr>\n",
       "    <tr>\n",
       "      <th>3</th>\n",
       "      <td>64dd5cd342e3780c</td>\n",
       "      <td>1265613925</td>\n",
       "      <td>37</td>\n",
       "      <td>14th_century;Renaissance;Ancient_Greece;Greece</td>\n",
       "      <td>4</td>\n",
       "      <td>Greece</td>\n",
       "      <td>finished</td>\n",
       "    </tr>\n",
       "    <tr>\n",
       "      <th>4</th>\n",
       "      <td>015245d773376aab</td>\n",
       "      <td>1366730828</td>\n",
       "      <td>175</td>\n",
       "      <td>14th_century;Italy;Roman_Catholic_Church;HIV;R...</td>\n",
       "      <td>7</td>\n",
       "      <td>John_F._Kennedy</td>\n",
       "      <td>finished</td>\n",
       "    </tr>\n",
       "    <tr>\n",
       "      <th>...</th>\n",
       "      <td>...</td>\n",
       "      <td>...</td>\n",
       "      <td>...</td>\n",
       "      <td>...</td>\n",
       "      <td>...</td>\n",
       "      <td>...</td>\n",
       "      <td>...</td>\n",
       "    </tr>\n",
       "    <tr>\n",
       "      <th>76188</th>\n",
       "      <td>109ed71f571d86e9</td>\n",
       "      <td>1389787605</td>\n",
       "      <td>180</td>\n",
       "      <td>Franz_Kafka;Tuberculosis;World_Health_Organiza...</td>\n",
       "      <td>8</td>\n",
       "      <td>Cholera</td>\n",
       "      <td>restart</td>\n",
       "    </tr>\n",
       "    <tr>\n",
       "      <th>76189</th>\n",
       "      <td>232f992e57d43e8d</td>\n",
       "      <td>1389787697</td>\n",
       "      <td>6</td>\n",
       "      <td>Modern_history</td>\n",
       "      <td>1</td>\n",
       "      <td>Hollandic</td>\n",
       "      <td>restart</td>\n",
       "    </tr>\n",
       "    <tr>\n",
       "      <th>76190</th>\n",
       "      <td>2e09a7224600a7cd</td>\n",
       "      <td>1389798400</td>\n",
       "      <td>1900</td>\n",
       "      <td>Computer_programming;Linguistics;Culture;Popul...</td>\n",
       "      <td>5</td>\n",
       "      <td>The_Beatles</td>\n",
       "      <td>timeout</td>\n",
       "    </tr>\n",
       "    <tr>\n",
       "      <th>76191</th>\n",
       "      <td>60af9e2138051b96</td>\n",
       "      <td>1389799481</td>\n",
       "      <td>1903</td>\n",
       "      <td>Jamaica;United_Kingdom;World_War_II;Battle_of_...</td>\n",
       "      <td>4</td>\n",
       "      <td>Alan_Turing</td>\n",
       "      <td>timeout</td>\n",
       "    </tr>\n",
       "    <tr>\n",
       "      <th>76192</th>\n",
       "      <td>1cf0cbb3281049ab</td>\n",
       "      <td>1389822841</td>\n",
       "      <td>352</td>\n",
       "      <td>Mark_Antony;Rome;Tennis;Hawk-Eye;Computer</td>\n",
       "      <td>5</td>\n",
       "      <td>Feather</td>\n",
       "      <td>restart</td>\n",
       "    </tr>\n",
       "  </tbody>\n",
       "</table>\n",
       "<p>76193 rows × 7 columns</p>\n",
       "</div>"
      ],
      "text/plain": [
       "        hashedIpAddress   timestamp  durationInSec  \\\n",
       "0      6a3701d319fc3754  1297740409            166   \n",
       "1      3824310e536af032  1344753412             88   \n",
       "2      415612e93584d30e  1349298640            138   \n",
       "3      64dd5cd342e3780c  1265613925             37   \n",
       "4      015245d773376aab  1366730828            175   \n",
       "...                 ...         ...            ...   \n",
       "76188  109ed71f571d86e9  1389787605            180   \n",
       "76189  232f992e57d43e8d  1389787697              6   \n",
       "76190  2e09a7224600a7cd  1389798400           1900   \n",
       "76191  60af9e2138051b96  1389799481           1903   \n",
       "76192  1cf0cbb3281049ab  1389822841            352   \n",
       "\n",
       "                                                    path  pathLength  \\\n",
       "0      14th_century;15th_century;16th_century;Pacific...           9   \n",
       "1      14th_century;Europe;Africa;Atlantic_slave_trad...           5   \n",
       "2      14th_century;Niger;Nigeria;British_Empire;Slav...           8   \n",
       "3         14th_century;Renaissance;Ancient_Greece;Greece           4   \n",
       "4      14th_century;Italy;Roman_Catholic_Church;HIV;R...           7   \n",
       "...                                                  ...         ...   \n",
       "76188  Franz_Kafka;Tuberculosis;World_Health_Organiza...           8   \n",
       "76189                                     Modern_history           1   \n",
       "76190  Computer_programming;Linguistics;Culture;Popul...           5   \n",
       "76191  Jamaica;United_Kingdom;World_War_II;Battle_of_...           4   \n",
       "76192          Mark_Antony;Rome;Tennis;Hawk-Eye;Computer           5   \n",
       "\n",
       "                    target      type  \n",
       "0      African_slave_trade  finished  \n",
       "1      African_slave_trade  finished  \n",
       "2      African_slave_trade  finished  \n",
       "3                   Greece  finished  \n",
       "4          John_F._Kennedy  finished  \n",
       "...                    ...       ...  \n",
       "76188              Cholera   restart  \n",
       "76189            Hollandic   restart  \n",
       "76190          The_Beatles   timeout  \n",
       "76191          Alan_Turing   timeout  \n",
       "76192              Feather   restart  \n",
       "\n",
       "[76193 rows x 7 columns]"
      ]
     },
     "execution_count": 65,
     "metadata": {},
     "output_type": "execute_result"
    }
   ],
   "source": [
    "paths_all"
   ]
  },
  {
   "cell_type": "code",
   "execution_count": null,
   "id": "7611e221",
   "metadata": {},
   "outputs": [],
   "source": []
  }
 ],
 "metadata": {
  "kernelspec": {
   "display_name": "Python 3 (ipykernel)",
   "language": "python",
   "name": "python3"
  },
  "language_info": {
   "codemirror_mode": {
    "name": "ipython",
    "version": 3
   },
   "file_extension": ".py",
   "mimetype": "text/x-python",
   "name": "python",
   "nbconvert_exporter": "python",
   "pygments_lexer": "ipython3",
   "version": "3.9.7"
  }
 },
 "nbformat": 4,
 "nbformat_minor": 5
}
