{
 "cells": [
  {
   "cell_type": "code",
   "execution_count": 1,
   "id": "1a49e19a-2e4c-4251-90c4-d4398cee9673",
   "metadata": {},
   "outputs": [
    {
     "name": "stderr",
     "output_type": "stream",
     "text": [
      "C:\\Users\\Claudia\\AppData\\Roaming\\Python\\Python39\\site-packages\\numpy\\_distributor_init.py:30: UserWarning: loaded more than 1 DLL from .libs:\n",
      "C:\\Users\\Claudia\\AppData\\Roaming\\Python\\Python39\\site-packages\\numpy\\.libs\\libopenblas.4SP5SUA7CBGXUEOC35YP2ASOICYYEQZZ.gfortran-win_amd64.dll\n",
      "C:\\Users\\Claudia\\AppData\\Roaming\\Python\\Python39\\site-packages\\numpy\\.libs\\libopenblas.GK7GX5KEQ4F6UYO3P26ULGBQYHGQO7J4.gfortran-win_amd64.dll\n",
      "  warnings.warn(\"loaded more than 1 DLL from .libs:\"\n"
     ]
    }
   ],
   "source": [
    "#Import libraries\n",
    "import pandas as pd\n",
    "import numpy as np\n",
    "import matplotlib.pyplot as plt\n",
    "import seaborn as sns\n",
    "import networkx as nx\n",
    "import re\n",
    "import seaborn as sns\n",
    "\n",
    "import urllib\n",
    "from scipy import stats"
   ]
  },
  {
   "cell_type": "markdown",
   "id": "bffd4e13-4805-409c-8217-eb86d7204565",
   "metadata": {},
   "source": [
    "</div>\n",
    "<div class=\"1. Header\" style='background-color:#08135c; border-left: solid #darkblue 4px; border-radius: 4px; padding:0.7em;'>\n",
    "    <span style=\"color:white;\">\n",
    "       <h2>1. Data</h2>\n",
    "        <h4>In this first section we import and rearrange the data.</h4>\n",
    "    </span>\n",
    "</div>\n",
    "</div>"
   ]
  },
  {
   "cell_type": "markdown",
   "id": "3ed0ffce-f29e-41a5-830b-766d7b9caa2e",
   "metadata": {},
   "source": [
    "</div>\n",
    "<div class=\"1.1 Header\" style='background-color:#08135c; border-left: solid #darkblue 4px; border-radius: 4px; padding:0.7em;'>\n",
    "    <span style=\"color:white\">\n",
    "       <h3>1.1 Data acquisition</h3>\n",
    "    </span>\n",
    "</div>\n",
    "</div>\n",
    "<div class=\"1.1 explanation\" style='background-color:#faefe1; border-left: solid #darkblue 4px; border-radius: 4px; padding:0.7em;'>\n",
    "    <span style=\"color:black\">\n",
    "        Here we load the relevant data using the <span style=\"font-family: monospace; background-color:#fadfb9; padding-left:4px; padding-right:4px; border-radius: 5px;\">pd.read_csv()</span> method. The data we are dealing with follows a relational model. The specific navigation paths can be represented as graphs where the nodes concern the wikipedia pages that are connected through (directional) edges representing the hyperlinks.\n",
    "    </span>\n",
    "</div>"
   ]
  },
  {
   "cell_type": "code",
   "execution_count": 2,
   "id": "13f00c41-b131-4742-b5bf-9fbe0a8b7778",
   "metadata": {},
   "outputs": [],
   "source": [
    "#Import relevant DataFrames\n",
    "\n",
    "#Articles data\n",
    "articles = pd.read_csv(\"data/articles.tsv\", skiprows=11, names=[\"article\"])\n",
    "articles['article'] = articles['article'].apply(urllib.parse.unquote) #Parsing URL encoding\n",
    "\n",
    "#Category data\n",
    "categories = pd.read_csv(\"data/categories.tsv\", sep=\"\\t\", skiprows=12, names=[\"article\", \"category\"])\n",
    "categories[\"article\"] = categories[\"article\"].apply(urllib.parse.unquote) #Parsing URL encoding\n",
    "\n",
    "#Links data\n",
    "links = pd.read_csv(\"data/links.tsv\", sep=\"\\t\", skiprows=11, names=[\"article\", \"link\"])\n",
    "links[\"article\"] = links[\"article\"].apply(urllib.parse.unquote) #Parsing URL encoding\n",
    "links[\"link\"] = links[\"link\"].apply(urllib.parse.unquote) #Parsing URL encoding\n",
    "\n",
    "#Finished paths\n",
    "paths_finished = pd.read_csv(\"data/paths_finished.tsv\", sep=\"\\t\", skiprows=15, names=[\"hashedIpAddress\",\n",
    "                                                                                      \"timestamp\",\n",
    "                                                                                      \"durationInSec\",\n",
    "                                                                                      \"path\",\n",
    "                                                                                      \"rating\"])\n",
    "paths_finished[\"path\"] = paths_finished[\"path\"].apply(urllib.parse.unquote) #Parsing URL encoding\n",
    "\n",
    "#Unfinished paths\n",
    "paths_unfinished = pd.read_csv(\"data/paths_unfinished.tsv\", sep=\"\\t\", skiprows=16, names=[\"hashedIpAddress\",\n",
    "                                                                                          \"timestamp\",\n",
    "                                                                                          \"durationInSec\",\n",
    "                                                                                          \"path\",\n",
    "                                                                                          \"target\",\n",
    "                                                                                          \"type\"])\n",
    "paths_unfinished[\"path\"] = paths_unfinished[\"path\"].apply(urllib.parse.unquote) #Parsing URL encoding\n",
    "paths_unfinished[\"target\"] = paths_unfinished[\"target\"].apply(urllib.parse.unquote) #Parsing URL encoding\n",
    "\n",
    "# Add the length of the paths\n",
    "paths_unfinished['pathLength'] = paths_unfinished['path'].apply(lambda x : len(str(x).split(';')))\n",
    "paths_finished['pathLength'] = paths_finished['path'].apply(lambda x : len(str(x).split(';')))\n",
    "\n",
    "#shortest path matrix\n",
    "with open('data/shortest-path-distance-matrix.txt', 'r') as file:\n",
    "    \n",
    "    #Initialize shortest_path_distance list\n",
    "    shortest_path_distance = []\n",
    "    \n",
    "    for line in file:\n",
    "        \n",
    "        #Check if the first character of the line is either a digit or underscore\n",
    "        if re.search(\"([0-9]|_)\", line[0]): \n",
    "            \n",
    "            #Append list to shortest_path_distance\n",
    "            shortest_path_distance.append([np.nan if x=='_' else int(x) for x in line.strip()])\n",
    "    \n",
    "#Convert to numpy ndarray\n",
    "shortest_path_distance = np.array(shortest_path_distance) "
   ]
  },
  {
   "cell_type": "markdown",
   "id": "5d54a371-9291-4dce-a683-3204fa9138c7",
   "metadata": {},
   "source": [
    "</div>\n",
    "<div class=\"1.2 Header\" style='background-color:#08135c; border-left: solid #darkblue 4px; border-radius: 4px; padding:0.7em;'>\n",
    "    <span style=\"color:white\">\n",
    "       <h3>1.2 Data concatenation</h3>\n",
    "    </span>\n",
    "</div>\n",
    "</div>\n",
    "<div class=\"1.1 explanation\" style='background-color:#faefe1; border-left: solid #darkblue 4px; border-radius: 4px; padding:0.7em;'>\n",
    "    <span style=\"color:black\">\n",
    "        We want to merge both the <span style=\"font-family: monospace; background-color:#fadfb9; padding-left:4px; padding-right:4px; border-radius: 5px;\">paths_finished</span> and <span style=\"font-family: monospace; background-color:#fadfb9; padding-left:4px; padding-right:4px; border-radius: 5px;\">paths_unfinished</span> DataFrame. This make the analysis more convenient when comparing both types. More specifically we add the <span style=\"font-family: monospace; background-color:#fadfb9; padding-left:4px; padding-right:4px; border-radius: 5px;\">target</span> column to and drop the <span style=\"font-family: monospace; background-color:#fadfb9; padding-left:4px; padding-right:4px; border-radius: 5px;\">rating </span> column of <span style=\"font-family: monospace; background-color:#fadfb9; padding-left:4px; padding-right:4px; border-radius: 5px;\">paths_finished</span>. We can then concatenate the respective DataFrames together. \n",
    "</div>"
   ]
  },
  {
   "cell_type": "code",
   "execution_count": 3,
   "id": "df692e55-731c-46cf-89af-973904d9fdf9",
   "metadata": {},
   "outputs": [
    {
     "name": "stdout",
     "output_type": "stream",
     "text": [
      "76193\n"
     ]
    },
    {
     "data": {
      "text/html": [
       "<div>\n",
       "<style scoped>\n",
       "    .dataframe tbody tr th:only-of-type {\n",
       "        vertical-align: middle;\n",
       "    }\n",
       "\n",
       "    .dataframe tbody tr th {\n",
       "        vertical-align: top;\n",
       "    }\n",
       "\n",
       "    .dataframe thead th {\n",
       "        text-align: right;\n",
       "    }\n",
       "</style>\n",
       "<table border=\"1\" class=\"dataframe\">\n",
       "  <thead>\n",
       "    <tr style=\"text-align: right;\">\n",
       "      <th></th>\n",
       "      <th>hashedIpAddress</th>\n",
       "      <th>timestamp</th>\n",
       "      <th>durationInSec</th>\n",
       "      <th>path</th>\n",
       "      <th>pathLength</th>\n",
       "      <th>target</th>\n",
       "      <th>type</th>\n",
       "    </tr>\n",
       "  </thead>\n",
       "  <tbody>\n",
       "    <tr>\n",
       "      <th>0</th>\n",
       "      <td>6a3701d319fc3754</td>\n",
       "      <td>1297740409</td>\n",
       "      <td>166</td>\n",
       "      <td>14th_century;15th_century;16th_century;Pacific...</td>\n",
       "      <td>9</td>\n",
       "      <td>African_slave_trade</td>\n",
       "      <td>finished</td>\n",
       "    </tr>\n",
       "    <tr>\n",
       "      <th>1</th>\n",
       "      <td>3824310e536af032</td>\n",
       "      <td>1344753412</td>\n",
       "      <td>88</td>\n",
       "      <td>14th_century;Europe;Africa;Atlantic_slave_trad...</td>\n",
       "      <td>5</td>\n",
       "      <td>African_slave_trade</td>\n",
       "      <td>finished</td>\n",
       "    </tr>\n",
       "    <tr>\n",
       "      <th>2</th>\n",
       "      <td>415612e93584d30e</td>\n",
       "      <td>1349298640</td>\n",
       "      <td>138</td>\n",
       "      <td>14th_century;Niger;Nigeria;British_Empire;Slav...</td>\n",
       "      <td>8</td>\n",
       "      <td>African_slave_trade</td>\n",
       "      <td>finished</td>\n",
       "    </tr>\n",
       "    <tr>\n",
       "      <th>3</th>\n",
       "      <td>64dd5cd342e3780c</td>\n",
       "      <td>1265613925</td>\n",
       "      <td>37</td>\n",
       "      <td>14th_century;Renaissance;Ancient_Greece;Greece</td>\n",
       "      <td>4</td>\n",
       "      <td>Greece</td>\n",
       "      <td>finished</td>\n",
       "    </tr>\n",
       "  </tbody>\n",
       "</table>\n",
       "</div>"
      ],
      "text/plain": [
       "    hashedIpAddress   timestamp  durationInSec  \\\n",
       "0  6a3701d319fc3754  1297740409            166   \n",
       "1  3824310e536af032  1344753412             88   \n",
       "2  415612e93584d30e  1349298640            138   \n",
       "3  64dd5cd342e3780c  1265613925             37   \n",
       "\n",
       "                                                path  pathLength  \\\n",
       "0  14th_century;15th_century;16th_century;Pacific...           9   \n",
       "1  14th_century;Europe;Africa;Atlantic_slave_trad...           5   \n",
       "2  14th_century;Niger;Nigeria;British_Empire;Slav...           8   \n",
       "3     14th_century;Renaissance;Ancient_Greece;Greece           4   \n",
       "\n",
       "                target      type  \n",
       "0  African_slave_trade  finished  \n",
       "1  African_slave_trade  finished  \n",
       "2  African_slave_trade  finished  \n",
       "3               Greece  finished  "
      ]
     },
     "execution_count": 3,
     "metadata": {},
     "output_type": "execute_result"
    }
   ],
   "source": [
    "#Merge all the paths \n",
    "paths_finished['target'] = paths_finished['path'].apply(lambda x : str(x).split(';')[-1])\n",
    "\n",
    "#Add and remove (ir)relevant colums.\n",
    "paths_finished_ = paths_finished.copy()\n",
    "paths_unfinished_ = paths_unfinished.copy()\n",
    "paths_finished_['type'] = 'finished'\n",
    "paths_finished_ = paths_finished_.drop('rating',axis =1)\n",
    "\n",
    "#concatenate data\n",
    "paths_all = pd.concat([paths_finished_, paths_unfinished_]) \n",
    "print(len(paths_all))\n",
    "\n",
    "#print head of resulting DataFrame\n",
    "paths_all.head(4)"
   ]
  },
  {
   "cell_type": "code",
   "execution_count": 4,
   "id": "1cd8c1b5-fb94-422f-9482-cd2770120760",
   "metadata": {},
   "outputs": [],
   "source": [
    "paths_all_processed = paths_all[paths_all['pathLength'] > 1]"
   ]
  },
  {
   "cell_type": "code",
   "execution_count": 5,
   "id": "506ad8d7-fd54-4bc7-98bb-61acebbbac87",
   "metadata": {},
   "outputs": [
    {
     "name": "stdout",
     "output_type": "stream",
     "text": [
      "During the processing we delete all the games played with a path length 1. That means that we discharge  5225  of all the played games.\n"
     ]
    }
   ],
   "source": [
    "print('During the processing we delete all the games played with a path length 1. That means that we discharge ', len(paths_all)-len(paths_all_processed), ' of all the played games.')"
   ]
  },
  {
   "cell_type": "markdown",
   "id": "24e96088-fb1f-4df0-8df3-45c13aaf7369",
   "metadata": {},
   "source": [
    "</div>\n",
    "<div class=\"4. Header\" style='background-color:#08135c; border-left: solid #darkblue 4px; border-radius: 4px; padding:0.7em;'>\n",
    "    <span style=\"color:white;\">\n",
    "       <h2>1. Between game analysis</h2>\n",
    "        <h4>Here we will focus on the level of an individual player and the history of the different Wikispeedia games (i.e. between game) that have been played by that person consecutively.</h4>\n",
    "    </span>\n",
    "</div>\n",
    "</div>"
   ]
  },
  {
   "cell_type": "markdown",
   "id": "d53605e6-401c-4fb3-bdc7-aa0dc5dcfb51",
   "metadata": {},
   "source": [
    "</div>\n",
    "<div class=\"1.1 explanation\" style='background-color:#08135c; border-left: solid #darkblue 4px; border-radius: 4px; padding:0.7em;'>\n",
    "    <span style=\"color:white\">\n",
    "       <h3>1.1 Game distribution per player</h3>\n",
    "    </span>\n",
    "</div>\n",
    "</div>\n",
    "<div class=\"1.1 explanation\" style='background-color:#faefe1; border-left: solid #darkblue 4px; border-radius: 4px; padding:0.7em;'>\n",
    "    <span style=\"color:black\">\n",
    "        We can globally categorize the <span style=\"font-family: monospace; background-color:#fadfb9; padding-left:4px; padding-right:4px; border-radius: 5px;\">between_game</span> game history (chronologically) in 3 groups:\n",
    "        <ul>\n",
    "            <li> <code class='python'>finished</code>: The player's last game was a <code class='python'>finished</code> path (e.g. <code class='python'>[timeout, restart, finished]</code>)</li>\n",
    "            <li> <code class='python'>timeout</code>: The player's last game was a <code class='python'>finished</code> timeout (e.g. <code class='python'>[timeout, restart, timeout]</code>)</li>\n",
    "            <li> <code class='python'>restart</code>: The player's last game was a <code class='python'>finished</code> restart (e.g. <code class='python'>[timeout, restart, restart]</code>)</li>\n",
    "        </ul>\n",
    "        Per category, we want to find and display the distribution for the number of succesfully <code class='python'>finished</code> games. Firsts we need to extract the  <span style=\"font-family: monospace; background-color:#fadfb9; padding-left:4px; padding-right:4px; border-radius: 5px;\">between_game</span> history per player. From that, we can extract the <span style=\"font-family: monospace; background-color:#fadfb9; padding-left:4px; padding-right:4px; border-radius: 5px;\">last_game</span> and <span style=\"font-family: monospace; background-color:#fadfb9; padding-left:4px; padding-right:4px; border-radius: 5px;\">nb_finished_games</span> columns. Here we assume that the <span style=\"font-family: monospace; background-color:#fadfb9; padding-left:4px; padding-right:4px; border-radius: 5px;\">hashedIpAddress</span> refers the a single unique player.\n",
    "    </span>\n",
    "</div>\n"
   ]
  },
  {
   "cell_type": "code",
   "execution_count": 6,
   "id": "8a0114e3-2d4a-4698-acc3-d38246a4b24a",
   "metadata": {},
   "outputs": [
    {
     "data": {
      "text/html": [
       "<div>\n",
       "<style scoped>\n",
       "    .dataframe tbody tr th:only-of-type {\n",
       "        vertical-align: middle;\n",
       "    }\n",
       "\n",
       "    .dataframe tbody tr th {\n",
       "        vertical-align: top;\n",
       "    }\n",
       "\n",
       "    .dataframe thead th {\n",
       "        text-align: right;\n",
       "    }\n",
       "</style>\n",
       "<table border=\"1\" class=\"dataframe\">\n",
       "  <thead>\n",
       "    <tr style=\"text-align: right;\">\n",
       "      <th></th>\n",
       "      <th>between_game</th>\n",
       "    </tr>\n",
       "    <tr>\n",
       "      <th>hashedIpAddress</th>\n",
       "      <th></th>\n",
       "    </tr>\n",
       "  </thead>\n",
       "  <tbody>\n",
       "    <tr>\n",
       "      <th>000386124f307de8</th>\n",
       "      <td>[finished, timeout]</td>\n",
       "    </tr>\n",
       "    <tr>\n",
       "      <th>0007183207b6008f</th>\n",
       "      <td>[finished, finished, finished]</td>\n",
       "    </tr>\n",
       "    <tr>\n",
       "      <th>000a09e202e88d10</th>\n",
       "      <td>[finished]</td>\n",
       "    </tr>\n",
       "    <tr>\n",
       "      <th>000a5bac5b7781ea</th>\n",
       "      <td>[finished]</td>\n",
       "    </tr>\n",
       "  </tbody>\n",
       "</table>\n",
       "</div>"
      ],
      "text/plain": [
       "                                    between_game\n",
       "hashedIpAddress                                 \n",
       "000386124f307de8             [finished, timeout]\n",
       "0007183207b6008f  [finished, finished, finished]\n",
       "000a09e202e88d10                      [finished]\n",
       "000a5bac5b7781ea                      [finished]"
      ]
     },
     "execution_count": 6,
     "metadata": {},
     "output_type": "execute_result"
    }
   ],
   "source": [
    "#Create DataFrame with chronological (between_game) history of games player\n",
    "players_record = pd.DataFrame(paths_all_processed.sort_values('timestamp').groupby('hashedIpAddress')['type'].apply(list))\n",
    "players_record = players_record.rename(columns={'type': 'between_game'})\n",
    "\n",
    "#Display snipped of result\n",
    "players_record.head(4)"
   ]
  },
  {
   "cell_type": "code",
   "execution_count": 7,
   "id": "531856a1-9db4-4eb1-80dc-20372a36ee76",
   "metadata": {},
   "outputs": [
    {
     "data": {
      "text/html": [
       "<div>\n",
       "<style scoped>\n",
       "    .dataframe tbody tr th:only-of-type {\n",
       "        vertical-align: middle;\n",
       "    }\n",
       "\n",
       "    .dataframe tbody tr th {\n",
       "        vertical-align: top;\n",
       "    }\n",
       "\n",
       "    .dataframe thead th {\n",
       "        text-align: right;\n",
       "    }\n",
       "</style>\n",
       "<table border=\"1\" class=\"dataframe\">\n",
       "  <thead>\n",
       "    <tr style=\"text-align: right;\">\n",
       "      <th></th>\n",
       "      <th>between_game</th>\n",
       "      <th>last_game</th>\n",
       "      <th>nb_finished_games</th>\n",
       "      <th>nb_restart_games</th>\n",
       "      <th>nb_timeout_games</th>\n",
       "      <th>nb_total_games</th>\n",
       "    </tr>\n",
       "    <tr>\n",
       "      <th>hashedIpAddress</th>\n",
       "      <th></th>\n",
       "      <th></th>\n",
       "      <th></th>\n",
       "      <th></th>\n",
       "      <th></th>\n",
       "      <th></th>\n",
       "    </tr>\n",
       "  </thead>\n",
       "  <tbody>\n",
       "    <tr>\n",
       "      <th>000386124f307de8</th>\n",
       "      <td>[finished, timeout]</td>\n",
       "      <td>timeout</td>\n",
       "      <td>1</td>\n",
       "      <td>0</td>\n",
       "      <td>1</td>\n",
       "      <td>2</td>\n",
       "    </tr>\n",
       "    <tr>\n",
       "      <th>0007183207b6008f</th>\n",
       "      <td>[finished, finished, finished]</td>\n",
       "      <td>finished</td>\n",
       "      <td>3</td>\n",
       "      <td>0</td>\n",
       "      <td>0</td>\n",
       "      <td>3</td>\n",
       "    </tr>\n",
       "    <tr>\n",
       "      <th>000a09e202e88d10</th>\n",
       "      <td>[finished]</td>\n",
       "      <td>finished</td>\n",
       "      <td>1</td>\n",
       "      <td>0</td>\n",
       "      <td>0</td>\n",
       "      <td>1</td>\n",
       "    </tr>\n",
       "    <tr>\n",
       "      <th>000a5bac5b7781ea</th>\n",
       "      <td>[finished]</td>\n",
       "      <td>finished</td>\n",
       "      <td>1</td>\n",
       "      <td>0</td>\n",
       "      <td>0</td>\n",
       "      <td>1</td>\n",
       "    </tr>\n",
       "    <tr>\n",
       "      <th>000a6e585b776c96</th>\n",
       "      <td>[timeout]</td>\n",
       "      <td>timeout</td>\n",
       "      <td>0</td>\n",
       "      <td>0</td>\n",
       "      <td>1</td>\n",
       "      <td>1</td>\n",
       "    </tr>\n",
       "    <tr>\n",
       "      <th>000bc9fe5640ed31</th>\n",
       "      <td>[finished, finished]</td>\n",
       "      <td>finished</td>\n",
       "      <td>2</td>\n",
       "      <td>0</td>\n",
       "      <td>0</td>\n",
       "      <td>2</td>\n",
       "    </tr>\n",
       "    <tr>\n",
       "      <th>000d397013f09039</th>\n",
       "      <td>[finished, finished]</td>\n",
       "      <td>finished</td>\n",
       "      <td>2</td>\n",
       "      <td>0</td>\n",
       "      <td>0</td>\n",
       "      <td>2</td>\n",
       "    </tr>\n",
       "    <tr>\n",
       "      <th>000e5d4c2c8e921f</th>\n",
       "      <td>[finished, restart, restart, timeout]</td>\n",
       "      <td>timeout</td>\n",
       "      <td>1</td>\n",
       "      <td>2</td>\n",
       "      <td>1</td>\n",
       "      <td>4</td>\n",
       "    </tr>\n",
       "    <tr>\n",
       "      <th>000e954305ddb434</th>\n",
       "      <td>[finished]</td>\n",
       "      <td>finished</td>\n",
       "      <td>1</td>\n",
       "      <td>0</td>\n",
       "      <td>0</td>\n",
       "      <td>1</td>\n",
       "    </tr>\n",
       "    <tr>\n",
       "      <th>0011acb93ed0090b</th>\n",
       "      <td>[restart, timeout]</td>\n",
       "      <td>timeout</td>\n",
       "      <td>0</td>\n",
       "      <td>1</td>\n",
       "      <td>1</td>\n",
       "      <td>2</td>\n",
       "    </tr>\n",
       "  </tbody>\n",
       "</table>\n",
       "</div>"
      ],
      "text/plain": [
       "                                           between_game last_game  \\\n",
       "hashedIpAddress                                                     \n",
       "000386124f307de8                    [finished, timeout]   timeout   \n",
       "0007183207b6008f         [finished, finished, finished]  finished   \n",
       "000a09e202e88d10                             [finished]  finished   \n",
       "000a5bac5b7781ea                             [finished]  finished   \n",
       "000a6e585b776c96                              [timeout]   timeout   \n",
       "000bc9fe5640ed31                   [finished, finished]  finished   \n",
       "000d397013f09039                   [finished, finished]  finished   \n",
       "000e5d4c2c8e921f  [finished, restart, restart, timeout]   timeout   \n",
       "000e954305ddb434                             [finished]  finished   \n",
       "0011acb93ed0090b                     [restart, timeout]   timeout   \n",
       "\n",
       "                  nb_finished_games  nb_restart_games  nb_timeout_games  \\\n",
       "hashedIpAddress                                                           \n",
       "000386124f307de8                  1                 0                 1   \n",
       "0007183207b6008f                  3                 0                 0   \n",
       "000a09e202e88d10                  1                 0                 0   \n",
       "000a5bac5b7781ea                  1                 0                 0   \n",
       "000a6e585b776c96                  0                 0                 1   \n",
       "000bc9fe5640ed31                  2                 0                 0   \n",
       "000d397013f09039                  2                 0                 0   \n",
       "000e5d4c2c8e921f                  1                 2                 1   \n",
       "000e954305ddb434                  1                 0                 0   \n",
       "0011acb93ed0090b                  0                 1                 1   \n",
       "\n",
       "                  nb_total_games  \n",
       "hashedIpAddress                   \n",
       "000386124f307de8               2  \n",
       "0007183207b6008f               3  \n",
       "000a09e202e88d10               1  \n",
       "000a5bac5b7781ea               1  \n",
       "000a6e585b776c96               1  \n",
       "000bc9fe5640ed31               2  \n",
       "000d397013f09039               2  \n",
       "000e5d4c2c8e921f               4  \n",
       "000e954305ddb434               1  \n",
       "0011acb93ed0090b               2  "
      ]
     },
     "execution_count": 7,
     "metadata": {},
     "output_type": "execute_result"
    }
   ],
   "source": [
    "#Now extract last_game column\n",
    "players_record['last_game'] = players_record['between_game'].apply(lambda l : l[-1])\n",
    "\n",
    "#Now extract nb_finished_games, nb_restart_games and nb_timeout_games and nb_total_games column\n",
    "players_record['nb_finished_games'] = players_record['between_game'].apply(lambda x: x.count('finished'))\n",
    "players_record['nb_restart_games'] = players_record['between_game'].apply(lambda x: x.count('restart'))\n",
    "players_record['nb_timeout_games'] = players_record['between_game'].apply(lambda x: x.count('timeout'))\n",
    "players_record['nb_total_games'] = players_record['between_game'].apply(lambda x: len(x))\n",
    "\n",
    "#Display snipped of results\n",
    "players_record.head(10)"
   ]
  },
  {
   "cell_type": "markdown",
   "id": "625fa30c-5344-472e-b804-32389cec7966",
   "metadata": {},
   "source": [
    "<div class=\"1.1 explanation\" style='background-color:#faefe1; border-left: solid #darkblue 4px; border-radius: 4px; padding:0.7em;'>\n",
    "    <span style=\"color:black\">\n",
    "        Let's now compare the <span style=\"font-family: monospace; background-color:#fadfb9; padding-left:4px; padding-right:4px; border-radius: 5px;\">between_game</span> for the different players. We first want look at the following two extremes:\n",
    "        <ul>\n",
    "            <li> Players that <b>only</b> contain <code class='python'>finished</code> games in their <span style=\"font-family: monospace; background-color:#fadfb9; padding-left:4px; padding-right:4px; border-radius: 5px;\">between_game</span> history </li>\n",
    "            <li> Players that contain <b>no</b> <code class='python'>finished</code> games in their <span style=\"font-family: monospace; background-color:#fadfb9; padding-left:4px; padding-right:4px; border-radius: 5px;\">between_game</span> history at all</li>\n",
    "        </ul>\n",
    "    </span>\n",
    "</div>"
   ]
  },
  {
   "cell_type": "code",
   "execution_count": 8,
   "id": "426efe76-a301-460a-93df-918924c2ce01",
   "metadata": {},
   "outputs": [
    {
     "name": "stdout",
     "output_type": "stream",
     "text": [
      "Type                                        Number           Percentage\n",
      "Total number of unique players\t\t:   18948            100%\n",
      "Players with finished games only\t:   9704             51%\n",
      "Player with no finished games at all\t:   4705             25%\n",
      "Remaining players\t\t\t:   4539             24%\n"
     ]
    },
    {
     "data": {
      "image/png": "[encoded data removed]",
      "text/plain": [
       "<Figure size 640x480 with 1 Axes>"
      ]
     },
     "metadata": {},
     "output_type": "display_data"
    }
   ],
   "source": [
    "#Compute number of players in total\n",
    "nb_players = len(players_record)\n",
    "\n",
    "#Compute number of player that only contain finished games in their between_game history\n",
    "nb_finished_only = len(players_record[players_record['nb_finished_games'] == players_record['nb_total_games']])\n",
    "\n",
    "#Compute number of player contain no finished games in their between_game history at all\n",
    "nb_finished_none = len(players_record[players_record['nb_finished_games'] == 0])\n",
    "\n",
    "#Print results\n",
    "print('{} {:>45} {:>20}'.format('Type', 'Number', 'Percentage'))\n",
    "print('Total number of unique players\\t\\t: {:>7} {:>14.0f}%'.format(nb_players, nb_players/nb_players * 100))\n",
    "print('Players with finished games only\\t: {:>6} {:>14.0f}%'.format(nb_finished_only, nb_finished_only/nb_players * 100))\n",
    "print('Player with no finished games at all\\t: {:>6} {:>14.0f}%'.format(nb_finished_none, nb_finished_none/nb_players * 100))\n",
    "print('Remaining players\\t\\t\\t: {:>6} {:>14.0f}%'.format(nb_players-nb_finished_only-nb_finished_none, (nb_players-nb_finished_only-nb_finished_none)/nb_players * 100))\n",
    "\n",
    "#Display histogram for visualization\n",
    "fig, ax = plt.subplots()\n",
    "plt.title('Finished games distribution')\n",
    "ax.hist(players_record['nb_finished_games']/players_record['nb_total_games'], edgecolor=(1,1,1))\n",
    "ax.set_ylabel('Frequency')\n",
    "ax.set_xlabel('Proportion of finished games')\n",
    "ax.tick_params(bottom=False);\n",
    "ax.spines['right'].set_visible(False)\n",
    "ax.spines['top'].set_visible(False)"
   ]
  },
  {
   "cell_type": "markdown",
   "id": "40af7793-d8ad-49c4-aa39-fa0f6ffa2377",
   "metadata": {},
   "source": [
    "<div class=\"1.1 explanation\" style='background-color:#faefe1; border-left: solid #darkblue 4px; border-radius: 4px; padding:0.7em;'>\n",
    "    <span style=\"color:black\">\n",
    "        Hence we observe that a substantial <b>32%</b> of the total number of players do not have any finished game at all!!! This is a big loss! Imagine if this portion would also have had succesful attempts (i.e. <code class='python'>finished</code> games). Then there would have been much more data on <code class='python'>finished</code> games to do further analysis on. Hence, we would like to find out why they stopped playing in the first place. This can help in finding strategies to keep these players engaged to potentially generate more data on <code class='python'>finished</code> games. <br><br> Let's first dig deeper into the players with no <code class='python'>finished</code> games at all. We want to get a sense of what their <span style=\"font-family: monospace; background-color:#fadfb9; padding-left:4px; padding-right:4px; border-radius: 5px;\">between_game</span> history looks like.\n",
    "    </span>\n",
    "</div>"
   ]
  },
  {
   "cell_type": "markdown",
   "id": "9cfd4d54-9fee-4670-b0a4-823340865a70",
   "metadata": {},
   "source": [
    "</div>\n",
    "<div class=\"1.1 explanation\" style='background-color:#08135c; border-left: solid #darkblue 4px; border-radius: 4px; padding:0.7em;'>\n",
    "    <span style=\"color:white\">\n",
    "       <h3>1.2 Between game history of players with no <code class='python'>finished</code> games at all.</h3>\n",
    "    </span>\n",
    "</div>\n",
    "</div>\n",
    "<div class=\"1.1 explanation\" style='background-color:#faefe1; border-left: solid #darkblue 4px; border-radius: 4px; padding:0.7em;'>\n",
    "    <span style=\"color:black\">\n",
    "        In this we select the players with no <code class='python'>finished</code> games at all followed by analyzing their <span style=\"font-family: monospace; background-color:#fadfb9; padding-left:4px; padding-right:4px; border-radius: 5px;\">between_game</span> history.\n",
    "    </span>\n",
    "</div>\n"
   ]
  },
  {
   "cell_type": "code",
   "execution_count": 9,
   "id": "a848f416-88b2-41f5-bc40-f44037d2a4e6",
   "metadata": {},
   "outputs": [
    {
     "data": {
      "text/html": [
       "<div>\n",
       "<style scoped>\n",
       "    .dataframe tbody tr th:only-of-type {\n",
       "        vertical-align: middle;\n",
       "    }\n",
       "\n",
       "    .dataframe tbody tr th {\n",
       "        vertical-align: top;\n",
       "    }\n",
       "\n",
       "    .dataframe thead th {\n",
       "        text-align: right;\n",
       "    }\n",
       "</style>\n",
       "<table border=\"1\" class=\"dataframe\">\n",
       "  <thead>\n",
       "    <tr style=\"text-align: right;\">\n",
       "      <th></th>\n",
       "      <th>between_game</th>\n",
       "      <th>nb_total_games</th>\n",
       "    </tr>\n",
       "    <tr>\n",
       "      <th>hashedIpAddress</th>\n",
       "      <th></th>\n",
       "      <th></th>\n",
       "    </tr>\n",
       "  </thead>\n",
       "  <tbody>\n",
       "    <tr>\n",
       "      <th>000a6e585b776c96</th>\n",
       "      <td>[timeout]</td>\n",
       "      <td>1</td>\n",
       "    </tr>\n",
       "    <tr>\n",
       "      <th>0011acb93ed0090b</th>\n",
       "      <td>[restart, timeout]</td>\n",
       "      <td>2</td>\n",
       "    </tr>\n",
       "    <tr>\n",
       "      <th>0015865e516d4932</th>\n",
       "      <td>[restart]</td>\n",
       "      <td>1</td>\n",
       "    </tr>\n",
       "    <tr>\n",
       "      <th>00210d6f590f218c</th>\n",
       "      <td>[timeout]</td>\n",
       "      <td>1</td>\n",
       "    </tr>\n",
       "    <tr>\n",
       "      <th>0032432015bedad6</th>\n",
       "      <td>[timeout]</td>\n",
       "      <td>1</td>\n",
       "    </tr>\n",
       "  </tbody>\n",
       "</table>\n",
       "</div>"
      ],
      "text/plain": [
       "                        between_game  nb_total_games\n",
       "hashedIpAddress                                     \n",
       "000a6e585b776c96           [timeout]               1\n",
       "0011acb93ed0090b  [restart, timeout]               2\n",
       "0015865e516d4932           [restart]               1\n",
       "00210d6f590f218c           [timeout]               1\n",
       "0032432015bedad6           [timeout]               1"
      ]
     },
     "execution_count": 9,
     "metadata": {},
     "output_type": "execute_result"
    }
   ],
   "source": [
    "#Display snipped of players with no finished games at all\n",
    "players_record[players_record['nb_finished_games'] == 0][['between_game', 'nb_total_games']].head(5)"
   ]
  },
  {
   "cell_type": "markdown",
   "id": "a93ff6ea-7939-4076-95a8-13183b5b6eb5",
   "metadata": {},
   "source": [
    "<div class=\"1.1 explanation\" style='background-color:#faefe1; border-left: solid #darkblue 4px; border-radius: 4px; padding:0.7em;'>\n",
    "    <span style=\"color:black\">\n",
    "        We first want to visualize the number of attempt/games played by these players.\n",
    "    </span>\n",
    "</div>"
   ]
  },
  {
   "cell_type": "code",
   "execution_count": 10,
   "id": "39224f90-6820-4e3b-94f9-a8b2e2a8f851",
   "metadata": {},
   "outputs": [
    {
     "name": "stdout",
     "output_type": "stream",
     "text": [
      "#games     proportion\n",
      "1          0.8117\n",
      "2          0.1481\n",
      "3          0.0298\n",
      "4          0.0081\n",
      "5          0.0019\n",
      "7          0.0002\n",
      "6          0.0002\n"
     ]
    },
    {
     "data": {
      "image/png": "[encoded data removed]",
      "text/plain": [
       "<Figure size 1400x400 with 2 Axes>"
      ]
     },
     "metadata": {},
     "output_type": "display_data"
    }
   ],
   "source": [
    "#Extract distribution of number of attempts/games\n",
    "number_attemps_dist = players_record[players_record['nb_finished_games'] == 0]['nb_total_games'].value_counts(normalize=True)\n",
    "\n",
    "#Print results\n",
    "print('{:<10} {}'.format('#games', 'proportion'))\n",
    "for g, p in number_attemps_dist.items():\n",
    "      print('{:<10} {:<5.4f}'.format(g, p))\n",
    "        \n",
    "#Visualize distribution\n",
    "fig, ax = plt.subplots(1,2, figsize=(14,4))\n",
    "plt.suptitle('Number of games played by players with 0 finished games')\n",
    "ax= ax.ravel()\n",
    "\n",
    "#Number of games distrubiton on default axis\n",
    "ax[0].bar(number_attemps_dist.index, number_attemps_dist, edgecolor=(1,1,1))\n",
    "ax[0].set_title('Normalized')\n",
    "ax[0].set_ylabel('Frequency')\n",
    "ax[0].set_xlabel('#games')\n",
    "ax[0].tick_params(bottom=False);\n",
    "ax[0].set_xticks(range(max(number_attemps_dist.index)+1));\n",
    "ax[0].spines['right'].set_visible(False)\n",
    "ax[0].spines['top'].set_visible(False)\n",
    "\n",
    "#Number of games distrubiton on log axis\n",
    "ax[1].bar(number_attemps_dist.index, number_attemps_dist, edgecolor=(1,1,1), log=True)\n",
    "ax[1].set_title('log axis')\n",
    "ax[1].set_ylabel('Frequency')\n",
    "ax[1].set_xlabel('#games')\n",
    "ax[1].tick_params(bottom=False);\n",
    "ax[1].set_xticks(range(max(number_attemps_dist.index)+1));\n",
    "ax[1].spines['right'].set_visible(False)\n",
    "ax[1].spines['top'].set_visible(False)"
   ]
  },
  {
   "cell_type": "markdown",
   "id": "dd628596-0004-4544-a310-6b5c4d1d906a",
   "metadata": {},
   "source": [
    "<div class=\"1.1 explanation\" style='background-color:#faefe1; border-left: solid #darkblue 4px; border-radius: 4px; padding:0.7em;'>\n",
    "    <span style=\"color:black\">\n",
    "        Hence we find that the number of games played by players with 0 finished games follows a power-law. Thus the majority (79%) only has 1 attempt that is either a <code class='python'>restart</code> or a <code class='python'>timeout</code>. Does this mean that this single attempt is so frustrating that the player decides to terminate and never come back? To further investigate this we have to specifically look into their <span style=\"font-family: monospace; background-color:#fadfb9; padding-left:4px; padding-right:4px; border-radius: 5px;\">in_game</span> paths.<br><br>\n",
    "        Let's first look at the <span style=\"font-family: monospace; background-color:#fadfb9; padding-left:4px; padding-right:4px; border-radius: 5px;\">pathLength</span> distribution of these single attemps.\n",
    "    </span>\n",
    "</div>"
   ]
  },
  {
   "cell_type": "code",
   "execution_count": 11,
   "id": "287e048f-7842-41cf-8d79-bdb373e1a8d4",
   "metadata": {},
   "outputs": [
    {
     "data": {
      "image/png": "[encoded data removed]",
      "text/plain": [
       "<Figure size 1400x400 with 1 Axes>"
      ]
     },
     "metadata": {},
     "output_type": "display_data"
    }
   ],
   "source": [
    "#Get all the hashedIpaddress of the players that have only 1 attempt that is either a restart or timeout\n",
    "hashedIpaddress_selection = players_record[(players_record['nb_finished_games'] == 0) & (players_record['nb_total_games'] == 1)].index\n",
    "\n",
    "#Extract path lengths\n",
    "path_lengths_selection = paths_all.set_index('hashedIpAddress').loc[hashedIpaddress_selection]['pathLength'].value_counts()\n",
    "\n",
    "#Display histogram for visualization\n",
    "fig, ax = plt.subplots(figsize=(14,4))\n",
    "plt.suptitle('Path length distribution for player with only a single attempt being either timeout or restart')\n",
    "\n",
    "#Number of games distrubiton on log axis\n",
    "ax.bar(path_lengths_selection.index, path_lengths_selection, edgecolor=(1,1,1), log=True)\n",
    "ax.set_ylabel('Frequency')\n",
    "ax.set_xlabel('path length')\n",
    "ax.tick_params(bottom=False);\n",
    "ax.set_xticks(range(max(path_lengths_selection.index)+1));\n",
    "ax.tick_params(axis='x', which='major', labelsize=8)\n",
    "ax.spines['right'].set_visible(False)\n",
    "ax.spines['top'].set_visible(False)"
   ]
  },
  {
   "cell_type": "markdown",
   "id": "fdb8169d-d451-46da-99b7-37d488137930",
   "metadata": {},
   "source": [
    "<div class=\"1.1 explanation\" style='background-color:#faefe1; border-left: solid #darkblue 4px; border-radius: 4px; padding:0.7em;'>\n",
    "    <span style=\"color:black\">\n",
    "        In the remainder of the analysis, we will discard entries with a <span style=\"font-family: monospace; background-color:#fadfb9; padding-left:4px; padding-right:4px; border-radius: 5px;\">pathLength</span> of 1. We assume an attempt is only \"serious\" once a player has traversed to at least one other Wikipedia page. In the next section (for now in the other .ipynb notebooks) we will perform a more thorough analysis on the paths taken by these specific players. More specifically we will compare this to finished attempts of other players to see what differences we observe.\n",
    "    </span>\n",
    "</div>"
   ]
  },
  {
   "cell_type": "markdown",
   "id": "e10a46c0-3a2c-4fc1-a12a-a89d94895a36",
   "metadata": {},
   "source": [
    "</div>\n",
    "<div class=\"1.1 explanation\" style='background-color:#08135c; border-left: solid #darkblue 4px; border-radius: 4px; padding:0.7em;'>\n",
    "    <span style=\"color:white\">\n",
    "       <h3>1.3 Between game history of players with partial <code class='python'>finished</code> games.</h3>\n",
    "    </span>\n",
    "</div>\n",
    "</div>\n",
    "<div class=\"1.1 explanation\" style='background-color:#faefe1; border-left: solid #darkblue 4px; border-radius: 4px; padding:0.7em;'>\n",
    "    <span style=\"color:black\">\n",
    "        <b>Hi Tamara, here I will just write down some ideas that I can come up with. Of course you might add or change some ideas if you think it would be better.</b><br><br>\n",
    "        So far we have just looked at players that have 0 <code class='python'>finished</code> games at all right? This was, as said 32% of the data. We use this group to answer the question why people are not able to finish a game and likely never return after being frustrated (for this probably Mathieu and Mengjie have to further analyze the exact paths taken. In other words the <span style=\"font-family: monospace; background-color:#fadfb9; padding-left:4px; padding-right:4px; border-radius: 5px;\">in_game</span> history is interesting here).<br><br> \n",
    "        We also, however, have 23% of the players that have a mix of <code class='python'>finished</code>, <code class='python'>timeout</code> and <code class='python'>restart</code> in their <span style=\"font-family: monospace; background-color:#fadfb9; padding-left:4px; padding-right:4px; border-radius: 5px;\">between_game</span> history. Maybe here we can find interesting information concerning the interaction between these different games. So here the <span style=\"font-family: monospace; background-color:#fadfb9; padding-left:4px; padding-right:4px; border-radius: 5px;\">between_game</span> history in addition to <span style=\"font-family: monospace; background-color:#fadfb9; padding-left:4px; padding-right:4px; border-radius: 5px;\">in_game</span> can be interesting. Perhaps people are likely to have a <code class='python'>restart</code> game after some succesful <code class='python'>finished</code> paths, however after many more restarts likely <code class='python'>timeout</code>? I see you did some anlaysis on this on the code below, I think the approach you did is nice. We can discuss if further on the phone if yo want. <br><br>\n",
    "        The last group that comprise 45% of all players only have <code class='python'>finished</code> games. I am not sure what we can do here with regard to <span style=\"font-family: monospace; background-color:#fadfb9; padding-left:4px; padding-right:4px; border-radius: 5px;\">between_game</span> history. I think just group act as some sort of benchmark to compare our <code class='python'>restart</code> and <code class='python'>timeout</code> games to.<br><br>\n",
    "        Overall we should not overcomplicate things and start of with an easy model. From there on we can extend our anlaysis if we want. Therefore I suggest for us to now stick to the following:\n",
    "        <ul>\n",
    "            <li> Continue working on the 32% of people with 0 <code class='python'>finished</code> games. (still not to cut out the individual with <span style=\"font-family: monospace; background-color:#fadfb9; padding-left:4px; padding-right:4px; border-radius: 5px;\">pathLength</span> of 0 for example.) </li>\n",
    "            <li> Look for interaction between the different games as I said. You can filter out the 23% using the code I put below. Maybe we should only focus on the people that end with <code class='python'>restart</code> of <code class='python'>temout</code> here. This would be a smaller fraction of the 23%.</li>\n",
    "        </ul>\n",
    "    </span>\n",
    "</div>\n"
   ]
  },
  {
   "cell_type": "markdown",
   "id": "28f0595d-8ff2-43fd-85c6-71b48d1a5768",
   "metadata": {},
   "source": [
    "## Some template code below (variable naming etc. not too good. This is just to give an idea)"
   ]
  },
  {
   "cell_type": "code",
   "execution_count": 12,
   "id": "3f3a8630-17b8-45c3-888a-ae54e8aaceb2",
   "metadata": {},
   "outputs": [
    {
     "data": {
      "text/html": [
       "<div>\n",
       "<style scoped>\n",
       "    .dataframe tbody tr th:only-of-type {\n",
       "        vertical-align: middle;\n",
       "    }\n",
       "\n",
       "    .dataframe tbody tr th {\n",
       "        vertical-align: top;\n",
       "    }\n",
       "\n",
       "    .dataframe thead th {\n",
       "        text-align: right;\n",
       "    }\n",
       "</style>\n",
       "<table border=\"1\" class=\"dataframe\">\n",
       "  <thead>\n",
       "    <tr style=\"text-align: right;\">\n",
       "      <th></th>\n",
       "      <th>between_game</th>\n",
       "      <th>last_game</th>\n",
       "      <th>nb_finished_games</th>\n",
       "      <th>nb_restart_games</th>\n",
       "      <th>nb_timeout_games</th>\n",
       "      <th>nb_total_games</th>\n",
       "    </tr>\n",
       "    <tr>\n",
       "      <th>hashedIpAddress</th>\n",
       "      <th></th>\n",
       "      <th></th>\n",
       "      <th></th>\n",
       "      <th></th>\n",
       "      <th></th>\n",
       "      <th></th>\n",
       "    </tr>\n",
       "  </thead>\n",
       "  <tbody>\n",
       "    <tr>\n",
       "      <th>000386124f307de8</th>\n",
       "      <td>[finished, timeout]</td>\n",
       "      <td>timeout</td>\n",
       "      <td>1</td>\n",
       "      <td>0</td>\n",
       "      <td>1</td>\n",
       "      <td>2</td>\n",
       "    </tr>\n",
       "    <tr>\n",
       "      <th>000e5d4c2c8e921f</th>\n",
       "      <td>[finished, restart, restart, timeout]</td>\n",
       "      <td>timeout</td>\n",
       "      <td>1</td>\n",
       "      <td>2</td>\n",
       "      <td>1</td>\n",
       "      <td>4</td>\n",
       "    </tr>\n",
       "    <tr>\n",
       "      <th>00381d0a21b8ba73</th>\n",
       "      <td>[restart, finished, finished, finished, finish...</td>\n",
       "      <td>finished</td>\n",
       "      <td>5</td>\n",
       "      <td>1</td>\n",
       "      <td>0</td>\n",
       "      <td>6</td>\n",
       "    </tr>\n",
       "    <tr>\n",
       "      <th>003a34e80bdab60d</th>\n",
       "      <td>[restart, finished]</td>\n",
       "      <td>finished</td>\n",
       "      <td>1</td>\n",
       "      <td>1</td>\n",
       "      <td>0</td>\n",
       "      <td>2</td>\n",
       "    </tr>\n",
       "    <tr>\n",
       "      <th>003de5ad49bf14e9</th>\n",
       "      <td>[finished, timeout]</td>\n",
       "      <td>timeout</td>\n",
       "      <td>1</td>\n",
       "      <td>0</td>\n",
       "      <td>1</td>\n",
       "      <td>2</td>\n",
       "    </tr>\n",
       "    <tr>\n",
       "      <th>0045bac960aed861</th>\n",
       "      <td>[restart, restart, restart, finished, finished...</td>\n",
       "      <td>timeout</td>\n",
       "      <td>8</td>\n",
       "      <td>7</td>\n",
       "      <td>2</td>\n",
       "      <td>17</td>\n",
       "    </tr>\n",
       "    <tr>\n",
       "      <th>0068f6c30855b1fd</th>\n",
       "      <td>[finished, finished, restart, finished, finish...</td>\n",
       "      <td>restart</td>\n",
       "      <td>4</td>\n",
       "      <td>2</td>\n",
       "      <td>0</td>\n",
       "      <td>6</td>\n",
       "    </tr>\n",
       "    <tr>\n",
       "      <th>007519dc19b7e34e</th>\n",
       "      <td>[finished, timeout]</td>\n",
       "      <td>timeout</td>\n",
       "      <td>1</td>\n",
       "      <td>0</td>\n",
       "      <td>1</td>\n",
       "      <td>2</td>\n",
       "    </tr>\n",
       "    <tr>\n",
       "      <th>007b13af674035a0</th>\n",
       "      <td>[restart, finished, restart, restart, restart,...</td>\n",
       "      <td>timeout</td>\n",
       "      <td>2</td>\n",
       "      <td>4</td>\n",
       "      <td>1</td>\n",
       "      <td>7</td>\n",
       "    </tr>\n",
       "    <tr>\n",
       "      <th>007c771d773efae3</th>\n",
       "      <td>[finished, restart, restart, finished]</td>\n",
       "      <td>finished</td>\n",
       "      <td>2</td>\n",
       "      <td>2</td>\n",
       "      <td>0</td>\n",
       "      <td>4</td>\n",
       "    </tr>\n",
       "  </tbody>\n",
       "</table>\n",
       "</div>"
      ],
      "text/plain": [
       "                                                       between_game last_game  \\\n",
       "hashedIpAddress                                                                 \n",
       "000386124f307de8                                [finished, timeout]   timeout   \n",
       "000e5d4c2c8e921f              [finished, restart, restart, timeout]   timeout   \n",
       "00381d0a21b8ba73  [restart, finished, finished, finished, finish...  finished   \n",
       "003a34e80bdab60d                                [restart, finished]  finished   \n",
       "003de5ad49bf14e9                                [finished, timeout]   timeout   \n",
       "0045bac960aed861  [restart, restart, restart, finished, finished...   timeout   \n",
       "0068f6c30855b1fd  [finished, finished, restart, finished, finish...   restart   \n",
       "007519dc19b7e34e                                [finished, timeout]   timeout   \n",
       "007b13af674035a0  [restart, finished, restart, restart, restart,...   timeout   \n",
       "007c771d773efae3             [finished, restart, restart, finished]  finished   \n",
       "\n",
       "                  nb_finished_games  nb_restart_games  nb_timeout_games  \\\n",
       "hashedIpAddress                                                           \n",
       "000386124f307de8                  1                 0                 1   \n",
       "000e5d4c2c8e921f                  1                 2                 1   \n",
       "00381d0a21b8ba73                  5                 1                 0   \n",
       "003a34e80bdab60d                  1                 1                 0   \n",
       "003de5ad49bf14e9                  1                 0                 1   \n",
       "0045bac960aed861                  8                 7                 2   \n",
       "0068f6c30855b1fd                  4                 2                 0   \n",
       "007519dc19b7e34e                  1                 0                 1   \n",
       "007b13af674035a0                  2                 4                 1   \n",
       "007c771d773efae3                  2                 2                 0   \n",
       "\n",
       "                  nb_total_games  \n",
       "hashedIpAddress                   \n",
       "000386124f307de8               2  \n",
       "000e5d4c2c8e921f               4  \n",
       "00381d0a21b8ba73               6  \n",
       "003a34e80bdab60d               2  \n",
       "003de5ad49bf14e9               2  \n",
       "0045bac960aed861              17  \n",
       "0068f6c30855b1fd               6  \n",
       "007519dc19b7e34e               2  \n",
       "007b13af674035a0               7  \n",
       "007c771d773efae3               4  "
      ]
     },
     "execution_count": 12,
     "metadata": {},
     "output_type": "execute_result"
    }
   ],
   "source": [
    "#Display snipped of players with within the 23% category\n",
    "partially_finished = players_record[(players_record['nb_finished_games'] != 0) & (players_record['nb_finished_games'] != players_record['nb_total_games'])]\n",
    "partially_finished.head(10)"
   ]
  },
  {
   "cell_type": "code",
   "execution_count": 13,
   "id": "38991c0e-2e0c-4a06-a71e-f1b63b3070a7",
   "metadata": {},
   "outputs": [
    {
     "data": {
      "text/plain": [
       "timeout     0.501432\n",
       "finished    0.358449\n",
       "restart     0.140119\n",
       "Name: last_game, dtype: float64"
      ]
     },
     "execution_count": 13,
     "metadata": {},
     "output_type": "execute_result"
    }
   ],
   "source": [
    "#Let's check what type of games these players usually end on\n",
    "game_end = partially_finished['last_game'].value_counts(normalize=True)\n",
    "game_end"
   ]
  },
  {
   "cell_type": "code",
   "execution_count": 14,
   "id": "b2840304-4211-4efb-a3b2-13583d743dd5",
   "metadata": {},
   "outputs": [
    {
     "data": {
      "text/plain": [
       "0.5014320334875523"
      ]
     },
     "execution_count": 14,
     "metadata": {},
     "output_type": "execute_result"
    }
   ],
   "source": [
    "game_end['timeout']"
   ]
  },
  {
   "cell_type": "markdown",
   "id": "a267ced3-f6c5-419e-935d-3f141ff2bcd8",
   "metadata": {
    "tags": []
   },
   "source": [
    "<div class=\"1.1 explanation\" style='background-color:#faefe1; border-left: solid #darkblue 4px; border-radius: 4px; padding:0.7em;'>\n",
    "    <span style=\"color:black\">\n",
    "        Most people ended on a <code class='python'>timeout</code> or <code class='python'>finished</code>. So this suggests that people that go for a restart are usually motivated to give it another try?\n",
    "    </span>\n",
    "</div>"
   ]
  },
  {
   "cell_type": "code",
   "execution_count": 15,
   "id": "67c59da3-9cdb-4728-b77a-17252b81a440",
   "metadata": {},
   "outputs": [
    {
     "name": "stdout",
     "output_type": "stream",
     "text": [
      "People ending on timeout or restart in this group is: 15%\n"
     ]
    }
   ],
   "source": [
    "#Proportion of total number of players when selecting further for people that end on timeout or restart\n",
    "prop_final = (nb_players-nb_finished_only-nb_finished_none)/nb_players * 100 * (game_end['timeout']+game_end['restart'])\n",
    "print('People ending on timeout or restart in this group is: {:.0f}%'.format(prop_final))"
   ]
  },
  {
   "cell_type": "markdown",
   "id": "03c9a9b3-c10a-45d7-8a97-196c3c7097a9",
   "metadata": {},
   "source": [
    "<div class=\"1.1 explanation\" style='background-color:#faefe1; border-left: solid #darkblue 4px; border-radius: 4px; padding:0.7em;'>\n",
    "    <span style=\"color:black\">\n",
    "        So in total we have 32 + 16 = 48% of the players ending on a <code class='python'>timeout</code> or <code class='python'>restart</code>.\n",
    "    </span>\n",
    "</div>"
   ]
  },
  {
   "cell_type": "markdown",
   "id": "071e763e-daee-456c-8bf4-4e5c290de02f",
   "metadata": {},
   "source": [
    "</div>\n",
    "<div class=\"1.1 explanation\" style='background-color:#08135c; border-left: solid #darkblue 4px; border-radius: 4px; padding:0.7em;'>\n",
    "    <span style=\"color:white\">\n",
    "       <h3>1.4 Feature generation</h3>\n",
    "    </span>\n",
    "</div>\n",
    "</div>\n",
    "<div class=\"1.1 explanation\" style='background-color:#faefe1; border-left: solid #darkblue 4px; border-radius: 4px; padding:0.7em;'>\n",
    "    <span style=\"color:black\">\n",
    "        Feature generation for logistic model\n",
    "    </span>\n",
    "</div>\n"
   ]
  },
  {
   "cell_type": "markdown",
   "id": "458085bf-f908-4426-aca9-918e1bd4ada5",
   "metadata": {},
   "source": [
    "<div class=\"1.1 explanation\" style='background-color:#faefe1; border-left: solid #darkblue 4px; border-radius: 4px; padding:0.7em;'>\n",
    "    <span style=\"color:black\">\n",
    "        Compute the y axis for the logistic regression. For that a binary value is asserted to the last game. Either the game has been finished and gets the binary value 1 or the game was not finished and gets the binary value 0.\n",
    "    </span>\n",
    "</div>"
   ]
  },
  {
   "cell_type": "code",
   "execution_count": 105,
   "id": "1ef8028f-b707-4b6b-a9d2-61cf630db67c",
   "metadata": {},
   "outputs": [],
   "source": [
    "feature_log = players_record.copy()"
   ]
  },
  {
   "cell_type": "code",
   "execution_count": 106,
   "id": "1c48ae4a-5ac8-4675-871f-e22b59091110",
   "metadata": {},
   "outputs": [],
   "source": [
    "feature_log['binar_last_game'] = np.where(feature_log['last_game'] == 'finished', 1, 0)"
   ]
  },
  {
   "cell_type": "code",
   "execution_count": 107,
   "id": "fe94a1bd-94e5-4839-b98f-b91b76f1cdff",
   "metadata": {
    "tags": []
   },
   "outputs": [
    {
     "data": {
      "text/html": [
       "<div>\n",
       "<style scoped>\n",
       "    .dataframe tbody tr th:only-of-type {\n",
       "        vertical-align: middle;\n",
       "    }\n",
       "\n",
       "    .dataframe tbody tr th {\n",
       "        vertical-align: top;\n",
       "    }\n",
       "\n",
       "    .dataframe thead th {\n",
       "        text-align: right;\n",
       "    }\n",
       "</style>\n",
       "<table border=\"1\" class=\"dataframe\">\n",
       "  <thead>\n",
       "    <tr style=\"text-align: right;\">\n",
       "      <th></th>\n",
       "      <th>between_game</th>\n",
       "      <th>last_game</th>\n",
       "      <th>nb_finished_games</th>\n",
       "      <th>nb_restart_games</th>\n",
       "      <th>nb_timeout_games</th>\n",
       "      <th>nb_total_games</th>\n",
       "      <th>binar_last_game</th>\n",
       "    </tr>\n",
       "    <tr>\n",
       "      <th>hashedIpAddress</th>\n",
       "      <th></th>\n",
       "      <th></th>\n",
       "      <th></th>\n",
       "      <th></th>\n",
       "      <th></th>\n",
       "      <th></th>\n",
       "      <th></th>\n",
       "    </tr>\n",
       "  </thead>\n",
       "  <tbody>\n",
       "    <tr>\n",
       "      <th>000386124f307de8</th>\n",
       "      <td>[finished, timeout]</td>\n",
       "      <td>timeout</td>\n",
       "      <td>1</td>\n",
       "      <td>0</td>\n",
       "      <td>1</td>\n",
       "      <td>2</td>\n",
       "      <td>0</td>\n",
       "    </tr>\n",
       "    <tr>\n",
       "      <th>0007183207b6008f</th>\n",
       "      <td>[finished, finished, finished]</td>\n",
       "      <td>finished</td>\n",
       "      <td>3</td>\n",
       "      <td>0</td>\n",
       "      <td>0</td>\n",
       "      <td>3</td>\n",
       "      <td>1</td>\n",
       "    </tr>\n",
       "    <tr>\n",
       "      <th>000a09e202e88d10</th>\n",
       "      <td>[finished]</td>\n",
       "      <td>finished</td>\n",
       "      <td>1</td>\n",
       "      <td>0</td>\n",
       "      <td>0</td>\n",
       "      <td>1</td>\n",
       "      <td>1</td>\n",
       "    </tr>\n",
       "    <tr>\n",
       "      <th>000a5bac5b7781ea</th>\n",
       "      <td>[finished]</td>\n",
       "      <td>finished</td>\n",
       "      <td>1</td>\n",
       "      <td>0</td>\n",
       "      <td>0</td>\n",
       "      <td>1</td>\n",
       "      <td>1</td>\n",
       "    </tr>\n",
       "  </tbody>\n",
       "</table>\n",
       "</div>"
      ],
      "text/plain": [
       "                                    between_game last_game  nb_finished_games  \\\n",
       "hashedIpAddress                                                                 \n",
       "000386124f307de8             [finished, timeout]   timeout                  1   \n",
       "0007183207b6008f  [finished, finished, finished]  finished                  3   \n",
       "000a09e202e88d10                      [finished]  finished                  1   \n",
       "000a5bac5b7781ea                      [finished]  finished                  1   \n",
       "\n",
       "                  nb_restart_games  nb_timeout_games  nb_total_games  \\\n",
       "hashedIpAddress                                                        \n",
       "000386124f307de8                 0                 1               2   \n",
       "0007183207b6008f                 0                 0               3   \n",
       "000a09e202e88d10                 0                 0               1   \n",
       "000a5bac5b7781ea                 0                 0               1   \n",
       "\n",
       "                  binar_last_game  \n",
       "hashedIpAddress                    \n",
       "000386124f307de8                0  \n",
       "0007183207b6008f                1  \n",
       "000a09e202e88d10                1  \n",
       "000a5bac5b7781ea                1  "
      ]
     },
     "execution_count": 107,
     "metadata": {},
     "output_type": "execute_result"
    }
   ],
   "source": [
    "feature_log.head(4)"
   ]
  },
  {
   "cell_type": "markdown",
   "id": "b984587c-74d6-4f01-b6d1-dff9bd938417",
   "metadata": {},
   "source": [
    "compute second feature:"
   ]
  },
  {
   "cell_type": "markdown",
   "id": "015d3240-067a-448b-b97b-93989eef5c0b",
   "metadata": {},
   "source": [
    "<div class=\"1.1 explanation\" style='background-color:#faefe1; border-left: solid #darkblue 4px; border-radius: 4px; padding:0.7em;'>\n",
    "    <span style=\"color:black\">\n",
    "        The first feature for the X input for the logistic regression will the count of unfinished paths. Not taken into account is the last element played. \n",
    "    </span>\n",
    "</div>"
   ]
  },
  {
   "cell_type": "code",
   "execution_count": 108,
   "id": "6a1c5f51-6402-49e9-aeb7-3bda6e03e5f6",
   "metadata": {},
   "outputs": [],
   "source": [
    "feature_log['count_unfinished'] = feature_log['nb_restart_games'] + feature_log['nb_timeout_games']\n",
    "feature_log.loc[feature_log['binar_last_game'] == 0, 'count_unfinished'] -= 1"
   ]
  },
  {
   "cell_type": "code",
   "execution_count": 109,
   "id": "719c538d-4555-474f-9e18-9353bfe9148f",
   "metadata": {
    "tags": []
   },
   "outputs": [
    {
     "data": {
      "text/html": [
       "<div>\n",
       "<style scoped>\n",
       "    .dataframe tbody tr th:only-of-type {\n",
       "        vertical-align: middle;\n",
       "    }\n",
       "\n",
       "    .dataframe tbody tr th {\n",
       "        vertical-align: top;\n",
       "    }\n",
       "\n",
       "    .dataframe thead th {\n",
       "        text-align: right;\n",
       "    }\n",
       "</style>\n",
       "<table border=\"1\" class=\"dataframe\">\n",
       "  <thead>\n",
       "    <tr style=\"text-align: right;\">\n",
       "      <th></th>\n",
       "      <th>between_game</th>\n",
       "      <th>last_game</th>\n",
       "      <th>nb_finished_games</th>\n",
       "      <th>nb_restart_games</th>\n",
       "      <th>nb_timeout_games</th>\n",
       "      <th>nb_total_games</th>\n",
       "      <th>binar_last_game</th>\n",
       "      <th>count_unfinished</th>\n",
       "    </tr>\n",
       "    <tr>\n",
       "      <th>hashedIpAddress</th>\n",
       "      <th></th>\n",
       "      <th></th>\n",
       "      <th></th>\n",
       "      <th></th>\n",
       "      <th></th>\n",
       "      <th></th>\n",
       "      <th></th>\n",
       "      <th></th>\n",
       "    </tr>\n",
       "  </thead>\n",
       "  <tbody>\n",
       "    <tr>\n",
       "      <th>000386124f307de8</th>\n",
       "      <td>[finished, timeout]</td>\n",
       "      <td>timeout</td>\n",
       "      <td>1</td>\n",
       "      <td>0</td>\n",
       "      <td>1</td>\n",
       "      <td>2</td>\n",
       "      <td>0</td>\n",
       "      <td>0</td>\n",
       "    </tr>\n",
       "    <tr>\n",
       "      <th>0007183207b6008f</th>\n",
       "      <td>[finished, finished, finished]</td>\n",
       "      <td>finished</td>\n",
       "      <td>3</td>\n",
       "      <td>0</td>\n",
       "      <td>0</td>\n",
       "      <td>3</td>\n",
       "      <td>1</td>\n",
       "      <td>0</td>\n",
       "    </tr>\n",
       "    <tr>\n",
       "      <th>000a09e202e88d10</th>\n",
       "      <td>[finished]</td>\n",
       "      <td>finished</td>\n",
       "      <td>1</td>\n",
       "      <td>0</td>\n",
       "      <td>0</td>\n",
       "      <td>1</td>\n",
       "      <td>1</td>\n",
       "      <td>0</td>\n",
       "    </tr>\n",
       "    <tr>\n",
       "      <th>000a5bac5b7781ea</th>\n",
       "      <td>[finished]</td>\n",
       "      <td>finished</td>\n",
       "      <td>1</td>\n",
       "      <td>0</td>\n",
       "      <td>0</td>\n",
       "      <td>1</td>\n",
       "      <td>1</td>\n",
       "      <td>0</td>\n",
       "    </tr>\n",
       "  </tbody>\n",
       "</table>\n",
       "</div>"
      ],
      "text/plain": [
       "                                    between_game last_game  nb_finished_games  \\\n",
       "hashedIpAddress                                                                 \n",
       "000386124f307de8             [finished, timeout]   timeout                  1   \n",
       "0007183207b6008f  [finished, finished, finished]  finished                  3   \n",
       "000a09e202e88d10                      [finished]  finished                  1   \n",
       "000a5bac5b7781ea                      [finished]  finished                  1   \n",
       "\n",
       "                  nb_restart_games  nb_timeout_games  nb_total_games  \\\n",
       "hashedIpAddress                                                        \n",
       "000386124f307de8                 0                 1               2   \n",
       "0007183207b6008f                 0                 0               3   \n",
       "000a09e202e88d10                 0                 0               1   \n",
       "000a5bac5b7781ea                 0                 0               1   \n",
       "\n",
       "                  binar_last_game  count_unfinished  \n",
       "hashedIpAddress                                      \n",
       "000386124f307de8                0                 0  \n",
       "0007183207b6008f                1                 0  \n",
       "000a09e202e88d10                1                 0  \n",
       "000a5bac5b7781ea                1                 0  "
      ]
     },
     "execution_count": 109,
     "metadata": {},
     "output_type": "execute_result"
    }
   ],
   "source": [
    "feature_log.head(4)"
   ]
  },
  {
   "cell_type": "markdown",
   "id": "156b77b6-204f-47bf-a50f-8aa0cab17d2b",
   "metadata": {},
   "source": [
    "<div class=\"1.1 explanation\" style='background-color:#faefe1; border-left: solid #darkblue 4px; border-radius: 4px; padding:0.7em;'>\n",
    "    <span style=\"color:black\">\n",
    "        Compute the third feature. The third feature analyze the betwee_game list. It cuts the last element and counts the number of unsuccessful games till the last finished game. \n",
    "    </span>\n",
    "</div>"
   ]
  },
  {
   "cell_type": "code",
   "execution_count": 110,
   "id": "526ff763-ffa5-48c4-af06-c869f43a1b07",
   "metadata": {},
   "outputs": [],
   "source": [
    "delete_last = lambda x: x[:-1]\n",
    "feature_log['try'] = feature_log['between_game'].apply(delete_last)\n",
    "split_lists = feature_log['try'].apply(lambda x: \" \".join(x).rsplit(\"finished\"))\n",
    "feature_log['list_afer_last_finish'] = split_lists.apply(lambda x: x[-1])"
   ]
  },
  {
   "cell_type": "code",
   "execution_count": 111,
   "id": "8f96ea63-cbae-4fee-b124-adcbea995db0",
   "metadata": {},
   "outputs": [],
   "source": [
    "feature_log['count_after_last_finish'] = feature_log['list_afer_last_finish'].apply(lambda x: x.count('timeout') + x.count('restart'))"
   ]
  },
  {
   "cell_type": "code",
   "execution_count": 112,
   "id": "653941b9-e249-43ef-bacc-0b0adcdee5a9",
   "metadata": {},
   "outputs": [
    {
     "data": {
      "text/html": [
       "<div>\n",
       "<style scoped>\n",
       "    .dataframe tbody tr th:only-of-type {\n",
       "        vertical-align: middle;\n",
       "    }\n",
       "\n",
       "    .dataframe tbody tr th {\n",
       "        vertical-align: top;\n",
       "    }\n",
       "\n",
       "    .dataframe thead th {\n",
       "        text-align: right;\n",
       "    }\n",
       "</style>\n",
       "<table border=\"1\" class=\"dataframe\">\n",
       "  <thead>\n",
       "    <tr style=\"text-align: right;\">\n",
       "      <th></th>\n",
       "      <th>between_game</th>\n",
       "      <th>last_game</th>\n",
       "      <th>nb_finished_games</th>\n",
       "      <th>nb_restart_games</th>\n",
       "      <th>nb_timeout_games</th>\n",
       "      <th>nb_total_games</th>\n",
       "      <th>binar_last_game</th>\n",
       "      <th>count_unfinished</th>\n",
       "      <th>try</th>\n",
       "      <th>list_afer_last_finish</th>\n",
       "      <th>count_after_last_finish</th>\n",
       "    </tr>\n",
       "    <tr>\n",
       "      <th>hashedIpAddress</th>\n",
       "      <th></th>\n",
       "      <th></th>\n",
       "      <th></th>\n",
       "      <th></th>\n",
       "      <th></th>\n",
       "      <th></th>\n",
       "      <th></th>\n",
       "      <th></th>\n",
       "      <th></th>\n",
       "      <th></th>\n",
       "      <th></th>\n",
       "    </tr>\n",
       "  </thead>\n",
       "  <tbody>\n",
       "    <tr>\n",
       "      <th>000386124f307de8</th>\n",
       "      <td>[finished, timeout]</td>\n",
       "      <td>timeout</td>\n",
       "      <td>1</td>\n",
       "      <td>0</td>\n",
       "      <td>1</td>\n",
       "      <td>2</td>\n",
       "      <td>0</td>\n",
       "      <td>0</td>\n",
       "      <td>[finished]</td>\n",
       "      <td></td>\n",
       "      <td>0</td>\n",
       "    </tr>\n",
       "    <tr>\n",
       "      <th>0007183207b6008f</th>\n",
       "      <td>[finished, finished, finished]</td>\n",
       "      <td>finished</td>\n",
       "      <td>3</td>\n",
       "      <td>0</td>\n",
       "      <td>0</td>\n",
       "      <td>3</td>\n",
       "      <td>1</td>\n",
       "      <td>0</td>\n",
       "      <td>[finished, finished]</td>\n",
       "      <td></td>\n",
       "      <td>0</td>\n",
       "    </tr>\n",
       "    <tr>\n",
       "      <th>000a09e202e88d10</th>\n",
       "      <td>[finished]</td>\n",
       "      <td>finished</td>\n",
       "      <td>1</td>\n",
       "      <td>0</td>\n",
       "      <td>0</td>\n",
       "      <td>1</td>\n",
       "      <td>1</td>\n",
       "      <td>0</td>\n",
       "      <td>[]</td>\n",
       "      <td></td>\n",
       "      <td>0</td>\n",
       "    </tr>\n",
       "    <tr>\n",
       "      <th>000a5bac5b7781ea</th>\n",
       "      <td>[finished]</td>\n",
       "      <td>finished</td>\n",
       "      <td>1</td>\n",
       "      <td>0</td>\n",
       "      <td>0</td>\n",
       "      <td>1</td>\n",
       "      <td>1</td>\n",
       "      <td>0</td>\n",
       "      <td>[]</td>\n",
       "      <td></td>\n",
       "      <td>0</td>\n",
       "    </tr>\n",
       "  </tbody>\n",
       "</table>\n",
       "</div>"
      ],
      "text/plain": [
       "                                    between_game last_game  nb_finished_games  \\\n",
       "hashedIpAddress                                                                 \n",
       "000386124f307de8             [finished, timeout]   timeout                  1   \n",
       "0007183207b6008f  [finished, finished, finished]  finished                  3   \n",
       "000a09e202e88d10                      [finished]  finished                  1   \n",
       "000a5bac5b7781ea                      [finished]  finished                  1   \n",
       "\n",
       "                  nb_restart_games  nb_timeout_games  nb_total_games  \\\n",
       "hashedIpAddress                                                        \n",
       "000386124f307de8                 0                 1               2   \n",
       "0007183207b6008f                 0                 0               3   \n",
       "000a09e202e88d10                 0                 0               1   \n",
       "000a5bac5b7781ea                 0                 0               1   \n",
       "\n",
       "                  binar_last_game  count_unfinished                   try  \\\n",
       "hashedIpAddress                                                             \n",
       "000386124f307de8                0                 0            [finished]   \n",
       "0007183207b6008f                1                 0  [finished, finished]   \n",
       "000a09e202e88d10                1                 0                    []   \n",
       "000a5bac5b7781ea                1                 0                    []   \n",
       "\n",
       "                 list_afer_last_finish  count_after_last_finish  \n",
       "hashedIpAddress                                                  \n",
       "000386124f307de8                                              0  \n",
       "0007183207b6008f                                              0  \n",
       "000a09e202e88d10                                              0  \n",
       "000a5bac5b7781ea                                              0  "
      ]
     },
     "execution_count": 112,
     "metadata": {},
     "output_type": "execute_result"
    }
   ],
   "source": [
    "# Print the resulting Series\n",
    "feature_log.head(4)"
   ]
  },
  {
   "cell_type": "markdown",
   "id": "f48faea4-1a9f-430b-a891-40e4428f9d40",
   "metadata": {},
   "source": [
    "<div class=\"1.1 explanation\" style='background-color:#faefe1; border-left: solid #darkblue 4px; border-radius: 4px; padding:0.7em;'>\n",
    "    <span style=\"color:black\">\n",
    "        Compute the third feature of a possible input. There the difference of time of the first game till the last game are analyzed.\n",
    "    </span>\n",
    "</div>"
   ]
  },
  {
   "cell_type": "code",
   "execution_count": 113,
   "id": "edc3b903-019c-4639-a39b-d656d3636df4",
   "metadata": {},
   "outputs": [],
   "source": [
    "max_timestamp = pd.DataFrame(paths_all_processed.sort_values('timestamp').groupby('hashedIpAddress')['timestamp'].max()).rename(columns={'timestamp': 'max_timestamp'})\n",
    "min_timestamp = pd.DataFrame(paths_all_processed.sort_values('timestamp').groupby('hashedIpAddress')['timestamp'].min()).rename(columns={'timestamp': 'min_timestamp'})"
   ]
  },
  {
   "cell_type": "code",
   "execution_count": 114,
   "id": "dd572f66-61d2-44c1-88ae-e6b033741a65",
   "metadata": {},
   "outputs": [],
   "source": [
    "timestamp = max_timestamp.merge(min_timestamp, on='hashedIpAddress')\n",
    "feature_log = feature_log.merge(timestamp, on='hashedIpAddress')"
   ]
  },
  {
   "cell_type": "code",
   "execution_count": 115,
   "id": "1d973a38-5dde-4d80-ac27-ee0f37ee9e13",
   "metadata": {},
   "outputs": [],
   "source": [
    "feature_log['first_last_time'] = feature_log['max_timestamp']-feature_log['min_timestamp']"
   ]
  },
  {
   "cell_type": "code",
   "execution_count": 116,
   "id": "c7bcc69c-e695-4353-946c-0be417826d76",
   "metadata": {},
   "outputs": [
    {
     "data": {
      "text/html": [
       "<div>\n",
       "<style scoped>\n",
       "    .dataframe tbody tr th:only-of-type {\n",
       "        vertical-align: middle;\n",
       "    }\n",
       "\n",
       "    .dataframe tbody tr th {\n",
       "        vertical-align: top;\n",
       "    }\n",
       "\n",
       "    .dataframe thead th {\n",
       "        text-align: right;\n",
       "    }\n",
       "</style>\n",
       "<table border=\"1\" class=\"dataframe\">\n",
       "  <thead>\n",
       "    <tr style=\"text-align: right;\">\n",
       "      <th></th>\n",
       "      <th>between_game</th>\n",
       "      <th>last_game</th>\n",
       "      <th>nb_finished_games</th>\n",
       "      <th>nb_restart_games</th>\n",
       "      <th>nb_timeout_games</th>\n",
       "      <th>nb_total_games</th>\n",
       "      <th>binar_last_game</th>\n",
       "      <th>count_unfinished</th>\n",
       "      <th>try</th>\n",
       "      <th>list_afer_last_finish</th>\n",
       "      <th>count_after_last_finish</th>\n",
       "      <th>max_timestamp</th>\n",
       "      <th>min_timestamp</th>\n",
       "      <th>first_last_time</th>\n",
       "    </tr>\n",
       "    <tr>\n",
       "      <th>hashedIpAddress</th>\n",
       "      <th></th>\n",
       "      <th></th>\n",
       "      <th></th>\n",
       "      <th></th>\n",
       "      <th></th>\n",
       "      <th></th>\n",
       "      <th></th>\n",
       "      <th></th>\n",
       "      <th></th>\n",
       "      <th></th>\n",
       "      <th></th>\n",
       "      <th></th>\n",
       "      <th></th>\n",
       "      <th></th>\n",
       "    </tr>\n",
       "  </thead>\n",
       "  <tbody>\n",
       "    <tr>\n",
       "      <th>000386124f307de8</th>\n",
       "      <td>[finished, timeout]</td>\n",
       "      <td>timeout</td>\n",
       "      <td>1</td>\n",
       "      <td>0</td>\n",
       "      <td>1</td>\n",
       "      <td>2</td>\n",
       "      <td>0</td>\n",
       "      <td>0</td>\n",
       "      <td>[finished]</td>\n",
       "      <td></td>\n",
       "      <td>0</td>\n",
       "      <td>1351279254</td>\n",
       "      <td>1351277431</td>\n",
       "      <td>1823</td>\n",
       "    </tr>\n",
       "    <tr>\n",
       "      <th>0007183207b6008f</th>\n",
       "      <td>[finished, finished, finished]</td>\n",
       "      <td>finished</td>\n",
       "      <td>3</td>\n",
       "      <td>0</td>\n",
       "      <td>0</td>\n",
       "      <td>3</td>\n",
       "      <td>1</td>\n",
       "      <td>0</td>\n",
       "      <td>[finished, finished]</td>\n",
       "      <td></td>\n",
       "      <td>0</td>\n",
       "      <td>1347370274</td>\n",
       "      <td>1347370093</td>\n",
       "      <td>181</td>\n",
       "    </tr>\n",
       "    <tr>\n",
       "      <th>000a09e202e88d10</th>\n",
       "      <td>[finished]</td>\n",
       "      <td>finished</td>\n",
       "      <td>1</td>\n",
       "      <td>0</td>\n",
       "      <td>0</td>\n",
       "      <td>1</td>\n",
       "      <td>1</td>\n",
       "      <td>0</td>\n",
       "      <td>[]</td>\n",
       "      <td></td>\n",
       "      <td>0</td>\n",
       "      <td>1250316279</td>\n",
       "      <td>1250316279</td>\n",
       "      <td>0</td>\n",
       "    </tr>\n",
       "    <tr>\n",
       "      <th>000a5bac5b7781ea</th>\n",
       "      <td>[finished]</td>\n",
       "      <td>finished</td>\n",
       "      <td>1</td>\n",
       "      <td>0</td>\n",
       "      <td>0</td>\n",
       "      <td>1</td>\n",
       "      <td>1</td>\n",
       "      <td>0</td>\n",
       "      <td>[]</td>\n",
       "      <td></td>\n",
       "      <td>0</td>\n",
       "      <td>1298781161</td>\n",
       "      <td>1298781161</td>\n",
       "      <td>0</td>\n",
       "    </tr>\n",
       "  </tbody>\n",
       "</table>\n",
       "</div>"
      ],
      "text/plain": [
       "                                    between_game last_game  nb_finished_games  \\\n",
       "hashedIpAddress                                                                 \n",
       "000386124f307de8             [finished, timeout]   timeout                  1   \n",
       "0007183207b6008f  [finished, finished, finished]  finished                  3   \n",
       "000a09e202e88d10                      [finished]  finished                  1   \n",
       "000a5bac5b7781ea                      [finished]  finished                  1   \n",
       "\n",
       "                  nb_restart_games  nb_timeout_games  nb_total_games  \\\n",
       "hashedIpAddress                                                        \n",
       "000386124f307de8                 0                 1               2   \n",
       "0007183207b6008f                 0                 0               3   \n",
       "000a09e202e88d10                 0                 0               1   \n",
       "000a5bac5b7781ea                 0                 0               1   \n",
       "\n",
       "                  binar_last_game  count_unfinished                   try  \\\n",
       "hashedIpAddress                                                             \n",
       "000386124f307de8                0                 0            [finished]   \n",
       "0007183207b6008f                1                 0  [finished, finished]   \n",
       "000a09e202e88d10                1                 0                    []   \n",
       "000a5bac5b7781ea                1                 0                    []   \n",
       "\n",
       "                 list_afer_last_finish  count_after_last_finish  \\\n",
       "hashedIpAddress                                                   \n",
       "000386124f307de8                                              0   \n",
       "0007183207b6008f                                              0   \n",
       "000a09e202e88d10                                              0   \n",
       "000a5bac5b7781ea                                              0   \n",
       "\n",
       "                  max_timestamp  min_timestamp  first_last_time  \n",
       "hashedIpAddress                                                  \n",
       "000386124f307de8     1351279254     1351277431             1823  \n",
       "0007183207b6008f     1347370274     1347370093              181  \n",
       "000a09e202e88d10     1250316279     1250316279                0  \n",
       "000a5bac5b7781ea     1298781161     1298781161                0  "
      ]
     },
     "execution_count": 116,
     "metadata": {},
     "output_type": "execute_result"
    }
   ],
   "source": [
    "feature_log.head(4)"
   ]
  },
  {
   "cell_type": "markdown",
   "id": "c79f6d61-ee4c-4d5e-b2b0-094f6134009b",
   "metadata": {},
   "source": [
    "<div class=\"1.1 explanation\" style='background-color:#faefe1; border-left: solid #darkblue 4px; border-radius: 4px; padding:0.7em;'>\n",
    "    <span style=\"color:black\">\n",
    "        Change total games played so that last game is not taken into account.\n",
    "    </span>\n",
    "</div>"
   ]
  },
  {
   "cell_type": "code",
   "execution_count": 117,
   "id": "c1c8e657-123e-4d42-b15d-de56ff929993",
   "metadata": {},
   "outputs": [],
   "source": [
    "feature_log['nb_total_games'] = feature_log['nb_total_games']-1"
   ]
  },
  {
   "cell_type": "markdown",
   "id": "476312d6-a09c-4798-9b2c-7e456c4f8872",
   "metadata": {},
   "source": [
    "<div class=\"1.1 explanation\" style='background-color:#faefe1; border-left: solid #darkblue 4px; border-radius: 4px; padding:0.7em;'>\n",
    "    <span style=\"color:black\">\n",
    "        Make a new dataframe that contains just the important features.\n",
    "    </span>\n",
    "</div>"
   ]
  },
  {
   "cell_type": "code",
   "execution_count": 118,
   "id": "c42a41bf-61a8-4e5f-9a75-b2359fcf1a2f",
   "metadata": {},
   "outputs": [],
   "source": [
    "feature_final = feature_log[['nb_total_games','binar_last_game','count_unfinished','count_after_last_finish','first_last_time']]"
   ]
  },
  {
   "cell_type": "markdown",
   "id": "21d6bf4b-4eef-4548-be44-485bf725920b",
   "metadata": {},
   "source": [
    "</div>\n",
    "<div class=\"1.1 explanation\" style='background-color:#08135c; border-left: solid #darkblue 4px; border-radius: 4px; padding:0.7em;'>\n",
    "    <span style=\"color:white\">\n",
    "       <h3>1.5 Feature analyzation</h3>\n",
    "    </span>\n",
    "</div>\n",
    "</div>\n",
    "<div class=\"1.1 explanation\" style='background-color:#faefe1; border-left: solid #darkblue 4px; border-radius: 4px; padding:0.7em;'>\n",
    "    <span style=\"color:black\">\n",
    "        Plots to see how similar the results are.\n",
    "    </span>\n",
    "</div>\n"
   ]
  },
  {
   "cell_type": "markdown",
   "id": "54da7b87-73a5-4c7b-87b6-10079ee9d3c0",
   "metadata": {},
   "source": [
    "<div class=\"1.1 explanation\" style='background-color:#faefe1; border-left: solid #darkblue 4px; border-radius: 4px; padding:0.7em;'>\n",
    "    <span style=\"color:black\">\n",
    "        Normalize all the columns except the binary number for the last game played. \n",
    "    </span>\n",
    "</div>"
   ]
  },
  {
   "cell_type": "code",
   "execution_count": 119,
   "id": "9df11654-5755-4c7c-aaeb-b531bf98e330",
   "metadata": {},
   "outputs": [
    {
     "name": "stdout",
     "output_type": "stream",
     "text": [
      "        hashedIpAddress  binar_last_game\n",
      "0      000386124f307de8                0\n",
      "1      0007183207b6008f                1\n",
      "2      000a09e202e88d10                1\n",
      "3      000a5bac5b7781ea                1\n",
      "4      000a6e585b776c96                0\n",
      "...                 ...              ...\n",
      "18943  7ff67c3433e623a9                0\n",
      "18944  7ff6a4ad1962969e                0\n",
      "18945  7ffc5c7421311771                1\n",
      "18946  7fff57a336c1f472                0\n",
      "18947  7fffdba06c21ba08                1\n",
      "\n",
      "[18948 rows x 2 columns]\n",
      "       nb_total_games  count_unfinished  count_after_last_finish  \\\n",
      "0           -0.047745         -0.232945                -0.336315   \n",
      "1           -0.020388         -0.232945                -0.336315   \n",
      "2           -0.075102         -0.232945                -0.336315   \n",
      "3           -0.075102         -0.232945                -0.336315   \n",
      "4           -0.075102         -0.232945                -0.336315   \n",
      "...               ...               ...                      ...   \n",
      "18943        0.089040          0.133531                -0.336315   \n",
      "18944       -0.047745         -0.232945                -0.336315   \n",
      "18945       -0.047745         -0.232945                -0.336315   \n",
      "18946       -0.075102         -0.232945                -0.336315   \n",
      "18947       -0.047745         -0.232945                -0.336315   \n",
      "\n",
      "       first_last_time   hashedIpAddress  binar_last_game  \n",
      "0            -0.110174  000386124f307de8                0  \n",
      "1            -0.110491  0007183207b6008f                1  \n",
      "2            -0.110526  000a09e202e88d10                1  \n",
      "3            -0.110526  000a5bac5b7781ea                1  \n",
      "4            -0.110526  000a6e585b776c96                0  \n",
      "...                ...               ...              ...  \n",
      "18943        -0.110306  7ff67c3433e623a9                0  \n",
      "18944        -0.110126  7ff6a4ad1962969e                0  \n",
      "18945        -0.110512  7ffc5c7421311771                1  \n",
      "18946        -0.110526  7fff57a336c1f472                0  \n",
      "18947        -0.110497  7fffdba06c21ba08                1  \n",
      "\n",
      "[18948 rows x 6 columns]\n"
     ]
    }
   ],
   "source": [
    "normalized_df = feature_final.copy()\n",
    "\n",
    "from sklearn.preprocessing import StandardScaler\n",
    "\n",
    "feature_final_save = normalized_df[['binar_last_game']]\n",
    "feature_final_save = feature_final_save.reset_index()\n",
    "normalized_df = normalized_df.drop('binar_last_game', axis=1,inplace=False)\n",
    "# Create a scaler object\n",
    "scaler = StandardScaler()\n",
    "\n",
    "# Normalize the columns of the dataframe\n",
    "normalized_data = scaler.fit_transform(normalized_df)\n",
    "\n",
    "# Create a new dataframe with the normalized data\n",
    "normalized_df = pd.DataFrame(normalized_data, columns=normalized_df.columns)\n",
    "\n",
    "normalized_df = pd.concat([normalized_df, feature_final_save], axis=1)\n",
    "normalized_df = normalized_df.set_index('hashedIpAddress')\n"
   ]
  },
  {
   "cell_type": "code",
   "execution_count": 120,
   "id": "f042fc65-e32f-488b-8147-8d465a66f7f5",
   "metadata": {},
   "outputs": [],
   "source": [
    "feature_final = normalized_df.copy()"
   ]
  },
  {
   "cell_type": "code",
   "execution_count": 142,
   "id": "584d55a2-6b2e-4db6-aac3-57478dfd835c",
   "metadata": {},
   "outputs": [],
   "source": [
    "feature_final.to_csv(\"data/features_between_game.csv\")"
   ]
  },
  {
   "cell_type": "markdown",
   "id": "c313e57a-a490-4229-b09e-5c622ef91cf2",
   "metadata": {},
   "source": [
    "<div class=\"1.1 explanation\" style='background-color:#faefe1; border-left: solid #darkblue 4px; border-radius: 4px; padding:0.7em;'>\n",
    "    <span style=\"color:black\">\n",
    "        Scatterplot of always to different variables to see if a correlation can be observed. The data is not really randomly distributed in any plot except of the ones that compares the timeline between first and last game. \n",
    "    </span>\n",
    "</div>"
   ]
  },
  {
   "cell_type": "code",
   "execution_count": 122,
   "id": "8cd54b1a-6459-4892-b811-690cff31649a",
   "metadata": {},
   "outputs": [
    {
     "data": {
      "image/png": "[encoded data removed]",
      "text/plain": [
       "<Figure size 640x480 with 6 Axes>"
      ]
     },
     "metadata": {},
     "output_type": "display_data"
    }
   ],
   "source": [
    "plt.figure()\n",
    "plt.subplot(321)\n",
    "sns.regplot(x=\"first_last_time\", y=\"count_after_last_finish\", data=feature_final,marker = '.', fit_reg=False)\n",
    "plt.subplot(322)\n",
    "sns.regplot(x=\"nb_total_games\", y=\"count_unfinished\", data=feature_final,marker = '.', fit_reg=False)\n",
    "plt.subplot(323)\n",
    "sns.regplot(x=\"first_last_time\", y=\"nb_total_games\", data=feature_final,marker = '.', fit_reg=False)\n",
    "plt.subplot(324)\n",
    "sns.regplot(x=\"first_last_time\", y=\"count_unfinished\", data=feature_final,marker = '.', fit_reg=False)\n",
    "plt.subplot(325)\n",
    "sns.regplot(x=\"count_unfinished\", y=\"count_after_last_finish\", data=feature_final,marker = '.', fit_reg=False)\n",
    "plt.subplot(326)\n",
    "sns.regplot(x=\"nb_total_games\", y=\"count_after_last_finish\", data=feature_final,marker = '.', fit_reg=False)\n",
    "plt.tight_layout()\n",
    "plt.show()"
   ]
  },
  {
   "cell_type": "code",
   "execution_count": 123,
   "id": "6c321172-41f9-4225-b1a3-cf8153bb631a",
   "metadata": {},
   "outputs": [
    {
     "data": {
      "text/plain": [
       "<AxesSubplot:>"
      ]
     },
     "execution_count": 123,
     "metadata": {},
     "output_type": "execute_result"
    },
    {
     "data": {
      "image/png": "[encoded data removed]",
      "text/plain": [
       "<Figure size 640x480 with 2 Axes>"
      ]
     },
     "metadata": {},
     "output_type": "display_data"
    }
   ],
   "source": [
    "heatmap = feature_final[['nb_total_games','count_after_last_finish','count_unfinished','first_last_time']]\n",
    "# Calculate the covariance matrix\n",
    "cov_matrix = heatmap.cov()\n",
    "# Plot the covariance matrix as a heatmap\n",
    "sns.heatmap(cov_matrix, cmap='coolwarm', vmin=-1, vmax=1)"
   ]
  },
  {
   "cell_type": "code",
   "execution_count": 124,
   "id": "1a821311-e41e-4b37-aaa7-eff6b8ebf17b",
   "metadata": {},
   "outputs": [],
   "source": [
    "#Function to compute the geometric mean\n",
    "def geo_mean(iterable):\n",
    "    return np.exp(np.log(iterable).mean())\n",
    "\n",
    "def bootstrap_CI(data, nbr_draws, mean, with_means = False):\n",
    "    means = np.zeros(nbr_draws)\n",
    "    data = np.array(data)\n",
    "    \n",
    "    for n in range(nbr_draws):\n",
    "        indices = np.random.randint(0, len(data), len(data))\n",
    "        data_tmp = data[indices] \n",
    "\n",
    "        if mean == 'arithmetic':\n",
    "            means[n] = np.nanmean(data_tmp)\n",
    "\n",
    "        if mean == 'geometric':\n",
    "            means[n] = geo_mean(data_tmp)\n",
    "\n",
    "    if with_means :\n",
    "        return [np.nanpercentile(means, 2.5),np.nanpercentile(means, 97.5)], means\n",
    "    else : \n",
    "        return [np.nanpercentile(means, 2.5),np.nanpercentile(means, 97.5)]"
   ]
  },
  {
   "cell_type": "code",
   "execution_count": 125,
   "id": "666cf077-73eb-4113-9e6a-f011be29ddb5",
   "metadata": {},
   "outputs": [],
   "source": [
    "finished_games = feature_final[feature_final['binar_last_game'] == 1]\n",
    "unfinished_games = feature_final[feature_final['binar_last_game'] == 0]"
   ]
  },
  {
   "cell_type": "markdown",
   "id": "0f59aa63-4adf-4ae8-a0b6-af1facefabf0",
   "metadata": {},
   "source": [
    "<div class=\"1.1 explanation\" style='background-color:#faefe1; border-left: solid #darkblue 4px; border-radius: 4px; padding:0.7em;'>\n",
    "    <span style=\"color:black\">\n",
    "        Bootstrap is used for analyzing the different means of the different features for unfinished and finished paths. The total number of games had one big outlier. That's why it got removed in advance to make the bootstrap look more normally distributed. The means are not that different for this variable. For the rest of the features the means are different for unfinished/finished paths. The arithmetic mean is used even if it's very sensitive to outliers.\n",
    "    </span>\n",
    "</div>"
   ]
  },
  {
   "cell_type": "code",
   "execution_count": 126,
   "id": "1cd17cf0-3ca1-45e9-8b93-758955c672bc",
   "metadata": {},
   "outputs": [],
   "source": [
    "without_outlier = finished_games[finished_games['nb_total_games'] != finished_games['nb_total_games'].max()]"
   ]
  },
  {
   "cell_type": "code",
   "execution_count": 127,
   "id": "4952995c-39b7-4448-82b1-68707c7bbca4",
   "metadata": {},
   "outputs": [],
   "source": [
    "#calculate bootstrap geometric\n",
    "ci_unf, stats_unf = bootstrap_CI(unfinished_games['nb_total_games'], 10000, 'arithmetic', True)\n",
    "ci_fin, stats_fin = bootstrap_CI(without_outlier['nb_total_games'], 10000, 'arithmetic', True)"
   ]
  },
  {
   "cell_type": "code",
   "execution_count": 128,
   "id": "3e2a4ec6-2da6-48c1-93d5-24f60d1cf03c",
   "metadata": {},
   "outputs": [
    {
     "data": {
      "image/png": "[encoded data removed]",
      "text/plain": [
       "<Figure size 1400x400 with 1 Axes>"
      ]
     },
     "metadata": {},
     "output_type": "display_data"
    }
   ],
   "source": [
    "#Plot confidence intervals\n",
    "fig, ax = plt.subplots(figsize=(14,4))\n",
    "\n",
    "#Geometric mean\n",
    "ax.hist(stats_unf, bins=20, edgecolor = 'k', color='grey',alpha = 0.6, label = 'Bootstrapping for unfinished paths')\n",
    "ax.vlines(ci_unf, 0, ax.get_ylim()[1], ls='--', color='k', linewidth=2, label = '95% CI for unfinished paths')\n",
    "\n",
    "#arithmetic mean\n",
    "ax.hist(stats_fin, bins=20, edgecolor = 'k', color='cornflowerblue', alpha = 0.6, label = 'Bootstrapping for finished paths')\n",
    "ax.vlines(ci_fin, 0, ax.get_ylim()[1], ls='--', color='blue', linewidth=2, label = '95% CI for finished paths')\n",
    "\n",
    "ax.set_title('Bootstrapping with arithmetic mean for the total number of games played')\n",
    "ax.set_xlabel('total number of games played')\n",
    "ax.set_ylabel('Frequence of apparence')\n",
    "ax.legend(loc=(1.02, 0.70));"
   ]
  },
  {
   "cell_type": "code",
   "execution_count": 129,
   "id": "d640d06b-c52d-479e-bac1-eed5a0ce269e",
   "metadata": {},
   "outputs": [],
   "source": [
    "#calculate bootstrap geometric\n",
    "ci_unf_last, stats_unf_last = bootstrap_CI(unfinished_games['count_after_last_finish'], 10000, 'arithmetic', True)\n",
    "ci_fin_last, stats_fin_last = bootstrap_CI(finished_games['count_after_last_finish'], 10000, 'arithmetic', True)"
   ]
  },
  {
   "cell_type": "code",
   "execution_count": 130,
   "id": "456d7c55-fe5d-492d-bd1f-6f5730160c37",
   "metadata": {},
   "outputs": [
    {
     "data": {
      "image/png": "[encoded data removed]",
      "text/plain": [
       "<Figure size 1400x400 with 1 Axes>"
      ]
     },
     "metadata": {},
     "output_type": "display_data"
    }
   ],
   "source": [
    "#Plot confidence intervals\n",
    "fig, ax = plt.subplots(figsize=(14,4))\n",
    "\n",
    "#Geometric mean\n",
    "ax.hist(stats_unf_last, bins=20, edgecolor = 'k', color='grey',alpha = 0.6, label = 'Bootstrapping for unfinished paths')\n",
    "ax.vlines(ci_unf_last, 0, ax.get_ylim()[1], ls='--', color='k', linewidth=2, label = '95% CI for unfinished paths')\n",
    "\n",
    "#arithmetic mean\n",
    "ax.hist(stats_fin_last, bins=20, edgecolor = 'k', color='cornflowerblue', alpha = 0.6, label = 'Bootstrapping for finished paths')\n",
    "ax.vlines(ci_fin_last, 0, ax.get_ylim()[1], ls='--', color='blue', linewidth=2, label = '95% CI for finished paths')\n",
    "\n",
    "ax.set_title('Bootstrapping with arithmetic mean of the number of unfinished paths after the last finish path')\n",
    "ax.set_xlabel('count after the last finished path')\n",
    "ax.set_ylabel('Frequence of apparence')\n",
    "ax.legend(loc=(1.02, 0.70));"
   ]
  },
  {
   "cell_type": "code",
   "execution_count": 131,
   "id": "64ba0284-0135-4f71-b5c9-18d21c0c4fb7",
   "metadata": {},
   "outputs": [],
   "source": [
    "#calculate bootstrap geometric\n",
    "ci_unf_tim, stats_unf_tim = bootstrap_CI(unfinished_games['first_last_time'], 10000, 'arithmetic', True)\n",
    "ci_fin_tim, stats_fin_tim = bootstrap_CI(finished_games['first_last_time'], 10000, 'arithmetic', True)"
   ]
  },
  {
   "cell_type": "code",
   "execution_count": 132,
   "id": "cd3a9cae-166d-4c93-a5ed-7a779d72662c",
   "metadata": {},
   "outputs": [
    {
     "data": {
      "image/png": "[encoded data removed]",
      "text/plain": [
       "<Figure size 1400x400 with 1 Axes>"
      ]
     },
     "metadata": {},
     "output_type": "display_data"
    }
   ],
   "source": [
    "#Plot confidence intervals\n",
    "fig, ax = plt.subplots(figsize=(14,4))\n",
    "\n",
    "#Geometric mean\n",
    "ax.hist(stats_unf_tim, bins=20, edgecolor = 'k', color='grey',alpha = 0.6, label = 'Bootstrapping for unfinished paths')\n",
    "ax.vlines(ci_unf_tim, 0, ax.get_ylim()[1], ls='--', color='k', linewidth=2, label = '95% CI for unfinished paths')\n",
    "\n",
    "#arithmetic mean\n",
    "ax.hist(stats_fin_tim, bins=20, edgecolor = 'k', color='cornflowerblue', alpha = 0.6, label = 'Bootstrapping for finished paths')\n",
    "ax.vlines(ci_fin_tim, 0, ax.get_ylim()[1], ls='--', color='blue', linewidth=2, label = '95% CI for finished paths')\n",
    "\n",
    "ax.set_title('Bootstrapping with arithmetic mean of the first time played the game and the last time the game was played')\n",
    "ax.set_xlabel('timedifference between first and last game played')\n",
    "ax.set_ylabel('Frequence of apparence')\n",
    "ax.legend(loc=(1.02, 0.70));"
   ]
  },
  {
   "cell_type": "code",
   "execution_count": 133,
   "id": "db1070be-b416-42a4-8f4d-9773a759828b",
   "metadata": {},
   "outputs": [],
   "source": [
    "#calculate bootstrap geometric\n",
    "ci_unf_totun, stats_unf_totun = bootstrap_CI(unfinished_games['count_unfinished'], 10000, 'arithmetic', True)\n",
    "ci_fin_totun, stats_fin_totun = bootstrap_CI(finished_games['count_unfinished'], 10000, 'arithmetic', True)"
   ]
  },
  {
   "cell_type": "code",
   "execution_count": 134,
   "id": "ab1140a9-7dce-4443-9ac7-91177e1cbf9c",
   "metadata": {},
   "outputs": [
    {
     "data": {
      "image/png": "[encoded data removed]",
      "text/plain": [
       "<Figure size 1400x400 with 1 Axes>"
      ]
     },
     "metadata": {},
     "output_type": "display_data"
    }
   ],
   "source": [
    "#Plot confidence intervals\n",
    "fig, ax = plt.subplots(figsize=(14,4))\n",
    "\n",
    "#Geometric mean\n",
    "ax.hist(stats_unf_totun, bins=20, edgecolor = 'k', color='grey',alpha = 0.6, label = 'Bootstrapping for unfinished paths')\n",
    "ax.vlines(ci_unf_totun, 0, ax.get_ylim()[1], ls='--', color='k', linewidth=2, label = '95% CI for unfinished paths')\n",
    "\n",
    "#arithmetic mean\n",
    "ax.hist(stats_fin_totun, bins=20, edgecolor = 'k', color='cornflowerblue', alpha = 0.6, label = 'Bootstrapping for finished paths')\n",
    "ax.vlines(ci_fin_totun, 0, ax.get_ylim()[1], ls='--', color='blue', linewidth=2, label = '95% CI for finished paths')\n",
    "\n",
    "ax.set_title('Bootstrapping with arithmetic mean of total count of unfinished paths')\n",
    "ax.set_xlabel('total number of unfinished paths')\n",
    "ax.set_ylabel('Frequence of apparence')\n",
    "ax.legend(loc=(1.02, 0.70));"
   ]
  },
  {
   "cell_type": "markdown",
   "id": "a3dd6e2c-c07a-4170-b99b-afb6285f1cfb",
   "metadata": {},
   "source": [
    "</div>\n",
    "<div class=\"1.1 explanation\" style='background-color:#08135c; border-left: solid #darkblue 4px; border-radius: 4px; padding:0.7em;'>\n",
    "    <span style=\"color:white\">\n",
    "       <h3>1.6 Build logistic regression</h3>\n",
    "    </span>\n",
    "</div>\n",
    "</div>\n",
    "<div class=\"1.1 explanation\" style='background-color:#faefe1; border-left: solid #darkblue 4px; border-radius: 4px; padding:0.7em;'>\n",
    "    <span style=\"color:black\">\n",
    "        Normalize and then build the function\n",
    "    </span>\n",
    "</div>\n"
   ]
  },
  {
   "cell_type": "code",
   "execution_count": 135,
   "id": "820b1afb-e38f-4d95-8108-784f99a4c391",
   "metadata": {},
   "outputs": [],
   "source": [
    "import statsmodels.api as sm\n",
    "import statsmodels.formula.api as smf"
   ]
  },
  {
   "cell_type": "code",
   "execution_count": 136,
   "id": "a2ba3d83-0ff9-4531-b51f-c67669758d75",
   "metadata": {},
   "outputs": [
    {
     "name": "stdout",
     "output_type": "stream",
     "text": [
      "Optimization terminated successfully.\n",
      "         Current function value: 0.641139\n",
      "         Iterations 8\n",
      "                           Logit Regression Results                           \n",
      "==============================================================================\n",
      "Dep. Variable:        binar_last_game   No. Observations:                18948\n",
      "Model:                          Logit   Df Residuals:                    18943\n",
      "Method:                           MLE   Df Model:                            4\n",
      "Date:                Mon, 19 Dec 2022   Pseudo R-squ.:                 0.04849\n",
      "Time:                        12:21:57   Log-Likelihood:                -12148.\n",
      "converged:                       True   LL-Null:                       -12767.\n",
      "Covariance Type:            nonrobust   LLR p-value:                8.415e-267\n",
      "===========================================================================================\n",
      "                              coef    std err          z      P>|z|      [0.025      0.975]\n",
      "-------------------------------------------------------------------------------------------\n",
      "Intercept                   0.4694      0.016     28.728      0.000       0.437       0.501\n",
      "nb_total_games              5.4012      0.294     18.385      0.000       4.825       5.977\n",
      "count_after_last_finish    -0.1790      0.022     -8.182      0.000      -0.222      -0.136\n",
      "count_unfinished           -1.2723      0.064    -19.750      0.000      -1.399      -1.146\n",
      "first_last_time            -0.0871      0.020     -4.386      0.000      -0.126      -0.048\n",
      "===========================================================================================\n"
     ]
    }
   ],
   "source": [
    "formula2 = 'binar_last_game ~ nb_total_games + count_after_last_finish + count_unfinished + first_last_time'\n",
    "mod = smf.logit(formula=formula2, data=feature_final)\n",
    "np.random.seed(2)\n",
    "res = mod.fit()\n",
    "print(res.summary())"
   ]
  },
  {
   "cell_type": "code",
   "execution_count": 137,
   "id": "0dca5be8-b494-448c-97a9-7da8de340f0a",
   "metadata": {},
   "outputs": [
    {
     "data": {
      "text/html": [
       "<div>\n",
       "<style scoped>\n",
       "    .dataframe tbody tr th:only-of-type {\n",
       "        vertical-align: middle;\n",
       "    }\n",
       "\n",
       "    .dataframe tbody tr th {\n",
       "        vertical-align: top;\n",
       "    }\n",
       "\n",
       "    .dataframe thead th {\n",
       "        text-align: right;\n",
       "    }\n",
       "</style>\n",
       "<table border=\"1\" class=\"dataframe\">\n",
       "  <thead>\n",
       "    <tr style=\"text-align: right;\">\n",
       "      <th></th>\n",
       "      <th>nb_total_games</th>\n",
       "      <th>count_unfinished</th>\n",
       "      <th>count_after_last_finish</th>\n",
       "      <th>first_last_time</th>\n",
       "      <th>binar_last_game</th>\n",
       "    </tr>\n",
       "    <tr>\n",
       "      <th>hashedIpAddress</th>\n",
       "      <th></th>\n",
       "      <th></th>\n",
       "      <th></th>\n",
       "      <th></th>\n",
       "      <th></th>\n",
       "    </tr>\n",
       "  </thead>\n",
       "  <tbody>\n",
       "    <tr>\n",
       "      <th>000386124f307de8</th>\n",
       "      <td>-0.047745</td>\n",
       "      <td>-0.232945</td>\n",
       "      <td>-0.336315</td>\n",
       "      <td>-0.110174</td>\n",
       "      <td>0</td>\n",
       "    </tr>\n",
       "    <tr>\n",
       "      <th>0007183207b6008f</th>\n",
       "      <td>-0.020388</td>\n",
       "      <td>-0.232945</td>\n",
       "      <td>-0.336315</td>\n",
       "      <td>-0.110491</td>\n",
       "      <td>1</td>\n",
       "    </tr>\n",
       "    <tr>\n",
       "      <th>000a09e202e88d10</th>\n",
       "      <td>-0.075102</td>\n",
       "      <td>-0.232945</td>\n",
       "      <td>-0.336315</td>\n",
       "      <td>-0.110526</td>\n",
       "      <td>1</td>\n",
       "    </tr>\n",
       "    <tr>\n",
       "      <th>000a5bac5b7781ea</th>\n",
       "      <td>-0.075102</td>\n",
       "      <td>-0.232945</td>\n",
       "      <td>-0.336315</td>\n",
       "      <td>-0.110526</td>\n",
       "      <td>1</td>\n",
       "    </tr>\n",
       "    <tr>\n",
       "      <th>000a6e585b776c96</th>\n",
       "      <td>-0.075102</td>\n",
       "      <td>-0.232945</td>\n",
       "      <td>-0.336315</td>\n",
       "      <td>-0.110526</td>\n",
       "      <td>0</td>\n",
       "    </tr>\n",
       "    <tr>\n",
       "      <th>...</th>\n",
       "      <td>...</td>\n",
       "      <td>...</td>\n",
       "      <td>...</td>\n",
       "      <td>...</td>\n",
       "      <td>...</td>\n",
       "    </tr>\n",
       "    <tr>\n",
       "      <th>7ff67c3433e623a9</th>\n",
       "      <td>0.089040</td>\n",
       "      <td>0.133531</td>\n",
       "      <td>-0.336315</td>\n",
       "      <td>-0.110306</td>\n",
       "      <td>0</td>\n",
       "    </tr>\n",
       "    <tr>\n",
       "      <th>7ff6a4ad1962969e</th>\n",
       "      <td>-0.047745</td>\n",
       "      <td>-0.232945</td>\n",
       "      <td>-0.336315</td>\n",
       "      <td>-0.110126</td>\n",
       "      <td>0</td>\n",
       "    </tr>\n",
       "    <tr>\n",
       "      <th>7ffc5c7421311771</th>\n",
       "      <td>-0.047745</td>\n",
       "      <td>-0.232945</td>\n",
       "      <td>-0.336315</td>\n",
       "      <td>-0.110512</td>\n",
       "      <td>1</td>\n",
       "    </tr>\n",
       "    <tr>\n",
       "      <th>7fff57a336c1f472</th>\n",
       "      <td>-0.075102</td>\n",
       "      <td>-0.232945</td>\n",
       "      <td>-0.336315</td>\n",
       "      <td>-0.110526</td>\n",
       "      <td>0</td>\n",
       "    </tr>\n",
       "    <tr>\n",
       "      <th>7fffdba06c21ba08</th>\n",
       "      <td>-0.047745</td>\n",
       "      <td>-0.232945</td>\n",
       "      <td>-0.336315</td>\n",
       "      <td>-0.110497</td>\n",
       "      <td>1</td>\n",
       "    </tr>\n",
       "  </tbody>\n",
       "</table>\n",
       "<p>18948 rows × 5 columns</p>\n",
       "</div>"
      ],
      "text/plain": [
       "                  nb_total_games  count_unfinished  count_after_last_finish  \\\n",
       "hashedIpAddress                                                               \n",
       "000386124f307de8       -0.047745         -0.232945                -0.336315   \n",
       "0007183207b6008f       -0.020388         -0.232945                -0.336315   \n",
       "000a09e202e88d10       -0.075102         -0.232945                -0.336315   \n",
       "000a5bac5b7781ea       -0.075102         -0.232945                -0.336315   \n",
       "000a6e585b776c96       -0.075102         -0.232945                -0.336315   \n",
       "...                          ...               ...                      ...   \n",
       "7ff67c3433e623a9        0.089040          0.133531                -0.336315   \n",
       "7ff6a4ad1962969e       -0.047745         -0.232945                -0.336315   \n",
       "7ffc5c7421311771       -0.047745         -0.232945                -0.336315   \n",
       "7fff57a336c1f472       -0.075102         -0.232945                -0.336315   \n",
       "7fffdba06c21ba08       -0.047745         -0.232945                -0.336315   \n",
       "\n",
       "                  first_last_time  binar_last_game  \n",
       "hashedIpAddress                                     \n",
       "000386124f307de8        -0.110174                0  \n",
       "0007183207b6008f        -0.110491                1  \n",
       "000a09e202e88d10        -0.110526                1  \n",
       "000a5bac5b7781ea        -0.110526                1  \n",
       "000a6e585b776c96        -0.110526                0  \n",
       "...                           ...              ...  \n",
       "7ff67c3433e623a9        -0.110306                0  \n",
       "7ff6a4ad1962969e        -0.110126                0  \n",
       "7ffc5c7421311771        -0.110512                1  \n",
       "7fff57a336c1f472        -0.110526                0  \n",
       "7fffdba06c21ba08        -0.110497                1  \n",
       "\n",
       "[18948 rows x 5 columns]"
      ]
     },
     "execution_count": 137,
     "metadata": {},
     "output_type": "execute_result"
    }
   ],
   "source": [
    "feature_final"
   ]
  },
  {
   "cell_type": "markdown",
   "id": "50e4607c-b8f5-4c46-bbe4-7583ebcb947a",
   "metadata": {},
   "source": [
    "df['column_name'] = df['column_name'].apply(extract_sublist)<br><br><br><br> \n",
    "### Below is Tamara's original code\n",
    "\n",
    "\n",
    "\n"
   ]
  },
  {
   "cell_type": "markdown",
   "id": "9b5ba41c-b5c5-4351-a3f8-83dd080610c8",
   "metadata": {},
   "source": [
    "</div>\n",
    "<div class=\"1.1 explanation\" style='background-color:#08135c; border-left: solid #darkblue 4px; border-radius: 4px; padding:0.7em;'>\n",
    "    <span style=\"color:white\">\n",
    "       <h3>1.2 Data processing game distribution per player</h3>\n",
    "    </span>\n",
    "</div>\n",
    "</div>\n",
    "<div class=\"1.1 explanation\" style='background-color:#faefe1; border-left: solid #darkblue 4px; border-radius: 4px; padding:0.7em;'>\n",
    "    <span style=\"color:black\">\n",
    "        There are some players that played several thousand times. The question is if they will be taken into account? Maximum ist at 4'685 so very high. Til what number should we take them into account? What is reasonable?\n",
    "       Mels do you have an idea what Treshold to set or if we have to analyze it? For the restart and the timeout in the last, the distributions are more similar\n",
    "    </span>\n",
    "</div>\n"
   ]
  },
  {
   "cell_type": "code",
   "execution_count": null,
   "id": "92382558-da4e-47f0-b51d-1e2bf157e392",
   "metadata": {},
   "outputs": [],
   "source": [
    "test =players_record[players_record['last_game']== 'finished']"
   ]
  },
  {
   "cell_type": "code",
   "execution_count": null,
   "id": "1025720b-d3cf-489b-a320-f1289574e9e0",
   "metadata": {
    "tags": []
   },
   "outputs": [],
   "source": [
    "players_record[players_record['nb_finished_games'] > 100].head(10)"
   ]
  },
  {
   "cell_type": "code",
   "execution_count": null,
   "id": "817973c3-7141-4903-bd15-99774b6b481b",
   "metadata": {},
   "outputs": [],
   "source": [
    "players_record[players_record['nb_restart_games'] > 100].head(10)"
   ]
  },
  {
   "cell_type": "markdown",
   "id": "0f6d340c-7049-4fa1-8c86-f33cfd3ee0e1",
   "metadata": {},
   "source": [
    "Distribution of the finished paths. Can show the same for the other distributions, just change the test dataframe below"
   ]
  },
  {
   "cell_type": "code",
   "execution_count": null,
   "id": "c3936031-a745-47a3-84d6-ded87907fd56",
   "metadata": {},
   "outputs": [],
   "source": [
    "test =players_record[players_record['last_game']== 'timeout']"
   ]
  },
  {
   "cell_type": "code",
   "execution_count": null,
   "id": "4fb8f66d-a099-4aa3-aab0-beeacf8bfe2a",
   "metadata": {},
   "outputs": [],
   "source": [
    "fig = plt.figure(figsize=(14,6))\n",
    "\n",
    "ax = plt.subplot(2,2,1)\n",
    "ax.boxplot(test['nb_finished_games'], patch_artist=True, flierprops=flierprops, boxprops=boxprops, medianprops=medianprops, labels=['finished']);\n",
    "xlim = ax.get_xlim();\n",
    "\n",
    "ax = plt.subplot(2,2,3)\n",
    "ax.boxplot([test['nb_restart_games'], test['nb_timeout_games']], patch_artist=True, flierprops=flierprops, boxprops=boxprops, medianprops=medianprops, labels=['restart','timeout'])\n",
    "xlim = ax.get_xlim();\n",
    "\n",
    "\n",
    "ax = plt.subplot(2,2,4)\n",
    "test.plot(y='nb_finished_games', kind='hist', legend=False, edgecolor=(0,0,0, 0.5), bins=40, ax=ax, log=True, color=(235/255, 184/255, 164/255, 0.5), label=\"finished\")\n",
    "ax.legend();\n",
    "ax.set_xlabel('number of finished games')\n",
    "xlim = ax.get_xlim();\n",
    "\n",
    "ax = plt.subplot(2,2,2)\n",
    "test.plot(y='nb_timeout_games', kind='hist', legend=False, edgecolor=(0,0,0, 0.5), ax=ax, log=True, color=(31/255, 119/255, 180/255, 0.5), label=\"timeout\")\n",
    "test.plot(y='nb_restart_games', kind='hist', legend=False, edgecolor=(0,0,0, 0.5), ax=ax, log=True, color=(120/255, 194/255, 139/255, 0.5), label=\"restart\")\n",
    "ax.legend();\n",
    "ax.set_xlim(xlim);"
   ]
  },
  {
   "cell_type": "code",
   "execution_count": null,
   "id": "255c8226-b4a7-4c6d-bb3f-7ff98b15d0a4",
   "metadata": {},
   "outputs": [],
   "source": [
    "test['nb_finished_games'].describe()"
   ]
  },
  {
   "cell_type": "code",
   "execution_count": null,
   "id": "7a899be4-e8f7-41e9-af4c-e73f1d09dc32",
   "metadata": {},
   "outputs": [],
   "source": [
    "test['nb_restart_games'].describe()"
   ]
  },
  {
   "cell_type": "code",
   "execution_count": null,
   "id": "0bacfe1e-468e-4c5e-8bf8-f7025d3dbf1e",
   "metadata": {},
   "outputs": [],
   "source": [
    "test['nb_timeout_games'].describe()"
   ]
  },
  {
   "cell_type": "markdown",
   "id": "ff9fef57-ac74-437c-8258-b5376fd37edc",
   "metadata": {},
   "source": [
    "</div>\n",
    "<div class=\"1.1 explanation\" style='background-color:#08135c; border-left: solid #darkblue 4px; border-radius: 4px; padding:0.7em;'>\n",
    "    <span style=\"color:white\">\n",
    "       <h3>1.3 Calculate percentage of people that had restart/timeout/finished path before the final part for every possible outcome</h3>\n",
    "    </span>\n",
    "</div>\n",
    "</div>\n",
    "<div class=\"1.1 explanation\" style='background-color:#faefe1; border-left: solid #darkblue 4px; border-radius: 4px; padding:0.7em;'>\n",
    "    <span style=\"color:black\">\n",
    "        What data do we want to include? When someone did a timeout and comes bad, do we take them into account? Or do we have to filter them out?\n",
    "    </span>\n",
    "</div>\n"
   ]
  },
  {
   "cell_type": "code",
   "execution_count": null,
   "id": "e1a2b72f-61ee-4166-a3dd-eff87e586d0d",
   "metadata": {},
   "outputs": [],
   "source": [
    "timeout = players_record[players_record['last_game']== 'timeout']\n",
    "percentage_finished = len(timeout[timeout['nb_finished_games']> 0])/len(timeout)\n",
    "percentage_restart = len(timeout[timeout['nb_restart_games']> 0])/len(timeout)\n",
    "percentage_timeout = len(timeout[timeout['nb_timeout_games']> 1])/len(timeout)\n",
    "print('Percentage of users that finished a path before a timeout: ',percentage_finished)\n",
    "print('Percentage of users that restarted a path before a timeout: ',percentage_restart)\n",
    "print('Percentage of users that had a timeout before the final timeout: ',percentage_timeout)"
   ]
  },
  {
   "cell_type": "code",
   "execution_count": null,
   "id": "819568e3-7205-4515-8a3f-6eb428f2b72f",
   "metadata": {},
   "outputs": [],
   "source": [
    "restart = players_record[players_record['last_game']== 'restart']\n",
    "percentage_finished = len(restart[restart['nb_finished_games']> 0])/len(restart)\n",
    "percentage_timeout = len(restart[restart['nb_timeout_games']> 0])/len(restart)\n",
    "percentage_restart = len(restart[restart['nb_restart_games']> 1])/len(restart)\n",
    "print('Percentage of users that finished a path before the end restart: ',percentage_finished)\n",
    "print('Percentage of users that did a timeout of a path before the end restart: ',percentage_timeout)\n",
    "print('Percentage of users that had a restart before the final restart: ',percentage_restart)"
   ]
  },
  {
   "cell_type": "code",
   "execution_count": null,
   "id": "718772e1-322c-42fc-94ee-4420d0a23363",
   "metadata": {},
   "outputs": [],
   "source": [
    "finished = players_record[players_record['last_game']== 'finished']\n",
    "percentage_restart = len(finished[finished['nb_restart_games']> 0])/len(finished)\n",
    "percentage_timeout = len(finished[finished['nb_timeout_games']> 0])/len(finished)\n",
    "percentage_finished = len(finished[finished['nb_finished_games']> 1])/len(finished)\n",
    "print('Percentage of users that restarted a path before the finished path: ',percentage_restart)\n",
    "print('Percentage of users that did a timeout of a path before the finished path: ',percentage_timeout)\n",
    "print('Percentage of users that had a finished path before the final finished path: ',percentage_finished)"
   ]
  },
  {
   "cell_type": "code",
   "execution_count": null,
   "id": "ba72df97-26c5-461f-bcea-b84f7b53056b",
   "metadata": {},
   "outputs": [],
   "source": []
  },
  {
   "cell_type": "markdown",
   "id": "9d05e40a-fc90-477e-9060-6e802ccd65e2",
   "metadata": {},
   "source": [
    "</div>\n",
    "<div class=\"1.1 explanation\" style='background-color:#08135c; border-left: solid #darkblue 4px; border-radius: 4px; padding:0.7em;'>\n",
    "    <span style=\"color:white\">\n",
    "       <h3>1.4 General preprocessing of data</h3>\n",
    "    </span>\n",
    "</div>\n",
    "</div>\n",
    "<div class=\"1.1 explanation\" style='background-color:#faefe1; border-left: solid #darkblue 4px; border-radius: 4px; padding:0.7em;'>\n",
    "    <span style=\"color:black\">\n",
    "       takes out everything that has zero pathlength -> can I do on monday\n",
    "    </span>\n",
    "</div>\n"
   ]
  },
  {
   "cell_type": "code",
   "execution_count": null,
   "id": "2bdc67af-902e-44b5-a937-85fcb1f60849",
   "metadata": {},
   "outputs": [],
   "source": []
  }
 ],
 "metadata": {
  "kernelspec": {
   "display_name": "Python 3 (ipykernel)",
   "language": "python",
   "name": "python3"
  },
  "language_info": {
   "codemirror_mode": {
    "name": "ipython",
    "version": 3
   },
   "file_extension": ".py",
   "mimetype": "text/x-python",
   "name": "python",
   "nbconvert_exporter": "python",
   "pygments_lexer": "ipython3",
   "version": "3.9.13"
  }
 },
 "nbformat": 4,
 "nbformat_minor": 5
}
