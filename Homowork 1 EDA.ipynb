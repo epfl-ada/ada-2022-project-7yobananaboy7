{
 "cells": [
  {
   "cell_type": "markdown",
   "id": "3f9fcc6e",
   "metadata": {},
   "source": [
    "# Homework 1 Exploratory Data Analysis of the Wikispeedia dataset\n",
    "\n",
    "Import all the relevent libraries"
   ]
  },
  {
   "cell_type": "code",
   "execution_count": 1,
   "id": "42e45789",
   "metadata": {},
   "outputs": [],
   "source": [
    "import pandas as pd\n",
    "import numpy as np\n",
    "import networkx as nx\n",
    "import matplotlib.pyplot as plt\n",
    "import seaborn as sns"
   ]
  },
  {
   "cell_type": "markdown",
   "id": "a00fc335",
   "metadata": {},
   "source": [
    "## Read the file "
   ]
  },
  {
   "cell_type": "code",
   "execution_count": 2,
   "id": "37c761ab",
   "metadata": {},
   "outputs": [
    {
     "name": "stderr",
     "output_type": "stream",
     "text": [
      "C:\\Users\\mathi\\anaconda3\\lib\\site-packages\\IPython\\core\\interactiveshell.py:3444: DtypeWarning: Columns (3,4) have mixed types.Specify dtype option on import or set low_memory=False.\n",
      "  exec(code_obj, self.user_global_ns, self.user_ns)\n"
     ]
    },
    {
     "data": {
      "text/html": [
       "<div>\n",
       "<style scoped>\n",
       "    .dataframe tbody tr th:only-of-type {\n",
       "        vertical-align: middle;\n",
       "    }\n",
       "\n",
       "    .dataframe tbody tr th {\n",
       "        vertical-align: top;\n",
       "    }\n",
       "\n",
       "    .dataframe thead th {\n",
       "        text-align: right;\n",
       "    }\n",
       "</style>\n",
       "<table border=\"1\" class=\"dataframe\">\n",
       "  <thead>\n",
       "    <tr style=\"text-align: right;\">\n",
       "      <th></th>\n",
       "      <th>hashedIpAddress</th>\n",
       "      <th>timestamp</th>\n",
       "      <th>durationInSec</th>\n",
       "      <th>path</th>\n",
       "      <th>rating</th>\n",
       "    </tr>\n",
       "  </thead>\n",
       "  <tbody>\n",
       "    <tr>\n",
       "      <th>0</th>\n",
       "      <td>6a3701d319fc3754</td>\n",
       "      <td>1297740409</td>\n",
       "      <td>166.0</td>\n",
       "      <td>14th_century;15th_century;16th_century;Pacific...</td>\n",
       "      <td>NaN</td>\n",
       "    </tr>\n",
       "    <tr>\n",
       "      <th>1</th>\n",
       "      <td>3824310e536af032</td>\n",
       "      <td>1344753412</td>\n",
       "      <td>88.0</td>\n",
       "      <td>14th_century;Europe;Africa;Atlantic_slave_trad...</td>\n",
       "      <td>3</td>\n",
       "    </tr>\n",
       "    <tr>\n",
       "      <th>2</th>\n",
       "      <td>415612e93584d30e</td>\n",
       "      <td>1349298640</td>\n",
       "      <td>138.0</td>\n",
       "      <td>14th_century;Niger;Nigeria;British_Empire;Slav...</td>\n",
       "      <td>NaN</td>\n",
       "    </tr>\n",
       "    <tr>\n",
       "      <th>3</th>\n",
       "      <td>64dd5cd342e3780c</td>\n",
       "      <td>1265613925</td>\n",
       "      <td>37.0</td>\n",
       "      <td>14th_century;Renaissance;Ancient_Greece;Greece</td>\n",
       "      <td>NaN</td>\n",
       "    </tr>\n",
       "    <tr>\n",
       "      <th>4</th>\n",
       "      <td>015245d773376aab</td>\n",
       "      <td>1366730828</td>\n",
       "      <td>175.0</td>\n",
       "      <td>14th_century;Italy;Roman_Catholic_Church;HIV;R...</td>\n",
       "      <td>3</td>\n",
       "    </tr>\n",
       "    <tr>\n",
       "      <th>...</th>\n",
       "      <td>...</td>\n",
       "      <td>...</td>\n",
       "      <td>...</td>\n",
       "      <td>...</td>\n",
       "      <td>...</td>\n",
       "    </tr>\n",
       "    <tr>\n",
       "      <th>210549</th>\n",
       "      <td>______33333434523232434_2332544324_3_323333544...</td>\n",
       "      <td>NaN</td>\n",
       "      <td>NaN</td>\n",
       "      <td>NaN</td>\n",
       "      <td>NaN</td>\n",
       "    </tr>\n",
       "    <tr>\n",
       "      <th>210550</th>\n",
       "      <td>______22222424522231434_2322545434_3_422232544...</td>\n",
       "      <td>NaN</td>\n",
       "      <td>NaN</td>\n",
       "      <td>NaN</td>\n",
       "      <td>NaN</td>\n",
       "    </tr>\n",
       "    <tr>\n",
       "      <th>210551</th>\n",
       "      <td>______33333436733342435_2433545444_3_523353544...</td>\n",
       "      <td>NaN</td>\n",
       "      <td>NaN</td>\n",
       "      <td>NaN</td>\n",
       "      <td>NaN</td>\n",
       "    </tr>\n",
       "    <tr>\n",
       "      <th>210552</th>\n",
       "      <td>______22233325623232434_2423544334_3_423343544...</td>\n",
       "      <td>NaN</td>\n",
       "      <td>NaN</td>\n",
       "      <td>NaN</td>\n",
       "      <td>NaN</td>\n",
       "    </tr>\n",
       "    <tr>\n",
       "      <th>210553</th>\n",
       "      <td>NaN</td>\n",
       "      <td>NaN</td>\n",
       "      <td>NaN</td>\n",
       "      <td>NaN</td>\n",
       "      <td>NaN</td>\n",
       "    </tr>\n",
       "  </tbody>\n",
       "</table>\n",
       "<p>210554 rows × 5 columns</p>\n",
       "</div>"
      ],
      "text/plain": [
       "                                          hashedIpAddress   timestamp  \\\n",
       "0                                        6a3701d319fc3754  1297740409   \n",
       "1                                        3824310e536af032  1344753412   \n",
       "2                                        415612e93584d30e  1349298640   \n",
       "3                                        64dd5cd342e3780c  1265613925   \n",
       "4                                        015245d773376aab  1366730828   \n",
       "...                                                   ...         ...   \n",
       "210549  ______33333434523232434_2332544324_3_323333544...         NaN   \n",
       "210550  ______22222424522231434_2322545434_3_422232544...         NaN   \n",
       "210551  ______33333436733342435_2433545444_3_523353544...         NaN   \n",
       "210552  ______22233325623232434_2423544334_3_423343544...         NaN   \n",
       "210553                                                NaN         NaN   \n",
       "\n",
       "        durationInSec                                               path  \\\n",
       "0               166.0  14th_century;15th_century;16th_century;Pacific...   \n",
       "1                88.0  14th_century;Europe;Africa;Atlantic_slave_trad...   \n",
       "2               138.0  14th_century;Niger;Nigeria;British_Empire;Slav...   \n",
       "3                37.0     14th_century;Renaissance;Ancient_Greece;Greece   \n",
       "4               175.0  14th_century;Italy;Roman_Catholic_Church;HIV;R...   \n",
       "...               ...                                                ...   \n",
       "210549            NaN                                                NaN   \n",
       "210550            NaN                                                NaN   \n",
       "210551            NaN                                                NaN   \n",
       "210552            NaN                                                NaN   \n",
       "210553            NaN                                                NaN   \n",
       "\n",
       "       rating  \n",
       "0         NaN  \n",
       "1           3  \n",
       "2         NaN  \n",
       "3         NaN  \n",
       "4           3  \n",
       "...       ...  \n",
       "210549    NaN  \n",
       "210550    NaN  \n",
       "210551    NaN  \n",
       "210552    NaN  \n",
       "210553    NaN  \n",
       "\n",
       "[210554 rows x 5 columns]"
      ]
     },
     "execution_count": 2,
     "metadata": {},
     "output_type": "execute_result"
    }
   ],
   "source": [
    "paths_graph_columns = ['hashedIpAddress', 'timestamp', 'durationInSec', 'path', 'rating']\n",
    "paths_graph = pd.read_csv('data/wikispeedia_paths-and-graph.tar.gz', compression='gzip', names = paths_graph_columns, sep = '\\t', skiprows=range(15), header = None)\n",
    "paths_graph"
   ]
  },
  {
   "cell_type": "markdown",
   "id": "0733611f",
   "metadata": {},
   "source": [
    "## Handling missing data\n",
    "\n",
    "We replace values that are not between 1 and 5 in the rating to -1 so that we don't remove rows that only do not have a rating. \n",
    "\n",
    "Then we remove all the rows that have NaN since there is only rows that are all NaN or none."
   ]
  },
  {
   "cell_type": "code",
   "execution_count": 3,
   "id": "bcc037db",
   "metadata": {},
   "outputs": [
    {
     "data": {
      "text/html": [
       "<div>\n",
       "<style scoped>\n",
       "    .dataframe tbody tr th:only-of-type {\n",
       "        vertical-align: middle;\n",
       "    }\n",
       "\n",
       "    .dataframe tbody tr th {\n",
       "        vertical-align: top;\n",
       "    }\n",
       "\n",
       "    .dataframe thead th {\n",
       "        text-align: right;\n",
       "    }\n",
       "</style>\n",
       "<table border=\"1\" class=\"dataframe\">\n",
       "  <thead>\n",
       "    <tr style=\"text-align: right;\">\n",
       "      <th></th>\n",
       "      <th>hashedIpAddress</th>\n",
       "      <th>timestamp</th>\n",
       "      <th>durationInSec</th>\n",
       "      <th>path</th>\n",
       "      <th>rating</th>\n",
       "    </tr>\n",
       "  </thead>\n",
       "  <tbody>\n",
       "  </tbody>\n",
       "</table>\n",
       "</div>"
      ],
      "text/plain": [
       "Empty DataFrame\n",
       "Columns: [hashedIpAddress, timestamp, durationInSec, path, rating]\n",
       "Index: []"
      ]
     },
     "execution_count": 3,
     "metadata": {},
     "output_type": "execute_result"
    }
   ],
   "source": [
    "paths_graph[(paths_graph['path'] != np.NaN) & (paths_graph['timestamp'] == np.NaN) ]"
   ]
  },
  {
   "cell_type": "code",
   "execution_count": 4,
   "id": "4d2515cd",
   "metadata": {},
   "outputs": [],
   "source": [
    "paths_graph['rating'] = paths_graph['rating'].apply(lambda s : -1 if not str(s).isdigit() else s).astype(int)\n",
    "paths_graph.dropna(inplace = True)"
   ]
  },
  {
   "cell_type": "code",
   "execution_count": 5,
   "id": "e05ec1e1",
   "metadata": {},
   "outputs": [
    {
     "data": {
      "text/html": [
       "<div>\n",
       "<style scoped>\n",
       "    .dataframe tbody tr th:only-of-type {\n",
       "        vertical-align: middle;\n",
       "    }\n",
       "\n",
       "    .dataframe tbody tr th {\n",
       "        vertical-align: top;\n",
       "    }\n",
       "\n",
       "    .dataframe thead th {\n",
       "        text-align: right;\n",
       "    }\n",
       "</style>\n",
       "<table border=\"1\" class=\"dataframe\">\n",
       "  <thead>\n",
       "    <tr style=\"text-align: right;\">\n",
       "      <th></th>\n",
       "      <th>path_id</th>\n",
       "      <th>hashedIpAddress</th>\n",
       "      <th>timestamp</th>\n",
       "      <th>durationInSec</th>\n",
       "      <th>path</th>\n",
       "      <th>rating</th>\n",
       "      <th>destination</th>\n",
       "      <th>pathLength</th>\n",
       "    </tr>\n",
       "  </thead>\n",
       "  <tbody>\n",
       "    <tr>\n",
       "      <th>0</th>\n",
       "      <td>0</td>\n",
       "      <td>6a3701d319fc3754</td>\n",
       "      <td>1297740409</td>\n",
       "      <td>166.0</td>\n",
       "      <td>14th_century;15th_century;16th_century;Pacific...</td>\n",
       "      <td>-1</td>\n",
       "      <td>African_slave_trade</td>\n",
       "      <td>9</td>\n",
       "    </tr>\n",
       "    <tr>\n",
       "      <th>1</th>\n",
       "      <td>1</td>\n",
       "      <td>3824310e536af032</td>\n",
       "      <td>1344753412</td>\n",
       "      <td>88.0</td>\n",
       "      <td>14th_century;Europe;Africa;Atlantic_slave_trad...</td>\n",
       "      <td>3</td>\n",
       "      <td>African_slave_trade</td>\n",
       "      <td>5</td>\n",
       "    </tr>\n",
       "    <tr>\n",
       "      <th>2</th>\n",
       "      <td>2</td>\n",
       "      <td>415612e93584d30e</td>\n",
       "      <td>1349298640</td>\n",
       "      <td>138.0</td>\n",
       "      <td>14th_century;Niger;Nigeria;British_Empire;Slav...</td>\n",
       "      <td>-1</td>\n",
       "      <td>African_slave_trade</td>\n",
       "      <td>8</td>\n",
       "    </tr>\n",
       "    <tr>\n",
       "      <th>3</th>\n",
       "      <td>3</td>\n",
       "      <td>64dd5cd342e3780c</td>\n",
       "      <td>1265613925</td>\n",
       "      <td>37.0</td>\n",
       "      <td>14th_century;Renaissance;Ancient_Greece;Greece</td>\n",
       "      <td>-1</td>\n",
       "      <td>Greece</td>\n",
       "      <td>4</td>\n",
       "    </tr>\n",
       "    <tr>\n",
       "      <th>4</th>\n",
       "      <td>4</td>\n",
       "      <td>015245d773376aab</td>\n",
       "      <td>1366730828</td>\n",
       "      <td>175.0</td>\n",
       "      <td>14th_century;Italy;Roman_Catholic_Church;HIV;R...</td>\n",
       "      <td>3</td>\n",
       "      <td>John_F._Kennedy</td>\n",
       "      <td>7</td>\n",
       "    </tr>\n",
       "  </tbody>\n",
       "</table>\n",
       "</div>"
      ],
      "text/plain": [
       "   path_id   hashedIpAddress   timestamp  durationInSec  \\\n",
       "0        0  6a3701d319fc3754  1297740409          166.0   \n",
       "1        1  3824310e536af032  1344753412           88.0   \n",
       "2        2  415612e93584d30e  1349298640          138.0   \n",
       "3        3  64dd5cd342e3780c  1265613925           37.0   \n",
       "4        4  015245d773376aab  1366730828          175.0   \n",
       "\n",
       "                                                path  rating  \\\n",
       "0  14th_century;15th_century;16th_century;Pacific...      -1   \n",
       "1  14th_century;Europe;Africa;Atlantic_slave_trad...       3   \n",
       "2  14th_century;Niger;Nigeria;British_Empire;Slav...      -1   \n",
       "3     14th_century;Renaissance;Ancient_Greece;Greece      -1   \n",
       "4  14th_century;Italy;Roman_Catholic_Church;HIV;R...       3   \n",
       "\n",
       "           destination  pathLength  \n",
       "0  African_slave_trade           9  \n",
       "1  African_slave_trade           5  \n",
       "2  African_slave_trade           8  \n",
       "3               Greece           4  \n",
       "4      John_F._Kennedy           7  "
      ]
     },
     "execution_count": 5,
     "metadata": {},
     "output_type": "execute_result"
    }
   ],
   "source": [
    "# Add the length of the paths and the destination\n",
    "paths_graph.insert(0, 'path_id',  paths_graph.index)\n",
    "paths_graph['destination'] = paths_graph['path'].apply(lambda x : str(x).split(';')[-1])\n",
    "paths_graph['pathLength'] = paths_graph['path'].apply(lambda x : len(str(x).split(';')))\n",
    "paths_graph.head()"
   ]
  },
  {
   "cell_type": "markdown",
   "id": "2dec7979",
   "metadata": {},
   "source": [
    "## Edges dataframe \n",
    "\n",
    "We create a second dataframe that carry the all the pages visited during the paths with order and use it to create all edges representing paths that players used during their game.\n",
    "\n",
    "We then create a network with it \n",
    "\n",
    "##### ToDo\n",
    "We still need to handle the '>' sign in the paths "
   ]
  },
  {
   "cell_type": "code",
   "execution_count": 6,
   "id": "83da5065",
   "metadata": {},
   "outputs": [],
   "source": [
    "paths = paths_graph[['path_id', 'path']].copy()\n",
    "paths['path'] = paths['path'].apply(lambda x : str(x).split(';'))\n",
    "paths = paths.explode('path').reset_index().rename(columns={'path': 'page', 'index' : 'page_index_in_path'})\n",
    "paths['page_index_in_path'] = paths.groupby('page_index_in_path').cumcount()\n",
    "paths.head()\n",
    "\n",
    "#Need to handle >\n",
    "start_edges = paths_graph[['path_id', 'path']].copy()\n",
    "start_edges.loc[:,'path'] = start_edges['path'].apply(lambda x : str(x).split(';')[:-1])\n",
    "start_edges = start_edges.explode('path').reset_index().rename(columns={'path': 'start_edge', 'index' : 'page_index_in_path'})\n",
    "\n",
    "end_edges =  paths_graph[['path_id', 'path']].copy()\n",
    "end_edges.loc[:,'path'] = end_edges['path'].apply(lambda x : str(x).split(';')[1:])\n",
    "end_edges = end_edges.explode('path').reset_index().rename(columns={'path': 'end_edge', 'index' : 'page_index_in_path'})\n",
    "\n",
    "edges = pd.concat([start_edges.start_edge, end_edges.end_edge],axis = 1)\n",
    "edges = edges.groupby(['start_edge', 'end_edge']).agg(len).reset_index().rename(columns  = {0 : 'weight'})\n",
    "\n",
    "G=nx.from_pandas_edgelist(edges, 'start_edge', 'end_edge', 'weight')"
   ]
  },
  {
   "cell_type": "markdown",
   "id": "b6fd95cb",
   "metadata": {},
   "source": [
    "Then we can get some statistics on the graph like \n",
    "- find shortest path from two pages \n",
    "- get all the neighbors of a page\n",
    "- etc."
   ]
  },
  {
   "cell_type": "code",
   "execution_count": 7,
   "id": "e80ee1be",
   "metadata": {},
   "outputs": [
    {
     "name": "stdout",
     "output_type": "stream",
     "text": [
      "14th_century\n",
      "<\n",
      "Tennis\n"
     ]
    }
   ],
   "source": [
    "#Get shortest path from two pages \n",
    "for path in nx.shortest_path(G, '14th_century', 'Tennis'):\n",
    "    print(path)"
   ]
  },
  {
   "cell_type": "code",
   "execution_count": 8,
   "id": "7a5fd24e",
   "metadata": {},
   "outputs": [
    {
     "data": {
      "text/plain": [
       "[('India', 303),\n",
       " ('United_States', 241),\n",
       " ('Dance', 161),\n",
       " ('Brazil', 138),\n",
       " ('France', 134),\n",
       " ('United_Kingdom', 121),\n",
       " ('Actor', 106),\n",
       " ('Music', 100),\n",
       " ('Aristotle', 97),\n",
       " ('Paris', 72),\n",
       " ('Stage_%28theatre%29', 70),\n",
       " ('Drama', 64),\n",
       " ('Opera', 62),\n",
       " ('Existentialism', 44),\n",
       " ('Art', 29),\n",
       " ('Lighting_designer', 24),\n",
       " ('Globe_Theatre', 11),\n",
       " ('<', 9),\n",
       " ('Australia', 8),\n",
       " ('House', 8)]"
      ]
     },
     "execution_count": 8,
     "metadata": {},
     "output_type": "execute_result"
    }
   ],
   "source": [
    "def best_neighbor_of(page):\n",
    "    neighbors = [(a, b['weight']) for a,b in dict(G[page]).items()]\n",
    "    neighbors.sort(key= lambda x : x[1], reverse = True)\n",
    "    return neighbors\n",
    "best_neighbor_of('Theatre')[:20]"
   ]
  },
  {
   "cell_type": "code",
   "execution_count": 16,
   "id": "0a83f8dc",
   "metadata": {},
   "outputs": [
    {
     "data": {
      "text/plain": [
       "[('Italy', 76),\n",
       " ('Ancient_Rome', 68),\n",
       " ('Roman_Empire', 54),\n",
       " ('Ancient_Greece', 36),\n",
       " ('<', 29),\n",
       " ('England', 29),\n",
       " ('Capital', 27),\n",
       " ('European_Union', 26),\n",
       " ('Renaissance', 23),\n",
       " ('World_War_II', 22),\n",
       " ('Europe', 20),\n",
       " ('Roman_Catholic_Church', 15),\n",
       " ('Christianity', 15),\n",
       " ('Heracles', 14),\n",
       " ('Temperate', 12),\n",
       " ('Trojan_War', 12),\n",
       " ('Capitoline_Triad', 8),\n",
       " ('Michelangelo', 8),\n",
       " ('Pope', 8),\n",
       " ('Roman_villa', 8)]"
      ]
     },
     "execution_count": 16,
     "metadata": {},
     "output_type": "execute_result"
    }
   ],
   "source": [
    "best_neighbor_of('Rome')[:20]"
   ]
  },
  {
   "cell_type": "markdown",
   "id": "b0ffba99",
   "metadata": {},
   "source": [
    "## Find most visited pages \n",
    "\n",
    "Look at words that appears a lot and could be the general concepts "
   ]
  },
  {
   "cell_type": "code",
   "execution_count": 10,
   "id": "cd1ce646",
   "metadata": {},
   "outputs": [
    {
     "data": {
      "text/plain": [
       "<                 33465\n",
       "United_States     12449\n",
       "Europe             5610\n",
       "United_Kingdom     5328\n",
       "England            4558\n",
       "Name: page, dtype: int64"
      ]
     },
     "execution_count": 10,
     "metadata": {},
     "output_type": "execute_result"
    }
   ],
   "source": [
    "most_general_concepts = paths.page.value_counts()\n",
    "most_general_concepts[:5]"
   ]
  },
  {
   "cell_type": "markdown",
   "id": "721d29c2",
   "metadata": {},
   "source": [
    "## Players statistics \n",
    "\n",
    "We could be interested in what are the best players, if they played a lot and if they get better by playing many games "
   ]
  },
  {
   "cell_type": "code",
   "execution_count": 11,
   "id": "e41abb88",
   "metadata": {},
   "outputs": [
    {
     "name": "stdout",
     "output_type": "stream",
     "text": [
      "path_id                        5857\n",
      "hashedIpAddress    43f864c75b2571b5\n",
      "timestamp                1350587401\n",
      "durationInSec                   0.0\n",
      "path                        Lesotho\n",
      "Name: 5857, dtype: object\n"
     ]
    },
    {
     "data": {
      "text/html": [
       "<div>\n",
       "<style scoped>\n",
       "    .dataframe tbody tr th:only-of-type {\n",
       "        vertical-align: middle;\n",
       "    }\n",
       "\n",
       "    .dataframe tbody tr th {\n",
       "        vertical-align: top;\n",
       "    }\n",
       "\n",
       "    .dataframe thead tr th {\n",
       "        text-align: left;\n",
       "    }\n",
       "\n",
       "    .dataframe thead tr:last-of-type th {\n",
       "        text-align: right;\n",
       "    }\n",
       "</style>\n",
       "<table border=\"1\" class=\"dataframe\">\n",
       "  <thead>\n",
       "    <tr>\n",
       "      <th></th>\n",
       "      <th colspan=\"5\" halign=\"left\">durationInSec</th>\n",
       "    </tr>\n",
       "    <tr>\n",
       "      <th></th>\n",
       "      <th>median</th>\n",
       "      <th>mean</th>\n",
       "      <th>min</th>\n",
       "      <th>max</th>\n",
       "      <th>len</th>\n",
       "    </tr>\n",
       "    <tr>\n",
       "      <th>hashedIpAddress</th>\n",
       "      <th></th>\n",
       "      <th></th>\n",
       "      <th></th>\n",
       "      <th></th>\n",
       "      <th></th>\n",
       "    </tr>\n",
       "  </thead>\n",
       "  <tbody>\n",
       "    <tr>\n",
       "      <th>0d57c8c57d75e2f5</th>\n",
       "      <td>110.0</td>\n",
       "      <td>162.040493</td>\n",
       "      <td>2.0</td>\n",
       "      <td>10670.0</td>\n",
       "      <td>4865</td>\n",
       "    </tr>\n",
       "    <tr>\n",
       "      <th>473d6ac602c2b198</th>\n",
       "      <td>109.0</td>\n",
       "      <td>250.158556</td>\n",
       "      <td>9.0</td>\n",
       "      <td>2829.0</td>\n",
       "      <td>637</td>\n",
       "    </tr>\n",
       "    <tr>\n",
       "      <th>7d5624e35c9523ef</th>\n",
       "      <td>54.0</td>\n",
       "      <td>134.055980</td>\n",
       "      <td>2.0</td>\n",
       "      <td>3861.0</td>\n",
       "      <td>393</td>\n",
       "    </tr>\n",
       "    <tr>\n",
       "      <th>5bb5836b425e6bfe</th>\n",
       "      <td>59.0</td>\n",
       "      <td>221.211039</td>\n",
       "      <td>3.0</td>\n",
       "      <td>2317.0</td>\n",
       "      <td>308</td>\n",
       "    </tr>\n",
       "    <tr>\n",
       "      <th>75bd20c663d02c8f</th>\n",
       "      <td>116.0</td>\n",
       "      <td>354.090909</td>\n",
       "      <td>8.0</td>\n",
       "      <td>4099.0</td>\n",
       "      <td>297</td>\n",
       "    </tr>\n",
       "  </tbody>\n",
       "</table>\n",
       "</div>"
      ],
      "text/plain": [
       "                 durationInSec                                \n",
       "                        median        mean  min      max   len\n",
       "hashedIpAddress                                               \n",
       "0d57c8c57d75e2f5         110.0  162.040493  2.0  10670.0  4865\n",
       "473d6ac602c2b198         109.0  250.158556  9.0   2829.0   637\n",
       "7d5624e35c9523ef          54.0  134.055980  2.0   3861.0   393\n",
       "5bb5836b425e6bfe          59.0  221.211039  3.0   2317.0   308\n",
       "75bd20c663d02c8f         116.0  354.090909  8.0   4099.0   297"
      ]
     },
     "execution_count": 11,
     "metadata": {},
     "output_type": "execute_result"
    }
   ],
   "source": [
    "#Who has the best scores \n",
    "print(paths_graph.iloc[paths_graph.durationInSec.idxmin()].head(5))\n",
    "\n",
    "\n",
    "#And look at stats of the different players \n",
    "stats_by_ip_addr = paths_graph.groupby('hashedIpAddress').agg({'durationInSec' : [np.median, np.mean, min , max ,len]})\n",
    "stats_by_ip_addr = stats_by_ip_addr.sort_values(by = ('durationInSec',    'len'), ascending = False)\n",
    "stats_by_ip_addr.head(5)"
   ]
  },
  {
   "cell_type": "markdown",
   "id": "cb4f1595",
   "metadata": {},
   "source": [
    "We can also look at the distribution of the number of game played by the players which appears to be a power law"
   ]
  },
  {
   "cell_type": "code",
   "execution_count": 12,
   "id": "199f55b4",
   "metadata": {},
   "outputs": [
    {
     "data": {
      "text/plain": [
       "<AxesSubplot:>"
      ]
     },
     "execution_count": 12,
     "metadata": {},
     "output_type": "execute_result"
    },
    {
     "data": {
      "image/png": "[encoded data removed]",
      "text/plain": [
       "<Figure size 432x288 with 1 Axes>"
      ]
     },
     "metadata": {
      "needs_background": "light"
     },
     "output_type": "display_data"
    }
   ],
   "source": [
    "np.log(stats_by_ip_addr[('durationInSec', 'len')]).hist(log = True)"
   ]
  },
  {
   "cell_type": "code",
   "execution_count": 13,
   "id": "f4b13b8a",
   "metadata": {},
   "outputs": [
    {
     "name": "stdout",
     "output_type": "stream",
     "text": [
      "There are 0.374078 of the instances of the game than were rated\n"
     ]
    },
    {
     "name": "stderr",
     "output_type": "stream",
     "text": [
      "C:\\Users\\mathi\\anaconda3\\lib\\site-packages\\seaborn\\_decorators.py:36: FutureWarning: Pass the following variables as keyword args: x, y. From version 0.12, the only valid positional argument will be `data`, and passing other arguments without an explicit keyword will result in an error or misinterpretation.\n",
      "  warnings.warn(\n"
     ]
    },
    {
     "data": {
      "text/plain": [
       "<seaborn.axisgrid.JointGrid at 0x2246a5ce3d0>"
      ]
     },
     "execution_count": 13,
     "metadata": {},
     "output_type": "execute_result"
    },
    {
     "data": {
      "image/png": "[encoded data removed]",
      "text/plain": [
       "<Figure size 432x288 with 1 Axes>"
      ]
     },
     "metadata": {
      "needs_background": "light"
     },
     "output_type": "display_data"
    },
    {
     "data": {
      "image/png": "[encoded data removed]",
      "text/plain": [
       "<Figure size 432x288 with 1 Axes>"
      ]
     },
     "metadata": {
      "needs_background": "light"
     },
     "output_type": "display_data"
    },
    {
     "data": {
      "image/png": "[encoded data removed]",
      "text/plain": [
       "<Figure size 432x432 with 3 Axes>"
      ]
     },
     "metadata": {
      "needs_background": "light"
     },
     "output_type": "display_data"
    }
   ],
   "source": [
    "interesting_rating = paths_graph[(paths_graph['durationInSec']< 600) & (paths_graph['rating']>0)].copy()\n",
    "rating_percentage = len(paths_graph[paths_graph['rating']>0])/len(paths_graph)\n",
    "print(f\"There are %f of the instances of the game than were rated\"%(rating_percentage))\n",
    "interesting_rating.rating.hist()\n",
    "interesting_rating.plot.scatter('durationInSec', 'rating')\n",
    "sns.jointplot(interesting_rating.durationInSec, interesting_rating.rating, kind=\"hex\")"
   ]
  },
  {
   "cell_type": "code",
   "execution_count": 14,
   "id": "583081c6",
   "metadata": {},
   "outputs": [
    {
     "data": {
      "text/plain": [
       "<AxesSubplot:>"
      ]
     },
     "execution_count": 14,
     "metadata": {},
     "output_type": "execute_result"
    },
    {
     "data": {
      "image/png": "[encoded data removed]",
      "text/plain": [
       "<Figure size 432x288 with 1 Axes>"
      ]
     },
     "metadata": {
      "needs_background": "light"
     },
     "output_type": "display_data"
    }
   ],
   "source": [
    "\n",
    "paths_graph[paths_graph['rating']==1].pathLength.hist(log = True)\n",
    "\n",
    "paths_graph[paths_graph['rating']==5].pathLength.hist(log = True)"
   ]
  },
  {
   "cell_type": "code",
   "execution_count": 15,
   "id": "49170311",
   "metadata": {},
   "outputs": [
    {
     "data": {
      "text/plain": [
       "13       14th_century;Renaissance;Empiricism;Nature;Wea...\n",
       "41       14th_century;Europe;<;England;<;Christianity;A...\n",
       "62       2005_Atlantic_hurricane_season;Europe;Liechten...\n",
       "73       Aberdeen;Europe;Romania;Football_%28soccer%29;...\n",
       "88       Acceleration;Sea;Hudson_Bay;Atlantic_Ocean;Cod...\n",
       "                               ...                        \n",
       "51152    Llandudno;United_Kingdom;Opera;Porgy_and_Bess;...\n",
       "51249    StarCraft;South_Korea;United_States;Agricultur...\n",
       "51250    StarCraft;South_Korea;United_States;Rocky_Moun...\n",
       "51251    StarCraft;Internet;North_America;United_States...\n",
       "51310    Women%27s_rights;Property;Clothing;Weather;Autumn\n",
       "Name: path, Length: 1158, dtype: object"
      ]
     },
     "execution_count": 15,
     "metadata": {},
     "output_type": "execute_result"
    }
   ],
   "source": [
    "paths_graph[paths_graph['rating']==5].path"
   ]
  },
  {
   "cell_type": "code",
   "execution_count": null,
   "id": "6d8cf95d",
   "metadata": {},
   "outputs": [],
   "source": []
  }
 ],
 "metadata": {
  "kernelspec": {
   "display_name": "Python 3 (ipykernel)",
   "language": "python",
   "name": "python3"
  },
  "language_info": {
   "codemirror_mode": {
    "name": "ipython",
    "version": 3
   },
   "file_extension": ".py",
   "mimetype": "text/x-python",
   "name": "python",
   "nbconvert_exporter": "python",
   "pygments_lexer": "ipython3",
   "version": "3.9.7"
  }
 },
 "nbformat": 4,
 "nbformat_minor": 5
}
