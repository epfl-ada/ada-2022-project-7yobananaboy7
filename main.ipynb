{
 "cells": [
  {
   "cell_type": "code",
   "execution_count": 4,
   "id": "6b36102d-49b1-4a0d-acce-52b7da668944",
   "metadata": {},
   "outputs": [],
   "source": [
    "#Import libraries\n",
    "import pandas as pd\n",
    "import numpy as np\n",
    "import matplotlib.pyplot as plt\n",
    "import seaborn as sns\n",
    "import networkx as nx\n",
    "import re\n",
    "\n",
    "import urllib\n",
    "\n",
    "from scipy import stats"
   ]
  },
  {
   "cell_type": "markdown",
   "id": "d8c1b485-13ae-4bce-8cf4-e69b0422fada",
   "metadata": {
    "tags": []
   },
   "source": [
    "</div>\n",
    "<div class=\"1. Header\" style='background-color:#08135c; border-left: solid #darkblue 4px; border-radius: 4px; padding:0.7em;'>\n",
    "    <span style=\"color:white;\">\n",
    "       <h2>1. Data</h2>\n",
    "        <h4>In this first section we import and rearrange the data.</h4>\n",
    "    </span>\n",
    "</div>\n",
    "</div>"
   ]
  },
  {
   "cell_type": "markdown",
   "id": "15bbd125-8a39-4523-af42-8f4351fb9677",
   "metadata": {
    "tags": []
   },
   "source": [
    "</div>\n",
    "<div class=\"1.1 Header\" style='background-color:#08135c; border-left: solid #darkblue 4px; border-radius: 4px; padding:0.7em;'>\n",
    "    <span style=\"color:white\">\n",
    "       <h3>1.1 Data acquisition</h3>\n",
    "    </span>\n",
    "</div>\n",
    "</div>\n",
    "<div class=\"1.1 explanation\" style='background-color:#faefe1; border-left: solid #darkblue 4px; border-radius: 4px; padding:0.7em;'>\n",
    "    <span style=\"color:black\">\n",
    "        Here we load the relevant data using the <span style=\"font-family: monospace; background-color:#fadfb9; padding-left:4px; padding-right:4px; border-radius: 5px;\">pd.read_csv()</span> method. The data we are dealing with follows a relational model. The specific navigation paths can be represented as graphs where the nodes concern the wikipedia pages that are connected through (directional) edges representing the hyperlinks.\n",
    "    </span>\n",
    "</div>"
   ]
  },
  {
   "cell_type": "code",
   "execution_count": 5,
   "id": "2cf61ee5-d38f-4f91-a2f4-e9fcd9ba9302",
   "metadata": {},
   "outputs": [],
   "source": [
    "#Import relevant DataFrames\n",
    "\n",
    "#Articles data\n",
    "articles = pd.read_csv(\"data/articles.tsv\", skiprows=11, names=[\"article\"])\n",
    "articles['article'] = articles['article'].apply(urllib.parse.unquote) #Parsing URL encoding\n",
    "\n",
    "#Category data\n",
    "categories = pd.read_csv(\"data/categories.tsv\", sep=\"\\t\", skiprows=12, names=[\"article\", \"category\"])\n",
    "categories[\"article\"] = categories[\"article\"].apply(urllib.parse.unquote) #Parsing URL encoding\n",
    "\n",
    "#Links data\n",
    "links = pd.read_csv(\"data/links.tsv\", sep=\"\\t\", skiprows=11, names=[\"article\", \"link\"])\n",
    "links[\"article\"] = links[\"article\"].apply(urllib.parse.unquote) #Parsing URL encoding\n",
    "links[\"link\"] = links[\"link\"].apply(urllib.parse.unquote) #Parsing URL encoding\n",
    "\n",
    "#Finished paths\n",
    "paths_finished = pd.read_csv(\"data/paths_finished.tsv\", sep=\"\\t\", skiprows=15, names=[\"hashedIpAddress\",\n",
    "                                                                                      \"timestamp\",\n",
    "                                                                                      \"durationInSec\",\n",
    "                                                                                      \"path\",\n",
    "                                                                                      \"rating\"])\n",
    "paths_finished[\"path\"] = paths_finished[\"path\"].apply(urllib.parse.unquote) #Parsing URL encoding\n",
    "\n",
    "#Unfinished paths\n",
    "paths_unfinished = pd.read_csv(\"data/paths_unfinished.tsv\", sep=\"\\t\", skiprows=16, names=[\"hashedIpAddress\",\n",
    "                                                                                          \"timestamp\",\n",
    "                                                                                          \"durationInSec\",\n",
    "                                                                                          \"path\",\n",
    "                                                                                          \"target\",\n",
    "                                                                                          \"type\"])\n",
    "paths_unfinished[\"path\"] = paths_unfinished[\"path\"].apply(urllib.parse.unquote) #Parsing URL encoding\n",
    "paths_unfinished[\"target\"] = paths_unfinished[\"target\"].apply(urllib.parse.unquote) #Parsing URL encoding\n",
    "\n",
    "# Add the length of the paths\n",
    "paths_unfinished['pathLength'] = paths_unfinished['path'].apply(lambda x : len(str(x).split(';')))\n",
    "paths_finished['pathLength'] = paths_finished['path'].apply(lambda x : len(str(x).split(';')))\n",
    "\n",
    "#shortest path matrix\n",
    "with open('data/shortest-path-distance-matrix.txt', 'r') as file:\n",
    "    \n",
    "    #Initialize shortest_path_distance list\n",
    "    shortest_path_distance = []\n",
    "    \n",
    "    for line in file:\n",
    "        \n",
    "        #Check if the first character of the line is either a digit or underscore\n",
    "        if re.search(\"([0-9]|_)\", line[0]): \n",
    "            \n",
    "            #Append list to shortest_path_distance\n",
    "            shortest_path_distance.append([np.nan if x=='_' else int(x) for x in line.strip()])\n",
    "    \n",
    "#Convert to numpy ndarray\n",
    "shortest_path_distance = np.array(shortest_path_distance)    \n",
    "    \n"
   ]
  },
  {
   "cell_type": "markdown",
   "id": "5840641c-9872-45b8-a85f-a2ab0175f6b7",
   "metadata": {},
   "source": [
    "</div>\n",
    "<div class=\"1.2 Header\" style='background-color:#08135c; border-left: solid #darkblue 4px; border-radius: 4px; padding:0.7em;'>\n",
    "    <span style=\"color:white\">\n",
    "       <h3>1.2 Data concatenation</h3>\n",
    "    </span>\n",
    "</div>\n",
    "</div>\n",
    "<div class=\"1.1 explanation\" style='background-color:#faefe1; border-left: solid #darkblue 4px; border-radius: 4px; padding:0.7em;'>\n",
    "    <span style=\"color:black\">\n",
    "        We want to merge both the <span style=\"font-family: monospace; background-color:#fadfb9; padding-left:4px; padding-right:4px; border-radius: 5px;\">paths_finished</span> and <span style=\"font-family: monospace; background-color:#fadfb9; padding-left:4px; padding-right:4px; border-radius: 5px;\">paths_unfinished</span> DataFrame. This make the analysis more convenient when comparing both types. More specifically we add the <span style=\"font-family: monospace; background-color:#fadfb9; padding-left:4px; padding-right:4px; border-radius: 5px;\">target</span> column to and drop the <span style=\"font-family: monospace; background-color:#fadfb9; padding-left:4px; padding-right:4px; border-radius: 5px;\">rating </span> column of <span style=\"font-family: monospace; background-color:#fadfb9; padding-left:4px; padding-right:4px; border-radius: 5px;\">paths_finished</span>. We can then concatenate the respective DataFrames together. \n",
    "</div>"
   ]
  },
  {
   "cell_type": "code",
   "execution_count": 6,
   "id": "e8a59fca",
   "metadata": {},
   "outputs": [
    {
     "data": {
      "text/html": [
       "<div>\n",
       "<style scoped>\n",
       "    .dataframe tbody tr th:only-of-type {\n",
       "        vertical-align: middle;\n",
       "    }\n",
       "\n",
       "    .dataframe tbody tr th {\n",
       "        vertical-align: top;\n",
       "    }\n",
       "\n",
       "    .dataframe thead th {\n",
       "        text-align: right;\n",
       "    }\n",
       "</style>\n",
       "<table border=\"1\" class=\"dataframe\">\n",
       "  <thead>\n",
       "    <tr style=\"text-align: right;\">\n",
       "      <th></th>\n",
       "      <th>hashedIpAddress</th>\n",
       "      <th>timestamp</th>\n",
       "      <th>durationInSec</th>\n",
       "      <th>path</th>\n",
       "      <th>pathLength</th>\n",
       "      <th>target</th>\n",
       "      <th>type</th>\n",
       "    </tr>\n",
       "  </thead>\n",
       "  <tbody>\n",
       "    <tr>\n",
       "      <th>0</th>\n",
       "      <td>6a3701d319fc3754</td>\n",
       "      <td>1297740409</td>\n",
       "      <td>166</td>\n",
       "      <td>14th_century;15th_century;16th_century;Pacific...</td>\n",
       "      <td>9</td>\n",
       "      <td>African_slave_trade</td>\n",
       "      <td>finished</td>\n",
       "    </tr>\n",
       "    <tr>\n",
       "      <th>1</th>\n",
       "      <td>3824310e536af032</td>\n",
       "      <td>1344753412</td>\n",
       "      <td>88</td>\n",
       "      <td>14th_century;Europe;Africa;Atlantic_slave_trad...</td>\n",
       "      <td>5</td>\n",
       "      <td>African_slave_trade</td>\n",
       "      <td>finished</td>\n",
       "    </tr>\n",
       "    <tr>\n",
       "      <th>2</th>\n",
       "      <td>415612e93584d30e</td>\n",
       "      <td>1349298640</td>\n",
       "      <td>138</td>\n",
       "      <td>14th_century;Niger;Nigeria;British_Empire;Slav...</td>\n",
       "      <td>8</td>\n",
       "      <td>African_slave_trade</td>\n",
       "      <td>finished</td>\n",
       "    </tr>\n",
       "    <tr>\n",
       "      <th>3</th>\n",
       "      <td>64dd5cd342e3780c</td>\n",
       "      <td>1265613925</td>\n",
       "      <td>37</td>\n",
       "      <td>14th_century;Renaissance;Ancient_Greece;Greece</td>\n",
       "      <td>4</td>\n",
       "      <td>Greece</td>\n",
       "      <td>finished</td>\n",
       "    </tr>\n",
       "  </tbody>\n",
       "</table>\n",
       "</div>"
      ],
      "text/plain": [
       "    hashedIpAddress   timestamp  durationInSec  \\\n",
       "0  6a3701d319fc3754  1297740409            166   \n",
       "1  3824310e536af032  1344753412             88   \n",
       "2  415612e93584d30e  1349298640            138   \n",
       "3  64dd5cd342e3780c  1265613925             37   \n",
       "\n",
       "                                                path  pathLength  \\\n",
       "0  14th_century;15th_century;16th_century;Pacific...           9   \n",
       "1  14th_century;Europe;Africa;Atlantic_slave_trad...           5   \n",
       "2  14th_century;Niger;Nigeria;British_Empire;Slav...           8   \n",
       "3     14th_century;Renaissance;Ancient_Greece;Greece           4   \n",
       "\n",
       "                target      type  \n",
       "0  African_slave_trade  finished  \n",
       "1  African_slave_trade  finished  \n",
       "2  African_slave_trade  finished  \n",
       "3               Greece  finished  "
      ]
     },
     "execution_count": 6,
     "metadata": {},
     "output_type": "execute_result"
    }
   ],
   "source": [
    "#Merge all the paths \n",
    "paths_finished['target'] = paths_finished['path'].apply(lambda x : str(x).split(';')[-1])\n",
    "\n",
    "#Add and remove (ir)relevant colums.\n",
    "paths_finished_ = paths_finished.copy()\n",
    "paths_unfinished_ = paths_unfinished.copy()\n",
    "paths_finished_['type'] = 'finished'\n",
    "paths_finished_ = paths_finished_.drop('rating',axis =1)\n",
    "\n",
    "#concatenate data\n",
    "paths_all = pd.concat([paths_finished_, paths_unfinished_]) \n",
    "\n",
    "#print head of resulting DataFrame\n",
    "paths_all.head(4)"
   ]
  },
  {
   "cell_type": "markdown",
   "id": "272327b2",
   "metadata": {},
   "source": [
    "</div>\n",
    "<div class=\"2. Header\" style='background-color:#08135c; border-left: solid #darkblue 4px; border-radius: 4px; padding:0.7em;'>\n",
    "    <span style=\"color:white;\">\n",
    "       <h2>2. Article exploration</h2>\n",
    "        <h4>In this section we conduct a first data exploration. We will focus on the features of the individual articles solely.</h4>\n",
    "    </span>\n",
    "</div>\n",
    "</div>"
   ]
  },
  {
   "cell_type": "markdown",
   "id": "e8589f17-1482-456e-9c3d-63b08d4f9dc1",
   "metadata": {},
   "source": [
    "</div>\n",
    "<div class=\"2.1 Header\" style='background-color:#08135c; border-left: solid #darkblue 4px; border-radius: 4px; padding:0.7em;'>\n",
    "    <span style=\"color:white\">\n",
    "       <h3>2.1 Category distribution</h3>\n",
    "    </span>\n",
    "</div>\n",
    "</div>\n",
    "<div class=\"2.1 explanation\" style='background-color:#faefe1; border-left: solid #darkblue 4px; border-radius: 4px; padding:0.7em;'>\n",
    "    <span style=\"color:black\">\n",
    "        We start by investigating the category distribution among the wikipedia articles. This way we try to see if there are some specific categories that are dominantly represented among the wikipedia articles.\n",
    "    </span>\n",
    "</div>"
   ]
  },
  {
   "cell_type": "code",
   "execution_count": 7,
   "id": "6b9f1e68-6522-4272-ac26-efb6f2d8eaee",
   "metadata": {},
   "outputs": [
    {
     "name": "stdout",
     "output_type": "stream",
     "text": [
      "Number of articles\t: 4604\n",
      "Number of categories\t: 129\n",
      "\n",
      "TOP 3:\n",
      "CATEGORY                                      COUNT\n",
      "subject.Countries                            : 229\n",
      "subject.Science.Biology.Birds                : 161\n",
      "subject.Geography.Geography_of_Great_Britain : 124\n",
      "\n",
      "\n"
     ]
    },
    {
     "data": {
      "image/png": "[encoded data removed]",
      "text/plain": [
       "<Figure size 432x288 with 1 Axes>"
      ]
     },
     "metadata": {
      "needs_background": "light"
     },
     "output_type": "display_data"
    }
   ],
   "source": [
    "#Get number of articles and number of unique categories\n",
    "nb_articles = len(articles)\n",
    "nb_categories = len(categories['category'].unique())\n",
    "\n",
    "#Find number of articles per category\n",
    "categories_grouped = categories.groupby('category').count().add_suffix('_count')\n",
    "categories_grouped = categories_grouped.sort_values('article_count', ascending=False) #Sort by count in descending order\n",
    "\n",
    "#Print statistics\n",
    "print('Number of articles\\t: {}'.format(nb_articles))\n",
    "print('Number of categories\\t: {}\\n'.format(nb_categories))\n",
    "print('TOP 3:')\n",
    "print(\"{:<45} {}\".format('CATEGORY', 'COUNT'))\n",
    "for index, row in categories_grouped.head(3).iterrows():\n",
    "    print(\"{:<45}: {}\".format(index, row['article_count']))\n",
    "print(\"\\n\")\n",
    "\n",
    "#Plot category distrubution (sorted)\n",
    "g = categories_grouped.plot(y='article_count', kind='bar', legend=False, width=1, edgecolor=(1,1,1))\n",
    "g.set(ylabel='count')\n",
    "g.set(xlabel='categories (sorted)')\n",
    "g.set(xticklabels=[]);\n",
    "g.tick_params(bottom=False);\n",
    "g.spines['right'].set_visible(False)\n",
    "g.spines['top'].set_visible(False)\n"
   ]
  },
  {
   "cell_type": "markdown",
   "id": "f1f3b8f4-63fc-4440-89ba-31b407a53452",
   "metadata": {},
   "source": [
    "</div>\n",
    "<div class=\"2.2 Header\" style='background-color:#08135c; border-left: solid #darkblue 4px; border-radius: 4px; padding:0.7em;'>\n",
    "    <span style=\"color:white\">\n",
    "       <h3>2.2 Link distribution</h3>\n",
    "    </span>\n",
    "</div>\n",
    "</div>\n",
    "</div>\n",
    "<div class=\"1.1 explanation\" style='background-color:#faefe1; border-left: solid #darkblue 4px; border-radius: 4px; padding:0.7em;'>\n",
    "    <span style=\"color:black\">\n",
    "        Now we will look at the distribution of the number of links per article. Here we aim to measure the degree of the nodes (i.e. the number of outgoing edges for every article). Finding articles with a high degree could potentially identify so-called <em>\"get away to hubs\"</em> as described in <a href=\"http://infolab.stanford.edu/~west1/pubs/West-Pineau-Precup_IJCAI-09.pdf\">Wikispeedia: An Online Game for Inferring Semantic Distances between Concepts</a>.\n",
    "    </span>\n",
    "</div>"
   ]
  },
  {
   "cell_type": "code",
   "execution_count": 8,
   "id": "f8eac2c1-5b9d-469a-b166-fd6245d51adb",
   "metadata": {},
   "outputs": [
    {
     "name": "stdout",
     "output_type": "stream",
     "text": [
      "Number of links\t: 119882\n",
      "\n",
      "TOP 3:\n",
      "ARTICLE                                       COUNT\n",
      "United_States                                : 294\n",
      "Driving_on_the_left_or_right                 : 255\n",
      "List_of_countries                            : 244\n",
      "\n",
      "\n"
     ]
    },
    {
     "data": {
      "image/png": "[encoded data removed]",
      "text/plain": [
       "<Figure size 1008x288 with 2 Axes>"
      ]
     },
     "metadata": {
      "needs_background": "light"
     },
     "output_type": "display_data"
    }
   ],
   "source": [
    "#Get total number of links\n",
    "nb_links = len(links)\n",
    "\n",
    "#Get the number of links per article\n",
    "links_grouped = links.groupby('article').count().add_suffix('_count')\n",
    "links_grouped = links_grouped.sort_values('link_count', ascending=False) #Sort by count in descending order\n",
    "\n",
    "#Print statistics\n",
    "print('Number of links\\t: {}\\n'.format(nb_links))\n",
    "\n",
    "print('TOP 3:')\n",
    "print(\"{:<45} {}\".format('ARTICLE', 'COUNT'))\n",
    "for index, row in links_grouped.head(3).iterrows():\n",
    "    print(\"{:<45}: {}\".format(index, row['link_count']))\n",
    "print(\"\\n\")\n",
    "\n",
    "    \n",
    "#Plot category distrubution (sorted)\n",
    "fig, ax = plt.subplots(1,2, figsize=(14,4));\n",
    "ax = ax.ravel()\n",
    "\n",
    "g1 = links_grouped.plot(y='link_count', kind='hist', legend=False, edgecolor=(1,1,1), ax=ax[0])\n",
    "g1.set(title=\"Link distribution\")\n",
    "g1.set(ylabel='count')\n",
    "g1.set(xlabel='number of links')\n",
    "g1.tick_params(bottom=False);\n",
    "g1.spines['right'].set_visible(False)\n",
    "g1.spines['top'].set_visible(False)\n",
    "\n",
    "g2 = np.log10(links_grouped['link_count']).plot(kind='hist', legend=False, edgecolor=(1,1,1), ax=ax[1], log=True)\n",
    "g2.set(title=\"Link distribution (log-log)\")\n",
    "g2.set(ylabel='count')\n",
    "g2.set(xlabel='number of links (log-scale)')\n",
    "g2.tick_params(bottom=False);\n",
    "g2.spines['right'].set_visible(False)\n",
    "g2.spines['top'].set_visible(False)\n",
    "ax[1].text(0.85, 0.94, s='The distribution does not\\nfollow a power law', fontsize=8, transform=ax[1].transAxes, bbox=dict(boxstyle='round', facecolor=(31/255, 119/255, 180/255, 0.5), edgecolor='k'));\n"
   ]
  },
  {
   "cell_type": "markdown",
   "id": "5f5eee70-f4d5-4d94-b7fe-417c9836a28c",
   "metadata": {},
   "source": [
    "</div>\n",
    "<div class=\"2.3 Header\" style='background-color:#08135c; border-left: solid #darkblue 4px; border-radius: 4px; padding:0.7em;'>\n",
    "    <span style=\"color:white\">\n",
    "       <h3>2.3 Shortest distance matrix</h3>\n",
    "    </span>\n",
    "</div>\n",
    "</div>\n",
    "</div>\n",
    "<div class=\"1.1 explanation\" style='background-color:#faefe1; border-left: solid #darkblue 4px; border-radius: 4px; padding:0.7em;'>\n",
    "    <span style=\"color:black\">\n",
    "        Quick visualization of the short distance matrix. Vertical orange lines represent target articles that cannot be reached by any other source article. Horizontal orange lines represent source articles that are only able to reach a small fraction of other articles.\n",
    "    </span>\n",
    "</div>"
   ]
  },
  {
   "cell_type": "code",
   "execution_count": 9,
   "id": "c4966903-8c49-4ecb-9af6-6dda0e340370",
   "metadata": {},
   "outputs": [
    {
     "data": {
      "image/png": "[encoded data removed]",
      "text/plain": [
       "<Figure size 432x288 with 2 Axes>"
      ]
     },
     "metadata": {
      "needs_background": "light"
     },
     "output_type": "display_data"
    }
   ],
   "source": [
    "g = sns.heatmap(shortest_path_distance, xticklabels=False, yticklabels=False, linewidths=0, cmap='Blues');\n",
    "g.set_facecolor('#f79d6f');\n",
    "g.set(ylabel='source article');\n",
    "g.set(xlabel='target article');"
   ]
  },
  {
   "cell_type": "markdown",
   "id": "837db0dd-67eb-44b9-8439-fb5bcd4cf4ba",
   "metadata": {},
   "source": [
    "</div>\n",
    "<div class=\"3. Header\" style='background-color:#08135c; border-left: solid #darkblue 4px; border-radius: 4px; padding:0.7em;'>\n",
    "    <span style=\"color:white;\">\n",
    "       <h2>3. Navigation paths</h2>\n",
    "        <h4>We will now start to dig more into the navigation paths</h4>\n",
    "    </span>\n",
    "</div>\n",
    "</div>"
   ]
  },
  {
   "cell_type": "markdown",
   "id": "70be3e78-b0ee-4ce9-8d7a-280484e2be48",
   "metadata": {},
   "source": [
    "</div>\n",
    "<div class=\"3.1 Header\" style='background-color:#08135c; border-left: solid #darkblue 4px; border-radius: 4px; padding:0.7em;'>\n",
    "    <span style=\"color:white\">\n",
    "       <h3>3.1 Duration of navigation paths</h3>\n",
    "    </span>\n",
    "</div>\n",
    "</div>\n",
    "</div>\n",
    "<div class=\"3.1 explanation\" style='background-color:#faefe1; border-left: solid #darkblue 4px; border-radius: 4px; padding:0.7em;'>\n",
    "    <span style=\"color:black\">\n",
    "        We will investigate the differences of the time between <span style=\"font-family: monospace; background-color:#fadfb9; padding-left:4px; padding-right:4px; border-radius: 5px;\">paths_unfinished</span> (differentiation between timeout and restart) and <span style=\"font-family: monospace; background-color:#fadfb9; padding-left:4px; padding-right:4px; border-radius: 5px;\">paths_finished</span>.\n",
    "    </span>\n",
    "</div>"
   ]
  },
  {
   "cell_type": "code",
   "execution_count": 10,
   "id": "dcdb72b0-1670-41d8-9ef7-689dac68c96c",
   "metadata": {},
   "outputs": [],
   "source": [
    "#Bootstrap function\n",
    "def bootstrap_CI(data, nbr_draws, with_means = False):\n",
    "    means = np.zeros(nbr_draws)\n",
    "    data = np.array(data)\n",
    "\n",
    "    for n in range(nbr_draws):\n",
    "        indices = np.random.randint(0, len(data), len(data))\n",
    "        data_tmp = data[indices] \n",
    "        means[n] = np.nanmean(data_tmp)\n",
    "    if with_means :\n",
    "        return [np.nanpercentile(means, 2.5),np.nanpercentile(means, 97.5)], means\n",
    "    else : \n",
    "        return [np.nanpercentile(means, 2.5),np.nanpercentile(means, 97.5)]\n",
    "    "
   ]
  },
  {
   "cell_type": "markdown",
   "id": "92f7b449-e9b9-436a-9afd-f1aa2cdf3228",
   "metadata": {},
   "source": [
    "</div>\n",
    "<div class=\"3.1 explanation\" style='background-color:#faefe1; border-left: solid #darkblue 4px; border-radius: 4px; padding:0.7em;'>\n",
    "    <span style=\"color:black\">\n",
    "        Split <span style=\"font-family: monospace; background-color:#fadfb9; padding-left:4px; padding-right:4px; border-radius: 5px;\">paths_unfinished</span> in <span style=\"font-family: monospace; background-color:#fadfb9; padding-left:4px; padding-right:4px; border-radius: 5px;\">timeout</span> and <span style=\"font-family: monospace; background-color:#fadfb9; padding-left:4px; padding-right:4px; border-radius: 5px;\">restart</span>  \n",
    "    </span>\n",
    "</div>"
   ]
  },
  {
   "cell_type": "code",
   "execution_count": 11,
   "id": "0f06a875-05b3-455f-a251-00a21835644e",
   "metadata": {},
   "outputs": [
    {
     "name": "stdout",
     "output_type": "stream",
     "text": [
      "number of unfinished paths (timeout)\t: 9323\n",
      "number of unfinished paths (restart)\t: 15552\n",
      "TOTAL\t\t\t\t\t: 24875\n"
     ]
    }
   ],
   "source": [
    "#split the unfinished paths in timeout and restart\n",
    "unfinished_timeout = paths_unfinished[paths_unfinished['type'] == 'timeout']\n",
    "unfinished_restart = paths_unfinished[paths_unfinished['type'] == 'restart']\n",
    "print('number of unfinished paths (timeout)\\t: {}'.format(len(unfinished_timeout)))\n",
    "print('number of unfinished paths (restart)\\t: {}'.format(len(unfinished_restart)))\n",
    "print('TOTAL\\t\\t\\t\\t\\t: {}'.format(len(paths_unfinished)))"
   ]
  },
  {
   "cell_type": "markdown",
   "id": "74b0e5f3-d774-4bcf-8084-c7fdaaf11a7f",
   "metadata": {},
   "source": [
    "</div>\n",
    "<div class=\"3.1 explanation\" style='background-color:#faefe1; border-left: solid #darkblue 4px; border-radius: 4px; padding:0.7em;'>\n",
    "    <span style=\"color:black\">\n",
    "        Now visualize the distrubution of time spent using boxplots and histograms. It seems like finished path has a longer tail (maybe these users show more perserverance, why would that be?)\n",
    "    </span>\n",
    "</div>"
   ]
  },
  {
   "cell_type": "code",
   "execution_count": 12,
   "id": "c774043d-e443-4265-9b26-b727e04f9f68",
   "metadata": {},
   "outputs": [
    {
     "data": {
      "image/png": "[encoded data removed]",
      "text/plain": [
       "<Figure size 1008x288 with 3 Axes>"
      ]
     },
     "metadata": {
      "needs_background": "light"
     },
     "output_type": "display_data"
    }
   ],
   "source": [
    "fig = plt.figure(figsize=(14,4))\n",
    "fig.suptitle('Duration navigation paths')\n",
    "ax = plt.subplot(1,2,1)\n",
    "flierprops = {'marker': '.', 'markersize': 4, 'markerfacecolor': 'k'}\n",
    "boxprops= {'facecolor': (31/255, 119/255, 180/255, 0.5), 'color': 'k'}\n",
    "medianprops = {'color': (31/255, 119/255, 180/255)}\n",
    "ax.boxplot([unfinished_timeout['durationInSec'], unfinished_restart['durationInSec'], paths_finished['durationInSec']], patch_artist=True, flierprops=flierprops, boxprops=boxprops, medianprops=medianprops, labels=['timeout', 'restart', 'finished']);\n",
    "ax.set_yscale('log')\n",
    "ax.set_ylabel('duration (s) (log-scale)')\n",
    "ax.spines['right'].set_visible(False)\n",
    "ax.spines['top'].set_visible(False)\n",
    "\n",
    "\n",
    "ax = plt.subplot(2,2,4)\n",
    "paths_finished.plot(y='durationInSec', kind='hist', legend=False, edgecolor=(0,0,0, 0.5), bins=40, ax=ax, log=True, color=(235/255, 184/255, 164/255, 0.5), label=\"finished\")\n",
    "ax.legend();\n",
    "ax.set_xlabel('duration (s)')\n",
    "xlim = ax.get_xlim();\n",
    "\n",
    "ax = plt.subplot(2,2,2)\n",
    "unfinished_timeout.plot(y='durationInSec', kind='hist', legend=False, edgecolor=(0,0,0, 0.5), ax=ax, log=True, color=(31/255, 119/255, 180/255, 0.5), label=\"timeout\")\n",
    "unfinished_restart.plot(y='durationInSec', kind='hist', legend=False, edgecolor=(0,0,0, 0.5), ax=ax, log=True, color=(120/255, 194/255, 139/255, 0.5), label=\"restart\")\n",
    "ax.legend();\n",
    "ax.set_xlim(xlim);"
   ]
  },
  {
   "cell_type": "markdown",
   "id": "61b02447-23c0-4646-b02b-fbf4cdec2213",
   "metadata": {},
   "source": [
    "</div>\n",
    "<div class=\"3.1 explanation\" style='background-color:#faefe1; border-left: solid #darkblue 4px; border-radius: 4px; padding:0.7em;'>\n",
    "    <span style=\"color:black\">\n",
    "        Let's zoom in now on the <span style=\"font-family: monospace; background-color:#fadfb9; padding-left:4px; padding-right:4px; border-radius: 5px;\">timeout</span>. We hypothesize that a player's idle period is included in the time that is spend. Hence we want to remove this from our data. As we are only interesting in activate attempts, we want to cut outliers and subtract the potential idle period for <span style=\"font-family: monospace; background-color:#fadfb9; padding-left:4px; padding-right:4px; border-radius: 5px;\">timeout</span>. In the code below we first get rid of the outliers.\n",
    "    </span>\n",
    "</div>"
   ]
  },
  {
   "cell_type": "code",
   "execution_count": 13,
   "id": "eef4b4e7-6182-47d7-90d1-684c6da5057f",
   "metadata": {},
   "outputs": [],
   "source": [
    "# Cutting outliers\n",
    "range_outlier = 1.5\n",
    "Q1 = unfinished_timeout['durationInSec'].quantile(0.25)\n",
    "Q3 = unfinished_timeout['durationInSec'].quantile(0.75)\n",
    "IQR = Q3 - Q1\n",
    "lower_value = unfinished_timeout['durationInSec'].median() - IQR*range_outlier\n",
    "upper_value = unfinished_timeout['durationInSec'].median() + IQR*range_outlier\n",
    "\n",
    "\n",
    "unfinished_timeout_cut = unfinished_timeout[unfinished_timeout['durationInSec']>=lower_value]\n",
    "unfinished_timeout_cut = unfinished_timeout_cut[unfinished_timeout_cut['durationInSec']<=upper_value]\n"
   ]
  },
  {
   "cell_type": "markdown",
   "id": "98a3ebb1-1549-478c-993b-4109715928c6",
   "metadata": {},
   "source": [
    "</div>\n",
    "<div class=\"3.1 explanation\" style='background-color:#faefe1; border-left: solid #darkblue 4px; border-radius: 4px; padding:0.7em;'>\n",
    "    <span style=\"color:black\">\n",
    "        We can make a guess of the duration of the idle period by substracting the minimum duration of the unfinished paths that resulted in <span style=\"font-family: monospace; background-color:#fadfb9; padding-left:4px; padding-right:4px; border-radius: 5px;\">timeout</span>.\n",
    "    </span>\n",
    "</div>"
   ]
  },
  {
   "cell_type": "code",
   "execution_count": 14,
   "id": "b304b9ec-03b7-40a8-9ff1-bab43b50c59d",
   "metadata": {},
   "outputs": [],
   "source": [
    "#change values of timeout by the minimum timestamp\n",
    "unfinished_timeout_cut['durationInSec'] = unfinished_timeout_cut['durationInSec']-unfinished_timeout_cut['durationInSec'].min()"
   ]
  },
  {
   "cell_type": "code",
   "execution_count": 15,
   "id": "d82d9019-9d78-4b4b-a103-6375102028b1",
   "metadata": {},
   "outputs": [],
   "source": [
    "colors = [('black', 'gray'), ('blue', 'cornflowerblue'), ('red', 'lightcoral'), ('darkorange', 'bisque'), ('lawngreen','palegreen'), ('cyan','paleturquoise'), ('violet', 'thistle')]\n",
    "ci_finished, stats_finished = bootstrap_CI(paths_finished['durationInSec'], 10000, True)\n",
    "ci_notfiniti, stats_notfiniti = bootstrap_CI(unfinished_timeout_cut['durationInSec'], 10000, True)\n",
    "ci_notfinires, stats_notfinires = bootstrap_CI(unfinished_restart['durationInSec'], 10000, True)\n"
   ]
  },
  {
   "cell_type": "code",
   "execution_count": 16,
   "id": "80c1e824-11e2-487d-af2c-164c5c3eb1b2",
   "metadata": {},
   "outputs": [
    {
     "data": {
      "image/png": "[encoded data removed]",
      "text/plain": [
       "<Figure size 720x360 with 1 Axes>"
      ]
     },
     "metadata": {
      "needs_background": "light"
     },
     "output_type": "display_data"
    }
   ],
   "source": [
    "plt.figure(figsize=(10,5))\n",
    "plt.hist(stats_finished, bins=40, edgecolor = 'k', color=colors[0][1],alpha = 0.6, label = 'finished paths timestamp')\n",
    "plt.vlines(ci_finished, 0,900, ls='--', color=colors[0][0], linewidth=2, label = '95% CI for finished paths timestamp')\n",
    "plt.hist(stats_notfinires, bins=40, edgecolor = 'k', color=colors[1][1],alpha = 0.6, label = 'unfinished paths (restart)')\n",
    "plt.vlines(ci_notfinires, 0,900, ls='--', color=colors[1][0], linewidth=2, label = '95% CI for unfinished paths (restart)')\n",
    "plt.hist(stats_notfiniti, bins=40, edgecolor = 'k', color=colors[2][1],alpha = 0.6, label = 'unfinished paths (timeout)')\n",
    "plt.vlines(ci_notfiniti, 0,900, ls='--', color=colors[2][0], linewidth=2, label = '95% CI for unfinished paths (timeout)')\n",
    "plt.title('Mean time of finished and unfinished paths with restart/timeout')\n",
    "plt.xlabel('duration (s)')\n",
    "plt.ylabel('Frequency')\n",
    "plt.legend(loc=(1.02, 0.65));"
   ]
  },
  {
   "cell_type": "markdown",
   "id": "daa9c8d1-e0c6-4436-9bcf-6d9f3d17bd0a",
   "metadata": {},
   "source": [
    "</div>\n",
    "<div class=\"3.1 explanation\" style='background-color:#faefe1; border-left: solid #darkblue 4px; border-radius: 4px; padding:0.7em;'>\n",
    "    <span style=\"color:black\">\n",
    "        We observe that the means are (significantly) different. However, looking at the median values (see boxplots) we do not observe the same trend. Maybe the mean is not a valid metric, especially since the distributions seem to be relatively heavy tailed. Maybe a log-log plot could improve on this.\n",
    "    </span>\n",
    "</div>"
   ]
  },
  {
   "cell_type": "markdown",
   "id": "f0abccd1-8085-4c5d-a7cc-5b47f0fb81e6",
   "metadata": {},
   "source": [
    "</div>\n",
    "<div class=\"3.1 Header\" style='background-color:#08135c; border-left: solid #darkblue 4px; border-radius: 4px; padding:0.7em;'>\n",
    "    <span style=\"color:white\">\n",
    "       <h3>3.2 Length of navigation paths</h3>\n",
    "    </span>\n",
    "</div>\n",
    "</div>\n",
    "</div>\n",
    "<div class=\"3.1 explanation\" style='background-color:#faefe1; border-left: solid #darkblue 4px; border-radius: 4px; padding:0.7em;'>\n",
    "    <span style=\"color:black\">\n",
    "        We will investigate the differences of the length between <span style=\"font-family: monospace; background-color:#fadfb9; padding-left:4px; padding-right:4px; border-radius: 5px;\">paths_unfinished</span> (differentiation between timeout and restart) and <span style=\"font-family: monospace; background-color:#fadfb9; padding-left:4px; padding-right:4px; border-radius: 5px;\">paths_finished</span>.\n",
    "    </span>\n",
    "</div>"
   ]
  },
  {
   "cell_type": "markdown",
   "id": "70934cc9-0f6b-467b-9d7e-fefcef7a03c8",
   "metadata": {},
   "source": [
    "</div>\n",
    "<div class=\"3.1 explanation\" style='background-color:#faefe1; border-left: solid #darkblue 4px; border-radius: 4px; padding:0.7em;'>\n",
    "    <span style=\"color:black\">\n",
    "        Similar approach to visualizing the time of the navigation paths. However now focusing on path length. Most striking observation is that <span style=\"font-family: monospace; background-color:#fadfb9; padding-left:4px; padding-right:4px; border-radius: 5px;\">timeout</span> has a longer tail than <span style=\"font-family: monospace; background-color:#fadfb9; padding-left:4px; padding-right:4px; border-radius: 5px;\">restart</span>\n",
    "    </span>\n",
    "</div>"
   ]
  },
  {
   "cell_type": "code",
   "execution_count": 17,
   "id": "2e7c7189-db92-4566-882d-9b7784c2a2f4",
   "metadata": {},
   "outputs": [
    {
     "data": {
      "image/png": "[encoded data removed]",
      "text/plain": [
       "<Figure size 1008x288 with 3 Axes>"
      ]
     },
     "metadata": {
      "needs_background": "light"
     },
     "output_type": "display_data"
    }
   ],
   "source": [
    "fig = plt.figure(figsize=(14,4))\n",
    "fig.suptitle('Length of navigation paths')\n",
    "ax = plt.subplot(1,2,1)\n",
    "flierprops = {'marker': '.', 'markersize': 4, 'markerfacecolor': 'k'}\n",
    "boxprops= {'facecolor': (31/255, 119/255, 180/255, 0.5), 'color': 'k'}\n",
    "medianprops = {'color': (31/255, 119/255, 180/255)}\n",
    "ax.boxplot([unfinished_timeout['pathLength'], unfinished_restart['pathLength'], paths_finished['pathLength']], patch_artist=True, flierprops=flierprops, boxprops=boxprops, medianprops=medianprops, labels=['timeout', 'restart', 'finished']);\n",
    "ax.set_yscale('log')\n",
    "ax.set_ylabel('length of navigation path (log-scale)')\n",
    "ax.spines['right'].set_visible(False)\n",
    "ax.spines['top'].set_visible(False)\n",
    "\n",
    "\n",
    "ax = plt.subplot(2,2,4)\n",
    "paths_finished.plot(y='pathLength', kind='hist', legend=False, edgecolor=(0,0,0, 0.5), bins=40, ax=ax, log=True, color=(235/255, 184/255, 164/255, 0.5), label=\"finished\")\n",
    "ax.legend();\n",
    "ax.set_xlabel('length of navigation path')\n",
    "xlim = ax.get_xlim();\n",
    "\n",
    "ax = plt.subplot(2,2,2)\n",
    "unfinished_timeout.plot(y='pathLength', kind='hist', legend=False, edgecolor=(0,0,0, 0.5), ax=ax, log=True, color=(31/255, 119/255, 180/255, 0.5), label=\"timeout\")\n",
    "unfinished_restart.plot(y='pathLength', kind='hist', legend=False, edgecolor=(0,0,0, 0.5), ax=ax, log=True, color=(120/255, 194/255, 139/255, 0.5), label=\"restart\")\n",
    "ax.legend();\n",
    "ax.set_xlim(xlim);"
   ]
  },
  {
   "cell_type": "markdown",
   "id": "f4367960-ee00-4928-bdd1-b0da7d5ee117",
   "metadata": {},
   "source": [
    "</div>\n",
    "<div class=\"1.1 explanation\" style='background-color:#faefe1; border-left: solid #darkblue 4px; border-radius: 4px; padding:0.7em;'>\n",
    "    <span style=\"color:black\">\n",
    "        We will now conduct a bootstrap algorithm to find the (mean) differences of the pathlength between <span style=\"font-family: monospace; background-color:#fadfb9; padding-left:4px; padding-right:4px; border-radius: 5px;\">paths_unfinished</span> and <span style=\"font-family: monospace; background-color:#fadfb9; padding-left:4px; padding-right:4px; border-radius: 5px;\">paths_finished</span>\n",
    "    </span>\n",
    "</div>"
   ]
  },
  {
   "cell_type": "code",
   "execution_count": 18,
   "id": "9e710700-94ef-4e11-b744-70db2d49792b",
   "metadata": {},
   "outputs": [],
   "source": [
    "ci_finished, stats_finished = bootstrap_CI(paths_finished['pathLength'], 10000, True)\n",
    "ci_notfiniti, stats_notfiniti = bootstrap_CI(unfinished_timeout['pathLength'], 10000, True)\n",
    "ci_notfinires, stats_notfinires = bootstrap_CI(unfinished_restart['pathLength'], 10000, True)"
   ]
  },
  {
   "cell_type": "code",
   "execution_count": 19,
   "id": "acb0acbd-5e21-4ec2-9081-c0c9c6aa1ab6",
   "metadata": {
    "tags": []
   },
   "outputs": [
    {
     "data": {
      "image/png": "[encoded data removed]",
      "text/plain": [
       "<Figure size 720x360 with 1 Axes>"
      ]
     },
     "metadata": {
      "needs_background": "light"
     },
     "output_type": "display_data"
    }
   ],
   "source": [
    "colors = [('black', 'gray'), ('blue', 'cornflowerblue'), ('red', 'lightcoral'), ('darkorange', 'bisque'), ('lawngreen','palegreen'), ('cyan','paleturquoise'), ('violet', 'thistle')]\n",
    "\n",
    "plt.figure(figsize=(10,5))\n",
    "plt.hist(stats_finished, bins=40, edgecolor = 'k', color=colors[0][1],alpha = 0.6, label = 'finished paths timestamp')\n",
    "plt.vlines(ci_finished, 0,900, ls='--', color=colors[0][0], linewidth=2, label = '95% CI for finished paths timestamp')\n",
    "plt.hist(stats_notfinires, bins=40, edgecolor = 'k', color=colors[1][1],alpha = 0.6, label = 'unfinished paths restart')\n",
    "plt.vlines(ci_notfinires, 0,900, ls='--', color=colors[1][0], linewidth=2, label = '95% CI for unfinished paths restart')\n",
    "plt.hist(stats_notfiniti, bins=40, edgecolor = 'k', color=colors[2][1],alpha = 0.6, label = 'unfinished paths timeout')\n",
    "plt.vlines(ci_notfiniti, 0,900, ls='--', color=colors[2][0], linewidth=2, label = '95% CI for unfinished paths timeout')\n",
    "plt.title('Mean path length in finished and unfinished paths with restart/timeout')\n",
    "plt.xlabel('path length')\n",
    "plt.ylabel('Number of apparence')\n",
    "plt.legend(loc=(1.02, 0.65));"
   ]
  },
  {
   "cell_type": "markdown",
   "id": "43dc9b5c-3d03-4927-a6a9-851677bc85ca",
   "metadata": {},
   "source": [
    "</div>\n",
    "<div class=\"3.1 explanation\" style='background-color:#faefe1; border-left: solid #darkblue 4px; border-radius: 4px; padding:0.7em;'>\n",
    "    <span style=\"color:black\">\n",
    "        Similar to the duration, we again observe that the means are (significantly) different. And looking at the median values (see boxplots) we do not observe the same trend. Perhaps same argument holds here concerning heavy-tailed distribution.\n",
    "    </span>\n",
    "</div>"
   ]
  },
  {
   "cell_type": "markdown",
   "id": "27c4a28f-a6b2-4c13-abff-5217ad3f325f",
   "metadata": {},
   "source": [
    "</div>\n",
    "<div class=\"3.1 Header\" style='background-color:#08135c; border-left: solid #darkblue 4px; border-radius: 4px; padding:0.7em;'>\n",
    "    <span style=\"color:white\">\n",
    "       <h3>3.3 Regression</h3>\n",
    "    </span>\n",
    "</div>\n",
    "</div>\n",
    "</div>\n",
    "<div class=\"3.1 explanation\" style='background-color:#faefe1; border-left: solid #darkblue 4px; border-radius: 4px; padding:0.7em;'>\n",
    "    <span style=\"color:black\">\n",
    "        Here we will investigate if we can do a (logistic) regression to predict <span style=\"font-family: monospace; background-color:#fadfb9; padding-left:4px; padding-right:4px; border-radius: 5px;\">paths_finished</span> vs <span style=\"font-family: monospace; background-color:#fadfb9; padding-left:4px; padding-right:4px; border-radius: 5px;\">paths_unfinished</span> based on the variables <span style=\"font-family: monospace; background-color:#fadfb9; padding-left:4px; padding-right:4px; border-radius: 5px;\">durationInSec</span> and <span style=\"font-family: monospace; background-color:#fadfb9; padding-left:4px; padding-right:4px; border-radius: 5px;\">pathLength</span> only. The same will be conducted for <span style=\"font-family: monospace; background-color:#fadfb9; padding-left:4px; padding-right:4px; border-radius: 5px;\">timeout</span> vs <span style=\"font-family: monospace; background-color:#fadfb9; padding-left:4px; padding-right:4px; border-radius: 5px;\">restart.</span>\n",
    "    </span>\n",
    "</div>"
   ]
  },
  {
   "cell_type": "markdown",
   "id": "633c0d18-d41f-4096-b88e-35d2c06d6048",
   "metadata": {},
   "source": [
    "</div>\n",
    "<div class=\"3.1 explanation\" style='background-color:#faefe1; border-left: solid #darkblue 4px; border-radius: 4px; padding:0.7em;'>\n",
    "    <span style=\"color:black\">\n",
    "    Let's first see if we can find correlations between time spent and path length. Intuitively it should be positively correlated. We find that the correlations are not too convincing (especially for finished paths). This is partly because many relatively small paths take for some reason relatively long (perhaps a player was stuck for a long period of time).\n",
    "    </span>\n",
    "</div>"
   ]
  },
  {
   "cell_type": "code",
   "execution_count": 20,
   "id": "322e8db2-b34d-458f-91ee-890036d47a9b",
   "metadata": {},
   "outputs": [
    {
     "data": {
      "image/png": "[encoded data removed]",
      "text/plain": [
       "<Figure size 1008x288 with 3 Axes>"
      ]
     },
     "metadata": {
      "needs_background": "light"
     },
     "output_type": "display_data"
    }
   ],
   "source": [
    "fig, ax = plt.subplots(1,3, figsize=(14,4))\n",
    "ax = ax.ravel()\n",
    "\n",
    "st, p = stats.pearsonr(unfinished_timeout['durationInSec'], unfinished_timeout['pathLength'])\n",
    "sns.regplot(x='durationInSec',y='pathLength', data=unfinished_timeout, ax=ax[0], color=(31/255, 119/255, 180/255, 0.5)).set(title='timeout');\n",
    "ax[0].text(0.75, 1.05, s='psnr : {:.2f}\\np-value : {:.2f}'.format(st, p), fontsize=8, transform=ax[0].transAxes, bbox=dict(boxstyle='round', facecolor=(31/255, 119/255, 180/255, 0.5), edgecolor='k'));\n",
    "\n",
    "st, p = stats.pearsonr(unfinished_restart['durationInSec'], unfinished_restart['pathLength'])\n",
    "sns.regplot(x='durationInSec',y='pathLength', data=unfinished_restart, ax=ax[1], color=(120/255, 194/255, 139/255, 0.5)).set(title='restart');\n",
    "ax[1].text(0.75, 1.05, s='psnr : {:.2f}\\np-value : {:.2f}'.format(st, p), fontsize=8, transform=ax[1].transAxes, bbox=dict(boxstyle='round', facecolor=(120/255, 194/255, 139/255, 0.5), edgecolor='k'));\n",
    "\n",
    "st, p = stats.pearsonr(paths_finished['durationInSec'], paths_finished['pathLength'])\n",
    "sns.regplot(x='durationInSec',y='pathLength', data=paths_finished, ax=ax[2], color=(235/255, 184/255, 164/255, 0.5)).set(title='finished');\n",
    "ax[2].text(0.75, 1.05, s='psnr : {:.2f}\\np-value : {:.2f}'.format(st, p), fontsize=8, transform=ax[2].transAxes, bbox=dict(boxstyle='round', facecolor=(235/255, 184/255, 164/255, 0.5), edgecolor='k'));\n"
   ]
  },
  {
   "cell_type": "markdown",
   "id": "cd3ab542-eb99-4b66-a2e8-eb2a9f8c9124",
   "metadata": {},
   "source": [
    "</div>\n",
    "<div class=\"1.1 explanation\" style='background-color:#faefe1; border-left: solid #darkblue 4px; border-radius: 4px; padding:0.7em;'>\n",
    "    <span style=\"color:black\">\n",
    "        Simple logistic regression to predict if the player give up or will restart by only <span style=\"font-family: monospace; background-color:#fadfb9; padding-left:4px; padding-right:4px; border-radius: 5px;\">durationInSec</span> and <span style=\"font-family: monospace; background-color:#fadfb9; padding-left:4px; padding-right:4px; border-radius: 5px;\">pathLength</span> into account.\n",
    "    </span>\n",
    "</div>"
   ]
  },
  {
   "cell_type": "code",
   "execution_count": 21,
   "id": "4af5911b-2c54-4859-861b-3c5204100a06",
   "metadata": {},
   "outputs": [],
   "source": [
    "#import of lybraries\n",
    "import statsmodels.api as sm\n",
    "import statsmodels.formula.api as smf"
   ]
  },
  {
   "cell_type": "code",
   "execution_count": 22,
   "id": "3a4079b4-186c-4f45-9400-ad87f4578bb3",
   "metadata": {},
   "outputs": [],
   "source": [
    "#prepare the data\n",
    "reg_unfinished_tim = unfinished_timeout.copy()\n",
    "reg_unfinished_res = unfinished_restart.copy()\n",
    "reg_unfinished_tim['y'] = 1\n",
    "reg_unfinished_res['y'] = 0\n",
    "regression_data = pd.concat([reg_unfinished_tim,reg_unfinished_res])\n",
    "regression_data_X = regression_data[['pathLength','durationInSec']]\n",
    "regression_data_y = regression_data[['y']]"
   ]
  },
  {
   "cell_type": "code",
   "execution_count": 23,
   "id": "76007f8d-f659-4135-ba2a-3ea38a5c7482",
   "metadata": {},
   "outputs": [],
   "source": [
    "\"\"\"#standardization of the values:\n",
    "means = np.mean(regression_data_X,axis = 0)\n",
    "stds = np.std(regression_data_X,axis = 0)\n",
    "regression_data_X = (regression_data_X - means)/stds\n",
    "regression_data_X['y']= regression_data_y\n",
    "df_all = regression_data_X \"\"\"\n",
    "\n",
    "#log-transform of values:\n",
    "regression_data_X = np.log(regression_data_X)\n",
    "regression_data_X['y']= regression_data_y\n",
    "regression_data_X.replace([np.inf, -np.inf], np.nan, inplace=True)\n",
    "regression_data_X.dropna(axis=1)\n",
    "df_all = regression_data_X"
   ]
  },
  {
   "cell_type": "code",
   "execution_count": 24,
   "id": "76d1a130-6c6f-48c9-98aa-bddda5a6acc7",
   "metadata": {},
   "outputs": [
    {
     "name": "stdout",
     "output_type": "stream",
     "text": [
      "Optimization terminated successfully.\n",
      "         Current function value: 0.011692\n",
      "         Iterations 16\n",
      "                           Logit Regression Results                           \n",
      "==============================================================================\n",
      "Dep. Variable:                      y   No. Observations:                24875\n",
      "Model:                          Logit   Df Residuals:                    24872\n",
      "Method:                           MLE   Df Model:                            2\n",
      "Date:                Fri, 09 Dec 2022   Pseudo R-squ.:                  0.9823\n",
      "Time:                        10:18:12   Log-Likelihood:                -290.83\n",
      "converged:                       True   LL-Null:                       -16454.\n",
      "Covariance Type:            nonrobust   LLR p-value:                     0.000\n",
      "=================================================================================\n",
      "                    coef    std err          z      P>|z|      [0.025      0.975]\n",
      "---------------------------------------------------------------------------------\n",
      "Intercept      -197.4572     13.963    -14.142      0.000    -224.824    -170.090\n",
      "pathLength       -2.5723      0.197    -13.060      0.000      -2.958      -2.186\n",
      "durationInSec    27.3700      1.880     14.558      0.000      23.685      31.055\n",
      "=================================================================================\n",
      "\n",
      "Possibly complete quasi-separation: A fraction 0.63 of observations can be\n",
      "perfectly predicted. This might indicate that there is complete\n",
      "quasi-separation. In this case some parameters will not be identified.\n"
     ]
    }
   ],
   "source": [
    "formula2 = 'y ~ pathLength + durationInSec'\n",
    "mod = smf.logit(formula=formula2, data=df_all)\n",
    "np.random.seed(2)\n",
    "res = mod.fit()\n",
    "print(res.summary())"
   ]
  },
  {
   "cell_type": "markdown",
   "id": "246298d5-5a99-4457-931e-b06fe1e6d18b",
   "metadata": {},
   "source": [
    "</div>\n",
    "<div class=\"1.1 explanation\" style='background-color:#faefe1; border-left: solid #darkblue 4px; border-radius: 4px; padding:0.7em;'>\n",
    "    <span style=\"color:black\">\n",
    "        Simple logistic regression to predict if the player will finish or restart by only taking <span style=\"font-family: monospace; background-color:#fadfb9; padding-left:4px; padding-right:4px; border-radius: 5px;\">durationInSec</span> and <span style=\"font-family: monospace; background-color:#fadfb9; padding-left:4px; padding-right:4px; border-radius: 5px;\">pathLength</span> into account.\n",
    "    </span>\n",
    "</div>"
   ]
  },
  {
   "cell_type": "code",
   "execution_count": 25,
   "id": "05ed6890-d30a-48dc-9e04-18afb7609469",
   "metadata": {},
   "outputs": [],
   "source": [
    "#prepare the data\n",
    "reg_unfinished_res = unfinished_restart.copy()\n",
    "reg_unfinished_res['y'] = 0\n",
    "paths_finished['y'] = 1\n",
    "regression_data2 = pd.concat([paths_finished,reg_unfinished_res])\n",
    "regression_data_X = regression_data2[['pathLength','durationInSec']]\n",
    "regression_data_y = regression_data2[['y']]"
   ]
  },
  {
   "cell_type": "code",
   "execution_count": 26,
   "id": "744a3980-a998-4566-b1a8-39bb1a3848a1",
   "metadata": {},
   "outputs": [],
   "source": [
    "#log transform \n",
    "regression_data_X = np.log(regression_data_X)\n",
    "regression_data_X['y']= regression_data_y\n",
    "regression_data_X.replace([np.inf, -np.inf], np.nan, inplace=True)\n",
    "regression_data_X.dropna(axis=1)\n",
    "df_all = regression_data_X"
   ]
  },
  {
   "cell_type": "code",
   "execution_count": 27,
   "id": "5226200d-841d-457d-9def-b075ffd65d41",
   "metadata": {},
   "outputs": [
    {
     "name": "stdout",
     "output_type": "stream",
     "text": [
      "Optimization terminated successfully.\n",
      "         Current function value: 0.437548\n",
      "         Iterations 6\n",
      "                           Logit Regression Results                           \n",
      "==============================================================================\n",
      "Dep. Variable:                      y   No. Observations:                66859\n",
      "Model:                          Logit   Df Residuals:                    66856\n",
      "Method:                           MLE   Df Model:                            2\n",
      "Date:                Fri, 09 Dec 2022   Pseudo R-squ.:                  0.1933\n",
      "Time:                        10:18:13   Log-Likelihood:                -29254.\n",
      "converged:                       True   LL-Null:                       -36265.\n",
      "Covariance Type:            nonrobust   LLR p-value:                     0.000\n",
      "=================================================================================\n",
      "                    coef    std err          z      P>|z|      [0.025      0.975]\n",
      "---------------------------------------------------------------------------------\n",
      "Intercept         1.9894      0.052     38.603      0.000       1.888       2.090\n",
      "pathLength        2.7847      0.028     98.083      0.000       2.729       2.840\n",
      "durationInSec    -1.1228      0.016    -69.800      0.000      -1.154      -1.091\n",
      "=================================================================================\n"
     ]
    }
   ],
   "source": [
    "formula2 = 'y ~ pathLength + durationInSec'\n",
    "mod = smf.logit(formula=formula2, data=df_all)\n",
    "np.random.seed(2)\n",
    "res = mod.fit()\n",
    "print(res.summary())"
   ]
  },
  {
   "cell_type": "markdown",
   "id": "66d72413-7166-43f3-8963-8be926be31a4",
   "metadata": {},
   "source": [
    "</div>\n",
    "<div class=\"3.1 explanation\" style='background-color:#faefe1; border-left: solid #darkblue 4px; border-radius: 4px; padding:0.7em;'>\n",
    "    <span style=\"color:black\">\n",
    "    Overall we did not see a good prediction. This can be explained by our previous results that also did not provide convincing support for both <span style=\"font-family: monospace; background-color:#fadfb9; padding-left:4px; padding-right:4px; border-radius: 5px;\">durationInSec</span> and <span style=\"font-family: monospace; background-color:#fadfb9; padding-left:4px; padding-right:4px; border-radius: 5px;\">pathLength</span> to be good regressors. Perhaps if we transform the logistic regression differently (log-log) we might get better results. Otherwise it might be better to focus on other features.\n",
    "    </span>\n",
    "</div>"
   ]
  },
  {
   "cell_type": "markdown",
   "id": "bc0566ea-4044-4c89-8402-795619ae6dde",
   "metadata": {},
   "source": [
    "</div>\n",
    "<div class=\"1.2 Header\" style='background-color:#08135c; border-left: solid #darkblue 4px; border-radius: 4px; padding:0.7em;'>\n",
    "    <span style=\"color:white\">\n",
    "       <h3>3.4 Build graphs</h3>\n",
    "    </span>\n",
    "</div>\n",
    "</div>\n",
    "<div class=\"1.1 explanation\" style='background-color:#faefe1; border-left: solid #darkblue 4px; border-radius: 4px; padding:0.7em;'>\n",
    "    <span style=\"color:black\">\n",
    "        In this section the goal is to get a better understanding of paths people took and the paths provided from Wikipedia. Like that, the people's behaviour as well as the possibilites for a player can be analyzed in a more accurate way. For that reason two different graphs (i.e., <span style=\"font-family: monospace; background-color:#fadfb9; padding-left:4px; padding-right:4px; border-radius: 5px;\">G_paths</span> $\\rightarrow$ player navigations, <span style=\"font-family: monospace; background-color:#fadfb9; padding-left:4px; padding-right:4px; border-radius: 5px;\">G_link</span> $\\rightarrow$ machine/link based) are built. Hence, the first one is build based on the links that exists in Wikipedia. It's called ideal graph or Machine's graph in the next parts. The second one is a graph created from the paths taken by the player. This second graph has weighted edges that corresponds to the number of time the player took this path.\n",
    "</div>"
   ]
  },
  {
   "cell_type": "code",
   "execution_count": 28,
   "id": "733c00c9-9047-496a-bb43-5050ed580f1a",
   "metadata": {},
   "outputs": [
    {
     "data": {
      "text/html": [
       "<div>\n",
       "<style scoped>\n",
       "    .dataframe tbody tr th:only-of-type {\n",
       "        vertical-align: middle;\n",
       "    }\n",
       "\n",
       "    .dataframe tbody tr th {\n",
       "        vertical-align: top;\n",
       "    }\n",
       "\n",
       "    .dataframe thead th {\n",
       "        text-align: right;\n",
       "    }\n",
       "</style>\n",
       "<table border=\"1\" class=\"dataframe\">\n",
       "  <thead>\n",
       "    <tr style=\"text-align: right;\">\n",
       "      <th></th>\n",
       "      <th>start_edge</th>\n",
       "      <th>end_edge</th>\n",
       "      <th>weight</th>\n",
       "    </tr>\n",
       "  </thead>\n",
       "  <tbody>\n",
       "    <tr>\n",
       "      <th>0</th>\n",
       "      <td>10th_century</td>\n",
       "      <td>11th_century</td>\n",
       "      <td>21</td>\n",
       "    </tr>\n",
       "    <tr>\n",
       "      <th>1</th>\n",
       "      <td>10th_century</td>\n",
       "      <td>20th_century</td>\n",
       "      <td>1</td>\n",
       "    </tr>\n",
       "    <tr>\n",
       "      <th>2</th>\n",
       "      <td>10th_century</td>\n",
       "      <td>9th_century</td>\n",
       "      <td>33</td>\n",
       "    </tr>\n",
       "    <tr>\n",
       "      <th>3</th>\n",
       "      <td>10th_century</td>\n",
       "      <td>Algeria</td>\n",
       "      <td>2</td>\n",
       "    </tr>\n",
       "    <tr>\n",
       "      <th>4</th>\n",
       "      <td>10th_century</td>\n",
       "      <td>Bede</td>\n",
       "      <td>1</td>\n",
       "    </tr>\n",
       "  </tbody>\n",
       "</table>\n",
       "</div>"
      ],
      "text/plain": [
       "     start_edge      end_edge  weight\n",
       "0  10th_century  11th_century      21\n",
       "1  10th_century  20th_century       1\n",
       "2  10th_century   9th_century      33\n",
       "3  10th_century       Algeria       2\n",
       "4  10th_century          Bede       1"
      ]
     },
     "execution_count": 28,
     "metadata": {},
     "output_type": "execute_result"
    }
   ],
   "source": [
    "paths_all.insert(0, 'path_id',  paths_all.index)\n",
    "paths = paths_all[['path_id', 'path']].copy()\n",
    "paths = paths.explode('path').reset_index().rename(columns={'path': 'page', 'index' : 'page_index_in_path'})\n",
    "paths['page_index_in_path'] = paths.groupby('page_index_in_path').cumcount()\n",
    "paths.head()\n",
    "\n",
    "#Need to handle >\n",
    "start_edges = paths_all[['path_id', 'path']].copy()\n",
    "start_edges.loc[:,'path'] = start_edges['path'].apply(lambda x : str(x).split(';')[:-1])\n",
    "start_edges = start_edges.explode('path').reset_index().rename(columns={'path': 'start_edge', 'index' : 'page_index_in_path'})\n",
    "\n",
    "end_edges =  paths_all[['path_id', 'path']].copy()\n",
    "end_edges.loc[:,'path'] = end_edges['path'].apply(lambda x : str(x).split(';')[1:])\n",
    "end_edges = end_edges.explode('path').reset_index().rename(columns={'path': 'end_edge', 'index' : 'page_index_in_path'})\n",
    "\n",
    "edges = pd.concat([start_edges.start_edge, end_edges.end_edge],axis = 1)\n",
    "\n",
    "#Handle the '<' b dropping when the end edge is '<' and taking the previous start_edge when the start_edge is '<'\n",
    "edges = edges.drop(edges[edges.end_edge == '<'].index)\n",
    "while len(edges[(edges.start_edge == '<') ]) > 0 :\n",
    "    edges['start_edge'] = np.where(edges['start_edge'] == '<', edges['start_edge'].shift(1), edges['start_edge'])\n",
    "    \n",
    "#Group the same edge and give the weight \n",
    "edges = edges.groupby(['start_edge', 'end_edge']).agg(len).reset_index().rename(columns  = {0 : 'weight'})\n",
    "edges.head()"
   ]
  },
  {
   "cell_type": "code",
   "execution_count": 29,
   "id": "1ed9a7d6-88c4-4efb-baa3-04d2b80a724f",
   "metadata": {},
   "outputs": [],
   "source": [
    "G_paths = nx.from_pandas_edgelist(edges, 'start_edge', 'end_edge', 'weight', create_using = nx.DiGraph)\n",
    "G_links = nx.from_pandas_edgelist(links, 'article', 'link', create_using = nx.DiGraph)"
   ]
  },
  {
   "cell_type": "markdown",
   "id": "4855cb27",
   "metadata": {},
   "source": [
    "</div>\n",
    "<div class=\"1.1 explanation\" style='background-color:#faefe1; border-left: solid #darkblue 4px; border-radius: 4px; padding:0.7em;'>\n",
    "    <span style=\"color:black\">\n",
    "        In the following parts some insights on the graphs are given and differences can be observed. For example the shortest path in one of them can be very different from the one build by the other graph. From the players graph it can also be seen how the nodes connect to each other and with the helps of the weighted edges the biggest hubs can be shown. \n",
    "    </span>\n",
    "</div>"
   ]
  },
  {
   "cell_type": "code",
   "execution_count": 30,
   "id": "07cf20cb",
   "metadata": {},
   "outputs": [
    {
     "name": "stdout",
     "output_type": "stream",
     "text": [
      "Shortest path in the graph generated from the paths between African_slave_trade and Tennis\n",
      "['African_slave_trade', 'United_Kingdom', 'Tennis']\n",
      "\n",
      "Shortest path in the graph generated from the links between African_slave_trade and Tennis\n",
      "['African_slave_trade', 'Brazil', 'Tennis']\n",
      "\n",
      "The best neighbor of African_slave_trade : \n",
      "[('United_States', 4), ('18th_century', 2), ('Law', 2), ('Scramble_for_Africa', 2), ('Sudan', 2)]\n",
      "\n",
      "The 10 biggest hubs in the player navigation network are :\n",
      "start_edge\n",
      "United_States     12518\n",
      "Europe             5557\n",
      "United_Kingdom     5172\n",
      "England            4306\n",
      "Earth              4156\n",
      "Africa             3619\n",
      "World_War_II       2795\n",
      "North_America      2409\n",
      "Human              2341\n",
      "Brain              2301\n",
      "Name: weight, dtype: int64\n"
     ]
    }
   ],
   "source": [
    "def best_neighbor_of(page):\n",
    "    neighbors = [(a, b['weight']) for a,b in dict(G_paths[page]).items()]\n",
    "    neighbors.sort(key= lambda x : x[1], reverse = True)\n",
    "    return neighbors\n",
    "def shortest_path(G, a, b):\n",
    "    return nx.shortest_path(G, a,b)\n",
    "\n",
    "def get_most_general_concept_used(n):\n",
    "    most_general_concepts = edges.groupby('start_edge').weight.sum().sort_values(ascending = False)\n",
    "    return most_general_concepts[:n]\n",
    "\n",
    "#Give example\n",
    "source = 'African_slave_trade'\n",
    "target = 'Tennis'\n",
    "print(\"Shortest path in the graph generated from the paths between %s and %s\"%(source ,target))\n",
    "print(shortest_path(G_paths, source ,target))\n",
    "print(\"\\nShortest path in the graph generated from the links between %s and %s\"%(source ,target))\n",
    "print(shortest_path(G_links, source ,target))\n",
    "print(\"\\nThe best neighbor of %s : \"%(source))\n",
    "print( best_neighbor_of(source)[:5])\n",
    "nb = 10\n",
    "print(\"\\nThe %d biggest hubs in the player navigation network are :\"%(nb))\n",
    "print(get_most_general_concept_used(nb))"
   ]
  },
  {
   "cell_type": "markdown",
   "id": "7fe6668b",
   "metadata": {},
   "source": [
    "</div>\n",
    "<div class=\"1.1 explanation\" style='background-color:#faefe1; border-left: solid #darkblue 4px; border-radius: 4px; padding:0.7em;'>\n",
    "    <span style=\"color:black\">\n",
    "        In this part an analysis of the Machine's graph has been done. Therefore the number of hyperlinks to a specific article have been counted (i.e. in-degree). The distribution of these numbers are shown in the graphic below. It shows a heavy tailed distribution and follows the power law. In addition it can be confirmed that certain articles are not able to be accessed from any other articles. The percentage of such articles is roughly 10.0%. These correspond to the vertical orange lines as observed in <b>2.3</b>\n",
    "    </span>\n",
    "</div>"
   ]
  },
  {
   "cell_type": "code",
   "execution_count": 31,
   "id": "5e307ef5",
   "metadata": {},
   "outputs": [
    {
     "data": {
      "image/png": "[encoded data removed]",
      "text/plain": [
       "<Figure size 432x288 with 2 Axes>"
      ]
     },
     "metadata": {
      "needs_background": "light"
     },
     "output_type": "display_data"
    }
   ],
   "source": [
    "#Distribution of in degrees (number of links pointing to each article)\n",
    "df_ref_machine=pd.DataFrame(G_links.in_degree, columns=['Article','References'])\n",
    "df_ref_machine=df_ref_machine.sort_values(by = 'References',ascending = False)\n",
    "\n",
    "fig = plt.figure()\n",
    "ax1 = fig.add_subplot(2,2,1)\n",
    "ax2 = fig.add_subplot(2,2,2)\n",
    "\n",
    "g=df_ref_machine.plot(ax = ax1,y='References', kind='bar', legend=False, width=1,logy=False)\n",
    "g.set(ylabel='N of References')\n",
    "g.set(xlabel='Articles (sorted)')\n",
    "g.set(xticklabels=[])\n",
    "g.tick_params(bottom=False);\n",
    "g.spines['right'].set_visible(False)\n",
    "g.spines['top'].set_visible(False)\n",
    "\n",
    "g1=df_ref_machine.plot(ax = ax2, y='References', kind='bar', legend=False, width=1,logy=True)\n",
    "g1.set(ylabel='N of References')\n",
    "g1.set(xlabel='Articles (sorted)')\n",
    "g1.set(xticklabels=[])\n",
    "g1.tick_params(bottom=False);\n",
    "g1.spines['right'].set_visible(False)\n",
    "g1.spines['top'].set_visible(False)\n",
    "\n",
    "plt.title('Distribution of references to articles in Machine\\'s Graph',\n",
    "                fontsize = 11, fontweight ='bold')\n",
    "plt.show()"
   ]
  },
  {
   "cell_type": "code",
   "execution_count": 32,
   "id": "61f10796",
   "metadata": {},
   "outputs": [
    {
     "name": "stdout",
     "output_type": "stream",
     "text": [
      "Number of articles that have no links to:  457\n",
      "Percentage: 9.95%\n",
      "\n",
      "Top 10 articles that have the most links to (highest in-degree): \n",
      "              Article  References\n",
      "102     United_States        1551\n",
      "30     United_Kingdom         972\n",
      "38             France         959\n",
      "183            Europe         933\n",
      "31       World_War_II         751\n",
      "61            England         751\n",
      "40            Germany         743\n",
      "115             India         611\n",
      "54   English_language         598\n",
      "370            London         587\n"
     ]
    }
   ],
   "source": [
    "#Number of articles that have zero in-degree\n",
    "n_non_accessible_links = df_ref_machine.groupby('References').size()[0]\n",
    "print('Number of articles that have no links to: ',n_non_accessible_links)\n",
    "print('Percentage: {:.2f}%\\n'.format(100*n_non_accessible_links/df_ref_machine.shape[0]))\n",
    "print('Top 10 articles that have the most links to (highest in-degree): ')\n",
    "print(df_ref_machine.head(10))"
   ]
  },
  {
   "cell_type": "markdown",
   "id": "bc719bf2-daa5-440e-9c39-63727127d820",
   "metadata": {},
   "source": [
    "</div>\n",
    "<div class=\"1.1 explanation\" style='background-color:#faefe1; border-left: solid #darkblue 4px; border-radius: 4px; padding:0.7em;'>\n",
    "    <span style=\"color:black\">\n",
    "        A similar analysis as before has been done to the players graph. The reason for doing it also on this graph was to see if there are any differences. But it can be seen that both analyzations show a similar distribution that follow the power law. \n",
    "       Also in this case some articles have not been accessed.     \n",
    "    </span>\n",
    "</div>"
   ]
  },
  {
   "cell_type": "code",
   "execution_count": 33,
   "id": "6537935d",
   "metadata": {},
   "outputs": [
    {
     "data": {
      "image/png": "[encoded data removed]",
      "text/plain": [
       "<Figure size 432x288 with 2 Axes>"
      ]
     },
     "metadata": {
      "needs_background": "light"
     },
     "output_type": "display_data"
    }
   ],
   "source": [
    "#Distribution of in degrees (number of links pointing to each article)\n",
    "df_ref_player=pd.DataFrame(G_paths.in_degree, columns=['Article','References'])\n",
    "df_ref_player=df_ref_player.sort_values(by = 'References',ascending = False)\n",
    "\n",
    "fig = plt.figure()\n",
    "ax1 = fig.add_subplot(2,2,1)\n",
    "ax2 = fig.add_subplot(2,2,2)\n",
    "\n",
    "g=df_ref_player.plot(ax = ax1,y='References', kind='bar', legend=False, width=1,logy=False)\n",
    "g.set(ylabel='N of References')\n",
    "g.set(xlabel='Articles (sorted)')\n",
    "g.set(xticklabels=[])\n",
    "g.tick_params(bottom=False);\n",
    "g.spines['right'].set_visible(False)\n",
    "g.spines['top'].set_visible(False)\n",
    "\n",
    "g1=df_ref_player.plot(ax = ax2, y='References', kind='bar', legend=False, width=1,logy=True)\n",
    "g1.set(ylabel='N of References')\n",
    "g1.set(xlabel='Articles (sorted)')\n",
    "g1.set(xticklabels=[])\n",
    "g1.tick_params(bottom=False);\n",
    "g1.spines['right'].set_visible(False)\n",
    "g1.spines['top'].set_visible(False)\n",
    "\n",
    "plt.title('Distribution of references to articles in Player\\'s Graph',\n",
    "                fontsize = 11, fontweight ='bold')\n",
    "plt.show()"
   ]
  },
  {
   "cell_type": "code",
   "execution_count": 34,
   "id": "4e22a05d",
   "metadata": {},
   "outputs": [
    {
     "name": "stdout",
     "output_type": "stream",
     "text": [
      "Number of articles that no players ever accessed from other articles:  457\n",
      "Percentage: 10.94%\n",
      "\n",
      "Top 10 articles that have the most accessibility in Player's Graph: \n",
      "              Article  References\n",
      "98      United_States        1331\n",
      "70             Europe         741\n",
      "97     United_Kingdom         710\n",
      "9             England         618\n",
      "291      World_War_II         540\n",
      "10             France         514\n",
      "11            Germany         396\n",
      "616  English_language         381\n",
      "416            Africa         348\n",
      "13              India         343\n"
     ]
    }
   ],
   "source": [
    "#Number of articles that have zero in degree\n",
    "n_never_accessed_links = df_ref_player.groupby('References').size()[0]\n",
    "print('Number of articles that no players ever accessed from other articles: ',n_non_accessible_links)\n",
    "print('Percentage: {:.2f}%\\n'.format(100*n_non_accessible_links/df_ref_player.shape[0]))\n",
    "\n",
    "print('Top 10 articles that have the most accessibility in Player\\'s Graph: ')\n",
    "print(df_ref_player.head(10))"
   ]
  },
  {
   "cell_type": "markdown",
   "id": "aadd8209-c05e-467a-9c25-6d363745cb98",
   "metadata": {},
   "source": [
    "</div>\n",
    "<div class=\"1.1 explanation\" style='background-color:#faefe1; border-left: solid #darkblue 4px; border-radius: 4px; padding:0.7em;'>\n",
    "    <span style=\"color:black\">\n",
    "        <p>Conclusion: In comparison to the biggest hubs list, we found that people tend to access a much more general concept (like 'earth') even though not many links point to that concept. It could be a hint to player's strategy. Deeper analysis is required if we want to have a sound conclusion.<br><br>\n",
    "        What's more, the difference between the Top 10 Accessibility from Machine's Graph and that from Player's Graph might indicate that player's behaviour is far from random as the numbers are close to each other.</p>\n",
    "    </span> \n",
    "</div>"
   ]
  },
  {
   "cell_type": "markdown",
   "id": "9e76f0c5-ea0d-4d86-a189-609960b71a28",
   "metadata": {},
   "source": [
    "</div>\n",
    "<div class=\"4. Header\" style='background-color:#08135c; border-left: solid #darkblue 4px; border-radius: 4px; padding:0.7em;'>\n",
    "    <span style=\"color:white;\">\n",
    "       <h2>4. Player statistics</h2>\n",
    "        <h4>Here we will focus on the level of an individual player</h4>\n",
    "    </span>\n",
    "</div>\n",
    "</div>"
   ]
  },
  {
   "cell_type": "markdown",
   "id": "76b9dfbf",
   "metadata": {},
   "source": [
    "</div>\n",
    "<div class=\"1.1 explanation\" style='background-color:#08135c; border-left: solid #darkblue 4px; border-radius: 4px; padding:0.7em;'>\n",
    "    <span style=\"color:white\">\n",
    "       <h3>4.1 Game distribution per player</h3>\n",
    "    </span>\n",
    "</div>\n",
    "</div>\n",
    "<div class=\"1.1 explanation\" style='background-color:#faefe1; border-left: solid #darkblue 4px; border-radius: 4px; padding:0.7em;'>\n",
    "    <span style=\"color:black\">\n",
    "        First we try to see how many games each players finished, <span style=\"font-family: monospace; background-color:#fadfb9; padding-left:4px; padding-right:4px; border-radius: 5px;\">timeout</span> or <span style=\"font-family: monospace; background-color:#fadfb9; padding-left:4px; padding-right:4px; border-radius: 5px;\">restart</span>. We can then plot the histogram of the percentage of finished games by players. We observe that around $3/4$ of the players either always or never finished their games. This might imply that for these players the game is too easy or too hard and we might addapt the game proposed so that they stay longer.\n",
    "    </span>\n",
    "</div>"
   ]
  },
  {
   "cell_type": "code",
   "execution_count": 35,
   "id": "9a7be811",
   "metadata": {},
   "outputs": [],
   "source": [
    "player_stats = paths_all.groupby('hashedIpAddress').apply(lambda x: pd.Series({\n",
    "    'game_played' : x['type'].count(),\n",
    "    'nb_timeout'  : len(x[x['type'] == 'timeout']),    \n",
    "    'nb_restart'  : len(x[x['type'] == 'restart']),    \n",
    "    'nb_finished' : len(x[x['type'] == 'finished'])\n",
    "    }))\n",
    "player_stats['finished_percentage'] = player_stats['nb_finished']/player_stats['game_played']"
   ]
  },
  {
   "cell_type": "code",
   "execution_count": 36,
   "id": "c69fdc8c",
   "metadata": {},
   "outputs": [
    {
     "data": {
      "image/png": "[encoded data removed]",
      "text/plain": [
       "<Figure size 432x288 with 1 Axes>"
      ]
     },
     "metadata": {
      "needs_background": "light"
     },
     "output_type": "display_data"
    }
   ],
   "source": [
    "g = np.log10(player_stats['game_played']).hist(log = True, grid=False, edgecolor=(1,1,1))\n",
    "g.set(ylabel='count')\n",
    "g.set(xlabel='log(#games)')\n",
    "g.tick_params(bottom=False);\n",
    "g.spines['right'].set_visible(False)\n",
    "g.spines['top'].set_visible(False)"
   ]
  },
  {
   "cell_type": "code",
   "execution_count": 37,
   "id": "8a16fb1e",
   "metadata": {},
   "outputs": [
    {
     "name": "stdout",
     "output_type": "stream",
     "text": [
      "Total number of players : 20867,\n",
      "Player that never finished : 6623,\n",
      "Player that always finished : 9382\n"
     ]
    },
    {
     "data": {
      "image/png": "[encoded data removed]",
      "text/plain": [
       "<Figure size 432x288 with 1 Axes>"
      ]
     },
     "metadata": {
      "needs_background": "light"
     },
     "output_type": "display_data"
    }
   ],
   "source": [
    "total_player = len(player_stats)\n",
    "never_finished = len(player_stats[player_stats['nb_finished'] == 0])\n",
    "always_finished = len(player_stats[player_stats['finished_percentage'] == 1])\n",
    "print(\"Total number of players : %d,\\nPlayer that never finished : %d,\\nPlayer that always finished : %d\"%(total_player,never_finished, always_finished))\n",
    "\n",
    "g = player_stats.plot(y='finished_percentage', kind='hist', legend=False, edgecolor=(1,1,1))\n",
    "g.set(ylabel='count')\n",
    "g.set(xlabel='proportion of finished paths')\n",
    "g.tick_params(bottom=False);\n",
    "g.spines['right'].set_visible(False)\n",
    "g.spines['top'].set_visible(False)"
   ]
  },
  {
   "cell_type": "markdown",
   "id": "cf01f808",
   "metadata": {},
   "source": [
    "<div class=\"1.1 explanation\" style='background-color:#faefe1; border-left: solid #darkblue 4px; border-radius: 4px; padding:0.7em;'>\n",
    "    <span style=\"color:black\">\n",
    "        Then we can look, at how many <span style=\"font-family: monospace; background-color:#fadfb9; padding-left:4px; padding-right:4px; border-radius: 5px;\">timeout</span> the players did.\n",
    "    </span>\n",
    "</div>"
   ]
  },
  {
   "cell_type": "code",
   "execution_count": 38,
   "id": "cb11938f",
   "metadata": {
    "tags": []
   },
   "outputs": [
    {
     "name": "stdout",
     "output_type": "stream",
     "text": [
      "Total player that did more than 1 timeout : 634, which represent 0.030383% of the players\n"
     ]
    },
    {
     "data": {
      "image/png": "[encoded data removed]",
      "text/plain": [
       "<Figure size 432x288 with 1 Axes>"
      ]
     },
     "metadata": {
      "needs_background": "light"
     },
     "output_type": "display_data"
    }
   ],
   "source": [
    "nb_player_mult_timeout = len(player_stats[player_stats.nb_timeout > 1])\n",
    "print(\"Total player that did more than 1 timeout : %d, which represent %f%% of the players\"%(nb_player_mult_timeout, nb_player_mult_timeout/total_player))\n",
    "g=player_stats[player_stats.nb_timeout > 1].nb_timeout.hist(grid=False, legend=False, edgecolor=(1,1,1), bins = range(0, player_stats.nb_timeout.max()))\n",
    "g.set(ylabel='count')\n",
    "g.set(xlabel='Number of timeouts')\n",
    "g.tick_params(bottom=False);\n",
    "g.spines['right'].set_visible(False)\n",
    "g.spines['top'].set_visible(False)\n"
   ]
  },
  {
   "cell_type": "markdown",
   "id": "b7bf49ab",
   "metadata": {},
   "source": [
    "<div class=\"1.1 explanation\" style='background-color:#faefe1; border-left: solid #darkblue 4px; border-radius: 4px; padding:0.7em;'>\n",
    "    <span style=\"color:black\">\n",
    "        Then we can look at the record of each player on how the game ended up : <span style=\"font-family: monospace; background-color:#fadfb9; padding-left:4px; padding-right:4px; border-radius: 5px;\">restart</span>, <span style=\"font-family: monospace; background-color:#fadfb9; padding-left:4px; padding-right:4px; border-radius: 5px;\">timeout</span> or <span style=\"font-family: monospace; background-color:#fadfb9; padding-left:4px; padding-right:4px; border-radius: 5px;\">path_finished</span>. We can see that for player than did not finished all their game, 66% of them finished with a <span style=\"font-family: monospace; background-color:#fadfb9; padding-left:4px; padding-right:4px; border-radius: 5px;\">timeout</span>.\n",
    "        What we should do to go deeper is to do the same record but with the <span style=\"font-family: monospace; background-color:#fadfb9; padding-left:4px; padding-right:4px; border-radius: 5px;\">durationInSec</span> and the <span style=\"font-family: monospace; background-color:#fadfb9; padding-left:4px; padding-right:4px; border-radius: 5px;\">pathsLength</span> and try to see if we can get something out of it on why they stopped playing.\n",
    "    </span>\n",
    "</div>"
   ]
  },
  {
   "cell_type": "code",
   "execution_count": 39,
   "id": "220a949b",
   "metadata": {},
   "outputs": [
    {
     "data": {
      "text/html": [
       "<div>\n",
       "<style scoped>\n",
       "    .dataframe tbody tr th:only-of-type {\n",
       "        vertical-align: middle;\n",
       "    }\n",
       "\n",
       "    .dataframe tbody tr th {\n",
       "        vertical-align: top;\n",
       "    }\n",
       "\n",
       "    .dataframe thead th {\n",
       "        text-align: right;\n",
       "    }\n",
       "</style>\n",
       "<table border=\"1\" class=\"dataframe\">\n",
       "  <thead>\n",
       "    <tr style=\"text-align: right;\">\n",
       "      <th></th>\n",
       "      <th>type</th>\n",
       "    </tr>\n",
       "    <tr>\n",
       "      <th>hashedIpAddress</th>\n",
       "      <th></th>\n",
       "    </tr>\n",
       "  </thead>\n",
       "  <tbody>\n",
       "    <tr>\n",
       "      <th>000386124f307de8</th>\n",
       "      <td>[finished, timeout]</td>\n",
       "    </tr>\n",
       "    <tr>\n",
       "      <th>0007183207b6008f</th>\n",
       "      <td>[finished, finished, finished]</td>\n",
       "    </tr>\n",
       "    <tr>\n",
       "      <th>000a09e202e88d10</th>\n",
       "      <td>[finished]</td>\n",
       "    </tr>\n",
       "    <tr>\n",
       "      <th>000a5bac5b7781ea</th>\n",
       "      <td>[finished]</td>\n",
       "    </tr>\n",
       "    <tr>\n",
       "      <th>000a6e585b776c96</th>\n",
       "      <td>[timeout]</td>\n",
       "    </tr>\n",
       "    <tr>\n",
       "      <th>000bc9fe5640ed31</th>\n",
       "      <td>[finished, finished]</td>\n",
       "    </tr>\n",
       "    <tr>\n",
       "      <th>000d397013f09039</th>\n",
       "      <td>[finished, finished]</td>\n",
       "    </tr>\n",
       "    <tr>\n",
       "      <th>000e5d4c2c8e921f</th>\n",
       "      <td>[finished, restart, restart, timeout]</td>\n",
       "    </tr>\n",
       "    <tr>\n",
       "      <th>000e954305ddb434</th>\n",
       "      <td>[finished]</td>\n",
       "    </tr>\n",
       "    <tr>\n",
       "      <th>0011acb93ed0090b</th>\n",
       "      <td>[restart, timeout]</td>\n",
       "    </tr>\n",
       "    <tr>\n",
       "      <th>0013e00d2529e52c</th>\n",
       "      <td>[finished, finished, finished, finished, finis...</td>\n",
       "    </tr>\n",
       "    <tr>\n",
       "      <th>001556137480170f</th>\n",
       "      <td>[timeout]</td>\n",
       "    </tr>\n",
       "    <tr>\n",
       "      <th>0015865e516d4932</th>\n",
       "      <td>[restart]</td>\n",
       "    </tr>\n",
       "    <tr>\n",
       "      <th>001a0e3b756ed203</th>\n",
       "      <td>[finished, finished]</td>\n",
       "    </tr>\n",
       "    <tr>\n",
       "      <th>00210d6f590f218c</th>\n",
       "      <td>[timeout]</td>\n",
       "    </tr>\n",
       "    <tr>\n",
       "      <th>00216ef93a2a60bb</th>\n",
       "      <td>[finished]</td>\n",
       "    </tr>\n",
       "    <tr>\n",
       "      <th>002219f2679e2ca4</th>\n",
       "      <td>[finished, finished, finished, finished, finis...</td>\n",
       "    </tr>\n",
       "    <tr>\n",
       "      <th>0022cd0822775ffe</th>\n",
       "      <td>[finished]</td>\n",
       "    </tr>\n",
       "    <tr>\n",
       "      <th>002a5c8d3e20d731</th>\n",
       "      <td>[finished, finished]</td>\n",
       "    </tr>\n",
       "    <tr>\n",
       "      <th>002c94603e92d10c</th>\n",
       "      <td>[finished, finished, finished, finished]</td>\n",
       "    </tr>\n",
       "    <tr>\n",
       "      <th>0031f8d3789c7f2e</th>\n",
       "      <td>[timeout]</td>\n",
       "    </tr>\n",
       "    <tr>\n",
       "      <th>0032432015bedad6</th>\n",
       "      <td>[timeout]</td>\n",
       "    </tr>\n",
       "    <tr>\n",
       "      <th>003716ed22938d0a</th>\n",
       "      <td>[restart, timeout]</td>\n",
       "    </tr>\n",
       "    <tr>\n",
       "      <th>00381d0a21b8ba73</th>\n",
       "      <td>[restart, finished, finished, finished, finish...</td>\n",
       "    </tr>\n",
       "    <tr>\n",
       "      <th>00387299588695d4</th>\n",
       "      <td>[restart, restart, timeout]</td>\n",
       "    </tr>\n",
       "    <tr>\n",
       "      <th>0039c32563d54fe0</th>\n",
       "      <td>[finished, finished, finished, finished, finis...</td>\n",
       "    </tr>\n",
       "    <tr>\n",
       "      <th>0039c5fa63d556b5</th>\n",
       "      <td>[finished, finished]</td>\n",
       "    </tr>\n",
       "    <tr>\n",
       "      <th>003a34e80bdab60d</th>\n",
       "      <td>[restart, finished]</td>\n",
       "    </tr>\n",
       "    <tr>\n",
       "      <th>003b67647e282579</th>\n",
       "      <td>[restart, timeout]</td>\n",
       "    </tr>\n",
       "    <tr>\n",
       "      <th>003b919d1e5387e1</th>\n",
       "      <td>[finished]</td>\n",
       "    </tr>\n",
       "  </tbody>\n",
       "</table>\n",
       "</div>"
      ],
      "text/plain": [
       "                                                               type\n",
       "hashedIpAddress                                                    \n",
       "000386124f307de8                                [finished, timeout]\n",
       "0007183207b6008f                     [finished, finished, finished]\n",
       "000a09e202e88d10                                         [finished]\n",
       "000a5bac5b7781ea                                         [finished]\n",
       "000a6e585b776c96                                          [timeout]\n",
       "000bc9fe5640ed31                               [finished, finished]\n",
       "000d397013f09039                               [finished, finished]\n",
       "000e5d4c2c8e921f              [finished, restart, restart, timeout]\n",
       "000e954305ddb434                                         [finished]\n",
       "0011acb93ed0090b                                 [restart, timeout]\n",
       "0013e00d2529e52c  [finished, finished, finished, finished, finis...\n",
       "001556137480170f                                          [timeout]\n",
       "0015865e516d4932                                          [restart]\n",
       "001a0e3b756ed203                               [finished, finished]\n",
       "00210d6f590f218c                                          [timeout]\n",
       "00216ef93a2a60bb                                         [finished]\n",
       "002219f2679e2ca4  [finished, finished, finished, finished, finis...\n",
       "0022cd0822775ffe                                         [finished]\n",
       "002a5c8d3e20d731                               [finished, finished]\n",
       "002c94603e92d10c           [finished, finished, finished, finished]\n",
       "0031f8d3789c7f2e                                          [timeout]\n",
       "0032432015bedad6                                          [timeout]\n",
       "003716ed22938d0a                                 [restart, timeout]\n",
       "00381d0a21b8ba73  [restart, finished, finished, finished, finish...\n",
       "00387299588695d4                        [restart, restart, timeout]\n",
       "0039c32563d54fe0  [finished, finished, finished, finished, finis...\n",
       "0039c5fa63d556b5                               [finished, finished]\n",
       "003a34e80bdab60d                                [restart, finished]\n",
       "003b67647e282579                                 [restart, timeout]\n",
       "003b919d1e5387e1                                         [finished]"
      ]
     },
     "execution_count": 39,
     "metadata": {},
     "output_type": "execute_result"
    }
   ],
   "source": [
    "players_record = pd.DataFrame(paths_all.sort_values('timestamp').groupby('hashedIpAddress').type.apply(list))\n",
    "players_record.head(30)"
   ]
  },
  {
   "cell_type": "code",
   "execution_count": 40,
   "id": "5dc4a390-6638-47d0-a4a6-e07f12f983e2",
   "metadata": {},
   "outputs": [],
   "source": [
    "players_record['finish'] = players_record['type'].apply(lambda l : l[-1])\n",
    "players_record['nb_games'] = players_record['type'].apply(lambda l : len(l))"
   ]
  },
  {
   "cell_type": "code",
   "execution_count": 41,
   "id": "65efe316-abfc-4ac8-ac03-adb5bdc1868f",
   "metadata": {},
   "outputs": [
    {
     "data": {
      "text/html": [
       "<div>\n",
       "<style scoped>\n",
       "    .dataframe tbody tr th:only-of-type {\n",
       "        vertical-align: middle;\n",
       "    }\n",
       "\n",
       "    .dataframe tbody tr th {\n",
       "        vertical-align: top;\n",
       "    }\n",
       "\n",
       "    .dataframe thead th {\n",
       "        text-align: right;\n",
       "    }\n",
       "</style>\n",
       "<table border=\"1\" class=\"dataframe\">\n",
       "  <thead>\n",
       "    <tr style=\"text-align: right;\">\n",
       "      <th></th>\n",
       "      <th>type</th>\n",
       "      <th>finish</th>\n",
       "      <th>nb_games</th>\n",
       "    </tr>\n",
       "    <tr>\n",
       "      <th>hashedIpAddress</th>\n",
       "      <th></th>\n",
       "      <th></th>\n",
       "      <th></th>\n",
       "    </tr>\n",
       "  </thead>\n",
       "  <tbody>\n",
       "    <tr>\n",
       "      <th>000386124f307de8</th>\n",
       "      <td>[finished, timeout]</td>\n",
       "      <td>timeout</td>\n",
       "      <td>2</td>\n",
       "    </tr>\n",
       "    <tr>\n",
       "      <th>0007183207b6008f</th>\n",
       "      <td>[finished, finished, finished]</td>\n",
       "      <td>finished</td>\n",
       "      <td>3</td>\n",
       "    </tr>\n",
       "    <tr>\n",
       "      <th>000a09e202e88d10</th>\n",
       "      <td>[finished]</td>\n",
       "      <td>finished</td>\n",
       "      <td>1</td>\n",
       "    </tr>\n",
       "    <tr>\n",
       "      <th>000a5bac5b7781ea</th>\n",
       "      <td>[finished]</td>\n",
       "      <td>finished</td>\n",
       "      <td>1</td>\n",
       "    </tr>\n",
       "    <tr>\n",
       "      <th>000a6e585b776c96</th>\n",
       "      <td>[timeout]</td>\n",
       "      <td>timeout</td>\n",
       "      <td>1</td>\n",
       "    </tr>\n",
       "    <tr>\n",
       "      <th>...</th>\n",
       "      <td>...</td>\n",
       "      <td>...</td>\n",
       "      <td>...</td>\n",
       "    </tr>\n",
       "    <tr>\n",
       "      <th>7ff67c3433e623a9</th>\n",
       "      <td>[finished, finished, finished, restart, finish...</td>\n",
       "      <td>timeout</td>\n",
       "      <td>8</td>\n",
       "    </tr>\n",
       "    <tr>\n",
       "      <th>7ff6a4ad1962969e</th>\n",
       "      <td>[finished, timeout]</td>\n",
       "      <td>timeout</td>\n",
       "      <td>2</td>\n",
       "    </tr>\n",
       "    <tr>\n",
       "      <th>7ffc5c7421311771</th>\n",
       "      <td>[finished, finished]</td>\n",
       "      <td>finished</td>\n",
       "      <td>2</td>\n",
       "    </tr>\n",
       "    <tr>\n",
       "      <th>7fff57a336c1f472</th>\n",
       "      <td>[timeout]</td>\n",
       "      <td>timeout</td>\n",
       "      <td>1</td>\n",
       "    </tr>\n",
       "    <tr>\n",
       "      <th>7fffdba06c21ba08</th>\n",
       "      <td>[finished, finished]</td>\n",
       "      <td>finished</td>\n",
       "      <td>2</td>\n",
       "    </tr>\n",
       "  </tbody>\n",
       "</table>\n",
       "<p>20867 rows × 3 columns</p>\n",
       "</div>"
      ],
      "text/plain": [
       "                                                               type    finish  \\\n",
       "hashedIpAddress                                                                 \n",
       "000386124f307de8                                [finished, timeout]   timeout   \n",
       "0007183207b6008f                     [finished, finished, finished]  finished   \n",
       "000a09e202e88d10                                         [finished]  finished   \n",
       "000a5bac5b7781ea                                         [finished]  finished   \n",
       "000a6e585b776c96                                          [timeout]   timeout   \n",
       "...                                                             ...       ...   \n",
       "7ff67c3433e623a9  [finished, finished, finished, restart, finish...   timeout   \n",
       "7ff6a4ad1962969e                                [finished, timeout]   timeout   \n",
       "7ffc5c7421311771                               [finished, finished]  finished   \n",
       "7fff57a336c1f472                                          [timeout]   timeout   \n",
       "7fffdba06c21ba08                               [finished, finished]  finished   \n",
       "\n",
       "                  nb_games  \n",
       "hashedIpAddress             \n",
       "000386124f307de8         2  \n",
       "0007183207b6008f         3  \n",
       "000a09e202e88d10         1  \n",
       "000a5bac5b7781ea         1  \n",
       "000a6e585b776c96         1  \n",
       "...                    ...  \n",
       "7ff67c3433e623a9         8  \n",
       "7ff6a4ad1962969e         2  \n",
       "7ffc5c7421311771         2  \n",
       "7fff57a336c1f472         1  \n",
       "7fffdba06c21ba08         2  \n",
       "\n",
       "[20867 rows x 3 columns]"
      ]
     },
     "execution_count": 41,
     "metadata": {},
     "output_type": "execute_result"
    }
   ],
   "source": [
    "players_record"
   ]
  },
  {
   "cell_type": "code",
   "execution_count": 42,
   "id": "75d42b89",
   "metadata": {},
   "outputs": [],
   "source": [
    "players_record['finish'] = players_record['type'].apply(lambda l : l[-1])\n",
    "players_record['nb_games'] = players_record['type'].apply(lambda l : len(l))"
   ]
  },
  {
   "cell_type": "code",
   "execution_count": 43,
   "id": "2e90d29d",
   "metadata": {},
   "outputs": [
    {
     "data": {
      "text/plain": [
       "finished    10998\n",
       "timeout      7654\n",
       "restart      2215\n",
       "Name: finish, dtype: int64"
      ]
     },
     "execution_count": 43,
     "metadata": {},
     "output_type": "execute_result"
    }
   ],
   "source": [
    "players_record['finish'].value_counts()"
   ]
  },
  {
   "cell_type": "code",
   "execution_count": 44,
   "id": "8fc336b9",
   "metadata": {},
   "outputs": [
    {
     "data": {
      "text/plain": [
       "<AxesSubplot:>"
      ]
     },
     "execution_count": 44,
     "metadata": {},
     "output_type": "execute_result"
    },
    {
     "data": {
      "image/png": "[encoded data removed]",
      "text/plain": [
       "<Figure size 432x288 with 1 Axes>"
      ]
     },
     "metadata": {
      "needs_background": "light"
     },
     "output_type": "display_data"
    }
   ],
   "source": [
    "np.log(players_record[players_record['finish'] == 'restart'].nb_games).hist(log = True)"
   ]
  },
  {
   "cell_type": "code",
   "execution_count": 45,
   "id": "eb87fe69",
   "metadata": {},
   "outputs": [
    {
     "ename": "KeyError",
     "evalue": "'type'",
     "output_type": "error",
     "traceback": [
      "\u001b[1;31m---------------------------------------------------------------------------\u001b[0m",
      "\u001b[1;31mKeyError\u001b[0m                                  Traceback (most recent call last)",
      "\u001b[1;32m~\\anaconda3\\lib\\site-packages\\pandas\\core\\indexes\\base.py\u001b[0m in \u001b[0;36mget_loc\u001b[1;34m(self, key, method, tolerance)\u001b[0m\n\u001b[0;32m   3360\u001b[0m             \u001b[1;32mtry\u001b[0m\u001b[1;33m:\u001b[0m\u001b[1;33m\u001b[0m\u001b[1;33m\u001b[0m\u001b[0m\n\u001b[1;32m-> 3361\u001b[1;33m                 \u001b[1;32mreturn\u001b[0m \u001b[0mself\u001b[0m\u001b[1;33m.\u001b[0m\u001b[0m_engine\u001b[0m\u001b[1;33m.\u001b[0m\u001b[0mget_loc\u001b[0m\u001b[1;33m(\u001b[0m\u001b[0mcasted_key\u001b[0m\u001b[1;33m)\u001b[0m\u001b[1;33m\u001b[0m\u001b[1;33m\u001b[0m\u001b[0m\n\u001b[0m\u001b[0;32m   3362\u001b[0m             \u001b[1;32mexcept\u001b[0m \u001b[0mKeyError\u001b[0m \u001b[1;32mas\u001b[0m \u001b[0merr\u001b[0m\u001b[1;33m:\u001b[0m\u001b[1;33m\u001b[0m\u001b[1;33m\u001b[0m\u001b[0m\n",
      "\u001b[1;32m~\\anaconda3\\lib\\site-packages\\pandas\\_libs\\index.pyx\u001b[0m in \u001b[0;36mpandas._libs.index.IndexEngine.get_loc\u001b[1;34m()\u001b[0m\n",
      "\u001b[1;32m~\\anaconda3\\lib\\site-packages\\pandas\\_libs\\index.pyx\u001b[0m in \u001b[0;36mpandas._libs.index.IndexEngine.get_loc\u001b[1;34m()\u001b[0m\n",
      "\u001b[1;32mpandas\\_libs\\hashtable_class_helper.pxi\u001b[0m in \u001b[0;36mpandas._libs.hashtable.PyObjectHashTable.get_item\u001b[1;34m()\u001b[0m\n",
      "\u001b[1;32mpandas\\_libs\\hashtable_class_helper.pxi\u001b[0m in \u001b[0;36mpandas._libs.hashtable.PyObjectHashTable.get_item\u001b[1;34m()\u001b[0m\n",
      "\u001b[1;31mKeyError\u001b[0m: 'type'",
      "\nThe above exception was the direct cause of the following exception:\n",
      "\u001b[1;31mKeyError\u001b[0m                                  Traceback (most recent call last)",
      "\u001b[1;32m~\\AppData\\Local\\Temp/ipykernel_16256/723622248.py\u001b[0m in \u001b[0;36m<module>\u001b[1;34m\u001b[0m\n\u001b[0;32m      1\u001b[0m \u001b[0mthresh\u001b[0m \u001b[1;33m=\u001b[0m \u001b[1;36m0.99\u001b[0m\u001b[1;33m\u001b[0m\u001b[1;33m\u001b[0m\u001b[0m\n\u001b[0;32m      2\u001b[0m \u001b[0mnot_always_finished\u001b[0m \u001b[1;33m=\u001b[0m \u001b[0mlen\u001b[0m\u001b[1;33m(\u001b[0m\u001b[0mplayers_record\u001b[0m\u001b[1;33m[\u001b[0m\u001b[0mplayer_stats\u001b[0m\u001b[1;33m.\u001b[0m\u001b[0mfinished_percentage\u001b[0m \u001b[1;33m<=\u001b[0m \u001b[0mthresh\u001b[0m\u001b[1;33m]\u001b[0m\u001b[1;33m)\u001b[0m\u001b[1;33m\u001b[0m\u001b[1;33m\u001b[0m\u001b[0m\n\u001b[1;32m----> 3\u001b[1;33m \u001b[0mend_with_timeout\u001b[0m \u001b[1;33m=\u001b[0m \u001b[1;33m(\u001b[0m\u001b[0mplayers_record\u001b[0m\u001b[1;33m[\u001b[0m\u001b[0mplayer_stats\u001b[0m\u001b[1;33m.\u001b[0m\u001b[0mfinished_percentage\u001b[0m \u001b[1;33m<=\u001b[0m \u001b[0mthresh\u001b[0m\u001b[1;33m]\u001b[0m\u001b[1;33m.\u001b[0m\u001b[0mapply\u001b[0m\u001b[1;33m(\u001b[0m\u001b[1;32mlambda\u001b[0m \u001b[0mx\u001b[0m \u001b[1;33m:\u001b[0m\u001b[0mx\u001b[0m\u001b[1;33m[\u001b[0m\u001b[1;34m'type'\u001b[0m\u001b[1;33m]\u001b[0m\u001b[1;33m[\u001b[0m\u001b[1;33m-\u001b[0m\u001b[1;36m1\u001b[0m\u001b[1;33m]\u001b[0m \u001b[1;33m==\u001b[0m \u001b[1;34m'timeout'\u001b[0m\u001b[1;33m)\u001b[0m\u001b[1;33m)\u001b[0m\u001b[1;33m.\u001b[0m\u001b[0msum\u001b[0m\u001b[1;33m(\u001b[0m\u001b[1;33m)\u001b[0m\u001b[1;33m\u001b[0m\u001b[1;33m\u001b[0m\u001b[0m\n\u001b[0m\u001b[0;32m      4\u001b[0m \u001b[0mend_with_2_timeouts\u001b[0m \u001b[1;33m=\u001b[0m \u001b[1;33m(\u001b[0m\u001b[0mplayers_record\u001b[0m\u001b[1;33m[\u001b[0m\u001b[0mplayer_stats\u001b[0m\u001b[1;33m.\u001b[0m\u001b[0mfinished_percentage\u001b[0m \u001b[1;33m<=\u001b[0m \u001b[0mthresh\u001b[0m\u001b[1;33m]\u001b[0m\u001b[1;33m.\u001b[0m\u001b[0mapply\u001b[0m\u001b[1;33m(\u001b[0m\u001b[1;32mlambda\u001b[0m \u001b[0mx\u001b[0m \u001b[1;33m:\u001b[0m\u001b[0mx\u001b[0m\u001b[1;33m[\u001b[0m\u001b[1;34m'type'\u001b[0m\u001b[1;33m]\u001b[0m\u001b[1;33m[\u001b[0m\u001b[1;33m-\u001b[0m\u001b[1;36m1\u001b[0m\u001b[1;33m]\u001b[0m \u001b[1;33m==\u001b[0m \u001b[1;34m'timeout'\u001b[0m \u001b[1;32mand\u001b[0m \u001b[0mlen\u001b[0m\u001b[1;33m(\u001b[0m\u001b[0mx\u001b[0m\u001b[1;33m[\u001b[0m\u001b[1;34m'type'\u001b[0m\u001b[1;33m]\u001b[0m\u001b[1;33m)\u001b[0m\u001b[1;33m>=\u001b[0m\u001b[1;36m2\u001b[0m \u001b[1;32mand\u001b[0m \u001b[0mx\u001b[0m\u001b[1;33m[\u001b[0m\u001b[1;34m'type'\u001b[0m\u001b[1;33m]\u001b[0m\u001b[1;33m[\u001b[0m\u001b[1;33m-\u001b[0m\u001b[1;36m2\u001b[0m\u001b[1;33m]\u001b[0m \u001b[1;33m==\u001b[0m \u001b[1;34m'timeout'\u001b[0m\u001b[1;33m)\u001b[0m\u001b[1;33m)\u001b[0m\u001b[1;33m.\u001b[0m\u001b[0msum\u001b[0m\u001b[1;33m(\u001b[0m\u001b[1;33m)\u001b[0m\u001b[1;33m\u001b[0m\u001b[1;33m\u001b[0m\u001b[0m\n\u001b[0;32m      5\u001b[0m \u001b[1;33m\u001b[0m\u001b[0m\n",
      "\u001b[1;32m~\\anaconda3\\lib\\site-packages\\pandas\\core\\frame.py\u001b[0m in \u001b[0;36mapply\u001b[1;34m(self, func, axis, raw, result_type, args, **kwargs)\u001b[0m\n\u001b[0;32m   8738\u001b[0m             \u001b[0mkwargs\u001b[0m\u001b[1;33m=\u001b[0m\u001b[0mkwargs\u001b[0m\u001b[1;33m,\u001b[0m\u001b[1;33m\u001b[0m\u001b[1;33m\u001b[0m\u001b[0m\n\u001b[0;32m   8739\u001b[0m         )\n\u001b[1;32m-> 8740\u001b[1;33m         \u001b[1;32mreturn\u001b[0m \u001b[0mop\u001b[0m\u001b[1;33m.\u001b[0m\u001b[0mapply\u001b[0m\u001b[1;33m(\u001b[0m\u001b[1;33m)\u001b[0m\u001b[1;33m\u001b[0m\u001b[1;33m\u001b[0m\u001b[0m\n\u001b[0m\u001b[0;32m   8741\u001b[0m \u001b[1;33m\u001b[0m\u001b[0m\n\u001b[0;32m   8742\u001b[0m     def applymap(\n",
      "\u001b[1;32m~\\anaconda3\\lib\\site-packages\\pandas\\core\\apply.py\u001b[0m in \u001b[0;36mapply\u001b[1;34m(self)\u001b[0m\n\u001b[0;32m    686\u001b[0m             \u001b[1;32mreturn\u001b[0m \u001b[0mself\u001b[0m\u001b[1;33m.\u001b[0m\u001b[0mapply_raw\u001b[0m\u001b[1;33m(\u001b[0m\u001b[1;33m)\u001b[0m\u001b[1;33m\u001b[0m\u001b[1;33m\u001b[0m\u001b[0m\n\u001b[0;32m    687\u001b[0m \u001b[1;33m\u001b[0m\u001b[0m\n\u001b[1;32m--> 688\u001b[1;33m         \u001b[1;32mreturn\u001b[0m \u001b[0mself\u001b[0m\u001b[1;33m.\u001b[0m\u001b[0mapply_standard\u001b[0m\u001b[1;33m(\u001b[0m\u001b[1;33m)\u001b[0m\u001b[1;33m\u001b[0m\u001b[1;33m\u001b[0m\u001b[0m\n\u001b[0m\u001b[0;32m    689\u001b[0m \u001b[1;33m\u001b[0m\u001b[0m\n\u001b[0;32m    690\u001b[0m     \u001b[1;32mdef\u001b[0m \u001b[0magg\u001b[0m\u001b[1;33m(\u001b[0m\u001b[0mself\u001b[0m\u001b[1;33m)\u001b[0m\u001b[1;33m:\u001b[0m\u001b[1;33m\u001b[0m\u001b[1;33m\u001b[0m\u001b[0m\n",
      "\u001b[1;32m~\\anaconda3\\lib\\site-packages\\pandas\\core\\apply.py\u001b[0m in \u001b[0;36mapply_standard\u001b[1;34m(self)\u001b[0m\n\u001b[0;32m    810\u001b[0m \u001b[1;33m\u001b[0m\u001b[0m\n\u001b[0;32m    811\u001b[0m     \u001b[1;32mdef\u001b[0m \u001b[0mapply_standard\u001b[0m\u001b[1;33m(\u001b[0m\u001b[0mself\u001b[0m\u001b[1;33m)\u001b[0m\u001b[1;33m:\u001b[0m\u001b[1;33m\u001b[0m\u001b[1;33m\u001b[0m\u001b[0m\n\u001b[1;32m--> 812\u001b[1;33m         \u001b[0mresults\u001b[0m\u001b[1;33m,\u001b[0m \u001b[0mres_index\u001b[0m \u001b[1;33m=\u001b[0m \u001b[0mself\u001b[0m\u001b[1;33m.\u001b[0m\u001b[0mapply_series_generator\u001b[0m\u001b[1;33m(\u001b[0m\u001b[1;33m)\u001b[0m\u001b[1;33m\u001b[0m\u001b[1;33m\u001b[0m\u001b[0m\n\u001b[0m\u001b[0;32m    813\u001b[0m \u001b[1;33m\u001b[0m\u001b[0m\n\u001b[0;32m    814\u001b[0m         \u001b[1;31m# wrap results\u001b[0m\u001b[1;33m\u001b[0m\u001b[1;33m\u001b[0m\u001b[0m\n",
      "\u001b[1;32m~\\anaconda3\\lib\\site-packages\\pandas\\core\\apply.py\u001b[0m in \u001b[0;36mapply_series_generator\u001b[1;34m(self)\u001b[0m\n\u001b[0;32m    826\u001b[0m             \u001b[1;32mfor\u001b[0m \u001b[0mi\u001b[0m\u001b[1;33m,\u001b[0m \u001b[0mv\u001b[0m \u001b[1;32min\u001b[0m \u001b[0menumerate\u001b[0m\u001b[1;33m(\u001b[0m\u001b[0mseries_gen\u001b[0m\u001b[1;33m)\u001b[0m\u001b[1;33m:\u001b[0m\u001b[1;33m\u001b[0m\u001b[1;33m\u001b[0m\u001b[0m\n\u001b[0;32m    827\u001b[0m                 \u001b[1;31m# ignore SettingWithCopy here in case the user mutates\u001b[0m\u001b[1;33m\u001b[0m\u001b[1;33m\u001b[0m\u001b[0m\n\u001b[1;32m--> 828\u001b[1;33m                 \u001b[0mresults\u001b[0m\u001b[1;33m[\u001b[0m\u001b[0mi\u001b[0m\u001b[1;33m]\u001b[0m \u001b[1;33m=\u001b[0m \u001b[0mself\u001b[0m\u001b[1;33m.\u001b[0m\u001b[0mf\u001b[0m\u001b[1;33m(\u001b[0m\u001b[0mv\u001b[0m\u001b[1;33m)\u001b[0m\u001b[1;33m\u001b[0m\u001b[1;33m\u001b[0m\u001b[0m\n\u001b[0m\u001b[0;32m    829\u001b[0m                 \u001b[1;32mif\u001b[0m \u001b[0misinstance\u001b[0m\u001b[1;33m(\u001b[0m\u001b[0mresults\u001b[0m\u001b[1;33m[\u001b[0m\u001b[0mi\u001b[0m\u001b[1;33m]\u001b[0m\u001b[1;33m,\u001b[0m \u001b[0mABCSeries\u001b[0m\u001b[1;33m)\u001b[0m\u001b[1;33m:\u001b[0m\u001b[1;33m\u001b[0m\u001b[1;33m\u001b[0m\u001b[0m\n\u001b[0;32m    830\u001b[0m                     \u001b[1;31m# If we have a view on v, we need to make a copy because\u001b[0m\u001b[1;33m\u001b[0m\u001b[1;33m\u001b[0m\u001b[0m\n",
      "\u001b[1;32m~\\AppData\\Local\\Temp/ipykernel_16256/723622248.py\u001b[0m in \u001b[0;36m<lambda>\u001b[1;34m(x)\u001b[0m\n\u001b[0;32m      1\u001b[0m \u001b[0mthresh\u001b[0m \u001b[1;33m=\u001b[0m \u001b[1;36m0.99\u001b[0m\u001b[1;33m\u001b[0m\u001b[1;33m\u001b[0m\u001b[0m\n\u001b[0;32m      2\u001b[0m \u001b[0mnot_always_finished\u001b[0m \u001b[1;33m=\u001b[0m \u001b[0mlen\u001b[0m\u001b[1;33m(\u001b[0m\u001b[0mplayers_record\u001b[0m\u001b[1;33m[\u001b[0m\u001b[0mplayer_stats\u001b[0m\u001b[1;33m.\u001b[0m\u001b[0mfinished_percentage\u001b[0m \u001b[1;33m<=\u001b[0m \u001b[0mthresh\u001b[0m\u001b[1;33m]\u001b[0m\u001b[1;33m)\u001b[0m\u001b[1;33m\u001b[0m\u001b[1;33m\u001b[0m\u001b[0m\n\u001b[1;32m----> 3\u001b[1;33m \u001b[0mend_with_timeout\u001b[0m \u001b[1;33m=\u001b[0m \u001b[1;33m(\u001b[0m\u001b[0mplayers_record\u001b[0m\u001b[1;33m[\u001b[0m\u001b[0mplayer_stats\u001b[0m\u001b[1;33m.\u001b[0m\u001b[0mfinished_percentage\u001b[0m \u001b[1;33m<=\u001b[0m \u001b[0mthresh\u001b[0m\u001b[1;33m]\u001b[0m\u001b[1;33m.\u001b[0m\u001b[0mapply\u001b[0m\u001b[1;33m(\u001b[0m\u001b[1;32mlambda\u001b[0m \u001b[0mx\u001b[0m \u001b[1;33m:\u001b[0m\u001b[0mx\u001b[0m\u001b[1;33m[\u001b[0m\u001b[1;34m'type'\u001b[0m\u001b[1;33m]\u001b[0m\u001b[1;33m[\u001b[0m\u001b[1;33m-\u001b[0m\u001b[1;36m1\u001b[0m\u001b[1;33m]\u001b[0m \u001b[1;33m==\u001b[0m \u001b[1;34m'timeout'\u001b[0m\u001b[1;33m)\u001b[0m\u001b[1;33m)\u001b[0m\u001b[1;33m.\u001b[0m\u001b[0msum\u001b[0m\u001b[1;33m(\u001b[0m\u001b[1;33m)\u001b[0m\u001b[1;33m\u001b[0m\u001b[1;33m\u001b[0m\u001b[0m\n\u001b[0m\u001b[0;32m      4\u001b[0m \u001b[0mend_with_2_timeouts\u001b[0m \u001b[1;33m=\u001b[0m \u001b[1;33m(\u001b[0m\u001b[0mplayers_record\u001b[0m\u001b[1;33m[\u001b[0m\u001b[0mplayer_stats\u001b[0m\u001b[1;33m.\u001b[0m\u001b[0mfinished_percentage\u001b[0m \u001b[1;33m<=\u001b[0m \u001b[0mthresh\u001b[0m\u001b[1;33m]\u001b[0m\u001b[1;33m.\u001b[0m\u001b[0mapply\u001b[0m\u001b[1;33m(\u001b[0m\u001b[1;32mlambda\u001b[0m \u001b[0mx\u001b[0m \u001b[1;33m:\u001b[0m\u001b[0mx\u001b[0m\u001b[1;33m[\u001b[0m\u001b[1;34m'type'\u001b[0m\u001b[1;33m]\u001b[0m\u001b[1;33m[\u001b[0m\u001b[1;33m-\u001b[0m\u001b[1;36m1\u001b[0m\u001b[1;33m]\u001b[0m \u001b[1;33m==\u001b[0m \u001b[1;34m'timeout'\u001b[0m \u001b[1;32mand\u001b[0m \u001b[0mlen\u001b[0m\u001b[1;33m(\u001b[0m\u001b[0mx\u001b[0m\u001b[1;33m[\u001b[0m\u001b[1;34m'type'\u001b[0m\u001b[1;33m]\u001b[0m\u001b[1;33m)\u001b[0m\u001b[1;33m>=\u001b[0m\u001b[1;36m2\u001b[0m \u001b[1;32mand\u001b[0m \u001b[0mx\u001b[0m\u001b[1;33m[\u001b[0m\u001b[1;34m'type'\u001b[0m\u001b[1;33m]\u001b[0m\u001b[1;33m[\u001b[0m\u001b[1;33m-\u001b[0m\u001b[1;36m2\u001b[0m\u001b[1;33m]\u001b[0m \u001b[1;33m==\u001b[0m \u001b[1;34m'timeout'\u001b[0m\u001b[1;33m)\u001b[0m\u001b[1;33m)\u001b[0m\u001b[1;33m.\u001b[0m\u001b[0msum\u001b[0m\u001b[1;33m(\u001b[0m\u001b[1;33m)\u001b[0m\u001b[1;33m\u001b[0m\u001b[1;33m\u001b[0m\u001b[0m\n\u001b[0;32m      5\u001b[0m \u001b[1;33m\u001b[0m\u001b[0m\n",
      "\u001b[1;32m~\\anaconda3\\lib\\site-packages\\pandas\\core\\series.py\u001b[0m in \u001b[0;36m__getitem__\u001b[1;34m(self, key)\u001b[0m\n\u001b[0;32m    940\u001b[0m \u001b[1;33m\u001b[0m\u001b[0m\n\u001b[0;32m    941\u001b[0m         \u001b[1;32melif\u001b[0m \u001b[0mkey_is_scalar\u001b[0m\u001b[1;33m:\u001b[0m\u001b[1;33m\u001b[0m\u001b[1;33m\u001b[0m\u001b[0m\n\u001b[1;32m--> 942\u001b[1;33m             \u001b[1;32mreturn\u001b[0m \u001b[0mself\u001b[0m\u001b[1;33m.\u001b[0m\u001b[0m_get_value\u001b[0m\u001b[1;33m(\u001b[0m\u001b[0mkey\u001b[0m\u001b[1;33m)\u001b[0m\u001b[1;33m\u001b[0m\u001b[1;33m\u001b[0m\u001b[0m\n\u001b[0m\u001b[0;32m    943\u001b[0m \u001b[1;33m\u001b[0m\u001b[0m\n\u001b[0;32m    944\u001b[0m         \u001b[1;32mif\u001b[0m \u001b[0mis_hashable\u001b[0m\u001b[1;33m(\u001b[0m\u001b[0mkey\u001b[0m\u001b[1;33m)\u001b[0m\u001b[1;33m:\u001b[0m\u001b[1;33m\u001b[0m\u001b[1;33m\u001b[0m\u001b[0m\n",
      "\u001b[1;32m~\\anaconda3\\lib\\site-packages\\pandas\\core\\series.py\u001b[0m in \u001b[0;36m_get_value\u001b[1;34m(self, label, takeable)\u001b[0m\n\u001b[0;32m   1049\u001b[0m \u001b[1;33m\u001b[0m\u001b[0m\n\u001b[0;32m   1050\u001b[0m         \u001b[1;31m# Similar to Index.get_value, but we do not fall back to positional\u001b[0m\u001b[1;33m\u001b[0m\u001b[1;33m\u001b[0m\u001b[0m\n\u001b[1;32m-> 1051\u001b[1;33m         \u001b[0mloc\u001b[0m \u001b[1;33m=\u001b[0m \u001b[0mself\u001b[0m\u001b[1;33m.\u001b[0m\u001b[0mindex\u001b[0m\u001b[1;33m.\u001b[0m\u001b[0mget_loc\u001b[0m\u001b[1;33m(\u001b[0m\u001b[0mlabel\u001b[0m\u001b[1;33m)\u001b[0m\u001b[1;33m\u001b[0m\u001b[1;33m\u001b[0m\u001b[0m\n\u001b[0m\u001b[0;32m   1052\u001b[0m         \u001b[1;32mreturn\u001b[0m \u001b[0mself\u001b[0m\u001b[1;33m.\u001b[0m\u001b[0mindex\u001b[0m\u001b[1;33m.\u001b[0m\u001b[0m_get_values_for_loc\u001b[0m\u001b[1;33m(\u001b[0m\u001b[0mself\u001b[0m\u001b[1;33m,\u001b[0m \u001b[0mloc\u001b[0m\u001b[1;33m,\u001b[0m \u001b[0mlabel\u001b[0m\u001b[1;33m)\u001b[0m\u001b[1;33m\u001b[0m\u001b[1;33m\u001b[0m\u001b[0m\n\u001b[0;32m   1053\u001b[0m \u001b[1;33m\u001b[0m\u001b[0m\n",
      "\u001b[1;32m~\\anaconda3\\lib\\site-packages\\pandas\\core\\indexes\\base.py\u001b[0m in \u001b[0;36mget_loc\u001b[1;34m(self, key, method, tolerance)\u001b[0m\n\u001b[0;32m   3361\u001b[0m                 \u001b[1;32mreturn\u001b[0m \u001b[0mself\u001b[0m\u001b[1;33m.\u001b[0m\u001b[0m_engine\u001b[0m\u001b[1;33m.\u001b[0m\u001b[0mget_loc\u001b[0m\u001b[1;33m(\u001b[0m\u001b[0mcasted_key\u001b[0m\u001b[1;33m)\u001b[0m\u001b[1;33m\u001b[0m\u001b[1;33m\u001b[0m\u001b[0m\n\u001b[0;32m   3362\u001b[0m             \u001b[1;32mexcept\u001b[0m \u001b[0mKeyError\u001b[0m \u001b[1;32mas\u001b[0m \u001b[0merr\u001b[0m\u001b[1;33m:\u001b[0m\u001b[1;33m\u001b[0m\u001b[1;33m\u001b[0m\u001b[0m\n\u001b[1;32m-> 3363\u001b[1;33m                 \u001b[1;32mraise\u001b[0m \u001b[0mKeyError\u001b[0m\u001b[1;33m(\u001b[0m\u001b[0mkey\u001b[0m\u001b[1;33m)\u001b[0m \u001b[1;32mfrom\u001b[0m \u001b[0merr\u001b[0m\u001b[1;33m\u001b[0m\u001b[1;33m\u001b[0m\u001b[0m\n\u001b[0m\u001b[0;32m   3364\u001b[0m \u001b[1;33m\u001b[0m\u001b[0m\n\u001b[0;32m   3365\u001b[0m         \u001b[1;32mif\u001b[0m \u001b[0mis_scalar\u001b[0m\u001b[1;33m(\u001b[0m\u001b[0mkey\u001b[0m\u001b[1;33m)\u001b[0m \u001b[1;32mand\u001b[0m \u001b[0misna\u001b[0m\u001b[1;33m(\u001b[0m\u001b[0mkey\u001b[0m\u001b[1;33m)\u001b[0m \u001b[1;32mand\u001b[0m \u001b[1;32mnot\u001b[0m \u001b[0mself\u001b[0m\u001b[1;33m.\u001b[0m\u001b[0mhasnans\u001b[0m\u001b[1;33m:\u001b[0m\u001b[1;33m\u001b[0m\u001b[1;33m\u001b[0m\u001b[0m\n",
      "\u001b[1;31mKeyError\u001b[0m: 'type'"
     ]
    }
   ],
   "source": [
    "thresh = 0.99\n",
    "not_always_finished = len(players_record[player_stats.finished_percentage <= thresh])\n",
    "end_with_timeout = (players_record[player_stats.finished_percentage <= thresh].apply(lambda x :x['type'][-1] == 'timeout')).sum()\n",
    "end_with_2_timeouts = (players_record[player_stats.finished_percentage <= thresh].apply(lambda x :x['type'][-1] == 'timeout' and len(x['type'])>=2 and x['type'][-2] == 'timeout')).sum()\n",
    "\n",
    "print(\"Number of players that did end with a timeout : %d, which represent %.3f%% of the players that finished less than %.2f of their game\"%(end_with_timeout, end_with_timeout/not_always_finished, thresh))\n",
    "end_with_timeout/not_always_finished"
   ]
  },
  {
   "cell_type": "markdown",
   "id": "4cf97eba",
   "metadata": {},
   "source": [
    "</div>\n",
    "<div class=\"1.1 explanation\" style='background-color:#08135c; border-left: solid #darkblue 4px; border-radius: 4px; padding:0.7em;'>\n",
    "    <span style=\"color:white\">\n",
    "       <h3>4.2 Ratings</h3>\n",
    "    </span>\n",
    "</div>\n",
    "</div>\n",
    "<div class=\"1.1 explanation\" style='background-color:#faefe1; border-left: solid #darkblue 4px; border-radius: 4px; padding:0.7em;'>\n",
    "    <span style=\"color:black\">\n",
    "        Our idea is to give easier or hardere game to player so that it correspond to their expectations. If they always finish, give them harder game and if they never finish give them easier games. For this we can use rating. We know that 55% of the finished paths were rated.\n",
    "    </span>\n",
    "</div>"
   ]
  },
  {
   "cell_type": "code",
   "execution_count": 46,
   "id": "a195a7ea",
   "metadata": {},
   "outputs": [
    {
     "name": "stdout",
     "output_type": "stream",
     "text": [
      "From the 51318 finished paths, we have 28501 that were rated, this corresponds to 0.555 of the data\n"
     ]
    }
   ],
   "source": [
    "nb_na_ratings = len(paths_finished[paths_finished.rating.isna()])\n",
    "total_finished = len(paths_finished)\n",
    "nb_non_na_ratings = total_finished - nb_na_ratings\n",
    "\n",
    "print(\"From the %d finished paths, we have %d that were rated, this corresponds to %.3f of the data\"\n",
    "      %(total_finished, nb_non_na_ratings, nb_non_na_ratings/total_finished))"
   ]
  },
  {
   "cell_type": "markdown",
   "id": "e5db1637-6369-4384-8507-0aa122838015",
   "metadata": {},
   "source": [
    "</div>\n",
    "<div class=\"1.1 explanation\" style='background-color:#08135c; border-left: solid #darkblue 4px; border-radius: 4px; padding:0.7em;'>\n",
    "    <span style=\"color:white\">\n",
    "       <h3>4.3 End of game distribution</h3>\n",
    "    </span>\n",
    "</div>\n",
    "</div>\n",
    "<div class=\"1.1 explanation\" style='background-color:#faefe1; border-left: solid #darkblue 4px; border-radius: 4px; padding:0.7em;'>\n",
    "    <span style=\"color:black\">\n",
    "        We are interested in the between-game history of the player. The last game of the players can be either  <span style=\"font-family: monospace; background-color:#fadfb9; padding-left:4px; padding-right:4px; border-radius: 5px;\">finished</span>,  <span style=\"font-family: monospace; background-color:#fadfb9; padding-left:4px; padding-right:4px; border-radius: 5px;\">timeout</span> or  <span style=\"font-family: monospace; background-color:#fadfb9; padding-left:4px; padding-right:4px; border-radius: 5px;\">restart</span>. We have seen in <b>4.1</b> that the distribution of games played per player follows a power-law. Let's first have a look at how the different players with their last game being <span style=\"font-family: monospace; background-color:#fadfb9; padding-left:4px; padding-right:4px; border-radius: 5px;\">finished</span>, <span style=\"font-family: monospace; background-color:#fadfb9; padding-left:4px; padding-right:4px; border-radius: 5px;\">timeout</span> or <span style=\"font-family: monospace; background-color:#fadfb9; padding-left:4px; padding-right:4px; border-radius: 5px;\">restart</span> contribute to this. \n",
    "    </span>\n",
    "</div>"
   ]
  },
  {
   "cell_type": "code",
   "execution_count": 47,
   "id": "f429a228-ed04-4cdb-8b22-4844fb4da24d",
   "metadata": {},
   "outputs": [
    {
     "data": {
      "image/png": "[encoded data removed]",
      "text/plain": [
       "<Figure size 1008x288 with 3 Axes>"
      ]
     },
     "metadata": {
      "needs_background": "light"
     },
     "output_type": "display_data"
    }
   ],
   "source": [
    "#Initialize figure and axis\n",
    "fig = plt.figure(figsize=(14,4))\n",
    "fig.suptitle('Number of games played')\n",
    "ax = plt.subplot(1,2,1)\n",
    "flierprops = {'marker': '.', 'markersize': 4, 'markerfacecolor': 'k'}\n",
    "boxprops= {'facecolor': (31/255, 119/255, 180/255, 0.5), 'color': 'k'}\n",
    "medianprops = {'color': (31/255, 119/255, 180/255)}\n",
    "\n",
    "#Initialize number of games per group\n",
    "nb_games_finished = players_record[players_record['finish'] == 'finished'].nb_games\n",
    "nb_games_timeout = players_record[players_record['finish'] == 'timeout'].nb_games\n",
    "nb_games_restart = players_record[players_record['finish'] == 'restart'].nb_games\n",
    "\n",
    "ax = plt.subplot(1,2,1)\n",
    "ax.boxplot([nb_games_timeout, nb_games_restart, nb_games_finished], patch_artist=True, flierprops=flierprops, boxprops=boxprops, medianprops=medianprops, labels=['timeout', 'restart', 'finished']);\n",
    "ax.set_yscale('log')\n",
    "ax.set_ylabel('lnumber of games played (log-scale)')\n",
    "ax.spines['right'].set_visible(False)\n",
    "ax.spines['top'].set_visible(False)\n",
    "\n",
    "ax = plt.subplot(2,2,4)\n",
    "(_, bins, _) = ax.hist(np.log10(players_record[players_record['finish'] == 'finished'].nb_games), bins=20, log=True, edgecolor=(1,1,1), color='olivedrab', alpha=0.4, label='finished');\n",
    "ax.legend();\n",
    "ax.set_xlabel('log(#games)')\n",
    "xlim = ax.get_xlim();\n",
    "\n",
    "ax = plt.subplot(2,2,2)\n",
    "ax.hist(np.log10(players_record[players_record['finish'] == 'timeout'].nb_games), log=True, bins=bins, edgecolor=(1,1,1), color='orange', alpha=0.4, label='timeout');\n",
    "ax.hist(np.log10(players_record[players_record['finish'] == 'restart'].nb_games), log=True, bins=bins, edgecolor=(1,1,1), color='red', alpha=0.4, label='restart');\n",
    "ax.legend();\n",
    "ax.set_xlim(xlim);"
   ]
  },
  {
   "cell_type": "markdown",
   "id": "81516f2c-68ed-41ea-8580-b2c506f94093",
   "metadata": {},
   "source": [
    "<div class=\"1.1 explanation\" style='background-color:#faefe1; border-left: solid #darkblue 4px; border-radius: 4px; padding:0.7em;'>\n",
    "    <span style=\"color:black\">\n",
    "        It seems like the median is different for finished is different compared to timeout and restart. However not too signficiant I think (it's on log-scale). We could perform a hypothesis check for this (bootstrap in the following). However, so far not too convincing that the number of games for players ending on timeout it less. All seem to follow a similar power-law. <b>What to do from here?</b>\n",
    "    </span>\n",
    "</div>"
   ]
  },
  {
   "cell_type": "markdown",
   "id": "9195cecc-5795-4700-bf53-6e1000894013",
   "metadata": {},
   "source": [
    "median is always the same so bootstrap is not very interesting. But you can see a clear difference between the finished pathlengths and the rest. Unfortunately the confidence interval are not very clear. Maybe not graphical visualization"
   ]
  },
  {
   "cell_type": "code",
   "execution_count": 95,
   "id": "5a7cc6ed-3dcf-4b5b-b4cb-8270d2664a42",
   "metadata": {},
   "outputs": [],
   "source": [
    "def bootstrap_CI(data, nbr_draws, mean, with_means = False):\n",
    "    means = np.zeros(nbr_draws)\n",
    "    data = np.array(data)\n",
    "    \n",
    "    for n in range(nbr_draws):\n",
    "        indices = np.random.randint(0, len(data), len(data))\n",
    "        data_tmp = data[indices] \n",
    "\n",
    "\n",
    "        if mean == 'median':\n",
    "            means[n] = np.nanmedian(data_tmp)\n",
    "\n",
    "    if with_means :\n",
    "        return [np.nanpercentile(means, 2.5),np.nanpercentile(means, 97.5)], means\n",
    "    else : \n",
    "        return [np.nanpercentile(means, 2.5),np.nanpercentile(means, 97.5)]"
   ]
  },
  {
   "cell_type": "code",
   "execution_count": 96,
   "id": "0e9a226c-631f-45f3-a72e-b970c38466c2",
   "metadata": {},
   "outputs": [],
   "source": [
    "finished = pd.DataFrame(players_record[players_record['finish'] == 'finished'].nb_games)\n",
    "timeout = pd.DataFrame(players_record[players_record['finish'] == 'timeout'].nb_games)\n",
    "restart = pd.DataFrame(players_record[players_record['finish'] == 'restart'].nb_games)"
   ]
  },
  {
   "cell_type": "code",
   "execution_count": 97,
   "id": "bbb75b4e-8bd7-4209-ba5e-71e84f5b50db",
   "metadata": {},
   "outputs": [],
   "source": [
    "#calculate for finished\n",
    "ci_fin, stats_fin = bootstrap_CI(finished['nb_games'], 100, 'median', True)\n",
    "#calculate for restart\n",
    "ci_res, stats_res = bootstrap_CI(restart['nb_games'], 100, 'median', True)\n",
    "#calculate for timeout\n",
    "ci_tim, stats_tim = bootstrap_CI(timeout['nb_games'], 100, 'median', True)"
   ]
  },
  {
   "cell_type": "code",
   "execution_count": 100,
   "id": "b2dcb23e-661f-41b5-bb3d-a81a681fdc10",
   "metadata": {},
   "outputs": [
    {
     "data": {
      "image/png": "[encoded data removed]",
      "text/plain": [
       "<Figure size 1008x288 with 1 Axes>"
      ]
     },
     "metadata": {
      "needs_background": "light"
     },
     "output_type": "display_data"
    }
   ],
   "source": [
    "#Plot confidence intervals\n",
    "fig, ax = plt.subplots(figsize=(14,4))\n",
    "\n",
    "#finished\n",
    "ax.hist(stats_fin, bins=20, edgecolor = 'k', color='grey',alpha = 0.6, label = 'Bootstrapping finished median pathlength')\n",
    "ax.vlines(ci_fin, 0, ax.get_ylim()[1], ls='--', color='k', linewidth=2, label = '95% CI for geometric mean')\n",
    "\n",
    "#restart\n",
    "ax.hist(stats_res, bins=20, edgecolor = 'k', color='cornflowerblue',alpha = 0.6, label = 'Bootstrapping restart median pathlength')\n",
    "ax.vlines(ci_res, 0, ax.get_ylim()[1], ls='--', color='k', linewidth=2, label = '95% CI for geometric mean')\n",
    "\n",
    "#timeout\n",
    "ax.hist(stats_tim, bins=20, edgecolor = 'k', color='black',alpha = 0.6, label = 'Bootstrapping restart median pathlength')\n",
    "ax.vlines(ci_tim, 0, ax.get_ylim()[1], ls='--', color='k', linewidth=2, label = '95% CI for geometric mean')\n",
    "\n",
    "ax.set_title('Bootstrapping with arithmetic and geometric mean of pageviews')\n",
    "ax.set_xlabel('pageview (log-scale)')\n",
    "ax.set_ylabel('Frequence of apparence')\n",
    "ax.legend(loc=(1.02, 0.70));"
   ]
  },
  {
   "cell_type": "markdown",
   "id": "7a3b5d98-76e8-4520-bf42-c5beb73faf74",
   "metadata": {},
   "source": [
    "<div class=\"1.1 explanation\" style='background-color:#faefe1; border-left: solid #darkblue 4px; border-radius: 4px; padding:0.7em;'>\n",
    "    <span style=\"color:black\">\n",
    "        This result does not mean the end. We can still focus on why people timeout in general. However, the argument of extra data we can gain is not too convincing maybe. <br><br>\n",
    "        <b>Idea: maybe only look for the number of finished attempt as they might be more important.</b>\n",
    "    </span>\n",
    "</div>"
   ]
  },
  {
   "cell_type": "code",
   "execution_count": 148,
   "id": "6febee53-69ab-476e-ac08-9200996ddc3d",
   "metadata": {},
   "outputs": [
    {
     "data": {
      "text/html": [
       "<div>\n",
       "<style scoped>\n",
       "    .dataframe tbody tr th:only-of-type {\n",
       "        vertical-align: middle;\n",
       "    }\n",
       "\n",
       "    .dataframe tbody tr th {\n",
       "        vertical-align: top;\n",
       "    }\n",
       "\n",
       "    .dataframe thead th {\n",
       "        text-align: right;\n",
       "    }\n",
       "</style>\n",
       "<table border=\"1\" class=\"dataframe\">\n",
       "  <thead>\n",
       "    <tr style=\"text-align: right;\">\n",
       "      <th></th>\n",
       "      <th>type</th>\n",
       "      <th>finish</th>\n",
       "      <th>nb_games</th>\n",
       "      <th>finished</th>\n",
       "      <th>count_restart</th>\n",
       "    </tr>\n",
       "    <tr>\n",
       "      <th>hashedIpAddress</th>\n",
       "      <th></th>\n",
       "      <th></th>\n",
       "      <th></th>\n",
       "      <th></th>\n",
       "      <th></th>\n",
       "    </tr>\n",
       "  </thead>\n",
       "  <tbody>\n",
       "    <tr>\n",
       "      <th>0007183207b6008f</th>\n",
       "      <td>[finished, finished, finished]</td>\n",
       "      <td>finished</td>\n",
       "      <td>3</td>\n",
       "      <td>True</td>\n",
       "      <td>0</td>\n",
       "    </tr>\n",
       "    <tr>\n",
       "      <th>000a09e202e88d10</th>\n",
       "      <td>[finished]</td>\n",
       "      <td>finished</td>\n",
       "      <td>1</td>\n",
       "      <td>False</td>\n",
       "      <td>0</td>\n",
       "    </tr>\n",
       "    <tr>\n",
       "      <th>000a5bac5b7781ea</th>\n",
       "      <td>[finished]</td>\n",
       "      <td>finished</td>\n",
       "      <td>1</td>\n",
       "      <td>False</td>\n",
       "      <td>0</td>\n",
       "    </tr>\n",
       "    <tr>\n",
       "      <th>000bc9fe5640ed31</th>\n",
       "      <td>[finished, finished]</td>\n",
       "      <td>finished</td>\n",
       "      <td>2</td>\n",
       "      <td>True</td>\n",
       "      <td>0</td>\n",
       "    </tr>\n",
       "    <tr>\n",
       "      <th>000d397013f09039</th>\n",
       "      <td>[finished, finished]</td>\n",
       "      <td>finished</td>\n",
       "      <td>2</td>\n",
       "      <td>True</td>\n",
       "      <td>0</td>\n",
       "    </tr>\n",
       "    <tr>\n",
       "      <th>...</th>\n",
       "      <td>...</td>\n",
       "      <td>...</td>\n",
       "      <td>...</td>\n",
       "      <td>...</td>\n",
       "      <td>...</td>\n",
       "    </tr>\n",
       "    <tr>\n",
       "      <th>7ff148736fec736b</th>\n",
       "      <td>[finished]</td>\n",
       "      <td>finished</td>\n",
       "      <td>1</td>\n",
       "      <td>False</td>\n",
       "      <td>0</td>\n",
       "    </tr>\n",
       "    <tr>\n",
       "      <th>7ff22bc234aae409</th>\n",
       "      <td>[finished, finished]</td>\n",
       "      <td>finished</td>\n",
       "      <td>2</td>\n",
       "      <td>True</td>\n",
       "      <td>0</td>\n",
       "    </tr>\n",
       "    <tr>\n",
       "      <th>7ff6629e33e63213</th>\n",
       "      <td>[finished]</td>\n",
       "      <td>finished</td>\n",
       "      <td>1</td>\n",
       "      <td>False</td>\n",
       "      <td>0</td>\n",
       "    </tr>\n",
       "    <tr>\n",
       "      <th>7ffc5c7421311771</th>\n",
       "      <td>[finished, finished]</td>\n",
       "      <td>finished</td>\n",
       "      <td>2</td>\n",
       "      <td>True</td>\n",
       "      <td>0</td>\n",
       "    </tr>\n",
       "    <tr>\n",
       "      <th>7fffdba06c21ba08</th>\n",
       "      <td>[finished, finished]</td>\n",
       "      <td>finished</td>\n",
       "      <td>2</td>\n",
       "      <td>True</td>\n",
       "      <td>0</td>\n",
       "    </tr>\n",
       "  </tbody>\n",
       "</table>\n",
       "<p>10998 rows × 5 columns</p>\n",
       "</div>"
      ],
      "text/plain": [
       "                                            type    finish  nb_games  \\\n",
       "hashedIpAddress                                                        \n",
       "0007183207b6008f  [finished, finished, finished]  finished         3   \n",
       "000a09e202e88d10                      [finished]  finished         1   \n",
       "000a5bac5b7781ea                      [finished]  finished         1   \n",
       "000bc9fe5640ed31            [finished, finished]  finished         2   \n",
       "000d397013f09039            [finished, finished]  finished         2   \n",
       "...                                          ...       ...       ...   \n",
       "7ff148736fec736b                      [finished]  finished         1   \n",
       "7ff22bc234aae409            [finished, finished]  finished         2   \n",
       "7ff6629e33e63213                      [finished]  finished         1   \n",
       "7ffc5c7421311771            [finished, finished]  finished         2   \n",
       "7fffdba06c21ba08            [finished, finished]  finished         2   \n",
       "\n",
       "                  finished  count_restart  \n",
       "hashedIpAddress                            \n",
       "0007183207b6008f      True              0  \n",
       "000a09e202e88d10     False              0  \n",
       "000a5bac5b7781ea     False              0  \n",
       "000bc9fe5640ed31      True              0  \n",
       "000d397013f09039      True              0  \n",
       "...                    ...            ...  \n",
       "7ff148736fec736b     False              0  \n",
       "7ff22bc234aae409      True              0  \n",
       "7ff6629e33e63213     False              0  \n",
       "7ffc5c7421311771      True              0  \n",
       "7fffdba06c21ba08      True              0  \n",
       "\n",
       "[10998 rows x 5 columns]"
      ]
     },
     "execution_count": 148,
     "metadata": {},
     "output_type": "execute_result"
    }
   ],
   "source": [
    "timeout = players_record[players_record['finish'] == 'timeout'].copy()\n",
    "finished = players_record[players_record['finish'] == 'finished'].copy()\n",
    "search_word = 'restart'\n",
    "\n",
    "timeout['count_restart'] = timeout['type'].apply(lambda x: x.count(search_word))\n",
    "finished['count_restart'] = finished['type'].apply(lambda x: x.count(search_word))\n",
    "finished"
   ]
  },
  {
   "cell_type": "code",
   "execution_count": null,
   "id": "876e4444-24bb-42d8-86d7-a799b50ebbb2",
   "metadata": {},
   "outputs": [],
   "source": [
    "def clean_alt_list(list_):\n",
    "    list_ = list_.replace(', ', '\",\"')\n",
    "    list_ = list_.replace('[', '[\"')\n",
    "    list_ = list_.replace(']', '\"]')\n",
    "    return list_"
   ]
  },
  {
   "cell_type": "code",
   "execution_count": null,
   "id": "3f3b0f8f-d5db-415e-9443-056be1636aa3",
   "metadata": {},
   "outputs": [
    {
     "data": {
      "text/plain": [
       "hashedIpAddress\n",
       "0015865e516d4932                                            [restart]\n",
       "003bb5940f9d588a                                            [restart]\n",
       "0041065c681b6206                                            [restart]\n",
       "004c89240a234808                                            [restart]\n",
       "0068f6c30855b1fd    [finished, finished, restart, finished, finish...\n",
       "                                          ...                        \n",
       "7f83d1a866bd3e6a                                  [finished, restart]\n",
       "7f881eed5229a828    [finished, finished, finished, finished, resta...\n",
       "7f92705f3c0a3554                                            [restart]\n",
       "7fac63bc0331b436                                   [restart, restart]\n",
       "7fc601695c2048f1                                   [restart, restart]\n",
       "Name: type, Length: 2215, dtype: object"
      ]
     },
     "execution_count": 108,
     "metadata": {},
     "output_type": "execute_result"
    }
   ],
   "source": [
    "clean_alt_list(x['type'])"
   ]
  },
  {
   "cell_type": "code",
   "execution_count": 51,
   "id": "f8958208-3f75-4fca-9185-cae25489bf34",
   "metadata": {},
   "outputs": [],
   "source": [
    "#Start initial code\n",
    "players_record['finished'] = players_record['type'].apply(lambda x: True if 'finished' in x[:-1] else False)"
   ]
  },
  {
   "cell_type": "markdown",
   "id": "d83d8ee8",
   "metadata": {},
   "source": [
    "</div>\n",
    "<div class=\"1.1 explanation\" style='background-color:#08135c; border-left: solid #darkblue 4px; border-radius: 4px; padding:0.7em;'>\n",
    "    <span style=\"color:white\">\n",
    "       <h3>4.4 Remaining distance analysis</h3>\n",
    "    </span>\n",
    "</div>\n",
    "</div>\n",
    "<div class=\"1.1 explanation\" style='background-color:#faefe1; border-left: solid #darkblue 4px; border-radius: 4px; padding:0.7em;'>\n",
    "    <span style=\"color:black\">\n",
    "        Analysis on the remaining distance to the target for each run. (TODO: add details later)\n",
    "    </span>\n",
    "</div>"
   ]
  },
  {
   "cell_type": "code",
   "execution_count": 52,
   "id": "b0e52707",
   "metadata": {},
   "outputs": [],
   "source": [
    "def graph_dist(Graph, current_node, target_node):\n",
    "    try:\n",
    "        return nx.shortest_path_length(Graph,current_node,target_node)\n",
    "    except:\n",
    "        return np.inf\n",
    "    \n",
    "def _parse_withdraw(path):\n",
    "    page_stack = []\n",
    "    parsed_path = []\n",
    "    time_withdraw = 0\n",
    "    for node in path:\n",
    "        if node != '<':\n",
    "            page_stack.append(node)\n",
    "        else:\n",
    "            page_stack.pop()\n",
    "            time_withdraw = time_withdraw +1\n",
    "        parsed_path.append(page_stack[-1])\n",
    "    return [parsed_path, time_withdraw]\n",
    "\n",
    "#Generate statics for each run of each player\n",
    "#Remaining distance to the target when timeout or restart\n",
    "end_node_df = pd.DataFrame(paths_all['path'].apply(lambda p: p.split(';')).apply(lambda pl: _parse_withdraw(pl)[0]))\n",
    "end_node_df['hashedIpAddress'] = paths_all['hashedIpAddress']\n",
    "end_node_df['target'] = paths_all['target']\n",
    "end_node_df['type'] = paths_all['type']\n",
    "end_node_df['n_withdraws'] = pd.DataFrame(paths_all['path'].apply(lambda p: p.split(';')).apply(lambda pl: _parse_withdraw(pl)[1]))\n",
    "end_node_df['end_node'] = end_node_df['path'].apply(lambda p: p[-1])\n",
    "end_node_df['M_dist_to_target'] = end_node_df[['end_node','target']].apply(lambda r: graph_dist(G_links, r[0], r[1]), axis = 1)\n",
    "end_node_df['P_dist_to_target'] = end_node_df[['end_node','target']].apply(lambda r: graph_dist(G_paths, r[0], r[1]), axis = 1)"
   ]
  },
  {
   "cell_type": "code",
   "execution_count": 53,
   "id": "baaaeaea",
   "metadata": {},
   "outputs": [
    {
     "data": {
      "text/html": [
       "<div>\n",
       "<style scoped>\n",
       "    .dataframe tbody tr th:only-of-type {\n",
       "        vertical-align: middle;\n",
       "    }\n",
       "\n",
       "    .dataframe tbody tr th {\n",
       "        vertical-align: top;\n",
       "    }\n",
       "\n",
       "    .dataframe thead th {\n",
       "        text-align: right;\n",
       "    }\n",
       "</style>\n",
       "<table border=\"1\" class=\"dataframe\">\n",
       "  <thead>\n",
       "    <tr style=\"text-align: right;\">\n",
       "      <th></th>\n",
       "      <th>path</th>\n",
       "      <th>hashedIpAddress</th>\n",
       "      <th>target</th>\n",
       "      <th>type</th>\n",
       "      <th>n_withdraws</th>\n",
       "      <th>end_node</th>\n",
       "      <th>M_dist_to_target</th>\n",
       "      <th>P_dist_to_target</th>\n",
       "    </tr>\n",
       "  </thead>\n",
       "  <tbody>\n",
       "    <tr>\n",
       "      <th>2395</th>\n",
       "      <td>[Bird, Wikipedia_Text_of_the_GNU_Free_Document...</td>\n",
       "      <td>5f22535607b1d77d</td>\n",
       "      <td>Wikipedia_Text_of_the_GNU_Free_Documentation_L...</td>\n",
       "      <td>finished</td>\n",
       "      <td>0</td>\n",
       "      <td>Wikipedia_Text_of_the_GNU_Free_Documentation_L...</td>\n",
       "      <td>inf</td>\n",
       "      <td>0.0</td>\n",
       "    </tr>\n",
       "    <tr>\n",
       "      <th>141</th>\n",
       "      <td>[Black_pepper, Fruit, Botany]</td>\n",
       "      <td>4c74c4d33fc1d36a</td>\n",
       "      <td>Long_peper</td>\n",
       "      <td>restart</td>\n",
       "      <td>0</td>\n",
       "      <td>Botany</td>\n",
       "      <td>inf</td>\n",
       "      <td>inf</td>\n",
       "    </tr>\n",
       "    <tr>\n",
       "      <th>353</th>\n",
       "      <td>[Mahatma_Gandhi, New_York_City, Culture, Liter...</td>\n",
       "      <td>7768578618bbccbd</td>\n",
       "      <td>The_Cat_in_the_Hat</td>\n",
       "      <td>restart</td>\n",
       "      <td>0</td>\n",
       "      <td>Wikipedia_Text_of_the_GNU_Free_Documentation_L...</td>\n",
       "      <td>inf</td>\n",
       "      <td>inf</td>\n",
       "    </tr>\n",
       "    <tr>\n",
       "      <th>1177</th>\n",
       "      <td>[Basilica_of_Santa_Maria_degli_Angeli, Wikiped...</td>\n",
       "      <td>23e9898629635546</td>\n",
       "      <td>President_of_the_United_States</td>\n",
       "      <td>restart</td>\n",
       "      <td>0</td>\n",
       "      <td>Wikipedia_Text_of_the_GNU_Free_Documentation_L...</td>\n",
       "      <td>inf</td>\n",
       "      <td>inf</td>\n",
       "    </tr>\n",
       "    <tr>\n",
       "      <th>1225</th>\n",
       "      <td>[Open_source, Wikipedia_Text_of_the_GNU_Free_D...</td>\n",
       "      <td>48df21a108fa2742</td>\n",
       "      <td>Neighbours</td>\n",
       "      <td>restart</td>\n",
       "      <td>0</td>\n",
       "      <td>Wikipedia_Text_of_the_GNU_Free_Documentation_L...</td>\n",
       "      <td>inf</td>\n",
       "      <td>inf</td>\n",
       "    </tr>\n",
       "    <tr>\n",
       "      <th>...</th>\n",
       "      <td>...</td>\n",
       "      <td>...</td>\n",
       "      <td>...</td>\n",
       "      <td>...</td>\n",
       "      <td>...</td>\n",
       "      <td>...</td>\n",
       "      <td>...</td>\n",
       "      <td>...</td>\n",
       "    </tr>\n",
       "    <tr>\n",
       "      <th>24024</th>\n",
       "      <td>[Bob_Dylan, England, Church_of_England, Christ...</td>\n",
       "      <td>020221361453bf83</td>\n",
       "      <td>Christmas</td>\n",
       "      <td>timeout</td>\n",
       "      <td>4</td>\n",
       "      <td>Santa_Claus</td>\n",
       "      <td>inf</td>\n",
       "      <td>inf</td>\n",
       "    </tr>\n",
       "    <tr>\n",
       "      <th>24186</th>\n",
       "      <td>[Jesus, Mosaic, Georgia_(country), Wikipedia_T...</td>\n",
       "      <td>1c495c3c72396b19</td>\n",
       "      <td>Microsoft</td>\n",
       "      <td>restart</td>\n",
       "      <td>0</td>\n",
       "      <td>Wikipedia_Text_of_the_GNU_Free_Documentation_L...</td>\n",
       "      <td>inf</td>\n",
       "      <td>inf</td>\n",
       "    </tr>\n",
       "    <tr>\n",
       "      <th>24216</th>\n",
       "      <td>[Jesus, Wikipedia_Text_of_the_GNU_Free_Documen...</td>\n",
       "      <td>1c495c3c72396b19</td>\n",
       "      <td>Microsoft</td>\n",
       "      <td>restart</td>\n",
       "      <td>0</td>\n",
       "      <td>Wikipedia_Text_of_the_GNU_Free_Documentation_L...</td>\n",
       "      <td>inf</td>\n",
       "      <td>inf</td>\n",
       "    </tr>\n",
       "    <tr>\n",
       "      <th>24253</th>\n",
       "      <td>[Quantum_mechanics, Atom, Proton, Earth's_atmo...</td>\n",
       "      <td>360d256e3fd2a746</td>\n",
       "      <td>Blue_Tit</td>\n",
       "      <td>timeout</td>\n",
       "      <td>0</td>\n",
       "      <td>Dove</td>\n",
       "      <td>inf</td>\n",
       "      <td>inf</td>\n",
       "    </tr>\n",
       "    <tr>\n",
       "      <th>24281</th>\n",
       "      <td>[Axe, Bronze_Age, Wikipedia_Text_of_the_GNU_Fr...</td>\n",
       "      <td>6eaffaa92e60487e</td>\n",
       "      <td>Windows_2000</td>\n",
       "      <td>restart</td>\n",
       "      <td>0</td>\n",
       "      <td>Wikipedia_Text_of_the_GNU_Free_Documentation_L...</td>\n",
       "      <td>inf</td>\n",
       "      <td>inf</td>\n",
       "    </tr>\n",
       "  </tbody>\n",
       "</table>\n",
       "<p>101 rows × 8 columns</p>\n",
       "</div>"
      ],
      "text/plain": [
       "                                                    path   hashedIpAddress  \\\n",
       "2395   [Bird, Wikipedia_Text_of_the_GNU_Free_Document...  5f22535607b1d77d   \n",
       "141                        [Black_pepper, Fruit, Botany]  4c74c4d33fc1d36a   \n",
       "353    [Mahatma_Gandhi, New_York_City, Culture, Liter...  7768578618bbccbd   \n",
       "1177   [Basilica_of_Santa_Maria_degli_Angeli, Wikiped...  23e9898629635546   \n",
       "1225   [Open_source, Wikipedia_Text_of_the_GNU_Free_D...  48df21a108fa2742   \n",
       "...                                                  ...               ...   \n",
       "24024  [Bob_Dylan, England, Church_of_England, Christ...  020221361453bf83   \n",
       "24186  [Jesus, Mosaic, Georgia_(country), Wikipedia_T...  1c495c3c72396b19   \n",
       "24216  [Jesus, Wikipedia_Text_of_the_GNU_Free_Documen...  1c495c3c72396b19   \n",
       "24253  [Quantum_mechanics, Atom, Proton, Earth's_atmo...  360d256e3fd2a746   \n",
       "24281  [Axe, Bronze_Age, Wikipedia_Text_of_the_GNU_Fr...  6eaffaa92e60487e   \n",
       "\n",
       "                                                  target      type  \\\n",
       "2395   Wikipedia_Text_of_the_GNU_Free_Documentation_L...  finished   \n",
       "141                                           Long_peper   restart   \n",
       "353                                   The_Cat_in_the_Hat   restart   \n",
       "1177                      President_of_the_United_States   restart   \n",
       "1225                                          Neighbours   restart   \n",
       "...                                                  ...       ...   \n",
       "24024                                          Christmas   timeout   \n",
       "24186                                          Microsoft   restart   \n",
       "24216                                          Microsoft   restart   \n",
       "24253                                           Blue_Tit   timeout   \n",
       "24281                                       Windows_2000   restart   \n",
       "\n",
       "       n_withdraws                                           end_node  \\\n",
       "2395             0  Wikipedia_Text_of_the_GNU_Free_Documentation_L...   \n",
       "141              0                                             Botany   \n",
       "353              0  Wikipedia_Text_of_the_GNU_Free_Documentation_L...   \n",
       "1177             0  Wikipedia_Text_of_the_GNU_Free_Documentation_L...   \n",
       "1225             0  Wikipedia_Text_of_the_GNU_Free_Documentation_L...   \n",
       "...            ...                                                ...   \n",
       "24024            4                                        Santa_Claus   \n",
       "24186            0  Wikipedia_Text_of_the_GNU_Free_Documentation_L...   \n",
       "24216            0  Wikipedia_Text_of_the_GNU_Free_Documentation_L...   \n",
       "24253            0                                               Dove   \n",
       "24281            0  Wikipedia_Text_of_the_GNU_Free_Documentation_L...   \n",
       "\n",
       "       M_dist_to_target  P_dist_to_target  \n",
       "2395                inf               0.0  \n",
       "141                 inf               inf  \n",
       "353                 inf               inf  \n",
       "1177                inf               inf  \n",
       "1225                inf               inf  \n",
       "...                 ...               ...  \n",
       "24024               inf               inf  \n",
       "24186               inf               inf  \n",
       "24216               inf               inf  \n",
       "24253               inf               inf  \n",
       "24281               inf               inf  \n",
       "\n",
       "[101 rows x 8 columns]"
      ]
     },
     "execution_count": 53,
     "metadata": {},
     "output_type": "execute_result"
    }
   ],
   "source": [
    "#The runs that were theoretically impossible to complete without taking withdraws, meaning the player went into a dead end\n",
    "end_node_df[end_node_df['M_dist_to_target']==np.inf]"
   ]
  },
  {
   "cell_type": "code",
   "execution_count": 54,
   "id": "9c1538c2",
   "metadata": {},
   "outputs": [
    {
     "data": {
      "text/html": [
       "<div>\n",
       "<style scoped>\n",
       "    .dataframe tbody tr th:only-of-type {\n",
       "        vertical-align: middle;\n",
       "    }\n",
       "\n",
       "    .dataframe tbody tr th {\n",
       "        vertical-align: top;\n",
       "    }\n",
       "\n",
       "    .dataframe thead th {\n",
       "        text-align: right;\n",
       "    }\n",
       "</style>\n",
       "<table border=\"1\" class=\"dataframe\">\n",
       "  <thead>\n",
       "    <tr style=\"text-align: right;\">\n",
       "      <th></th>\n",
       "      <th>path</th>\n",
       "      <th>hashedIpAddress</th>\n",
       "      <th>target</th>\n",
       "      <th>type</th>\n",
       "      <th>n_withdraws</th>\n",
       "      <th>end_node</th>\n",
       "      <th>M_dist_to_target</th>\n",
       "      <th>P_dist_to_target</th>\n",
       "    </tr>\n",
       "  </thead>\n",
       "  <tbody>\n",
       "    <tr>\n",
       "      <th>62</th>\n",
       "      <td>[Andromeda_Galaxy]</td>\n",
       "      <td>31b65a916609a1e6</td>\n",
       "      <td>Jonathan_Wild</td>\n",
       "      <td>restart</td>\n",
       "      <td>0</td>\n",
       "      <td>Andromeda_Galaxy</td>\n",
       "      <td>5.0</td>\n",
       "      <td>inf</td>\n",
       "    </tr>\n",
       "    <tr>\n",
       "      <th>98</th>\n",
       "      <td>[Prion, Animal, Mammal]</td>\n",
       "      <td>5026d06041255357</td>\n",
       "      <td>Ethiopian_Wolf</td>\n",
       "      <td>restart</td>\n",
       "      <td>0</td>\n",
       "      <td>Mammal</td>\n",
       "      <td>4.0</td>\n",
       "      <td>inf</td>\n",
       "    </tr>\n",
       "    <tr>\n",
       "      <th>124</th>\n",
       "      <td>[Eurasian_Collared_Dove, California, United_St...</td>\n",
       "      <td>3e3a418d617561d0</td>\n",
       "      <td>History_of_New_Jersey</td>\n",
       "      <td>timeout</td>\n",
       "      <td>0</td>\n",
       "      <td>United_States</td>\n",
       "      <td>3.0</td>\n",
       "      <td>inf</td>\n",
       "    </tr>\n",
       "    <tr>\n",
       "      <th>139</th>\n",
       "      <td>[Virtuti_Militari, Italy, Virtuti_Militari, Un...</td>\n",
       "      <td>4c74c4d33fc1d36a</td>\n",
       "      <td>History_of_Arizona</td>\n",
       "      <td>restart</td>\n",
       "      <td>6</td>\n",
       "      <td>Salt_Lake_City,_Utah</td>\n",
       "      <td>4.0</td>\n",
       "      <td>inf</td>\n",
       "    </tr>\n",
       "    <tr>\n",
       "      <th>145</th>\n",
       "      <td>[Sistine_Chapel_ceiling, Michelangelo, Rome, W...</td>\n",
       "      <td>452693ad5499a6dc</td>\n",
       "      <td>Cat_Stevens</td>\n",
       "      <td>timeout</td>\n",
       "      <td>0</td>\n",
       "      <td>Anarcho-capitalism</td>\n",
       "      <td>4.0</td>\n",
       "      <td>inf</td>\n",
       "    </tr>\n",
       "    <tr>\n",
       "      <th>...</th>\n",
       "      <td>...</td>\n",
       "      <td>...</td>\n",
       "      <td>...</td>\n",
       "      <td>...</td>\n",
       "      <td>...</td>\n",
       "      <td>...</td>\n",
       "      <td>...</td>\n",
       "      <td>...</td>\n",
       "    </tr>\n",
       "    <tr>\n",
       "      <th>24694</th>\n",
       "      <td>[Milk, Vitamin_D, Egg_(food), Bird, Poultry]</td>\n",
       "      <td>3f9385e11694ca6b</td>\n",
       "      <td>Mallard</td>\n",
       "      <td>restart</td>\n",
       "      <td>0</td>\n",
       "      <td>Poultry</td>\n",
       "      <td>5.0</td>\n",
       "      <td>inf</td>\n",
       "    </tr>\n",
       "    <tr>\n",
       "      <th>24725</th>\n",
       "      <td>[Bedbug, Human]</td>\n",
       "      <td>580bea917fbb4ced</td>\n",
       "      <td>John_Seigenthaler,_Sr.</td>\n",
       "      <td>restart</td>\n",
       "      <td>0</td>\n",
       "      <td>Human</td>\n",
       "      <td>4.0</td>\n",
       "      <td>inf</td>\n",
       "    </tr>\n",
       "    <tr>\n",
       "      <th>24741</th>\n",
       "      <td>[Gerald_Durrell, Jersey]</td>\n",
       "      <td>61541b6a2bd9de05</td>\n",
       "      <td>Pinworm</td>\n",
       "      <td>timeout</td>\n",
       "      <td>0</td>\n",
       "      <td>Jersey</td>\n",
       "      <td>4.0</td>\n",
       "      <td>inf</td>\n",
       "    </tr>\n",
       "    <tr>\n",
       "      <th>24777</th>\n",
       "      <td>[World_War_I]</td>\n",
       "      <td>11f283a448e152ea</td>\n",
       "      <td>Aymer_de_Valence,_2nd_Earl_of_Pembroke</td>\n",
       "      <td>timeout</td>\n",
       "      <td>0</td>\n",
       "      <td>World_War_I</td>\n",
       "      <td>4.0</td>\n",
       "      <td>inf</td>\n",
       "    </tr>\n",
       "    <tr>\n",
       "      <th>24864</th>\n",
       "      <td>[Sardar_Vallabhbhai_Patel, World_War_II, The_H...</td>\n",
       "      <td>109ed71f571d86e9</td>\n",
       "      <td>Mauthausen-Gusen_concentration_camp</td>\n",
       "      <td>restart</td>\n",
       "      <td>1</td>\n",
       "      <td>The_Holocaust</td>\n",
       "      <td>4.0</td>\n",
       "      <td>inf</td>\n",
       "    </tr>\n",
       "  </tbody>\n",
       "</table>\n",
       "<p>668 rows × 8 columns</p>\n",
       "</div>"
      ],
      "text/plain": [
       "                                                    path   hashedIpAddress  \\\n",
       "62                                    [Andromeda_Galaxy]  31b65a916609a1e6   \n",
       "98                               [Prion, Animal, Mammal]  5026d06041255357   \n",
       "124    [Eurasian_Collared_Dove, California, United_St...  3e3a418d617561d0   \n",
       "139    [Virtuti_Militari, Italy, Virtuti_Militari, Un...  4c74c4d33fc1d36a   \n",
       "145    [Sistine_Chapel_ceiling, Michelangelo, Rome, W...  452693ad5499a6dc   \n",
       "...                                                  ...               ...   \n",
       "24694       [Milk, Vitamin_D, Egg_(food), Bird, Poultry]  3f9385e11694ca6b   \n",
       "24725                                    [Bedbug, Human]  580bea917fbb4ced   \n",
       "24741                           [Gerald_Durrell, Jersey]  61541b6a2bd9de05   \n",
       "24777                                      [World_War_I]  11f283a448e152ea   \n",
       "24864  [Sardar_Vallabhbhai_Patel, World_War_II, The_H...  109ed71f571d86e9   \n",
       "\n",
       "                                       target     type  n_withdraws  \\\n",
       "62                              Jonathan_Wild  restart            0   \n",
       "98                             Ethiopian_Wolf  restart            0   \n",
       "124                     History_of_New_Jersey  timeout            0   \n",
       "139                        History_of_Arizona  restart            6   \n",
       "145                               Cat_Stevens  timeout            0   \n",
       "...                                       ...      ...          ...   \n",
       "24694                                 Mallard  restart            0   \n",
       "24725                  John_Seigenthaler,_Sr.  restart            0   \n",
       "24741                                 Pinworm  timeout            0   \n",
       "24777  Aymer_de_Valence,_2nd_Earl_of_Pembroke  timeout            0   \n",
       "24864     Mauthausen-Gusen_concentration_camp  restart            1   \n",
       "\n",
       "                   end_node  M_dist_to_target  P_dist_to_target  \n",
       "62         Andromeda_Galaxy               5.0               inf  \n",
       "98                   Mammal               4.0               inf  \n",
       "124           United_States               3.0               inf  \n",
       "139    Salt_Lake_City,_Utah               4.0               inf  \n",
       "145      Anarcho-capitalism               4.0               inf  \n",
       "...                     ...               ...               ...  \n",
       "24694               Poultry               5.0               inf  \n",
       "24725                 Human               4.0               inf  \n",
       "24741                Jersey               4.0               inf  \n",
       "24777           World_War_I               4.0               inf  \n",
       "24864         The_Holocaust               4.0               inf  \n",
       "\n",
       "[668 rows x 8 columns]"
      ]
     },
     "execution_count": 54,
     "metadata": {},
     "output_type": "execute_result"
    }
   ],
   "source": [
    "#The runs that were theoretically possible to complete if players continued, yet no players were able to complete\n",
    "end_node_df[np.array(end_node_df['P_dist_to_target']==np.inf) & np.array(end_node_df['M_dist_to_target']!=np.inf)]"
   ]
  },
  {
   "cell_type": "code",
   "execution_count": 55,
   "id": "95b0279b",
   "metadata": {},
   "outputs": [
    {
     "name": "stdout",
     "output_type": "stream",
     "text": [
      "Mean remaining distance for restarts 2.8652752649263378\n",
      "Mean remaining distance for timeouts 2.8276158726744813\n"
     ]
    }
   ],
   "source": [
    "#Mean distance for each cases when the runs end\n",
    "possible_runs = end_node_df[end_node_df['M_dist_to_target']!=np.inf]\n",
    "impossible_runs = end_node_df[end_node_df['M_dist_to_target']==np.inf]\n",
    "print('Mean remaining distance for restarts', possible_runs.groupby('type')['M_dist_to_target'].mean()[1])\n",
    "print('Mean remaining distance for timeouts', possible_runs.groupby('type')['M_dist_to_target'].mean()[2])\n",
    "#ToDo"
   ]
  },
  {
   "cell_type": "code",
   "execution_count": 56,
   "id": "da0faf3b",
   "metadata": {},
   "outputs": [
    {
     "name": "stdout",
     "output_type": "stream",
     "text": [
      "When in runs that are actually impossible to complete without withdraws. \n",
      "Ratio of number of restarts and number of timeouts 3.1666666666666665\n",
      "When in all runs. \n",
      "Ratio of number of restarts and number of timeouts 1.6681325753512817\n"
     ]
    }
   ],
   "source": [
    "#People are more likely to restart when faced with impossible runs?\n",
    "print('When in runs that are actually impossible to complete without withdraws. \\nRatio of number of restarts and number of timeouts', impossible_runs.groupby('type').size()[1]/impossible_runs.groupby('type').size()[2])\n",
    "print('When in all runs. \\nRatio of number of restarts and number of timeouts', paths_all.groupby('type').size()[1]/paths_all.groupby('type').size()[2])"
   ]
  },
  {
   "cell_type": "code",
   "execution_count": null,
   "id": "7f8691f5",
   "metadata": {},
   "outputs": [],
   "source": []
  },
  {
   "cell_type": "code",
   "execution_count": null,
   "id": "ff3238b7-ddbb-4f86-a4b8-30844d8f8820",
   "metadata": {},
   "outputs": [],
   "source": []
  }
 ],
 "metadata": {
  "kernelspec": {
   "display_name": "Python 3 (ipykernel)",
   "language": "python",
   "name": "python3"
  },
  "language_info": {
   "codemirror_mode": {
    "name": "ipython",
    "version": 3
   },
   "file_extension": ".py",
   "mimetype": "text/x-python",
   "name": "python",
   "nbconvert_exporter": "python",
   "pygments_lexer": "ipython3",
   "version": "3.9.7"
  }
 },
 "nbformat": 4,
 "nbformat_minor": 5
}
