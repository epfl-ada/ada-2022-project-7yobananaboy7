{
 "cells": [
  {
   "cell_type": "markdown",
   "id": "fadbe764-5593-49c5-8277-450d62087775",
   "metadata": {},
   "source": [
    "## Basic explanation of logistic regression:"
   ]
  },
  {
   "cell_type": "markdown",
   "id": "1a0e1de4-4408-4bbb-a1be-2a34b9b748dd",
   "metadata": {},
   "source": [
    "The logistic regression was fit to a dataset with 18'948 observations to predict the dependent variable \"last_game\". If a value obtained by the logistic regression above 0.5 is obtained it will count as finished path (binary: 1). Below 0.5 it will be predicted as unfinished path (binary: 0). The model consist of 6 parameters from the \"in-game\" as well as the \"between game\".  \n",
    "The p-value for every coefficient tests the null hypothesis that the coefficient is equal to 0. That would mean that the predictor has no effect on the dependent variable. If the p-value is less than 0.05 the null hypothesis can be rejected. In the logistic regression this is the case. That means that every predictor is significantly related to the dependent variable. "
   ]
  },
  {
   "cell_type": "markdown",
   "id": "51fd3131-0db9-447a-9afe-fda2450ce29a",
   "metadata": {},
   "source": [
    "There is no single most important feature in a logistic regression model. All features can contribute to the prediction of the dependent variable. However, the relative importance of each feature can be seen by the magnitude of the coefficient. Larger coefficients generally indicate that a predictor has a stronger effect on the dependend variable. "
   ]
  },
  {
   "cell_type": "markdown",
   "id": "3992ec06-b993-4728-8f67-871ad81abc2f",
   "metadata": {},
   "source": [
    "The predictors \"starting\", \"target\", as well as max_finished_streak have a positive effect on the logistic regression and influence in the direction of finishing a path.\n",
    "- \"max_finished_streak\" is showing the biggest coefficient in the logistic model and is therefore an important factor in predicting the dependend variable. Max_finished_streak contains information about the longest path of finished games in a player's history before the final game. This can lead to the conclusion, that the motivation of the player has an influence on the number of finished games.\n",
    "- \"target\" contains information about the target article of the last game. \n",
    "- \"starting\" contains information about the starting article of the last game."
   ]
  },
  {
   "cell_type": "markdown",
   "id": "eb0f9f84-3630-459f-9241-34e8dfc5548d",
   "metadata": {
    "tags": []
   },
   "source": [
    "The predictors \"history_unfinished_games\", \"chained_unfinished\", as well as \"first_last_time\" have a negative effect on the logistic regression and influence in the direction of an unfinished path:\n",
    "- \"history_unfinished_games\" is showing the biggest negative tendency. A player with a lot of unfinished games in the history is therefore more likely to not finish a game.\n",
    "- \"chained_unfinished\" contains information about how long the chain of unfinished games was before the last game. \n",
    "- \"first_last_time\" has the smallest coefficient of the logistic regression. It indicates wether how many time has past between the first and the last played game. "
   ]
  },
  {
   "cell_type": "markdown",
   "id": "83e84d37",
   "metadata": {},
   "source": [
    "## What did we find?\n",
    "### From between game histories:\n",
    "- We found that...\n",
    "- Moreover...\n",
    "\n",
    "### From in game histories:\n",
    "- (Mathieu you can change this part) We found that runs start and end with pages of different categories have different success rate. For the starting pages, for instance, we found that starting with \"Engineers_and_inventors\" is distinctly easier than starting with \"Architecture\". Same can be found for target pages, for instance, we found that using \"General_Literature\" as the target is significantly harder than \"European_Countries\". And thus we can generate a score for each category to measure their difficulty by their success rate.\n",
    "\n",
    "- Beside this, we generated the sensational score, which has the ability to discriminate between a run that is going to be finished and a run that is going to fail judging from the path the player took. Sensational score reflects the feeling player has about their progress. It could be an indicator of whether the player is in need for hints.\n",
    "\n",
    "- In addition, we found that there is a magical number which is path length 5. Firstly, we found that games with path length (operation step) 5 are more likely to be a winning game. The path length (operation step) at which people are closest to their targets is also around 5. And we also found that their motivation increases with path length (operation step) and reaches plateau at path length 5. We can use this information to answer our RQs.\n",
    "\n",
    "### From logistic regression:\n",
    "- We found that...\n",
    "- Moreover..."
   ]
  },
  {
   "cell_type": "markdown",
   "id": "d00b15fb",
   "metadata": {},
   "source": [
    "## How to answer our research questions?\n",
    "### Q1:\n",
    "Can we set up a simple logistic model that can predict if a player is more likely to stop the game or finish it based on the history of the games played by the player and based on the start and target article?\n",
    "\n",
    "### A1:\n",
    "**Yes**, we successfully set up a logistic regression model to predict the result of a run. We used (...) as our features, and we reached the precision of (...) and recall of (...), which validated this model in terms of predicting the result of a game.(Text here)\n",
    " \n",
    "### Q2:\n",
    "How can the results of the logistic regression be included in a set-up for a game that is likely to incentivize people to stay engaged and play more games?\n",
    "\n",
    "### A2:\n",
    "*(Text here)*\n",
    "\n",
    "### Q3:\n",
    "How to make the game easier for the players and give hints to them when necessary to keep them motivated?\n",
    "\n",
    "### A3:\n",
    "From our findings, we learned a lot of useful techniques to understand players' actions in a run. Starting and target category and sensational score tell us the situation of the player, while the magical number 5 indicates when intervene is necessary to keep players motivated. For instance, we can set up a mechanism as below:\n",
    "#### When to intervene:\n",
    " - Consider it necessery to give hints when player theoretically can't finish a game at path length 5 or slightly greater than 5 (6 or 7), because longer path length hinders their motivation.\n",
    " - Be alerted if the distance drops too fast or the sensational score fails to increase as the game progresses, because this may indicate a failed game and that the player might need hints.\n",
    " \n",
    "#### How to intervene:\n",
    " - Thinking of the category the player is in as starting category, we can try to direct the player to a easier category.\n",
    " - Guiding their path in the graph only when necessary (under conditions in \"When to intervene\").\n",
    " - Add more difficulty to master players so that their path lengths are not too smaller than 5, in order to keep their motivation to continue playing, since shorter path length means less chance to keep playing.\n"
   ]
  },
  {
   "cell_type": "code",
   "execution_count": null,
   "id": "75903351",
   "metadata": {},
   "outputs": [],
   "source": []
  }
 ],
 "metadata": {
  "kernelspec": {
   "display_name": "Python 3 (ipykernel)",
   "language": "python",
   "name": "python3"
  },
  "language_info": {
   "codemirror_mode": {
    "name": "ipython",
    "version": 3
   },
   "file_extension": ".py",
   "mimetype": "text/x-python",
   "name": "python",
   "nbconvert_exporter": "python",
   "pygments_lexer": "ipython3",
   "version": "3.9.13"
  }
 },
 "nbformat": 4,
 "nbformat_minor": 5
}
