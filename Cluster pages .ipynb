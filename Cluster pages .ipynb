{
 "cells": [
  {
   "cell_type": "code",
   "execution_count": 146,
   "id": "0d432308",
   "metadata": {},
   "outputs": [
    {
     "name": "stdout",
     "output_type": "stream",
     "text": [
      "The autoreload extension is already loaded. To reload it, use:\n",
      "  %reload_ext autoreload\n"
     ]
    }
   ],
   "source": [
    "from helpers import *\n",
    "import matplotlib.pyplot as plt\n",
    "\n",
    "%load_ext autoreload\n",
    "%autoreload 2"
   ]
  },
  {
   "cell_type": "code",
   "execution_count": 39,
   "id": "26f96c6d",
   "metadata": {},
   "outputs": [],
   "source": [
    "articles, categories, links, paths_finished, paths_unfinished, paths_all, shortest_path_distance = load_data()\n",
    "G_paths, G_links = get_graphs(paths_all,links)\n",
    "G_paths_finished, _ = get_graphs(paths_finished,links)\n",
    "G_paths_unfinished, _ = get_graphs(paths_unfinished,links)"
   ]
  },
  {
   "cell_type": "code",
   "execution_count": 192,
   "id": "cbbc6a14",
   "metadata": {},
   "outputs": [
    {
     "data": {
      "text/plain": [
       "(346778, 129295)"
      ]
     },
     "execution_count": 192,
     "metadata": {},
     "output_type": "execute_result"
    }
   ],
   "source": [
    "nb_finished_node_visited = paths_finished.pathLength.sum()\n",
    "nb_unfinished_node_visited = paths_unfinished.pathLength.sum()\n",
    "nb_finished_node_visited, nb_unfinished_node_visited"
   ]
  },
  {
   "cell_type": "code",
   "execution_count": 73,
   "id": "7862f6d2",
   "metadata": {},
   "outputs": [
    {
     "data": {
      "text/plain": [
       "[0, 0]"
      ]
     },
     "execution_count": 73,
     "metadata": {},
     "output_type": "execute_result"
    }
   ],
   "source": [
    "def get_in_out_degree(G, page) :\n",
    "    in_deg = G.in_degree(page, 'weight')\n",
    "    in_deg = in_deg if in_deg else 0\n",
    "    out_deg = G.out_degree(page, 'weight')\n",
    "    out_deg = out_deg if out_deg else 0\n",
    "    \n",
    "    return [in_deg, out_deg]\n",
    "get_in_out_degree(G_paths, 'Áedán_mac_Gabráin') "
   ]
  },
  {
   "cell_type": "code",
   "execution_count": 239,
   "id": "54672600",
   "metadata": {},
   "outputs": [],
   "source": [
    "def add_in_out_deg(cat, G):\n",
    "    cat['in_deg'] = cat.article.apply(\n",
    "        lambda art: get_in_out_degree(G, art)[0])\n",
    "    cat['out_deg'] = cat.article.apply(\n",
    "        lambda art: get_in_out_degree(G, art)[1])\n",
    "    cat['mean_in_out_deg'] = (cat['in_deg']+cat['out_deg'])/2\n",
    "    return cat\n",
    "\n",
    "def split_cat(cat):\n",
    "    cat['splitted_cat'] = cat.category.apply(lambda x : x.split('.')[1:])\n",
    "    return cat\n",
    "\n",
    "def get_sum_in_out_by_cat(cat):\n",
    "    cat = cat.explode('splitted_cat')\n",
    "    cat = cat.groupby('splitted_cat').apply(lambda x : pd.Series({\n",
    "        'sum_in_deg' : x.in_deg.sum(),\n",
    "        'sum_out_deg' : x.out_deg.sum(),\n",
    "        'sum_mean_in_out_deg' : x.mean_in_out_deg.sum() \n",
    "    }))\n",
    "    return cat\n",
    "\n",
    "def get_cat_summary(cat, G):\n",
    "    cat=add_in_out_deg(cat, G)\n",
    "    cat = split_cat(cat)\n",
    "    cat = get_sum_in_out_by_cat(cat)\n",
    "    return cat\n",
    "categories_finished = categories.copy()\n",
    "categories_unfinished = categories.copy()\n",
    "\n",
    "categories_finished= get_cat_summary(categories_finished, G_paths_finished)\n",
    "categories_unfinished= get_cat_summary(categories_unfinished, G_paths_unfinished)\n",
    "\n",
    "categories_finished = categories_finished/nb_finished_node_visited*1000\n",
    "categories_unfinished = categories_unfinished/nb_unfinished_node_visited*1000\n",
    "\n",
    "categories_finished = categories_finished.rename(columns = {'sum_in_deg'  : 'frac_in_deg_finished',\n",
    "                                                  'sum_out_deg' : 'frac_out_deg_finished',\n",
    "                                                  'sum_mean_in_out_deg' : 'frac_mean_in_out_deg_finished'})\n",
    "categories_unfinished = categories_unfinished.rename(columns ={'sum_in_deg'  : 'frac_in_deg_unfinished',\n",
    "                                                  'sum_out_deg' : 'frac_out_deg_unfinished',\n",
    "                                                  'sum_mean_in_out_deg' : 'frac_mean_in_out_deg_unfinished'})"
   ]
  },
  {
   "cell_type": "code",
   "execution_count": 240,
   "id": "441cecb4",
   "metadata": {},
   "outputs": [],
   "source": [
    "categories_all = categories_finished.join(categories_unfinished)"
   ]
  },
  {
   "cell_type": "code",
   "execution_count": 241,
   "id": "e3d10b71",
   "metadata": {},
   "outputs": [],
   "source": [
    "categories_all['diff_in'] = categories_all.apply(lambda x: \n",
    "            (x.frac_in_deg_finished - x.frac_in_deg_unfinished) , axis = 1)\n",
    "categories_all['diff_out'] = categories_all.apply(lambda x: \n",
    "            (x.frac_out_deg_finished - x.frac_out_deg_unfinished), axis = 1)\n",
    "categories_all['diff_mean_in_out'] = categories_all.apply(lambda x: \n",
    "            (x.frac_mean_in_out_deg_finished - x.frac_mean_in_out_deg_unfinished), axis = 1)\n",
    "categories_all['weighted_diff_in'] = categories_all.apply(lambda x: \n",
    "            (x.frac_in_deg_finished - x.frac_in_deg_unfinished) /(x.frac_in_deg_finished + x.frac_in_deg_unfinished), axis = 1)\n",
    "categories_all['weighted_diff_out'] = categories_all.apply(lambda x: \n",
    "            (x.frac_out_deg_finished - x.frac_out_deg_unfinished) /(x.frac_out_deg_finished + x.frac_out_deg_unfinished), axis = 1)\n",
    "categories_all['weighted_diff_mean_in_out'] = categories_all.apply(lambda x: \n",
    "            (x.frac_mean_in_out_deg_finished - x.frac_mean_in_out_deg_unfinished)/(x.frac_mean_in_out_deg_finished + x.frac_mean_in_out_deg_unfinished), axis = 1)\n",
    "\n",
    "categories_all['diff_finished'] = categories_all.apply(lambda x: \n",
    "            (x.frac_in_deg_finished - x.frac_out_deg_finished) , axis = 1)\n",
    "categories_all['diff_unfinished'] = categories_all.apply(lambda x: \n",
    "            (x.frac_in_deg_finished - x.frac_out_deg_unfinished), axis = 1)\n",
    "categories_all['weighted_diff_finished'] = categories_all.apply(lambda x: \n",
    "            (x.frac_in_deg_finished - x.frac_out_deg_finished)/(x.frac_in_deg_finished + x.frac_out_deg_finished) , axis = 1)\n",
    "categories_all['weighted_diff_unfinished'] = categories_all.apply(lambda x: \n",
    "            (x.frac_in_deg_finished - x.frac_out_deg_unfinished)/(x.frac_in_deg_finished + x.frac_out_deg_finished), axis = 1)"
   ]
  },
  {
   "cell_type": "code",
   "execution_count": 242,
   "id": "f9b59d23",
   "metadata": {},
   "outputs": [
    {
     "data": {
      "text/html": [
       "<div>\n",
       "<style scoped>\n",
       "    .dataframe tbody tr th:only-of-type {\n",
       "        vertical-align: middle;\n",
       "    }\n",
       "\n",
       "    .dataframe tbody tr th {\n",
       "        vertical-align: top;\n",
       "    }\n",
       "\n",
       "    .dataframe thead th {\n",
       "        text-align: right;\n",
       "    }\n",
       "</style>\n",
       "<table border=\"1\" class=\"dataframe\">\n",
       "  <thead>\n",
       "    <tr style=\"text-align: right;\">\n",
       "      <th></th>\n",
       "      <th>frac_in_deg_finished</th>\n",
       "      <th>frac_out_deg_finished</th>\n",
       "      <th>frac_mean_in_out_deg_finished</th>\n",
       "      <th>frac_in_deg_unfinished</th>\n",
       "      <th>frac_out_deg_unfinished</th>\n",
       "      <th>frac_mean_in_out_deg_unfinished</th>\n",
       "      <th>diff_in</th>\n",
       "      <th>diff_out</th>\n",
       "      <th>diff_mean_in_out</th>\n",
       "      <th>weighted_diff_in</th>\n",
       "      <th>weighted_diff_out</th>\n",
       "      <th>weighted_diff_mean_in_out</th>\n",
       "      <th>diff_finished</th>\n",
       "      <th>diff_unfinished</th>\n",
       "      <th>weighted_diff_finished</th>\n",
       "      <th>weighted_diff_unfinished</th>\n",
       "    </tr>\n",
       "    <tr>\n",
       "      <th>splitted_cat</th>\n",
       "      <th></th>\n",
       "      <th></th>\n",
       "      <th></th>\n",
       "      <th></th>\n",
       "      <th></th>\n",
       "      <th></th>\n",
       "      <th></th>\n",
       "      <th></th>\n",
       "      <th></th>\n",
       "      <th></th>\n",
       "      <th></th>\n",
       "      <th></th>\n",
       "      <th></th>\n",
       "      <th></th>\n",
       "      <th></th>\n",
       "      <th></th>\n",
       "    </tr>\n",
       "  </thead>\n",
       "  <tbody>\n",
       "    <tr>\n",
       "      <th>Actors_models_and_celebrities</th>\n",
       "      <td>0.565203</td>\n",
       "      <td>0.997756</td>\n",
       "      <td>0.781480</td>\n",
       "      <td>0.696083</td>\n",
       "      <td>1.098264</td>\n",
       "      <td>0.897173</td>\n",
       "      <td>-0.130880</td>\n",
       "      <td>-0.100507</td>\n",
       "      <td>-0.115693</td>\n",
       "      <td>-0.103767</td>\n",
       "      <td>-0.047951</td>\n",
       "      <td>-0.068920</td>\n",
       "      <td>-0.432553</td>\n",
       "      <td>-0.533061</td>\n",
       "      <td>-0.276753</td>\n",
       "      <td>-0.341058</td>\n",
       "    </tr>\n",
       "    <tr>\n",
       "      <th>African_Countries</th>\n",
       "      <td>11.154110</td>\n",
       "      <td>10.231330</td>\n",
       "      <td>10.692720</td>\n",
       "      <td>8.979466</td>\n",
       "      <td>8.020418</td>\n",
       "      <td>8.499942</td>\n",
       "      <td>2.174645</td>\n",
       "      <td>2.210911</td>\n",
       "      <td>2.192778</td>\n",
       "      <td>0.108011</td>\n",
       "      <td>0.121134</td>\n",
       "      <td>0.114251</td>\n",
       "      <td>0.922781</td>\n",
       "      <td>3.133692</td>\n",
       "      <td>0.043150</td>\n",
       "      <td>0.146534</td>\n",
       "    </tr>\n",
       "    <tr>\n",
       "      <th>African_Geography</th>\n",
       "      <td>24.892006</td>\n",
       "      <td>24.243176</td>\n",
       "      <td>24.567591</td>\n",
       "      <td>19.119069</td>\n",
       "      <td>18.051742</td>\n",
       "      <td>18.585405</td>\n",
       "      <td>5.772937</td>\n",
       "      <td>6.191434</td>\n",
       "      <td>5.982185</td>\n",
       "      <td>0.131170</td>\n",
       "      <td>0.146387</td>\n",
       "      <td>0.138627</td>\n",
       "      <td>0.648830</td>\n",
       "      <td>6.840264</td>\n",
       "      <td>0.013205</td>\n",
       "      <td>0.139213</td>\n",
       "    </tr>\n",
       "    <tr>\n",
       "      <th>Air_and_Sea_transport</th>\n",
       "      <td>2.015699</td>\n",
       "      <td>2.099326</td>\n",
       "      <td>2.057512</td>\n",
       "      <td>1.871689</td>\n",
       "      <td>2.374415</td>\n",
       "      <td>2.123052</td>\n",
       "      <td>0.144010</td>\n",
       "      <td>-0.275089</td>\n",
       "      <td>-0.065540</td>\n",
       "      <td>0.037045</td>\n",
       "      <td>-0.061490</td>\n",
       "      <td>-0.015677</td>\n",
       "      <td>-0.083627</td>\n",
       "      <td>-0.358716</td>\n",
       "      <td>-0.020322</td>\n",
       "      <td>-0.087172</td>\n",
       "    </tr>\n",
       "    <tr>\n",
       "      <th>Ancient_History_Classical_History_and_Mythology</th>\n",
       "      <td>14.320401</td>\n",
       "      <td>14.282913</td>\n",
       "      <td>14.301657</td>\n",
       "      <td>14.586798</td>\n",
       "      <td>13.511737</td>\n",
       "      <td>14.049267</td>\n",
       "      <td>-0.266397</td>\n",
       "      <td>0.771176</td>\n",
       "      <td>0.252390</td>\n",
       "      <td>-0.009216</td>\n",
       "      <td>0.027745</td>\n",
       "      <td>0.008902</td>\n",
       "      <td>0.037488</td>\n",
       "      <td>0.808664</td>\n",
       "      <td>0.001311</td>\n",
       "      <td>0.028272</td>\n",
       "    </tr>\n",
       "  </tbody>\n",
       "</table>\n",
       "</div>"
      ],
      "text/plain": [
       "                                                 frac_in_deg_finished  \\\n",
       "splitted_cat                                                            \n",
       "Actors_models_and_celebrities                                0.565203   \n",
       "African_Countries                                           11.154110   \n",
       "African_Geography                                           24.892006   \n",
       "Air_and_Sea_transport                                        2.015699   \n",
       "Ancient_History_Classical_History_and_Mythology             14.320401   \n",
       "\n",
       "                                                 frac_out_deg_finished  \\\n",
       "splitted_cat                                                             \n",
       "Actors_models_and_celebrities                                 0.997756   \n",
       "African_Countries                                            10.231330   \n",
       "African_Geography                                            24.243176   \n",
       "Air_and_Sea_transport                                         2.099326   \n",
       "Ancient_History_Classical_History_and_Mythology              14.282913   \n",
       "\n",
       "                                                 frac_mean_in_out_deg_finished  \\\n",
       "splitted_cat                                                                     \n",
       "Actors_models_and_celebrities                                         0.781480   \n",
       "African_Countries                                                    10.692720   \n",
       "African_Geography                                                    24.567591   \n",
       "Air_and_Sea_transport                                                 2.057512   \n",
       "Ancient_History_Classical_History_and_Mythology                      14.301657   \n",
       "\n",
       "                                                 frac_in_deg_unfinished  \\\n",
       "splitted_cat                                                              \n",
       "Actors_models_and_celebrities                                  0.696083   \n",
       "African_Countries                                              8.979466   \n",
       "African_Geography                                             19.119069   \n",
       "Air_and_Sea_transport                                          1.871689   \n",
       "Ancient_History_Classical_History_and_Mythology               14.586798   \n",
       "\n",
       "                                                 frac_out_deg_unfinished  \\\n",
       "splitted_cat                                                               \n",
       "Actors_models_and_celebrities                                   1.098264   \n",
       "African_Countries                                               8.020418   \n",
       "African_Geography                                              18.051742   \n",
       "Air_and_Sea_transport                                           2.374415   \n",
       "Ancient_History_Classical_History_and_Mythology                13.511737   \n",
       "\n",
       "                                                 frac_mean_in_out_deg_unfinished  \\\n",
       "splitted_cat                                                                       \n",
       "Actors_models_and_celebrities                                           0.897173   \n",
       "African_Countries                                                       8.499942   \n",
       "African_Geography                                                      18.585405   \n",
       "Air_and_Sea_transport                                                   2.123052   \n",
       "Ancient_History_Classical_History_and_Mythology                        14.049267   \n",
       "\n",
       "                                                  diff_in  diff_out  \\\n",
       "splitted_cat                                                          \n",
       "Actors_models_and_celebrities                   -0.130880 -0.100507   \n",
       "African_Countries                                2.174645  2.210911   \n",
       "African_Geography                                5.772937  6.191434   \n",
       "Air_and_Sea_transport                            0.144010 -0.275089   \n",
       "Ancient_History_Classical_History_and_Mythology -0.266397  0.771176   \n",
       "\n",
       "                                                 diff_mean_in_out  \\\n",
       "splitted_cat                                                        \n",
       "Actors_models_and_celebrities                           -0.115693   \n",
       "African_Countries                                        2.192778   \n",
       "African_Geography                                        5.982185   \n",
       "Air_and_Sea_transport                                   -0.065540   \n",
       "Ancient_History_Classical_History_and_Mythology          0.252390   \n",
       "\n",
       "                                                 weighted_diff_in  \\\n",
       "splitted_cat                                                        \n",
       "Actors_models_and_celebrities                           -0.103767   \n",
       "African_Countries                                        0.108011   \n",
       "African_Geography                                        0.131170   \n",
       "Air_and_Sea_transport                                    0.037045   \n",
       "Ancient_History_Classical_History_and_Mythology         -0.009216   \n",
       "\n",
       "                                                 weighted_diff_out  \\\n",
       "splitted_cat                                                         \n",
       "Actors_models_and_celebrities                            -0.047951   \n",
       "African_Countries                                         0.121134   \n",
       "African_Geography                                         0.146387   \n",
       "Air_and_Sea_transport                                    -0.061490   \n",
       "Ancient_History_Classical_History_and_Mythology           0.027745   \n",
       "\n",
       "                                                 weighted_diff_mean_in_out  \\\n",
       "splitted_cat                                                                 \n",
       "Actors_models_and_celebrities                                    -0.068920   \n",
       "African_Countries                                                 0.114251   \n",
       "African_Geography                                                 0.138627   \n",
       "Air_and_Sea_transport                                            -0.015677   \n",
       "Ancient_History_Classical_History_and_Mythology                   0.008902   \n",
       "\n",
       "                                                 diff_finished  \\\n",
       "splitted_cat                                                     \n",
       "Actors_models_and_celebrities                        -0.432553   \n",
       "African_Countries                                     0.922781   \n",
       "African_Geography                                     0.648830   \n",
       "Air_and_Sea_transport                                -0.083627   \n",
       "Ancient_History_Classical_History_and_Mythology       0.037488   \n",
       "\n",
       "                                                 diff_unfinished  \\\n",
       "splitted_cat                                                       \n",
       "Actors_models_and_celebrities                          -0.533061   \n",
       "African_Countries                                       3.133692   \n",
       "African_Geography                                       6.840264   \n",
       "Air_and_Sea_transport                                  -0.358716   \n",
       "Ancient_History_Classical_History_and_Mythology         0.808664   \n",
       "\n",
       "                                                 weighted_diff_finished  \\\n",
       "splitted_cat                                                              \n",
       "Actors_models_and_celebrities                                 -0.276753   \n",
       "African_Countries                                              0.043150   \n",
       "African_Geography                                              0.013205   \n",
       "Air_and_Sea_transport                                         -0.020322   \n",
       "Ancient_History_Classical_History_and_Mythology                0.001311   \n",
       "\n",
       "                                                 weighted_diff_unfinished  \n",
       "splitted_cat                                                               \n",
       "Actors_models_and_celebrities                                   -0.341058  \n",
       "African_Countries                                                0.146534  \n",
       "African_Geography                                                0.139213  \n",
       "Air_and_Sea_transport                                           -0.087172  \n",
       "Ancient_History_Classical_History_and_Mythology                  0.028272  "
      ]
     },
     "execution_count": 242,
     "metadata": {},
     "output_type": "execute_result"
    }
   ],
   "source": [
    "categories_all.head(5)"
   ]
  },
  {
   "cell_type": "markdown",
   "id": "35fc45d6",
   "metadata": {},
   "source": [
    "## Difference between of node in/out degree between finished and unfineshed graphs \n",
    "### Histogram of the difference between of node in/out degree between finished and unfineshed graphs\n",
    "Now that we have all the features we needed we can start looking at results. \n",
    "\n",
    "First we plot the difference between of node in/out degree between finished and unfineshed graphs. We can see that there are no concepts where people get more stuck in unfinished paths than in finished. However, we can see that finished paths have concepts where we can go that may bu usefull and help the players find their way.\n"
   ]
  },
  {
   "cell_type": "code",
   "execution_count": 244,
   "id": "0d275fb4",
   "metadata": {},
   "outputs": [
    {
     "data": {
      "text/plain": [
       "<matplotlib.legend.Legend at 0x2813228f040>"
      ]
     },
     "execution_count": 244,
     "metadata": {},
     "output_type": "execute_result"
    },
    {
     "data": {
      "image/png": "[encoded data removed]",
      "text/plain": [
       "<Figure size 432x288 with 1 Axes>"
      ]
     },
     "metadata": {
      "needs_background": "light"
     },
     "output_type": "display_data"
    }
   ],
   "source": [
    "categories_all.diff_in.hist(alpha = 0.6, label = 'in_degree').set_title('Histogram of the difference between of node in/out degree between finished and unfineshed graphs')\n",
    "categories_all.diff_out.hist(alpha = 0.6, label = 'out_degree')\n",
    "categories_all.diff_mean_in_out.hist(alpha = 0.6, label = 'mean_degree')\n",
    "plt.legend()"
   ]
  },
  {
   "cell_type": "markdown",
   "id": "ab283f25",
   "metadata": {},
   "source": [
    "### Histogram of the weighted difference between of node in/out degree between finished and unfineshed graphs\n",
    "However from this it is not really relevent because we have to ~normalize~ the values to see significant relevance \n",
    "\n",
    "From this we can see that there are some concepts that are more used in the unfinished paths that are all related to art/movies/theatre. On the other hand, some concepts like History/chemistry are more used in finished paths.\n"
   ]
  },
  {
   "cell_type": "code",
   "execution_count": 247,
   "id": "8988b3cb",
   "metadata": {},
   "outputs": [
    {
     "data": {
      "text/plain": [
       "<matplotlib.legend.Legend at 0x2813341f6d0>"
      ]
     },
     "execution_count": 247,
     "metadata": {},
     "output_type": "execute_result"
    },
    {
     "data": {
      "image/png": "[encoded data removed]",
      "text/plain": [
       "<Figure size 432x288 with 1 Axes>"
      ]
     },
     "metadata": {
      "needs_background": "light"
     },
     "output_type": "display_data"
    }
   ],
   "source": [
    "categories_all.weighted_diff_in.hist(alpha = 0.2, label = 'in_degree').set_title('Histogram of the weighted difference between of node in/out degree between finished and unfineshed graphs')\n",
    "categories_all.weighted_diff_out.hist(alpha = 0.2, label = 'out_degree')\n",
    "categories_all.weighted_diff_mean_in_out.hist(alpha = 0.8, label = 'out_degree')\n",
    "plt.legend()"
   ]
  },
  {
   "cell_type": "code",
   "execution_count": 248,
   "id": "e0010bd1",
   "metadata": {},
   "outputs": [
    {
     "data": {
      "text/plain": [
       "Index(['Theatre', 'Community_organisations', 'Railway_transport',\n",
       "       'Producers_directors_and_media_figures', 'Literature_types', 'Sports',\n",
       "       'Television', 'General_Literature', 'Films', 'Culture_and_Diversity',\n",
       "       'Architecture'],\n",
       "      dtype='object', name='splitted_cat')"
      ]
     },
     "execution_count": 248,
     "metadata": {},
     "output_type": "execute_result"
    }
   ],
   "source": [
    "categories_all[categories_all['weighted_diff_mean_in_out'] < -0.15].weighted_diff_in.sort_values().index"
   ]
  },
  {
   "cell_type": "code",
   "execution_count": 249,
   "id": "0bfcfd26",
   "metadata": {},
   "outputs": [
    {
     "data": {
      "text/plain": [
       "Index(['Chemical_elements', 'General_Chemistry', 'Dinosaurs', 'Chemistry',\n",
       "       'Software', 'Musical_Instruments',\n",
       "       'British_History_1500_and_before_including_Roman_Britain',\n",
       "       'Middle_Eastern_Countries', 'Monarchs_of_Great_Britain'],\n",
       "      dtype='object', name='splitted_cat')"
      ]
     },
     "execution_count": 249,
     "metadata": {},
     "output_type": "execute_result"
    }
   ],
   "source": [
    "categories_all[categories_all['weighted_diff_mean_in_out'] > 0.25].weighted_diff_in.sort_values(ascending = False).index"
   ]
  },
  {
   "cell_type": "markdown",
   "id": "6860f143",
   "metadata": {},
   "source": [
    "### Histogram of the weighted difference between of node in/out degree of big concepts between finished and unfineshed graphs\n",
    "Finally we want to see only the difference in big concepts - concepts that often appear. For this we reduced the concepts we look at to only concepts that have at least 100 of in_degree."
   ]
  },
  {
   "cell_type": "code",
   "execution_count": 257,
   "id": "a905b361",
   "metadata": {},
   "outputs": [
    {
     "data": {
      "text/plain": [
       "<matplotlib.legend.Legend at 0x2813350ccd0>"
      ]
     },
     "execution_count": 257,
     "metadata": {},
     "output_type": "execute_result"
    },
    {
     "data": {
      "image/png": "[encoded data removed]",
      "text/plain": [
       "<Figure size 432x288 with 1 Axes>"
      ]
     },
     "metadata": {
      "needs_background": "light"
     },
     "output_type": "display_data"
    }
   ],
   "source": [
    "min_deg = 50\n",
    "categories_all[categories_all.frac_mean_in_out_deg_finished > min_deg].weighted_diff_in.hist(alpha = 0.2, label = 'in_degree').set_title('Histogram of the weighted difference between of node in/out degree of big concepts between finished and unfineshed graphs')\n",
    "categories_all[categories_all.frac_mean_in_out_deg_finished > min_deg].weighted_diff_out.hist(alpha = 0.2, label = 'out_degree')\n",
    "categories_all[categories_all.frac_mean_in_out_deg_finished > min_deg].weighted_diff_mean_in_out.hist(alpha = 0.8, label = 'mean_in_out_degree')\n",
    "plt.legend()"
   ]
  },
  {
   "cell_type": "code",
   "execution_count": 258,
   "id": "507e6b42",
   "metadata": {},
   "outputs": [
    {
     "name": "stderr",
     "output_type": "stream",
     "text": [
      "C:\\Users\\mathi\\AppData\\Local\\Temp/ipykernel_17936/3536877378.py:1: UserWarning: Boolean Series key will be reindexed to match DataFrame index.\n",
      "  categories_all[categories_all.frac_mean_in_out_deg_finished > min_deg][categories_all['weighted_diff_mean_in_out'] >0.05].weighted_diff_in.sort_values(ascending = False).index\n"
     ]
    },
    {
     "data": {
      "text/plain": [
       "Index(['Physics', 'Science', 'European_Geography', 'History', 'Geography',\n",
       "       'Countries'],\n",
       "      dtype='object', name='splitted_cat')"
      ]
     },
     "execution_count": 258,
     "metadata": {},
     "output_type": "execute_result"
    }
   ],
   "source": [
    "categories_all[categories_all.frac_mean_in_out_deg_finished > min_deg][categories_all['weighted_diff_mean_in_out'] >0.05].weighted_diff_in.sort_values(ascending = False).index"
   ]
  },
  {
   "cell_type": "code",
   "execution_count": 259,
   "id": "9946b4e9",
   "metadata": {},
   "outputs": [
    {
     "name": "stderr",
     "output_type": "stream",
     "text": [
      "C:\\Users\\mathi\\AppData\\Local\\Temp/ipykernel_17936/4094025566.py:1: UserWarning: Boolean Series key will be reindexed to match DataFrame index.\n",
      "  categories_all[categories_all.frac_mean_in_out_deg_finished > min_deg][categories_all['weighted_diff_mean_in_out'] < -0.015].weighted_diff_in.sort_values(ascending = False).index\n"
     ]
    },
    {
     "data": {
      "text/plain": [
       "Index(['Everyday_life', 'North_American_Geography'], dtype='object', name='splitted_cat')"
      ]
     },
     "execution_count": 259,
     "metadata": {},
     "output_type": "execute_result"
    }
   ],
   "source": [
    "categories_all[categories_all.frac_mean_in_out_deg_finished > min_deg][categories_all['weighted_diff_mean_in_out'] < -0.015].weighted_diff_in.sort_values(ascending = False).index"
   ]
  },
  {
   "cell_type": "markdown",
   "id": "1eea6a9c",
   "metadata": {},
   "source": [
    "## Look at the difference between in and out degree in finished and unfinished paths \n",
    "diff = in_deg- out_deg. It implies that \n",
    "- if diff is big, it means that we came to this node but then came back to the previous one \n",
    "- if diff is small, it means that we get back and forth from this node not knowing how to escape\n",
    "\n",
    "First, we see that nodes for finished paths are more balanced, which means the go back button was not used much in these concepts, whereas for unfinished paths it is skewed right but also to the left.\n",
    "\n",
    "From this we see that we have both cases with unfinished paths and what is interesting is that the \n",
    "- the node they go to and then come back are the node used more in finished paths like politics/history/chemistry, which means that maybe they don't adopt the good strategy and should have continued in this direction.\n",
    "- The node they cannot escape are the ones related to litterature which are the node used less in finished than in unfinished. So we might conclude that the players should escapte these node as soon as possible."
   ]
  },
  {
   "cell_type": "code",
   "execution_count": 260,
   "id": "ecbdfeab",
   "metadata": {},
   "outputs": [
    {
     "data": {
      "text/plain": [
       "<matplotlib.legend.Legend at 0x28133647250>"
      ]
     },
     "execution_count": 260,
     "metadata": {},
     "output_type": "execute_result"
    },
    {
     "data": {
      "image/png": "[encoded data removed]",
      "text/plain": [
       "<Figure size 432x288 with 1 Axes>"
      ]
     },
     "metadata": {
      "needs_background": "light"
     },
     "output_type": "display_data"
    }
   ],
   "source": [
    "categories_all.weighted_diff_finished.hist(alpha = 0.6, label = 'finished').set_title('Histogram of the weighted difference between of node in and node out degree for finished and unfineshed graphs')\n",
    "categories_all.weighted_diff_unfinished.hist(alpha = 0.6, label = 'unfinished')\n",
    "plt.legend()"
   ]
  },
  {
   "cell_type": "code",
   "execution_count": 217,
   "id": "7378e0c4",
   "metadata": {},
   "outputs": [
    {
     "data": {
      "text/plain": [
       "Index(['Antarctica', 'British_History_1500_and_before_including_Roman_Britain',\n",
       "       'Chemical_elements', 'Chemistry', 'General_Chemistry',\n",
       "       'Geography_of_the_Middle_East', 'Middle_Eastern_Countries',\n",
       "       'Monarchs_of_Great_Britain', 'Musical_Instruments', 'Software',\n",
       "       'World_War_II'],\n",
       "      dtype='object', name='splitted_cat')"
      ]
     },
     "execution_count": 217,
     "metadata": {},
     "output_type": "execute_result"
    }
   ],
   "source": [
    "categories_all[categories_all.weighted_diff_unfinished > 0.2].index"
   ]
  },
  {
   "cell_type": "code",
   "execution_count": 218,
   "id": "777f29e4",
   "metadata": {},
   "outputs": [
    {
     "data": {
      "text/plain": [
       "Index(['Actors_models_and_celebrities', 'Architecture', 'Cartoons',\n",
       "       'Community_organisations', 'Films', 'General_Literature',\n",
       "       'Language_and_literature', 'Literature_types',\n",
       "       'Producers_directors_and_media_figures', 'Railway_transport',\n",
       "       'Television', 'Theatre'],\n",
       "      dtype='object', name='splitted_cat')"
      ]
     },
     "execution_count": 218,
     "metadata": {},
     "output_type": "execute_result"
    }
   ],
   "source": [
    "categories_all[categories_all.weighted_diff_unfinished < -0.20].index"
   ]
  },
  {
   "cell_type": "markdown",
   "id": "0e7fbfaf",
   "metadata": {},
   "source": [
    "## Use Bokeh to plot results "
   ]
  },
  {
   "cell_type": "code",
   "execution_count": 275,
   "id": "fac698f1",
   "metadata": {},
   "outputs": [
    {
     "data": {
      "text/html": [
       "\n",
       "    <div class=\"bk-root\">\n",
       "        <a href=\"https://bokeh.org\" target=\"_blank\" class=\"bk-logo bk-logo-small bk-logo-notebook\"></a>\n",
       "        <span id=\"1554\">Loading BokehJS ...</span>\n",
       "    </div>"
      ]
     },
     "metadata": {},
     "output_type": "display_data"
    },
    {
     "data": {
      "application/javascript": [
       "\n",
       "(function(root) {\n",
       "  function now() {\n",
       "    return new Date();\n",
       "  }\n",
       "\n",
       "  const force = true;\n",
       "\n",
       "  if (typeof root._bokeh_onload_callbacks === \"undefined\" || force === true) {\n",
       "    root._bokeh_onload_callbacks = [];\n",
       "    root._bokeh_is_loading = undefined;\n",
       "  }\n",
       "\n",
       "  const JS_MIME_TYPE = 'application/javascript';\n",
       "  const HTML_MIME_TYPE = 'text/html';\n",
       "  const EXEC_MIME_TYPE = 'application/vnd.bokehjs_exec.v0+json';\n",
       "  const CLASS_NAME = 'output_bokeh rendered_html';\n",
       "\n",
       "  /**\n",
       "   * Render data to the DOM node\n",
       "   */\n",
       "  function render(props, node) {\n",
       "    const script = document.createElement(\"script\");\n",
       "    node.appendChild(script);\n",
       "  }\n",
       "\n",
       "  /**\n",
       "   * Handle when an output is cleared or removed\n",
       "   */\n",
       "  function handleClearOutput(event, handle) {\n",
       "    const cell = handle.cell;\n",
       "\n",
       "    const id = cell.output_area._bokeh_element_id;\n",
       "    const server_id = cell.output_area._bokeh_server_id;\n",
       "    // Clean up Bokeh references\n",
       "    if (id != null && id in Bokeh.index) {\n",
       "      Bokeh.index[id].model.document.clear();\n",
       "      delete Bokeh.index[id];\n",
       "    }\n",
       "\n",
       "    if (server_id !== undefined) {\n",
       "      // Clean up Bokeh references\n",
       "      const cmd_clean = \"from bokeh.io.state import curstate; print(curstate().uuid_to_server['\" + server_id + \"'].get_sessions()[0].document.roots[0]._id)\";\n",
       "      cell.notebook.kernel.execute(cmd_clean, {\n",
       "        iopub: {\n",
       "          output: function(msg) {\n",
       "            const id = msg.content.text.trim();\n",
       "            if (id in Bokeh.index) {\n",
       "              Bokeh.index[id].model.document.clear();\n",
       "              delete Bokeh.index[id];\n",
       "            }\n",
       "          }\n",
       "        }\n",
       "      });\n",
       "      // Destroy server and session\n",
       "      const cmd_destroy = \"import bokeh.io.notebook as ion; ion.destroy_server('\" + server_id + \"')\";\n",
       "      cell.notebook.kernel.execute(cmd_destroy);\n",
       "    }\n",
       "  }\n",
       "\n",
       "  /**\n",
       "   * Handle when a new output is added\n",
       "   */\n",
       "  function handleAddOutput(event, handle) {\n",
       "    const output_area = handle.output_area;\n",
       "    const output = handle.output;\n",
       "\n",
       "    // limit handleAddOutput to display_data with EXEC_MIME_TYPE content only\n",
       "    if ((output.output_type != \"display_data\") || (!Object.prototype.hasOwnProperty.call(output.data, EXEC_MIME_TYPE))) {\n",
       "      return\n",
       "    }\n",
       "\n",
       "    const toinsert = output_area.element.find(\".\" + CLASS_NAME.split(' ')[0]);\n",
       "\n",
       "    if (output.metadata[EXEC_MIME_TYPE][\"id\"] !== undefined) {\n",
       "      toinsert[toinsert.length - 1].firstChild.textContent = output.data[JS_MIME_TYPE];\n",
       "      // store reference to embed id on output_area\n",
       "      output_area._bokeh_element_id = output.metadata[EXEC_MIME_TYPE][\"id\"];\n",
       "    }\n",
       "    if (output.metadata[EXEC_MIME_TYPE][\"server_id\"] !== undefined) {\n",
       "      const bk_div = document.createElement(\"div\");\n",
       "      bk_div.innerHTML = output.data[HTML_MIME_TYPE];\n",
       "      const script_attrs = bk_div.children[0].attributes;\n",
       "      for (let i = 0; i < script_attrs.length; i++) {\n",
       "        toinsert[toinsert.length - 1].firstChild.setAttribute(script_attrs[i].name, script_attrs[i].value);\n",
       "        toinsert[toinsert.length - 1].firstChild.textContent = bk_div.children[0].textContent\n",
       "      }\n",
       "      // store reference to server id on output_area\n",
       "      output_area._bokeh_server_id = output.metadata[EXEC_MIME_TYPE][\"server_id\"];\n",
       "    }\n",
       "  }\n",
       "\n",
       "  function register_renderer(events, OutputArea) {\n",
       "\n",
       "    function append_mime(data, metadata, element) {\n",
       "      // create a DOM node to render to\n",
       "      const toinsert = this.create_output_subarea(\n",
       "        metadata,\n",
       "        CLASS_NAME,\n",
       "        EXEC_MIME_TYPE\n",
       "      );\n",
       "      this.keyboard_manager.register_events(toinsert);\n",
       "      // Render to node\n",
       "      const props = {data: data, metadata: metadata[EXEC_MIME_TYPE]};\n",
       "      render(props, toinsert[toinsert.length - 1]);\n",
       "      element.append(toinsert);\n",
       "      return toinsert\n",
       "    }\n",
       "\n",
       "    /* Handle when an output is cleared or removed */\n",
       "    events.on('clear_output.CodeCell', handleClearOutput);\n",
       "    events.on('delete.Cell', handleClearOutput);\n",
       "\n",
       "    /* Handle when a new output is added */\n",
       "    events.on('output_added.OutputArea', handleAddOutput);\n",
       "\n",
       "    /**\n",
       "     * Register the mime type and append_mime function with output_area\n",
       "     */\n",
       "    OutputArea.prototype.register_mime_type(EXEC_MIME_TYPE, append_mime, {\n",
       "      /* Is output safe? */\n",
       "      safe: true,\n",
       "      /* Index of renderer in `output_area.display_order` */\n",
       "      index: 0\n",
       "    });\n",
       "  }\n",
       "\n",
       "  // register the mime type if in Jupyter Notebook environment and previously unregistered\n",
       "  if (root.Jupyter !== undefined) {\n",
       "    const events = require('base/js/events');\n",
       "    const OutputArea = require('notebook/js/outputarea').OutputArea;\n",
       "\n",
       "    if (OutputArea.prototype.mime_types().indexOf(EXEC_MIME_TYPE) == -1) {\n",
       "      register_renderer(events, OutputArea);\n",
       "    }\n",
       "  }\n",
       "\n",
       "  \n",
       "  if (typeof (root._bokeh_timeout) === \"undefined\" || force === true) {\n",
       "    root._bokeh_timeout = Date.now() + 5000;\n",
       "    root._bokeh_failed_load = false;\n",
       "  }\n",
       "\n",
       "  const NB_LOAD_WARNING = {'data': {'text/html':\n",
       "     \"<div style='background-color: #fdd'>\\n\"+\n",
       "     \"<p>\\n\"+\n",
       "     \"BokehJS does not appear to have successfully loaded. If loading BokehJS from CDN, this \\n\"+\n",
       "     \"may be due to a slow or bad network connection. Possible fixes:\\n\"+\n",
       "     \"</p>\\n\"+\n",
       "     \"<ul>\\n\"+\n",
       "     \"<li>re-rerun `output_notebook()` to attempt to load from CDN again, or</li>\\n\"+\n",
       "     \"<li>use INLINE resources instead, as so:</li>\\n\"+\n",
       "     \"</ul>\\n\"+\n",
       "     \"<code>\\n\"+\n",
       "     \"from bokeh.resources import INLINE\\n\"+\n",
       "     \"output_notebook(resources=INLINE)\\n\"+\n",
       "     \"</code>\\n\"+\n",
       "     \"</div>\"}};\n",
       "\n",
       "  function display_loaded() {\n",
       "    const el = document.getElementById(\"1554\");\n",
       "    if (el != null) {\n",
       "      el.textContent = \"BokehJS is loading...\";\n",
       "    }\n",
       "    if (root.Bokeh !== undefined) {\n",
       "      if (el != null) {\n",
       "        el.textContent = \"BokehJS \" + root.Bokeh.version + \" successfully loaded.\";\n",
       "      }\n",
       "    } else if (Date.now() < root._bokeh_timeout) {\n",
       "      setTimeout(display_loaded, 100)\n",
       "    }\n",
       "  }\n",
       "\n",
       "\n",
       "  function run_callbacks() {\n",
       "    try {\n",
       "      root._bokeh_onload_callbacks.forEach(function(callback) {\n",
       "        if (callback != null)\n",
       "          callback();\n",
       "      });\n",
       "    } finally {\n",
       "      delete root._bokeh_onload_callbacks\n",
       "    }\n",
       "    console.debug(\"Bokeh: all callbacks have finished\");\n",
       "  }\n",
       "\n",
       "  function load_libs(css_urls, js_urls, callback) {\n",
       "    if (css_urls == null) css_urls = [];\n",
       "    if (js_urls == null) js_urls = [];\n",
       "\n",
       "    root._bokeh_onload_callbacks.push(callback);\n",
       "    if (root._bokeh_is_loading > 0) {\n",
       "      console.debug(\"Bokeh: BokehJS is being loaded, scheduling callback at\", now());\n",
       "      return null;\n",
       "    }\n",
       "    if (js_urls == null || js_urls.length === 0) {\n",
       "      run_callbacks();\n",
       "      return null;\n",
       "    }\n",
       "    console.debug(\"Bokeh: BokehJS not loaded, scheduling load and callback at\", now());\n",
       "    root._bokeh_is_loading = css_urls.length + js_urls.length;\n",
       "\n",
       "    function on_load() {\n",
       "      root._bokeh_is_loading--;\n",
       "      if (root._bokeh_is_loading === 0) {\n",
       "        console.debug(\"Bokeh: all BokehJS libraries/stylesheets loaded\");\n",
       "        run_callbacks()\n",
       "      }\n",
       "    }\n",
       "\n",
       "    function on_error(url) {\n",
       "      console.error(\"failed to load \" + url);\n",
       "    }\n",
       "\n",
       "    for (let i = 0; i < css_urls.length; i++) {\n",
       "      const url = css_urls[i];\n",
       "      const element = document.createElement(\"link\");\n",
       "      element.onload = on_load;\n",
       "      element.onerror = on_error.bind(null, url);\n",
       "      element.rel = \"stylesheet\";\n",
       "      element.type = \"text/css\";\n",
       "      element.href = url;\n",
       "      console.debug(\"Bokeh: injecting link tag for BokehJS stylesheet: \", url);\n",
       "      document.body.appendChild(element);\n",
       "    }\n",
       "\n",
       "    for (let i = 0; i < js_urls.length; i++) {\n",
       "      const url = js_urls[i];\n",
       "      const element = document.createElement('script');\n",
       "      element.onload = on_load;\n",
       "      element.onerror = on_error.bind(null, url);\n",
       "      element.async = false;\n",
       "      element.src = url;\n",
       "      console.debug(\"Bokeh: injecting script tag for BokehJS library: \", url);\n",
       "      document.head.appendChild(element);\n",
       "    }\n",
       "  };\n",
       "\n",
       "  function inject_raw_css(css) {\n",
       "    const element = document.createElement(\"style\");\n",
       "    element.appendChild(document.createTextNode(css));\n",
       "    document.body.appendChild(element);\n",
       "  }\n",
       "\n",
       "  \n",
       "  const js_urls = [\"https://cdn.bokeh.org/bokeh/release/bokeh-2.4.1.min.js\", \"https://cdn.bokeh.org/bokeh/release/bokeh-gl-2.4.1.min.js\", \"https://cdn.bokeh.org/bokeh/release/bokeh-widgets-2.4.1.min.js\", \"https://cdn.bokeh.org/bokeh/release/bokeh-tables-2.4.1.min.js\", \"https://cdn.bokeh.org/bokeh/release/bokeh-mathjax-2.4.1.min.js\"];\n",
       "  const css_urls = [];\n",
       "  \n",
       "\n",
       "  const inline_js = [\n",
       "    function(Bokeh) {\n",
       "      Bokeh.set_log_level(\"info\");\n",
       "    },\n",
       "    function(Bokeh) {\n",
       "    \n",
       "    \n",
       "    }\n",
       "  ];\n",
       "\n",
       "  function run_inline_js() {\n",
       "    \n",
       "    if (root.Bokeh !== undefined || force === true) {\n",
       "      \n",
       "    for (let i = 0; i < inline_js.length; i++) {\n",
       "      inline_js[i].call(root, root.Bokeh);\n",
       "    }\n",
       "    if (force === true) {\n",
       "        display_loaded();\n",
       "      }} else if (Date.now() < root._bokeh_timeout) {\n",
       "      setTimeout(run_inline_js, 100);\n",
       "    } else if (!root._bokeh_failed_load) {\n",
       "      console.log(\"Bokeh: BokehJS failed to load within specified timeout.\");\n",
       "      root._bokeh_failed_load = true;\n",
       "    } else if (force !== true) {\n",
       "      const cell = $(document.getElementById(\"1554\")).parents('.cell').data().cell;\n",
       "      cell.output_area.append_execute_result(NB_LOAD_WARNING)\n",
       "    }\n",
       "\n",
       "  }\n",
       "\n",
       "  if (root._bokeh_is_loading === 0) {\n",
       "    console.debug(\"Bokeh: BokehJS loaded, going straight to plotting\");\n",
       "    run_inline_js();\n",
       "  } else {\n",
       "    load_libs(css_urls, js_urls, function() {\n",
       "      console.debug(\"Bokeh: BokehJS plotting callback run at\", now());\n",
       "      run_inline_js();\n",
       "    });\n",
       "  }\n",
       "}(window));"
      ],
      "application/vnd.bokehjs_load.v0+json": "\n(function(root) {\n  function now() {\n    return new Date();\n  }\n\n  const force = true;\n\n  if (typeof root._bokeh_onload_callbacks === \"undefined\" || force === true) {\n    root._bokeh_onload_callbacks = [];\n    root._bokeh_is_loading = undefined;\n  }\n\n  \n\n  \n  if (typeof (root._bokeh_timeout) === \"undefined\" || force === true) {\n    root._bokeh_timeout = Date.now() + 5000;\n    root._bokeh_failed_load = false;\n  }\n\n  const NB_LOAD_WARNING = {'data': {'text/html':\n     \"<div style='background-color: #fdd'>\\n\"+\n     \"<p>\\n\"+\n     \"BokehJS does not appear to have successfully loaded. If loading BokehJS from CDN, this \\n\"+\n     \"may be due to a slow or bad network connection. Possible fixes:\\n\"+\n     \"</p>\\n\"+\n     \"<ul>\\n\"+\n     \"<li>re-rerun `output_notebook()` to attempt to load from CDN again, or</li>\\n\"+\n     \"<li>use INLINE resources instead, as so:</li>\\n\"+\n     \"</ul>\\n\"+\n     \"<code>\\n\"+\n     \"from bokeh.resources import INLINE\\n\"+\n     \"output_notebook(resources=INLINE)\\n\"+\n     \"</code>\\n\"+\n     \"</div>\"}};\n\n  function display_loaded() {\n    const el = document.getElementById(\"1554\");\n    if (el != null) {\n      el.textContent = \"BokehJS is loading...\";\n    }\n    if (root.Bokeh !== undefined) {\n      if (el != null) {\n        el.textContent = \"BokehJS \" + root.Bokeh.version + \" successfully loaded.\";\n      }\n    } else if (Date.now() < root._bokeh_timeout) {\n      setTimeout(display_loaded, 100)\n    }\n  }\n\n\n  function run_callbacks() {\n    try {\n      root._bokeh_onload_callbacks.forEach(function(callback) {\n        if (callback != null)\n          callback();\n      });\n    } finally {\n      delete root._bokeh_onload_callbacks\n    }\n    console.debug(\"Bokeh: all callbacks have finished\");\n  }\n\n  function load_libs(css_urls, js_urls, callback) {\n    if (css_urls == null) css_urls = [];\n    if (js_urls == null) js_urls = [];\n\n    root._bokeh_onload_callbacks.push(callback);\n    if (root._bokeh_is_loading > 0) {\n      console.debug(\"Bokeh: BokehJS is being loaded, scheduling callback at\", now());\n      return null;\n    }\n    if (js_urls == null || js_urls.length === 0) {\n      run_callbacks();\n      return null;\n    }\n    console.debug(\"Bokeh: BokehJS not loaded, scheduling load and callback at\", now());\n    root._bokeh_is_loading = css_urls.length + js_urls.length;\n\n    function on_load() {\n      root._bokeh_is_loading--;\n      if (root._bokeh_is_loading === 0) {\n        console.debug(\"Bokeh: all BokehJS libraries/stylesheets loaded\");\n        run_callbacks()\n      }\n    }\n\n    function on_error(url) {\n      console.error(\"failed to load \" + url);\n    }\n\n    for (let i = 0; i < css_urls.length; i++) {\n      const url = css_urls[i];\n      const element = document.createElement(\"link\");\n      element.onload = on_load;\n      element.onerror = on_error.bind(null, url);\n      element.rel = \"stylesheet\";\n      element.type = \"text/css\";\n      element.href = url;\n      console.debug(\"Bokeh: injecting link tag for BokehJS stylesheet: \", url);\n      document.body.appendChild(element);\n    }\n\n    for (let i = 0; i < js_urls.length; i++) {\n      const url = js_urls[i];\n      const element = document.createElement('script');\n      element.onload = on_load;\n      element.onerror = on_error.bind(null, url);\n      element.async = false;\n      element.src = url;\n      console.debug(\"Bokeh: injecting script tag for BokehJS library: \", url);\n      document.head.appendChild(element);\n    }\n  };\n\n  function inject_raw_css(css) {\n    const element = document.createElement(\"style\");\n    element.appendChild(document.createTextNode(css));\n    document.body.appendChild(element);\n  }\n\n  \n  const js_urls = [\"https://cdn.bokeh.org/bokeh/release/bokeh-2.4.1.min.js\", \"https://cdn.bokeh.org/bokeh/release/bokeh-gl-2.4.1.min.js\", \"https://cdn.bokeh.org/bokeh/release/bokeh-widgets-2.4.1.min.js\", \"https://cdn.bokeh.org/bokeh/release/bokeh-tables-2.4.1.min.js\", \"https://cdn.bokeh.org/bokeh/release/bokeh-mathjax-2.4.1.min.js\"];\n  const css_urls = [];\n  \n\n  const inline_js = [\n    function(Bokeh) {\n      Bokeh.set_log_level(\"info\");\n    },\n    function(Bokeh) {\n    \n    \n    }\n  ];\n\n  function run_inline_js() {\n    \n    if (root.Bokeh !== undefined || force === true) {\n      \n    for (let i = 0; i < inline_js.length; i++) {\n      inline_js[i].call(root, root.Bokeh);\n    }\n    if (force === true) {\n        display_loaded();\n      }} else if (Date.now() < root._bokeh_timeout) {\n      setTimeout(run_inline_js, 100);\n    } else if (!root._bokeh_failed_load) {\n      console.log(\"Bokeh: BokehJS failed to load within specified timeout.\");\n      root._bokeh_failed_load = true;\n    } else if (force !== true) {\n      const cell = $(document.getElementById(\"1554\")).parents('.cell').data().cell;\n      cell.output_area.append_execute_result(NB_LOAD_WARNING)\n    }\n\n  }\n\n  if (root._bokeh_is_loading === 0) {\n    console.debug(\"Bokeh: BokehJS loaded, going straight to plotting\");\n    run_inline_js();\n  } else {\n    load_libs(css_urls, js_urls, function() {\n      console.debug(\"Bokeh: BokehJS plotting callback run at\", now());\n      run_inline_js();\n    });\n  }\n}(window));"
     },
     "metadata": {},
     "output_type": "display_data"
    }
   ],
   "source": [
    "from bokeh.io import show, output_notebook\n",
    "from bokeh.plotting import figure, ColumnDataSource\n",
    "from bokeh.models import HoverTool, ResetTool, PanTool, WheelZoomTool, SaveTool, ColorBar, ColorMapper\n",
    "output_notebook()\n",
    "def get_color(x):\n",
    "    if x.weighted_diff_unfinished < -0.1 and x.weighted_diff_mean_in_out < -0.2 :\n",
    "        return 'red'\n",
    "    elif x.weighted_diff_unfinished > 0.2 and x.weighted_diff_mean_in_out > 0.2 :\n",
    "        return 'green'\n",
    "    else :\n",
    "        return 'blue'"
   ]
  },
  {
   "cell_type": "code",
   "execution_count": 280,
   "id": "18c4be30",
   "metadata": {},
   "outputs": [
    {
     "data": {
      "text/html": [
       "\n",
       "\n",
       "\n",
       "\n",
       "\n",
       "\n",
       "  <div class=\"bk-root\" id=\"5309c85c-18fa-4fd6-a753-a5de4fcf0d06\" data-root-id=\"1998\"></div>\n"
      ]
     },
     "metadata": {},
     "output_type": "display_data"
    },
    {
     "data": {
      "application/javascript": [
       "(function(root) {\n",
       "  function embed_document(root) {\n",
       "    \n",
       "  const docs_json = {\"fee4974f-f5fc-42b3-a3e0-1f1f8064130e\":{\"defs\":[],\"roots\":{\"references\":[{\"attributes\":{\"below\":[{\"id\":\"2009\"}],\"center\":[{\"id\":\"2012\"},{\"id\":\"2016\"}],\"height\":360,\"left\":[{\"id\":\"2013\"}],\"renderers\":[{\"id\":\"2028\"}],\"title\":{\"id\":\"1999\"},\"toolbar\":{\"id\":\"2017\"},\"width\":760,\"x_range\":{\"id\":\"2001\"},\"x_scale\":{\"id\":\"2005\"},\"y_range\":{\"id\":\"2003\"},\"y_scale\":{\"id\":\"2007\"}},\"id\":\"1998\",\"subtype\":\"Figure\",\"type\":\"Plot\"},{\"attributes\":{\"coordinates\":null,\"data_source\":{\"id\":\"2023\"},\"glyph\":{\"id\":\"2025\"},\"group\":null,\"hover_glyph\":null,\"muted_glyph\":{\"id\":\"2027\"},\"nonselection_glyph\":{\"id\":\"2026\"},\"view\":{\"id\":\"2029\"}},\"id\":\"2028\",\"type\":\"GlyphRenderer\"},{\"attributes\":{},\"id\":\"1997\",\"type\":\"SaveTool\"},{\"attributes\":{\"data\":{\"color\":[\"blue\",\"blue\",\"blue\",\"blue\",\"blue\",\"blue\",\"green\",\"blue\",\"red\",\"blue\",\"blue\",\"blue\",\"blue\",\"blue\",\"blue\",\"blue\",\"blue\",\"green\",\"blue\",\"blue\",\"blue\",\"blue\",\"blue\",\"blue\",\"blue\",\"blue\",\"green\",\"green\",\"blue\",\"blue\",\"blue\",\"red\",\"blue\",\"blue\",\"blue\",\"blue\",\"blue\",\"blue\",\"blue\",\"blue\",\"blue\",\"blue\",\"blue\",\"blue\",\"blue\",\"blue\",\"blue\",\"blue\",\"blue\",\"blue\",\"blue\",\"blue\",\"blue\",\"blue\",\"blue\",\"blue\",\"blue\",\"blue\",\"blue\",\"blue\",\"green\",\"blue\",\"blue\",\"blue\",\"blue\",\"blue\",\"blue\",\"blue\",\"blue\",\"blue\",\"green\",\"blue\",\"blue\",\"blue\",\"blue\",\"blue\",\"blue\",\"blue\",\"blue\",\"blue\",\"blue\",\"blue\",\"blue\",\"red\",\"blue\",\"blue\",\"blue\",\"blue\",\"blue\",\"green\",\"blue\",\"blue\",\"blue\",\"green\",\"blue\",\"green\",\"blue\",\"blue\",\"blue\",\"blue\",\"blue\",\"blue\",\"blue\",\"blue\",\"blue\",\"blue\",\"blue\",\"blue\",\"blue\",\"blue\",\"blue\",\"blue\",\"blue\",\"blue\",\"blue\",\"blue\",\"red\",\"blue\",\"blue\",\"blue\",\"blue\",\"blue\",\"blue\",\"blue\",\"blue\",\"blue\",\"green\",\"blue\",\"blue\",\"blue\",\"blue\",\"blue\",\"blue\",\"blue\",\"blue\",\"blue\",\"red\",\"blue\",\"blue\",\"green\",\"blue\"],\"index\":[0,1,2,3,4,5,6,7,8,9,10,11,12,13,14,15,16,17,18,19,20,21,22,23,24,25,26,27,28,29,30,31,32,33,34,35,36,37,38,39,40,41,42,43,44,45,46,47,48,49,50,51,52,53,54,55,56,57,58,59,60,61,62,63,64,65,66,67,68,69,70,71,72,73,74,75,76,77,78,79,80,81,82,83,84,85,86,87,88,89,90,91,92,93,94,95,96,97,98,99,100,101,102,103,104,105,106,107,108,109,110,111,112,113,114,115,116,117,118,119,120,121,122,123,124,125,126,127,128,129,130,131,132,133,134,135,136,137,138,139,140],\"splitted_cat\":[\"Actors_models_and_celebrities\",\"African_Countries\",\"African_Geography\",\"Air_and_Sea_transport\",\"Ancient_History_Classical_History_and_Mythology\",\"Animal_and_Human_Rights\",\"Antarctica\",\"Archaeology\",\"Architecture\",\"Art\",\"Artists\",\"Asian_Countries\",\"Astronomers_and_physicists\",\"Biology\",\"Birds\",\"British_History\",\"British_History_15001750\",\"British_History_1500_and_before_including_Roman_Britain\",\"British_History_17501900\",\"British_History_Post_1900\",\"Business\",\"Business_Studies\",\"Cartoons\",\"Central_and_South_American_Countries\",\"Central_and_South_American_Geography\",\"Chemical_compounds\",\"Chemical_elements\",\"Chemistry\",\"Chemists\",\"Citizenship\",\"Climate_and_the_Weather\",\"Community_organisations\",\"Companies\",\"Computer_Programming\",\"Computer_and_Video_games\",\"Computing_People\",\"Computing_hardware_and_infrastructure\",\"Conflict_and_Peace\",\"Countries\",\"Cryptography\",\"Culture_and_Diversity\",\"Currency\",\"Design_and_Technology\",\"Dinosaurs\",\"Divinities\",\"Drink\",\"Economics\",\"Education\",\"Electricity_and_Electronics\",\"Engineering\",\"Engineers_and_inventors\",\"Environment\",\"European_Countries\",\"European_Geography\",\"Everyday_life\",\"Evolution_and_reproduction\",\"Films\",\"Food_and_agriculture\",\"Games\",\"General_Biology\",\"General_Chemistry\",\"General_Geography\",\"General_Literature\",\"General_Physics\",\"General_history\",\"Geographers_and_explorers\",\"Geography\",\"Geography_of_Asia\",\"Geography_of_Great_Britain\",\"Geography_of_Oceania_Australasia\",\"Geography_of_the_Middle_East\",\"Geology_and_geophysics\",\"Health_and_medicine\",\"Historians_chroniclers_and_history_books\",\"Historical_figures\",\"History\",\"Human_Scientists\",\"IT\",\"Insects_Reptiles_and_Fish\",\"Language_and_literature\",\"Languages\",\"Law\",\"Linguistics\",\"Literature_types\",\"Mammals\",\"Materials_science\",\"Mathematicians\",\"Mathematics\",\"Media\",\"Middle_Eastern_Countries\",\"Military_History_and_War\",\"Military_People\",\"Mineralogy\",\"Monarchs_of_Great_Britain\",\"Music\",\"Musical_Instruments\",\"Musical_Recordings_and_compositions\",\"Musical_genres_styles_eras_and_events\",\"Myths\",\"Natural_Disasters\",\"North_American_Geography\",\"North_American_History\",\"Novels\",\"Organisms\",\"People\",\"Peoples\",\"Performers_and_composers\",\"Philosophers\",\"Philosophy\",\"Physics\",\"Plants\",\"Poetry_and_Opera\",\"Political_People\",\"Politics_and_government\",\"Pre_1900_Military\",\"Producers_directors_and_media_figures\",\"Railway_transport\",\"Recent_History\",\"Recreation\",\"Religion\",\"Religious_disputes\",\"Religious_figures_and_leaders\",\"Religious_movements_traditions_and_organizations\",\"Religious_texts\",\"Road_transport\",\"Science\",\"Software\",\"Space_Astronomy\",\"Space_transport\",\"Sports\",\"Sports_and_games_people\",\"Sports_events\",\"Sports_teams\",\"Storms\",\"Television\",\"The_Planets\",\"Theatre\",\"USA_Presidents\",\"Websites_and_the_Internet\",\"World_War_II\",\"Writers_and_critics\"],\"weighted_diff_mean_in_out\":{\"__ndarray__\":\"rLPrf8Oksb9EMrUdiz+9P7gfxHWKvsE/ardYm7ANkL8ngWjmZDuCP0CJB1K5lbi/IiV/MgyHzj/+3Jdd3EWtP/D7ksl+08u/M/kO9+MKqr+Z6iUCAOeyP4t3BMLdGr8/csSG0KaTwT+Fv9hUw/OcPwY0hA87Nrc/W6Zuq+zkwT9jNUjjbJy5P5jw9sMRJ9A/VE2yrl48tT/Q5N/9ohXEP2tv0bQUaLi/rJ3/bdE0nr/7kUH1TIfCv6C5kiFlLbU/FpBWJJZlwD9u1gZBA67CP8PKgWv1Ytc/q/ETOMRl1T8rutOfux6+P05xIQGZF4e/YVWKrmcrxD+5eRKWXV7MvxyNFyzGirU/iJpXoIYlm78cBWwX8vzAP/+4qMuXnIk/BtEhtltOuj/oVu+7qpZnvxso6unfh7U/vag7AhiZvT8qwpL7OznDv6NGXpGGJ4I/zT5y1zE5j787l4q3LvPRPzrqnL9sna0/fqbyMBYNdT+8cE+r+wyrv07EmbjgxVs/typ0iInSvj8jWl9tkHC2P1TvmKiBTcQ/WRcL6Otpsz9003C3ii2+P754sBnylL4/7xXROV6jor9A8bp3tEqDP32w4UHmqca/pXdsgdVhsD9zI9JAz2bMP26zt1aUWre/qd8AkJX02j8fiLz4U3K2P2IvpF0Eb8W/arsC8ddvuj/bwkEbViGoP9+N/5+yPq6/2VuB0VDFsz+ewbi99vjAP9anajtJE6k/udLxvml1vj+83fqCp9LNP+Wx0y++BLY/47gANkfojz/iHAYnZyi5P0taFUvISrU/tF4jM2vetD8eB0AFTPyTP46WQ/NYjrk/A14f3++HtT8nmUg7zwi4v1EPJ7iZDYA/5BwjuLugp78W4GvfR+6Zv4Jud4Crkc+/2OxxDjK2rD+12trXhwGXPw6NnLNBA74/0tQrQU4jwz8BlHumuoaKv4F932hz/tE/MkTVRbkavz+bBSqKRbqTP5fY+VYZY6U/m1WsDxhu0T/vhK+MtBGaP0Mgeo+8xNA/8OM8Yuyqyj8xZZXr+w60v6j2ct3br6I/XTknE2L1tj9Fjcsq05Wov+FAeAN4ios/debILSIopz9cvAh/gEhwv8S3cQ/3lLY/w6ZHb0FKlz+f+YkXiNbCP/HFvDNQS6o/Jonx208wkr/UUvEn3Uy/Pw4TzgZtzcM/VP6h89OSQD+BEyhKfpTFPxkQHDmAgpE/8jAjz8+/gL9/G5d67ODHv9lz4clQs8m/x1bfaHJxsD+CvnYPp0q7v+TJVYrKXqk/gb5QvO0byT9H8diRR0aSP/frl/RA/rU/uLyqV3C9wb8Se/TPTyOuv17oj94N2bk/6POvChDk0j835MJn1lu+P61cNExoeMY/H9N/y9Xdx7/FKeWih9C9P3XLAAQJaMK/xbQLJ4FJxz8T5ycXBkOnP/kC7O2egsa/Y8Of3tzCwD8dBxn0hIfSvxZxRt2PTrU/UWOkuEX3rT9atXqZJLbLP+MFfOOecam/\",\"dtype\":\"float64\",\"order\":\"little\",\"shape\":[141]},\"weighted_diff_unfinished\":{\"__ndarray__\":\"x/XgyebT1b98VRdgn8HCP02e+pe80cE/uS+QDe1Qtr9deG92QfOcP9t3VqFaSr+/2asnl0ejyT+MhfcxTwuiP+9gq6ldL+u/MUdbIgC4rb+JLaHosfR4v3oCk5k9rMI/kYtFrhtWwD8wl7SscAJTPyDJv6B0y5q/tNR3L+iDxD8Z1r+R1462P+/WmCS7bdE/Y9jjeYn4cr8kIvfSIobEP14XoxXg4qq/GOMZE6tugb+kca0Q4g/mv2RxnbXALrQ/nNT43hvfwD8eJkyETyK1P7q1FMAY2dE/KGGdhIBG0D8wJ0a3JVeyP9wV667Q45E/fi/9Tz5Rxj/ghLWSyEnMv5DkKf7jX7E/6MU9ABB6gr+jjjED/W65P9wdmVgZzJA/jKJHE5pEuD+WrNTr3evEv7LLr9OsFLw/fT32Ez+vdz9ZhDtL7r7Ev9sasPLfH6Y/x7FZI5+zuL9XGc2BYje/Px75sQFFJ7A/hQZBa8bMor//EFrgysmyv+q7n4/AQZw/TpOaoVcUvj/SXyjXVebAP/ikX35ia8M/cmA0MT9Mtj9kcqyHV0bDP28O6Fq2gsI/haLfZDp5qL9dXy/U1UioPxmijwDQEdG/DnIR7Pkvsz+8zt9v8FugP1yBNe1DksC/treuMG3q0z/2gieFA2e9Pw0fkYvOmNO/7IX/RS/AwD/FLYZF9tS7PxpDpPApiqy/7WkXc/EUuT9s6hXTwOLBP/B+D9lx6rE/d6p2KaC/uD95Gxy2vJjLPyC9OZv2Lbc/dGLG+spNir/jFKLmv/OsP6VTbeQOvpW/LEooAjtsuz+OJWRWBHigP99eEv03QLs/1rlRjoz7sT+2OqUGSWHNv/86wnAzlqk/+1ev+z09mL9uOxMqFYVgPzOxU+d71+m/EFZXuLo1oz+yL40FJ+6Jv1+FKkCeX7Y/YuZzkpn1uj/h2ZyHOziMP+nmHcyTB88/+Dgomh5puj9MDLs0AeWYv4HcGze2y4U/0mo4sIQQzT9DqW353YCYP+YOaZPZss4/stnL2jyspD/CEpOICYuzv6VDWU7OLqU/RnxIdU/+pD/AfdXqDNCRv9woBBfiHr6/CmLM1Ovkx7+IqdcfmE+dP+21TB3Akq4/UPCHz7HBgb9BOAZWKnqwPw+UbWfQe7A/+Hvdm6EAhT/2JsDqB3G3P1dg6VoVs8E/yLjAwjOkkr/iI1l5zSPHPzcduHjJC60/SW4hjovJi7+3SaKZgqncv9KAmeI1DNy/h+/QRpaOtT8DRMi9cSXBv5Tb0Z1PirE/8ZR0wlmUwT98rZsCaOCRv2yRGbf/Ibw/K7g1iWUivb/ptWf5baLFvyD121IDz7I/Mlb/cxPxzz+wzvWFTOtqv/nXbpfkB8M/p1AtsAxdxr8k3zL0oUW/v2kqH1TqHsG/9xFG21RlnD+lnOMm8zmgP1eU2IlwBdC/ykjzYYQ9wj9v0qYA3xjtvzAudSV5gsE/lTvI7fzVtT9sFtl5Q3nLP6L7SXoeDsC/\",\"dtype\":\"float64\",\"order\":\"little\",\"shape\":[141]}},\"selected\":{\"id\":\"2110\"},\"selection_policy\":{\"id\":\"2109\"}},\"id\":\"2023\",\"type\":\"ColumnDataSource\"},{\"attributes\":{},\"id\":\"2005\",\"type\":\"LinearScale\"},{\"attributes\":{},\"id\":\"2104\",\"type\":\"BasicTickFormatter\"},{\"attributes\":{\"source\":{\"id\":\"2023\"}},\"id\":\"2029\",\"type\":\"CDSView\"},{\"attributes\":{},\"id\":\"2001\",\"type\":\"DataRange1d\"},{\"attributes\":{\"fill_alpha\":{\"value\":0.1},\"fill_color\":{\"field\":\"color\"},\"hatch_alpha\":{\"value\":0.1},\"hatch_color\":{\"field\":\"color\"},\"line_alpha\":{\"value\":0.1},\"line_color\":{\"field\":\"color\"},\"size\":{\"value\":15},\"x\":{\"field\":\"weighted_diff_mean_in_out\"},\"y\":{\"field\":\"weighted_diff_unfinished\"}},\"id\":\"2026\",\"type\":\"Circle\"},{\"attributes\":{},\"id\":\"2107\",\"type\":\"BasicTickFormatter\"},{\"attributes\":{\"tools\":[{\"id\":\"1993\"},{\"id\":\"1994\"},{\"id\":\"1995\"},{\"id\":\"1996\"},{\"id\":\"1997\"}]},\"id\":\"2017\",\"type\":\"Toolbar\"},{\"attributes\":{},\"id\":\"2110\",\"type\":\"Selection\"},{\"attributes\":{\"fill_alpha\":{\"value\":0.5},\"fill_color\":{\"field\":\"color\"},\"hatch_alpha\":{\"value\":0.5},\"hatch_color\":{\"field\":\"color\"},\"line_alpha\":{\"value\":0.5},\"line_color\":{\"field\":\"color\"},\"size\":{\"value\":15},\"x\":{\"field\":\"weighted_diff_mean_in_out\"},\"y\":{\"field\":\"weighted_diff_unfinished\"}},\"id\":\"2025\",\"type\":\"Circle\"},{\"attributes\":{\"callback\":null,\"tooltips\":[[\"Name\",\"@splitted_cat\"]]},\"id\":\"1993\",\"type\":\"HoverTool\"},{\"attributes\":{},\"id\":\"2010\",\"type\":\"BasicTicker\"},{\"attributes\":{},\"id\":\"1994\",\"type\":\"ResetTool\"},{\"attributes\":{},\"id\":\"2109\",\"type\":\"UnionRenderers\"},{\"attributes\":{},\"id\":\"2105\",\"type\":\"AllLabels\"},{\"attributes\":{},\"id\":\"2003\",\"type\":\"DataRange1d\"},{\"attributes\":{\"axis_label\":\"Weighted difference of number of time node used in finished and unfinished paths\",\"coordinates\":null,\"formatter\":{\"id\":\"2107\"},\"group\":null,\"major_label_policy\":{\"id\":\"2108\"},\"ticker\":{\"id\":\"2010\"}},\"id\":\"2009\",\"type\":\"LinearAxis\"},{\"attributes\":{},\"id\":\"1996\",\"type\":\"WheelZoomTool\"},{\"attributes\":{\"axis\":{\"id\":\"2013\"},\"coordinates\":null,\"dimension\":1,\"group\":null,\"ticker\":null},\"id\":\"2016\",\"type\":\"Grid\"},{\"attributes\":{\"fill_alpha\":{\"value\":0.2},\"fill_color\":{\"field\":\"color\"},\"hatch_alpha\":{\"value\":0.2},\"hatch_color\":{\"field\":\"color\"},\"line_alpha\":{\"value\":0.2},\"line_color\":{\"field\":\"color\"},\"size\":{\"value\":15},\"x\":{\"field\":\"weighted_diff_mean_in_out\"},\"y\":{\"field\":\"weighted_diff_unfinished\"}},\"id\":\"2027\",\"type\":\"Circle\"},{\"attributes\":{},\"id\":\"1995\",\"type\":\"PanTool\"},{\"attributes\":{\"axis\":{\"id\":\"2009\"},\"coordinates\":null,\"group\":null,\"ticker\":null},\"id\":\"2012\",\"type\":\"Grid\"},{\"attributes\":{},\"id\":\"2108\",\"type\":\"AllLabels\"},{\"attributes\":{},\"id\":\"2014\",\"type\":\"BasicTicker\"},{\"attributes\":{},\"id\":\"2007\",\"type\":\"LinearScale\"},{\"attributes\":{\"coordinates\":null,\"group\":null,\"text\":\"Comparing nodes used in un-finished paths and their difference of in and out degree\",\"text_color\":\"black\",\"text_font_size\":\"15px\"},\"id\":\"1999\",\"type\":\"Title\"},{\"attributes\":{\"axis_label\":\"Weighted difference of in and out degree for unfinished paths\",\"coordinates\":null,\"formatter\":{\"id\":\"2104\"},\"group\":null,\"major_label_policy\":{\"id\":\"2105\"},\"ticker\":{\"id\":\"2014\"}},\"id\":\"2013\",\"type\":\"LinearAxis\"}],\"root_ids\":[\"1998\"]},\"title\":\"Bokeh Application\",\"version\":\"2.4.1\"}};\n",
       "  const render_items = [{\"docid\":\"fee4974f-f5fc-42b3-a3e0-1f1f8064130e\",\"notebook_comms_target\":\"2111\",\"root_ids\":[\"1998\"],\"roots\":{\"1998\":\"5309c85c-18fa-4fd6-a753-a5de4fcf0d06\"}}];\n",
       "  root.Bokeh.embed.embed_items_notebook(docs_json, render_items);\n",
       "\n",
       "  }\n",
       "  if (root.Bokeh !== undefined) {\n",
       "    embed_document(root);\n",
       "  } else {\n",
       "    let attempts = 0;\n",
       "    const timer = setInterval(function(root) {\n",
       "      if (root.Bokeh !== undefined) {\n",
       "        clearInterval(timer);\n",
       "        embed_document(root);\n",
       "      } else {\n",
       "        attempts++;\n",
       "        if (attempts > 100) {\n",
       "          clearInterval(timer);\n",
       "          console.log(\"Bokeh: ERROR: Unable to run BokehJS code because BokehJS library is missing\");\n",
       "        }\n",
       "      }\n",
       "    }, 10, root)\n",
       "  }\n",
       "})(window);"
      ],
      "application/vnd.bokehjs_exec.v0+json": ""
     },
     "metadata": {
      "application/vnd.bokehjs_exec.v0+json": {
       "id": "1998"
      }
     },
     "output_type": "display_data"
    },
    {
     "data": {
      "text/html": [
       "<p><code>&lt;Bokeh Notebook handle for <strong>In[280]</strong>&gt;</code></p>"
      ],
      "text/plain": [
       "<bokeh.io.notebook.CommsHandle at 0x2813387e6a0>"
      ]
     },
     "execution_count": 280,
     "metadata": {},
     "output_type": "execute_result"
    }
   ],
   "source": [
    "data = categories_all[['weighted_diff_unfinished', 'weighted_diff_mean_in_out']].reset_index()\n",
    "data['color'] = data.apply(lambda x : get_color(x), axis = 1)\n",
    "hover = HoverTool(\n",
    "    tooltips=[\n",
    "        (\"Name\", \"@splitted_cat\"),\n",
    "    ])\n",
    "tools = [hover, ResetTool(), PanTool(), WheelZoomTool(), SaveTool()]\n",
    "\n",
    "p = figure(plot_width=760, plot_height=360, tools=tools, title=\"Comparing nodes used in un-finished paths and their difference of in and out degree\")\n",
    "p.title.text_color = \"black\"\n",
    "p.title.text_font_size = \"15px\"\n",
    "p.yaxis.axis_label = 'Weighted difference of in and out degree for unfinished paths'\n",
    "p.xaxis.axis_label = 'Weighted difference of number of time node used in finished and unfinished paths'\n",
    "\n",
    "p.circle('weighted_diff_mean_in_out', 'weighted_diff_unfinished', color = 'color', source=data, size=15, alpha=0.5)\n",
    "\n",
    "show(p, notebook_handle=True)"
   ]
  }
 ],
 "metadata": {
  "kernelspec": {
   "display_name": "Python 3 (ipykernel)",
   "language": "python",
   "name": "python3"
  },
  "language_info": {
   "codemirror_mode": {
    "name": "ipython",
    "version": 3
   },
   "file_extension": ".py",
   "mimetype": "text/x-python",
   "name": "python",
   "nbconvert_exporter": "python",
   "pygments_lexer": "ipython3",
   "version": "3.9.7"
  }
 },
 "nbformat": 4,
 "nbformat_minor": 5
}
