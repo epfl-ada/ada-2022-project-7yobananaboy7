{
 "cells": [
  {
   "cell_type": "code",
   "execution_count": 51,
   "id": "1a49e19a-2e4c-4251-90c4-d4398cee9673",
   "metadata": {},
   "outputs": [],
   "source": [
    "#Import libraries\n",
    "import pandas as pd\n",
    "import numpy as np\n",
    "import matplotlib.pyplot as plt\n",
    "import seaborn as sns\n",
    "import networkx as nx\n",
    "import re\n",
    "import seaborn as sns\n",
    "\n",
    "import urllib\n",
    "\n",
    "from scipy import stats"
   ]
  },
  {
   "cell_type": "markdown",
   "id": "bffd4e13-4805-409c-8217-eb86d7204565",
   "metadata": {},
   "source": [
    "</div>\n",
    "<div class=\"1. Header\" style='background-color:#08135c; border-left: solid #darkblue 4px; border-radius: 4px; padding:0.7em;'>\n",
    "    <span style=\"color:white;\">\n",
    "       <h2>1. Data</h2>\n",
    "        <h4>In this first section we import and rearrange the data.</h4>\n",
    "    </span>\n",
    "</div>\n",
    "</div>"
   ]
  },
  {
   "cell_type": "markdown",
   "id": "3ed0ffce-f29e-41a5-830b-766d7b9caa2e",
   "metadata": {},
   "source": [
    "</div>\n",
    "<div class=\"1.1 Header\" style='background-color:#08135c; border-left: solid #darkblue 4px; border-radius: 4px; padding:0.7em;'>\n",
    "    <span style=\"color:white\">\n",
    "       <h3>1.1 Data acquisition</h3>\n",
    "    </span>\n",
    "</div>\n",
    "</div>\n",
    "<div class=\"1.1 explanation\" style='background-color:#faefe1; border-left: solid #darkblue 4px; border-radius: 4px; padding:0.7em;'>\n",
    "    <span style=\"color:black\">\n",
    "        Here we load the relevant data using the <span style=\"font-family: monospace; background-color:#fadfb9; padding-left:4px; padding-right:4px; border-radius: 5px;\">pd.read_csv()</span> method. The data we are dealing with follows a relational model. The specific navigation paths can be represented as graphs where the nodes concern the wikipedia pages that are connected through (directional) edges representing the hyperlinks.\n",
    "    </span>\n",
    "</div>"
   ]
  },
  {
   "cell_type": "code",
   "execution_count": 2,
   "id": "13f00c41-b131-4742-b5bf-9fbe0a8b7778",
   "metadata": {},
   "outputs": [],
   "source": [
    "#Import relevant DataFrames\n",
    "\n",
    "#Articles data\n",
    "articles = pd.read_csv(\"data/articles.tsv\", skiprows=11, names=[\"article\"])\n",
    "articles['article'] = articles['article'].apply(urllib.parse.unquote) #Parsing URL encoding\n",
    "\n",
    "#Category data\n",
    "categories = pd.read_csv(\"data/categories.tsv\", sep=\"\\t\", skiprows=12, names=[\"article\", \"category\"])\n",
    "categories[\"article\"] = categories[\"article\"].apply(urllib.parse.unquote) #Parsing URL encoding\n",
    "\n",
    "#Links data\n",
    "links = pd.read_csv(\"data/links.tsv\", sep=\"\\t\", skiprows=11, names=[\"article\", \"link\"])\n",
    "links[\"article\"] = links[\"article\"].apply(urllib.parse.unquote) #Parsing URL encoding\n",
    "links[\"link\"] = links[\"link\"].apply(urllib.parse.unquote) #Parsing URL encoding\n",
    "\n",
    "#Finished paths\n",
    "paths_finished = pd.read_csv(\"data/paths_finished.tsv\", sep=\"\\t\", skiprows=15, names=[\"hashedIpAddress\",\n",
    "                                                                                      \"timestamp\",\n",
    "                                                                                      \"durationInSec\",\n",
    "                                                                                      \"path\",\n",
    "                                                                                      \"rating\"])\n",
    "paths_finished[\"path\"] = paths_finished[\"path\"].apply(urllib.parse.unquote) #Parsing URL encoding\n",
    "\n",
    "#Unfinished paths\n",
    "paths_unfinished = pd.read_csv(\"data/paths_unfinished.tsv\", sep=\"\\t\", skiprows=16, names=[\"hashedIpAddress\",\n",
    "                                                                                          \"timestamp\",\n",
    "                                                                                          \"durationInSec\",\n",
    "                                                                                          \"path\",\n",
    "                                                                                          \"target\",\n",
    "                                                                                          \"type\"])\n",
    "paths_unfinished[\"path\"] = paths_unfinished[\"path\"].apply(urllib.parse.unquote) #Parsing URL encoding\n",
    "paths_unfinished[\"target\"] = paths_unfinished[\"target\"].apply(urllib.parse.unquote) #Parsing URL encoding\n",
    "\n",
    "# Add the length of the paths\n",
    "paths_unfinished['pathLength'] = paths_unfinished['path'].apply(lambda x : len(str(x).split(';')))\n",
    "paths_finished['pathLength'] = paths_finished['path'].apply(lambda x : len(str(x).split(';')))\n",
    "\n",
    "#shortest path matrix\n",
    "with open('data/shortest-path-distance-matrix.txt', 'r') as file:\n",
    "    \n",
    "    #Initialize shortest_path_distance list\n",
    "    shortest_path_distance = []\n",
    "    \n",
    "    for line in file:\n",
    "        \n",
    "        #Check if the first character of the line is either a digit or underscore\n",
    "        if re.search(\"([0-9]|_)\", line[0]): \n",
    "            \n",
    "            #Append list to shortest_path_distance\n",
    "            shortest_path_distance.append([np.nan if x=='_' else int(x) for x in line.strip()])\n",
    "    \n",
    "#Convert to numpy ndarray\n",
    "shortest_path_distance = np.array(shortest_path_distance) "
   ]
  },
  {
   "cell_type": "markdown",
   "id": "5d54a371-9291-4dce-a683-3204fa9138c7",
   "metadata": {},
   "source": [
    "</div>\n",
    "<div class=\"1.2 Header\" style='background-color:#08135c; border-left: solid #darkblue 4px; border-radius: 4px; padding:0.7em;'>\n",
    "    <span style=\"color:white\">\n",
    "       <h3>1.2 Data concatenation</h3>\n",
    "    </span>\n",
    "</div>\n",
    "</div>\n",
    "<div class=\"1.1 explanation\" style='background-color:#faefe1; border-left: solid #darkblue 4px; border-radius: 4px; padding:0.7em;'>\n",
    "    <span style=\"color:black\">\n",
    "        We want to merge both the <span style=\"font-family: monospace; background-color:#fadfb9; padding-left:4px; padding-right:4px; border-radius: 5px;\">paths_finished</span> and <span style=\"font-family: monospace; background-color:#fadfb9; padding-left:4px; padding-right:4px; border-radius: 5px;\">paths_unfinished</span> DataFrame. This make the analysis more convenient when comparing both types. More specifically we add the <span style=\"font-family: monospace; background-color:#fadfb9; padding-left:4px; padding-right:4px; border-radius: 5px;\">target</span> column to and drop the <span style=\"font-family: monospace; background-color:#fadfb9; padding-left:4px; padding-right:4px; border-radius: 5px;\">rating </span> column of <span style=\"font-family: monospace; background-color:#fadfb9; padding-left:4px; padding-right:4px; border-radius: 5px;\">paths_finished</span>. We can then concatenate the respective DataFrames together. \n",
    "</div>"
   ]
  },
  {
   "cell_type": "code",
   "execution_count": 3,
   "id": "df692e55-731c-46cf-89af-973904d9fdf9",
   "metadata": {},
   "outputs": [
    {
     "data": {
      "text/html": [
       "<div>\n",
       "<style scoped>\n",
       "    .dataframe tbody tr th:only-of-type {\n",
       "        vertical-align: middle;\n",
       "    }\n",
       "\n",
       "    .dataframe tbody tr th {\n",
       "        vertical-align: top;\n",
       "    }\n",
       "\n",
       "    .dataframe thead th {\n",
       "        text-align: right;\n",
       "    }\n",
       "</style>\n",
       "<table border=\"1\" class=\"dataframe\">\n",
       "  <thead>\n",
       "    <tr style=\"text-align: right;\">\n",
       "      <th></th>\n",
       "      <th>hashedIpAddress</th>\n",
       "      <th>timestamp</th>\n",
       "      <th>durationInSec</th>\n",
       "      <th>path</th>\n",
       "      <th>pathLength</th>\n",
       "      <th>target</th>\n",
       "      <th>type</th>\n",
       "    </tr>\n",
       "  </thead>\n",
       "  <tbody>\n",
       "    <tr>\n",
       "      <th>0</th>\n",
       "      <td>6a3701d319fc3754</td>\n",
       "      <td>1297740409</td>\n",
       "      <td>166</td>\n",
       "      <td>14th_century;15th_century;16th_century;Pacific...</td>\n",
       "      <td>9</td>\n",
       "      <td>African_slave_trade</td>\n",
       "      <td>finished</td>\n",
       "    </tr>\n",
       "    <tr>\n",
       "      <th>1</th>\n",
       "      <td>3824310e536af032</td>\n",
       "      <td>1344753412</td>\n",
       "      <td>88</td>\n",
       "      <td>14th_century;Europe;Africa;Atlantic_slave_trad...</td>\n",
       "      <td>5</td>\n",
       "      <td>African_slave_trade</td>\n",
       "      <td>finished</td>\n",
       "    </tr>\n",
       "    <tr>\n",
       "      <th>2</th>\n",
       "      <td>415612e93584d30e</td>\n",
       "      <td>1349298640</td>\n",
       "      <td>138</td>\n",
       "      <td>14th_century;Niger;Nigeria;British_Empire;Slav...</td>\n",
       "      <td>8</td>\n",
       "      <td>African_slave_trade</td>\n",
       "      <td>finished</td>\n",
       "    </tr>\n",
       "    <tr>\n",
       "      <th>3</th>\n",
       "      <td>64dd5cd342e3780c</td>\n",
       "      <td>1265613925</td>\n",
       "      <td>37</td>\n",
       "      <td>14th_century;Renaissance;Ancient_Greece;Greece</td>\n",
       "      <td>4</td>\n",
       "      <td>Greece</td>\n",
       "      <td>finished</td>\n",
       "    </tr>\n",
       "  </tbody>\n",
       "</table>\n",
       "</div>"
      ],
      "text/plain": [
       "    hashedIpAddress   timestamp  durationInSec  \\\n",
       "0  6a3701d319fc3754  1297740409            166   \n",
       "1  3824310e536af032  1344753412             88   \n",
       "2  415612e93584d30e  1349298640            138   \n",
       "3  64dd5cd342e3780c  1265613925             37   \n",
       "\n",
       "                                                path  pathLength  \\\n",
       "0  14th_century;15th_century;16th_century;Pacific...           9   \n",
       "1  14th_century;Europe;Africa;Atlantic_slave_trad...           5   \n",
       "2  14th_century;Niger;Nigeria;British_Empire;Slav...           8   \n",
       "3     14th_century;Renaissance;Ancient_Greece;Greece           4   \n",
       "\n",
       "                target      type  \n",
       "0  African_slave_trade  finished  \n",
       "1  African_slave_trade  finished  \n",
       "2  African_slave_trade  finished  \n",
       "3               Greece  finished  "
      ]
     },
     "execution_count": 3,
     "metadata": {},
     "output_type": "execute_result"
    }
   ],
   "source": [
    "#Merge all the paths \n",
    "paths_finished['target'] = paths_finished['path'].apply(lambda x : str(x).split(';')[-1])\n",
    "\n",
    "#Add and remove (ir)relevant colums.\n",
    "paths_finished_ = paths_finished.copy()\n",
    "paths_unfinished_ = paths_unfinished.copy()\n",
    "paths_finished_['type'] = 'finished'\n",
    "paths_finished_ = paths_finished_.drop('rating',axis =1)\n",
    "\n",
    "#concatenate data\n",
    "paths_all = pd.concat([paths_finished_, paths_unfinished_]) \n",
    "\n",
    "#print head of resulting DataFrame\n",
    "paths_all.head(4)"
   ]
  },
  {
   "cell_type": "markdown",
   "id": "24e96088-fb1f-4df0-8df3-45c13aaf7369",
   "metadata": {},
   "source": [
    "</div>\n",
    "<div class=\"4. Header\" style='background-color:#08135c; border-left: solid #darkblue 4px; border-radius: 4px; padding:0.7em;'>\n",
    "    <span style=\"color:white;\">\n",
    "       <h2>1. Between game analysis</h2>\n",
    "        <h4>Here we will focus on the level of an individual player and the history of the different Wikispeedia games (i.e. between game) that have been played by that person consecutively.</h4>\n",
    "    </span>\n",
    "</div>\n",
    "</div>"
   ]
  },
  {
   "cell_type": "markdown",
   "id": "d53605e6-401c-4fb3-bdc7-aa0dc5dcfb51",
   "metadata": {},
   "source": [
    "</div>\n",
    "<div class=\"1.1 explanation\" style='background-color:#08135c; border-left: solid #darkblue 4px; border-radius: 4px; padding:0.7em;'>\n",
    "    <span style=\"color:white\">\n",
    "       <h3>1.1 Game distribution per player</h3>\n",
    "    </span>\n",
    "</div>\n",
    "</div>\n",
    "<div class=\"1.1 explanation\" style='background-color:#faefe1; border-left: solid #darkblue 4px; border-radius: 4px; padding:0.7em;'>\n",
    "    <span style=\"color:black\">\n",
    "        We can globally categorize the <span style=\"font-family: monospace; background-color:#fadfb9; padding-left:4px; padding-right:4px; border-radius: 5px;\">between_game</span> game history (chronologically) in 3 groups:\n",
    "        <ul>\n",
    "            <li> <code class='python'>finished</code>: The player's last game was a <code class='python'>finished</code> path (e.g. <code class='python'>[timeout, restart, finished]</code>)</li>\n",
    "            <li> <code class='python'>timeout</code>: The player's last game was a <code class='python'>finished</code> timeout (e.g. <code class='python'>[timeout, restart, timeout]</code>)</li>\n",
    "            <li> <code class='python'>restart</code>: The player's last game was a <code class='python'>finished</code> restart (e.g. <code class='python'>[timeout, restart, restart]</code>)</li>\n",
    "        </ul>\n",
    "        Per category, we want to find and display the distribution for the number of succesfully <code class='python'>finished</code> games. Firsts we need to extract the  <span style=\"font-family: monospace; background-color:#fadfb9; padding-left:4px; padding-right:4px; border-radius: 5px;\">between_game</span> history per player. From that, we can extract the <span style=\"font-family: monospace; background-color:#fadfb9; padding-left:4px; padding-right:4px; border-radius: 5px;\">last_game</span> and <span style=\"font-family: monospace; background-color:#fadfb9; padding-left:4px; padding-right:4px; border-radius: 5px;\">nb_finished_games</span> columns. Here we assume that the <span style=\"font-family: monospace; background-color:#fadfb9; padding-left:4px; padding-right:4px; border-radius: 5px;\">hashedIpAddress</span> refers the a single unique player.\n",
    "    </span>\n",
    "</div>\n"
   ]
  },
  {
   "cell_type": "code",
   "execution_count": 4,
   "id": "8a0114e3-2d4a-4698-acc3-d38246a4b24a",
   "metadata": {},
   "outputs": [
    {
     "data": {
      "text/html": [
       "<div>\n",
       "<style scoped>\n",
       "    .dataframe tbody tr th:only-of-type {\n",
       "        vertical-align: middle;\n",
       "    }\n",
       "\n",
       "    .dataframe tbody tr th {\n",
       "        vertical-align: top;\n",
       "    }\n",
       "\n",
       "    .dataframe thead th {\n",
       "        text-align: right;\n",
       "    }\n",
       "</style>\n",
       "<table border=\"1\" class=\"dataframe\">\n",
       "  <thead>\n",
       "    <tr style=\"text-align: right;\">\n",
       "      <th></th>\n",
       "      <th>between_game</th>\n",
       "    </tr>\n",
       "    <tr>\n",
       "      <th>hashedIpAddress</th>\n",
       "      <th></th>\n",
       "    </tr>\n",
       "  </thead>\n",
       "  <tbody>\n",
       "    <tr>\n",
       "      <th>000386124f307de8</th>\n",
       "      <td>[finished, timeout]</td>\n",
       "    </tr>\n",
       "    <tr>\n",
       "      <th>0007183207b6008f</th>\n",
       "      <td>[finished, finished, finished]</td>\n",
       "    </tr>\n",
       "    <tr>\n",
       "      <th>000a09e202e88d10</th>\n",
       "      <td>[finished]</td>\n",
       "    </tr>\n",
       "    <tr>\n",
       "      <th>000a5bac5b7781ea</th>\n",
       "      <td>[finished]</td>\n",
       "    </tr>\n",
       "  </tbody>\n",
       "</table>\n",
       "</div>"
      ],
      "text/plain": [
       "                                    between_game\n",
       "hashedIpAddress                                 \n",
       "000386124f307de8             [finished, timeout]\n",
       "0007183207b6008f  [finished, finished, finished]\n",
       "000a09e202e88d10                      [finished]\n",
       "000a5bac5b7781ea                      [finished]"
      ]
     },
     "execution_count": 4,
     "metadata": {},
     "output_type": "execute_result"
    }
   ],
   "source": [
    "#Create DataFrame with chronological (between_game) history of games player\n",
    "players_record = pd.DataFrame(paths_all.sort_values('timestamp').groupby('hashedIpAddress')['type'].apply(list))\n",
    "players_record = players_record.rename(columns={'type': 'between_game'})\n",
    "\n",
    "#Display snipped of result\n",
    "players_record.head(4)"
   ]
  },
  {
   "cell_type": "code",
   "execution_count": 5,
   "id": "531856a1-9db4-4eb1-80dc-20372a36ee76",
   "metadata": {},
   "outputs": [
    {
     "data": {
      "text/html": [
       "<div>\n",
       "<style scoped>\n",
       "    .dataframe tbody tr th:only-of-type {\n",
       "        vertical-align: middle;\n",
       "    }\n",
       "\n",
       "    .dataframe tbody tr th {\n",
       "        vertical-align: top;\n",
       "    }\n",
       "\n",
       "    .dataframe thead th {\n",
       "        text-align: right;\n",
       "    }\n",
       "</style>\n",
       "<table border=\"1\" class=\"dataframe\">\n",
       "  <thead>\n",
       "    <tr style=\"text-align: right;\">\n",
       "      <th></th>\n",
       "      <th>between_game</th>\n",
       "      <th>last_game</th>\n",
       "      <th>nb_finished_games</th>\n",
       "      <th>nb_restart_games</th>\n",
       "      <th>nb_timeout_games</th>\n",
       "      <th>nb_total_games</th>\n",
       "    </tr>\n",
       "    <tr>\n",
       "      <th>hashedIpAddress</th>\n",
       "      <th></th>\n",
       "      <th></th>\n",
       "      <th></th>\n",
       "      <th></th>\n",
       "      <th></th>\n",
       "      <th></th>\n",
       "    </tr>\n",
       "  </thead>\n",
       "  <tbody>\n",
       "    <tr>\n",
       "      <th>000386124f307de8</th>\n",
       "      <td>[finished, timeout]</td>\n",
       "      <td>timeout</td>\n",
       "      <td>1</td>\n",
       "      <td>0</td>\n",
       "      <td>1</td>\n",
       "      <td>2</td>\n",
       "    </tr>\n",
       "    <tr>\n",
       "      <th>0007183207b6008f</th>\n",
       "      <td>[finished, finished, finished]</td>\n",
       "      <td>finished</td>\n",
       "      <td>3</td>\n",
       "      <td>0</td>\n",
       "      <td>0</td>\n",
       "      <td>3</td>\n",
       "    </tr>\n",
       "    <tr>\n",
       "      <th>000a09e202e88d10</th>\n",
       "      <td>[finished]</td>\n",
       "      <td>finished</td>\n",
       "      <td>1</td>\n",
       "      <td>0</td>\n",
       "      <td>0</td>\n",
       "      <td>1</td>\n",
       "    </tr>\n",
       "    <tr>\n",
       "      <th>000a5bac5b7781ea</th>\n",
       "      <td>[finished]</td>\n",
       "      <td>finished</td>\n",
       "      <td>1</td>\n",
       "      <td>0</td>\n",
       "      <td>0</td>\n",
       "      <td>1</td>\n",
       "    </tr>\n",
       "    <tr>\n",
       "      <th>000a6e585b776c96</th>\n",
       "      <td>[timeout]</td>\n",
       "      <td>timeout</td>\n",
       "      <td>0</td>\n",
       "      <td>0</td>\n",
       "      <td>1</td>\n",
       "      <td>1</td>\n",
       "    </tr>\n",
       "    <tr>\n",
       "      <th>000bc9fe5640ed31</th>\n",
       "      <td>[finished, finished]</td>\n",
       "      <td>finished</td>\n",
       "      <td>2</td>\n",
       "      <td>0</td>\n",
       "      <td>0</td>\n",
       "      <td>2</td>\n",
       "    </tr>\n",
       "    <tr>\n",
       "      <th>000d397013f09039</th>\n",
       "      <td>[finished, finished]</td>\n",
       "      <td>finished</td>\n",
       "      <td>2</td>\n",
       "      <td>0</td>\n",
       "      <td>0</td>\n",
       "      <td>2</td>\n",
       "    </tr>\n",
       "    <tr>\n",
       "      <th>000e5d4c2c8e921f</th>\n",
       "      <td>[finished, restart, restart, timeout]</td>\n",
       "      <td>timeout</td>\n",
       "      <td>1</td>\n",
       "      <td>2</td>\n",
       "      <td>1</td>\n",
       "      <td>4</td>\n",
       "    </tr>\n",
       "    <tr>\n",
       "      <th>000e954305ddb434</th>\n",
       "      <td>[finished]</td>\n",
       "      <td>finished</td>\n",
       "      <td>1</td>\n",
       "      <td>0</td>\n",
       "      <td>0</td>\n",
       "      <td>1</td>\n",
       "    </tr>\n",
       "    <tr>\n",
       "      <th>0011acb93ed0090b</th>\n",
       "      <td>[restart, timeout]</td>\n",
       "      <td>timeout</td>\n",
       "      <td>0</td>\n",
       "      <td>1</td>\n",
       "      <td>1</td>\n",
       "      <td>2</td>\n",
       "    </tr>\n",
       "  </tbody>\n",
       "</table>\n",
       "</div>"
      ],
      "text/plain": [
       "                                           between_game last_game  \\\n",
       "hashedIpAddress                                                     \n",
       "000386124f307de8                    [finished, timeout]   timeout   \n",
       "0007183207b6008f         [finished, finished, finished]  finished   \n",
       "000a09e202e88d10                             [finished]  finished   \n",
       "000a5bac5b7781ea                             [finished]  finished   \n",
       "000a6e585b776c96                              [timeout]   timeout   \n",
       "000bc9fe5640ed31                   [finished, finished]  finished   \n",
       "000d397013f09039                   [finished, finished]  finished   \n",
       "000e5d4c2c8e921f  [finished, restart, restart, timeout]   timeout   \n",
       "000e954305ddb434                             [finished]  finished   \n",
       "0011acb93ed0090b                     [restart, timeout]   timeout   \n",
       "\n",
       "                  nb_finished_games  nb_restart_games  nb_timeout_games  \\\n",
       "hashedIpAddress                                                           \n",
       "000386124f307de8                  1                 0                 1   \n",
       "0007183207b6008f                  3                 0                 0   \n",
       "000a09e202e88d10                  1                 0                 0   \n",
       "000a5bac5b7781ea                  1                 0                 0   \n",
       "000a6e585b776c96                  0                 0                 1   \n",
       "000bc9fe5640ed31                  2                 0                 0   \n",
       "000d397013f09039                  2                 0                 0   \n",
       "000e5d4c2c8e921f                  1                 2                 1   \n",
       "000e954305ddb434                  1                 0                 0   \n",
       "0011acb93ed0090b                  0                 1                 1   \n",
       "\n",
       "                  nb_total_games  \n",
       "hashedIpAddress                   \n",
       "000386124f307de8               2  \n",
       "0007183207b6008f               3  \n",
       "000a09e202e88d10               1  \n",
       "000a5bac5b7781ea               1  \n",
       "000a6e585b776c96               1  \n",
       "000bc9fe5640ed31               2  \n",
       "000d397013f09039               2  \n",
       "000e5d4c2c8e921f               4  \n",
       "000e954305ddb434               1  \n",
       "0011acb93ed0090b               2  "
      ]
     },
     "execution_count": 5,
     "metadata": {},
     "output_type": "execute_result"
    }
   ],
   "source": [
    "#Now extract last_game column\n",
    "players_record['last_game'] = players_record['between_game'].apply(lambda l : l[-1])\n",
    "\n",
    "#Now extract nb_finished_games, nb_restart_games and nb_timeout_games and nb_total_games column\n",
    "players_record['nb_finished_games'] = players_record['between_game'].apply(lambda x: x.count('finished'))\n",
    "players_record['nb_restart_games'] = players_record['between_game'].apply(lambda x: x.count('restart'))\n",
    "players_record['nb_timeout_games'] = players_record['between_game'].apply(lambda x: x.count('timeout'))\n",
    "players_record['nb_total_games'] = players_record['between_game'].apply(lambda x: len(x))\n",
    "\n",
    "#Display snipped of results\n",
    "players_record.head(10)"
   ]
  },
  {
   "cell_type": "markdown",
   "id": "625fa30c-5344-472e-b804-32389cec7966",
   "metadata": {},
   "source": [
    "<div class=\"1.1 explanation\" style='background-color:#faefe1; border-left: solid #darkblue 4px; border-radius: 4px; padding:0.7em;'>\n",
    "    <span style=\"color:black\">\n",
    "        Let's now compare the <span style=\"font-family: monospace; background-color:#fadfb9; padding-left:4px; padding-right:4px; border-radius: 5px;\">between_game</span> for the different players. We first want look at the following two extremes:\n",
    "        <ul>\n",
    "            <li> Players that <b>only</b> contain <code class='python'>finished</code> games in their <span style=\"font-family: monospace; background-color:#fadfb9; padding-left:4px; padding-right:4px; border-radius: 5px;\">between_game</span> history </li>\n",
    "            <li> Players that contain <b>no</b> <code class='python'>finished</code> games in their <span style=\"font-family: monospace; background-color:#fadfb9; padding-left:4px; padding-right:4px; border-radius: 5px;\">between_game</span> history at all</li>\n",
    "        </ul>\n",
    "    </span>\n",
    "</div>"
   ]
  },
  {
   "cell_type": "code",
   "execution_count": 144,
   "id": "426efe76-a301-460a-93df-918924c2ce01",
   "metadata": {},
   "outputs": [
    {
     "name": "stdout",
     "output_type": "stream",
     "text": [
      "Type                                        Number           Percentage\n",
      "Total number of unique players\t\t:   20867            100%\n",
      "Players with finished games only\t:   9382             45%\n",
      "Player with no finished games at all\t:   6623             32%\n",
      "Remaining players\t\t\t:   4862             23%\n"
     ]
    },
    {
     "data": {
      "image/png": "[encoded data removed]",
      "text/plain": [
       "<Figure size 640x480 with 1 Axes>"
      ]
     },
     "metadata": {},
     "output_type": "display_data"
    }
   ],
   "source": [
    "#Compute number of players in total\n",
    "nb_players = len(players_record)\n",
    "\n",
    "#Compute number of player that only contain finished games in their between_game history\n",
    "nb_finished_only = len(players_record[players_record['nb_finished_games'] == players_record['nb_total_games']])\n",
    "\n",
    "#Compute number of player contain no finished games in their between_game history at all\n",
    "nb_finished_none = len(players_record[players_record['nb_finished_games'] == 0])\n",
    "\n",
    "#Print results\n",
    "print('{} {:>45} {:>20}'.format('Type', 'Number', 'Percentage'))\n",
    "print('Total number of unique players\\t\\t: {:>7} {:>14.0f}%'.format(nb_players, nb_players/nb_players * 100))\n",
    "print('Players with finished games only\\t: {:>6} {:>14.0f}%'.format(nb_finished_only, nb_finished_only/nb_players * 100))\n",
    "print('Player with no finished games at all\\t: {:>6} {:>14.0f}%'.format(nb_finished_none, nb_finished_none/nb_players * 100))\n",
    "print('Remaining players\\t\\t\\t: {:>6} {:>14.0f}%'.format(nb_players-nb_finished_only-nb_finished_none, (nb_players-nb_finished_only-nb_finished_none)/nb_players * 100))\n",
    "\n",
    "#Display histogram for visualization\n",
    "fig, ax = plt.subplots()\n",
    "plt.title('Finished games distribution')\n",
    "ax.hist(players_record['nb_finished_games']/players_record['nb_total_games'], edgecolor=(1,1,1))\n",
    "ax.set_ylabel('Frequency')\n",
    "ax.set_xlabel('Proportion of finished games')\n",
    "ax.tick_params(bottom=False);\n",
    "ax.spines['right'].set_visible(False)\n",
    "ax.spines['top'].set_visible(False)"
   ]
  },
  {
   "cell_type": "markdown",
   "id": "40af7793-d8ad-49c4-aa39-fa0f6ffa2377",
   "metadata": {},
   "source": [
    "<div class=\"1.1 explanation\" style='background-color:#faefe1; border-left: solid #darkblue 4px; border-radius: 4px; padding:0.7em;'>\n",
    "    <span style=\"color:black\">\n",
    "        Hence we observe that a substantial <b>32%</b> of the total number of players do not have any finished game at all!!! This is a big loss! Imagine if this portion would also have had succesful attempts (i.e. <code class='python'>finished</code> games). Then there would have been much more data on <code class='python'>finished</code> games to do further analysis on. Hence, we would like to find out why they stopped playing in the first place. This can help in finding strategies to keep these players engaged to potentially generate more data on <code class='python'>finished</code> games. <br><br> Let's first dig deeper into the players with no <code class='python'>finished</code> games at all. We want to get a sense of what their <span style=\"font-family: monospace; background-color:#fadfb9; padding-left:4px; padding-right:4px; border-radius: 5px;\">between_game</span> history looks like.\n",
    "    </span>\n",
    "</div>"
   ]
  },
  {
   "cell_type": "markdown",
   "id": "9cfd4d54-9fee-4670-b0a4-823340865a70",
   "metadata": {},
   "source": [
    "</div>\n",
    "<div class=\"1.1 explanation\" style='background-color:#08135c; border-left: solid #darkblue 4px; border-radius: 4px; padding:0.7em;'>\n",
    "    <span style=\"color:white\">\n",
    "       <h3>1.2 Between game history of players with no <code class='python'>finished</code> games at all.</h3>\n",
    "    </span>\n",
    "</div>\n",
    "</div>\n",
    "<div class=\"1.1 explanation\" style='background-color:#faefe1; border-left: solid #darkblue 4px; border-radius: 4px; padding:0.7em;'>\n",
    "    <span style=\"color:black\">\n",
    "        In this we select the players with no <code class='python'>finished</code> games at all followed by analyzing their <span style=\"font-family: monospace; background-color:#fadfb9; padding-left:4px; padding-right:4px; border-radius: 5px;\">between_game</span> history.\n",
    "    </span>\n",
    "</div>\n"
   ]
  },
  {
   "cell_type": "code",
   "execution_count": 68,
   "id": "a848f416-88b2-41f5-bc40-f44037d2a4e6",
   "metadata": {},
   "outputs": [
    {
     "data": {
      "text/html": [
       "<div>\n",
       "<style scoped>\n",
       "    .dataframe tbody tr th:only-of-type {\n",
       "        vertical-align: middle;\n",
       "    }\n",
       "\n",
       "    .dataframe tbody tr th {\n",
       "        vertical-align: top;\n",
       "    }\n",
       "\n",
       "    .dataframe thead th {\n",
       "        text-align: right;\n",
       "    }\n",
       "</style>\n",
       "<table border=\"1\" class=\"dataframe\">\n",
       "  <thead>\n",
       "    <tr style=\"text-align: right;\">\n",
       "      <th></th>\n",
       "      <th>between_game</th>\n",
       "      <th>nb_total_games</th>\n",
       "    </tr>\n",
       "    <tr>\n",
       "      <th>hashedIpAddress</th>\n",
       "      <th></th>\n",
       "      <th></th>\n",
       "    </tr>\n",
       "  </thead>\n",
       "  <tbody>\n",
       "    <tr>\n",
       "      <th>000a6e585b776c96</th>\n",
       "      <td>[timeout]</td>\n",
       "      <td>1</td>\n",
       "    </tr>\n",
       "    <tr>\n",
       "      <th>0011acb93ed0090b</th>\n",
       "      <td>[restart, timeout]</td>\n",
       "      <td>2</td>\n",
       "    </tr>\n",
       "    <tr>\n",
       "      <th>001556137480170f</th>\n",
       "      <td>[timeout]</td>\n",
       "      <td>1</td>\n",
       "    </tr>\n",
       "    <tr>\n",
       "      <th>0015865e516d4932</th>\n",
       "      <td>[restart]</td>\n",
       "      <td>1</td>\n",
       "    </tr>\n",
       "    <tr>\n",
       "      <th>00210d6f590f218c</th>\n",
       "      <td>[timeout]</td>\n",
       "      <td>1</td>\n",
       "    </tr>\n",
       "  </tbody>\n",
       "</table>\n",
       "</div>"
      ],
      "text/plain": [
       "                        between_game  nb_total_games\n",
       "hashedIpAddress                                     \n",
       "000a6e585b776c96           [timeout]               1\n",
       "0011acb93ed0090b  [restart, timeout]               2\n",
       "001556137480170f           [timeout]               1\n",
       "0015865e516d4932           [restart]               1\n",
       "00210d6f590f218c           [timeout]               1"
      ]
     },
     "execution_count": 68,
     "metadata": {},
     "output_type": "execute_result"
    }
   ],
   "source": [
    "#Display snipped of players with no finished games at all\n",
    "players_record[players_record['nb_finished_games'] == 0][['between_game', 'nb_total_games']].head(5)"
   ]
  },
  {
   "cell_type": "markdown",
   "id": "a93ff6ea-7939-4076-95a8-13183b5b6eb5",
   "metadata": {},
   "source": [
    "<div class=\"1.1 explanation\" style='background-color:#faefe1; border-left: solid #darkblue 4px; border-radius: 4px; padding:0.7em;'>\n",
    "    <span style=\"color:black\">\n",
    "        We first want to visualize the number of attempt/games played by these players.\n",
    "    </span>\n",
    "</div>"
   ]
  },
  {
   "cell_type": "code",
   "execution_count": 151,
   "id": "39224f90-6820-4e3b-94f9-a8b2e2a8f851",
   "metadata": {},
   "outputs": [
    {
     "name": "stdout",
     "output_type": "stream",
     "text": [
      "#games     proportion\n",
      "1          0.7895\n",
      "2          0.1546\n",
      "3          0.0382\n",
      "4          0.0119\n",
      "5          0.0042\n",
      "6          0.0008\n",
      "7          0.0005\n",
      "8          0.0002\n",
      "10         0.0002\n"
     ]
    },
    {
     "data": {
      "image/png": "[encoded data removed]",
      "text/plain": [
       "<Figure size 1400x400 with 2 Axes>"
      ]
     },
     "metadata": {},
     "output_type": "display_data"
    }
   ],
   "source": [
    "#Extract distribution of number of attempts/games\n",
    "number_attemps_dist = players_record[players_record['nb_finished_games'] == 0]['nb_total_games'].value_counts(normalize=True)\n",
    "\n",
    "#Print results\n",
    "print('{:<10} {}'.format('#games', 'proportion'))\n",
    "for g, p in number_attemps_dist.items():\n",
    "      print('{:<10} {:<5.4f}'.format(g, p))\n",
    "        \n",
    "#Visualize distribution\n",
    "fig, ax = plt.subplots(1,2, figsize=(14,4))\n",
    "plt.suptitle('Number of games played by players with 0 finished games')\n",
    "ax= ax.ravel()\n",
    "\n",
    "#Number of games distrubiton on default axis\n",
    "ax[0].bar(number_attemps_dist.index, number_attemps_dist, edgecolor=(1,1,1))\n",
    "ax[0].set_title('Normalized')\n",
    "ax[0].set_ylabel('Frequency')\n",
    "ax[0].set_xlabel('#games')\n",
    "ax[0].tick_params(bottom=False);\n",
    "ax[0].set_xticks(range(max(number_attemps_dist.index)+1));\n",
    "ax[0].spines['right'].set_visible(False)\n",
    "ax[0].spines['top'].set_visible(False)\n",
    "\n",
    "#Number of games distrubiton on log axis\n",
    "ax[1].bar(number_attemps_dist.index, number_attemps_dist, edgecolor=(1,1,1), log=True)\n",
    "ax[1].set_title('log axis')\n",
    "ax[1].set_ylabel('Frequency')\n",
    "ax[1].set_xlabel('#games')\n",
    "ax[1].tick_params(bottom=False);\n",
    "ax[1].set_xticks(range(max(number_attemps_dist.index)+1));\n",
    "ax[1].spines['right'].set_visible(False)\n",
    "ax[1].spines['top'].set_visible(False)"
   ]
  },
  {
   "cell_type": "markdown",
   "id": "dd628596-0004-4544-a310-6b5c4d1d906a",
   "metadata": {},
   "source": [
    "<div class=\"1.1 explanation\" style='background-color:#faefe1; border-left: solid #darkblue 4px; border-radius: 4px; padding:0.7em;'>\n",
    "    <span style=\"color:black\">\n",
    "        Hence we find that the number of games played by players with 0 finished games follows a power-law. Thus the majority (79%) only has 1 attempt that is either a <code class='python'>restart</code> or a <code class='python'>timeout</code>. Does this mean that this single attempt is so frustrating that the player decides to terminate and never come back? To further investigate this we have to specifically look into their <span style=\"font-family: monospace; background-color:#fadfb9; padding-left:4px; padding-right:4px; border-radius: 5px;\">in_game</span> paths.<br><br>\n",
    "        Let's first look at the <span style=\"font-family: monospace; background-color:#fadfb9; padding-left:4px; padding-right:4px; border-radius: 5px;\">pathLength</span> distribution of these single attemps.\n",
    "    </span>\n",
    "</div>"
   ]
  },
  {
   "cell_type": "code",
   "execution_count": 198,
   "id": "287e048f-7842-41cf-8d79-bdb373e1a8d4",
   "metadata": {},
   "outputs": [
    {
     "data": {
      "image/png": "[encoded data removed]",
      "text/plain": [
       "<Figure size 1400x400 with 1 Axes>"
      ]
     },
     "metadata": {},
     "output_type": "display_data"
    }
   ],
   "source": [
    "#Get all the hashedIpaddress of the players that have only 1 attempt that is either a restart or timeout\n",
    "hashedIpaddress_selection = players_record[(players_record['nb_finished_games'] == 0) & (players_record['nb_total_games'] == 1)].index\n",
    "\n",
    "#Extract path lengths\n",
    "path_lengths_selection = paths_all.set_index('hashedIpAddress').loc[hashedIpaddress_selection]['pathLength'].value_counts()\n",
    "\n",
    "#Display histogram for visualization\n",
    "fig, ax = plt.subplots(figsize=(14,4))\n",
    "plt.suptitle('Path length distribution for player with only a single attempt being either timeout or restart')\n",
    "\n",
    "#Number of games distrubiton on log axis\n",
    "ax.bar(path_lengths_selection.index, path_lengths_selection, edgecolor=(1,1,1), log=True)\n",
    "ax.set_ylabel('Frequency')\n",
    "ax.set_xlabel('path length')\n",
    "ax.tick_params(bottom=False);\n",
    "ax.set_xticks(range(max(path_lengths_selection.index)+1));\n",
    "ax.tick_params(axis='x', which='major', labelsize=8)\n",
    "ax.spines['right'].set_visible(False)\n",
    "ax.spines['top'].set_visible(False)"
   ]
  },
  {
   "cell_type": "markdown",
   "id": "fdb8169d-d451-46da-99b7-37d488137930",
   "metadata": {},
   "source": [
    "<div class=\"1.1 explanation\" style='background-color:#faefe1; border-left: solid #darkblue 4px; border-radius: 4px; padding:0.7em;'>\n",
    "    <span style=\"color:black\">\n",
    "        In the remainder of the analysis, we will discard entries with a <span style=\"font-family: monospace; background-color:#fadfb9; padding-left:4px; padding-right:4px; border-radius: 5px;\">pathLength</span> of 1. We assume an attempt is only \"serious\" once a player has traversed to at least one other Wikipedia page. In the next section (for now in the other .ipynb notebooks) we will perform a more thorough analysis on the paths taken by these specific players. More specifically we will compare this to finished attempts of other players to see what differences we observe.\n",
    "    </span>\n",
    "</div>"
   ]
  },
  {
   "cell_type": "markdown",
   "id": "e10a46c0-3a2c-4fc1-a12a-a89d94895a36",
   "metadata": {},
   "source": [
    "</div>\n",
    "<div class=\"1.1 explanation\" style='background-color:#08135c; border-left: solid #darkblue 4px; border-radius: 4px; padding:0.7em;'>\n",
    "    <span style=\"color:white\">\n",
    "       <h3>1.3 Between game history of players with partial <code class='python'>finished</code> games.</h3>\n",
    "    </span>\n",
    "</div>\n",
    "</div>\n",
    "<div class=\"1.1 explanation\" style='background-color:#faefe1; border-left: solid #darkblue 4px; border-radius: 4px; padding:0.7em;'>\n",
    "    <span style=\"color:black\">\n",
    "        <b>Hi Tamara, here I will just write down some ideas that I can come up with. Of course you might add or change some ideas if you think it would be better.</b><br><br>\n",
    "        So far we have just looked at players that have 0 <code class='python'>finished</code> games at all right? This was, as said 32% of the data. We use this group to answer the question why people are not able to finish a game and likely never return after being frustrated (for this probably Mathieu and Mengjie have to further analyze the exact paths taken. In other words the <span style=\"font-family: monospace; background-color:#fadfb9; padding-left:4px; padding-right:4px; border-radius: 5px;\">in_game</span> history is interesting here).<br><br> \n",
    "        We also, however, have 23% of the players that have a mix of <code class='python'>finished</code>, <code class='python'>timeout</code> and <code class='python'>restart</code> in their <span style=\"font-family: monospace; background-color:#fadfb9; padding-left:4px; padding-right:4px; border-radius: 5px;\">between_game</span> history. Maybe here we can find interesting information concerning the interaction between these different games. So here the <span style=\"font-family: monospace; background-color:#fadfb9; padding-left:4px; padding-right:4px; border-radius: 5px;\">between_game</span> history in addition to <span style=\"font-family: monospace; background-color:#fadfb9; padding-left:4px; padding-right:4px; border-radius: 5px;\">in_game</span> can be interesting. Perhaps people are likely to have a <code class='python'>restart</code> game after some succesful <code class='python'>finished</code> paths, however after many more restarts likely <code class='python'>timeout</code>? I see you did some anlaysis on this on the code below, I think the approach you did is nice. We can discuss if further on the phone if yo want. <br><br>\n",
    "        The last group that comprise 45% of all players only have <code class='python'>finished</code> games. I am not sure what we can do here with regard to <span style=\"font-family: monospace; background-color:#fadfb9; padding-left:4px; padding-right:4px; border-radius: 5px;\">between_game</span> history. I think just group act as some sort of benchmark to compare our <code class='python'>restart</code> and <code class='python'>timeout</code> games to.<br><br>\n",
    "        Overall we should not overcomplicate things and start of with an easy model. From there on we can extend our anlaysis if we want. Therefore I suggest for us to now stick to the following:\n",
    "        <ul>\n",
    "            <li> Continue working on the 32% of people with 0 <code class='python'>finished</code> games. (still not to cut out the individual with <span style=\"font-family: monospace; background-color:#fadfb9; padding-left:4px; padding-right:4px; border-radius: 5px;\">pathLength</span> of 0 for example.) </li>\n",
    "            <li> Look for interaction between the different games as I said. You can filter out the 23% using the code I put below. Maybe we should only focus on the people that end with <code class='python'>restart</code> of <code class='python'>temout</code> here. This would be a smaller fraction of the 23%.</li>\n",
    "        </ul>\n",
    "    </span>\n",
    "</div>\n"
   ]
  },
  {
   "cell_type": "markdown",
   "id": "28f0595d-8ff2-43fd-85c6-71b48d1a5768",
   "metadata": {},
   "source": [
    "## Some template code below (variable naming etc. not too good. This is just to give an idea)"
   ]
  },
  {
   "cell_type": "code",
   "execution_count": 195,
   "id": "3f3a8630-17b8-45c3-888a-ae54e8aaceb2",
   "metadata": {},
   "outputs": [
    {
     "data": {
      "text/html": [
       "<div>\n",
       "<style scoped>\n",
       "    .dataframe tbody tr th:only-of-type {\n",
       "        vertical-align: middle;\n",
       "    }\n",
       "\n",
       "    .dataframe tbody tr th {\n",
       "        vertical-align: top;\n",
       "    }\n",
       "\n",
       "    .dataframe thead th {\n",
       "        text-align: right;\n",
       "    }\n",
       "</style>\n",
       "<table border=\"1\" class=\"dataframe\">\n",
       "  <thead>\n",
       "    <tr style=\"text-align: right;\">\n",
       "      <th></th>\n",
       "      <th>between_game</th>\n",
       "      <th>last_game</th>\n",
       "      <th>nb_finished_games</th>\n",
       "      <th>nb_restart_games</th>\n",
       "      <th>nb_timeout_games</th>\n",
       "      <th>nb_total_games</th>\n",
       "    </tr>\n",
       "    <tr>\n",
       "      <th>hashedIpAddress</th>\n",
       "      <th></th>\n",
       "      <th></th>\n",
       "      <th></th>\n",
       "      <th></th>\n",
       "      <th></th>\n",
       "      <th></th>\n",
       "    </tr>\n",
       "  </thead>\n",
       "  <tbody>\n",
       "    <tr>\n",
       "      <th>000386124f307de8</th>\n",
       "      <td>[finished, timeout]</td>\n",
       "      <td>timeout</td>\n",
       "      <td>1</td>\n",
       "      <td>0</td>\n",
       "      <td>1</td>\n",
       "      <td>2</td>\n",
       "    </tr>\n",
       "    <tr>\n",
       "      <th>000e5d4c2c8e921f</th>\n",
       "      <td>[finished, restart, restart, timeout]</td>\n",
       "      <td>timeout</td>\n",
       "      <td>1</td>\n",
       "      <td>2</td>\n",
       "      <td>1</td>\n",
       "      <td>4</td>\n",
       "    </tr>\n",
       "    <tr>\n",
       "      <th>00381d0a21b8ba73</th>\n",
       "      <td>[restart, finished, finished, finished, finish...</td>\n",
       "      <td>finished</td>\n",
       "      <td>5</td>\n",
       "      <td>1</td>\n",
       "      <td>0</td>\n",
       "      <td>6</td>\n",
       "    </tr>\n",
       "    <tr>\n",
       "      <th>003a34e80bdab60d</th>\n",
       "      <td>[restart, finished]</td>\n",
       "      <td>finished</td>\n",
       "      <td>1</td>\n",
       "      <td>1</td>\n",
       "      <td>0</td>\n",
       "      <td>2</td>\n",
       "    </tr>\n",
       "    <tr>\n",
       "      <th>003de5ad49bf14e9</th>\n",
       "      <td>[finished, timeout]</td>\n",
       "      <td>timeout</td>\n",
       "      <td>1</td>\n",
       "      <td>0</td>\n",
       "      <td>1</td>\n",
       "      <td>2</td>\n",
       "    </tr>\n",
       "    <tr>\n",
       "      <th>0045bac960aed861</th>\n",
       "      <td>[restart, restart, restart, restart, finished,...</td>\n",
       "      <td>timeout</td>\n",
       "      <td>8</td>\n",
       "      <td>11</td>\n",
       "      <td>2</td>\n",
       "      <td>21</td>\n",
       "    </tr>\n",
       "    <tr>\n",
       "      <th>0068f6c30855b1fd</th>\n",
       "      <td>[finished, finished, restart, finished, finish...</td>\n",
       "      <td>restart</td>\n",
       "      <td>4</td>\n",
       "      <td>2</td>\n",
       "      <td>0</td>\n",
       "      <td>6</td>\n",
       "    </tr>\n",
       "    <tr>\n",
       "      <th>007519dc19b7e34e</th>\n",
       "      <td>[finished, timeout]</td>\n",
       "      <td>timeout</td>\n",
       "      <td>1</td>\n",
       "      <td>0</td>\n",
       "      <td>1</td>\n",
       "      <td>2</td>\n",
       "    </tr>\n",
       "    <tr>\n",
       "      <th>007b13af674035a0</th>\n",
       "      <td>[restart, finished, restart, restart, restart,...</td>\n",
       "      <td>timeout</td>\n",
       "      <td>2</td>\n",
       "      <td>4</td>\n",
       "      <td>1</td>\n",
       "      <td>7</td>\n",
       "    </tr>\n",
       "    <tr>\n",
       "      <th>007c771d773efae3</th>\n",
       "      <td>[finished, restart, restart, finished]</td>\n",
       "      <td>finished</td>\n",
       "      <td>2</td>\n",
       "      <td>2</td>\n",
       "      <td>0</td>\n",
       "      <td>4</td>\n",
       "    </tr>\n",
       "  </tbody>\n",
       "</table>\n",
       "</div>"
      ],
      "text/plain": [
       "                                                       between_game last_game  \\\n",
       "hashedIpAddress                                                                 \n",
       "000386124f307de8                                [finished, timeout]   timeout   \n",
       "000e5d4c2c8e921f              [finished, restart, restart, timeout]   timeout   \n",
       "00381d0a21b8ba73  [restart, finished, finished, finished, finish...  finished   \n",
       "003a34e80bdab60d                                [restart, finished]  finished   \n",
       "003de5ad49bf14e9                                [finished, timeout]   timeout   \n",
       "0045bac960aed861  [restart, restart, restart, restart, finished,...   timeout   \n",
       "0068f6c30855b1fd  [finished, finished, restart, finished, finish...   restart   \n",
       "007519dc19b7e34e                                [finished, timeout]   timeout   \n",
       "007b13af674035a0  [restart, finished, restart, restart, restart,...   timeout   \n",
       "007c771d773efae3             [finished, restart, restart, finished]  finished   \n",
       "\n",
       "                  nb_finished_games  nb_restart_games  nb_timeout_games  \\\n",
       "hashedIpAddress                                                           \n",
       "000386124f307de8                  1                 0                 1   \n",
       "000e5d4c2c8e921f                  1                 2                 1   \n",
       "00381d0a21b8ba73                  5                 1                 0   \n",
       "003a34e80bdab60d                  1                 1                 0   \n",
       "003de5ad49bf14e9                  1                 0                 1   \n",
       "0045bac960aed861                  8                11                 2   \n",
       "0068f6c30855b1fd                  4                 2                 0   \n",
       "007519dc19b7e34e                  1                 0                 1   \n",
       "007b13af674035a0                  2                 4                 1   \n",
       "007c771d773efae3                  2                 2                 0   \n",
       "\n",
       "                  nb_total_games  \n",
       "hashedIpAddress                   \n",
       "000386124f307de8               2  \n",
       "000e5d4c2c8e921f               4  \n",
       "00381d0a21b8ba73               6  \n",
       "003a34e80bdab60d               2  \n",
       "003de5ad49bf14e9               2  \n",
       "0045bac960aed861              21  \n",
       "0068f6c30855b1fd               6  \n",
       "007519dc19b7e34e               2  \n",
       "007b13af674035a0               7  \n",
       "007c771d773efae3               4  "
      ]
     },
     "execution_count": 195,
     "metadata": {},
     "output_type": "execute_result"
    }
   ],
   "source": [
    "#Display snipped of players with within the 23% category\n",
    "partially_finished = players_record[(players_record['nb_finished_games'] != 0) & (players_record['nb_finished_games'] != players_record['nb_total_games'])]\n",
    "partially_finished.head(10)\n"
   ]
  },
  {
   "cell_type": "code",
   "execution_count": 206,
   "id": "38991c0e-2e0c-4a06-a71e-f1b63b3070a7",
   "metadata": {},
   "outputs": [
    {
     "data": {
      "text/plain": [
       "timeout     0.539079\n",
       "finished    0.332374\n",
       "restart     0.128548\n",
       "Name: last_game, dtype: float64"
      ]
     },
     "execution_count": 206,
     "metadata": {},
     "output_type": "execute_result"
    }
   ],
   "source": [
    "#Let's check what type of games these players usually end on\n",
    "game_end = partially_finished['last_game'].value_counts(normalize=True)\n",
    "game_end"
   ]
  },
  {
   "cell_type": "code",
   "execution_count": 207,
   "id": "b2840304-4211-4efb-a3b2-13583d743dd5",
   "metadata": {},
   "outputs": [
    {
     "data": {
      "text/plain": [
       "0.5390785684903332"
      ]
     },
     "execution_count": 207,
     "metadata": {},
     "output_type": "execute_result"
    }
   ],
   "source": [
    "game_end['timeout']"
   ]
  },
  {
   "cell_type": "markdown",
   "id": "a267ced3-f6c5-419e-935d-3f141ff2bcd8",
   "metadata": {
    "tags": []
   },
   "source": [
    "<div class=\"1.1 explanation\" style='background-color:#faefe1; border-left: solid #darkblue 4px; border-radius: 4px; padding:0.7em;'>\n",
    "    <span style=\"color:black\">\n",
    "        Most people ended on a <code class='python'>timeout</code> or <code class='python'>finished</code>. So this suggests that people that go for a restart are usually motivated to give it another try?\n",
    "    </span>\n",
    "</div>"
   ]
  },
  {
   "cell_type": "code",
   "execution_count": 209,
   "id": "67c59da3-9cdb-4728-b77a-17252b81a440",
   "metadata": {},
   "outputs": [
    {
     "name": "stdout",
     "output_type": "stream",
     "text": [
      "People ending on timeout or restart in this group is: 16%\n"
     ]
    }
   ],
   "source": [
    "#Proportion of total number of players when selecting further for people that end on timeout or restart\n",
    "prop_final = (nb_players-nb_finished_only-nb_finished_none)/nb_players * 100 * (game_end['timeout']+game_end['restart'])\n",
    "print('People ending on timeout or restart in this group is: {:.0f}%'.format(prop_final))"
   ]
  },
  {
   "cell_type": "markdown",
   "id": "81193f32-3309-4b3b-a706-247fca19397a",
   "metadata": {},
   "source": [
    "<div class=\"1.1 explanation\" style='background-color:#faefe1; border-left: solid #darkblue 4px; border-radius: 4px; padding:0.7em;'>\n",
    "    <span style=\"color:black\">\n",
    "        So in total we have 32 + 16 = 48% of the players ending on a <code class='python'>timeout</code> or <code class='python'>restart</code>.\n",
    "    </span>\n",
    "</div>"
   ]
  },
  {
   "cell_type": "markdown",
   "id": "50e4607c-b8f5-4c46-bbe4-7583ebcb947a",
   "metadata": {},
   "source": [
    "<br><br><br><br> \n",
    "### Below is Tamara's original code\n",
    "\n",
    "\n",
    "\n"
   ]
  },
  {
   "cell_type": "markdown",
   "id": "9b5ba41c-b5c5-4351-a3f8-83dd080610c8",
   "metadata": {},
   "source": [
    "</div>\n",
    "<div class=\"1.1 explanation\" style='background-color:#08135c; border-left: solid #darkblue 4px; border-radius: 4px; padding:0.7em;'>\n",
    "    <span style=\"color:white\">\n",
    "       <h3>1.2 Data processing game distribution per player</h3>\n",
    "    </span>\n",
    "</div>\n",
    "</div>\n",
    "<div class=\"1.1 explanation\" style='background-color:#faefe1; border-left: solid #darkblue 4px; border-radius: 4px; padding:0.7em;'>\n",
    "    <span style=\"color:black\">\n",
    "        There are some players that played several thousand times. The question is if they will be taken into account? Maximum ist at 4'685 so very high. Til what number should we take them into account? What is reasonable?\n",
    "       Mels do you have an idea what Treshold to set or if we have to analyze it? For the restart and the timeout in the last, the distributions are more similar\n",
    "    </span>\n",
    "</div>\n"
   ]
  },
  {
   "cell_type": "code",
   "execution_count": 126,
   "id": "92382558-da4e-47f0-b51d-1e2bf157e392",
   "metadata": {},
   "outputs": [],
   "source": [
    "test =players_record[players_record['last_game']== 'finished']"
   ]
  },
  {
   "cell_type": "code",
   "execution_count": 127,
   "id": "1025720b-d3cf-489b-a320-f1289574e9e0",
   "metadata": {
    "tags": []
   },
   "outputs": [
    {
     "data": {
      "text/html": [
       "<div>\n",
       "<style scoped>\n",
       "    .dataframe tbody tr th:only-of-type {\n",
       "        vertical-align: middle;\n",
       "    }\n",
       "\n",
       "    .dataframe tbody tr th {\n",
       "        vertical-align: top;\n",
       "    }\n",
       "\n",
       "    .dataframe thead th {\n",
       "        text-align: right;\n",
       "    }\n",
       "</style>\n",
       "<table border=\"1\" class=\"dataframe\">\n",
       "  <thead>\n",
       "    <tr style=\"text-align: right;\">\n",
       "      <th></th>\n",
       "      <th>between_game</th>\n",
       "      <th>last_game</th>\n",
       "      <th>nb_finished_games</th>\n",
       "      <th>nb_restart_games</th>\n",
       "      <th>nb_timeout_games</th>\n",
       "      <th>nb_total_games</th>\n",
       "    </tr>\n",
       "    <tr>\n",
       "      <th>hashedIpAddress</th>\n",
       "      <th></th>\n",
       "      <th></th>\n",
       "      <th></th>\n",
       "      <th></th>\n",
       "      <th></th>\n",
       "      <th></th>\n",
       "    </tr>\n",
       "  </thead>\n",
       "  <tbody>\n",
       "    <tr>\n",
       "      <th>0299542414c3f20a</th>\n",
       "      <td>[finished, finished, finished, finished, finis...</td>\n",
       "      <td>finished</td>\n",
       "      <td>172</td>\n",
       "      <td>0</td>\n",
       "      <td>0</td>\n",
       "      <td>172</td>\n",
       "    </tr>\n",
       "    <tr>\n",
       "      <th>0d57c8c57d75e2f5</th>\n",
       "      <td>[finished, finished, finished, finished, finis...</td>\n",
       "      <td>finished</td>\n",
       "      <td>4865</td>\n",
       "      <td>0</td>\n",
       "      <td>0</td>\n",
       "      <td>4865</td>\n",
       "    </tr>\n",
       "    <tr>\n",
       "      <th>101779c07d4d00f0</th>\n",
       "      <td>[finished, finished, finished, finished, finis...</td>\n",
       "      <td>finished</td>\n",
       "      <td>139</td>\n",
       "      <td>0</td>\n",
       "      <td>0</td>\n",
       "      <td>139</td>\n",
       "    </tr>\n",
       "    <tr>\n",
       "      <th>26f76e394525328e</th>\n",
       "      <td>[restart, restart, finished, finished, restart...</td>\n",
       "      <td>timeout</td>\n",
       "      <td>107</td>\n",
       "      <td>146</td>\n",
       "      <td>17</td>\n",
       "      <td>270</td>\n",
       "    </tr>\n",
       "    <tr>\n",
       "      <th>321e4b101c5b58ff</th>\n",
       "      <td>[finished, finished, finished, finished, finis...</td>\n",
       "      <td>finished</td>\n",
       "      <td>196</td>\n",
       "      <td>0</td>\n",
       "      <td>0</td>\n",
       "      <td>196</td>\n",
       "    </tr>\n",
       "    <tr>\n",
       "      <th>473d6ac602c2b198</th>\n",
       "      <td>[finished, finished, finished, finished, finis...</td>\n",
       "      <td>finished</td>\n",
       "      <td>545</td>\n",
       "      <td>56</td>\n",
       "      <td>36</td>\n",
       "      <td>637</td>\n",
       "    </tr>\n",
       "    <tr>\n",
       "      <th>5590014e126275b4</th>\n",
       "      <td>[finished, finished, finished, finished, finis...</td>\n",
       "      <td>finished</td>\n",
       "      <td>110</td>\n",
       "      <td>0</td>\n",
       "      <td>0</td>\n",
       "      <td>110</td>\n",
       "    </tr>\n",
       "    <tr>\n",
       "      <th>58f1667d434c79f1</th>\n",
       "      <td>[finished, finished, finished, finished, finis...</td>\n",
       "      <td>finished</td>\n",
       "      <td>118</td>\n",
       "      <td>0</td>\n",
       "      <td>0</td>\n",
       "      <td>118</td>\n",
       "    </tr>\n",
       "    <tr>\n",
       "      <th>5bb5836b425e6bfe</th>\n",
       "      <td>[timeout, finished, finished, finished, finish...</td>\n",
       "      <td>restart</td>\n",
       "      <td>243</td>\n",
       "      <td>41</td>\n",
       "      <td>24</td>\n",
       "      <td>308</td>\n",
       "    </tr>\n",
       "    <tr>\n",
       "      <th>5f22535607b1d77d</th>\n",
       "      <td>[finished, finished, finished, finished, resta...</td>\n",
       "      <td>restart</td>\n",
       "      <td>105</td>\n",
       "      <td>83</td>\n",
       "      <td>9</td>\n",
       "      <td>197</td>\n",
       "    </tr>\n",
       "  </tbody>\n",
       "</table>\n",
       "</div>"
      ],
      "text/plain": [
       "                                                       between_game last_game  \\\n",
       "hashedIpAddress                                                                 \n",
       "0299542414c3f20a  [finished, finished, finished, finished, finis...  finished   \n",
       "0d57c8c57d75e2f5  [finished, finished, finished, finished, finis...  finished   \n",
       "101779c07d4d00f0  [finished, finished, finished, finished, finis...  finished   \n",
       "26f76e394525328e  [restart, restart, finished, finished, restart...   timeout   \n",
       "321e4b101c5b58ff  [finished, finished, finished, finished, finis...  finished   \n",
       "473d6ac602c2b198  [finished, finished, finished, finished, finis...  finished   \n",
       "5590014e126275b4  [finished, finished, finished, finished, finis...  finished   \n",
       "58f1667d434c79f1  [finished, finished, finished, finished, finis...  finished   \n",
       "5bb5836b425e6bfe  [timeout, finished, finished, finished, finish...   restart   \n",
       "5f22535607b1d77d  [finished, finished, finished, finished, resta...   restart   \n",
       "\n",
       "                  nb_finished_games  nb_restart_games  nb_timeout_games  \\\n",
       "hashedIpAddress                                                           \n",
       "0299542414c3f20a                172                 0                 0   \n",
       "0d57c8c57d75e2f5               4865                 0                 0   \n",
       "101779c07d4d00f0                139                 0                 0   \n",
       "26f76e394525328e                107               146                17   \n",
       "321e4b101c5b58ff                196                 0                 0   \n",
       "473d6ac602c2b198                545                56                36   \n",
       "5590014e126275b4                110                 0                 0   \n",
       "58f1667d434c79f1                118                 0                 0   \n",
       "5bb5836b425e6bfe                243                41                24   \n",
       "5f22535607b1d77d                105                83                 9   \n",
       "\n",
       "                  nb_total_games  \n",
       "hashedIpAddress                   \n",
       "0299542414c3f20a             172  \n",
       "0d57c8c57d75e2f5            4865  \n",
       "101779c07d4d00f0             139  \n",
       "26f76e394525328e             270  \n",
       "321e4b101c5b58ff             196  \n",
       "473d6ac602c2b198             637  \n",
       "5590014e126275b4             110  \n",
       "58f1667d434c79f1             118  \n",
       "5bb5836b425e6bfe             308  \n",
       "5f22535607b1d77d             197  "
      ]
     },
     "execution_count": 127,
     "metadata": {},
     "output_type": "execute_result"
    }
   ],
   "source": [
    "players_record[players_record['nb_finished_games'] > 100].head(10)"
   ]
  },
  {
   "cell_type": "code",
   "execution_count": 128,
   "id": "817973c3-7141-4903-bd15-99774b6b481b",
   "metadata": {},
   "outputs": [
    {
     "data": {
      "text/html": [
       "<div>\n",
       "<style scoped>\n",
       "    .dataframe tbody tr th:only-of-type {\n",
       "        vertical-align: middle;\n",
       "    }\n",
       "\n",
       "    .dataframe tbody tr th {\n",
       "        vertical-align: top;\n",
       "    }\n",
       "\n",
       "    .dataframe thead th {\n",
       "        text-align: right;\n",
       "    }\n",
       "</style>\n",
       "<table border=\"1\" class=\"dataframe\">\n",
       "  <thead>\n",
       "    <tr style=\"text-align: right;\">\n",
       "      <th></th>\n",
       "      <th>between_game</th>\n",
       "      <th>last_game</th>\n",
       "      <th>nb_finished_games</th>\n",
       "      <th>nb_restart_games</th>\n",
       "      <th>nb_timeout_games</th>\n",
       "      <th>nb_total_games</th>\n",
       "    </tr>\n",
       "    <tr>\n",
       "      <th>hashedIpAddress</th>\n",
       "      <th></th>\n",
       "      <th></th>\n",
       "      <th></th>\n",
       "      <th></th>\n",
       "      <th></th>\n",
       "      <th></th>\n",
       "    </tr>\n",
       "  </thead>\n",
       "  <tbody>\n",
       "    <tr>\n",
       "      <th>26f76e394525328e</th>\n",
       "      <td>[restart, restart, finished, finished, restart...</td>\n",
       "      <td>timeout</td>\n",
       "      <td>107</td>\n",
       "      <td>146</td>\n",
       "      <td>17</td>\n",
       "      <td>270</td>\n",
       "    </tr>\n",
       "    <tr>\n",
       "      <th>75bd20c663d02c8f</th>\n",
       "      <td>[restart, restart, restart, finished, restart,...</td>\n",
       "      <td>restart</td>\n",
       "      <td>145</td>\n",
       "      <td>119</td>\n",
       "      <td>33</td>\n",
       "      <td>297</td>\n",
       "    </tr>\n",
       "  </tbody>\n",
       "</table>\n",
       "</div>"
      ],
      "text/plain": [
       "                                                       between_game last_game  \\\n",
       "hashedIpAddress                                                                 \n",
       "26f76e394525328e  [restart, restart, finished, finished, restart...   timeout   \n",
       "75bd20c663d02c8f  [restart, restart, restart, finished, restart,...   restart   \n",
       "\n",
       "                  nb_finished_games  nb_restart_games  nb_timeout_games  \\\n",
       "hashedIpAddress                                                           \n",
       "26f76e394525328e                107               146                17   \n",
       "75bd20c663d02c8f                145               119                33   \n",
       "\n",
       "                  nb_total_games  \n",
       "hashedIpAddress                   \n",
       "26f76e394525328e             270  \n",
       "75bd20c663d02c8f             297  "
      ]
     },
     "execution_count": 128,
     "metadata": {},
     "output_type": "execute_result"
    }
   ],
   "source": [
    "players_record[players_record['nb_restart_games'] > 100].head(10)"
   ]
  },
  {
   "cell_type": "markdown",
   "id": "0f6d340c-7049-4fa1-8c86-f33cfd3ee0e1",
   "metadata": {},
   "source": [
    "Distribution of the finished paths. Can show the same for the other distributions, just change the test dataframe below"
   ]
  },
  {
   "cell_type": "code",
   "execution_count": 129,
   "id": "c3936031-a745-47a3-84d6-ded87907fd56",
   "metadata": {},
   "outputs": [],
   "source": [
    "test =players_record[players_record['last_game']== 'timeout']"
   ]
  },
  {
   "cell_type": "code",
   "execution_count": 130,
   "id": "4fb8f66d-a099-4aa3-aab0-beeacf8bfe2a",
   "metadata": {},
   "outputs": [
    {
     "data": {
      "image/png": "[encoded data removed]",
      "text/plain": [
       "<Figure size 1008x432 with 4 Axes>"
      ]
     },
     "metadata": {
      "needs_background": "light"
     },
     "output_type": "display_data"
    }
   ],
   "source": [
    "fig = plt.figure(figsize=(14,6))\n",
    "\n",
    "ax = plt.subplot(2,2,1)\n",
    "ax.boxplot(test['nb_finished_games'], patch_artist=True, flierprops=flierprops, boxprops=boxprops, medianprops=medianprops, labels=['finished']);\n",
    "xlim = ax.get_xlim();\n",
    "\n",
    "ax = plt.subplot(2,2,3)\n",
    "ax.boxplot([test['nb_restart_games'], test['nb_timeout_games']], patch_artist=True, flierprops=flierprops, boxprops=boxprops, medianprops=medianprops, labels=['restart','timeout'])\n",
    "xlim = ax.get_xlim();\n",
    "\n",
    "\n",
    "ax = plt.subplot(2,2,4)\n",
    "test.plot(y='nb_finished_games', kind='hist', legend=False, edgecolor=(0,0,0, 0.5), bins=40, ax=ax, log=True, color=(235/255, 184/255, 164/255, 0.5), label=\"finished\")\n",
    "ax.legend();\n",
    "ax.set_xlabel('number of finished games')\n",
    "xlim = ax.get_xlim();\n",
    "\n",
    "ax = plt.subplot(2,2,2)\n",
    "test.plot(y='nb_timeout_games', kind='hist', legend=False, edgecolor=(0,0,0, 0.5), ax=ax, log=True, color=(31/255, 119/255, 180/255, 0.5), label=\"timeout\")\n",
    "test.plot(y='nb_restart_games', kind='hist', legend=False, edgecolor=(0,0,0, 0.5), ax=ax, log=True, color=(120/255, 194/255, 139/255, 0.5), label=\"restart\")\n",
    "ax.legend();\n",
    "ax.set_xlim(xlim);"
   ]
  },
  {
   "cell_type": "code",
   "execution_count": 131,
   "id": "255c8226-b4a7-4c6d-bb3f-7ff98b15d0a4",
   "metadata": {},
   "outputs": [
    {
     "data": {
      "text/plain": [
       "count    7654.000000\n",
       "mean        1.285733\n",
       "std         4.922636\n",
       "min         0.000000\n",
       "25%         0.000000\n",
       "50%         0.000000\n",
       "75%         1.000000\n",
       "max       170.000000\n",
       "Name: nb_finished_games, dtype: float64"
      ]
     },
     "execution_count": 131,
     "metadata": {},
     "output_type": "execute_result"
    }
   ],
   "source": [
    "test['nb_finished_games'].describe()"
   ]
  },
  {
   "cell_type": "code",
   "execution_count": 132,
   "id": "7a899be4-e8f7-41e9-af4c-e73f1d09dc32",
   "metadata": {},
   "outputs": [
    {
     "data": {
      "text/plain": [
       "count    7654.000000\n",
       "mean        0.933499\n",
       "std         2.933987\n",
       "min         0.000000\n",
       "25%         0.000000\n",
       "50%         0.000000\n",
       "75%         1.000000\n",
       "max       146.000000\n",
       "Name: nb_restart_games, dtype: float64"
      ]
     },
     "execution_count": 132,
     "metadata": {},
     "output_type": "execute_result"
    }
   ],
   "source": [
    "test['nb_restart_games'].describe()"
   ]
  },
  {
   "cell_type": "code",
   "execution_count": 133,
   "id": "0bacfe1e-468e-4c5e-8bf8-f7025d3dbf1e",
   "metadata": {},
   "outputs": [
    {
     "data": {
      "text/plain": [
       "count    7654.000000\n",
       "mean        1.131043\n",
       "std         0.779118\n",
       "min         1.000000\n",
       "25%         1.000000\n",
       "50%         1.000000\n",
       "75%         1.000000\n",
       "max        27.000000\n",
       "Name: nb_timeout_games, dtype: float64"
      ]
     },
     "execution_count": 133,
     "metadata": {},
     "output_type": "execute_result"
    }
   ],
   "source": [
    "test['nb_timeout_games'].describe()"
   ]
  },
  {
   "cell_type": "markdown",
   "id": "ff9fef57-ac74-437c-8258-b5376fd37edc",
   "metadata": {},
   "source": [
    "</div>\n",
    "<div class=\"1.1 explanation\" style='background-color:#08135c; border-left: solid #darkblue 4px; border-radius: 4px; padding:0.7em;'>\n",
    "    <span style=\"color:white\">\n",
    "       <h3>1.3 Calculate percentage of people that had restart/timeout/finished path before the final part for every possible outcome</h3>\n",
    "    </span>\n",
    "</div>\n",
    "</div>\n",
    "<div class=\"1.1 explanation\" style='background-color:#faefe1; border-left: solid #darkblue 4px; border-radius: 4px; padding:0.7em;'>\n",
    "    <span style=\"color:black\">\n",
    "        What data do we want to include? When someone did a timeout and comes bad, do we take them into account? Or do we have to filter them out?\n",
    "    </span>\n",
    "</div>\n"
   ]
  },
  {
   "cell_type": "code",
   "execution_count": 134,
   "id": "e1a2b72f-61ee-4166-a3dd-eff87e586d0d",
   "metadata": {},
   "outputs": [
    {
     "name": "stdout",
     "output_type": "stream",
     "text": [
      "Percentage of users that finished a path before a timeout:  0.3424353279331069\n",
      "Percentage of users that restarted a path before a timeout:  0.36007316435850534\n",
      "Percentage of users that had a timeout before the final timeout:  0.06924483929971256\n"
     ]
    }
   ],
   "source": [
    "timeout = players_record[players_record['last_game']== 'timeout']\n",
    "percentage_finished = len(timeout[timeout['nb_finished_games']> 0])/len(timeout)\n",
    "percentage_restart = len(timeout[timeout['nb_restart_games']> 0])/len(timeout)\n",
    "percentage_timeout = len(timeout[timeout['nb_timeout_games']> 1])/len(timeout)\n",
    "print('Percentage of users that finished a path before a timeout: ',percentage_finished)\n",
    "print('Percentage of users that restarted a path before a timeout: ',percentage_restart)\n",
    "print('Percentage of users that had a timeout before the final timeout: ',percentage_timeout)"
   ]
  },
  {
   "cell_type": "code",
   "execution_count": 135,
   "id": "819568e3-7205-4515-8a3f-6eb428f2b72f",
   "metadata": {},
   "outputs": [
    {
     "name": "stdout",
     "output_type": "stream",
     "text": [
      "Percentage of users that finished a path before the end restart:  0.28216704288939054\n",
      "Percentage of users that did a timeout of a path before the end restart:  0.042437923250564336\n",
      "Percentage of users that had a restart before the final restart:  0.3110609480812641\n"
     ]
    }
   ],
   "source": [
    "restart = players_record[players_record['last_game']== 'restart']\n",
    "percentage_finished = len(restart[restart['nb_finished_games']> 0])/len(restart)\n",
    "percentage_timeout = len(restart[restart['nb_timeout_games']> 0])/len(restart)\n",
    "percentage_restart = len(restart[restart['nb_restart_games']> 1])/len(restart)\n",
    "print('Percentage of users that finished a path before the end restart: ',percentage_finished)\n",
    "print('Percentage of users that did a timeout of a path before the end restart: ',percentage_timeout)\n",
    "print('Percentage of users that had a restart before the final restart: ',percentage_restart)"
   ]
  },
  {
   "cell_type": "code",
   "execution_count": 136,
   "id": "718772e1-322c-42fc-94ee-4420d0a23363",
   "metadata": {},
   "outputs": [
    {
     "name": "stdout",
     "output_type": "stream",
     "text": [
      "Percentage of users that restarted a path before the finished path:  0.14229859974540826\n",
      "Percentage of users that did a timeout of a path before the finished path:  0.021185670121840333\n",
      "Percentage of users that had a finished path before the final finished path:  0.4891798508819785\n"
     ]
    }
   ],
   "source": [
    "finished = players_record[players_record['last_game']== 'finished']\n",
    "percentage_restart = len(finished[finished['nb_restart_games']> 0])/len(finished)\n",
    "percentage_timeout = len(finished[finished['nb_timeout_games']> 0])/len(finished)\n",
    "percentage_finished = len(finished[finished['nb_finished_games']> 1])/len(finished)\n",
    "print('Percentage of users that restarted a path before the finished path: ',percentage_restart)\n",
    "print('Percentage of users that did a timeout of a path before the finished path: ',percentage_timeout)\n",
    "print('Percentage of users that had a finished path before the final finished path: ',percentage_finished)"
   ]
  },
  {
   "cell_type": "code",
   "execution_count": null,
   "id": "ba72df97-26c5-461f-bcea-b84f7b53056b",
   "metadata": {},
   "outputs": [],
   "source": []
  },
  {
   "cell_type": "markdown",
   "id": "9d05e40a-fc90-477e-9060-6e802ccd65e2",
   "metadata": {},
   "source": [
    "</div>\n",
    "<div class=\"1.1 explanation\" style='background-color:#08135c; border-left: solid #darkblue 4px; border-radius: 4px; padding:0.7em;'>\n",
    "    <span style=\"color:white\">\n",
    "       <h3>1.4 General preprocessing of data</h3>\n",
    "    </span>\n",
    "</div>\n",
    "</div>\n",
    "<div class=\"1.1 explanation\" style='background-color:#faefe1; border-left: solid #darkblue 4px; border-radius: 4px; padding:0.7em;'>\n",
    "    <span style=\"color:black\">\n",
    "       takes out everything that has zero pathlength -> can I do on monday\n",
    "    </span>\n",
    "</div>\n"
   ]
  },
  {
   "cell_type": "code",
   "execution_count": null,
   "id": "2bdc67af-902e-44b5-a937-85fcb1f60849",
   "metadata": {},
   "outputs": [],
   "source": []
  }
 ],
 "metadata": {
  "kernelspec": {
   "display_name": "Python 3 (ipykernel)",
   "language": "python",
   "name": "python3"
  },
  "language_info": {
   "codemirror_mode": {
    "name": "ipython",
    "version": 3
   },
   "file_extension": ".py",
   "mimetype": "text/x-python",
   "name": "python",
   "nbconvert_exporter": "python",
   "pygments_lexer": "ipython3",
   "version": "3.10.4"
  }
 },
 "nbformat": 4,
 "nbformat_minor": 5
}
