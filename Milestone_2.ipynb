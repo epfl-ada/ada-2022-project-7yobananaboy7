{
 "cells": [
  {
   "cell_type": "code",
   "execution_count": 1,
   "id": "6b36102d-49b1-4a0d-acce-52b7da668944",
   "metadata": {},
   "outputs": [],
   "source": [
    "#Import libraries\n",
    "import pandas as pd\n",
    "import numpy as np\n",
    "import matplotlib.pyplot as plt\n",
    "import seaborn as sns\n",
    "import networkx as nx\n",
    "import re\n",
    "\n",
    "from helpers import *\n",
    "\n",
    "import urllib\n",
    "\n",
    "from scipy import stats"
   ]
  },
  {
   "cell_type": "markdown",
   "id": "d8c1b485-13ae-4bce-8cf4-e69b0422fada",
   "metadata": {
    "tags": []
   },
   "source": [
    "</div>\n",
    "<div class=\"1. Header\" style='background-color:#08135c; border-left: solid #darkblue 4px; border-radius: 4px; padding:0.7em;'>\n",
    "    <span style=\"color:white;\">\n",
    "       <h2>1. Data</h2>\n",
    "        <h4>In this first section we import and rearrange the data.</h4>\n",
    "    </span>\n",
    "</div>\n",
    "</div>"
   ]
  },
  {
   "cell_type": "markdown",
   "id": "15bbd125-8a39-4523-af42-8f4351fb9677",
   "metadata": {
    "tags": []
   },
   "source": [
    "</div>\n",
    "<div class=\"1.1 Header\" style='background-color:#08135c; border-left: solid #darkblue 4px; border-radius: 4px; padding:0.7em;'>\n",
    "    <span style=\"color:white\">\n",
    "       <h3>1.1 Data acquisition</h3>\n",
    "    </span>\n",
    "</div>\n",
    "</div>\n",
    "<div class=\"1.1 explanation\" style='background-color:#faefe1; border-left: solid #darkblue 4px; border-radius: 4px; padding:0.7em;'>\n",
    "    <span style=\"color:black\">\n",
    "        Here we load the relevant data using the <span style=\"font-family: monospace; background-color:#fadfb9; padding-left:4px; padding-right:4px; border-radius: 5px;\">pd.read_csv()</span> method. The data we are dealing with follows a relational model. The specific navigation paths can be represented as graphs where the nodes concern the wikipedia pages that are connected through (directional) edges representing the hyperlinks.\n",
    "    </span>\n",
    "</div>"
   ]
  },
  {
   "cell_type": "code",
   "execution_count": 2,
   "id": "2cf61ee5-d38f-4f91-a2f4-e9fcd9ba9302",
   "metadata": {},
   "outputs": [],
   "source": [
    "articles, categories, links, paths_finished, paths_unfinished, paths_all, shortest_path_distance = load_data()"
   ]
  },
  {
   "cell_type": "markdown",
   "id": "5840641c-9872-45b8-a85f-a2ab0175f6b7",
   "metadata": {},
   "source": [
    "</div>\n",
    "<div class=\"1.2 Header\" style='background-color:#08135c; border-left: solid #darkblue 4px; border-radius: 4px; padding:0.7em;'>\n",
    "    <span style=\"color:white\">\n",
    "       <h3>1.2 Data concatenation</h3>\n",
    "    </span>\n",
    "</div>\n",
    "</div>\n",
    "<div class=\"1.1 explanation\" style='background-color:#faefe1; border-left: solid #darkblue 4px; border-radius: 4px; padding:0.7em;'>\n",
    "    <span style=\"color:black\">\n",
    "        We want to merge both the <span style=\"font-family: monospace; background-color:#fadfb9; padding-left:4px; padding-right:4px; border-radius: 5px;\">paths_finished</span> and <span style=\"font-family: monospace; background-color:#fadfb9; padding-left:4px; padding-right:4px; border-radius: 5px;\">paths_unfinished</span> DataFrame. This make the analysis more convenient when comparing both types. More specifically we add the <span style=\"font-family: monospace; background-color:#fadfb9; padding-left:4px; padding-right:4px; border-radius: 5px;\">target</span> column to and drop the <span style=\"font-family: monospace; background-color:#fadfb9; padding-left:4px; padding-right:4px; border-radius: 5px;\">rating </span> column of <span style=\"font-family: monospace; background-color:#fadfb9; padding-left:4px; padding-right:4px; border-radius: 5px;\">paths_finished</span>. We can then concatenate the respective DataFrames together. \n",
    "</div>"
   ]
  },
  {
   "cell_type": "code",
   "execution_count": 3,
   "id": "e8a59fca",
   "metadata": {},
   "outputs": [
    {
     "data": {
      "text/html": [
       "<div>\n",
       "<style scoped>\n",
       "    .dataframe tbody tr th:only-of-type {\n",
       "        vertical-align: middle;\n",
       "    }\n",
       "\n",
       "    .dataframe tbody tr th {\n",
       "        vertical-align: top;\n",
       "    }\n",
       "\n",
       "    .dataframe thead th {\n",
       "        text-align: right;\n",
       "    }\n",
       "</style>\n",
       "<table border=\"1\" class=\"dataframe\">\n",
       "  <thead>\n",
       "    <tr style=\"text-align: right;\">\n",
       "      <th></th>\n",
       "      <th>hashedIpAddress</th>\n",
       "      <th>timestamp</th>\n",
       "      <th>durationInSec</th>\n",
       "      <th>path</th>\n",
       "      <th>pathLength</th>\n",
       "      <th>target</th>\n",
       "      <th>type</th>\n",
       "    </tr>\n",
       "  </thead>\n",
       "  <tbody>\n",
       "    <tr>\n",
       "      <th>0</th>\n",
       "      <td>6a3701d319fc3754</td>\n",
       "      <td>1297740409</td>\n",
       "      <td>166</td>\n",
       "      <td>14th_century;15th_century;16th_century;Pacific...</td>\n",
       "      <td>9</td>\n",
       "      <td>African_slave_trade</td>\n",
       "      <td>finished</td>\n",
       "    </tr>\n",
       "    <tr>\n",
       "      <th>1</th>\n",
       "      <td>3824310e536af032</td>\n",
       "      <td>1344753412</td>\n",
       "      <td>88</td>\n",
       "      <td>14th_century;Europe;Africa;Atlantic_slave_trad...</td>\n",
       "      <td>5</td>\n",
       "      <td>African_slave_trade</td>\n",
       "      <td>finished</td>\n",
       "    </tr>\n",
       "    <tr>\n",
       "      <th>2</th>\n",
       "      <td>415612e93584d30e</td>\n",
       "      <td>1349298640</td>\n",
       "      <td>138</td>\n",
       "      <td>14th_century;Niger;Nigeria;British_Empire;Slav...</td>\n",
       "      <td>8</td>\n",
       "      <td>African_slave_trade</td>\n",
       "      <td>finished</td>\n",
       "    </tr>\n",
       "    <tr>\n",
       "      <th>3</th>\n",
       "      <td>64dd5cd342e3780c</td>\n",
       "      <td>1265613925</td>\n",
       "      <td>37</td>\n",
       "      <td>14th_century;Renaissance;Ancient_Greece;Greece</td>\n",
       "      <td>4</td>\n",
       "      <td>Greece</td>\n",
       "      <td>finished</td>\n",
       "    </tr>\n",
       "  </tbody>\n",
       "</table>\n",
       "</div>"
      ],
      "text/plain": [
       "    hashedIpAddress   timestamp  durationInSec  \\\n",
       "0  6a3701d319fc3754  1297740409            166   \n",
       "1  3824310e536af032  1344753412             88   \n",
       "2  415612e93584d30e  1349298640            138   \n",
       "3  64dd5cd342e3780c  1265613925             37   \n",
       "\n",
       "                                                path  pathLength  \\\n",
       "0  14th_century;15th_century;16th_century;Pacific...           9   \n",
       "1  14th_century;Europe;Africa;Atlantic_slave_trad...           5   \n",
       "2  14th_century;Niger;Nigeria;British_Empire;Slav...           8   \n",
       "3     14th_century;Renaissance;Ancient_Greece;Greece           4   \n",
       "\n",
       "                target      type  \n",
       "0  African_slave_trade  finished  \n",
       "1  African_slave_trade  finished  \n",
       "2  African_slave_trade  finished  \n",
       "3               Greece  finished  "
      ]
     },
     "execution_count": 3,
     "metadata": {},
     "output_type": "execute_result"
    }
   ],
   "source": [
    "paths_all.head(4)"
   ]
  },
  {
   "cell_type": "markdown",
   "id": "272327b2",
   "metadata": {},
   "source": [
    "</div>\n",
    "<div class=\"2. Header\" style='background-color:#08135c; border-left: solid #darkblue 4px; border-radius: 4px; padding:0.7em;'>\n",
    "    <span style=\"color:white;\">\n",
    "       <h2>2. Article exploration</h2>\n",
    "        <h4>In this section we conduct a first data exploration. We will focus on the features of the individual articles solely.</h4>\n",
    "    </span>\n",
    "</div>\n",
    "</div>"
   ]
  },
  {
   "cell_type": "markdown",
   "id": "e8589f17-1482-456e-9c3d-63b08d4f9dc1",
   "metadata": {},
   "source": [
    "</div>\n",
    "<div class=\"2.1 Header\" style='background-color:#08135c; border-left: solid #darkblue 4px; border-radius: 4px; padding:0.7em;'>\n",
    "    <span style=\"color:white\">\n",
    "       <h3>2.1 Category distribution</h3>\n",
    "    </span>\n",
    "</div>\n",
    "</div>\n",
    "<div class=\"2.1 explanation\" style='background-color:#faefe1; border-left: solid #darkblue 4px; border-radius: 4px; padding:0.7em;'>\n",
    "    <span style=\"color:black\">\n",
    "        We start by investigating the category distribution among the wikipedia articles. This way we try to see if there are some specific categories that are dominantly represented among the wikipedia articles.\n",
    "    </span>\n",
    "</div>"
   ]
  },
  {
   "cell_type": "code",
   "execution_count": 4,
   "id": "6b9f1e68-6522-4272-ac26-efb6f2d8eaee",
   "metadata": {},
   "outputs": [
    {
     "name": "stdout",
     "output_type": "stream",
     "text": [
      "Number of articles\t: 4604\n",
      "Number of categories\t: 129\n",
      "\n",
      "TOP 3:\n",
      "CATEGORY                                      COUNT\n",
      "subject.Countries                            : 229\n",
      "subject.Science.Biology.Birds                : 161\n",
      "subject.Geography.Geography_of_Great_Britain : 124\n",
      "\n",
      "\n"
     ]
    },
    {
     "data": {
      "image/png": "[encoded data removed]",
      "text/plain": [
       "<Figure size 432x288 with 1 Axes>"
      ]
     },
     "metadata": {
      "needs_background": "light"
     },
     "output_type": "display_data"
    }
   ],
   "source": [
    "#Get number of articles and number of unique categories\n",
    "nb_articles = len(articles)\n",
    "nb_categories = len(categories['category'].unique())\n",
    "\n",
    "#Find number of articles per category\n",
    "categories_grouped = categories.groupby('category').count().add_suffix('_count')\n",
    "categories_grouped = categories_grouped.sort_values('article_count', ascending=False) #Sort by count in descending order\n",
    "\n",
    "#Print statistics\n",
    "print('Number of articles\\t: {}'.format(nb_articles))\n",
    "print('Number of categories\\t: {}\\n'.format(nb_categories))\n",
    "print('TOP 3:')\n",
    "print(\"{:<45} {}\".format('CATEGORY', 'COUNT'))\n",
    "for index, row in categories_grouped.head(3).iterrows():\n",
    "    print(\"{:<45}: {}\".format(index, row['article_count']))\n",
    "print(\"\\n\")\n",
    "\n",
    "#Plot category distrubution (sorted)\n",
    "g = categories_grouped.plot(y='article_count', kind='bar', legend=False, width=1, edgecolor=(1,1,1))\n",
    "g.set(ylabel='count')\n",
    "g.set(xlabel='categories (sorted)')\n",
    "g.set(xticklabels=[]);\n",
    "g.tick_params(bottom=False);\n",
    "g.spines['right'].set_visible(False)\n",
    "g.spines['top'].set_visible(False)\n"
   ]
  },
  {
   "cell_type": "markdown",
   "id": "f1f3b8f4-63fc-4440-89ba-31b407a53452",
   "metadata": {},
   "source": [
    "</div>\n",
    "<div class=\"2.2 Header\" style='background-color:#08135c; border-left: solid #darkblue 4px; border-radius: 4px; padding:0.7em;'>\n",
    "    <span style=\"color:white\">\n",
    "       <h3>2.2 Link distribution</h3>\n",
    "    </span>\n",
    "</div>\n",
    "</div>\n",
    "</div>\n",
    "<div class=\"1.1 explanation\" style='background-color:#faefe1; border-left: solid #darkblue 4px; border-radius: 4px; padding:0.7em;'>\n",
    "    <span style=\"color:black\">\n",
    "        Now we will look at the distribution of the number of links per article. Here we aim to measure the degree of the nodes (i.e. the number of outgoing edges for every article). Finding articles with a high degree could potentially identify so-called <em>\"get away to hubs\"</em> as described in <a href=\"http://infolab.stanford.edu/~west1/pubs/West-Pineau-Precup_IJCAI-09.pdf\">Wikispeedia: An Online Game for Inferring Semantic Distances between Concepts</a>.\n",
    "    </span>\n",
    "</div>"
   ]
  },
  {
   "cell_type": "code",
   "execution_count": 5,
   "id": "f8eac2c1-5b9d-469a-b166-fd6245d51adb",
   "metadata": {},
   "outputs": [
    {
     "name": "stdout",
     "output_type": "stream",
     "text": [
      "Number of links\t: 119882\n",
      "\n",
      "TOP 3:\n",
      "ARTICLE                                       COUNT\n",
      "United_States                                : 294\n",
      "Driving_on_the_left_or_right                 : 255\n",
      "List_of_countries                            : 244\n",
      "\n",
      "\n"
     ]
    },
    {
     "data": {
      "image/png": "[encoded data removed]",
      "text/plain": [
       "<Figure size 1008x288 with 2 Axes>"
      ]
     },
     "metadata": {
      "needs_background": "light"
     },
     "output_type": "display_data"
    }
   ],
   "source": [
    "#Get total number of links\n",
    "nb_links = len(links)\n",
    "\n",
    "#Get the number of links per article\n",
    "links_grouped = links.groupby('article').count().add_suffix('_count')\n",
    "links_grouped = links_grouped.sort_values('link_count', ascending=False) #Sort by count in descending order\n",
    "\n",
    "#Print statistics\n",
    "print('Number of links\\t: {}\\n'.format(nb_links))\n",
    "\n",
    "print('TOP 3:')\n",
    "print(\"{:<45} {}\".format('ARTICLE', 'COUNT'))\n",
    "for index, row in links_grouped.head(3).iterrows():\n",
    "    print(\"{:<45}: {}\".format(index, row['link_count']))\n",
    "print(\"\\n\")\n",
    "\n",
    "    \n",
    "#Plot category distrubution (sorted)\n",
    "fig, ax = plt.subplots(1,2, figsize=(14,4));\n",
    "ax = ax.ravel()\n",
    "\n",
    "g1 = links_grouped.plot(y='link_count', kind='hist', legend=False, edgecolor=(1,1,1), ax=ax[0])\n",
    "g1.set(title=\"Link distribution\")\n",
    "g1.set(ylabel='count')\n",
    "g1.set(xlabel='number of links')\n",
    "g1.tick_params(bottom=False);\n",
    "g1.spines['right'].set_visible(False)\n",
    "g1.spines['top'].set_visible(False)\n",
    "\n",
    "g2 = np.log10(links_grouped['link_count']).plot(kind='hist', legend=False, edgecolor=(1,1,1), ax=ax[1], log=True)\n",
    "g2.set(title=\"Link distribution (log-log)\")\n",
    "g2.set(ylabel='count')\n",
    "g2.set(xlabel='number of links (log-scale)')\n",
    "g2.tick_params(bottom=False);\n",
    "g2.spines['right'].set_visible(False)\n",
    "g2.spines['top'].set_visible(False)\n",
    "ax[1].text(0.85, 0.94, s='The distribution does not\\nfollow a power law', fontsize=8, transform=ax[1].transAxes, bbox=dict(boxstyle='round', facecolor=(31/255, 119/255, 180/255, 0.5), edgecolor='k'));\n"
   ]
  },
  {
   "cell_type": "markdown",
   "id": "5f5eee70-f4d5-4d94-b7fe-417c9836a28c",
   "metadata": {},
   "source": [
    "</div>\n",
    "<div class=\"2.3 Header\" style='background-color:#08135c; border-left: solid #darkblue 4px; border-radius: 4px; padding:0.7em;'>\n",
    "    <span style=\"color:white\">\n",
    "       <h3>2.3 Shortest distance matrix</h3>\n",
    "    </span>\n",
    "</div>\n",
    "</div>\n",
    "</div>\n",
    "<div class=\"1.1 explanation\" style='background-color:#faefe1; border-left: solid #darkblue 4px; border-radius: 4px; padding:0.7em;'>\n",
    "    <span style=\"color:black\">\n",
    "        Quick visualization of the short distance matrix. Vertical orange lines represent target articles that cannot be reached by any other source article. Horizontal orange lines represent source articles that are only able to reach a small fraction of other articles.\n",
    "    </span>\n",
    "</div>"
   ]
  },
  {
   "cell_type": "code",
   "execution_count": 6,
   "id": "c4966903-8c49-4ecb-9af6-6dda0e340370",
   "metadata": {},
   "outputs": [
    {
     "data": {
      "image/png": "[encoded data removed]",
      "text/plain": [
       "<Figure size 432x288 with 2 Axes>"
      ]
     },
     "metadata": {
      "needs_background": "light"
     },
     "output_type": "display_data"
    }
   ],
   "source": [
    "g = sns.heatmap(shortest_path_distance, xticklabels=False, yticklabels=False, linewidths=0, cmap='Blues');\n",
    "g.set_facecolor('#f79d6f');\n",
    "g.set(ylabel='source article');\n",
    "g.set(xlabel='target article');"
   ]
  },
  {
   "cell_type": "markdown",
   "id": "837db0dd-67eb-44b9-8439-fb5bcd4cf4ba",
   "metadata": {},
   "source": [
    "</div>\n",
    "<div class=\"3. Header\" style='background-color:#08135c; border-left: solid #darkblue 4px; border-radius: 4px; padding:0.7em;'>\n",
    "    <span style=\"color:white;\">\n",
    "       <h2>3. Navigation paths</h2>\n",
    "        <h4>We will now start to dig more into the navigation paths</h4>\n",
    "    </span>\n",
    "</div>\n",
    "</div>"
   ]
  },
  {
   "cell_type": "markdown",
   "id": "70be3e78-b0ee-4ce9-8d7a-280484e2be48",
   "metadata": {},
   "source": [
    "</div>\n",
    "<div class=\"3.1 Header\" style='background-color:#08135c; border-left: solid #darkblue 4px; border-radius: 4px; padding:0.7em;'>\n",
    "    <span style=\"color:white\">\n",
    "       <h3>3.1 Duration of navigation paths</h3>\n",
    "    </span>\n",
    "</div>\n",
    "</div>\n",
    "</div>\n",
    "<div class=\"3.1 explanation\" style='background-color:#faefe1; border-left: solid #darkblue 4px; border-radius: 4px; padding:0.7em;'>\n",
    "    <span style=\"color:black\">\n",
    "        We will investigate the differences of the time between <span style=\"font-family: monospace; background-color:#fadfb9; padding-left:4px; padding-right:4px; border-radius: 5px;\">paths_unfinished</span> (differentiation between timeout and restart) and <span style=\"font-family: monospace; background-color:#fadfb9; padding-left:4px; padding-right:4px; border-radius: 5px;\">paths_finished</span>.\n",
    "    </span>\n",
    "</div>"
   ]
  },
  {
   "cell_type": "code",
   "execution_count": 7,
   "id": "dcdb72b0-1670-41d8-9ef7-689dac68c96c",
   "metadata": {},
   "outputs": [],
   "source": [
    "#Bootstrap function\n",
    "def bootstrap_CI(data, nbr_draws, with_means = False):\n",
    "    means = np.zeros(nbr_draws)\n",
    "    data = np.array(data)\n",
    "\n",
    "    for n in range(nbr_draws):\n",
    "        indices = np.random.randint(0, len(data), len(data))\n",
    "        data_tmp = data[indices] \n",
    "        means[n] = np.nanmean(data_tmp)\n",
    "    if with_means :\n",
    "        return [np.nanpercentile(means, 2.5),np.nanpercentile(means, 97.5)], means\n",
    "    else : \n",
    "        return [np.nanpercentile(means, 2.5),np.nanpercentile(means, 97.5)]\n",
    "    "
   ]
  },
  {
   "cell_type": "markdown",
   "id": "92f7b449-e9b9-436a-9afd-f1aa2cdf3228",
   "metadata": {},
   "source": [
    "</div>\n",
    "<div class=\"3.1 explanation\" style='background-color:#faefe1; border-left: solid #darkblue 4px; border-radius: 4px; padding:0.7em;'>\n",
    "    <span style=\"color:black\">\n",
    "        Split <span style=\"font-family: monospace; background-color:#fadfb9; padding-left:4px; padding-right:4px; border-radius: 5px;\">paths_unfinished</span> in <span style=\"font-family: monospace; background-color:#fadfb9; padding-left:4px; padding-right:4px; border-radius: 5px;\">timeout</span> and <span style=\"font-family: monospace; background-color:#fadfb9; padding-left:4px; padding-right:4px; border-radius: 5px;\">restart</span>  \n",
    "    </span>\n",
    "</div>"
   ]
  },
  {
   "cell_type": "code",
   "execution_count": 8,
   "id": "0f06a875-05b3-455f-a251-00a21835644e",
   "metadata": {},
   "outputs": [
    {
     "name": "stdout",
     "output_type": "stream",
     "text": [
      "number of unfinished paths (timeout)\t: 7314\n",
      "number of unfinished paths (restart)\t: 12347\n",
      "TOTAL\t\t\t\t\t: 19661\n"
     ]
    }
   ],
   "source": [
    "#split the unfinished paths in timeout and restart\n",
    "unfinished_timeout = paths_unfinished[paths_unfinished['type'] == 'timeout']\n",
    "unfinished_restart = paths_unfinished[paths_unfinished['type'] == 'restart']\n",
    "print('number of unfinished paths (timeout)\\t: {}'.format(len(unfinished_timeout)))\n",
    "print('number of unfinished paths (restart)\\t: {}'.format(len(unfinished_restart)))\n",
    "print('TOTAL\\t\\t\\t\\t\\t: {}'.format(len(paths_unfinished)))"
   ]
  },
  {
   "cell_type": "markdown",
   "id": "74b0e5f3-d774-4bcf-8084-c7fdaaf11a7f",
   "metadata": {},
   "source": [
    "</div>\n",
    "<div class=\"3.1 explanation\" style='background-color:#faefe1; border-left: solid #darkblue 4px; border-radius: 4px; padding:0.7em;'>\n",
    "    <span style=\"color:black\">\n",
    "        Now visualize the distrubution of time spent using boxplots and histograms. It seems like finished path has a longer tail (maybe these users show more perserverance, why would that be?)\n",
    "    </span>\n",
    "</div>"
   ]
  },
  {
   "cell_type": "code",
   "execution_count": 9,
   "id": "c774043d-e443-4265-9b26-b727e04f9f68",
   "metadata": {},
   "outputs": [
    {
     "data": {
      "image/png": "[encoded data removed]",
      "text/plain": [
       "<Figure size 1008x288 with 3 Axes>"
      ]
     },
     "metadata": {
      "needs_background": "light"
     },
     "output_type": "display_data"
    }
   ],
   "source": [
    "fig = plt.figure(figsize=(14,4))\n",
    "fig.suptitle('Duration navigation paths')\n",
    "ax = plt.subplot(1,2,1)\n",
    "flierprops = {'marker': '.', 'markersize': 4, 'markerfacecolor': 'k'}\n",
    "boxprops= {'facecolor': (31/255, 119/255, 180/255, 0.5), 'color': 'k'}\n",
    "medianprops = {'color': (31/255, 119/255, 180/255)}\n",
    "ax.boxplot([unfinished_timeout['durationInSec'], unfinished_restart['durationInSec'], paths_finished['durationInSec']], patch_artist=True, flierprops=flierprops, boxprops=boxprops, medianprops=medianprops, labels=['timeout', 'restart', 'finished']);\n",
    "ax.set_yscale('log')\n",
    "ax.set_ylabel('duration (s) (log-scale)')\n",
    "ax.spines['right'].set_visible(False)\n",
    "ax.spines['top'].set_visible(False)\n",
    "\n",
    "\n",
    "ax = plt.subplot(2,2,4)\n",
    "paths_finished.plot(y='durationInSec', kind='hist', legend=False, edgecolor=(0,0,0, 0.5), bins=40, ax=ax, log=True, color=(235/255, 184/255, 164/255, 0.5), label=\"finished\")\n",
    "ax.legend();\n",
    "ax.set_xlabel('duration (s)')\n",
    "xlim = ax.get_xlim();\n",
    "\n",
    "ax = plt.subplot(2,2,2)\n",
    "unfinished_timeout.plot(y='durationInSec', kind='hist', legend=False, edgecolor=(0,0,0, 0.5), ax=ax, log=True, color=(31/255, 119/255, 180/255, 0.5), label=\"timeout\")\n",
    "unfinished_restart.plot(y='durationInSec', kind='hist', legend=False, edgecolor=(0,0,0, 0.5), ax=ax, log=True, color=(120/255, 194/255, 139/255, 0.5), label=\"restart\")\n",
    "ax.legend();\n",
    "ax.set_xlim(xlim);"
   ]
  },
  {
   "cell_type": "markdown",
   "id": "61b02447-23c0-4646-b02b-fbf4cdec2213",
   "metadata": {},
   "source": [
    "</div>\n",
    "<div class=\"3.1 explanation\" style='background-color:#faefe1; border-left: solid #darkblue 4px; border-radius: 4px; padding:0.7em;'>\n",
    "    <span style=\"color:black\">\n",
    "        Let's zoom in now on the <span style=\"font-family: monospace; background-color:#fadfb9; padding-left:4px; padding-right:4px; border-radius: 5px;\">timeout</span>. We hypothesize that a player's idle period is included in the time that is spend. Hence we want to remove this from our data. As we are only interesting in activate attempts, we want to cut outliers and subtract the potential idle period for <span style=\"font-family: monospace; background-color:#fadfb9; padding-left:4px; padding-right:4px; border-radius: 5px;\">timeout</span>. In the code below we first get rid of the outliers.\n",
    "    </span>\n",
    "</div>"
   ]
  },
  {
   "cell_type": "code",
   "execution_count": 10,
   "id": "eef4b4e7-6182-47d7-90d1-684c6da5057f",
   "metadata": {},
   "outputs": [],
   "source": [
    "# Cutting outliers\n",
    "range_outlier = 1.5\n",
    "Q1 = unfinished_timeout['durationInSec'].quantile(0.25)\n",
    "Q3 = unfinished_timeout['durationInSec'].quantile(0.75)\n",
    "IQR = Q3 - Q1\n",
    "lower_value = unfinished_timeout['durationInSec'].median() - IQR*range_outlier\n",
    "upper_value = unfinished_timeout['durationInSec'].median() + IQR*range_outlier\n",
    "\n",
    "\n",
    "unfinished_timeout_cut = unfinished_timeout[unfinished_timeout['durationInSec']>=lower_value]\n",
    "unfinished_timeout_cut = unfinished_timeout_cut[unfinished_timeout_cut['durationInSec']<=upper_value]\n"
   ]
  },
  {
   "cell_type": "markdown",
   "id": "98a3ebb1-1549-478c-993b-4109715928c6",
   "metadata": {},
   "source": [
    "</div>\n",
    "<div class=\"3.1 explanation\" style='background-color:#faefe1; border-left: solid #darkblue 4px; border-radius: 4px; padding:0.7em;'>\n",
    "    <span style=\"color:black\">\n",
    "        We can make a guess of the duration of the idle period by substracting the minimum duration of the unfinished paths that resulted in <span style=\"font-family: monospace; background-color:#fadfb9; padding-left:4px; padding-right:4px; border-radius: 5px;\">timeout</span>.\n",
    "    </span>\n",
    "</div>"
   ]
  },
  {
   "cell_type": "code",
   "execution_count": 11,
   "id": "b304b9ec-03b7-40a8-9ff1-bab43b50c59d",
   "metadata": {},
   "outputs": [],
   "source": [
    "#change values of timeout by the minimum timestamp\n",
    "unfinished_timeout_cut['durationInSec'] = unfinished_timeout_cut['durationInSec']-unfinished_timeout_cut['durationInSec'].min()"
   ]
  },
  {
   "cell_type": "code",
   "execution_count": 12,
   "id": "d82d9019-9d78-4b4b-a103-6375102028b1",
   "metadata": {},
   "outputs": [],
   "source": [
    "colors = [('black', 'gray'), ('blue', 'cornflowerblue'), ('red', 'lightcoral'), ('darkorange', 'bisque'), ('lawngreen','palegreen'), ('cyan','paleturquoise'), ('violet', 'thistle')]\n",
    "ci_finished, stats_finished = bootstrap_CI(paths_finished['durationInSec'], 10000, True)\n",
    "ci_notfiniti, stats_notfiniti = bootstrap_CI(unfinished_timeout_cut['durationInSec'], 10000, True)\n",
    "ci_notfinires, stats_notfinires = bootstrap_CI(unfinished_restart['durationInSec'], 10000, True)\n"
   ]
  },
  {
   "cell_type": "code",
   "execution_count": 13,
   "id": "80c1e824-11e2-487d-af2c-164c5c3eb1b2",
   "metadata": {},
   "outputs": [
    {
     "data": {
      "image/png": "[encoded data removed]",
      "text/plain": [
       "<Figure size 720x360 with 1 Axes>"
      ]
     },
     "metadata": {
      "needs_background": "light"
     },
     "output_type": "display_data"
    }
   ],
   "source": [
    "plt.figure(figsize=(10,5))\n",
    "plt.hist(stats_finished, bins=40, edgecolor = 'k', color=colors[0][1],alpha = 0.6, label = 'finished paths timestamp')\n",
    "plt.vlines(ci_finished, 0,900, ls='--', color=colors[0][0], linewidth=2, label = '95% CI for finished paths timestamp')\n",
    "plt.hist(stats_notfinires, bins=40, edgecolor = 'k', color=colors[1][1],alpha = 0.6, label = 'unfinished paths (restart)')\n",
    "plt.vlines(ci_notfinires, 0,900, ls='--', color=colors[1][0], linewidth=2, label = '95% CI for unfinished paths (restart)')\n",
    "plt.hist(stats_notfiniti, bins=40, edgecolor = 'k', color=colors[2][1],alpha = 0.6, label = 'unfinished paths (timeout)')\n",
    "plt.vlines(ci_notfiniti, 0,900, ls='--', color=colors[2][0], linewidth=2, label = '95% CI for unfinished paths (timeout)')\n",
    "plt.title('Mean time of finished and unfinished paths with restart/timeout')\n",
    "plt.xlabel('duration (s)')\n",
    "plt.ylabel('Frequency')\n",
    "plt.legend(loc=(1.02, 0.65));"
   ]
  },
  {
   "cell_type": "markdown",
   "id": "daa9c8d1-e0c6-4436-9bcf-6d9f3d17bd0a",
   "metadata": {},
   "source": [
    "</div>\n",
    "<div class=\"3.1 explanation\" style='background-color:#faefe1; border-left: solid #darkblue 4px; border-radius: 4px; padding:0.7em;'>\n",
    "    <span style=\"color:black\">\n",
    "        We observe that the means are (significantly) different. However, looking at the median values (see boxplots) we do not observe the same trend. Maybe the mean is not a valid metric, especially since the distributions seem to be relatively heavy tailed. Maybe a log-log plot could improve on this.\n",
    "    </span>\n",
    "</div>"
   ]
  },
  {
   "cell_type": "markdown",
   "id": "f0abccd1-8085-4c5d-a7cc-5b47f0fb81e6",
   "metadata": {},
   "source": [
    "</div>\n",
    "<div class=\"3.1 Header\" style='background-color:#08135c; border-left: solid #darkblue 4px; border-radius: 4px; padding:0.7em;'>\n",
    "    <span style=\"color:white\">\n",
    "       <h3>3.2 Length of navigation paths</h3>\n",
    "    </span>\n",
    "</div>\n",
    "</div>\n",
    "</div>\n",
    "<div class=\"3.1 explanation\" style='background-color:#faefe1; border-left: solid #darkblue 4px; border-radius: 4px; padding:0.7em;'>\n",
    "    <span style=\"color:black\">\n",
    "        We will investigate the differences of the length between <span style=\"font-family: monospace; background-color:#fadfb9; padding-left:4px; padding-right:4px; border-radius: 5px;\">paths_unfinished</span> (differentiation between timeout and restart) and <span style=\"font-family: monospace; background-color:#fadfb9; padding-left:4px; padding-right:4px; border-radius: 5px;\">paths_finished</span>.\n",
    "    </span>\n",
    "</div>"
   ]
  },
  {
   "cell_type": "markdown",
   "id": "70934cc9-0f6b-467b-9d7e-fefcef7a03c8",
   "metadata": {},
   "source": [
    "</div>\n",
    "<div class=\"3.1 explanation\" style='background-color:#faefe1; border-left: solid #darkblue 4px; border-radius: 4px; padding:0.7em;'>\n",
    "    <span style=\"color:black\">\n",
    "        Similar approach to visualizing the time of the navigation paths. However now focusing on path length. Most striking observation is that <span style=\"font-family: monospace; background-color:#fadfb9; padding-left:4px; padding-right:4px; border-radius: 5px;\">timeout</span> has a longer tail than <span style=\"font-family: monospace; background-color:#fadfb9; padding-left:4px; padding-right:4px; border-radius: 5px;\">restart</span>\n",
    "    </span>\n",
    "</div>"
   ]
  },
  {
   "cell_type": "code",
   "execution_count": 14,
   "id": "2e7c7189-db92-4566-882d-9b7784c2a2f4",
   "metadata": {},
   "outputs": [
    {
     "data": {
      "image/png": "[encoded data removed]",
      "text/plain": [
       "<Figure size 1008x288 with 3 Axes>"
      ]
     },
     "metadata": {
      "needs_background": "light"
     },
     "output_type": "display_data"
    }
   ],
   "source": [
    "fig = plt.figure(figsize=(14,4))\n",
    "fig.suptitle('Length of navigation paths')\n",
    "ax = plt.subplot(1,2,1)\n",
    "flierprops = {'marker': '.', 'markersize': 4, 'markerfacecolor': 'k'}\n",
    "boxprops= {'facecolor': (31/255, 119/255, 180/255, 0.5), 'color': 'k'}\n",
    "medianprops = {'color': (31/255, 119/255, 180/255)}\n",
    "ax.boxplot([unfinished_timeout['pathLength'], unfinished_restart['pathLength'], paths_finished['pathLength']], patch_artist=True, flierprops=flierprops, boxprops=boxprops, medianprops=medianprops, labels=['timeout', 'restart', 'finished']);\n",
    "ax.set_yscale('log')\n",
    "ax.set_ylabel('length of navigation path (log-scale)')\n",
    "ax.spines['right'].set_visible(False)\n",
    "ax.spines['top'].set_visible(False)\n",
    "\n",
    "\n",
    "ax = plt.subplot(2,2,4)\n",
    "paths_finished.plot(y='pathLength', kind='hist', legend=False, edgecolor=(0,0,0, 0.5), bins=40, ax=ax, log=True, color=(235/255, 184/255, 164/255, 0.5), label=\"finished\")\n",
    "ax.legend();\n",
    "ax.set_xlabel('length of navigation path')\n",
    "xlim = ax.get_xlim();\n",
    "\n",
    "ax = plt.subplot(2,2,2)\n",
    "unfinished_timeout.plot(y='pathLength', kind='hist', legend=False, edgecolor=(0,0,0, 0.5), ax=ax, log=True, color=(31/255, 119/255, 180/255, 0.5), label=\"timeout\")\n",
    "unfinished_restart.plot(y='pathLength', kind='hist', legend=False, edgecolor=(0,0,0, 0.5), ax=ax, log=True, color=(120/255, 194/255, 139/255, 0.5), label=\"restart\")\n",
    "ax.legend();\n",
    "ax.set_xlim(xlim);"
   ]
  },
  {
   "cell_type": "markdown",
   "id": "f4367960-ee00-4928-bdd1-b0da7d5ee117",
   "metadata": {},
   "source": [
    "</div>\n",
    "<div class=\"1.1 explanation\" style='background-color:#faefe1; border-left: solid #darkblue 4px; border-radius: 4px; padding:0.7em;'>\n",
    "    <span style=\"color:black\">\n",
    "        We will now conduct a bootstrap algorithm to find the (mean) differences of the pathlength between <span style=\"font-family: monospace; background-color:#fadfb9; padding-left:4px; padding-right:4px; border-radius: 5px;\">paths_unfinished</span> and <span style=\"font-family: monospace; background-color:#fadfb9; padding-left:4px; padding-right:4px; border-radius: 5px;\">paths_finished</span>\n",
    "    </span>\n",
    "</div>"
   ]
  },
  {
   "cell_type": "code",
   "execution_count": 15,
   "id": "9e710700-94ef-4e11-b744-70db2d49792b",
   "metadata": {},
   "outputs": [],
   "source": [
    "ci_finished, stats_finished = bootstrap_CI(paths_finished['pathLength'], 10000, True)\n",
    "ci_notfiniti, stats_notfiniti = bootstrap_CI(unfinished_timeout['pathLength'], 10000, True)\n",
    "ci_notfinires, stats_notfinires = bootstrap_CI(unfinished_restart['pathLength'], 10000, True)"
   ]
  },
  {
   "cell_type": "code",
   "execution_count": 16,
   "id": "acb0acbd-5e21-4ec2-9081-c0c9c6aa1ab6",
   "metadata": {
    "tags": []
   },
   "outputs": [
    {
     "data": {
      "image/png": "[encoded data removed]",
      "text/plain": [
       "<Figure size 720x360 with 1 Axes>"
      ]
     },
     "metadata": {
      "needs_background": "light"
     },
     "output_type": "display_data"
    }
   ],
   "source": [
    "colors = [('black', 'gray'), ('blue', 'cornflowerblue'), ('red', 'lightcoral'), ('darkorange', 'bisque'), ('lawngreen','palegreen'), ('cyan','paleturquoise'), ('violet', 'thistle')]\n",
    "\n",
    "plt.figure(figsize=(10,5))\n",
    "plt.hist(stats_finished, bins=40, edgecolor = 'k', color=colors[0][1],alpha = 0.6, label = 'finished paths timestamp')\n",
    "plt.vlines(ci_finished, 0,900, ls='--', color=colors[0][0], linewidth=2, label = '95% CI for finished paths timestamp')\n",
    "plt.hist(stats_notfinires, bins=40, edgecolor = 'k', color=colors[1][1],alpha = 0.6, label = 'unfinished paths restart')\n",
    "plt.vlines(ci_notfinires, 0,900, ls='--', color=colors[1][0], linewidth=2, label = '95% CI for unfinished paths restart')\n",
    "plt.hist(stats_notfiniti, bins=40, edgecolor = 'k', color=colors[2][1],alpha = 0.6, label = 'unfinished paths timeout')\n",
    "plt.vlines(ci_notfiniti, 0,900, ls='--', color=colors[2][0], linewidth=2, label = '95% CI for unfinished paths timeout')\n",
    "plt.title('Mean path length in finished and unfinished paths with restart/timeout')\n",
    "plt.xlabel('path length')\n",
    "plt.ylabel('Number of apparence')\n",
    "plt.legend(loc=(1.02, 0.65));"
   ]
  },
  {
   "cell_type": "markdown",
   "id": "43dc9b5c-3d03-4927-a6a9-851677bc85ca",
   "metadata": {},
   "source": [
    "</div>\n",
    "<div class=\"3.1 explanation\" style='background-color:#faefe1; border-left: solid #darkblue 4px; border-radius: 4px; padding:0.7em;'>\n",
    "    <span style=\"color:black\">\n",
    "        Similar to the duration, we again observe that the means are (significantly) different. And looking at the median values (see boxplots) we do not observe the same trend. Perhaps same argument holds here concerning heavy-tailed distribution.\n",
    "    </span>\n",
    "</div>"
   ]
  },
  {
   "cell_type": "markdown",
   "id": "27c4a28f-a6b2-4c13-abff-5217ad3f325f",
   "metadata": {},
   "source": [
    "</div>\n",
    "<div class=\"3.1 Header\" style='background-color:#08135c; border-left: solid #darkblue 4px; border-radius: 4px; padding:0.7em;'>\n",
    "    <span style=\"color:white\">\n",
    "       <h3>3.3 Regression</h3>\n",
    "    </span>\n",
    "</div>\n",
    "</div>\n",
    "</div>\n",
    "<div class=\"3.1 explanation\" style='background-color:#faefe1; border-left: solid #darkblue 4px; border-radius: 4px; padding:0.7em;'>\n",
    "    <span style=\"color:black\">\n",
    "        Here we will investigate if we can do a (logistic) regression to predict <span style=\"font-family: monospace; background-color:#fadfb9; padding-left:4px; padding-right:4px; border-radius: 5px;\">paths_finished</span> vs <span style=\"font-family: monospace; background-color:#fadfb9; padding-left:4px; padding-right:4px; border-radius: 5px;\">paths_unfinished</span> based on the variables <span style=\"font-family: monospace; background-color:#fadfb9; padding-left:4px; padding-right:4px; border-radius: 5px;\">durationInSec</span> and <span style=\"font-family: monospace; background-color:#fadfb9; padding-left:4px; padding-right:4px; border-radius: 5px;\">pathLength</span> only. The same will be conducted for <span style=\"font-family: monospace; background-color:#fadfb9; padding-left:4px; padding-right:4px; border-radius: 5px;\">timeout</span> vs <span style=\"font-family: monospace; background-color:#fadfb9; padding-left:4px; padding-right:4px; border-radius: 5px;\">restart.</span>\n",
    "    </span>\n",
    "</div>"
   ]
  },
  {
   "cell_type": "markdown",
   "id": "633c0d18-d41f-4096-b88e-35d2c06d6048",
   "metadata": {},
   "source": [
    "</div>\n",
    "<div class=\"3.1 explanation\" style='background-color:#faefe1; border-left: solid #darkblue 4px; border-radius: 4px; padding:0.7em;'>\n",
    "    <span style=\"color:black\">\n",
    "    Let's first see if we can find correlations between time spent and path length. Intuitively it should be positively correlated. We find that the correlations are not too convincing (especially for finished paths). This is partly because many relatively small paths take for some reason relatively long (perhaps a player was stuck for a long period of time).\n",
    "    </span>\n",
    "</div>"
   ]
  },
  {
   "cell_type": "code",
   "execution_count": 17,
   "id": "322e8db2-b34d-458f-91ee-890036d47a9b",
   "metadata": {},
   "outputs": [
    {
     "data": {
      "image/png": "[encoded data removed]",
      "text/plain": [
       "<Figure size 1008x288 with 3 Axes>"
      ]
     },
     "metadata": {
      "needs_background": "light"
     },
     "output_type": "display_data"
    }
   ],
   "source": [
    "fig, ax = plt.subplots(1,3, figsize=(14,4))\n",
    "ax = ax.ravel()\n",
    "\n",
    "st, p = stats.pearsonr(unfinished_timeout['durationInSec'], unfinished_timeout['pathLength'])\n",
    "sns.regplot(x='durationInSec',y='pathLength', data=unfinished_timeout, ax=ax[0], color=(31/255, 119/255, 180/255, 0.5)).set(title='timeout');\n",
    "ax[0].text(0.75, 1.05, s='psnr : {:.2f}\\np-value : {:.2f}'.format(st, p), fontsize=8, transform=ax[0].transAxes, bbox=dict(boxstyle='round', facecolor=(31/255, 119/255, 180/255, 0.5), edgecolor='k'));\n",
    "\n",
    "st, p = stats.pearsonr(unfinished_restart['durationInSec'], unfinished_restart['pathLength'])\n",
    "sns.regplot(x='durationInSec',y='pathLength', data=unfinished_restart, ax=ax[1], color=(120/255, 194/255, 139/255, 0.5)).set(title='restart');\n",
    "ax[1].text(0.75, 1.05, s='psnr : {:.2f}\\np-value : {:.2f}'.format(st, p), fontsize=8, transform=ax[1].transAxes, bbox=dict(boxstyle='round', facecolor=(120/255, 194/255, 139/255, 0.5), edgecolor='k'));\n",
    "\n",
    "st, p = stats.pearsonr(paths_finished['durationInSec'], paths_finished['pathLength'])\n",
    "sns.regplot(x='durationInSec',y='pathLength', data=paths_finished, ax=ax[2], color=(235/255, 184/255, 164/255, 0.5)).set(title='finished');\n",
    "ax[2].text(0.75, 1.05, s='psnr : {:.2f}\\np-value : {:.2f}'.format(st, p), fontsize=8, transform=ax[2].transAxes, bbox=dict(boxstyle='round', facecolor=(235/255, 184/255, 164/255, 0.5), edgecolor='k'));\n"
   ]
  },
  {
   "cell_type": "markdown",
   "id": "cd3ab542-eb99-4b66-a2e8-eb2a9f8c9124",
   "metadata": {},
   "source": [
    "</div>\n",
    "<div class=\"1.1 explanation\" style='background-color:#faefe1; border-left: solid #darkblue 4px; border-radius: 4px; padding:0.7em;'>\n",
    "    <span style=\"color:black\">\n",
    "        Simple logistic regression to predict if the player give up or will restart by only <span style=\"font-family: monospace; background-color:#fadfb9; padding-left:4px; padding-right:4px; border-radius: 5px;\">durationInSec</span> and <span style=\"font-family: monospace; background-color:#fadfb9; padding-left:4px; padding-right:4px; border-radius: 5px;\">pathLength</span> into account.\n",
    "    </span>\n",
    "</div>"
   ]
  },
  {
   "cell_type": "code",
   "execution_count": 18,
   "id": "4af5911b-2c54-4859-861b-3c5204100a06",
   "metadata": {},
   "outputs": [],
   "source": [
    "#import of lybraries\n",
    "import statsmodels.api as sm\n",
    "import statsmodels.formula.api as smf"
   ]
  },
  {
   "cell_type": "code",
   "execution_count": 19,
   "id": "3a4079b4-186c-4f45-9400-ad87f4578bb3",
   "metadata": {},
   "outputs": [],
   "source": [
    "#prepare the data\n",
    "reg_unfinished_tim = unfinished_timeout.copy()\n",
    "reg_unfinished_res = unfinished_restart.copy()\n",
    "reg_unfinished_tim['y'] = 1\n",
    "reg_unfinished_res['y'] = 0\n",
    "regression_data = pd.concat([reg_unfinished_tim,reg_unfinished_res])\n",
    "regression_data_X = regression_data[['pathLength','durationInSec']]\n",
    "regression_data_y = regression_data[['y']]"
   ]
  },
  {
   "cell_type": "code",
   "execution_count": 20,
   "id": "76007f8d-f659-4135-ba2a-3ea38a5c7482",
   "metadata": {},
   "outputs": [],
   "source": [
    "\"\"\"#standardization of the values:\n",
    "means = np.mean(regression_data_X,axis = 0)\n",
    "stds = np.std(regression_data_X,axis = 0)\n",
    "regression_data_X = (regression_data_X - means)/stds\n",
    "regression_data_X['y']= regression_data_y\n",
    "df_all = regression_data_X \"\"\"\n",
    "\n",
    "#log-transform of values:\n",
    "regression_data_X = np.log(regression_data_X)\n",
    "regression_data_X['y']= regression_data_y\n",
    "regression_data_X.replace([np.inf, -np.inf], np.nan, inplace=True)\n",
    "regression_data_X.dropna(axis=1)\n",
    "df_all = regression_data_X"
   ]
  },
  {
   "cell_type": "code",
   "execution_count": 21,
   "id": "76d1a130-6c6f-48c9-98aa-bddda5a6acc7",
   "metadata": {},
   "outputs": [
    {
     "name": "stdout",
     "output_type": "stream",
     "text": [
      "Optimization terminated successfully.\n",
      "         Current function value: 0.013065\n",
      "         Iterations 16\n",
      "                           Logit Regression Results                           \n",
      "==============================================================================\n",
      "Dep. Variable:                      y   No. Observations:                19661\n",
      "Model:                          Logit   Df Residuals:                    19658\n",
      "Method:                           MLE   Df Model:                            2\n",
      "Date:                Fri, 23 Dec 2022   Pseudo R-squ.:                  0.9802\n",
      "Time:                        18:09:56   Log-Likelihood:                -256.87\n",
      "converged:                       True   LL-Null:                       -12977.\n",
      "Covariance Type:            nonrobust   LLR p-value:                     0.000\n",
      "=================================================================================\n",
      "                    coef    std err          z      P>|z|      [0.025      0.975]\n",
      "---------------------------------------------------------------------------------\n",
      "Intercept      -175.8737     13.904    -12.649      0.000    -203.126    -148.622\n",
      "pathLength       -2.9124      0.222    -13.100      0.000      -3.348      -2.477\n",
      "durationInSec    24.6143      1.870     13.160      0.000      20.948      28.280\n",
      "=================================================================================\n",
      "\n",
      "Possibly complete quasi-separation: A fraction 0.64 of observations can be\n",
      "perfectly predicted. This might indicate that there is complete\n",
      "quasi-separation. In this case some parameters will not be identified.\n"
     ]
    }
   ],
   "source": [
    "formula2 = 'y ~ pathLength + durationInSec'\n",
    "mod = smf.logit(formula=formula2, data=df_all)\n",
    "np.random.seed(2)\n",
    "res = mod.fit()\n",
    "print(res.summary())"
   ]
  },
  {
   "cell_type": "markdown",
   "id": "246298d5-5a99-4457-931e-b06fe1e6d18b",
   "metadata": {},
   "source": [
    "</div>\n",
    "<div class=\"1.1 explanation\" style='background-color:#faefe1; border-left: solid #darkblue 4px; border-radius: 4px; padding:0.7em;'>\n",
    "    <span style=\"color:black\">\n",
    "        Simple logistic regression to predict if the player will finish or restart by only taking <span style=\"font-family: monospace; background-color:#fadfb9; padding-left:4px; padding-right:4px; border-radius: 5px;\">durationInSec</span> and <span style=\"font-family: monospace; background-color:#fadfb9; padding-left:4px; padding-right:4px; border-radius: 5px;\">pathLength</span> into account.\n",
    "    </span>\n",
    "</div>"
   ]
  },
  {
   "cell_type": "code",
   "execution_count": 22,
   "id": "05ed6890-d30a-48dc-9e04-18afb7609469",
   "metadata": {},
   "outputs": [],
   "source": [
    "#prepare the data\n",
    "reg_unfinished_res = unfinished_restart.copy()\n",
    "reg_unfinished_res['y'] = 0\n",
    "paths_finished['y'] = 1\n",
    "regression_data2 = pd.concat([paths_finished,reg_unfinished_res])\n",
    "regression_data_X = regression_data2[['pathLength','durationInSec']]\n",
    "regression_data_y = regression_data2[['y']]"
   ]
  },
  {
   "cell_type": "code",
   "execution_count": 23,
   "id": "744a3980-a998-4566-b1a8-39bb1a3848a1",
   "metadata": {},
   "outputs": [],
   "source": [
    "#log transform \n",
    "regression_data_X = np.log(regression_data_X)\n",
    "regression_data_X['y']= regression_data_y\n",
    "regression_data_X.replace([np.inf, -np.inf], np.nan, inplace=True)\n",
    "regression_data_X.dropna(axis=1)\n",
    "df_all = regression_data_X"
   ]
  },
  {
   "cell_type": "code",
   "execution_count": 24,
   "id": "5226200d-841d-457d-9def-b075ffd65d41",
   "metadata": {},
   "outputs": [
    {
     "name": "stdout",
     "output_type": "stream",
     "text": [
      "Optimization terminated successfully.\n",
      "         Current function value: 0.435429\n",
      "         Iterations 6\n",
      "                           Logit Regression Results                           \n",
      "==============================================================================\n",
      "Dep. Variable:                      y   No. Observations:                63654\n",
      "Model:                          Logit   Df Residuals:                    63651\n",
      "Method:                           MLE   Df Model:                            2\n",
      "Date:                Fri, 23 Dec 2022   Pseudo R-squ.:                  0.1149\n",
      "Time:                        18:09:59   Log-Likelihood:                -27717.\n",
      "converged:                       True   LL-Null:                       -31313.\n",
      "Covariance Type:            nonrobust   LLR p-value:                     0.000\n",
      "=================================================================================\n",
      "                    coef    std err          z      P>|z|      [0.025      0.975]\n",
      "---------------------------------------------------------------------------------\n",
      "Intercept         3.5526      0.064     55.126      0.000       3.426       3.679\n",
      "pathLength        2.1324      0.031     69.737      0.000       2.072       2.192\n",
      "durationInSec    -1.2062      0.017    -70.021      0.000      -1.240      -1.172\n",
      "=================================================================================\n"
     ]
    }
   ],
   "source": [
    "formula2 = 'y ~ pathLength + durationInSec'\n",
    "mod = smf.logit(formula=formula2, data=df_all)\n",
    "np.random.seed(2)\n",
    "res = mod.fit()\n",
    "print(res.summary())"
   ]
  },
  {
   "cell_type": "markdown",
   "id": "66d72413-7166-43f3-8963-8be926be31a4",
   "metadata": {},
   "source": [
    "</div>\n",
    "<div class=\"3.1 explanation\" style='background-color:#faefe1; border-left: solid #darkblue 4px; border-radius: 4px; padding:0.7em;'>\n",
    "    <span style=\"color:black\">\n",
    "    Overall we did not see a good prediction. This can be explained by our previous results that also did not provide convincing support for both <span style=\"font-family: monospace; background-color:#fadfb9; padding-left:4px; padding-right:4px; border-radius: 5px;\">durationInSec</span> and <span style=\"font-family: monospace; background-color:#fadfb9; padding-left:4px; padding-right:4px; border-radius: 5px;\">pathLength</span> to be good regressors. Perhaps if we transform the logistic regression differently (log-log) we might get better results. Otherwise it might be better to focus on other features.\n",
    "    </span>\n",
    "</div>"
   ]
  },
  {
   "cell_type": "markdown",
   "id": "bc0566ea-4044-4c89-8402-795619ae6dde",
   "metadata": {},
   "source": [
    "</div>\n",
    "<div class=\"1.2 Header\" style='background-color:#08135c; border-left: solid #darkblue 4px; border-radius: 4px; padding:0.7em;'>\n",
    "    <span style=\"color:white\">\n",
    "       <h3>3.4 Build graphs</h3>\n",
    "    </span>\n",
    "</div>\n",
    "</div>\n",
    "<div class=\"1.1 explanation\" style='background-color:#faefe1; border-left: solid #darkblue 4px; border-radius: 4px; padding:0.7em;'>\n",
    "    <span style=\"color:black\">\n",
    "        In this section the goal is to get a better understanding of paths people took and the paths provided from Wikipedia. Like that, the people's behaviour as well as the possibilites for a player can be analyzed in a more accurate way. For that reason two different graphs (i.e., <span style=\"font-family: monospace; background-color:#fadfb9; padding-left:4px; padding-right:4px; border-radius: 5px;\">G_paths</span> $\\rightarrow$ player navigations, <span style=\"font-family: monospace; background-color:#fadfb9; padding-left:4px; padding-right:4px; border-radius: 5px;\">G_link</span> $\\rightarrow$ machine/link based) are built. Hence, the first one is build based on the links that exists in Wikipedia. It's called ideal graph or Machine's graph in the next parts. The second one is a graph created from the paths taken by the player. This second graph has weighted edges that corresponds to the number of time the player took this path.\n",
    "</div>"
   ]
  },
  {
   "cell_type": "code",
   "execution_count": 25,
   "id": "733c00c9-9047-496a-bb43-5050ed580f1a",
   "metadata": {},
   "outputs": [
    {
     "data": {
      "text/html": [
       "<div>\n",
       "<style scoped>\n",
       "    .dataframe tbody tr th:only-of-type {\n",
       "        vertical-align: middle;\n",
       "    }\n",
       "\n",
       "    .dataframe tbody tr th {\n",
       "        vertical-align: top;\n",
       "    }\n",
       "\n",
       "    .dataframe thead th {\n",
       "        text-align: right;\n",
       "    }\n",
       "</style>\n",
       "<table border=\"1\" class=\"dataframe\">\n",
       "  <thead>\n",
       "    <tr style=\"text-align: right;\">\n",
       "      <th></th>\n",
       "      <th>start_edge</th>\n",
       "      <th>end_edge</th>\n",
       "      <th>weight</th>\n",
       "    </tr>\n",
       "  </thead>\n",
       "  <tbody>\n",
       "    <tr>\n",
       "      <th>0</th>\n",
       "      <td>10th_century</td>\n",
       "      <td>11th_century</td>\n",
       "      <td>21</td>\n",
       "    </tr>\n",
       "    <tr>\n",
       "      <th>1</th>\n",
       "      <td>10th_century</td>\n",
       "      <td>20th_century</td>\n",
       "      <td>1</td>\n",
       "    </tr>\n",
       "    <tr>\n",
       "      <th>2</th>\n",
       "      <td>10th_century</td>\n",
       "      <td>9th_century</td>\n",
       "      <td>33</td>\n",
       "    </tr>\n",
       "    <tr>\n",
       "      <th>3</th>\n",
       "      <td>10th_century</td>\n",
       "      <td>Algeria</td>\n",
       "      <td>2</td>\n",
       "    </tr>\n",
       "    <tr>\n",
       "      <th>4</th>\n",
       "      <td>10th_century</td>\n",
       "      <td>Bede</td>\n",
       "      <td>1</td>\n",
       "    </tr>\n",
       "  </tbody>\n",
       "</table>\n",
       "</div>"
      ],
      "text/plain": [
       "     start_edge      end_edge  weight\n",
       "0  10th_century  11th_century      21\n",
       "1  10th_century  20th_century       1\n",
       "2  10th_century   9th_century      33\n",
       "3  10th_century       Algeria       2\n",
       "4  10th_century          Bede       1"
      ]
     },
     "execution_count": 25,
     "metadata": {},
     "output_type": "execute_result"
    }
   ],
   "source": [
    "paths_all.insert(0, 'path_id',  paths_all.index)\n",
    "paths = paths_all[['path_id', 'path']].copy()\n",
    "paths = paths.explode('path').reset_index().rename(columns={'path': 'page', 'index' : 'page_index_in_path'})\n",
    "paths['page_index_in_path'] = paths.groupby('page_index_in_path').cumcount()\n",
    "paths.head()\n",
    "\n",
    "#Need to handle >\n",
    "start_edges = paths_all[['path_id', 'path']].copy()\n",
    "start_edges.loc[:,'path'] = start_edges['path'].apply(lambda x : str(x).split(';')[:-1])\n",
    "start_edges = start_edges.explode('path').reset_index().rename(columns={'path': 'start_edge', 'index' : 'page_index_in_path'})\n",
    "\n",
    "end_edges =  paths_all[['path_id', 'path']].copy()\n",
    "end_edges.loc[:,'path'] = end_edges['path'].apply(lambda x : str(x).split(';')[1:])\n",
    "end_edges = end_edges.explode('path').reset_index().rename(columns={'path': 'end_edge', 'index' : 'page_index_in_path'})\n",
    "\n",
    "edges = pd.concat([start_edges.start_edge, end_edges.end_edge],axis = 1)\n",
    "\n",
    "#Handle the '<' b dropping when the end edge is '<' and taking the previous start_edge when the start_edge is '<'\n",
    "edges = edges.drop(edges[edges.end_edge == '<'].index)\n",
    "while len(edges[(edges.start_edge == '<') ]) > 0 :\n",
    "    edges['start_edge'] = np.where(edges['start_edge'] == '<', edges['start_edge'].shift(1), edges['start_edge'])\n",
    "    \n",
    "#Group the same edge and give the weight \n",
    "edges = edges.groupby(['start_edge', 'end_edge']).agg(len).reset_index().rename(columns  = {0 : 'weight'})\n",
    "edges.head()"
   ]
  },
  {
   "cell_type": "code",
   "execution_count": 26,
   "id": "1ed9a7d6-88c4-4efb-baa3-04d2b80a724f",
   "metadata": {},
   "outputs": [],
   "source": [
    "G_paths = nx.from_pandas_edgelist(edges, 'start_edge', 'end_edge', 'weight', create_using = nx.DiGraph)\n",
    "G_links = nx.from_pandas_edgelist(links, 'article', 'link', create_using = nx.DiGraph)"
   ]
  },
  {
   "cell_type": "markdown",
   "id": "4855cb27",
   "metadata": {},
   "source": [
    "</div>\n",
    "<div class=\"1.1 explanation\" style='background-color:#faefe1; border-left: solid #darkblue 4px; border-radius: 4px; padding:0.7em;'>\n",
    "    <span style=\"color:black\">\n",
    "        In the following parts some insights on the graphs are given and differences can be observed. For example the shortest path in one of them can be very different from the one build by the other graph. From the players graph it can also be seen how the nodes connect to each other and with the helps of the weighted edges the biggest hubs can be shown. \n",
    "    </span>\n",
    "</div>"
   ]
  },
  {
   "cell_type": "code",
   "execution_count": 27,
   "id": "07cf20cb",
   "metadata": {},
   "outputs": [
    {
     "name": "stdout",
     "output_type": "stream",
     "text": [
      "Shortest path in the graph generated from the paths between African_slave_trade and Tennis\n",
      "['African_slave_trade', 'United_Kingdom', 'Tennis']\n",
      "\n",
      "Shortest path in the graph generated from the links between African_slave_trade and Tennis\n",
      "['African_slave_trade', 'Brazil', 'Tennis']\n",
      "\n",
      "The best neighbor of African_slave_trade : \n",
      "[('United_States', 4), ('18th_century', 2), ('Law', 2), ('Scramble_for_Africa', 2), ('Sudan', 2)]\n",
      "\n",
      "The 10 biggest hubs in the player navigation network are :\n",
      "start_edge\n",
      "United_States     12518\n",
      "Europe             5557\n",
      "United_Kingdom     5172\n",
      "England            4306\n",
      "Earth              4156\n",
      "Africa             3619\n",
      "World_War_II       2795\n",
      "North_America      2409\n",
      "Human              2341\n",
      "Brain              2301\n",
      "Name: weight, dtype: int64\n"
     ]
    }
   ],
   "source": [
    "def best_neighbor_of(page):\n",
    "    neighbors = [(a, b['weight']) for a,b in dict(G_paths[page]).items()]\n",
    "    neighbors.sort(key= lambda x : x[1], reverse = True)\n",
    "    return neighbors\n",
    "def shortest_path(G, a, b):\n",
    "    return nx.shortest_path(G, a,b)\n",
    "\n",
    "def get_most_general_concept_used(n):\n",
    "    most_general_concepts = edges.groupby('start_edge').weight.sum().sort_values(ascending = False)\n",
    "    return most_general_concepts[:n]\n",
    "\n",
    "#Give example\n",
    "source = 'African_slave_trade'\n",
    "target = 'Tennis'\n",
    "print(\"Shortest path in the graph generated from the paths between %s and %s\"%(source ,target))\n",
    "print(shortest_path(G_paths, source ,target))\n",
    "print(\"\\nShortest path in the graph generated from the links between %s and %s\"%(source ,target))\n",
    "print(shortest_path(G_links, source ,target))\n",
    "print(\"\\nThe best neighbor of %s : \"%(source))\n",
    "print( best_neighbor_of(source)[:5])\n",
    "nb = 10\n",
    "print(\"\\nThe %d biggest hubs in the player navigation network are :\"%(nb))\n",
    "print(get_most_general_concept_used(nb))"
   ]
  },
  {
   "cell_type": "markdown",
   "id": "7fe6668b",
   "metadata": {},
   "source": [
    "</div>\n",
    "<div class=\"1.1 explanation\" style='background-color:#faefe1; border-left: solid #darkblue 4px; border-radius: 4px; padding:0.7em;'>\n",
    "    <span style=\"color:black\">\n",
    "        In this part an analysis of the Machine's graph has been done. Therefore the number of hyperlinks to a specific article have been counted (i.e. in-degree). The distribution of these numbers are shown in the graphic below. It shows a heavy tailed distribution and follows the power law. In addition it can be confirmed that certain articles are not able to be accessed from any other articles. The percentage of such articles is roughly 10.0%. These correspond to the vertical orange lines as observed in <b>2.3</b>\n",
    "    </span>\n",
    "</div>"
   ]
  },
  {
   "cell_type": "code",
   "execution_count": 28,
   "id": "5e307ef5",
   "metadata": {},
   "outputs": [
    {
     "data": {
      "image/png": "[encoded data removed]",
      "text/plain": [
       "<Figure size 432x288 with 2 Axes>"
      ]
     },
     "metadata": {
      "needs_background": "light"
     },
     "output_type": "display_data"
    }
   ],
   "source": [
    "#Distribution of in degrees (number of links pointing to each article)\n",
    "df_ref_machine=pd.DataFrame(G_links.in_degree, columns=['Article','References'])\n",
    "df_ref_machine=df_ref_machine.sort_values(by = 'References',ascending = False)\n",
    "\n",
    "fig = plt.figure()\n",
    "ax1 = fig.add_subplot(2,2,1)\n",
    "ax2 = fig.add_subplot(2,2,2)\n",
    "\n",
    "g=df_ref_machine.plot(ax = ax1,y='References', kind='bar', legend=False, width=1,logy=False)\n",
    "g.set(ylabel='N of References')\n",
    "g.set(xlabel='Articles (sorted)')\n",
    "g.set(xticklabels=[])\n",
    "g.tick_params(bottom=False);\n",
    "g.spines['right'].set_visible(False)\n",
    "g.spines['top'].set_visible(False)\n",
    "\n",
    "g1=df_ref_machine.plot(ax = ax2, y='References', kind='bar', legend=False, width=1,logy=True)\n",
    "g1.set(ylabel='N of References')\n",
    "g1.set(xlabel='Articles (sorted)')\n",
    "g1.set(xticklabels=[])\n",
    "g1.tick_params(bottom=False);\n",
    "g1.spines['right'].set_visible(False)\n",
    "g1.spines['top'].set_visible(False)\n",
    "\n",
    "plt.title('Distribution of references to articles in Machine\\'s Graph',\n",
    "                fontsize = 11, fontweight ='bold')\n",
    "plt.show()"
   ]
  },
  {
   "cell_type": "code",
   "execution_count": 29,
   "id": "61f10796",
   "metadata": {},
   "outputs": [
    {
     "name": "stdout",
     "output_type": "stream",
     "text": [
      "Number of articles that have no links to:  457\n",
      "Percentage: 9.95%\n",
      "\n",
      "Top 10 articles that have the most links to (highest in-degree): \n",
      "              Article  References\n",
      "102     United_States        1551\n",
      "30     United_Kingdom         972\n",
      "38             France         959\n",
      "183            Europe         933\n",
      "31       World_War_II         751\n",
      "61            England         751\n",
      "40            Germany         743\n",
      "115             India         611\n",
      "54   English_language         598\n",
      "370            London         587\n"
     ]
    }
   ],
   "source": [
    "#Number of articles that have zero in-degree\n",
    "n_non_accessible_links = df_ref_machine.groupby('References').size()[0]\n",
    "print('Number of articles that have no links to: ',n_non_accessible_links)\n",
    "print('Percentage: {:.2f}%\\n'.format(100*n_non_accessible_links/df_ref_machine.shape[0]))\n",
    "print('Top 10 articles that have the most links to (highest in-degree): ')\n",
    "print(df_ref_machine.head(10))"
   ]
  },
  {
   "cell_type": "markdown",
   "id": "bc719bf2-daa5-440e-9c39-63727127d820",
   "metadata": {},
   "source": [
    "</div>\n",
    "<div class=\"1.1 explanation\" style='background-color:#faefe1; border-left: solid #darkblue 4px; border-radius: 4px; padding:0.7em;'>\n",
    "    <span style=\"color:black\">\n",
    "        A similar analysis as before has been done to the players graph. The reason for doing it also on this graph was to see if there are any differences. But it can be seen that both analyzations show a similar distribution that follow the power law. \n",
    "       Also in this case some articles have not been accessed.     \n",
    "    </span>\n",
    "</div>"
   ]
  },
  {
   "cell_type": "code",
   "execution_count": 30,
   "id": "6537935d",
   "metadata": {},
   "outputs": [
    {
     "data": {
      "image/png": "[encoded data removed]",
      "text/plain": [
       "<Figure size 432x288 with 2 Axes>"
      ]
     },
     "metadata": {
      "needs_background": "light"
     },
     "output_type": "display_data"
    }
   ],
   "source": [
    "#Distribution of in degrees (number of links pointing to each article)\n",
    "df_ref_player=pd.DataFrame(G_paths.in_degree, columns=['Article','References'])\n",
    "df_ref_player=df_ref_player.sort_values(by = 'References',ascending = False)\n",
    "\n",
    "fig = plt.figure()\n",
    "ax1 = fig.add_subplot(2,2,1)\n",
    "ax2 = fig.add_subplot(2,2,2)\n",
    "\n",
    "g=df_ref_player.plot(ax = ax1,y='References', kind='bar', legend=False, width=1,logy=False)\n",
    "g.set(ylabel='N of References')\n",
    "g.set(xlabel='Articles (sorted)')\n",
    "g.set(xticklabels=[])\n",
    "g.tick_params(bottom=False);\n",
    "g.spines['right'].set_visible(False)\n",
    "g.spines['top'].set_visible(False)\n",
    "\n",
    "g1=df_ref_player.plot(ax = ax2, y='References', kind='bar', legend=False, width=1,logy=True)\n",
    "g1.set(ylabel='N of References')\n",
    "g1.set(xlabel='Articles (sorted)')\n",
    "g1.set(xticklabels=[])\n",
    "g1.tick_params(bottom=False);\n",
    "g1.spines['right'].set_visible(False)\n",
    "g1.spines['top'].set_visible(False)\n",
    "\n",
    "plt.title('Distribution of references to articles in Player\\'s Graph',\n",
    "                fontsize = 11, fontweight ='bold')\n",
    "plt.show()"
   ]
  },
  {
   "cell_type": "code",
   "execution_count": 31,
   "id": "4e22a05d",
   "metadata": {},
   "outputs": [
    {
     "name": "stdout",
     "output_type": "stream",
     "text": [
      "Number of articles that no players ever accessed from other articles:  457\n",
      "Percentage: 10.94%\n",
      "\n",
      "Top 10 articles that have the most accessibility in Player's Graph: \n",
      "              Article  References\n",
      "98      United_States        1331\n",
      "70             Europe         741\n",
      "97     United_Kingdom         710\n",
      "9             England         618\n",
      "291      World_War_II         540\n",
      "10             France         514\n",
      "11            Germany         396\n",
      "616  English_language         381\n",
      "416            Africa         348\n",
      "13              India         343\n"
     ]
    }
   ],
   "source": [
    "#Number of articles that have zero in degree\n",
    "n_never_accessed_links = df_ref_player.groupby('References').size()[0]\n",
    "print('Number of articles that no players ever accessed from other articles: ',n_non_accessible_links)\n",
    "print('Percentage: {:.2f}%\\n'.format(100*n_non_accessible_links/df_ref_player.shape[0]))\n",
    "\n",
    "print('Top 10 articles that have the most accessibility in Player\\'s Graph: ')\n",
    "print(df_ref_player.head(10))"
   ]
  },
  {
   "cell_type": "markdown",
   "id": "aadd8209-c05e-467a-9c25-6d363745cb98",
   "metadata": {},
   "source": [
    "</div>\n",
    "<div class=\"1.1 explanation\" style='background-color:#faefe1; border-left: solid #darkblue 4px; border-radius: 4px; padding:0.7em;'>\n",
    "    <span style=\"color:black\">\n",
    "        <p>Conclusion: In comparison to the biggest hubs list, we found that people tend to access a much more general concept (like 'earth') even though not many links point to that concept. It could be a hint to player's strategy. Deeper analysis is required if we want to have a sound conclusion.<br><br>\n",
    "        What's more, the difference between the Top 10 Accessibility from Machine's Graph and that from Player's Graph might indicate that player's behaviour is far from random as the numbers are close to each other.</p>\n",
    "    </span> \n",
    "</div>"
   ]
  },
  {
   "cell_type": "markdown",
   "id": "9e76f0c5-ea0d-4d86-a189-609960b71a28",
   "metadata": {},
   "source": [
    "</div>\n",
    "<div class=\"4. Header\" style='background-color:#08135c; border-left: solid #darkblue 4px; border-radius: 4px; padding:0.7em;'>\n",
    "    <span style=\"color:white;\">\n",
    "       <h2>4. Player statistics</h2>\n",
    "        <h4>Here we will focus on the level of an individual player</h4>\n",
    "    </span>\n",
    "</div>\n",
    "</div>"
   ]
  },
  {
   "cell_type": "markdown",
   "id": "76b9dfbf",
   "metadata": {},
   "source": [
    "</div>\n",
    "<div class=\"1.1 explanation\" style='background-color:#08135c; border-left: solid #darkblue 4px; border-radius: 4px; padding:0.7em;'>\n",
    "    <span style=\"color:white\">\n",
    "       <h3>4.1 Game distribution per player</h3>\n",
    "    </span>\n",
    "</div>\n",
    "</div>\n",
    "<div class=\"1.1 explanation\" style='background-color:#faefe1; border-left: solid #darkblue 4px; border-radius: 4px; padding:0.7em;'>\n",
    "    <span style=\"color:black\">\n",
    "        First we try to see how many games each players finished, <span style=\"font-family: monospace; background-color:#fadfb9; padding-left:4px; padding-right:4px; border-radius: 5px;\">timeout</span> or <span style=\"font-family: monospace; background-color:#fadfb9; padding-left:4px; padding-right:4px; border-radius: 5px;\">restart</span>. We can then plot the histogram of the percentage of finished games by players. We observe that around $3/4$ of the players either always or never finished their games. This might imply that for these players the game is too easy or too hard and we might addapt the game proposed so that they stay longer.\n",
    "    </span>\n",
    "</div>"
   ]
  },
  {
   "cell_type": "code",
   "execution_count": 32,
   "id": "9a7be811",
   "metadata": {},
   "outputs": [],
   "source": [
    "player_stats = paths_all.groupby('hashedIpAddress').apply(lambda x: pd.Series({\n",
    "    'game_played' : x['type'].count(),\n",
    "    'nb_timeout'  : len(x[x['type'] == 'timeout']),    \n",
    "    'nb_restart'  : len(x[x['type'] == 'restart']),    \n",
    "    'nb_finished' : len(x[x['type'] == 'finished'])\n",
    "    }))\n",
    "player_stats['finished_percentage'] = player_stats['nb_finished']/player_stats['game_played']"
   ]
  },
  {
   "cell_type": "code",
   "execution_count": 33,
   "id": "c69fdc8c",
   "metadata": {},
   "outputs": [
    {
     "data": {
      "image/png": "[encoded data removed]",
      "text/plain": [
       "<Figure size 432x288 with 1 Axes>"
      ]
     },
     "metadata": {
      "needs_background": "light"
     },
     "output_type": "display_data"
    }
   ],
   "source": [
    "g = np.log10(player_stats['game_played']).hist(log = True, grid=False, edgecolor=(1,1,1))\n",
    "g.set(ylabel='count')\n",
    "g.set(xlabel='log(#games)')\n",
    "g.tick_params(bottom=False);\n",
    "g.spines['right'].set_visible(False)\n",
    "g.spines['top'].set_visible(False)"
   ]
  },
  {
   "cell_type": "code",
   "execution_count": 34,
   "id": "8a16fb1e",
   "metadata": {},
   "outputs": [
    {
     "name": "stdout",
     "output_type": "stream",
     "text": [
      "Total number of players : 18948,\n",
      "Player that never finished : 4705,\n",
      "Player that always finished : 9704\n"
     ]
    },
    {
     "data": {
      "image/png": "[encoded data removed]",
      "text/plain": [
       "<Figure size 432x288 with 1 Axes>"
      ]
     },
     "metadata": {
      "needs_background": "light"
     },
     "output_type": "display_data"
    }
   ],
   "source": [
    "total_player = len(player_stats)\n",
    "never_finished = len(player_stats[player_stats['nb_finished'] == 0])\n",
    "always_finished = len(player_stats[player_stats['finished_percentage'] == 1])\n",
    "print(\"Total number of players : %d,\\nPlayer that never finished : %d,\\nPlayer that always finished : %d\"%(total_player,never_finished, always_finished))\n",
    "\n",
    "g = player_stats.plot(y='finished_percentage', kind='hist', legend=False, edgecolor=(1,1,1))\n",
    "g.set(ylabel='count')\n",
    "g.set(xlabel='proportion of finished paths')\n",
    "g.tick_params(bottom=False);\n",
    "g.spines['right'].set_visible(False)\n",
    "g.spines['top'].set_visible(False)"
   ]
  },
  {
   "cell_type": "markdown",
   "id": "cf01f808",
   "metadata": {},
   "source": [
    "<div class=\"1.1 explanation\" style='background-color:#faefe1; border-left: solid #darkblue 4px; border-radius: 4px; padding:0.7em;'>\n",
    "    <span style=\"color:black\">\n",
    "        Then we can look, at how many <span style=\"font-family: monospace; background-color:#fadfb9; padding-left:4px; padding-right:4px; border-radius: 5px;\">timeout</span> the players did.\n",
    "    </span>\n",
    "</div>"
   ]
  },
  {
   "cell_type": "code",
   "execution_count": 35,
   "id": "cb11938f",
   "metadata": {
    "tags": []
   },
   "outputs": [
    {
     "name": "stdout",
     "output_type": "stream",
     "text": [
      "Total player that did more than 1 timeout : 471, which represent 0.024858% of the players\n"
     ]
    },
    {
     "data": {
      "image/png": "[encoded data removed]",
      "text/plain": [
       "<Figure size 432x288 with 1 Axes>"
      ]
     },
     "metadata": {
      "needs_background": "light"
     },
     "output_type": "display_data"
    }
   ],
   "source": [
    "nb_player_mult_timeout = len(player_stats[player_stats.nb_timeout > 1])\n",
    "print(\"Total player that did more than 1 timeout : %d, which represent %f%% of the players\"%(nb_player_mult_timeout, nb_player_mult_timeout/total_player))\n",
    "g=player_stats[player_stats.nb_timeout > 1].nb_timeout.hist(grid=False, legend=False, edgecolor=(1,1,1), bins = range(0, player_stats.nb_timeout.max()))\n",
    "g.set(ylabel='count')\n",
    "g.set(xlabel='Number of timeouts')\n",
    "g.tick_params(bottom=False);\n",
    "g.spines['right'].set_visible(False)\n",
    "g.spines['top'].set_visible(False)\n"
   ]
  },
  {
   "cell_type": "markdown",
   "id": "b7bf49ab",
   "metadata": {},
   "source": [
    "<div class=\"1.1 explanation\" style='background-color:#faefe1; border-left: solid #darkblue 4px; border-radius: 4px; padding:0.7em;'>\n",
    "    <span style=\"color:black\">\n",
    "        Then we can look at the record of each player on how the game ended up : <span style=\"font-family: monospace; background-color:#fadfb9; padding-left:4px; padding-right:4px; border-radius: 5px;\">restart</span>, <span style=\"font-family: monospace; background-color:#fadfb9; padding-left:4px; padding-right:4px; border-radius: 5px;\">timeout</span> or <span style=\"font-family: monospace; background-color:#fadfb9; padding-left:4px; padding-right:4px; border-radius: 5px;\">path_finished</span>. We can see that for player than did not finished all their game, 66% of them finished with a <span style=\"font-family: monospace; background-color:#fadfb9; padding-left:4px; padding-right:4px; border-radius: 5px;\">timeout</span>.\n",
    "        What we should do to go deeper is to do the same record but with the <span style=\"font-family: monospace; background-color:#fadfb9; padding-left:4px; padding-right:4px; border-radius: 5px;\">durationInSec</span> and the <span style=\"font-family: monospace; background-color:#fadfb9; padding-left:4px; padding-right:4px; border-radius: 5px;\">pathsLength</span> and try to see if we can get something out of it on why they stopped playing.\n",
    "    </span>\n",
    "</div>"
   ]
  },
  {
   "cell_type": "code",
   "execution_count": 36,
   "id": "220a949b",
   "metadata": {},
   "outputs": [
    {
     "data": {
      "text/html": [
       "<div>\n",
       "<style scoped>\n",
       "    .dataframe tbody tr th:only-of-type {\n",
       "        vertical-align: middle;\n",
       "    }\n",
       "\n",
       "    .dataframe tbody tr th {\n",
       "        vertical-align: top;\n",
       "    }\n",
       "\n",
       "    .dataframe thead th {\n",
       "        text-align: right;\n",
       "    }\n",
       "</style>\n",
       "<table border=\"1\" class=\"dataframe\">\n",
       "  <thead>\n",
       "    <tr style=\"text-align: right;\">\n",
       "      <th></th>\n",
       "      <th>type</th>\n",
       "    </tr>\n",
       "    <tr>\n",
       "      <th>hashedIpAddress</th>\n",
       "      <th></th>\n",
       "    </tr>\n",
       "  </thead>\n",
       "  <tbody>\n",
       "    <tr>\n",
       "      <th>000386124f307de8</th>\n",
       "      <td>[finished, timeout]</td>\n",
       "    </tr>\n",
       "    <tr>\n",
       "      <th>0007183207b6008f</th>\n",
       "      <td>[finished, finished, finished]</td>\n",
       "    </tr>\n",
       "    <tr>\n",
       "      <th>000a09e202e88d10</th>\n",
       "      <td>[finished]</td>\n",
       "    </tr>\n",
       "    <tr>\n",
       "      <th>000a5bac5b7781ea</th>\n",
       "      <td>[finished]</td>\n",
       "    </tr>\n",
       "    <tr>\n",
       "      <th>000a6e585b776c96</th>\n",
       "      <td>[timeout]</td>\n",
       "    </tr>\n",
       "    <tr>\n",
       "      <th>000bc9fe5640ed31</th>\n",
       "      <td>[finished, finished]</td>\n",
       "    </tr>\n",
       "    <tr>\n",
       "      <th>000d397013f09039</th>\n",
       "      <td>[finished, finished]</td>\n",
       "    </tr>\n",
       "    <tr>\n",
       "      <th>000e5d4c2c8e921f</th>\n",
       "      <td>[finished, restart, restart, timeout]</td>\n",
       "    </tr>\n",
       "    <tr>\n",
       "      <th>000e954305ddb434</th>\n",
       "      <td>[finished]</td>\n",
       "    </tr>\n",
       "    <tr>\n",
       "      <th>0011acb93ed0090b</th>\n",
       "      <td>[restart, timeout]</td>\n",
       "    </tr>\n",
       "    <tr>\n",
       "      <th>0013e00d2529e52c</th>\n",
       "      <td>[finished, finished, finished, finished, finis...</td>\n",
       "    </tr>\n",
       "    <tr>\n",
       "      <th>0015865e516d4932</th>\n",
       "      <td>[restart]</td>\n",
       "    </tr>\n",
       "    <tr>\n",
       "      <th>001a0e3b756ed203</th>\n",
       "      <td>[finished, finished]</td>\n",
       "    </tr>\n",
       "    <tr>\n",
       "      <th>00210d6f590f218c</th>\n",
       "      <td>[timeout]</td>\n",
       "    </tr>\n",
       "    <tr>\n",
       "      <th>00216ef93a2a60bb</th>\n",
       "      <td>[finished]</td>\n",
       "    </tr>\n",
       "    <tr>\n",
       "      <th>002219f2679e2ca4</th>\n",
       "      <td>[finished, finished, finished, finished, finis...</td>\n",
       "    </tr>\n",
       "    <tr>\n",
       "      <th>0022cd0822775ffe</th>\n",
       "      <td>[finished]</td>\n",
       "    </tr>\n",
       "    <tr>\n",
       "      <th>002a5c8d3e20d731</th>\n",
       "      <td>[finished, finished]</td>\n",
       "    </tr>\n",
       "    <tr>\n",
       "      <th>002c94603e92d10c</th>\n",
       "      <td>[finished, finished, finished, finished]</td>\n",
       "    </tr>\n",
       "    <tr>\n",
       "      <th>0032432015bedad6</th>\n",
       "      <td>[timeout]</td>\n",
       "    </tr>\n",
       "    <tr>\n",
       "      <th>003716ed22938d0a</th>\n",
       "      <td>[restart, timeout]</td>\n",
       "    </tr>\n",
       "    <tr>\n",
       "      <th>00381d0a21b8ba73</th>\n",
       "      <td>[restart, finished, finished, finished, finish...</td>\n",
       "    </tr>\n",
       "    <tr>\n",
       "      <th>00387299588695d4</th>\n",
       "      <td>[restart, timeout]</td>\n",
       "    </tr>\n",
       "    <tr>\n",
       "      <th>0039c32563d54fe0</th>\n",
       "      <td>[finished, finished, finished, finished, finis...</td>\n",
       "    </tr>\n",
       "    <tr>\n",
       "      <th>0039c5fa63d556b5</th>\n",
       "      <td>[finished, finished]</td>\n",
       "    </tr>\n",
       "    <tr>\n",
       "      <th>003a34e80bdab60d</th>\n",
       "      <td>[restart, finished]</td>\n",
       "    </tr>\n",
       "    <tr>\n",
       "      <th>003b919d1e5387e1</th>\n",
       "      <td>[finished]</td>\n",
       "    </tr>\n",
       "    <tr>\n",
       "      <th>003bb5940f9d588a</th>\n",
       "      <td>[restart]</td>\n",
       "    </tr>\n",
       "    <tr>\n",
       "      <th>003db1994c055d76</th>\n",
       "      <td>[finished]</td>\n",
       "    </tr>\n",
       "    <tr>\n",
       "      <th>003de5ad49bf14e9</th>\n",
       "      <td>[finished, timeout]</td>\n",
       "    </tr>\n",
       "  </tbody>\n",
       "</table>\n",
       "</div>"
      ],
      "text/plain": [
       "                                                               type\n",
       "hashedIpAddress                                                    \n",
       "000386124f307de8                                [finished, timeout]\n",
       "0007183207b6008f                     [finished, finished, finished]\n",
       "000a09e202e88d10                                         [finished]\n",
       "000a5bac5b7781ea                                         [finished]\n",
       "000a6e585b776c96                                          [timeout]\n",
       "000bc9fe5640ed31                               [finished, finished]\n",
       "000d397013f09039                               [finished, finished]\n",
       "000e5d4c2c8e921f              [finished, restart, restart, timeout]\n",
       "000e954305ddb434                                         [finished]\n",
       "0011acb93ed0090b                                 [restart, timeout]\n",
       "0013e00d2529e52c  [finished, finished, finished, finished, finis...\n",
       "0015865e516d4932                                          [restart]\n",
       "001a0e3b756ed203                               [finished, finished]\n",
       "00210d6f590f218c                                          [timeout]\n",
       "00216ef93a2a60bb                                         [finished]\n",
       "002219f2679e2ca4  [finished, finished, finished, finished, finis...\n",
       "0022cd0822775ffe                                         [finished]\n",
       "002a5c8d3e20d731                               [finished, finished]\n",
       "002c94603e92d10c           [finished, finished, finished, finished]\n",
       "0032432015bedad6                                          [timeout]\n",
       "003716ed22938d0a                                 [restart, timeout]\n",
       "00381d0a21b8ba73  [restart, finished, finished, finished, finish...\n",
       "00387299588695d4                                 [restart, timeout]\n",
       "0039c32563d54fe0  [finished, finished, finished, finished, finis...\n",
       "0039c5fa63d556b5                               [finished, finished]\n",
       "003a34e80bdab60d                                [restart, finished]\n",
       "003b919d1e5387e1                                         [finished]\n",
       "003bb5940f9d588a                                          [restart]\n",
       "003db1994c055d76                                         [finished]\n",
       "003de5ad49bf14e9                                [finished, timeout]"
      ]
     },
     "execution_count": 36,
     "metadata": {},
     "output_type": "execute_result"
    }
   ],
   "source": [
    "players_record = pd.DataFrame(paths_all.sort_values('timestamp').groupby('hashedIpAddress').type.apply(list))\n",
    "players_record.head(30)"
   ]
  },
  {
   "cell_type": "code",
   "execution_count": 37,
   "id": "5dc4a390-6638-47d0-a4a6-e07f12f983e2",
   "metadata": {},
   "outputs": [],
   "source": [
    "players_record['finish'] = players_record['type'].apply(lambda l : l[-1])\n",
    "players_record['nb_games'] = players_record['type'].apply(lambda l : len(l))"
   ]
  },
  {
   "cell_type": "code",
   "execution_count": 38,
   "id": "65efe316-abfc-4ac8-ac03-adb5bdc1868f",
   "metadata": {},
   "outputs": [
    {
     "data": {
      "text/html": [
       "<div>\n",
       "<style scoped>\n",
       "    .dataframe tbody tr th:only-of-type {\n",
       "        vertical-align: middle;\n",
       "    }\n",
       "\n",
       "    .dataframe tbody tr th {\n",
       "        vertical-align: top;\n",
       "    }\n",
       "\n",
       "    .dataframe thead th {\n",
       "        text-align: right;\n",
       "    }\n",
       "</style>\n",
       "<table border=\"1\" class=\"dataframe\">\n",
       "  <thead>\n",
       "    <tr style=\"text-align: right;\">\n",
       "      <th></th>\n",
       "      <th>type</th>\n",
       "      <th>finish</th>\n",
       "      <th>nb_games</th>\n",
       "    </tr>\n",
       "    <tr>\n",
       "      <th>hashedIpAddress</th>\n",
       "      <th></th>\n",
       "      <th></th>\n",
       "      <th></th>\n",
       "    </tr>\n",
       "  </thead>\n",
       "  <tbody>\n",
       "    <tr>\n",
       "      <th>000386124f307de8</th>\n",
       "      <td>[finished, timeout]</td>\n",
       "      <td>timeout</td>\n",
       "      <td>2</td>\n",
       "    </tr>\n",
       "    <tr>\n",
       "      <th>0007183207b6008f</th>\n",
       "      <td>[finished, finished, finished]</td>\n",
       "      <td>finished</td>\n",
       "      <td>3</td>\n",
       "    </tr>\n",
       "    <tr>\n",
       "      <th>000a09e202e88d10</th>\n",
       "      <td>[finished]</td>\n",
       "      <td>finished</td>\n",
       "      <td>1</td>\n",
       "    </tr>\n",
       "    <tr>\n",
       "      <th>000a5bac5b7781ea</th>\n",
       "      <td>[finished]</td>\n",
       "      <td>finished</td>\n",
       "      <td>1</td>\n",
       "    </tr>\n",
       "    <tr>\n",
       "      <th>000a6e585b776c96</th>\n",
       "      <td>[timeout]</td>\n",
       "      <td>timeout</td>\n",
       "      <td>1</td>\n",
       "    </tr>\n",
       "    <tr>\n",
       "      <th>...</th>\n",
       "      <td>...</td>\n",
       "      <td>...</td>\n",
       "      <td>...</td>\n",
       "    </tr>\n",
       "    <tr>\n",
       "      <th>7ff67c3433e623a9</th>\n",
       "      <td>[finished, finished, finished, restart, finish...</td>\n",
       "      <td>restart</td>\n",
       "      <td>7</td>\n",
       "    </tr>\n",
       "    <tr>\n",
       "      <th>7ff6a4ad1962969e</th>\n",
       "      <td>[finished, timeout]</td>\n",
       "      <td>timeout</td>\n",
       "      <td>2</td>\n",
       "    </tr>\n",
       "    <tr>\n",
       "      <th>7ffc5c7421311771</th>\n",
       "      <td>[finished, finished]</td>\n",
       "      <td>finished</td>\n",
       "      <td>2</td>\n",
       "    </tr>\n",
       "    <tr>\n",
       "      <th>7fff57a336c1f472</th>\n",
       "      <td>[timeout]</td>\n",
       "      <td>timeout</td>\n",
       "      <td>1</td>\n",
       "    </tr>\n",
       "    <tr>\n",
       "      <th>7fffdba06c21ba08</th>\n",
       "      <td>[finished, finished]</td>\n",
       "      <td>finished</td>\n",
       "      <td>2</td>\n",
       "    </tr>\n",
       "  </tbody>\n",
       "</table>\n",
       "<p>18948 rows × 3 columns</p>\n",
       "</div>"
      ],
      "text/plain": [
       "                                                               type    finish  \\\n",
       "hashedIpAddress                                                                 \n",
       "000386124f307de8                                [finished, timeout]   timeout   \n",
       "0007183207b6008f                     [finished, finished, finished]  finished   \n",
       "000a09e202e88d10                                         [finished]  finished   \n",
       "000a5bac5b7781ea                                         [finished]  finished   \n",
       "000a6e585b776c96                                          [timeout]   timeout   \n",
       "...                                                             ...       ...   \n",
       "7ff67c3433e623a9  [finished, finished, finished, restart, finish...   restart   \n",
       "7ff6a4ad1962969e                                [finished, timeout]   timeout   \n",
       "7ffc5c7421311771                               [finished, finished]  finished   \n",
       "7fff57a336c1f472                                          [timeout]   timeout   \n",
       "7fffdba06c21ba08                               [finished, finished]  finished   \n",
       "\n",
       "                  nb_games  \n",
       "hashedIpAddress             \n",
       "000386124f307de8         2  \n",
       "0007183207b6008f         3  \n",
       "000a09e202e88d10         1  \n",
       "000a5bac5b7781ea         1  \n",
       "000a6e585b776c96         1  \n",
       "...                    ...  \n",
       "7ff67c3433e623a9         7  \n",
       "7ff6a4ad1962969e         2  \n",
       "7ffc5c7421311771         2  \n",
       "7fff57a336c1f472         1  \n",
       "7fffdba06c21ba08         2  \n",
       "\n",
       "[18948 rows x 3 columns]"
      ]
     },
     "execution_count": 38,
     "metadata": {},
     "output_type": "execute_result"
    }
   ],
   "source": [
    "players_record"
   ]
  },
  {
   "cell_type": "code",
   "execution_count": 39,
   "id": "2e90d29d",
   "metadata": {},
   "outputs": [
    {
     "data": {
      "text/plain": [
       "finished    11331\n",
       "timeout      5987\n",
       "restart      1630\n",
       "Name: finish, dtype: int64"
      ]
     },
     "execution_count": 39,
     "metadata": {},
     "output_type": "execute_result"
    }
   ],
   "source": [
    "players_record['finish'].value_counts()"
   ]
  },
  {
   "cell_type": "code",
   "execution_count": null,
   "id": "eb87fe69",
   "metadata": {},
   "outputs": [],
   "source": [
    "thresh = 0.99\n",
    "not_always_finished = len(players_record[player_stats.finished_percentage <= thresh])\n",
    "end_with_timeout = (players_record[player_stats.finished_percentage <= thresh].finish.apply(lambda x :x == 'timeout')).sum()\n",
    "end_with_2_timeouts = (players_record[player_stats.finished_percentage <= thresh].apply(lambda x :x.finish == 'timeout' and len(x['type'])>=2 and x['type'][-2] == 'timeout')).sum()\n",
    "\n",
    "print(\"Number of players that did end with a timeout : %d, which represent %.3f%% of the players that finished less than %.2f of their game\"%(end_with_timeout, end_with_timeout/not_always_finished, thresh))\n",
    "end_with_timeout/not_always_finished"
   ]
  },
  {
   "cell_type": "markdown",
   "id": "4cf97eba",
   "metadata": {},
   "source": [
    "</div>\n",
    "<div class=\"1.1 explanation\" style='background-color:#08135c; border-left: solid #darkblue 4px; border-radius: 4px; padding:0.7em;'>\n",
    "    <span style=\"color:white\">\n",
    "       <h3>4.2 Ratings</h3>\n",
    "    </span>\n",
    "</div>\n",
    "</div>\n",
    "<div class=\"1.1 explanation\" style='background-color:#faefe1; border-left: solid #darkblue 4px; border-radius: 4px; padding:0.7em;'>\n",
    "    <span style=\"color:black\">\n",
    "        Our idea is to give easier or hardere game to player so that it correspond to their expectations. If they always finish, give them harder game and if they never finish give them easier games. For this we can use rating. We know that 55% of the finished paths were rated.\n",
    "    </span>\n",
    "</div>"
   ]
  },
  {
   "cell_type": "code",
   "execution_count": 41,
   "id": "a195a7ea",
   "metadata": {},
   "outputs": [
    {
     "name": "stdout",
     "output_type": "stream",
     "text": [
      "From the 51318 finished paths, we have 28501 that were rated, this corresponds to 0.555 of the data\n"
     ]
    }
   ],
   "source": [
    "nb_na_ratings = len(paths_finished[paths_finished.rating.isna()])\n",
    "total_finished = len(paths_finished)\n",
    "nb_non_na_ratings = total_finished - nb_na_ratings\n",
    "\n",
    "print(\"From the %d finished paths, we have %d that were rated, this corresponds to %.3f of the data\"\n",
    "      %(total_finished, nb_non_na_ratings, nb_non_na_ratings/total_finished))"
   ]
  },
  {
   "cell_type": "markdown",
   "id": "e5db1637-6369-4384-8507-0aa122838015",
   "metadata": {},
   "source": [
    "</div>\n",
    "<div class=\"1.1 explanation\" style='background-color:#08135c; border-left: solid #darkblue 4px; border-radius: 4px; padding:0.7em;'>\n",
    "    <span style=\"color:white\">\n",
    "       <h3>4.3 End of game distribution</h3>\n",
    "    </span>\n",
    "</div>\n",
    "</div>\n",
    "<div class=\"1.1 explanation\" style='background-color:#faefe1; border-left: solid #darkblue 4px; border-radius: 4px; padding:0.7em;'>\n",
    "    <span style=\"color:black\">\n",
    "        We are interested in the between-game history of the player. The last game of the players can be either  <span style=\"font-family: monospace; background-color:#fadfb9; padding-left:4px; padding-right:4px; border-radius: 5px;\">finished</span>,  <span style=\"font-family: monospace; background-color:#fadfb9; padding-left:4px; padding-right:4px; border-radius: 5px;\">timeout</span> or  <span style=\"font-family: monospace; background-color:#fadfb9; padding-left:4px; padding-right:4px; border-radius: 5px;\">restart</span>. We have seen in <b>4.1</b> that the distribution of games played per player follows a power-law. Let's first have a look at how the different players with their last game being <span style=\"font-family: monospace; background-color:#fadfb9; padding-left:4px; padding-right:4px; border-radius: 5px;\">finished</span>, <span style=\"font-family: monospace; background-color:#fadfb9; padding-left:4px; padding-right:4px; border-radius: 5px;\">timeout</span> or <span style=\"font-family: monospace; background-color:#fadfb9; padding-left:4px; padding-right:4px; border-radius: 5px;\">restart</span> contribute to this. \n",
    "    </span>\n",
    "</div>"
   ]
  },
  {
   "cell_type": "code",
   "execution_count": 42,
   "id": "f429a228-ed04-4cdb-8b22-4844fb4da24d",
   "metadata": {},
   "outputs": [
    {
     "data": {
      "image/png": "[encoded data removed]",
      "text/plain": [
       "<Figure size 1400x400 with 3 Axes>"
      ]
     },
     "metadata": {},
     "output_type": "display_data"
    }
   ],
   "source": [
    "#Initialize figure and axis\n",
    "fig = plt.figure(figsize=(14,4))\n",
    "fig.suptitle('Number of games played')\n",
    "ax = plt.subplot(1,2,1)\n",
    "flierprops = {'marker': '.', 'markersize': 4, 'markerfacecolor': 'k'}\n",
    "boxprops= {'facecolor': (31/255, 119/255, 180/255, 0.5), 'color': 'k'}\n",
    "medianprops = {'color': (31/255, 119/255, 180/255)}\n",
    "\n",
    "#Initialize number of games per group\n",
    "nb_games_finished = players_record[players_record['finish'] == 'finished'].nb_games\n",
    "nb_games_timeout = players_record[players_record['finish'] == 'timeout'].nb_games\n",
    "nb_games_restart = players_record[players_record['finish'] == 'restart'].nb_games\n",
    "\n",
    "ax = plt.subplot(1,2,1)\n",
    "ax.boxplot([nb_games_timeout, nb_games_restart, nb_games_finished], patch_artist=True, flierprops=flierprops, boxprops=boxprops, medianprops=medianprops, labels=['timeout', 'restart', 'finished']);\n",
    "ax.set_yscale('log')\n",
    "ax.set_ylabel('lnumber of games played (log-scale)')\n",
    "ax.spines['right'].set_visible(False)\n",
    "ax.spines['top'].set_visible(False)\n",
    "\n",
    "ax = plt.subplot(2,2,4)\n",
    "(_, bins, _) = ax.hist(np.log10(nb_games_finished), bins=20, log=True, edgecolor=(0,0,0, 0.5), color=(235/255, 184/255, 164/255, 0.5), label='finished');\n",
    "ax.legend();\n",
    "ax.set_xlabel('log(#games)')\n",
    "xlim = ax.get_xlim();\n",
    "\n",
    "ax = plt.subplot(2,2,2)\n",
    "ax.hist(np.log10(nb_games_timeout), log=True, bins=bins, edgecolor=(0,0,0, 0.5), color=(31/255, 119/255, 180/255, 0.5), label='timeout');\n",
    "ax.hist(np.log10(nb_games_restart), log=True, bins=bins, edgecolor=(0,0,0, 0.5), color=(120/255, 194/255, 139/255, 0.5), label='restart');\n",
    "ax.legend();\n",
    "ax.set_xlim(xlim);"
   ]
  },
  {
   "cell_type": "markdown",
   "id": "81516f2c-68ed-41ea-8580-b2c506f94093",
   "metadata": {},
   "source": [
    "<div class=\"1.1 explanation\" style='background-color:#faefe1; border-left: solid #darkblue 4px; border-radius: 4px; padding:0.7em;'>\n",
    "    <span style=\"color:black\">\n",
    "        It seems like the median is different for finished is different compared to timeout and restart. However not too signficiant I think (it's on log-scale). We could perform a hypothesis check for this (bootstrap in the following). However, so far not too convincing that the number of games for players ending on timeout it less. All seem to follow a similar power-law. <b>What to do from here?</b>\n",
    "    </span>\n",
    "</div>"
   ]
  },
  {
   "cell_type": "markdown",
   "id": "9195cecc-5795-4700-bf53-6e1000894013",
   "metadata": {},
   "source": [
    "median is always the same so bootstrap is not very interesting. But you can see a clear difference between the finished pathlengths and the rest. Unfortunately the confidence interval are not very clear. Maybe not graphical visualization"
   ]
  },
  {
   "cell_type": "code",
   "execution_count": 43,
   "id": "5a7cc6ed-3dcf-4b5b-b4cb-8270d2664a42",
   "metadata": {},
   "outputs": [],
   "source": [
    "def bootstrap_CI(data, nbr_draws, mean, with_means = False):\n",
    "    means = np.zeros(nbr_draws)\n",
    "    data = np.array(data)\n",
    "    \n",
    "    for n in range(nbr_draws):\n",
    "        indices = np.random.randint(0, len(data), len(data))\n",
    "        data_tmp = data[indices] \n",
    "\n",
    "\n",
    "        if mean == 'median':\n",
    "            means[n] = np.nanmedian(data_tmp)\n",
    "\n",
    "    if with_means :\n",
    "        return [np.nanpercentile(means, 2.5),np.nanpercentile(means, 97.5)], means\n",
    "    else : \n",
    "        return [np.nanpercentile(means, 2.5),np.nanpercentile(means, 97.5)]"
   ]
  },
  {
   "cell_type": "code",
   "execution_count": 44,
   "id": "0e9a226c-631f-45f3-a72e-b970c38466c2",
   "metadata": {},
   "outputs": [],
   "source": [
    "finished = pd.DataFrame(players_record[players_record['finish'] == 'finished'].nb_games)\n",
    "timeout = pd.DataFrame(players_record[players_record['finish'] == 'timeout'].nb_games)\n",
    "restart = pd.DataFrame(players_record[players_record['finish'] == 'restart'].nb_games)"
   ]
  },
  {
   "cell_type": "code",
   "execution_count": 45,
   "id": "bbb75b4e-8bd7-4209-ba5e-71e84f5b50db",
   "metadata": {},
   "outputs": [],
   "source": [
    "#calculate for finished\n",
    "ci_fin, stats_fin = bootstrap_CI(finished['nb_games'], 100, 'median', True)\n",
    "#calculate for restart\n",
    "ci_res, stats_res = bootstrap_CI(restart['nb_games'], 100, 'median', True)\n",
    "#calculate for timeout\n",
    "ci_tim, stats_tim = bootstrap_CI(timeout['nb_games'], 100, 'median', True)"
   ]
  },
  {
   "cell_type": "code",
   "execution_count": 46,
   "id": "b2dcb23e-661f-41b5-bb3d-a81a681fdc10",
   "metadata": {},
   "outputs": [
    {
     "data": {
      "image/png": "[encoded data removed]",
      "text/plain": [
       "<Figure size 1400x400 with 1 Axes>"
      ]
     },
     "metadata": {},
     "output_type": "display_data"
    }
   ],
   "source": [
    "#Plot confidence intervals\n",
    "fig, ax = plt.subplots(figsize=(14,4))\n",
    "\n",
    "#finished\n",
    "ax.hist(stats_fin, bins=100, edgecolor = 'k', color='grey',alpha = 0.6, label = 'Bootstrapping finished median #games')\n",
    "ax.vlines(ci_fin, 0, ax.get_ylim()[1], ls='--', color='k', linewidth=2, label = '95% CI for geometric mean')\n",
    "\n",
    "#restart\n",
    "ax.hist(stats_res, bins=100, edgecolor = 'k', color='cornflowerblue',alpha = 0.6, label = 'Bootstrapping restart median #games')\n",
    "ax.vlines(ci_res, 0, ax.get_ylim()[1], ls='--', color='k', linewidth=2, label = '95% CI for geometric mean')\n",
    "\n",
    "#timeout\n",
    "ax.hist(stats_tim, bins=100, edgecolor = 'k', color='black',alpha = 0.6, label = 'Bootstrapping restart median #games')\n",
    "ax.vlines(ci_tim, 0, ax.get_ylim()[1], ls='--', color='k', linewidth=2, label = '95% CI for geometric mean')\n",
    "\n",
    "ax.set_title('Bootstrapping with median number of games')\n",
    "ax.set_xlabel('# games')\n",
    "ax.set_ylabel('Frequence of apparence')\n",
    "ax.legend(loc=(1.02, 0.58));"
   ]
  },
  {
   "cell_type": "markdown",
   "id": "7a3b5d98-76e8-4520-bf42-c5beb73faf74",
   "metadata": {},
   "source": [
    "<div class=\"1.1 explanation\" style='background-color:#faefe1; border-left: solid #darkblue 4px; border-radius: 4px; padding:0.7em;'>\n",
    "    <span style=\"color:black\">\n",
    "        This result does not mean the end. We can still focus on why people timeout in general. However, the argument of extra data we can gain is not too convincing maybe. <br><br>\n",
    "        <b>Idea: maybe only look for the number of finished attempt as they might be more important.</b>\n",
    "    </span>\n",
    "</div>"
   ]
  },
  {
   "cell_type": "code",
   "execution_count": 47,
   "id": "e61c9700-ecf1-4a6f-bb30-34d53e2951a8",
   "metadata": {},
   "outputs": [
    {
     "data": {
      "text/html": [
       "<div>\n",
       "<style scoped>\n",
       "    .dataframe tbody tr th:only-of-type {\n",
       "        vertical-align: middle;\n",
       "    }\n",
       "\n",
       "    .dataframe tbody tr th {\n",
       "        vertical-align: top;\n",
       "    }\n",
       "\n",
       "    .dataframe thead th {\n",
       "        text-align: right;\n",
       "    }\n",
       "</style>\n",
       "<table border=\"1\" class=\"dataframe\">\n",
       "  <thead>\n",
       "    <tr style=\"text-align: right;\">\n",
       "      <th></th>\n",
       "      <th>type</th>\n",
       "      <th>finish</th>\n",
       "      <th>nb_games</th>\n",
       "      <th>nb_games_finished</th>\n",
       "    </tr>\n",
       "    <tr>\n",
       "      <th>hashedIpAddress</th>\n",
       "      <th></th>\n",
       "      <th></th>\n",
       "      <th></th>\n",
       "      <th></th>\n",
       "    </tr>\n",
       "  </thead>\n",
       "  <tbody>\n",
       "    <tr>\n",
       "      <th>000386124f307de8</th>\n",
       "      <td>[finished, timeout]</td>\n",
       "      <td>timeout</td>\n",
       "      <td>2</td>\n",
       "      <td>1</td>\n",
       "    </tr>\n",
       "    <tr>\n",
       "      <th>0007183207b6008f</th>\n",
       "      <td>[finished, finished, finished]</td>\n",
       "      <td>finished</td>\n",
       "      <td>3</td>\n",
       "      <td>3</td>\n",
       "    </tr>\n",
       "    <tr>\n",
       "      <th>000a09e202e88d10</th>\n",
       "      <td>[finished]</td>\n",
       "      <td>finished</td>\n",
       "      <td>1</td>\n",
       "      <td>1</td>\n",
       "    </tr>\n",
       "    <tr>\n",
       "      <th>000a5bac5b7781ea</th>\n",
       "      <td>[finished]</td>\n",
       "      <td>finished</td>\n",
       "      <td>1</td>\n",
       "      <td>1</td>\n",
       "    </tr>\n",
       "  </tbody>\n",
       "</table>\n",
       "</div>"
      ],
      "text/plain": [
       "                                            type    finish  nb_games  \\\n",
       "hashedIpAddress                                                        \n",
       "000386124f307de8             [finished, timeout]   timeout         2   \n",
       "0007183207b6008f  [finished, finished, finished]  finished         3   \n",
       "000a09e202e88d10                      [finished]  finished         1   \n",
       "000a5bac5b7781ea                      [finished]  finished         1   \n",
       "\n",
       "                  nb_games_finished  \n",
       "hashedIpAddress                      \n",
       "000386124f307de8                  1  \n",
       "0007183207b6008f                  3  \n",
       "000a09e202e88d10                  1  \n",
       "000a5bac5b7781ea                  1  "
      ]
     },
     "execution_count": 47,
     "metadata": {},
     "output_type": "execute_result"
    }
   ],
   "source": [
    "#Get number of finished games per player\n",
    "players_record['nb_games_finished'] = players_record['type'].apply(lambda x: x.count('finished'))\n",
    "\n",
    "#Display snippet of result\n",
    "players_record.head(4)"
   ]
  },
  {
   "cell_type": "code",
   "execution_count": 48,
   "id": "e90a2584-e91a-40af-81ba-3addc93220dc",
   "metadata": {},
   "outputs": [
    {
     "name": "stderr",
     "output_type": "stream",
     "text": [
      "C:\\Users\\26553\\anaconda3\\lib\\site-packages\\pandas\\core\\arraylike.py:397: RuntimeWarning: divide by zero encountered in log10\n",
      "  result = getattr(ufunc, method)(*inputs, **kwargs)\n"
     ]
    },
    {
     "data": {
      "image/png": "[encoded data removed]",
      "text/plain": [
       "<Figure size 1400x400 with 3 Axes>"
      ]
     },
     "metadata": {},
     "output_type": "display_data"
    }
   ],
   "source": [
    "#Now repeat distribution analysis\n",
    "\n",
    "#Initialize figure and axis\n",
    "fig = plt.figure(figsize=(14,4))\n",
    "fig.suptitle('Number of games played')\n",
    "ax = plt.subplot(1,2,1)\n",
    "flierprops = {'marker': '.', 'markersize': 4, 'markerfacecolor': 'k'}\n",
    "boxprops= {'facecolor': (31/255, 119/255, 180/255, 0.5), 'color': 'k'}\n",
    "medianprops = {'color': (31/255, 119/255, 180/255)}\n",
    "\n",
    "#Initialize number of games per group (now only taking into account the total number of finished paths)\n",
    "nb_games_finished = players_record[players_record['finish'] == 'finished'].nb_games_finished\n",
    "nb_games_timeout = players_record[players_record['finish'] == 'timeout'].nb_games_finished\n",
    "nb_games_restart = players_record[players_record['finish'] == 'restart'].nb_games_finished\n",
    "\n",
    "ax = plt.subplot(1,2,1)\n",
    "ax.boxplot([nb_games_timeout, nb_games_restart, nb_games_finished], patch_artist=True, flierprops=flierprops, boxprops=boxprops, medianprops=medianprops, labels=['timeout', 'restart', 'finished']);\n",
    "ax.set_yscale('log')\n",
    "ax.set_ylabel('lnumber of games played (log-scale)')\n",
    "ax.spines['right'].set_visible(False)\n",
    "ax.spines['top'].set_visible(False)\n",
    "\n",
    "ax = plt.subplot(2,2,4)\n",
    "(_, bins, _) = ax.hist(np.log10(nb_games_finished), bins=20, log=True, edgecolor=(0,0,0, 0.5), color=(235/255, 184/255, 164/255, 0.5), label='finished');\n",
    "ax.legend();\n",
    "ax.set_xlabel('log(#games)')\n",
    "xlim = ax.get_xlim();\n",
    "\n",
    "ax = plt.subplot(2,2,2)\n",
    "ax.hist(np.log10(nb_games_timeout), log=True, bins=bins, edgecolor=(0,0,0, 0.5), color=(31/255, 119/255, 180/255, 0.5), label='timeout');\n",
    "ax.hist(np.log10(nb_games_restart), log=True, bins=bins, edgecolor=(0,0,0, 0.5), color=(120/255, 194/255, 139/255, 0.5), label='restart');\n",
    "ax.legend();\n",
    "ax.set_xlim(xlim);\n"
   ]
  },
  {
   "cell_type": "code",
   "execution_count": 49,
   "id": "de2b2def-8840-4b8a-ac80-c633c9e819c1",
   "metadata": {},
   "outputs": [
    {
     "name": "stdout",
     "output_type": "stream",
     "text": [
      "0.317391095988882\n"
     ]
    }
   ],
   "source": [
    "print(len(players_record[players_record['nb_games_finished'] == 0])/len(players_record))"
   ]
  },
  {
   "cell_type": "code",
   "execution_count": 50,
   "id": "6febee53-69ab-476e-ac08-9200996ddc3d",
   "metadata": {},
   "outputs": [
    {
     "data": {
      "text/html": [
       "<div>\n",
       "<style scoped>\n",
       "    .dataframe tbody tr th:only-of-type {\n",
       "        vertical-align: middle;\n",
       "    }\n",
       "\n",
       "    .dataframe tbody tr th {\n",
       "        vertical-align: top;\n",
       "    }\n",
       "\n",
       "    .dataframe thead th {\n",
       "        text-align: right;\n",
       "    }\n",
       "</style>\n",
       "<table border=\"1\" class=\"dataframe\">\n",
       "  <thead>\n",
       "    <tr style=\"text-align: right;\">\n",
       "      <th></th>\n",
       "      <th>type</th>\n",
       "      <th>finish</th>\n",
       "      <th>nb_games</th>\n",
       "      <th>nb_games_finished</th>\n",
       "      <th>count_restart</th>\n",
       "    </tr>\n",
       "    <tr>\n",
       "      <th>hashedIpAddress</th>\n",
       "      <th></th>\n",
       "      <th></th>\n",
       "      <th></th>\n",
       "      <th></th>\n",
       "      <th></th>\n",
       "    </tr>\n",
       "  </thead>\n",
       "  <tbody>\n",
       "    <tr>\n",
       "      <th>0007183207b6008f</th>\n",
       "      <td>[finished, finished, finished]</td>\n",
       "      <td>finished</td>\n",
       "      <td>3</td>\n",
       "      <td>3</td>\n",
       "      <td>0</td>\n",
       "    </tr>\n",
       "    <tr>\n",
       "      <th>000a09e202e88d10</th>\n",
       "      <td>[finished]</td>\n",
       "      <td>finished</td>\n",
       "      <td>1</td>\n",
       "      <td>1</td>\n",
       "      <td>0</td>\n",
       "    </tr>\n",
       "    <tr>\n",
       "      <th>000a5bac5b7781ea</th>\n",
       "      <td>[finished]</td>\n",
       "      <td>finished</td>\n",
       "      <td>1</td>\n",
       "      <td>1</td>\n",
       "      <td>0</td>\n",
       "    </tr>\n",
       "    <tr>\n",
       "      <th>000bc9fe5640ed31</th>\n",
       "      <td>[finished, finished]</td>\n",
       "      <td>finished</td>\n",
       "      <td>2</td>\n",
       "      <td>2</td>\n",
       "      <td>0</td>\n",
       "    </tr>\n",
       "    <tr>\n",
       "      <th>000d397013f09039</th>\n",
       "      <td>[finished, finished]</td>\n",
       "      <td>finished</td>\n",
       "      <td>2</td>\n",
       "      <td>2</td>\n",
       "      <td>0</td>\n",
       "    </tr>\n",
       "    <tr>\n",
       "      <th>...</th>\n",
       "      <td>...</td>\n",
       "      <td>...</td>\n",
       "      <td>...</td>\n",
       "      <td>...</td>\n",
       "      <td>...</td>\n",
       "    </tr>\n",
       "    <tr>\n",
       "      <th>7ff148736fec736b</th>\n",
       "      <td>[finished]</td>\n",
       "      <td>finished</td>\n",
       "      <td>1</td>\n",
       "      <td>1</td>\n",
       "      <td>0</td>\n",
       "    </tr>\n",
       "    <tr>\n",
       "      <th>7ff22bc234aae409</th>\n",
       "      <td>[finished, finished]</td>\n",
       "      <td>finished</td>\n",
       "      <td>2</td>\n",
       "      <td>2</td>\n",
       "      <td>0</td>\n",
       "    </tr>\n",
       "    <tr>\n",
       "      <th>7ff6629e33e63213</th>\n",
       "      <td>[finished]</td>\n",
       "      <td>finished</td>\n",
       "      <td>1</td>\n",
       "      <td>1</td>\n",
       "      <td>0</td>\n",
       "    </tr>\n",
       "    <tr>\n",
       "      <th>7ffc5c7421311771</th>\n",
       "      <td>[finished, finished]</td>\n",
       "      <td>finished</td>\n",
       "      <td>2</td>\n",
       "      <td>2</td>\n",
       "      <td>0</td>\n",
       "    </tr>\n",
       "    <tr>\n",
       "      <th>7fffdba06c21ba08</th>\n",
       "      <td>[finished, finished]</td>\n",
       "      <td>finished</td>\n",
       "      <td>2</td>\n",
       "      <td>2</td>\n",
       "      <td>0</td>\n",
       "    </tr>\n",
       "  </tbody>\n",
       "</table>\n",
       "<p>10998 rows × 5 columns</p>\n",
       "</div>"
      ],
      "text/plain": [
       "                                            type    finish  nb_games  \\\n",
       "hashedIpAddress                                                        \n",
       "0007183207b6008f  [finished, finished, finished]  finished         3   \n",
       "000a09e202e88d10                      [finished]  finished         1   \n",
       "000a5bac5b7781ea                      [finished]  finished         1   \n",
       "000bc9fe5640ed31            [finished, finished]  finished         2   \n",
       "000d397013f09039            [finished, finished]  finished         2   \n",
       "...                                          ...       ...       ...   \n",
       "7ff148736fec736b                      [finished]  finished         1   \n",
       "7ff22bc234aae409            [finished, finished]  finished         2   \n",
       "7ff6629e33e63213                      [finished]  finished         1   \n",
       "7ffc5c7421311771            [finished, finished]  finished         2   \n",
       "7fffdba06c21ba08            [finished, finished]  finished         2   \n",
       "\n",
       "                  nb_games_finished  count_restart  \n",
       "hashedIpAddress                                     \n",
       "0007183207b6008f                  3              0  \n",
       "000a09e202e88d10                  1              0  \n",
       "000a5bac5b7781ea                  1              0  \n",
       "000bc9fe5640ed31                  2              0  \n",
       "000d397013f09039                  2              0  \n",
       "...                             ...            ...  \n",
       "7ff148736fec736b                  1              0  \n",
       "7ff22bc234aae409                  2              0  \n",
       "7ff6629e33e63213                  1              0  \n",
       "7ffc5c7421311771                  2              0  \n",
       "7fffdba06c21ba08                  2              0  \n",
       "\n",
       "[10998 rows x 5 columns]"
      ]
     },
     "execution_count": 50,
     "metadata": {},
     "output_type": "execute_result"
    }
   ],
   "source": [
    "timeout = players_record[players_record['finish'] == 'timeout'].copy()\n",
    "finished = players_record[players_record['finish'] == 'finished'].copy()\n",
    "search_word = 'restart'\n",
    "\n",
    "timeout['count_restart'] = timeout['type'].apply(lambda x: x.count(search_word))\n",
    "finished['count_restart'] = finished['type'].apply(lambda x: x.count(search_word))\n",
    "finished"
   ]
  },
  {
   "cell_type": "code",
   "execution_count": 51,
   "id": "876e4444-24bb-42d8-86d7-a799b50ebbb2",
   "metadata": {},
   "outputs": [],
   "source": [
    "def clean_alt_list(list_):\n",
    "    list_ = list_.replace(', ', '\",\"')\n",
    "    list_ = list_.replace('[', '[\"')\n",
    "    list_ = list_.replace(']', '\"]')\n",
    "    return list_"
   ]
  },
  {
   "cell_type": "code",
   "execution_count": 52,
   "id": "3f3b0f8f-d5db-415e-9443-056be1636aa3",
   "metadata": {},
   "outputs": [
    {
     "ename": "NameError",
     "evalue": "name 'x' is not defined",
     "output_type": "error",
     "traceback": [
      "\u001b[1;31m---------------------------------------------------------------------------\u001b[0m",
      "\u001b[1;31mNameError\u001b[0m                                 Traceback (most recent call last)",
      "\u001b[1;32m~\\AppData\\Local\\Temp\\ipykernel_11652\\1499950612.py\u001b[0m in \u001b[0;36m<module>\u001b[1;34m\u001b[0m\n\u001b[1;32m----> 1\u001b[1;33m \u001b[0mclean_alt_list\u001b[0m\u001b[1;33m(\u001b[0m\u001b[0mx\u001b[0m\u001b[1;33m[\u001b[0m\u001b[1;34m'type'\u001b[0m\u001b[1;33m]\u001b[0m\u001b[1;33m)\u001b[0m\u001b[1;33m\u001b[0m\u001b[1;33m\u001b[0m\u001b[0m\n\u001b[0m",
      "\u001b[1;31mNameError\u001b[0m: name 'x' is not defined"
     ]
    }
   ],
   "source": [
    "clean_alt_list(x['type'])"
   ]
  },
  {
   "cell_type": "code",
   "execution_count": 53,
   "id": "f8958208-3f75-4fca-9185-cae25489bf34",
   "metadata": {},
   "outputs": [],
   "source": [
    "#Start initial code\n",
    "players_record['finished'] = players_record['type'].apply(lambda x: True if 'finished' in x[:-1] else False)"
   ]
  },
  {
   "cell_type": "markdown",
   "id": "d83d8ee8",
   "metadata": {},
   "source": [
    "</div>\n",
    "<div class=\"1.1 explanation\" style='background-color:#08135c; border-left: solid #darkblue 4px; border-radius: 4px; padding:0.7em;'>\n",
    "    <span style=\"color:white\">\n",
    "       <h3>4.4 Remaining distance analysis</h3>\n",
    "    </span>\n",
    "</div>\n",
    "</div>\n",
    "<div class=\"1.1 explanation\" style='background-color:#faefe1; border-left: solid #darkblue 4px; border-radius: 4px; padding:0.7em;'>\n",
    "    <span style=\"color:black\">\n",
    "        Analysis on the remaining distance to the target for each run. (TODO: add details later)\n",
    "    </span>\n",
    "</div>"
   ]
  },
  {
   "cell_type": "code",
   "execution_count": 66,
   "id": "a688cf6c",
   "metadata": {},
   "outputs": [
    {
     "data": {
      "text/html": [
       "<div>\n",
       "<style scoped>\n",
       "    .dataframe tbody tr th:only-of-type {\n",
       "        vertical-align: middle;\n",
       "    }\n",
       "\n",
       "    .dataframe tbody tr th {\n",
       "        vertical-align: top;\n",
       "    }\n",
       "\n",
       "    .dataframe thead th {\n",
       "        text-align: right;\n",
       "    }\n",
       "</style>\n",
       "<table border=\"1\" class=\"dataframe\">\n",
       "  <thead>\n",
       "    <tr style=\"text-align: right;\">\n",
       "      <th></th>\n",
       "      <th>path_id</th>\n",
       "      <th>hashedIpAddress</th>\n",
       "      <th>timestamp</th>\n",
       "      <th>durationInSec</th>\n",
       "      <th>path</th>\n",
       "      <th>pathLength</th>\n",
       "      <th>target</th>\n",
       "      <th>type</th>\n",
       "    </tr>\n",
       "  </thead>\n",
       "  <tbody>\n",
       "    <tr>\n",
       "      <th>0</th>\n",
       "      <td>0</td>\n",
       "      <td>6a3701d319fc3754</td>\n",
       "      <td>1297740409</td>\n",
       "      <td>166</td>\n",
       "      <td>14th_century;15th_century;16th_century;Pacific...</td>\n",
       "      <td>9</td>\n",
       "      <td>African_slave_trade</td>\n",
       "      <td>finished</td>\n",
       "    </tr>\n",
       "    <tr>\n",
       "      <th>1</th>\n",
       "      <td>1</td>\n",
       "      <td>3824310e536af032</td>\n",
       "      <td>1344753412</td>\n",
       "      <td>88</td>\n",
       "      <td>14th_century;Europe;Africa;Atlantic_slave_trad...</td>\n",
       "      <td>5</td>\n",
       "      <td>African_slave_trade</td>\n",
       "      <td>finished</td>\n",
       "    </tr>\n",
       "    <tr>\n",
       "      <th>2</th>\n",
       "      <td>2</td>\n",
       "      <td>415612e93584d30e</td>\n",
       "      <td>1349298640</td>\n",
       "      <td>138</td>\n",
       "      <td>14th_century;Niger;Nigeria;British_Empire;Slav...</td>\n",
       "      <td>8</td>\n",
       "      <td>African_slave_trade</td>\n",
       "      <td>finished</td>\n",
       "    </tr>\n",
       "    <tr>\n",
       "      <th>3</th>\n",
       "      <td>3</td>\n",
       "      <td>64dd5cd342e3780c</td>\n",
       "      <td>1265613925</td>\n",
       "      <td>37</td>\n",
       "      <td>14th_century;Renaissance;Ancient_Greece;Greece</td>\n",
       "      <td>4</td>\n",
       "      <td>Greece</td>\n",
       "      <td>finished</td>\n",
       "    </tr>\n",
       "    <tr>\n",
       "      <th>4</th>\n",
       "      <td>4</td>\n",
       "      <td>015245d773376aab</td>\n",
       "      <td>1366730828</td>\n",
       "      <td>175</td>\n",
       "      <td>14th_century;Italy;Roman_Catholic_Church;HIV;R...</td>\n",
       "      <td>7</td>\n",
       "      <td>John_F._Kennedy</td>\n",
       "      <td>finished</td>\n",
       "    </tr>\n",
       "    <tr>\n",
       "      <th>5</th>\n",
       "      <td>5</td>\n",
       "      <td>5295bca242be81fe</td>\n",
       "      <td>1372890414</td>\n",
       "      <td>110</td>\n",
       "      <td>14th_century;Europe;North_America;United_State...</td>\n",
       "      <td>6</td>\n",
       "      <td>John_F._Kennedy</td>\n",
       "      <td>finished</td>\n",
       "    </tr>\n",
       "    <tr>\n",
       "      <th>6</th>\n",
       "      <td>6</td>\n",
       "      <td>36dabfa133b20e3c</td>\n",
       "      <td>1249525912</td>\n",
       "      <td>112</td>\n",
       "      <td>14th_century;China;Gunpowder;Fire</td>\n",
       "      <td>4</td>\n",
       "      <td>Fire</td>\n",
       "      <td>finished</td>\n",
       "    </tr>\n",
       "    <tr>\n",
       "      <th>7</th>\n",
       "      <td>7</td>\n",
       "      <td>20418ff4797f96be</td>\n",
       "      <td>1229188046</td>\n",
       "      <td>139</td>\n",
       "      <td>14th_century;Time;Isaac_Newton;Light;Color;Rai...</td>\n",
       "      <td>6</td>\n",
       "      <td>Rainbow</td>\n",
       "      <td>finished</td>\n",
       "    </tr>\n",
       "    <tr>\n",
       "      <th>8</th>\n",
       "      <td>8</td>\n",
       "      <td>08888b1b428dd90e</td>\n",
       "      <td>1232241510</td>\n",
       "      <td>74</td>\n",
       "      <td>14th_century;Time;Light;Rainbow</td>\n",
       "      <td>4</td>\n",
       "      <td>Rainbow</td>\n",
       "      <td>finished</td>\n",
       "    </tr>\n",
       "    <tr>\n",
       "      <th>9</th>\n",
       "      <td>9</td>\n",
       "      <td>08888b1b428dd90e</td>\n",
       "      <td>1232241601</td>\n",
       "      <td>167</td>\n",
       "      <td>14th_century;15th_century;Plato;Nature;Ultravi...</td>\n",
       "      <td>7</td>\n",
       "      <td>Rainbow</td>\n",
       "      <td>finished</td>\n",
       "    </tr>\n",
       "  </tbody>\n",
       "</table>\n",
       "</div>"
      ],
      "text/plain": [
       "   path_id   hashedIpAddress   timestamp  durationInSec  \\\n",
       "0        0  6a3701d319fc3754  1297740409            166   \n",
       "1        1  3824310e536af032  1344753412             88   \n",
       "2        2  415612e93584d30e  1349298640            138   \n",
       "3        3  64dd5cd342e3780c  1265613925             37   \n",
       "4        4  015245d773376aab  1366730828            175   \n",
       "5        5  5295bca242be81fe  1372890414            110   \n",
       "6        6  36dabfa133b20e3c  1249525912            112   \n",
       "7        7  20418ff4797f96be  1229188046            139   \n",
       "8        8  08888b1b428dd90e  1232241510             74   \n",
       "9        9  08888b1b428dd90e  1232241601            167   \n",
       "\n",
       "                                                path  pathLength  \\\n",
       "0  14th_century;15th_century;16th_century;Pacific...           9   \n",
       "1  14th_century;Europe;Africa;Atlantic_slave_trad...           5   \n",
       "2  14th_century;Niger;Nigeria;British_Empire;Slav...           8   \n",
       "3     14th_century;Renaissance;Ancient_Greece;Greece           4   \n",
       "4  14th_century;Italy;Roman_Catholic_Church;HIV;R...           7   \n",
       "5  14th_century;Europe;North_America;United_State...           6   \n",
       "6                  14th_century;China;Gunpowder;Fire           4   \n",
       "7  14th_century;Time;Isaac_Newton;Light;Color;Rai...           6   \n",
       "8                    14th_century;Time;Light;Rainbow           4   \n",
       "9  14th_century;15th_century;Plato;Nature;Ultravi...           7   \n",
       "\n",
       "                target      type  \n",
       "0  African_slave_trade  finished  \n",
       "1  African_slave_trade  finished  \n",
       "2  African_slave_trade  finished  \n",
       "3               Greece  finished  \n",
       "4      John_F._Kennedy  finished  \n",
       "5      John_F._Kennedy  finished  \n",
       "6                 Fire  finished  \n",
       "7              Rainbow  finished  \n",
       "8              Rainbow  finished  \n",
       "9              Rainbow  finished  "
      ]
     },
     "execution_count": 66,
     "metadata": {},
     "output_type": "execute_result"
    }
   ],
   "source": [
    "paths_all.head(10)"
   ]
  },
  {
   "cell_type": "code",
   "execution_count": 169,
   "id": "e8035da1",
   "metadata": {},
   "outputs": [],
   "source": [
    "paths_all.index = paths_all['timestamp']\n",
    "group = paths_all.groupby('hashedIpAddress')\n",
    "new_paths_all = pd.DataFrame()\n",
    "for key, df in group:\n",
    "    df['bh_type']= 'continue'\n",
    "    df.loc[df.index.max(),'bh_type'] = 'quit'\n",
    "    new_paths_all = pd.concat([new_paths_all,df])"
   ]
  },
  {
   "cell_type": "code",
   "execution_count": 180,
   "id": "b0e52707",
   "metadata": {},
   "outputs": [],
   "source": [
    "def graph_dist(Graph, current_node, target_node):\n",
    "    try:\n",
    "        return nx.shortest_path_length(Graph,current_node,target_node)\n",
    "    except:\n",
    "        return np.inf\n",
    "    \n",
    "def _parse_withdraw(path):\n",
    "    page_stack = []\n",
    "    parsed_path = []\n",
    "    time_withdraw = 0\n",
    "    for node in path:\n",
    "        if node != '<':\n",
    "            page_stack.append(node)\n",
    "        else:\n",
    "            page_stack.pop()\n",
    "            time_withdraw = time_withdraw +1\n",
    "        parsed_path.append(page_stack[-1])\n",
    "    return [parsed_path, time_withdraw]\n",
    "\n",
    "#Generate statics for each run of each player\n",
    "#Remaining distance to the target when timeout or restart\n",
    "end_node_df = pd.DataFrame(new_paths_all['path'].apply(lambda p: p.split(';')).apply(lambda pl: _parse_withdraw(pl)[0]))\n",
    "end_node_df['hashedIpAddress'] = new_paths_all['hashedIpAddress']\n",
    "end_node_df['target'] = new_paths_all['target']\n",
    "end_node_df['type'] = new_paths_all['type']\n",
    "end_node_df['bh_type'] = new_paths_all['bh_type']\n",
    "end_node_df['pathLength'] = new_paths_all['pathLength']\n",
    "end_node_df['n_withdraws'] = pd.DataFrame(new_paths_all['path'].apply(lambda p: p.split(';')).apply(lambda pl: _parse_withdraw(pl)[1]))\n",
    "end_node_df['end_node'] = end_node_df['path'].apply(lambda p: p[-1])\n",
    "end_node_df['M_path_dist_to_target'] = end_node_df[['path','target']].apply(lambda r: [graph_dist(G_links, r[0][i], r[1]) for i in range(len(r[0]))], axis = 1)\n",
    "end_node_df['P_path_dist_to_target'] = end_node_df[['path','target']].apply(lambda r: [graph_dist(G_paths, r[0][i], r[1]) for i in range(len(r[0]))], axis = 1)\n",
    "end_node_df['M_dist_to_target'] = end_node_df[['end_node','target']].apply(lambda r: graph_dist(G_links, r[0], r[1]), axis = 1)\n",
    "end_node_df['P_dist_to_target'] = end_node_df[['end_node','target']].apply(lambda r: graph_dist(G_paths, r[0], r[1]), axis = 1)"
   ]
  },
  {
   "cell_type": "code",
   "execution_count": 181,
   "id": "baaaeaea",
   "metadata": {},
   "outputs": [
    {
     "data": {
      "text/html": [
       "<div>\n",
       "<style scoped>\n",
       "    .dataframe tbody tr th:only-of-type {\n",
       "        vertical-align: middle;\n",
       "    }\n",
       "\n",
       "    .dataframe tbody tr th {\n",
       "        vertical-align: top;\n",
       "    }\n",
       "\n",
       "    .dataframe thead th {\n",
       "        text-align: right;\n",
       "    }\n",
       "</style>\n",
       "<table border=\"1\" class=\"dataframe\">\n",
       "  <thead>\n",
       "    <tr style=\"text-align: right;\">\n",
       "      <th></th>\n",
       "      <th>path</th>\n",
       "      <th>hashedIpAddress</th>\n",
       "      <th>target</th>\n",
       "      <th>type</th>\n",
       "      <th>bh_type</th>\n",
       "      <th>pathLength</th>\n",
       "      <th>n_withdraws</th>\n",
       "      <th>end_node</th>\n",
       "      <th>M_path_dist_to_target</th>\n",
       "      <th>P_path_dist_to_target</th>\n",
       "      <th>M_dist_to_target</th>\n",
       "      <th>P_dist_to_target</th>\n",
       "    </tr>\n",
       "    <tr>\n",
       "      <th>timestamp</th>\n",
       "      <th></th>\n",
       "      <th></th>\n",
       "      <th></th>\n",
       "      <th></th>\n",
       "      <th></th>\n",
       "      <th></th>\n",
       "      <th></th>\n",
       "      <th></th>\n",
       "      <th></th>\n",
       "      <th></th>\n",
       "      <th></th>\n",
       "      <th></th>\n",
       "    </tr>\n",
       "  </thead>\n",
       "  <tbody>\n",
       "    <tr>\n",
       "      <th>1384808209</th>\n",
       "      <td>[American_football, United_States, Gulf_of_Mex...</td>\n",
       "      <td>01fe033a3da9cc6f</td>\n",
       "      <td>Nurse_sharks</td>\n",
       "      <td>restart</td>\n",
       "      <td>continue</td>\n",
       "      <td>16</td>\n",
       "      <td>1</td>\n",
       "      <td>Wikipedia_Text_of_the_GNU_Free_Documentation_L...</td>\n",
       "      <td>[4, 3, 4, 3, 4, 4, 4, 4, 5, 5, 4, 4, 5, 5, 4, ...</td>\n",
       "      <td>[5, 5, 5, 5, 5, 4, 3, 5, 5, 5, 4, 4, 5, 5, 5, ...</td>\n",
       "      <td>inf</td>\n",
       "      <td>inf</td>\n",
       "    </tr>\n",
       "    <tr>\n",
       "      <th>1386341594</th>\n",
       "      <td>[Bob_Dylan, England, Church_of_England, Christ...</td>\n",
       "      <td>020221361453bf83</td>\n",
       "      <td>Christmas</td>\n",
       "      <td>timeout</td>\n",
       "      <td>quit</td>\n",
       "      <td>86</td>\n",
       "      <td>4</td>\n",
       "      <td>Santa_Claus</td>\n",
       "      <td>[inf, inf, inf, inf, inf, inf, inf, inf, inf, ...</td>\n",
       "      <td>[inf, inf, inf, inf, inf, inf, inf, inf, inf, ...</td>\n",
       "      <td>inf</td>\n",
       "      <td>inf</td>\n",
       "    </tr>\n",
       "    <tr>\n",
       "      <th>1384810111</th>\n",
       "      <td>[American_football, Japan, Pacific_Ocean, Wate...</td>\n",
       "      <td>02622b2a411f9528</td>\n",
       "      <td>Nurse_sharks</td>\n",
       "      <td>timeout</td>\n",
       "      <td>quit</td>\n",
       "      <td>18</td>\n",
       "      <td>1</td>\n",
       "      <td>Wikipedia_Text_of_the_GNU_Free_Documentation_L...</td>\n",
       "      <td>[4, 4, 4, 4, 4, 3, 3, 3, 2, 3, 5, 5, 5, 5, 4, ...</td>\n",
       "      <td>[5, 5, 4, 4, 4, 3, 3, 3, 2, 3, 5, 5, 5, 4, 4, ...</td>\n",
       "      <td>inf</td>\n",
       "      <td>inf</td>\n",
       "    </tr>\n",
       "    <tr>\n",
       "      <th>1349217358</th>\n",
       "      <td>[Italy, Civilization, Agriculture, Food, Cerea...</td>\n",
       "      <td>03c7911c2da6e952</td>\n",
       "      <td>Apricot</td>\n",
       "      <td>restart</td>\n",
       "      <td>continue</td>\n",
       "      <td>15</td>\n",
       "      <td>0</td>\n",
       "      <td>Osteomalacia</td>\n",
       "      <td>[3, 2, 3, 3, 3, 2, 3, 3, 4, 3, 2, 3, 3, 3, inf]</td>\n",
       "      <td>[4, 3, 3, 3, 3, 2, 3, 3, 4, 3, 2, 3, 3, 3, inf]</td>\n",
       "      <td>inf</td>\n",
       "      <td>inf</td>\n",
       "    </tr>\n",
       "    <tr>\n",
       "      <th>1383948357</th>\n",
       "      <td>[Finance, Wikipedia_Text_of_the_GNU_Free_Docum...</td>\n",
       "      <td>03d8e8356e847fba</td>\n",
       "      <td>Drawing</td>\n",
       "      <td>timeout</td>\n",
       "      <td>quit</td>\n",
       "      <td>2</td>\n",
       "      <td>0</td>\n",
       "      <td>Wikipedia_Text_of_the_GNU_Free_Documentation_L...</td>\n",
       "      <td>[3, inf]</td>\n",
       "      <td>[3, inf]</td>\n",
       "      <td>inf</td>\n",
       "      <td>inf</td>\n",
       "    </tr>\n",
       "    <tr>\n",
       "      <th>...</th>\n",
       "      <td>...</td>\n",
       "      <td>...</td>\n",
       "      <td>...</td>\n",
       "      <td>...</td>\n",
       "      <td>...</td>\n",
       "      <td>...</td>\n",
       "      <td>...</td>\n",
       "      <td>...</td>\n",
       "      <td>...</td>\n",
       "      <td>...</td>\n",
       "      <td>...</td>\n",
       "      <td>...</td>\n",
       "    </tr>\n",
       "    <tr>\n",
       "      <th>1358613735</th>\n",
       "      <td>[Makuria, Wikipedia_Text_of_the_GNU_Free_Docum...</td>\n",
       "      <td>7a605148622e8d20</td>\n",
       "      <td>Rain</td>\n",
       "      <td>timeout</td>\n",
       "      <td>quit</td>\n",
       "      <td>2</td>\n",
       "      <td>0</td>\n",
       "      <td>Wikipedia_Text_of_the_GNU_Free_Documentation_L...</td>\n",
       "      <td>[3, inf]</td>\n",
       "      <td>[3, inf]</td>\n",
       "      <td>inf</td>\n",
       "      <td>inf</td>\n",
       "    </tr>\n",
       "    <tr>\n",
       "      <th>1385486158</th>\n",
       "      <td>[Sequoia, Fungus, Wikipedia_Text_of_the_GNU_Fr...</td>\n",
       "      <td>7af57fb07e7a95d2</td>\n",
       "      <td>Turkey_(bird)</td>\n",
       "      <td>restart</td>\n",
       "      <td>continue</td>\n",
       "      <td>3</td>\n",
       "      <td>0</td>\n",
       "      <td>Wikipedia_Text_of_the_GNU_Free_Documentation_L...</td>\n",
       "      <td>[3, 3, inf]</td>\n",
       "      <td>[3, 3, inf]</td>\n",
       "      <td>inf</td>\n",
       "      <td>inf</td>\n",
       "    </tr>\n",
       "    <tr>\n",
       "      <th>1350482490</th>\n",
       "      <td>[Bird, Wikipedia_Text_of_the_GNU_Free_Document...</td>\n",
       "      <td>7c603b7970c0bde1</td>\n",
       "      <td>Adolf_Hitler</td>\n",
       "      <td>timeout</td>\n",
       "      <td>quit</td>\n",
       "      <td>4</td>\n",
       "      <td>1</td>\n",
       "      <td>Wikipedia_Text_of_the_GNU_Free_Documentation_L...</td>\n",
       "      <td>[2, inf, 2, inf]</td>\n",
       "      <td>[3, inf, 3, inf]</td>\n",
       "      <td>inf</td>\n",
       "      <td>inf</td>\n",
       "    </tr>\n",
       "    <tr>\n",
       "      <th>1347903833</th>\n",
       "      <td>[China, World_War_II, Royal_Air_Force, Cold_Wa...</td>\n",
       "      <td>7d5624e35c9523ef</td>\n",
       "      <td>The_X-Files</td>\n",
       "      <td>restart</td>\n",
       "      <td>continue</td>\n",
       "      <td>40</td>\n",
       "      <td>1</td>\n",
       "      <td>Wikipedia_Text_of_the_GNU_Free_Documentation_L...</td>\n",
       "      <td>[3, 3, 4, 3, 3, 3, 4, 3, 3, 3, 3, 3, 4, 3, 4, ...</td>\n",
       "      <td>[4, 4, 4, 4, 4, 4, 4, 4, 4, 4, 4, 4, 4, 4, 4, ...</td>\n",
       "      <td>inf</td>\n",
       "      <td>inf</td>\n",
       "    </tr>\n",
       "    <tr>\n",
       "      <th>1383934756</th>\n",
       "      <td>[Psychology, Brain, Action_potential, Capacita...</td>\n",
       "      <td>7e5638b972fd2a9f</td>\n",
       "      <td>Playing_card</td>\n",
       "      <td>timeout</td>\n",
       "      <td>quit</td>\n",
       "      <td>7</td>\n",
       "      <td>0</td>\n",
       "      <td>Wikipedia_Text_of_the_GNU_Free_Documentation_L...</td>\n",
       "      <td>[4, 4, 4, 4, 4, 4, inf]</td>\n",
       "      <td>[4, 4, 4, 4, 4, 4, inf]</td>\n",
       "      <td>inf</td>\n",
       "      <td>inf</td>\n",
       "    </tr>\n",
       "  </tbody>\n",
       "</table>\n",
       "<p>101 rows × 12 columns</p>\n",
       "</div>"
      ],
      "text/plain": [
       "                                                         path  \\\n",
       "timestamp                                                       \n",
       "1384808209  [American_football, United_States, Gulf_of_Mex...   \n",
       "1386341594  [Bob_Dylan, England, Church_of_England, Christ...   \n",
       "1384810111  [American_football, Japan, Pacific_Ocean, Wate...   \n",
       "1349217358  [Italy, Civilization, Agriculture, Food, Cerea...   \n",
       "1383948357  [Finance, Wikipedia_Text_of_the_GNU_Free_Docum...   \n",
       "...                                                       ...   \n",
       "1358613735  [Makuria, Wikipedia_Text_of_the_GNU_Free_Docum...   \n",
       "1385486158  [Sequoia, Fungus, Wikipedia_Text_of_the_GNU_Fr...   \n",
       "1350482490  [Bird, Wikipedia_Text_of_the_GNU_Free_Document...   \n",
       "1347903833  [China, World_War_II, Royal_Air_Force, Cold_Wa...   \n",
       "1383934756  [Psychology, Brain, Action_potential, Capacita...   \n",
       "\n",
       "             hashedIpAddress         target     type   bh_type  pathLength  \\\n",
       "timestamp                                                                    \n",
       "1384808209  01fe033a3da9cc6f   Nurse_sharks  restart  continue          16   \n",
       "1386341594  020221361453bf83      Christmas  timeout      quit          86   \n",
       "1384810111  02622b2a411f9528   Nurse_sharks  timeout      quit          18   \n",
       "1349217358  03c7911c2da6e952        Apricot  restart  continue          15   \n",
       "1383948357  03d8e8356e847fba        Drawing  timeout      quit           2   \n",
       "...                      ...            ...      ...       ...         ...   \n",
       "1358613735  7a605148622e8d20           Rain  timeout      quit           2   \n",
       "1385486158  7af57fb07e7a95d2  Turkey_(bird)  restart  continue           3   \n",
       "1350482490  7c603b7970c0bde1   Adolf_Hitler  timeout      quit           4   \n",
       "1347903833  7d5624e35c9523ef    The_X-Files  restart  continue          40   \n",
       "1383934756  7e5638b972fd2a9f   Playing_card  timeout      quit           7   \n",
       "\n",
       "            n_withdraws                                           end_node  \\\n",
       "timestamp                                                                    \n",
       "1384808209            1  Wikipedia_Text_of_the_GNU_Free_Documentation_L...   \n",
       "1386341594            4                                        Santa_Claus   \n",
       "1384810111            1  Wikipedia_Text_of_the_GNU_Free_Documentation_L...   \n",
       "1349217358            0                                       Osteomalacia   \n",
       "1383948357            0  Wikipedia_Text_of_the_GNU_Free_Documentation_L...   \n",
       "...                 ...                                                ...   \n",
       "1358613735            0  Wikipedia_Text_of_the_GNU_Free_Documentation_L...   \n",
       "1385486158            0  Wikipedia_Text_of_the_GNU_Free_Documentation_L...   \n",
       "1350482490            1  Wikipedia_Text_of_the_GNU_Free_Documentation_L...   \n",
       "1347903833            1  Wikipedia_Text_of_the_GNU_Free_Documentation_L...   \n",
       "1383934756            0  Wikipedia_Text_of_the_GNU_Free_Documentation_L...   \n",
       "\n",
       "                                        M_path_dist_to_target  \\\n",
       "timestamp                                                       \n",
       "1384808209  [4, 3, 4, 3, 4, 4, 4, 4, 5, 5, 4, 4, 5, 5, 4, ...   \n",
       "1386341594  [inf, inf, inf, inf, inf, inf, inf, inf, inf, ...   \n",
       "1384810111  [4, 4, 4, 4, 4, 3, 3, 3, 2, 3, 5, 5, 5, 5, 4, ...   \n",
       "1349217358    [3, 2, 3, 3, 3, 2, 3, 3, 4, 3, 2, 3, 3, 3, inf]   \n",
       "1383948357                                           [3, inf]   \n",
       "...                                                       ...   \n",
       "1358613735                                           [3, inf]   \n",
       "1385486158                                        [3, 3, inf]   \n",
       "1350482490                                   [2, inf, 2, inf]   \n",
       "1347903833  [3, 3, 4, 3, 3, 3, 4, 3, 3, 3, 3, 3, 4, 3, 4, ...   \n",
       "1383934756                            [4, 4, 4, 4, 4, 4, inf]   \n",
       "\n",
       "                                        P_path_dist_to_target  \\\n",
       "timestamp                                                       \n",
       "1384808209  [5, 5, 5, 5, 5, 4, 3, 5, 5, 5, 4, 4, 5, 5, 5, ...   \n",
       "1386341594  [inf, inf, inf, inf, inf, inf, inf, inf, inf, ...   \n",
       "1384810111  [5, 5, 4, 4, 4, 3, 3, 3, 2, 3, 5, 5, 5, 4, 4, ...   \n",
       "1349217358    [4, 3, 3, 3, 3, 2, 3, 3, 4, 3, 2, 3, 3, 3, inf]   \n",
       "1383948357                                           [3, inf]   \n",
       "...                                                       ...   \n",
       "1358613735                                           [3, inf]   \n",
       "1385486158                                        [3, 3, inf]   \n",
       "1350482490                                   [3, inf, 3, inf]   \n",
       "1347903833  [4, 4, 4, 4, 4, 4, 4, 4, 4, 4, 4, 4, 4, 4, 4, ...   \n",
       "1383934756                            [4, 4, 4, 4, 4, 4, inf]   \n",
       "\n",
       "            M_dist_to_target  P_dist_to_target  \n",
       "timestamp                                       \n",
       "1384808209               inf               inf  \n",
       "1386341594               inf               inf  \n",
       "1384810111               inf               inf  \n",
       "1349217358               inf               inf  \n",
       "1383948357               inf               inf  \n",
       "...                      ...               ...  \n",
       "1358613735               inf               inf  \n",
       "1385486158               inf               inf  \n",
       "1350482490               inf               inf  \n",
       "1347903833               inf               inf  \n",
       "1383934756               inf               inf  \n",
       "\n",
       "[101 rows x 12 columns]"
      ]
     },
     "execution_count": 181,
     "metadata": {},
     "output_type": "execute_result"
    }
   ],
   "source": [
    "#The runs that were theoretically impossible to complete without taking withdraws, meaning the player went into a dead end\n",
    "end_node_df[end_node_df['M_dist_to_target']==np.inf]"
   ]
  },
  {
   "cell_type": "code",
   "execution_count": 182,
   "id": "8e941050",
   "metadata": {},
   "outputs": [
    {
     "data": {
      "text/html": [
       "<div>\n",
       "<style scoped>\n",
       "    .dataframe tbody tr th:only-of-type {\n",
       "        vertical-align: middle;\n",
       "    }\n",
       "\n",
       "    .dataframe tbody tr th {\n",
       "        vertical-align: top;\n",
       "    }\n",
       "\n",
       "    .dataframe thead th {\n",
       "        text-align: right;\n",
       "    }\n",
       "</style>\n",
       "<table border=\"1\" class=\"dataframe\">\n",
       "  <thead>\n",
       "    <tr style=\"text-align: right;\">\n",
       "      <th></th>\n",
       "      <th>path</th>\n",
       "      <th>hashedIpAddress</th>\n",
       "      <th>target</th>\n",
       "      <th>type</th>\n",
       "      <th>bh_type</th>\n",
       "      <th>pathLength</th>\n",
       "      <th>n_withdraws</th>\n",
       "      <th>end_node</th>\n",
       "      <th>M_path_dist_to_target</th>\n",
       "      <th>P_path_dist_to_target</th>\n",
       "      <th>M_dist_to_target</th>\n",
       "      <th>P_dist_to_target</th>\n",
       "    </tr>\n",
       "    <tr>\n",
       "      <th>timestamp</th>\n",
       "      <th></th>\n",
       "      <th></th>\n",
       "      <th></th>\n",
       "      <th></th>\n",
       "      <th></th>\n",
       "      <th></th>\n",
       "      <th></th>\n",
       "      <th></th>\n",
       "      <th></th>\n",
       "      <th></th>\n",
       "      <th></th>\n",
       "      <th></th>\n",
       "    </tr>\n",
       "  </thead>\n",
       "  <tbody>\n",
       "    <tr>\n",
       "      <th>1322462878</th>\n",
       "      <td>[Forrest_Gump, Banana, Monkey, Chimpanzee, Bon...</td>\n",
       "      <td>0045bac960aed861</td>\n",
       "      <td>Phoenix_Zoo</td>\n",
       "      <td>restart</td>\n",
       "      <td>continue</td>\n",
       "      <td>5</td>\n",
       "      <td>0</td>\n",
       "      <td>Bonobo</td>\n",
       "      <td>[5, 5, 5, 6, 5]</td>\n",
       "      <td>[inf, inf, inf, inf, inf]</td>\n",
       "      <td>5.0</td>\n",
       "      <td>inf</td>\n",
       "    </tr>\n",
       "    <tr>\n",
       "      <th>1357658983</th>\n",
       "      <td>[Helen_Gandy, Trout, Fish, Fishing]</td>\n",
       "      <td>008f1a3955dd2951</td>\n",
       "      <td>Worm</td>\n",
       "      <td>restart</td>\n",
       "      <td>continue</td>\n",
       "      <td>4</td>\n",
       "      <td>0</td>\n",
       "      <td>Fishing</td>\n",
       "      <td>[4, 4, 4, 4]</td>\n",
       "      <td>[inf, inf, inf, inf]</td>\n",
       "      <td>4.0</td>\n",
       "      <td>inf</td>\n",
       "    </tr>\n",
       "    <tr>\n",
       "      <th>1334309272</th>\n",
       "      <td>[Batholith, Ancient_Rome, Poetry, English_lang...</td>\n",
       "      <td>00a6e14e5343bc97</td>\n",
       "      <td>Charlotte's_Web</td>\n",
       "      <td>timeout</td>\n",
       "      <td>quit</td>\n",
       "      <td>6</td>\n",
       "      <td>0</td>\n",
       "      <td>United_States</td>\n",
       "      <td>[5, 4, 4, 4, 4, 3]</td>\n",
       "      <td>[inf, inf, inf, inf, inf, inf]</td>\n",
       "      <td>3.0</td>\n",
       "      <td>inf</td>\n",
       "    </tr>\n",
       "    <tr>\n",
       "      <th>1349416840</th>\n",
       "      <td>[Ancient_Greece, 19th_century, 20th_century]</td>\n",
       "      <td>00e03ddb7cfc50f3</td>\n",
       "      <td>Battle_of_Smolensk_(1943)</td>\n",
       "      <td>timeout</td>\n",
       "      <td>quit</td>\n",
       "      <td>3</td>\n",
       "      <td>0</td>\n",
       "      <td>20th_century</td>\n",
       "      <td>[4, 3, 3]</td>\n",
       "      <td>[inf, inf, inf]</td>\n",
       "      <td>3.0</td>\n",
       "      <td>inf</td>\n",
       "    </tr>\n",
       "    <tr>\n",
       "      <th>1343364918</th>\n",
       "      <td>[Algebra]</td>\n",
       "      <td>012dbd5043bf9a52</td>\n",
       "      <td>Howards_End</td>\n",
       "      <td>timeout</td>\n",
       "      <td>quit</td>\n",
       "      <td>1</td>\n",
       "      <td>0</td>\n",
       "      <td>Algebra</td>\n",
       "      <td>[4]</td>\n",
       "      <td>[inf]</td>\n",
       "      <td>4.0</td>\n",
       "      <td>inf</td>\n",
       "    </tr>\n",
       "    <tr>\n",
       "      <th>...</th>\n",
       "      <td>...</td>\n",
       "      <td>...</td>\n",
       "      <td>...</td>\n",
       "      <td>...</td>\n",
       "      <td>...</td>\n",
       "      <td>...</td>\n",
       "      <td>...</td>\n",
       "      <td>...</td>\n",
       "      <td>...</td>\n",
       "      <td>...</td>\n",
       "      <td>...</td>\n",
       "      <td>...</td>\n",
       "    </tr>\n",
       "    <tr>\n",
       "      <th>1311571701</th>\n",
       "      <td>[Trimurti, Christianity, Europe, Italy, Renais...</td>\n",
       "      <td>7f620b00002571d3</td>\n",
       "      <td>Bicycle_Thieves</td>\n",
       "      <td>restart</td>\n",
       "      <td>continue</td>\n",
       "      <td>22</td>\n",
       "      <td>0</td>\n",
       "      <td>BBC</td>\n",
       "      <td>[5, 5, 4, 4, 5, 4, 4, 4, 4, 4, 4, 4, 4, 4, 4, ...</td>\n",
       "      <td>[inf, inf, inf, inf, inf, inf, inf, inf, inf, ...</td>\n",
       "      <td>4.0</td>\n",
       "      <td>inf</td>\n",
       "    </tr>\n",
       "    <tr>\n",
       "      <th>1358467704</th>\n",
       "      <td>[Florida_East_Coast_Railway, Atlantic_Coast_Li...</td>\n",
       "      <td>7f6ed23a44f7df3e</td>\n",
       "      <td>Henry_Rollins</td>\n",
       "      <td>timeout</td>\n",
       "      <td>quit</td>\n",
       "      <td>5</td>\n",
       "      <td>1</td>\n",
       "      <td>Henry_H._Rogers</td>\n",
       "      <td>[3, 3, 3, 3, 3]</td>\n",
       "      <td>[inf, inf, inf, inf, inf]</td>\n",
       "      <td>3.0</td>\n",
       "      <td>inf</td>\n",
       "    </tr>\n",
       "    <tr>\n",
       "      <th>1363839168</th>\n",
       "      <td>[Tajikistan, List_of_countries_by_system_of_go...</td>\n",
       "      <td>7f83d1a866bd3e6a</td>\n",
       "      <td>San_Diego_and_Arizona_Railway</td>\n",
       "      <td>restart</td>\n",
       "      <td>quit</td>\n",
       "      <td>6</td>\n",
       "      <td>1</td>\n",
       "      <td>California</td>\n",
       "      <td>[4, 4, 3, 3, 3, 3]</td>\n",
       "      <td>[inf, inf, inf, inf, inf, inf]</td>\n",
       "      <td>3.0</td>\n",
       "      <td>inf</td>\n",
       "    </tr>\n",
       "    <tr>\n",
       "      <th>1298700492</th>\n",
       "      <td>[Colossus_of_Rhodes]</td>\n",
       "      <td>7f8727253441c01c</td>\n",
       "      <td>Bushbuck</td>\n",
       "      <td>restart</td>\n",
       "      <td>continue</td>\n",
       "      <td>1</td>\n",
       "      <td>0</td>\n",
       "      <td>Colossus_of_Rhodes</td>\n",
       "      <td>[5]</td>\n",
       "      <td>[inf]</td>\n",
       "      <td>5.0</td>\n",
       "      <td>inf</td>\n",
       "    </tr>\n",
       "    <tr>\n",
       "      <th>1327518752</th>\n",
       "      <td>[Georgetown,_Guyana, George_III_of_the_United_...</td>\n",
       "      <td>7f8ff50611753d0e</td>\n",
       "      <td>Wren</td>\n",
       "      <td>timeout</td>\n",
       "      <td>quit</td>\n",
       "      <td>2</td>\n",
       "      <td>0</td>\n",
       "      <td>George_III_of_the_United_Kingdom</td>\n",
       "      <td>[6, 5]</td>\n",
       "      <td>[inf, inf]</td>\n",
       "      <td>5.0</td>\n",
       "      <td>inf</td>\n",
       "    </tr>\n",
       "  </tbody>\n",
       "</table>\n",
       "<p>668 rows × 12 columns</p>\n",
       "</div>"
      ],
      "text/plain": [
       "                                                         path  \\\n",
       "timestamp                                                       \n",
       "1322462878  [Forrest_Gump, Banana, Monkey, Chimpanzee, Bon...   \n",
       "1357658983                [Helen_Gandy, Trout, Fish, Fishing]   \n",
       "1334309272  [Batholith, Ancient_Rome, Poetry, English_lang...   \n",
       "1349416840       [Ancient_Greece, 19th_century, 20th_century]   \n",
       "1343364918                                          [Algebra]   \n",
       "...                                                       ...   \n",
       "1311571701  [Trimurti, Christianity, Europe, Italy, Renais...   \n",
       "1358467704  [Florida_East_Coast_Railway, Atlantic_Coast_Li...   \n",
       "1363839168  [Tajikistan, List_of_countries_by_system_of_go...   \n",
       "1298700492                               [Colossus_of_Rhodes]   \n",
       "1327518752  [Georgetown,_Guyana, George_III_of_the_United_...   \n",
       "\n",
       "             hashedIpAddress                         target     type  \\\n",
       "timestamp                                                              \n",
       "1322462878  0045bac960aed861                    Phoenix_Zoo  restart   \n",
       "1357658983  008f1a3955dd2951                           Worm  restart   \n",
       "1334309272  00a6e14e5343bc97                Charlotte's_Web  timeout   \n",
       "1349416840  00e03ddb7cfc50f3      Battle_of_Smolensk_(1943)  timeout   \n",
       "1343364918  012dbd5043bf9a52                    Howards_End  timeout   \n",
       "...                      ...                            ...      ...   \n",
       "1311571701  7f620b00002571d3                Bicycle_Thieves  restart   \n",
       "1358467704  7f6ed23a44f7df3e                  Henry_Rollins  timeout   \n",
       "1363839168  7f83d1a866bd3e6a  San_Diego_and_Arizona_Railway  restart   \n",
       "1298700492  7f8727253441c01c                       Bushbuck  restart   \n",
       "1327518752  7f8ff50611753d0e                           Wren  timeout   \n",
       "\n",
       "             bh_type  pathLength  n_withdraws  \\\n",
       "timestamp                                       \n",
       "1322462878  continue           5            0   \n",
       "1357658983  continue           4            0   \n",
       "1334309272      quit           6            0   \n",
       "1349416840      quit           3            0   \n",
       "1343364918      quit           1            0   \n",
       "...              ...         ...          ...   \n",
       "1311571701  continue          22            0   \n",
       "1358467704      quit           5            1   \n",
       "1363839168      quit           6            1   \n",
       "1298700492  continue           1            0   \n",
       "1327518752      quit           2            0   \n",
       "\n",
       "                                    end_node  \\\n",
       "timestamp                                      \n",
       "1322462878                            Bonobo   \n",
       "1357658983                           Fishing   \n",
       "1334309272                     United_States   \n",
       "1349416840                      20th_century   \n",
       "1343364918                           Algebra   \n",
       "...                                      ...   \n",
       "1311571701                               BBC   \n",
       "1358467704                   Henry_H._Rogers   \n",
       "1363839168                        California   \n",
       "1298700492                Colossus_of_Rhodes   \n",
       "1327518752  George_III_of_the_United_Kingdom   \n",
       "\n",
       "                                        M_path_dist_to_target  \\\n",
       "timestamp                                                       \n",
       "1322462878                                    [5, 5, 5, 6, 5]   \n",
       "1357658983                                       [4, 4, 4, 4]   \n",
       "1334309272                                 [5, 4, 4, 4, 4, 3]   \n",
       "1349416840                                          [4, 3, 3]   \n",
       "1343364918                                                [4]   \n",
       "...                                                       ...   \n",
       "1311571701  [5, 5, 4, 4, 5, 4, 4, 4, 4, 4, 4, 4, 4, 4, 4, ...   \n",
       "1358467704                                    [3, 3, 3, 3, 3]   \n",
       "1363839168                                 [4, 4, 3, 3, 3, 3]   \n",
       "1298700492                                                [5]   \n",
       "1327518752                                             [6, 5]   \n",
       "\n",
       "                                        P_path_dist_to_target  \\\n",
       "timestamp                                                       \n",
       "1322462878                          [inf, inf, inf, inf, inf]   \n",
       "1357658983                               [inf, inf, inf, inf]   \n",
       "1334309272                     [inf, inf, inf, inf, inf, inf]   \n",
       "1349416840                                    [inf, inf, inf]   \n",
       "1343364918                                              [inf]   \n",
       "...                                                       ...   \n",
       "1311571701  [inf, inf, inf, inf, inf, inf, inf, inf, inf, ...   \n",
       "1358467704                          [inf, inf, inf, inf, inf]   \n",
       "1363839168                     [inf, inf, inf, inf, inf, inf]   \n",
       "1298700492                                              [inf]   \n",
       "1327518752                                         [inf, inf]   \n",
       "\n",
       "            M_dist_to_target  P_dist_to_target  \n",
       "timestamp                                       \n",
       "1322462878               5.0               inf  \n",
       "1357658983               4.0               inf  \n",
       "1334309272               3.0               inf  \n",
       "1349416840               3.0               inf  \n",
       "1343364918               4.0               inf  \n",
       "...                      ...               ...  \n",
       "1311571701               4.0               inf  \n",
       "1358467704               3.0               inf  \n",
       "1363839168               3.0               inf  \n",
       "1298700492               5.0               inf  \n",
       "1327518752               5.0               inf  \n",
       "\n",
       "[668 rows x 12 columns]"
      ]
     },
     "execution_count": 182,
     "metadata": {},
     "output_type": "execute_result"
    }
   ],
   "source": [
    "#The runs that were theoretically possible to complete if players continued, yet no players were able to complete\n",
    "end_node_df[np.array(end_node_df['P_dist_to_target']==np.inf) & np.array(end_node_df['M_dist_to_target']!=np.inf)]"
   ]
  },
  {
   "cell_type": "code",
   "execution_count": 183,
   "id": "186b724b",
   "metadata": {},
   "outputs": [],
   "source": [
    "#People are faced with two options (i.e. restart and timeout) when they think the game is not necessary to go on.\n",
    "#We discuss the ratio (odds) of the two possible reactions and see how they are influenced under the two factors:\n",
    "#How far the player had gone.\n",
    "#How far from the target they were."
   ]
  },
  {
   "cell_type": "code",
   "execution_count": 184,
   "id": "f952b495",
   "metadata": {},
   "outputs": [
    {
     "name": "stdout",
     "output_type": "stream",
     "text": [
      "When in runs that are actually impossible to complete without withdraws. \n",
      "Ratio of number of restarts to number of timeouts 3.1666666666666665\n",
      "When in all runs. \n",
      "Ratio of number of restarts to number of timeouts 1.6681325753512817\n"
     ]
    }
   ],
   "source": [
    "#Question: Are people more likely to restart when faced with impossible runs?\n",
    "print('When in runs that are actually impossible to complete without withdraws. \\nRatio of number of restarts to number of timeouts', impossible_runs.groupby('type').size()[1]/impossible_runs.groupby('type').size()[2])\n",
    "print('When in all runs. \\nRatio of number of restarts to number of timeouts', paths_all.groupby('type').size()[1]/paths_all.groupby('type').size()[2])\n",
    "\n",
    "#It seems there's a singnificantly larger chance for people to restart when they are in a dead end. This gives rise to the hypotheses below:\n",
    "#'The restart runs are the runs people put more efforts into, and thus they are less likely to quit (timeout)'\n",
    "#'People have a sense of the distance to their targer. The further or closer they are to their targets (in the most extreme conditions the targets are not reachable), the more people are likely to retry'"
   ]
  },
  {
   "cell_type": "code",
   "execution_count": 185,
   "id": "48f665aa",
   "metadata": {},
   "outputs": [
    {
     "data": {
      "text/plain": [
       "[<matplotlib.lines.Line2D at 0x1e7683b73d0>]"
      ]
     },
     "execution_count": 185,
     "metadata": {},
     "output_type": "execute_result"
    },
    {
     "data": {
      "image/png": "[encoded data removed]",
      "text/plain": [
       "<Figure size 640x480 with 1 Axes>"
      ]
     },
     "metadata": {},
     "output_type": "display_data"
    }
   ],
   "source": [
    "#We then look into the relationship between 'How far the player had gone.' and the odds of each choice.\n",
    "#Filter out the outliers and increase the stability of the data\n",
    "_paths_unfinished = new_paths_all[new_paths_all['type'] != 'finished']\n",
    "dfd = _paths_unfinished.groupby('pathLength').size()\n",
    "path_length_list = list(dfd[dfd>200].index)\n",
    "\n",
    "_paths_restart = new_paths_all[new_paths_all['bh_type'] == 'continue']\n",
    "_paths_timeout = new_paths_all[new_paths_all['bh_type'] == 'quit']\n",
    "\n",
    "n_restart = np.array(_paths_restart[_paths_restart['pathLength'].isin(path_length_list)].groupby('pathLength').size())\n",
    "n_timeout = np.array(_paths_timeout[_paths_timeout['pathLength'].isin(path_length_list)].groupby('pathLength').size())\n",
    "\n",
    "print(n_timeout + n_restart)\n",
    "plt.plot(path_length_list,n_restart/n_timeout)\n",
    "\n",
    "#There seems to be an opposite relationship between 'How far the player had gone.' and the odds of each choice. \n",
    "#This confirms the hypothesis: 'The restart runs are the runs people put more efforts into, and thus they are less likely to quit (timeout)'"
   ]
  },
  {
   "cell_type": "markdown",
   "id": "de2f31c3",
   "metadata": {},
   "source": [
    "The pathLength did play a role in whether the players chose to retry (restart) or quit (timeout)"
   ]
  },
  {
   "cell_type": "code",
   "execution_count": 186,
   "id": "6dca34f5",
   "metadata": {},
   "outputs": [
    {
     "name": "stdout",
     "output_type": "stream",
     "text": [
      "[ 779 6601 9107 2672  367   86]\n"
     ]
    },
    {
     "data": {
      "text/plain": [
       "[<matplotlib.lines.Line2D at 0x1e77c9e90a0>]"
      ]
     },
     "execution_count": 186,
     "metadata": {},
     "output_type": "execute_result"
    },
    {
     "data": {
      "image/png": "[encoded data removed]",
      "text/plain": [
       "<Figure size 640x480 with 1 Axes>"
      ]
     },
     "metadata": {},
     "output_type": "display_data"
    }
   ],
   "source": [
    "#Filter out the outliers\n",
    "filtered_possible_runs = end_node_df[end_node_df['pathLength'] >1]\n",
    "_paths_unfinished = filtered_possible_runs[filtered_possible_runs['type'] != 'finished']\n",
    "dfd = _paths_unfinished.groupby('M_dist_to_target').size()\n",
    "path_length_list = list(dfd[dfd>50].index)\n",
    "\n",
    "_paths_restart = filtered_possible_runs[filtered_possible_runs['bh_type'] == 'continue']\n",
    "_paths_timeout = filtered_possible_runs[filtered_possible_runs['bh_type'] == 'quit']\n",
    "\n",
    "n_restart = np.array(_paths_restart[_paths_restart['M_dist_to_target'].isin(path_length_list)].groupby('M_dist_to_target').size())\n",
    "n_timeout = np.array(_paths_timeout[_paths_timeout['M_dist_to_target'].isin(path_length_list)].groupby('M_dist_to_target').size())\n",
    "\n",
    "print(n_timeout + n_restart)\n",
    "plt.plot(path_length_list,n_restart/n_timeout)"
   ]
  },
  {
   "cell_type": "code",
   "execution_count": 189,
   "id": "446c098d",
   "metadata": {},
   "outputs": [
    {
     "name": "stdout",
     "output_type": "stream",
     "text": [
      "[ 908 6636 8604 2564  311  614]\n"
     ]
    },
    {
     "data": {
      "text/plain": [
       "[<matplotlib.lines.Line2D at 0x1e72cda8790>]"
      ]
     },
     "execution_count": 189,
     "metadata": {},
     "output_type": "execute_result"
    },
    {
     "data": {
      "image/png": "[encoded data removed]",
      "text/plain": [
       "<Figure size 640x480 with 1 Axes>"
      ]
     },
     "metadata": {},
     "output_type": "display_data"
    }
   ],
   "source": [
    "#Filter out the outliers\n",
    "filtered_possible_runs = end_node_df[end_node_df['pathLength'] >1]\n",
    "_paths_unfinished = filtered_possible_runs[filtered_possible_runs['type'] != 'finished']\n",
    "dfd = _paths_unfinished.groupby('P_dist_to_target').size()\n",
    "path_length_list = list(dfd[dfd>50].index)\n",
    "\n",
    "_paths_restart = filtered_possible_runs[filtered_possible_runs['bh_type'] == 'continue']\n",
    "_paths_timeout = filtered_possible_runs[filtered_possible_runs['bh_type'] == 'quit']\n",
    "\n",
    "n_restart = np.array(_paths_restart[_paths_restart['P_dist_to_target'].isin(path_length_list)].groupby('P_dist_to_target').size())\n",
    "n_timeout = np.array(_paths_timeout[_paths_timeout['P_dist_to_target'].isin(path_length_list)].groupby('P_dist_to_target').size())\n",
    "\n",
    "print(n_timeout + n_restart)\n",
    "plt.plot(path_length_list,n_restart/n_timeout)"
   ]
  },
  {
   "cell_type": "code",
   "execution_count": 124,
   "id": "9369a258",
   "metadata": {},
   "outputs": [],
   "source": [
    "#Why there's a significant drop from dist 1 to 2 ?\n",
    "#The drop seems to suggest that when the player is only on step to the target, they are more likely to choose to restart.\n",
    "\n",
    "#The ratio gets significantly low when the remaining distance reaches 2, why is this?"
   ]
  },
  {
   "cell_type": "code",
   "execution_count": 129,
   "id": "d1e6742a",
   "metadata": {},
   "outputs": [
    {
     "data": {
      "text/html": [
       "<div>\n",
       "<style scoped>\n",
       "    .dataframe tbody tr th:only-of-type {\n",
       "        vertical-align: middle;\n",
       "    }\n",
       "\n",
       "    .dataframe tbody tr th {\n",
       "        vertical-align: top;\n",
       "    }\n",
       "\n",
       "    .dataframe thead th {\n",
       "        text-align: right;\n",
       "    }\n",
       "</style>\n",
       "<table border=\"1\" class=\"dataframe\">\n",
       "  <thead>\n",
       "    <tr style=\"text-align: right;\">\n",
       "      <th></th>\n",
       "      <th>path</th>\n",
       "      <th>hashedIpAddress</th>\n",
       "      <th>target</th>\n",
       "      <th>type</th>\n",
       "      <th>pathLength</th>\n",
       "      <th>n_withdraws</th>\n",
       "      <th>end_node</th>\n",
       "      <th>M_path_dist_to_target</th>\n",
       "      <th>P_path_dist_to_target</th>\n",
       "      <th>M_dist_to_target</th>\n",
       "      <th>P_dist_to_target</th>\n",
       "    </tr>\n",
       "  </thead>\n",
       "  <tbody>\n",
       "    <tr>\n",
       "      <th>2</th>\n",
       "      <td>[Malawi, Democracy, Alexander_the_Great]</td>\n",
       "      <td>2b015fb8181c48f2</td>\n",
       "      <td>First_Crusade</td>\n",
       "      <td>timeout</td>\n",
       "      <td>3</td>\n",
       "      <td>0</td>\n",
       "      <td>Alexander_the_Great</td>\n",
       "      <td>[3, 3, 2]</td>\n",
       "      <td>[3, 3, 2]</td>\n",
       "      <td>2.0</td>\n",
       "      <td>2.0</td>\n",
       "    </tr>\n",
       "    <tr>\n",
       "      <th>5</th>\n",
       "      <td>[Agriculture, History_of_the_world, China, Yan...</td>\n",
       "      <td>131600803df4895e</td>\n",
       "      <td>Grand_Canal_of_China</td>\n",
       "      <td>timeout</td>\n",
       "      <td>4</td>\n",
       "      <td>0</td>\n",
       "      <td>Yangtze_River</td>\n",
       "      <td>[3, 2, 2, 2]</td>\n",
       "      <td>[2, 2, 2, 2]</td>\n",
       "      <td>2.0</td>\n",
       "      <td>2.0</td>\n",
       "    </tr>\n",
       "    <tr>\n",
       "      <th>6</th>\n",
       "      <td>[Mind, Christianity, Europe, Renaissance, Anci...</td>\n",
       "      <td>486bb79910fe9dd2</td>\n",
       "      <td>Scouting</td>\n",
       "      <td>timeout</td>\n",
       "      <td>7</td>\n",
       "      <td>0</td>\n",
       "      <td>Asia</td>\n",
       "      <td>[4, 4, 3, 3, 3, 3, 3]</td>\n",
       "      <td>[4, 3, 3, 4, 4, 3, 3]</td>\n",
       "      <td>3.0</td>\n",
       "      <td>3.0</td>\n",
       "    </tr>\n",
       "    <tr>\n",
       "      <th>7</th>\n",
       "      <td>[4-2-0, United_States, Agriculture, Sugar, Aus...</td>\n",
       "      <td>6d136e371e42474f</td>\n",
       "      <td>Cane_Toad</td>\n",
       "      <td>restart</td>\n",
       "      <td>5</td>\n",
       "      <td>0</td>\n",
       "      <td>Australia</td>\n",
       "      <td>[5, 4, 4, 4, 4]</td>\n",
       "      <td>[3, 2, 3, 3, 3]</td>\n",
       "      <td>4.0</td>\n",
       "      <td>3.0</td>\n",
       "    </tr>\n",
       "    <tr>\n",
       "      <th>9</th>\n",
       "      <td>[Logic, Computer_science, Science, Physical_sc...</td>\n",
       "      <td>6d136e371e42474f</td>\n",
       "      <td>Moon_landing</td>\n",
       "      <td>timeout</td>\n",
       "      <td>9</td>\n",
       "      <td>0</td>\n",
       "      <td>Neil_Armstrong</td>\n",
       "      <td>[3, 3, 3, 3, 3, 3, 2, 1, 2]</td>\n",
       "      <td>[3, 3, 3, 3, 3, 3, 2, 1, 2]</td>\n",
       "      <td>2.0</td>\n",
       "      <td>2.0</td>\n",
       "    </tr>\n",
       "    <tr>\n",
       "      <th>...</th>\n",
       "      <td>...</td>\n",
       "      <td>...</td>\n",
       "      <td>...</td>\n",
       "      <td>...</td>\n",
       "      <td>...</td>\n",
       "      <td>...</td>\n",
       "      <td>...</td>\n",
       "      <td>...</td>\n",
       "      <td>...</td>\n",
       "      <td>...</td>\n",
       "      <td>...</td>\n",
       "    </tr>\n",
       "    <tr>\n",
       "      <th>24869</th>\n",
       "      <td>[Turks_and_Caicos_Islands, United_States, Iraq...</td>\n",
       "      <td>109ed71f571d86e9</td>\n",
       "      <td>Iraq_War</td>\n",
       "      <td>restart</td>\n",
       "      <td>6</td>\n",
       "      <td>0</td>\n",
       "      <td>War</td>\n",
       "      <td>[3, 2, 2, 2, 2, 2]</td>\n",
       "      <td>[3, 2, 2, 2, 2, 2]</td>\n",
       "      <td>2.0</td>\n",
       "      <td>2.0</td>\n",
       "    </tr>\n",
       "    <tr>\n",
       "      <th>24870</th>\n",
       "      <td>[Franz_Kafka, Tuberculosis, World_Health_Organ...</td>\n",
       "      <td>109ed71f571d86e9</td>\n",
       "      <td>Cholera</td>\n",
       "      <td>restart</td>\n",
       "      <td>8</td>\n",
       "      <td>1</td>\n",
       "      <td>Ghana</td>\n",
       "      <td>[3, 2, 3, 2, 3, 2, 2, 2]</td>\n",
       "      <td>[3, 2, 3, 2, 3, 2, 2, 2]</td>\n",
       "      <td>2.0</td>\n",
       "      <td>2.0</td>\n",
       "    </tr>\n",
       "    <tr>\n",
       "      <th>24872</th>\n",
       "      <td>[Computer_programming, Linguistics, Culture, P...</td>\n",
       "      <td>2e09a7224600a7cd</td>\n",
       "      <td>The_Beatles</td>\n",
       "      <td>timeout</td>\n",
       "      <td>5</td>\n",
       "      <td>1</td>\n",
       "      <td>Culture</td>\n",
       "      <td>[3, 3, 3, 2, 3]</td>\n",
       "      <td>[3, 3, 2, 2, 2]</td>\n",
       "      <td>3.0</td>\n",
       "      <td>2.0</td>\n",
       "    </tr>\n",
       "    <tr>\n",
       "      <th>24873</th>\n",
       "      <td>[Jamaica, United_Kingdom, World_War_II, Battle...</td>\n",
       "      <td>60af9e2138051b96</td>\n",
       "      <td>Alan_Turing</td>\n",
       "      <td>timeout</td>\n",
       "      <td>4</td>\n",
       "      <td>0</td>\n",
       "      <td>Battle_of_Midway</td>\n",
       "      <td>[3, 2, 3, 4]</td>\n",
       "      <td>[3, 2, 2, 3]</td>\n",
       "      <td>4.0</td>\n",
       "      <td>3.0</td>\n",
       "    </tr>\n",
       "    <tr>\n",
       "      <th>24874</th>\n",
       "      <td>[Mark_Antony, Rome, Tennis, Hawk-Eye, Computer]</td>\n",
       "      <td>1cf0cbb3281049ab</td>\n",
       "      <td>Feather</td>\n",
       "      <td>restart</td>\n",
       "      <td>5</td>\n",
       "      <td>0</td>\n",
       "      <td>Computer</td>\n",
       "      <td>[3, 3, 3, 4, 4]</td>\n",
       "      <td>[3, 3, 3, 4, 3]</td>\n",
       "      <td>4.0</td>\n",
       "      <td>3.0</td>\n",
       "    </tr>\n",
       "  </tbody>\n",
       "</table>\n",
       "<p>16438 rows × 11 columns</p>\n",
       "</div>"
      ],
      "text/plain": [
       "                                                    path   hashedIpAddress  \\\n",
       "2               [Malawi, Democracy, Alexander_the_Great]  2b015fb8181c48f2   \n",
       "5      [Agriculture, History_of_the_world, China, Yan...  131600803df4895e   \n",
       "6      [Mind, Christianity, Europe, Renaissance, Anci...  486bb79910fe9dd2   \n",
       "7      [4-2-0, United_States, Agriculture, Sugar, Aus...  6d136e371e42474f   \n",
       "9      [Logic, Computer_science, Science, Physical_sc...  6d136e371e42474f   \n",
       "...                                                  ...               ...   \n",
       "24869  [Turks_and_Caicos_Islands, United_States, Iraq...  109ed71f571d86e9   \n",
       "24870  [Franz_Kafka, Tuberculosis, World_Health_Organ...  109ed71f571d86e9   \n",
       "24872  [Computer_programming, Linguistics, Culture, P...  2e09a7224600a7cd   \n",
       "24873  [Jamaica, United_Kingdom, World_War_II, Battle...  60af9e2138051b96   \n",
       "24874    [Mark_Antony, Rome, Tennis, Hawk-Eye, Computer]  1cf0cbb3281049ab   \n",
       "\n",
       "                     target     type  pathLength  n_withdraws  \\\n",
       "2             First_Crusade  timeout           3            0   \n",
       "5      Grand_Canal_of_China  timeout           4            0   \n",
       "6                  Scouting  timeout           7            0   \n",
       "7                 Cane_Toad  restart           5            0   \n",
       "9              Moon_landing  timeout           9            0   \n",
       "...                     ...      ...         ...          ...   \n",
       "24869              Iraq_War  restart           6            0   \n",
       "24870               Cholera  restart           8            1   \n",
       "24872           The_Beatles  timeout           5            1   \n",
       "24873           Alan_Turing  timeout           4            0   \n",
       "24874               Feather  restart           5            0   \n",
       "\n",
       "                  end_node        M_path_dist_to_target  \\\n",
       "2      Alexander_the_Great                    [3, 3, 2]   \n",
       "5            Yangtze_River                 [3, 2, 2, 2]   \n",
       "6                     Asia        [4, 4, 3, 3, 3, 3, 3]   \n",
       "7                Australia              [5, 4, 4, 4, 4]   \n",
       "9           Neil_Armstrong  [3, 3, 3, 3, 3, 3, 2, 1, 2]   \n",
       "...                    ...                          ...   \n",
       "24869                  War           [3, 2, 2, 2, 2, 2]   \n",
       "24870                Ghana     [3, 2, 3, 2, 3, 2, 2, 2]   \n",
       "24872              Culture              [3, 3, 3, 2, 3]   \n",
       "24873     Battle_of_Midway                 [3, 2, 3, 4]   \n",
       "24874             Computer              [3, 3, 3, 4, 4]   \n",
       "\n",
       "             P_path_dist_to_target  M_dist_to_target  P_dist_to_target  \n",
       "2                        [3, 3, 2]               2.0               2.0  \n",
       "5                     [2, 2, 2, 2]               2.0               2.0  \n",
       "6            [4, 3, 3, 4, 4, 3, 3]               3.0               3.0  \n",
       "7                  [3, 2, 3, 3, 3]               4.0               3.0  \n",
       "9      [3, 3, 3, 3, 3, 3, 2, 1, 2]               2.0               2.0  \n",
       "...                            ...               ...               ...  \n",
       "24869           [3, 2, 2, 2, 2, 2]               2.0               2.0  \n",
       "24870     [3, 2, 3, 2, 3, 2, 2, 2]               2.0               2.0  \n",
       "24872              [3, 3, 2, 2, 2]               3.0               2.0  \n",
       "24873                 [3, 2, 2, 3]               4.0               3.0  \n",
       "24874              [3, 3, 3, 4, 3]               4.0               3.0  \n",
       "\n",
       "[16438 rows x 11 columns]"
      ]
     },
     "execution_count": 129,
     "metadata": {},
     "output_type": "execute_result"
    }
   ],
   "source": [
    "end_node_df[np.array(end_node_df['pathLength']>=3) & np.array(end_node_df['type'] != 'finished')]"
   ]
  },
  {
   "cell_type": "code",
   "execution_count": 109,
   "id": "a0781aec",
   "metadata": {},
   "outputs": [
    {
     "name": "stdout",
     "output_type": "stream",
     "text": [
      "Mean remaining distance for restarts 2.8652752649263378\n",
      "Mean remaining distance for timeouts 2.8276158726744813\n"
     ]
    }
   ],
   "source": [
    "#Mean distance for each cases when the runs end\n",
    "possible_runs = end_node_df[end_node_df['M_dist_to_target']!=np.inf]\n",
    "impossible_runs = end_node_df[end_node_df['M_dist_to_target']==np.inf]\n",
    "print('Mean remaining distance for restarts', possible_runs.groupby('type')['M_dist_to_target'].mean()[1])\n",
    "print('Mean remaining distance for timeouts', possible_runs.groupby('type')['M_dist_to_target'].mean()[2])\n",
    "#No significant difference it seems"
   ]
  },
  {
   "cell_type": "code",
   "execution_count": 62,
   "id": "3d35e5c4",
   "metadata": {},
   "outputs": [],
   "source": [
    "restart_runs = possible_runs[possible_runs['type']=='restart']\n",
    "timeout_runs = possible_runs[possible_runs['type']=='timeout']"
   ]
  },
  {
   "cell_type": "code",
   "execution_count": 65,
   "id": "b2a12595",
   "metadata": {},
   "outputs": [
    {
     "data": {
      "text/plain": [
       "<AxesSubplot:>"
      ]
     },
     "execution_count": 65,
     "metadata": {},
     "output_type": "execute_result"
    },
    {
     "data": {
      "image/png": "[encoded data removed]",
      "text/plain": [
       "<Figure size 640x480 with 1 Axes>"
      ]
     },
     "metadata": {},
     "output_type": "display_data"
    }
   ],
   "source": [
    "restart_runs['M_dist_to_target'].hist()\n",
    "timeout_runs['M_dist_to_target'].hist()"
   ]
  }
 ],
 "metadata": {
  "kernelspec": {
   "display_name": "Python 3 (ipykernel)",
   "language": "python",
   "name": "python3"
  },
  "language_info": {
   "codemirror_mode": {
    "name": "ipython",
    "version": 3
   },
   "file_extension": ".py",
   "mimetype": "text/x-python",
   "name": "python",
   "nbconvert_exporter": "python",
   "pygments_lexer": "ipython3",
   "version": "3.9.7"
  }
 },
 "nbformat": 4,
 "nbformat_minor": 5
}
