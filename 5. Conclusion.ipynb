{
 "cells": [
  {
   "cell_type": "markdown",
   "id": "f9d24a54",
   "metadata": {},
   "source": [
    "## What did we find?\n",
    "### From between game histories:\n",
    "- In total there are about 75 % of the players that finish all the time or that finish partially. About 25 % percent of all the players never finished, which is a hudge loss of data. Figures showed that they also have played less games. It seems that they got quicker unmotivated and therefore stopped playing the game.\n",
    "- The biggest influence on the success of a player in the last game, could have been detected in biggest streak of finished paths before the last game. It seems like the longer the tail also the motivation of the player to finish again a game was bigger.\n",
    "- The number of unfinished games, the tail of the unfinished games before the last game and also the time passed between the first and the last game have a negative influence on the success playing the last game. It seems like the motivation got down and therefore also the success rate. \n",
    "\n",
    "### From in game histories:\n",
    "- We found that runs start and end with pages of different categories have different success rate. For the starting pages, for instance, we found that starting with \"Engineers_and_inventors\" is distinctly easier than starting with \"Architecture\". Same can be found for target pages, for instance, we found that using \"General_Literature\" as the target is significantly harder than \"European_Countries\". And thus we can generate a score for each category to measure their difficulty by their success rate.\n",
    "\n",
    "- Beside this, we generated the progress score, which has the ability to discriminate between a run that is going to be finished and a run that is going to fail judging from the path the player took. Progress score reflects the feeling player has about their progress. It could be an indicator of whether the player is in need for hints.\n",
    "\n",
    "- In addition, we found that there is a magical number which is path length 5. Firstly, we found that games with path length (operation step) 5 are more likely to be a winning game. The path length (operation step) at which people are closest to their targets is also around 5. And we also found that their motivation increases with path length (operation step) and reaches plateau at path length 5. We can use this information to answer our RQs.\n",
    "\n",
    "### From logistic regression:\n",
    "- We found that the features that have the biggest impact on the sucess of a player is the number of finish games that he had in a streak and the target page of the game, the number of unfinished game in the history and the streak of unfinished games. With this we were able to have a F1-score of 0.75 and predict with good accuracy if the player will suceed. \n",
    "- This permits us to adapt the game of the player if we think he/she would not succeed so that he can finish the game and play more so that we have more data to do interesting research."
   ]
  },
  {
   "cell_type": "markdown",
   "id": "0fd1dcc0",
   "metadata": {},
   "source": [
    "## How to answer our research questions?\n",
    "### Q1:\n",
    "Can we set up a simple logistic model that can predict if a player is more likely to stop the game or finish it based on the history of the games played by the player and based on the start and target article?\n",
    "\n",
    "### A1:\n",
    "**Yes**, we successfully set up a logistic regression model to predict the result of a run. We used (...) as our features, and we reached the precision of (...) and recall of (...), which validated this model in terms of predicting the result of a game.(Text here)\n",
    " \n",
    "### Q2:\n",
    "How can the results of the logistic regression be included in a set-up for a game that is likely to incentivize people to stay engaged and play more games?\n",
    "\n",
    "### A2:\n",
    "The logistic regression shows how likely it is that the player will finish or not based on the player's history and the starting and target article. It showed that especially if the player had a long streak of finished games, the player was more likely to also finish the last game. Player's who had more unfinished paths before and also who had a long tail of unfinished paths before the last game, are more likely to not finish the last game. Therfore the goal is that there are not to many unfinished paths so that a player can at least finish sometimes. This will keep up the motivation to play more times. To achieve that the player will continue playing, the information about starting and target pages can be used. Therefore there are easier games that should be prefered in cases like that. More possiblities to help keep the player motivated during a game are shown in the answer of Q3.\n",
    "\n",
    "### Q3:\n",
    "How to make the game easier for the players and give hints to them when necessary to keep them motivated?\n",
    "\n",
    "### A3:\n",
    "From our findings, we learned a lot of useful techniques to understand players' actions in a run. Starting and target category and progress score tell us the situation of the player, while the magical number 5 indicates when intervene is necessary to keep players motivated. For instance, we can set up a mechanism as below:\n",
    "#### When to intervene:\n",
    " - Consider it necessery to give hints when player theoretically can't finish a game at path length 5 or slightly greater than 5 (6 or 7), because longer path length hinders their motivation.\n",
    " - Be alerted if the distance drops too fast or the progress score fails to increase as the game progresses, because this may indicate a failed game and that the player might need hints.\n",
    " \n",
    "#### How to intervene:\n",
    " - Thinking of the category the player is in as starting category, we can try to direct the player to a easier category.\n",
    " - Guiding their path in the graph only when necessary (under conditions in \"When to intervene\").\n",
    " - Add more difficulty to master players so that their path lengths are not too smaller than 5, in order to keep their motivation to continue playing, since shorter path length means less chance to keep playing.\n"
   ]
  }
 ],
 "metadata": {
  "kernelspec": {
   "display_name": "Python 3 (ipykernel)",
   "language": "python",
   "name": "python3"
  },
  "language_info": {
   "codemirror_mode": {
    "name": "ipython",
    "version": 3
   },
   "file_extension": ".py",
   "mimetype": "text/x-python",
   "name": "python",
   "nbconvert_exporter": "python",
   "pygments_lexer": "ipython3",
   "version": "3.9.7"
  }
 },
 "nbformat": 4,
 "nbformat_minor": 5
}
